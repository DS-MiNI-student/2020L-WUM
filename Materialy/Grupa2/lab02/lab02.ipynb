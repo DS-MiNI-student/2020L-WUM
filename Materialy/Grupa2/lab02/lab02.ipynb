{
 "cells": [
  {
   "cell_type": "markdown",
   "metadata": {},
   "source": [
    "# Lab 02\n",
    "- Missing values\n",
    "- Outliers\n",
    "- Binning\n",
    "- Transformations\n",
    "- Categorical Encoding\n",
    "- Scalling"
   ]
  },
  {
   "cell_type": "code",
   "execution_count": null,
   "metadata": {
    "ExecuteTime": {
     "end_time": "2020-03-03T16:05:32.882704Z",
     "start_time": "2020-03-03T16:05:31.794063Z"
    }
   },
   "outputs": [],
   "source": [
    "import pandas as pd\n",
    "import numpy as np\n",
    "import sklearn\n",
    "import matplotlib.pyplot as plt"
   ]
  },
  {
   "cell_type": "code",
   "execution_count": null,
   "metadata": {
    "ExecuteTime": {
     "end_time": "2020-03-03T16:05:32.890756Z",
     "start_time": "2020-03-03T16:05:32.883659Z"
    }
   },
   "outputs": [],
   "source": [
    "data = pd.read_csv('train.csv')"
   ]
  },
  {
   "cell_type": "code",
   "execution_count": null,
   "metadata": {
    "ExecuteTime": {
     "end_time": "2020-03-03T16:05:32.913849Z",
     "start_time": "2020-03-03T16:05:32.891711Z"
    }
   },
   "outputs": [],
   "source": [
    "data.head()"
   ]
  },
  {
   "cell_type": "code",
   "execution_count": null,
   "metadata": {
    "ExecuteTime": {
     "end_time": "2020-03-03T16:05:32.921652Z",
     "start_time": "2020-03-03T16:05:32.914835Z"
    }
   },
   "outputs": [],
   "source": [
    "data.dtypes"
   ]
  },
  {
   "cell_type": "markdown",
   "metadata": {},
   "source": [
    "## Missing values"
   ]
  },
  {
   "cell_type": "code",
   "execution_count": null,
   "metadata": {
    "ExecuteTime": {
     "end_time": "2020-03-03T16:05:32.932618Z",
     "start_time": "2020-03-03T16:05:32.922614Z"
    }
   },
   "outputs": [],
   "source": [
    "na_ratio_cols = data.isna().mean(axis=0)\n",
    "na_ratio_cols"
   ]
  },
  {
   "cell_type": "markdown",
   "metadata": {},
   "source": [
    "### Usuwanie kolumn"
   ]
  },
  {
   "cell_type": "code",
   "execution_count": null,
   "metadata": {
    "ExecuteTime": {
     "end_time": "2020-03-03T16:05:32.939404Z",
     "start_time": "2020-03-03T16:05:32.933583Z"
    }
   },
   "outputs": [],
   "source": [
    "data.shape"
   ]
  },
  {
   "cell_type": "code",
   "execution_count": null,
   "metadata": {
    "ExecuteTime": {
     "end_time": "2020-03-03T16:05:32.950166Z",
     "start_time": "2020-03-03T16:05:32.940374Z"
    }
   },
   "outputs": [],
   "source": [
    "# Usunięcie kolumn gdzie odsetek NA przekracza próg\n",
    "data[data.columns[na_ratio_cols < 0.5]].shape"
   ]
  },
  {
   "cell_type": "code",
   "execution_count": null,
   "metadata": {
    "ExecuteTime": {
     "end_time": "2020-03-03T16:05:32.960791Z",
     "start_time": "2020-03-03T16:05:32.952168Z"
    }
   },
   "outputs": [],
   "source": [
    "# Usunięcie wszystkich kolumn gdzie występuje chociaż jedno NA\n",
    "data.dropna(axis=1).shape"
   ]
  },
  {
   "cell_type": "markdown",
   "metadata": {},
   "source": [
    "### Usuwanie rekordów"
   ]
  },
  {
   "cell_type": "code",
   "execution_count": null,
   "metadata": {
    "ExecuteTime": {
     "end_time": "2020-03-03T16:05:32.971018Z",
     "start_time": "2020-03-03T16:05:32.962766Z"
    }
   },
   "outputs": [],
   "source": [
    "na_ratio_rows = data.isna().mean(axis=1)\n",
    "na_ratio_rows"
   ]
  },
  {
   "cell_type": "code",
   "execution_count": null,
   "metadata": {
    "ExecuteTime": {
     "end_time": "2020-03-03T16:05:32.980657Z",
     "start_time": "2020-03-03T16:05:32.971981Z"
    }
   },
   "outputs": [],
   "source": [
    "# Usunięcie wierszy gdzie odsetek NA przekracza próg\n",
    "data.loc[na_ratio_rows < 0.1].shape"
   ]
  },
  {
   "cell_type": "code",
   "execution_count": null,
   "metadata": {
    "ExecuteTime": {
     "end_time": "2020-03-03T16:05:32.988659Z",
     "start_time": "2020-03-03T16:05:32.982690Z"
    }
   },
   "outputs": [],
   "source": [
    "# Usunięcie wszystkich wierszy gdzie występuje chociaż jedno NA\n",
    "data.dropna(axis=0).shape"
   ]
  },
  {
   "cell_type": "markdown",
   "metadata": {},
   "source": [
    "### Imputation"
   ]
  },
  {
   "cell_type": "markdown",
   "metadata": {},
   "source": [
    "#### Fixed number imputation\n",
    "- dlaczego jest lepszy niż usuwanie NA?\n",
    "- kiedy ma sens?"
   ]
  },
  {
   "cell_type": "code",
   "execution_count": null,
   "metadata": {
    "ExecuteTime": {
     "end_time": "2020-03-03T16:05:32.995656Z",
     "start_time": "2020-03-03T16:05:32.989624Z"
    }
   },
   "outputs": [],
   "source": [
    "data_tmp = data.copy()"
   ]
  },
  {
   "cell_type": "code",
   "execution_count": null,
   "metadata": {
    "ExecuteTime": {
     "end_time": "2020-03-03T16:05:33.012980Z",
     "start_time": "2020-03-03T16:05:32.996840Z"
    }
   },
   "outputs": [],
   "source": [
    "# Wypełnienie NA w pojedynczych kolumnach\n",
    "data_tmp['Age'] = data.Age.fillna(0)\n",
    "data_tmp['Cabin'] = data.Cabin.fillna(-1)\n",
    "\n",
    "# Wypełnienie NA we wszystkich kolumnach\n",
    "data.fillna(-1).head(3)"
   ]
  },
  {
   "cell_type": "markdown",
   "metadata": {},
   "source": [
    "#### Mean, median, ... imputation\n",
    "- kiedy wybieramy średnią a kiedy medianę?"
   ]
  },
  {
   "cell_type": "code",
   "execution_count": null,
   "metadata": {
    "ExecuteTime": {
     "end_time": "2020-03-03T16:05:33.018841Z",
     "start_time": "2020-03-03T16:05:33.014968Z"
    }
   },
   "outputs": [],
   "source": [
    "data_tmp = data.copy()"
   ]
  },
  {
   "cell_type": "code",
   "execution_count": null,
   "metadata": {
    "ExecuteTime": {
     "end_time": "2020-03-03T16:05:33.027803Z",
     "start_time": "2020-03-03T16:05:33.019822Z"
    }
   },
   "outputs": [],
   "source": [
    "data.Age.mean(), data.Age.median()"
   ]
  },
  {
   "cell_type": "code",
   "execution_count": null,
   "metadata": {
    "ExecuteTime": {
     "end_time": "2020-03-03T16:05:33.035514Z",
     "start_time": "2020-03-03T16:05:33.030003Z"
    }
   },
   "outputs": [],
   "source": [
    "data_tmp['Age'] = data.Age.fillna(data.Age.mean(),inplace=True)\n",
    "data_tmp['Age'] = data.Age.fillna(data.Age.median(),inplace=True)"
   ]
  },
  {
   "cell_type": "markdown",
   "metadata": {},
   "source": [
    "#### Categorical imputation"
   ]
  },
  {
   "cell_type": "code",
   "execution_count": null,
   "metadata": {
    "ExecuteTime": {
     "end_time": "2020-03-03T16:05:33.046641Z",
     "start_time": "2020-03-03T16:05:33.036618Z"
    }
   },
   "outputs": [],
   "source": [
    "data.Cabin.value_counts()"
   ]
  },
  {
   "cell_type": "code",
   "execution_count": null,
   "metadata": {
    "ExecuteTime": {
     "end_time": "2020-03-03T16:05:33.055657Z",
     "start_time": "2020-03-03T16:05:33.047617Z"
    }
   },
   "outputs": [],
   "source": [
    "# Wykorzystanie najczęściej występującej kategorii\n",
    "# - Czy to ma sens?\n",
    "data.Cabin.fillna(data.Cabin.value_counts().idxmax())"
   ]
  },
  {
   "cell_type": "code",
   "execution_count": null,
   "metadata": {
    "ExecuteTime": {
     "end_time": "2020-03-03T16:05:33.066745Z",
     "start_time": "2020-03-03T16:05:33.056430Z"
    }
   },
   "outputs": [],
   "source": [
    "# Wypełnienie osobną kategorią - Other\n",
    "data.Cabin.fillna('Other')"
   ]
  },
  {
   "cell_type": "markdown",
   "metadata": {},
   "source": [
    "**Czy zaprezentowane sposoby uzupełnienia Nan są poprawne?**"
   ]
  },
  {
   "cell_type": "markdown",
   "metadata": {},
   "source": [
    "## Outliers\n",
    "- najlepiej wykrywa się wartości odstające na wykresie (np. boxplot)"
   ]
  },
  {
   "cell_type": "code",
   "execution_count": null,
   "metadata": {
    "ExecuteTime": {
     "end_time": "2020-03-03T16:05:33.072686Z",
     "start_time": "2020-03-03T16:05:33.067702Z"
    }
   },
   "outputs": [],
   "source": [
    "data_tmp = data.copy()"
   ]
  },
  {
   "cell_type": "markdown",
   "metadata": {},
   "source": [
    "### Wykrywanie/usuwanie wartości odstających z wykorzystaniem średniej i odchylenie standardowego\n",
    "- obcięło nam 20 wierszy"
   ]
  },
  {
   "cell_type": "code",
   "execution_count": null,
   "metadata": {
    "ExecuteTime": {
     "end_time": "2020-03-03T16:05:33.094706Z",
     "start_time": "2020-03-03T16:05:33.073684Z"
    }
   },
   "outputs": [],
   "source": [
    "factor = 3\n",
    "upper_lim = data['Fare'].mean() + data['Fare'].std() * factor\n",
    "lower_lim = data['Fare'].mean() - data['Fare'].std() * factor\n",
    "\n",
    "data[(data['Fare'] < upper_lim) & (data['Fare'] > lower_lim)]"
   ]
  },
  {
   "cell_type": "markdown",
   "metadata": {},
   "source": [
    "### Wykrywanie/usuwanie wartości odstających z wykorzystaniem percentyli\n",
    "- usunęło ok. 200 wierszy"
   ]
  },
  {
   "cell_type": "code",
   "execution_count": null,
   "metadata": {
    "ExecuteTime": {
     "end_time": "2020-03-03T16:05:33.126213Z",
     "start_time": "2020-03-03T16:05:33.097662Z"
    }
   },
   "outputs": [],
   "source": [
    "upper_lim = data['Fare'].quantile(.90)\n",
    "lower_lim = data['Fare'].quantile(.10)\n",
    "\n",
    "data[(data['Fare'] < upper_lim) & (data['Fare'] > lower_lim)]"
   ]
  },
  {
   "cell_type": "markdown",
   "metadata": {},
   "source": [
    "### Przycinanie (zastępowanie) wartości odstających"
   ]
  },
  {
   "cell_type": "code",
   "execution_count": null,
   "metadata": {
    "ExecuteTime": {
     "end_time": "2020-03-03T16:05:33.138764Z",
     "start_time": "2020-03-03T16:05:33.131191Z"
    }
   },
   "outputs": [],
   "source": [
    "data_tmp.loc[(data['Fare'] > upper_lim),'Fare'] = upper_lim\n",
    "data_tmp.loc[(data['Fare'] < lower_lim),'Fare'] = lower_lim"
   ]
  },
  {
   "cell_type": "code",
   "execution_count": null,
   "metadata": {
    "ExecuteTime": {
     "end_time": "2020-03-03T16:05:33.148900Z",
     "start_time": "2020-03-03T16:05:33.140758Z"
    }
   },
   "outputs": [],
   "source": [
    "max(data.Fare), max(data_tmp.Fare)"
   ]
  },
  {
   "cell_type": "code",
   "execution_count": null,
   "metadata": {
    "ExecuteTime": {
     "end_time": "2020-03-03T16:05:33.158988Z",
     "start_time": "2020-03-03T16:05:33.149888Z"
    }
   },
   "outputs": [],
   "source": [
    "min(data.Fare), min(data_tmp.Fare)"
   ]
  },
  {
   "cell_type": "markdown",
   "metadata": {},
   "source": [
    "- **Który sposób jest najlepszy?**\n",
    "- **Kiedy będziemy usuwać a kiedy zastępować wartości odstające?**"
   ]
  },
  {
   "cell_type": "markdown",
   "metadata": {},
   "source": [
    "## Binning\n",
    "Co to jest i co nam to daje?\n",
    "### Zmienne numeryczne"
   ]
  },
  {
   "cell_type": "code",
   "execution_count": null,
   "metadata": {
    "ExecuteTime": {
     "end_time": "2020-03-03T16:05:33.179017Z",
     "start_time": "2020-03-03T16:05:33.161947Z"
    }
   },
   "outputs": [],
   "source": [
    "# Przydatna funkcja w pandas do kubełkowania zmiennych numerycznych\n",
    "bins = [0, 1, 5, 10, 25, 50, 600]\n",
    "pd.cut(data['Fare'], bins)"
   ]
  },
  {
   "cell_type": "markdown",
   "metadata": {},
   "source": [
    "### Zmienne kategoryczne"
   ]
  },
  {
   "cell_type": "code",
   "execution_count": null,
   "metadata": {
    "ExecuteTime": {
     "end_time": "2020-03-03T16:05:33.185000Z",
     "start_time": "2020-03-03T16:05:33.181011Z"
    }
   },
   "outputs": [],
   "source": [
    "geo=np.random.choice((\"Poland\",'Chile', 'France', 'Thailand'), 100)"
   ]
  },
  {
   "cell_type": "code",
   "execution_count": null,
   "metadata": {
    "ExecuteTime": {
     "end_time": "2020-03-03T16:05:33.196617Z",
     "start_time": "2020-03-03T16:05:33.186600Z"
    }
   },
   "outputs": [],
   "source": [
    "geo=pd.Series(geo)\n",
    "geo"
   ]
  },
  {
   "cell_type": "code",
   "execution_count": null,
   "metadata": {
    "ExecuteTime": {
     "end_time": "2020-03-03T16:05:33.203551Z",
     "start_time": "2020-03-03T16:05:33.197568Z"
    }
   },
   "outputs": [],
   "source": [
    "#metoda z użyciem dict/defaultdict\n",
    "dict_geo={'Poland': \"Europe\", \"Chile\":\"South America\", \"France\":\"Europe\"}\n",
    "from collections import defaultdict\n",
    "countries_list = [('Poland','Europe'), ('France','Europe'), ('Chile','South America')]\n",
    "\n",
    "countries_dict = defaultdict(lambda:'Other')\n",
    "for continent, country in countries_list:\n",
    "     countries_dict[continent]=country"
   ]
  },
  {
   "cell_type": "code",
   "execution_count": null,
   "metadata": {
    "ExecuteTime": {
     "end_time": "2020-03-03T16:05:33.213579Z",
     "start_time": "2020-03-03T16:05:33.204549Z"
    }
   },
   "outputs": [],
   "source": [
    "geo.map(countries_dict)"
   ]
  },
  {
   "cell_type": "markdown",
   "metadata": {},
   "source": [
    "## Transformations\n",
    "Co to jest i do czego możemy to wykorzystać?"
   ]
  },
  {
   "cell_type": "code",
   "execution_count": null,
   "metadata": {
    "ExecuteTime": {
     "end_time": "2020-03-03T16:05:33.343695Z",
     "start_time": "2020-03-03T16:05:33.214558Z"
    }
   },
   "outputs": [],
   "source": [
    "plt.hist(data['Fare'])\n",
    "plt.show()"
   ]
  },
  {
   "cell_type": "code",
   "execution_count": null,
   "metadata": {
    "ExecuteTime": {
     "end_time": "2020-03-03T16:05:33.461861Z",
     "start_time": "2020-03-03T16:05:33.344691Z"
    }
   },
   "outputs": [],
   "source": [
    "transformed_fare = (data['Fare']+1).transform(np.sqrt)\n",
    "plt.hist(transformed_fare)\n",
    "plt.show()"
   ]
  },
  {
   "cell_type": "code",
   "execution_count": null,
   "metadata": {
    "ExecuteTime": {
     "end_time": "2020-03-03T16:05:33.578013Z",
     "start_time": "2020-03-03T16:05:33.462822Z"
    }
   },
   "outputs": [],
   "source": [
    "transformed_fare = (data['Fare']+1).transform(np.log)\n",
    "plt.hist(transformed_fare)\n",
    "plt.show()"
   ]
  },
  {
   "cell_type": "code",
   "execution_count": null,
   "metadata": {
    "ExecuteTime": {
     "end_time": "2020-03-03T16:05:33.697116Z",
     "start_time": "2020-03-03T16:05:33.578979Z"
    }
   },
   "outputs": [],
   "source": [
    "plt.scatter(data['Fare'],data['Survived'])"
   ]
  },
  {
   "cell_type": "code",
   "execution_count": null,
   "metadata": {
    "ExecuteTime": {
     "end_time": "2020-03-03T16:05:33.818231Z",
     "start_time": "2020-03-03T16:05:33.698111Z"
    }
   },
   "outputs": [],
   "source": [
    "plt.scatter(transformed_fare,data['Survived'])"
   ]
  },
  {
   "cell_type": "markdown",
   "metadata": {},
   "source": [
    "## Categorical encoding\n",
    "Jakie są 2 główne typy zmiennych kategorycznych?"
   ]
  },
  {
   "cell_type": "code",
   "execution_count": null,
   "metadata": {
    "ExecuteTime": {
     "end_time": "2020-03-03T16:05:33.823251Z",
     "start_time": "2020-03-03T16:05:33.819229Z"
    }
   },
   "outputs": [],
   "source": [
    "data_arr = ['cold', 'cold', 'warm', 'cold', 'hot', 'hot', 'warm', 'cold', 'warm', 'hot']\n",
    "values = np.array(data_arr)"
   ]
  },
  {
   "cell_type": "markdown",
   "metadata": {},
   "source": [
    "### Label Encoding"
   ]
  },
  {
   "cell_type": "code",
   "execution_count": null,
   "metadata": {
    "ExecuteTime": {
     "end_time": "2020-03-03T16:05:33.841206Z",
     "start_time": "2020-03-03T16:05:33.824215Z"
    }
   },
   "outputs": [],
   "source": [
    "from sklearn.preprocessing import LabelEncoder\n",
    "\n",
    "# integer encode\n",
    "le = LabelEncoder()\n",
    "integer_encoded = le.fit_transform(values)\n",
    "print(integer_encoded)\n",
    "#invert\n",
    "print(le.inverse_transform(integer_encoded))"
   ]
  },
  {
   "cell_type": "markdown",
   "metadata": {},
   "source": [
    "### One Hot Encoding "
   ]
  },
  {
   "cell_type": "code",
   "execution_count": null,
   "metadata": {
    "ExecuteTime": {
     "end_time": "2020-03-03T16:05:33.848751Z",
     "start_time": "2020-03-03T16:05:33.842169Z"
    }
   },
   "outputs": [],
   "source": [
    "from sklearn.preprocessing import OneHotEncoder\n",
    "\n",
    "# one hot encode\n",
    "onehot_encoder = OneHotEncoder(sparse=False)\n",
    "integer_encoded = integer_encoded.reshape(len(integer_encoded), 1)\n",
    "onehot_encoded = onehot_encoder.fit_transform(integer_encoded)\n",
    "print(onehot_encoded)\n",
    "\n",
    "# invert \n",
    "inverted = onehot_encoder.inverse_transform(onehot_encoded)\n",
    "print(inverted.transpose())"
   ]
  },
  {
   "cell_type": "markdown",
   "metadata": {},
   "source": [
    "### Target Encoding"
   ]
  },
  {
   "cell_type": "code",
   "execution_count": null,
   "metadata": {
    "ExecuteTime": {
     "end_time": "2020-03-03T16:05:33.899644Z",
     "start_time": "2020-03-03T16:05:33.849715Z"
    }
   },
   "outputs": [],
   "source": [
    "import category_encoders\n",
    "te=category_encoders.target_encoder.TargetEncoder(data)\n",
    "\n",
    "data_tmp = data.copy()\n",
    "encoded=te.fit_transform(data['Cabin'],data['Survived'])\n",
    "data_tmp['target_encoded'] = encoded"
   ]
  },
  {
   "cell_type": "code",
   "execution_count": null,
   "metadata": {
    "ExecuteTime": {
     "end_time": "2020-03-03T16:05:33.909998Z",
     "start_time": "2020-03-03T16:05:33.900313Z"
    }
   },
   "outputs": [],
   "source": [
    "data_tmp[['Cabin','Survived','target_encoded']]"
   ]
  },
  {
   "cell_type": "code",
   "execution_count": null,
   "metadata": {
    "ExecuteTime": {
     "end_time": "2020-03-03T16:05:33.933262Z",
     "start_time": "2020-03-03T16:05:33.910983Z"
    }
   },
   "outputs": [],
   "source": [
    "te=category_encoders.target_encoder.TargetEncoder(data)\n",
    "encoded=te.fit_transform(data['Sex'],data['Survived'])\n",
    "data_tmp['target_encoded'] = encoded"
   ]
  },
  {
   "cell_type": "code",
   "execution_count": null,
   "metadata": {
    "ExecuteTime": {
     "end_time": "2020-03-03T16:05:33.944105Z",
     "start_time": "2020-03-03T16:05:33.934224Z"
    }
   },
   "outputs": [],
   "source": [
    "data_tmp[['Sex','Survived','target_encoded']]"
   ]
  },
  {
   "cell_type": "markdown",
   "metadata": {},
   "source": [
    "## Scalling\n",
    "### Normalization\n",
    "Normalizuje zmienne tak aby miały jednolitą normę - do czego można to wykorzystać?"
   ]
  },
  {
   "cell_type": "code",
   "execution_count": null,
   "metadata": {
    "ExecuteTime": {
     "end_time": "2020-03-03T16:05:33.954814Z",
     "start_time": "2020-03-03T16:05:33.945844Z"
    }
   },
   "outputs": [],
   "source": [
    "from sklearn import preprocessing\n",
    "preprocessing.normalize(data[['Fare','Age']], norm = 'l1')"
   ]
  },
  {
   "cell_type": "markdown",
   "metadata": {},
   "source": [
    "### Standarizing\n",
    "Standaryzuje zmienną usuwając średnią i skalując przez wariancję:\n",
    "\n",
    "$z = \\frac{(x - mean)}{std}$"
   ]
  },
  {
   "cell_type": "code",
   "execution_count": null,
   "metadata": {
    "ExecuteTime": {
     "end_time": "2020-03-03T16:05:33.968936Z",
     "start_time": "2020-03-03T16:05:33.955811Z"
    }
   },
   "outputs": [],
   "source": [
    "names = ['Fare','Age']\n",
    "scaler = preprocessing.StandardScaler()\n",
    "\n",
    "scaled_df = scaler.fit_transform(data[['Fare','Age']])\n",
    "pd.DataFrame(scaled_df, columns=names)"
   ]
  },
  {
   "cell_type": "code",
   "execution_count": null,
   "metadata": {},
   "outputs": [],
   "source": []
  }
 ],
 "metadata": {
  "kernelspec": {
   "display_name": "Python 3",
   "language": "python",
   "name": "python3"
  },
  "language_info": {
   "codemirror_mode": {
    "name": "ipython",
    "version": 3
   },
   "file_extension": ".py",
   "mimetype": "text/x-python",
   "name": "python",
   "nbconvert_exporter": "python",
   "pygments_lexer": "ipython3",
   "version": "3.7.4"
  },
  "toc": {
   "base_numbering": 1,
   "nav_menu": {
    "height": "380px",
    "width": "451px"
   },
   "number_sections": true,
   "sideBar": true,
   "skip_h1_title": false,
   "title_cell": "Table of Contents",
   "title_sidebar": "Contents",
   "toc_cell": false,
   "toc_position": {},
   "toc_section_display": true,
   "toc_window_display": false
  }
 },
 "nbformat": 4,
 "nbformat_minor": 2
}
