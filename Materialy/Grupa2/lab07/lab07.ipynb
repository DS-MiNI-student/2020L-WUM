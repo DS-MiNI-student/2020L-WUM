{
 "cells": [
  {
   "cell_type": "markdown",
   "metadata": {},
   "source": [
    "# Wstęp do Uczenia Maszynowego - Lab 7"
   ]
  },
  {
   "cell_type": "markdown",
   "metadata": {},
   "source": [
    "## Bias-Variance Tradeoff"
   ]
  },
  {
   "attachments": {},
   "cell_type": "markdown",
   "metadata": {},
   "source": [
    "![alt text](img/bias_variance.png)"
   ]
  },
  {
   "cell_type": "markdown",
   "metadata": {},
   "source": [
    "Gdzie mamy doczynienia z Overfittingiem a gdzie z Underfittingiem?"
   ]
  },
  {
   "cell_type": "markdown",
   "metadata": {},
   "source": [
    "## Szukanie Hiperparametrów\n",
    "Wczytujemy te same dane co ostatnio:"
   ]
  },
  {
   "cell_type": "code",
   "execution_count": 1,
   "metadata": {
    "ExecuteTime": {
     "end_time": "2020-04-06T19:11:46.159659Z",
     "start_time": "2020-04-06T19:11:45.593562Z"
    }
   },
   "outputs": [
    {
     "name": "stderr",
     "output_type": "stream",
     "text": [
      "/home/kaketo/anaconda3/lib/python3.7/site-packages/statsmodels/tools/_testing.py:19: FutureWarning: pandas.util.testing is deprecated. Use the functions in the public API at pandas.testing instead.\n",
      "  import pandas.util.testing as tm\n"
     ]
    }
   ],
   "source": [
    "import numpy as np\n",
    "import pandas as pd\n",
    "import matplotlib.pyplot as plt\n",
    "import seaborn as sns\n",
    "np.random.seed(123) "
   ]
  },
  {
   "cell_type": "code",
   "execution_count": 2,
   "metadata": {
    "ExecuteTime": {
     "end_time": "2020-04-06T19:11:46.167704Z",
     "start_time": "2020-04-06T19:11:46.161717Z"
    }
   },
   "outputs": [],
   "source": [
    "data=pd.read_csv('heart.csv')"
   ]
  },
  {
   "cell_type": "code",
   "execution_count": 3,
   "metadata": {
    "ExecuteTime": {
     "end_time": "2020-04-06T19:11:46.175179Z",
     "start_time": "2020-04-06T19:11:46.169599Z"
    }
   },
   "outputs": [],
   "source": [
    "y = np.array(data['chd'])\n",
    "X = data.drop(['chd'],axis=1)"
   ]
  },
  {
   "cell_type": "code",
   "execution_count": 4,
   "metadata": {
    "ExecuteTime": {
     "end_time": "2020-04-06T19:11:46.193181Z",
     "start_time": "2020-04-06T19:11:46.177001Z"
    }
   },
   "outputs": [
    {
     "data": {
      "text/html": [
       "<div>\n",
       "<style scoped>\n",
       "    .dataframe tbody tr th:only-of-type {\n",
       "        vertical-align: middle;\n",
       "    }\n",
       "\n",
       "    .dataframe tbody tr th {\n",
       "        vertical-align: top;\n",
       "    }\n",
       "\n",
       "    .dataframe thead th {\n",
       "        text-align: right;\n",
       "    }\n",
       "</style>\n",
       "<table border=\"1\" class=\"dataframe\">\n",
       "  <thead>\n",
       "    <tr style=\"text-align: right;\">\n",
       "      <th></th>\n",
       "      <th>sbp</th>\n",
       "      <th>tobacco</th>\n",
       "      <th>ldl</th>\n",
       "      <th>adiposity</th>\n",
       "      <th>famhist</th>\n",
       "      <th>typea</th>\n",
       "      <th>obesity</th>\n",
       "      <th>alcohol</th>\n",
       "      <th>age</th>\n",
       "    </tr>\n",
       "  </thead>\n",
       "  <tbody>\n",
       "    <tr>\n",
       "      <th>0</th>\n",
       "      <td>160</td>\n",
       "      <td>12.00</td>\n",
       "      <td>5.73</td>\n",
       "      <td>23.11</td>\n",
       "      <td>1</td>\n",
       "      <td>49</td>\n",
       "      <td>25.30</td>\n",
       "      <td>97.20</td>\n",
       "      <td>52</td>\n",
       "    </tr>\n",
       "    <tr>\n",
       "      <th>1</th>\n",
       "      <td>144</td>\n",
       "      <td>0.01</td>\n",
       "      <td>4.41</td>\n",
       "      <td>28.61</td>\n",
       "      <td>0</td>\n",
       "      <td>55</td>\n",
       "      <td>28.87</td>\n",
       "      <td>2.06</td>\n",
       "      <td>63</td>\n",
       "    </tr>\n",
       "    <tr>\n",
       "      <th>2</th>\n",
       "      <td>118</td>\n",
       "      <td>0.08</td>\n",
       "      <td>3.48</td>\n",
       "      <td>32.28</td>\n",
       "      <td>1</td>\n",
       "      <td>52</td>\n",
       "      <td>29.14</td>\n",
       "      <td>3.81</td>\n",
       "      <td>46</td>\n",
       "    </tr>\n",
       "    <tr>\n",
       "      <th>3</th>\n",
       "      <td>170</td>\n",
       "      <td>7.50</td>\n",
       "      <td>6.41</td>\n",
       "      <td>38.03</td>\n",
       "      <td>1</td>\n",
       "      <td>51</td>\n",
       "      <td>31.99</td>\n",
       "      <td>24.26</td>\n",
       "      <td>58</td>\n",
       "    </tr>\n",
       "    <tr>\n",
       "      <th>4</th>\n",
       "      <td>134</td>\n",
       "      <td>13.60</td>\n",
       "      <td>3.50</td>\n",
       "      <td>27.78</td>\n",
       "      <td>1</td>\n",
       "      <td>60</td>\n",
       "      <td>25.99</td>\n",
       "      <td>57.34</td>\n",
       "      <td>49</td>\n",
       "    </tr>\n",
       "  </tbody>\n",
       "</table>\n",
       "</div>"
      ],
      "text/plain": [
       "   sbp  tobacco   ldl  adiposity  famhist  typea  obesity  alcohol  age\n",
       "0  160    12.00  5.73      23.11        1     49    25.30    97.20   52\n",
       "1  144     0.01  4.41      28.61        0     55    28.87     2.06   63\n",
       "2  118     0.08  3.48      32.28        1     52    29.14     3.81   46\n",
       "3  170     7.50  6.41      38.03        1     51    31.99    24.26   58\n",
       "4  134    13.60  3.50      27.78        1     60    25.99    57.34   49"
      ]
     },
     "execution_count": 4,
     "metadata": {},
     "output_type": "execute_result"
    }
   ],
   "source": [
    "map_dict = {'Present': 1, 'Absent':0}\n",
    "X['famhist'] = X['famhist'].map(map_dict)\n",
    "X.head()"
   ]
  },
  {
   "cell_type": "markdown",
   "metadata": {},
   "source": [
    "### Podział na train, test\n",
    "Przypomnienie czym się różni zbiór walidacyjny od testowego?"
   ]
  },
  {
   "cell_type": "code",
   "execution_count": 5,
   "metadata": {
    "ExecuteTime": {
     "end_time": "2020-04-06T19:11:46.217080Z",
     "start_time": "2020-04-06T19:11:46.194796Z"
    }
   },
   "outputs": [],
   "source": [
    "from sklearn.model_selection import train_test_split\n",
    "X_train, X_test, y_train, y_test =train_test_split(X, y, test_size=0.2)"
   ]
  },
  {
   "cell_type": "markdown",
   "metadata": {},
   "source": [
    "Drzewo decyzyjne - prosty model w którym będziemy stroić hiperparametry"
   ]
  },
  {
   "cell_type": "code",
   "execution_count": 6,
   "metadata": {
    "ExecuteTime": {
     "end_time": "2020-04-06T19:11:46.243960Z",
     "start_time": "2020-04-06T19:11:46.219015Z"
    }
   },
   "outputs": [],
   "source": [
    "from sklearn.tree import DecisionTreeClassifier\n",
    "tree_model= DecisionTreeClassifier()"
   ]
  },
  {
   "cell_type": "code",
   "execution_count": 7,
   "metadata": {
    "ExecuteTime": {
     "end_time": "2020-04-06T19:11:46.249425Z",
     "start_time": "2020-04-06T19:11:46.245246Z"
    }
   },
   "outputs": [
    {
     "data": {
      "text/plain": [
       "DecisionTreeClassifier(ccp_alpha=0.0, class_weight=None, criterion='gini',\n",
       "                       max_depth=None, max_features=None, max_leaf_nodes=None,\n",
       "                       min_impurity_decrease=0.0, min_impurity_split=None,\n",
       "                       min_samples_leaf=1, min_samples_split=2,\n",
       "                       min_weight_fraction_leaf=0.0, presort='deprecated',\n",
       "                       random_state=None, splitter='best')"
      ]
     },
     "execution_count": 7,
     "metadata": {},
     "output_type": "execute_result"
    }
   ],
   "source": [
    "tree_model"
   ]
  },
  {
   "cell_type": "code",
   "execution_count": 8,
   "metadata": {
    "ExecuteTime": {
     "end_time": "2020-04-06T19:11:46.256996Z",
     "start_time": "2020-04-06T19:11:46.251705Z"
    }
   },
   "outputs": [],
   "source": [
    "tree_model.fit(X_train, y_train);"
   ]
  },
  {
   "cell_type": "code",
   "execution_count": 9,
   "metadata": {
    "ExecuteTime": {
     "end_time": "2020-04-06T19:11:46.266434Z",
     "start_time": "2020-04-06T19:11:46.258685Z"
    }
   },
   "outputs": [
    {
     "data": {
      "text/plain": [
       "0.6344086021505376"
      ]
     },
     "execution_count": 9,
     "metadata": {},
     "output_type": "execute_result"
    }
   ],
   "source": [
    "tree_model.score(X_test, y_test)"
   ]
  },
  {
   "cell_type": "markdown",
   "metadata": {},
   "source": [
    "### Rola cross-walidacji w strojeniu hiperparametrów"
   ]
  },
  {
   "cell_type": "code",
   "execution_count": 10,
   "metadata": {
    "ExecuteTime": {
     "end_time": "2020-04-06T19:11:46.291475Z",
     "start_time": "2020-04-06T19:11:46.267569Z"
    }
   },
   "outputs": [
    {
     "name": "stdout",
     "output_type": "stream",
     "text": [
      "0.6644693782141188 0.023197947221853043\n"
     ]
    }
   ],
   "source": [
    "import sklearn\n",
    "from sklearn.model_selection import cross_val_score\n",
    "tree_model= DecisionTreeClassifier()\n",
    "results=cross_val_score(tree_model, X, y, cv=5) # można zdefiniować: scoring='roc_auc'\n",
    "# UWAGA: tutaj nie strojono parametrów więc można użyć całego zbioru!\n",
    "print(np.mean(results), np.std(results))"
   ]
  },
  {
   "cell_type": "markdown",
   "metadata": {},
   "source": [
    "### Jakie metryki chcemy maksymalizować?"
   ]
  },
  {
   "cell_type": "code",
   "execution_count": 11,
   "metadata": {
    "ExecuteTime": {
     "end_time": "2020-04-06T19:11:46.295832Z",
     "start_time": "2020-04-06T19:11:46.292791Z"
    }
   },
   "outputs": [
    {
     "data": {
      "text/plain": [
       "dict_keys(['explained_variance', 'r2', 'max_error', 'neg_median_absolute_error', 'neg_mean_absolute_error', 'neg_mean_squared_error', 'neg_mean_squared_log_error', 'neg_root_mean_squared_error', 'neg_mean_poisson_deviance', 'neg_mean_gamma_deviance', 'accuracy', 'roc_auc', 'roc_auc_ovr', 'roc_auc_ovo', 'roc_auc_ovr_weighted', 'roc_auc_ovo_weighted', 'balanced_accuracy', 'average_precision', 'neg_log_loss', 'neg_brier_score', 'adjusted_rand_score', 'homogeneity_score', 'completeness_score', 'v_measure_score', 'mutual_info_score', 'adjusted_mutual_info_score', 'normalized_mutual_info_score', 'fowlkes_mallows_score', 'precision', 'precision_macro', 'precision_micro', 'precision_samples', 'precision_weighted', 'recall', 'recall_macro', 'recall_micro', 'recall_samples', 'recall_weighted', 'f1', 'f1_macro', 'f1_micro', 'f1_samples', 'f1_weighted', 'jaccard', 'jaccard_macro', 'jaccard_micro', 'jaccard_samples', 'jaccard_weighted'])"
      ]
     },
     "execution_count": 11,
     "metadata": {},
     "output_type": "execute_result"
    }
   ],
   "source": [
    "sklearn.metrics.SCORERS.keys()"
   ]
  },
  {
   "attachments": {},
   "cell_type": "markdown",
   "metadata": {},
   "source": [
    "![alt text](img/grid_random.png)"
   ]
  },
  {
   "cell_type": "markdown",
   "metadata": {},
   "source": [
    "#### Dlaczego Random > Grid w więkoszości przypadków:\n",
    "http://www.jmlr.org/papers/volume13/bergstra12a/bergstra12a.pdf\n",
    "\n",
    "Kiedy jednak Grid będzie lepszy od Random?"
   ]
  },
  {
   "cell_type": "markdown",
   "metadata": {},
   "source": [
    "### Grid Search"
   ]
  },
  {
   "cell_type": "code",
   "execution_count": 12,
   "metadata": {
    "ExecuteTime": {
     "end_time": "2020-04-06T19:11:46.301632Z",
     "start_time": "2020-04-06T19:11:46.297211Z"
    }
   },
   "outputs": [],
   "source": [
    "from sklearn.model_selection import GridSearchCV"
   ]
  },
  {
   "cell_type": "code",
   "execution_count": 13,
   "metadata": {
    "ExecuteTime": {
     "end_time": "2020-04-06T19:11:46.314935Z",
     "start_time": "2020-04-06T19:11:46.303006Z"
    }
   },
   "outputs": [],
   "source": [
    "max_depth=[3, 5, 6]\n",
    "criterion=[\"gini\",\"entropy\"]\n",
    "min_samples_split=[5,10,15]\n",
    "param_grid = dict(max_depth=max_depth,criterion=criterion, min_samples_split=min_samples_split)"
   ]
  },
  {
   "cell_type": "code",
   "execution_count": 14,
   "metadata": {
    "ExecuteTime": {
     "end_time": "2020-04-06T19:11:47.663188Z",
     "start_time": "2020-04-06T19:11:46.316646Z"
    }
   },
   "outputs": [
    {
     "name": "stdout",
     "output_type": "stream",
     "text": [
      "Best: 0.693767 using {'criterion': 'entropy', 'max_depth': 3, 'min_samples_split': 15}\n"
     ]
    }
   ],
   "source": [
    "tree_model= DecisionTreeClassifier()\n",
    "grid = GridSearchCV(estimator=tree_model, param_grid=param_grid, cv = 3, n_jobs=-1)\n",
    "\n",
    "grid_result = grid.fit(X_train, y_train) #tutaj lepiej zastosować tylko trainset\n",
    "\n",
    "print(\"Best: %f using %s\" % (grid_result.best_score_, grid_result.best_params_))"
   ]
  },
  {
   "cell_type": "code",
   "execution_count": 15,
   "metadata": {
    "ExecuteTime": {
     "end_time": "2020-04-06T19:11:47.676691Z",
     "start_time": "2020-04-06T19:11:47.665132Z"
    }
   },
   "outputs": [
    {
     "name": "stdout",
     "output_type": "stream",
     "text": [
      "Parameters : {'criterion': 'gini', 'max_depth': 3, 'min_samples_split': 5}\n",
      "Mean test score: 0.00145531\n",
      "Standard Deviation (test) : 0.00014261\n",
      "\n",
      "Parameters : {'criterion': 'gini', 'max_depth': 3, 'min_samples_split': 10}\n",
      "Mean test score: 0.00147653\n",
      "Standard Deviation (test) : 0.00003191\n",
      "\n",
      "Parameters : {'criterion': 'gini', 'max_depth': 3, 'min_samples_split': 15}\n",
      "Mean test score: 0.00147208\n",
      "Standard Deviation (test) : 0.00016524\n",
      "\n",
      "Parameters : {'criterion': 'gini', 'max_depth': 5, 'min_samples_split': 5}\n",
      "Mean test score: 0.00131162\n",
      "Standard Deviation (test) : 0.00021403\n",
      "\n",
      "Parameters : {'criterion': 'gini', 'max_depth': 5, 'min_samples_split': 10}\n",
      "Mean test score: 0.00184274\n",
      "Standard Deviation (test) : 0.00057973\n",
      "\n",
      "Parameters : {'criterion': 'gini', 'max_depth': 5, 'min_samples_split': 15}\n",
      "Mean test score: 0.00147255\n",
      "Standard Deviation (test) : 0.00009054\n",
      "\n",
      "Parameters : {'criterion': 'gini', 'max_depth': 6, 'min_samples_split': 5}\n",
      "Mean test score: 0.00143607\n",
      "Standard Deviation (test) : 0.00004930\n",
      "\n",
      "Parameters : {'criterion': 'gini', 'max_depth': 6, 'min_samples_split': 10}\n",
      "Mean test score: 0.00130510\n",
      "Standard Deviation (test) : 0.00001783\n",
      "\n",
      "Parameters : {'criterion': 'gini', 'max_depth': 6, 'min_samples_split': 15}\n",
      "Mean test score: 0.00140580\n",
      "Standard Deviation (test) : 0.00013245\n",
      "\n",
      "Parameters : {'criterion': 'entropy', 'max_depth': 3, 'min_samples_split': 5}\n",
      "Mean test score: 0.00172003\n",
      "Standard Deviation (test) : 0.00046610\n",
      "\n",
      "Parameters : {'criterion': 'entropy', 'max_depth': 3, 'min_samples_split': 10}\n",
      "Mean test score: 0.00151896\n",
      "Standard Deviation (test) : 0.00014613\n",
      "\n",
      "Parameters : {'criterion': 'entropy', 'max_depth': 3, 'min_samples_split': 15}\n",
      "Mean test score: 0.00136669\n",
      "Standard Deviation (test) : 0.00006397\n",
      "\n",
      "Parameters : {'criterion': 'entropy', 'max_depth': 5, 'min_samples_split': 5}\n",
      "Mean test score: 0.00671697\n",
      "Standard Deviation (test) : 0.00749911\n",
      "\n",
      "Parameters : {'criterion': 'entropy', 'max_depth': 5, 'min_samples_split': 10}\n",
      "Mean test score: 0.00164406\n",
      "Standard Deviation (test) : 0.00025369\n",
      "\n",
      "Parameters : {'criterion': 'entropy', 'max_depth': 5, 'min_samples_split': 15}\n",
      "Mean test score: 0.00157483\n",
      "Standard Deviation (test) : 0.00020065\n",
      "\n",
      "Parameters : {'criterion': 'entropy', 'max_depth': 6, 'min_samples_split': 5}\n",
      "Mean test score: 0.00144116\n",
      "Standard Deviation (test) : 0.00006208\n",
      "\n",
      "Parameters : {'criterion': 'entropy', 'max_depth': 6, 'min_samples_split': 10}\n",
      "Mean test score: 0.00137075\n",
      "Standard Deviation (test) : 0.00008573\n",
      "\n",
      "Parameters : {'criterion': 'entropy', 'max_depth': 6, 'min_samples_split': 15}\n",
      "Mean test score: 0.00156069\n",
      "Standard Deviation (test) : 0.00008095\n",
      "\n",
      "Best parameters : {'criterion': 'entropy', 'max_depth': 3, 'min_samples_split': 15}\n",
      "Best accuracy score : 0.69376694\n"
     ]
    }
   ],
   "source": [
    "mean_test_scores = grid_result.cv_results_['mean_score_time']\n",
    "std_test_scores = grid_result.cv_results_['std_score_time']\n",
    "mean_train_scores = grid_result.cv_results_['mean_fit_time']\n",
    "#std_train_scores = grid_result.cv_results_['std_fit_time']\n",
    "parameters = grid_result.cv_results_['params']\n",
    "\n",
    "for mean_test, std_test, params in zip(mean_test_scores, std_test_scores, parameters):\n",
    "    print('Parameters : {}'.format(params))\n",
    "    print('Mean test score: {:.8f}'.format(mean_test))\n",
    "    print('Standard Deviation (test) : {:.8f}'.format(std_test))\n",
    "    print()\n",
    "\n",
    "print('Best parameters : {}'.format(grid_result.best_params_))\n",
    "print('Best accuracy score : {:.8f}'.format(grid_result.best_score_))\n"
   ]
  },
  {
   "cell_type": "code",
   "execution_count": 16,
   "metadata": {
    "ExecuteTime": {
     "end_time": "2020-04-06T19:11:47.684700Z",
     "start_time": "2020-04-06T19:11:47.678898Z"
    }
   },
   "outputs": [
    {
     "data": {
      "text/plain": [
       "0.6559139784946236"
      ]
     },
     "execution_count": 16,
     "metadata": {},
     "output_type": "execute_result"
    }
   ],
   "source": [
    "best_model=grid_result.best_estimator_\n",
    "best_model.score(X_test, y_test)"
   ]
  },
  {
   "cell_type": "markdown",
   "metadata": {},
   "source": [
    "przykład wizualizacji:\n",
    "    https://scikit-learn.org/stable/auto_examples/model_selection/plot_multi_metric_evaluation.html"
   ]
  },
  {
   "cell_type": "markdown",
   "metadata": {},
   "source": [
    "### Random Search "
   ]
  },
  {
   "cell_type": "code",
   "execution_count": 17,
   "metadata": {
    "ExecuteTime": {
     "end_time": "2020-04-06T19:11:47.690346Z",
     "start_time": "2020-04-06T19:11:47.686504Z"
    }
   },
   "outputs": [],
   "source": [
    "from sklearn.model_selection import RandomizedSearchCV"
   ]
  },
  {
   "cell_type": "code",
   "execution_count": 18,
   "metadata": {
    "ExecuteTime": {
     "end_time": "2020-04-06T19:11:47.767222Z",
     "start_time": "2020-04-06T19:11:47.691751Z"
    }
   },
   "outputs": [
    {
     "name": "stdout",
     "output_type": "stream",
     "text": [
      "Best: 0.693767 using {'min_samples_split': 15, 'max_depth': 3, 'criterion': 'entropy'}\n"
     ]
    }
   ],
   "source": [
    "random = RandomizedSearchCV(estimator=tree_model, param_distributions=param_grid, cv = 3, n_jobs=-1)\n",
    "\n",
    "random_result = random.fit(X_train, y_train)\n",
    "# Summarize results\n",
    "print(\"Best: %f using %s\" % (random_result.best_score_, random_result.best_params_))"
   ]
  },
  {
   "cell_type": "code",
   "execution_count": 19,
   "metadata": {
    "ExecuteTime": {
     "end_time": "2020-04-06T19:11:47.773049Z",
     "start_time": "2020-04-06T19:11:47.768422Z"
    }
   },
   "outputs": [
    {
     "data": {
      "text/plain": [
       "0.6559139784946236"
      ]
     },
     "execution_count": 19,
     "metadata": {},
     "output_type": "execute_result"
    }
   ],
   "source": [
    "best_model=random_result.best_estimator_\n",
    "best_model.score(X_test, y_test)"
   ]
  },
  {
   "cell_type": "markdown",
   "metadata": {},
   "source": [
    "- Zdefiniowanie rozkładów"
   ]
  },
  {
   "cell_type": "code",
   "execution_count": 20,
   "metadata": {
    "ExecuteTime": {
     "end_time": "2020-04-06T19:11:47.778943Z",
     "start_time": "2020-04-06T19:11:47.774117Z"
    }
   },
   "outputs": [],
   "source": [
    "from scipy.stats import poisson,randint\n",
    "param_grid = {'min_samples_split': randint(5,50),\n",
    "             'max_depth': poisson(5)}"
   ]
  },
  {
   "cell_type": "code",
   "execution_count": 21,
   "metadata": {
    "ExecuteTime": {
     "end_time": "2020-04-06T19:11:47.868960Z",
     "start_time": "2020-04-06T19:11:47.780150Z"
    }
   },
   "outputs": [
    {
     "name": "stdout",
     "output_type": "stream",
     "text": [
      "Best: 0.680217 using {'max_depth': 3, 'min_samples_split': 5}\n"
     ]
    }
   ],
   "source": [
    "random = RandomizedSearchCV(estimator=tree_model, param_distributions=param_grid, cv = 3, n_jobs=-1, random_state=123)\n",
    "\n",
    "random_result = random.fit(X_train, y_train)\n",
    "# Summarize results\n",
    "print(\"Best: %f using %s\" % (random_result.best_score_, random_result.best_params_))"
   ]
  },
  {
   "cell_type": "markdown",
   "metadata": {},
   "source": [
    "https://ksopyla.com/machine-learning/grid-random-search-scikit-learn-dobor-parametrow/"
   ]
  },
  {
   "cell_type": "markdown",
   "metadata": {},
   "source": [
    "## Bayes optimization"
   ]
  },
  {
   "attachments": {},
   "cell_type": "markdown",
   "metadata": {},
   "source": [
    "![alt text](img/bayes.png)"
   ]
  },
  {
   "cell_type": "markdown",
   "metadata": {},
   "source": [
    "### W którym miejscu będziemy szukać następnej wartości parametru n_trees?"
   ]
  },
  {
   "cell_type": "code",
   "execution_count": 22,
   "metadata": {
    "ExecuteTime": {
     "end_time": "2020-04-06T19:11:47.871893Z",
     "start_time": "2020-04-06T19:11:47.870045Z"
    }
   },
   "outputs": [],
   "source": [
    "# !pip install scikit-optimize"
   ]
  },
  {
   "cell_type": "code",
   "execution_count": 23,
   "metadata": {
    "ExecuteTime": {
     "end_time": "2020-04-06T19:11:47.950609Z",
     "start_time": "2020-04-06T19:11:47.874327Z"
    }
   },
   "outputs": [
    {
     "name": "stdout",
     "output_type": "stream",
     "text": [
      "val. score: 0.6558265582655827\n",
      "test score: 0.6451612903225806\n"
     ]
    }
   ],
   "source": [
    "from skopt import BayesSearchCV\n",
    "from sklearn.svm import SVC\n",
    "\n",
    "# log-uniform: understand as search over p = exp(x) by varying x\n",
    "opt = BayesSearchCV(\n",
    "    SVC(),\n",
    "    {\n",
    "        'C': (1e-6, 1e+6, 'log-uniform'),\n",
    "        'gamma': (1e-6, 1e+1, 'log-uniform'),\n",
    "        'degree': (1, 8),  # integer valued parameter\n",
    "        'kernel': ['linear', 'poly', 'rbf'],  # categorical parameter\n",
    "    },\n",
    "    n_iter=2,\n",
    "    cv=3\n",
    ")\n",
    "\n",
    "opt.fit(X_train, y_train)\n",
    "\n",
    "print(\"val. score: %s\" % opt.best_score_)\n",
    "print(\"test score: %s\" % opt.score(X_test, y_test))"
   ]
  },
  {
   "cell_type": "markdown",
   "metadata": {},
   "source": [
    "https://scikit-optimize.github.io/stable/auto_examples/sklearn-gridsearchcv-replacement.html"
   ]
  },
  {
   "cell_type": "markdown",
   "metadata": {},
   "source": [
    "## Selekcja zmiennych"
   ]
  },
  {
   "cell_type": "markdown",
   "metadata": {},
   "source": [
    "### Filtry\n",
    "Najprostsze metody, można z nich korzystać nie wykorzystując nawet modeli. Można wykonać ten krok na etapie preprocessingu danych.\n",
    "\n",
    "**Przykłady:**\n",
    "- korelacja ze zmienną celu\n",
    "- informacja wzajema ze zmienną celu"
   ]
  },
  {
   "cell_type": "code",
   "execution_count": 24,
   "metadata": {
    "ExecuteTime": {
     "end_time": "2020-04-06T19:11:47.955678Z",
     "start_time": "2020-04-06T19:11:47.952151Z"
    }
   },
   "outputs": [],
   "source": [
    "X_y = X.copy()\n",
    "X_y['Target'] = y"
   ]
  },
  {
   "cell_type": "code",
   "execution_count": 25,
   "metadata": {
    "ExecuteTime": {
     "end_time": "2020-04-06T19:11:48.469319Z",
     "start_time": "2020-04-06T19:11:47.956848Z"
    }
   },
   "outputs": [
    {
     "data": {
      "image/png": "[encoded data removed]",
      "text/plain": [
       "<Figure size 864x720 with 2 Axes>"
      ]
     },
     "metadata": {
      "needs_background": "light"
     },
     "output_type": "display_data"
    }
   ],
   "source": [
    "plt.figure(figsize=(12,10))\n",
    "cor = X_y.corr()\n",
    "sns.heatmap(cor, annot=True, cmap=plt.cm.Reds)\n",
    "plt.show()"
   ]
  },
  {
   "cell_type": "markdown",
   "metadata": {},
   "source": [
    "### Metody wbudowane\n",
    "Niektóre metody mają wbudowane metody *feature importance*, np. Random Forest albo regresja Lasso.\n",
    "\n",
    "https://towardsdatascience.com/the-mathematics-of-decision-trees-random-forest-and-feature-importance-in-scikit-learn-and-spark-f2861df67e3"
   ]
  },
  {
   "cell_type": "code",
   "execution_count": 26,
   "metadata": {
    "ExecuteTime": {
     "end_time": "2020-04-06T19:11:48.712541Z",
     "start_time": "2020-04-06T19:11:48.470342Z"
    }
   },
   "outputs": [
    {
     "data": {
      "text/plain": [
       "RandomForestClassifier(bootstrap=True, ccp_alpha=0.0, class_weight='balanced',\n",
       "                       criterion='gini', max_depth=5, max_features='auto',\n",
       "                       max_leaf_nodes=None, max_samples=None,\n",
       "                       min_impurity_decrease=0.0, min_impurity_split=None,\n",
       "                       min_samples_leaf=1, min_samples_split=2,\n",
       "                       min_weight_fraction_leaf=0.0, n_estimators=100,\n",
       "                       n_jobs=-1, oob_score=False, random_state=None, verbose=0,\n",
       "                       warm_start=False)"
      ]
     },
     "execution_count": 26,
     "metadata": {},
     "output_type": "execute_result"
    }
   ],
   "source": [
    "from sklearn.ensemble import RandomForestClassifier\n",
    "import seaborn as sns\n",
    "import matplotlib.pyplot as plt\n",
    "rf = RandomForestClassifier(n_jobs=-1, class_weight='balanced', max_depth=5)\n",
    "rf.fit(X_train, y_train)"
   ]
  },
  {
   "cell_type": "code",
   "execution_count": 27,
   "metadata": {
    "ExecuteTime": {
     "end_time": "2020-04-06T19:11:48.954825Z",
     "start_time": "2020-04-06T19:11:48.718311Z"
    }
   },
   "outputs": [
    {
     "data": {
      "image/png": "[encoded data removed]",
      "text/plain": [
       "<Figure size 432x288 with 1 Axes>"
      ]
     },
     "metadata": {
      "needs_background": "light"
     },
     "output_type": "display_data"
    }
   ],
   "source": [
    "importances = rf.feature_importances_\n",
    "std = np.std([tree.feature_importances_ for tree in rf.estimators_],\n",
    "             axis=0)\n",
    "indices = np.argsort(importances)[::-1]\n",
    "\n",
    "\n",
    "plt.figure()\n",
    "plt.title(\"Feature importance\")\n",
    "plt.bar(X.columns, importances[indices],\n",
    "       color=\"r\", yerr=std[indices], align=\"center\")\n",
    "plt.xticks(rotation=45)\n",
    "plt.show()"
   ]
  },
  {
   "cell_type": "markdown",
   "metadata": {},
   "source": [
    "### Wrappery\n",
    "Oceniają poszczególne zbiory parametrów na podstawie wybranych metryk (accuracy, AUC, ...). Zazwyczaj działa to w ten sposób, że iteracyjnie dodajemy/odejmujemy kolejne parametry aż osiągniemy daną liczbę parametrów/wynik modelu.\n",
    "\n",
    "**Przykłady:**\n",
    "- Recursive Feature Elimination\n",
    "- Forward Selection\n",
    "- Boruta"
   ]
  },
  {
   "cell_type": "markdown",
   "metadata": {},
   "source": [
    "#### Recursive Feature Elimination\n",
    "1. Uczymy model na wszystkich zmiennych\n",
    "2. Iteracyjnie usuwamy kolejne zmienne, które mają najmniejszy importance (atrybut: feature_importances_)\n",
    "3. Powtarzamy 1 i 2 aż osiągniemy określoną liczbę zmiennych"
   ]
  },
  {
   "cell_type": "code",
   "execution_count": 28,
   "metadata": {
    "ExecuteTime": {
     "end_time": "2020-04-06T19:11:48.973441Z",
     "start_time": "2020-04-06T19:11:48.955919Z"
    }
   },
   "outputs": [],
   "source": [
    "from sklearn.feature_selection import RFE\n",
    "estimator = tree_model\n",
    "selector = RFE(estimator, n_features_to_select=3, step=1)\n",
    "selector = selector.fit(X_train, y_train) "
   ]
  },
  {
   "cell_type": "code",
   "execution_count": 29,
   "metadata": {
    "ExecuteTime": {
     "end_time": "2020-04-06T19:11:48.978631Z",
     "start_time": "2020-04-06T19:11:48.975184Z"
    }
   },
   "outputs": [
    {
     "name": "stdout",
     "output_type": "stream",
     "text": [
      "[False False  True False False False  True False  True]\n"
     ]
    },
    {
     "data": {
      "text/plain": [
       "array([4, 2, 1, 6, 7, 3, 1, 5, 1])"
      ]
     },
     "execution_count": 29,
     "metadata": {},
     "output_type": "execute_result"
    }
   ],
   "source": [
    "print(selector.support_)\n",
    "selector.ranking_"
   ]
  },
  {
   "cell_type": "code",
   "execution_count": 30,
   "metadata": {
    "ExecuteTime": {
     "end_time": "2020-04-06T19:11:48.984088Z",
     "start_time": "2020-04-06T19:11:48.980145Z"
    }
   },
   "outputs": [],
   "source": [
    "# tree_model.feature_importances_"
   ]
  },
  {
   "cell_type": "markdown",
   "metadata": {},
   "source": [
    "## AUTO_ML\n",
    "Istnieje dużo gotowych narzędzi np. TPOT, auto-sklearn, ..."
   ]
  },
  {
   "cell_type": "code",
   "execution_count": 31,
   "metadata": {
    "ExecuteTime": {
     "end_time": "2020-04-06T19:11:48.990184Z",
     "start_time": "2020-04-06T19:11:48.985822Z"
    }
   },
   "outputs": [],
   "source": [
    "# ! pip install tpot"
   ]
  },
  {
   "cell_type": "code",
   "execution_count": 32,
   "metadata": {
    "ExecuteTime": {
     "end_time": "2020-04-06T19:15:39.397368Z",
     "start_time": "2020-04-06T19:11:48.991327Z"
    }
   },
   "outputs": [
    {
     "data": {
      "application/vnd.jupyter.widget-view+json": {
       "model_id": "",
       "version_major": 2,
       "version_minor": 0
      },
      "text/plain": [
       "HBox(children=(FloatProgress(value=0.0, description='Optimization Progress', max=600.0, style=ProgressStyle(de…"
      ]
     },
     "metadata": {},
     "output_type": "display_data"
    },
    {
     "name": "stdout",
     "output_type": "stream",
     "text": [
      "Generation 1 - Current best internal CV score: 0.7264346538319142\n",
      "Generation 2 - Current best internal CV score: 0.7426508700481304\n",
      "Generation 3 - Current best internal CV score: 0.7426508700481304\n",
      "Generation 4 - Current best internal CV score: 0.7426508700481304\n",
      "Generation 5 - Current best internal CV score: 0.7426508700481304\n",
      "\n",
      "Best pipeline: LinearSVC(input_matrix, C=5.0, dual=False, loss=squared_hinge, penalty=l1, tol=0.1)\n"
     ]
    },
    {
     "data": {
      "text/plain": [
       "TPOTClassifier(config_dict=None, crossover_rate=0.1, cv=5,\n",
       "               disable_update_check=False, early_stop=None, generations=5,\n",
       "               max_eval_time_mins=5, max_time_mins=None, memory=None,\n",
       "               mutation_rate=0.9, n_jobs=1, offspring_size=None,\n",
       "               periodic_checkpoint_folder=None, population_size=100,\n",
       "               random_state=None, scoring=None, subsample=1.0, template=None,\n",
       "               use_dask=False, verbosity=2, warm_start=False)"
      ]
     },
     "execution_count": 32,
     "metadata": {},
     "output_type": "execute_result"
    }
   ],
   "source": [
    "from tpot import TPOTClassifier\n",
    "#from tpot import TPOTRegressor\n",
    "\n",
    "tpot = TPOTClassifier(generations=5,verbosity=2)\n",
    "\n",
    "tpot.fit(X_train, y_train)"
   ]
  },
  {
   "attachments": {},
   "cell_type": "markdown",
   "metadata": {},
   "source": [
    "![alt text](img/tpot.png)"
   ]
  },
  {
   "cell_type": "code",
   "execution_count": 33,
   "metadata": {
    "ExecuteTime": {
     "end_time": "2020-04-06T19:15:39.405797Z",
     "start_time": "2020-04-06T19:15:39.398473Z"
    }
   },
   "outputs": [
    {
     "data": {
      "text/plain": [
       "0.7311827956989247"
      ]
     },
     "execution_count": 33,
     "metadata": {},
     "output_type": "execute_result"
    }
   ],
   "source": [
    "tpot.score(X_test, y_test)"
   ]
  },
  {
   "cell_type": "markdown",
   "metadata": {},
   "source": [
    "## XAI"
   ]
  },
  {
   "cell_type": "markdown",
   "metadata": {},
   "source": [
    "### Ceterus Paribus\n",
    "https://pbiecek.github.io/ema/ceterisParibus.html"
   ]
  },
  {
   "cell_type": "code",
   "execution_count": 34,
   "metadata": {
    "ExecuteTime": {
     "end_time": "2020-04-06T19:15:39.423063Z",
     "start_time": "2020-04-06T19:15:39.407002Z"
    }
   },
   "outputs": [],
   "source": [
    "from sklearn.tree import DecisionTreeClassifier\n",
    "tree_model= DecisionTreeClassifier()\n",
    "tree_model.fit(X_train, y_train);"
   ]
  },
  {
   "cell_type": "code",
   "execution_count": 35,
   "metadata": {
    "ExecuteTime": {
     "end_time": "2020-04-06T19:15:39.434685Z",
     "start_time": "2020-04-06T19:15:39.424182Z"
    }
   },
   "outputs": [
    {
     "data": {
      "text/html": [
       "<div>\n",
       "<style scoped>\n",
       "    .dataframe tbody tr th:only-of-type {\n",
       "        vertical-align: middle;\n",
       "    }\n",
       "\n",
       "    .dataframe tbody tr th {\n",
       "        vertical-align: top;\n",
       "    }\n",
       "\n",
       "    .dataframe thead th {\n",
       "        text-align: right;\n",
       "    }\n",
       "</style>\n",
       "<table border=\"1\" class=\"dataframe\">\n",
       "  <thead>\n",
       "    <tr style=\"text-align: right;\">\n",
       "      <th></th>\n",
       "      <th>sbp</th>\n",
       "      <th>tobacco</th>\n",
       "      <th>ldl</th>\n",
       "      <th>adiposity</th>\n",
       "      <th>famhist</th>\n",
       "      <th>typea</th>\n",
       "      <th>obesity</th>\n",
       "      <th>alcohol</th>\n",
       "      <th>age</th>\n",
       "    </tr>\n",
       "  </thead>\n",
       "  <tbody>\n",
       "    <tr>\n",
       "      <th>49</th>\n",
       "      <td>126</td>\n",
       "      <td>3.80</td>\n",
       "      <td>3.88</td>\n",
       "      <td>31.79</td>\n",
       "      <td>0</td>\n",
       "      <td>57</td>\n",
       "      <td>30.53</td>\n",
       "      <td>0.00</td>\n",
       "      <td>30</td>\n",
       "    </tr>\n",
       "    <tr>\n",
       "      <th>85</th>\n",
       "      <td>130</td>\n",
       "      <td>0.56</td>\n",
       "      <td>3.30</td>\n",
       "      <td>30.86</td>\n",
       "      <td>0</td>\n",
       "      <td>49</td>\n",
       "      <td>27.52</td>\n",
       "      <td>33.33</td>\n",
       "      <td>45</td>\n",
       "    </tr>\n",
       "    <tr>\n",
       "      <th>34</th>\n",
       "      <td>148</td>\n",
       "      <td>5.50</td>\n",
       "      <td>7.10</td>\n",
       "      <td>25.31</td>\n",
       "      <td>0</td>\n",
       "      <td>56</td>\n",
       "      <td>29.84</td>\n",
       "      <td>3.60</td>\n",
       "      <td>48</td>\n",
       "    </tr>\n",
       "    <tr>\n",
       "      <th>231</th>\n",
       "      <td>136</td>\n",
       "      <td>13.20</td>\n",
       "      <td>7.18</td>\n",
       "      <td>35.95</td>\n",
       "      <td>0</td>\n",
       "      <td>48</td>\n",
       "      <td>29.19</td>\n",
       "      <td>0.00</td>\n",
       "      <td>62</td>\n",
       "    </tr>\n",
       "    <tr>\n",
       "      <th>236</th>\n",
       "      <td>126</td>\n",
       "      <td>5.50</td>\n",
       "      <td>3.78</td>\n",
       "      <td>34.15</td>\n",
       "      <td>0</td>\n",
       "      <td>55</td>\n",
       "      <td>28.85</td>\n",
       "      <td>3.18</td>\n",
       "      <td>61</td>\n",
       "    </tr>\n",
       "  </tbody>\n",
       "</table>\n",
       "</div>"
      ],
      "text/plain": [
       "     sbp  tobacco   ldl  adiposity  famhist  typea  obesity  alcohol  age\n",
       "49   126     3.80  3.88      31.79        0     57    30.53     0.00   30\n",
       "85   130     0.56  3.30      30.86        0     49    27.52    33.33   45\n",
       "34   148     5.50  7.10      25.31        0     56    29.84     3.60   48\n",
       "231  136    13.20  7.18      35.95        0     48    29.19     0.00   62\n",
       "236  126     5.50  3.78      34.15        0     55    28.85     3.18   61"
      ]
     },
     "execution_count": 35,
     "metadata": {},
     "output_type": "execute_result"
    }
   ],
   "source": [
    "X_test.head()"
   ]
  },
  {
   "cell_type": "code",
   "execution_count": 36,
   "metadata": {
    "ExecuteTime": {
     "end_time": "2020-04-06T19:15:39.440918Z",
     "start_time": "2020-04-06T19:15:39.435713Z"
    }
   },
   "outputs": [],
   "source": [
    "from ceteris_paribus.explainer import explain\n",
    "\n",
    "explainer_tree = explain(tree_model, data=X, y=y, label='TreeClassifier',\n",
    "    predict_function=lambda X: tree_model.predict_proba(X)[::, 1])"
   ]
  },
  {
   "cell_type": "code",
   "execution_count": 37,
   "metadata": {
    "ExecuteTime": {
     "end_time": "2020-04-06T19:15:39.448459Z",
     "start_time": "2020-04-06T19:15:39.441940Z"
    }
   },
   "outputs": [],
   "source": [
    "obs = X_test.iloc[2,:]\n",
    "obs_label = y_test[2]"
   ]
  },
  {
   "cell_type": "code",
   "execution_count": 38,
   "metadata": {
    "ExecuteTime": {
     "end_time": "2020-04-06T19:15:39.494364Z",
     "start_time": "2020-04-06T19:15:39.449601Z"
    }
   },
   "outputs": [],
   "source": [
    "from ceteris_paribus.profiles import individual_variable_profile\n",
    "cp_tree = individual_variable_profile(explainer_tree, obs, obs_label)"
   ]
  },
  {
   "cell_type": "code",
   "execution_count": 39,
   "metadata": {
    "ExecuteTime": {
     "end_time": "2020-04-06T19:15:39.886376Z",
     "start_time": "2020-04-06T19:15:39.495465Z"
    }
   },
   "outputs": [],
   "source": [
    "from ceteris_paribus.plots.plots import plot\n",
    "plot(cp_tree, selected_variables=['age','tobacco','alcohol','obesity'])"
   ]
  },
  {
   "cell_type": "markdown",
   "metadata": {},
   "source": [
    "Zobaczmy teraz bardziej złożony klasyfikator"
   ]
  },
  {
   "cell_type": "code",
   "execution_count": 40,
   "metadata": {
    "ExecuteTime": {
     "end_time": "2020-04-06T19:15:39.930921Z",
     "start_time": "2020-04-06T19:15:39.887966Z"
    }
   },
   "outputs": [],
   "source": [
    "from xgboost import XGBClassifier\n",
    "xgb_model= XGBClassifier()\n",
    "xgb_model.fit(X_train, y_train);"
   ]
  },
  {
   "cell_type": "code",
   "execution_count": 41,
   "metadata": {
    "ExecuteTime": {
     "end_time": "2020-04-06T19:15:40.266347Z",
     "start_time": "2020-04-06T19:15:39.932810Z"
    }
   },
   "outputs": [],
   "source": [
    "explainer_xgb = explain(xgb_model, data=X, y=y, label='XGBoost',\n",
    "    predict_function=lambda X: xgb_model.predict_proba(X)[::, 1])\n",
    "cp_xgb = individual_variable_profile(explainer_xgb, obs, obs_label)\n",
    "plot(cp_xgb, selected_variables=['age','tobacco','alcohol','obesity'])"
   ]
  },
  {
   "cell_type": "markdown",
   "metadata": {},
   "source": [
    "### PD - plot\n",
    "https://pbiecek.github.io/ema/partialDependenceProfiles.html\n",
    "\n",
    "Uśredniony Ceterus Paribus dla wszystkich obserwacji - zachęcam do własnej implementacji"
   ]
  },
  {
   "cell_type": "markdown",
   "metadata": {},
   "source": [
    "### SHAP\n",
    "https://github.com/slundberg/shap"
   ]
  }
 ],
 "metadata": {
  "kernelspec": {
   "display_name": "Python 3",
   "language": "python",
   "name": "python3"
  },
  "language_info": {
   "codemirror_mode": {
    "name": "ipython",
    "version": 3
   },
   "file_extension": ".py",
   "mimetype": "text/x-python",
   "name": "python",
   "nbconvert_exporter": "python",
   "pygments_lexer": "ipython3",
   "version": "3.7.4"
  },
  "toc": {
   "base_numbering": 1,
   "nav_menu": {},
   "number_sections": true,
   "sideBar": true,
   "skip_h1_title": true,
   "title_cell": "Table of Contents",
   "title_sidebar": "Contents",
   "toc_cell": false,
   "toc_position": {},
   "toc_section_display": true,
   "toc_window_display": false
  }
 },
 "nbformat": 4,
 "nbformat_minor": 2
}
