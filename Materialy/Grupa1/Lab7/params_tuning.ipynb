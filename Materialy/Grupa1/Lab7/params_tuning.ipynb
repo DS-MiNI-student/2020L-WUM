{
 "cells": [
  {
   "cell_type": "markdown",
   "metadata": {},
   "source": [
    "# Strojenie parametrów - czyli jak znaleźć najlepszy model?"
   ]
  },
  {
   "attachments": {},
   "cell_type": "markdown",
   "metadata": {},
   "source": [
    "![image.png](http://snoek.ddns.net/~oliver/mysite/images/blog7_accuracyprecision_banner.png)\n",
    "http://snoek.ddns.net/~oliver/mysite/the-bias-variance-tradeoff.html"
   ]
  },
  {
   "cell_type": "code",
   "execution_count": null,
   "metadata": {},
   "outputs": [],
   "source": []
  },
  {
   "cell_type": "code",
   "execution_count": 25,
   "metadata": {},
   "outputs": [],
   "source": [
    "import numpy as np\n",
    "import pandas as pd\n",
    "import warnings\n",
    "warnings.filterwarnings('ignore')\n",
    "np.random.seed(123) "
   ]
  },
  {
   "cell_type": "code",
   "execution_count": 3,
   "metadata": {},
   "outputs": [],
   "source": [
    "data=pd.read_csv('heart.csv')"
   ]
  },
  {
   "cell_type": "code",
   "execution_count": 4,
   "metadata": {},
   "outputs": [],
   "source": [
    "y = np.array(data['chd'])\n",
    "X = data.drop(['chd'],axis=1)"
   ]
  },
  {
   "cell_type": "code",
   "execution_count": 5,
   "metadata": {},
   "outputs": [
    {
     "data": {
      "text/html": [
       "<div>\n",
       "<style scoped>\n",
       "    .dataframe tbody tr th:only-of-type {\n",
       "        vertical-align: middle;\n",
       "    }\n",
       "\n",
       "    .dataframe tbody tr th {\n",
       "        vertical-align: top;\n",
       "    }\n",
       "\n",
       "    .dataframe thead th {\n",
       "        text-align: right;\n",
       "    }\n",
       "</style>\n",
       "<table border=\"1\" class=\"dataframe\">\n",
       "  <thead>\n",
       "    <tr style=\"text-align: right;\">\n",
       "      <th></th>\n",
       "      <th>sbp</th>\n",
       "      <th>tobacco</th>\n",
       "      <th>ldl</th>\n",
       "      <th>adiposity</th>\n",
       "      <th>famhist</th>\n",
       "      <th>typea</th>\n",
       "      <th>obesity</th>\n",
       "      <th>alcohol</th>\n",
       "      <th>age</th>\n",
       "    </tr>\n",
       "  </thead>\n",
       "  <tbody>\n",
       "    <tr>\n",
       "      <th>0</th>\n",
       "      <td>160</td>\n",
       "      <td>12.00</td>\n",
       "      <td>5.73</td>\n",
       "      <td>23.11</td>\n",
       "      <td>1</td>\n",
       "      <td>49</td>\n",
       "      <td>25.30</td>\n",
       "      <td>97.20</td>\n",
       "      <td>52</td>\n",
       "    </tr>\n",
       "    <tr>\n",
       "      <th>1</th>\n",
       "      <td>144</td>\n",
       "      <td>0.01</td>\n",
       "      <td>4.41</td>\n",
       "      <td>28.61</td>\n",
       "      <td>0</td>\n",
       "      <td>55</td>\n",
       "      <td>28.87</td>\n",
       "      <td>2.06</td>\n",
       "      <td>63</td>\n",
       "    </tr>\n",
       "    <tr>\n",
       "      <th>2</th>\n",
       "      <td>118</td>\n",
       "      <td>0.08</td>\n",
       "      <td>3.48</td>\n",
       "      <td>32.28</td>\n",
       "      <td>1</td>\n",
       "      <td>52</td>\n",
       "      <td>29.14</td>\n",
       "      <td>3.81</td>\n",
       "      <td>46</td>\n",
       "    </tr>\n",
       "    <tr>\n",
       "      <th>3</th>\n",
       "      <td>170</td>\n",
       "      <td>7.50</td>\n",
       "      <td>6.41</td>\n",
       "      <td>38.03</td>\n",
       "      <td>1</td>\n",
       "      <td>51</td>\n",
       "      <td>31.99</td>\n",
       "      <td>24.26</td>\n",
       "      <td>58</td>\n",
       "    </tr>\n",
       "    <tr>\n",
       "      <th>4</th>\n",
       "      <td>134</td>\n",
       "      <td>13.60</td>\n",
       "      <td>3.50</td>\n",
       "      <td>27.78</td>\n",
       "      <td>1</td>\n",
       "      <td>60</td>\n",
       "      <td>25.99</td>\n",
       "      <td>57.34</td>\n",
       "      <td>49</td>\n",
       "    </tr>\n",
       "  </tbody>\n",
       "</table>\n",
       "</div>"
      ],
      "text/plain": [
       "   sbp  tobacco   ldl  adiposity  famhist  typea  obesity  alcohol  age\n",
       "0  160    12.00  5.73      23.11        1     49    25.30    97.20   52\n",
       "1  144     0.01  4.41      28.61        0     55    28.87     2.06   63\n",
       "2  118     0.08  3.48      32.28        1     52    29.14     3.81   46\n",
       "3  170     7.50  6.41      38.03        1     51    31.99    24.26   58\n",
       "4  134    13.60  3.50      27.78        1     60    25.99    57.34   49"
      ]
     },
     "execution_count": 5,
     "metadata": {},
     "output_type": "execute_result"
    }
   ],
   "source": [
    "map_dict = {'Present': 1, 'Absent':0}\n",
    "X['famhist'] = X['famhist'].map(map_dict)\n",
    "X.head()"
   ]
  },
  {
   "cell_type": "markdown",
   "metadata": {},
   "source": [
    "### Podział na train, test"
   ]
  },
  {
   "cell_type": "code",
   "execution_count": 6,
   "metadata": {},
   "outputs": [],
   "source": [
    "from sklearn.model_selection import train_test_split\n",
    "X_train, X_test, y_train, y_test =train_test_split(X, y, test_size=0.2)"
   ]
  },
  {
   "cell_type": "markdown",
   "metadata": {},
   "source": [
    "### Drzewo decyzyjne"
   ]
  },
  {
   "cell_type": "code",
   "execution_count": 7,
   "metadata": {},
   "outputs": [],
   "source": [
    "from sklearn.tree import DecisionTreeClassifier\n",
    "#parametry domyślne\n",
    "tree_model= DecisionTreeClassifier()"
   ]
  },
  {
   "cell_type": "code",
   "execution_count": 8,
   "metadata": {},
   "outputs": [
    {
     "data": {
      "text/plain": [
       "DecisionTreeClassifier(ccp_alpha=0.0, class_weight=None, criterion='gini',\n",
       "                       max_depth=None, max_features=None, max_leaf_nodes=None,\n",
       "                       min_impurity_decrease=0.0, min_impurity_split=None,\n",
       "                       min_samples_leaf=1, min_samples_split=2,\n",
       "                       min_weight_fraction_leaf=0.0, presort='deprecated',\n",
       "                       random_state=None, splitter='best')"
      ]
     },
     "execution_count": 8,
     "metadata": {},
     "output_type": "execute_result"
    }
   ],
   "source": [
    "tree_model"
   ]
  },
  {
   "cell_type": "code",
   "execution_count": 9,
   "metadata": {},
   "outputs": [],
   "source": [
    "tree_model.fit(X_train, y_train);"
   ]
  },
  {
   "cell_type": "code",
   "execution_count": 10,
   "metadata": {},
   "outputs": [
    {
     "data": {
      "text/plain": [
       "0.6344086021505376"
      ]
     },
     "execution_count": 10,
     "metadata": {},
     "output_type": "execute_result"
    }
   ],
   "source": [
    "tree_model.score(X_test, y_test)"
   ]
  },
  {
   "cell_type": "markdown",
   "metadata": {},
   "source": [
    "### Kroswalidacja"
   ]
  },
  {
   "cell_type": "code",
   "execution_count": 11,
   "metadata": {},
   "outputs": [
    {
     "name": "stdout",
     "output_type": "stream",
     "text": [
      "0.6644693782141188 0.023197947221853043\n"
     ]
    }
   ],
   "source": [
    "import sklearn\n",
    "from sklearn.model_selection import cross_val_score\n",
    "tree_model= DecisionTreeClassifier()\n",
    "results=cross_val_score(tree_model, X, y) # można zdefiniować: scoring='roc_auc'\n",
    "# uwaga: tutaj nie strojono parametrów więc można użyć całego zbioru\n",
    "print(np.mean(results), np.std(results))"
   ]
  },
  {
   "cell_type": "code",
   "execution_count": 12,
   "metadata": {},
   "outputs": [
    {
     "data": {
      "text/plain": [
       "dict_keys(['explained_variance', 'r2', 'max_error', 'neg_median_absolute_error', 'neg_mean_absolute_error', 'neg_mean_squared_error', 'neg_mean_squared_log_error', 'neg_root_mean_squared_error', 'neg_mean_poisson_deviance', 'neg_mean_gamma_deviance', 'accuracy', 'roc_auc', 'roc_auc_ovr', 'roc_auc_ovo', 'roc_auc_ovr_weighted', 'roc_auc_ovo_weighted', 'balanced_accuracy', 'average_precision', 'neg_log_loss', 'neg_brier_score', 'adjusted_rand_score', 'homogeneity_score', 'completeness_score', 'v_measure_score', 'mutual_info_score', 'adjusted_mutual_info_score', 'normalized_mutual_info_score', 'fowlkes_mallows_score', 'precision', 'precision_macro', 'precision_micro', 'precision_samples', 'precision_weighted', 'recall', 'recall_macro', 'recall_micro', 'recall_samples', 'recall_weighted', 'f1', 'f1_macro', 'f1_micro', 'f1_samples', 'f1_weighted', 'jaccard', 'jaccard_macro', 'jaccard_micro', 'jaccard_samples', 'jaccard_weighted'])"
      ]
     },
     "execution_count": 12,
     "metadata": {},
     "output_type": "execute_result"
    }
   ],
   "source": [
    "sklearn.metrics.SCORERS.keys()"
   ]
  },
  {
   "attachments": {},
   "cell_type": "markdown",
   "metadata": {},
   "source": [
    "\n",
    "![image.png](https://mk0analyticsindf35n9.kinstacdn.com/wp-content/uploads/2018/06/both.png)\n",
    "https://analyticsindiamag.com/why-is-random-search-better-than-grid-search-for-machine-learning/"
   ]
  },
  {
   "cell_type": "markdown",
   "metadata": {},
   "source": [
    "### Grid Search"
   ]
  },
  {
   "cell_type": "code",
   "execution_count": 13,
   "metadata": {},
   "outputs": [],
   "source": [
    "from sklearn.model_selection import GridSearchCV"
   ]
  },
  {
   "cell_type": "code",
   "execution_count": 14,
   "metadata": {},
   "outputs": [],
   "source": [
    "max_depth=[3, 5, 6]\n",
    "criterion=[\"gini\",\"entrophy\"]\n",
    "ccp_alpha=[0, 0.05]\n",
    "param_grid = dict(max_depth=max_depth,criterion=criterion, ccp_alpha=ccp_alpha)"
   ]
  },
  {
   "cell_type": "code",
   "execution_count": 15,
   "metadata": {},
   "outputs": [
    {
     "name": "stdout",
     "output_type": "stream",
     "text": [
      "Best: 0.680217 using {'ccp_alpha': 0, 'criterion': 'gini', 'max_depth': 3}\n"
     ]
    }
   ],
   "source": [
    "tree_model= DecisionTreeClassifier()\n",
    "grid = GridSearchCV(estimator=tree_model, param_grid=param_grid, cv = 3, n_jobs=-1)\n",
    "\n",
    "grid_result = grid.fit(X_train, y_train) #tutaj lepiej zastosować tylko trainset\n",
    "\n",
    "print(\"Best: %f using %s\" % (grid_result.best_score_, grid_result.best_params_))"
   ]
  },
  {
   "cell_type": "code",
   "execution_count": 16,
   "metadata": {},
   "outputs": [
    {
     "name": "stdout",
     "output_type": "stream",
     "text": [
      "Parameters : {'ccp_alpha': 0, 'criterion': 'gini', 'max_depth': 3}\n",
      "Mean test score: 0.68021680\n",
      "Standard Deviation (test) : 0.04267755\n",
      "\n",
      "Parameters : {'ccp_alpha': 0, 'criterion': 'gini', 'max_depth': 5}\n",
      "Mean test score: 0.66666667\n",
      "Standard Deviation (test) : 0.02893517\n",
      "\n",
      "Parameters : {'ccp_alpha': 0, 'criterion': 'gini', 'max_depth': 6}\n",
      "Mean test score: 0.65582656\n",
      "Standard Deviation (test) : 0.04419920\n",
      "\n",
      "Parameters : {'ccp_alpha': 0, 'criterion': 'entrophy', 'max_depth': 3}\n",
      "Mean test score: nan\n",
      "Standard Deviation (test) : nan\n",
      "\n",
      "Parameters : {'ccp_alpha': 0, 'criterion': 'entrophy', 'max_depth': 5}\n",
      "Mean test score: nan\n",
      "Standard Deviation (test) : nan\n",
      "\n",
      "Parameters : {'ccp_alpha': 0, 'criterion': 'entrophy', 'max_depth': 6}\n",
      "Mean test score: nan\n",
      "Standard Deviation (test) : nan\n",
      "\n",
      "Parameters : {'ccp_alpha': 0.05, 'criterion': 'gini', 'max_depth': 3}\n",
      "Mean test score: 0.65853659\n",
      "Standard Deviation (test) : 0.00663818\n",
      "\n",
      "Parameters : {'ccp_alpha': 0.05, 'criterion': 'gini', 'max_depth': 5}\n",
      "Mean test score: 0.65853659\n",
      "Standard Deviation (test) : 0.00663818\n",
      "\n",
      "Parameters : {'ccp_alpha': 0.05, 'criterion': 'gini', 'max_depth': 6}\n",
      "Mean test score: 0.65853659\n",
      "Standard Deviation (test) : 0.00663818\n",
      "\n",
      "Parameters : {'ccp_alpha': 0.05, 'criterion': 'entrophy', 'max_depth': 3}\n",
      "Mean test score: nan\n",
      "Standard Deviation (test) : nan\n",
      "\n",
      "Parameters : {'ccp_alpha': 0.05, 'criterion': 'entrophy', 'max_depth': 5}\n",
      "Mean test score: nan\n",
      "Standard Deviation (test) : nan\n",
      "\n",
      "Parameters : {'ccp_alpha': 0.05, 'criterion': 'entrophy', 'max_depth': 6}\n",
      "Mean test score: nan\n",
      "Standard Deviation (test) : nan\n",
      "\n",
      "Best parameters : {'ccp_alpha': 0, 'criterion': 'gini', 'max_depth': 3}\n",
      "Best accuracy score : 0.68021680\n"
     ]
    }
   ],
   "source": [
    "std_test_scores = grid_result.cv_results_['std_test_score']\n",
    "mean_test_scores = grid_result.cv_results_['mean_test_score']\n",
    "parameters = grid_result.cv_results_['params']\n",
    "\n",
    "for mean_test, std_test, params in zip(mean_test_scores, std_test_scores, parameters):\n",
    "    print('Parameters : {}'.format(params))\n",
    "    print('Mean test score: {:.8f}'.format(mean_test))\n",
    "    print('Standard Deviation (test) : {:.8f}'.format(std_test))\n",
    "    print()\n",
    "\n",
    "print('Best parameters : {}'.format(grid_result.best_params_))\n",
    "print('Best accuracy score : {:.8f}'.format(grid_result.best_score_))\n"
   ]
  },
  {
   "cell_type": "code",
   "execution_count": 17,
   "metadata": {},
   "outputs": [
    {
     "data": {
      "text/plain": [
       "0.6666666666666666"
      ]
     },
     "execution_count": 17,
     "metadata": {},
     "output_type": "execute_result"
    }
   ],
   "source": [
    "best_model=grid_result.best_estimator_\n",
    "best_model.score(X_test, y_test)"
   ]
  },
  {
   "cell_type": "markdown",
   "metadata": {},
   "source": [
    "przykład wizualizacji:\n",
    "    https://scikit-learn.org/stable/auto_examples/model_selection/plot_multi_metric_evaluation.html"
   ]
  },
  {
   "cell_type": "markdown",
   "metadata": {},
   "source": [
    "### Random Search "
   ]
  },
  {
   "cell_type": "code",
   "execution_count": 18,
   "metadata": {},
   "outputs": [],
   "source": [
    "from sklearn.model_selection import RandomizedSearchCV"
   ]
  },
  {
   "cell_type": "code",
   "execution_count": 19,
   "metadata": {},
   "outputs": [
    {
     "name": "stdout",
     "output_type": "stream",
     "text": [
      "Best: 0.680217 using {'max_depth': 3, 'criterion': 'gini', 'ccp_alpha': 0}\n"
     ]
    }
   ],
   "source": [
    "random = RandomizedSearchCV(estimator=tree_model, param_distributions=param_grid, cv = 3, n_jobs=-1)\n",
    "\n",
    "random_result = random.fit(X_train, y_train)\n",
    "# Summarize results\n",
    "print(\"Best: %f using %s\" % (random_result.best_score_, random_result.best_params_))"
   ]
  },
  {
   "cell_type": "code",
   "execution_count": 20,
   "metadata": {},
   "outputs": [
    {
     "data": {
      "text/plain": [
       "0.6666666666666666"
      ]
     },
     "execution_count": 20,
     "metadata": {},
     "output_type": "execute_result"
    }
   ],
   "source": [
    "best_model=random_result.best_estimator_\n",
    "best_model.score(X_test, y_test)"
   ]
  },
  {
   "cell_type": "markdown",
   "metadata": {},
   "source": [
    "- Zdefiniowanie rozkładów"
   ]
  },
  {
   "cell_type": "code",
   "execution_count": 21,
   "metadata": {},
   "outputs": [],
   "source": [
    "from scipy.stats import poisson,expon\n",
    "param_grid = {'ccp_alpha': expon(0.08),\n",
    "             'max_depth': poisson(5)}"
   ]
  },
  {
   "cell_type": "code",
   "execution_count": 22,
   "metadata": {},
   "outputs": [
    {
     "name": "stdout",
     "output_type": "stream",
     "text": [
      "Best: 0.655827 using {'ccp_alpha': 1.2722721434811057, 'max_depth': 7}\n"
     ]
    }
   ],
   "source": [
    "random = RandomizedSearchCV(estimator=tree_model, param_distributions=param_grid, cv = 3, n_jobs=-1, random_state=123)\n",
    "\n",
    "random_result = random.fit(X_train, y_train)\n",
    "# Summarize results\n",
    "print(\"Best: %f using %s\" % (random_result.best_score_, random_result.best_params_))"
   ]
  },
  {
   "cell_type": "markdown",
   "metadata": {},
   "source": [
    "https://ksopyla.com/machine-learning/grid-random-search-scikit-learn-dobor-parametrow/"
   ]
  },
  {
   "cell_type": "markdown",
   "metadata": {},
   "source": [
    "## Bayes optimization"
   ]
  },
  {
   "cell_type": "code",
   "execution_count": 23,
   "metadata": {},
   "outputs": [],
   "source": [
    "#!pip install scikit-optimize"
   ]
  },
  {
   "cell_type": "code",
   "execution_count": 26,
   "metadata": {},
   "outputs": [
    {
     "name": "stdout",
     "output_type": "stream",
     "text": [
      "val. score: 0.7127371273712737\n",
      "test score: 0.6881720430107527\n"
     ]
    }
   ],
   "source": [
    "from skopt import BayesSearchCV\n",
    "from sklearn.svm import SVC\n",
    "\n",
    "# log-uniform: understand as search over p = exp(x) by varying x\n",
    "opt = BayesSearchCV(\n",
    "    SVC(),\n",
    "    {\n",
    "        'C': (1e-6, 1e+6, 'log-uniform'),\n",
    "        'degree': (1, 8),  # integer valued parameter\n",
    "        'kernel': ['linear', 'poly', 'rbf'],  # categorical parameter\n",
    "    },\n",
    "    n_iter=5, #generalnie powinno być więcej, ale wtedy długo trwa\n",
    "    cv=3\n",
    ")\n",
    "\n",
    "opt.fit(X_train, y_train)\n",
    "\n",
    "print(\"val. score: %s\" % opt.best_score_)\n",
    "print(\"test score: %s\" % opt.score(X_test, y_test))"
   ]
  },
  {
   "cell_type": "markdown",
   "metadata": {},
   "source": [
    "https://scikit-optimize.github.io/stable/auto_examples/sklearn-gridsearchcv-replacement.html"
   ]
  },
  {
   "cell_type": "markdown",
   "metadata": {},
   "source": [
    "## Jak robić strojenie parametrów dla różnych modeli?\n",
    "- http://www.davidsbatista.net/blog/2018/02/23/model_optimization/\n",
    "- https://stackoverflow.com/questions/50265993/alternate-different-models-in-pipeline-for-gridsearchcv"
   ]
  },
  {
   "cell_type": "markdown",
   "metadata": {},
   "source": [
    "## automl from sklearn\n",
    "(działa tylko na Linuxie - rozwiązanie: korzystać z Google Colaboratory)"
   ]
  },
  {
   "cell_type": "code",
   "execution_count": 150,
   "metadata": {
    "collapsed": true
   },
   "outputs": [
    {
     "ename": "ModuleNotFoundError",
     "evalue": "No module named 'autosklearn'",
     "output_type": "error",
     "traceback": [
      "\u001b[1;31m---------------------------------------------------------------------------\u001b[0m",
      "\u001b[1;31mModuleNotFoundError\u001b[0m                       Traceback (most recent call last)",
      "\u001b[1;32m<ipython-input-150-71961105b280>\u001b[0m in \u001b[0;36m<module>\u001b[1;34m\u001b[0m\n\u001b[1;32m----> 1\u001b[1;33m \u001b[1;32mimport\u001b[0m \u001b[0mautosklearn\u001b[0m\u001b[1;33m.\u001b[0m\u001b[0mclassification\u001b[0m\u001b[1;33m\u001b[0m\u001b[1;33m\u001b[0m\u001b[0m\n\u001b[0m\u001b[0;32m      2\u001b[0m \u001b[0mautoml\u001b[0m \u001b[1;33m=\u001b[0m \u001b[0mautosklearn\u001b[0m\u001b[1;33m.\u001b[0m\u001b[0mclassification\u001b[0m\u001b[1;33m.\u001b[0m\u001b[0mAutoSklearnClassifier\u001b[0m\u001b[1;33m(\u001b[0m\u001b[1;33m)\u001b[0m\u001b[1;33m\u001b[0m\u001b[1;33m\u001b[0m\u001b[0m\n\u001b[0;32m      3\u001b[0m \u001b[0mautoml\u001b[0m\u001b[1;33m.\u001b[0m\u001b[0mfit\u001b[0m\u001b[1;33m(\u001b[0m\u001b[0mX_train\u001b[0m\u001b[1;33m,\u001b[0m \u001b[0my_train\u001b[0m\u001b[1;33m)\u001b[0m\u001b[1;33m\u001b[0m\u001b[1;33m\u001b[0m\u001b[0m\n\u001b[0;32m      4\u001b[0m \u001b[0my_pred\u001b[0m \u001b[1;33m=\u001b[0m \u001b[0mautoml\u001b[0m\u001b[1;33m.\u001b[0m\u001b[0mpredict\u001b[0m\u001b[1;33m(\u001b[0m\u001b[0mX_test\u001b[0m\u001b[1;33m)\u001b[0m\u001b[1;33m\u001b[0m\u001b[1;33m\u001b[0m\u001b[0m\n\u001b[0;32m      5\u001b[0m \u001b[0mprint\u001b[0m\u001b[1;33m(\u001b[0m\u001b[1;34m\"Accuracy score\"\u001b[0m\u001b[1;33m,\u001b[0m \u001b[0msklearn\u001b[0m\u001b[1;33m.\u001b[0m\u001b[0mmetrics\u001b[0m\u001b[1;33m.\u001b[0m\u001b[0maccuracy_score\u001b[0m\u001b[1;33m(\u001b[0m\u001b[0my_test\u001b[0m\u001b[1;33m,\u001b[0m \u001b[0my_pred\u001b[0m\u001b[1;33m)\u001b[0m\u001b[1;33m)\u001b[0m\u001b[1;33m\u001b[0m\u001b[1;33m\u001b[0m\u001b[0m\n",
      "\u001b[1;31mModuleNotFoundError\u001b[0m: No module named 'autosklearn'"
     ]
    }
   ],
   "source": [
    "import autosklearn.classification\n",
    "automl = autosklearn.classification.AutoSklearnClassifier()\n",
    "automl.fit(X_train, y_train)\n",
    "y_pred = automl.predict(X_test)\n",
    "print(\"Accuracy score\", sklearn.metrics.accuracy_score(y_test, y_pred))"
   ]
  },
  {
   "cell_type": "markdown",
   "metadata": {},
   "source": [
    "### TPOT"
   ]
  },
  {
   "attachments": {},
   "cell_type": "markdown",
   "metadata": {},
   "source": [
    "![image.png](https://res.cloudinary.com/dyd911kmh/image/upload/f_auto,q_auto:best/v1537396029/output_2_0_d7uh0v.png)\n",
    "https://www.datacamp.com/community/tutorials/tpot-machine-learning-python"
   ]
  },
  {
   "cell_type": "code",
   "execution_count": null,
   "metadata": {},
   "outputs": [],
   "source": [
    "# ! pip install tpot"
   ]
  },
  {
   "cell_type": "code",
   "execution_count": 27,
   "metadata": {},
   "outputs": [
    {
     "data": {
      "application/vnd.jupyter.widget-view+json": {
       "model_id": "",
       "version_major": 2,
       "version_minor": 0
      },
      "text/plain": [
       "HBox(children=(FloatProgress(value=0.0, description='Optimization Progress', max=600.0, style=ProgressStyle(de…"
      ]
     },
     "metadata": {},
     "output_type": "display_data"
    },
    {
     "name": "stdout",
     "output_type": "stream",
     "text": [
      "Generation 1 - Current best internal CV score: 0.7209922251018142\n",
      "Generation 2 - Current best internal CV score: 0.7262865605331358\n",
      "Generation 3 - Current best internal CV score: 0.7290633098852276\n",
      "Generation 4 - Current best internal CV score: 0.7290633098852276\n",
      "Generation 5 - Current best internal CV score: 0.734394668641244\n",
      "\n",
      "Best pipeline: GaussianNB(PCA(ExtraTreesClassifier(StandardScaler(input_matrix), bootstrap=True, criterion=entropy, max_features=0.6500000000000001, min_samples_leaf=18, min_samples_split=17, n_estimators=100), iterated_power=8, svd_solver=randomized))\n"
     ]
    },
    {
     "data": {
      "text/plain": [
       "TPOTClassifier(config_dict=None, crossover_rate=0.1, cv=5,\n",
       "               disable_update_check=False, early_stop=None, generations=5,\n",
       "               max_eval_time_mins=5, max_time_mins=None, memory=None,\n",
       "               mutation_rate=0.9, n_jobs=1, offspring_size=None,\n",
       "               periodic_checkpoint_folder=None, population_size=100,\n",
       "               random_state=None, scoring=None, subsample=1.0, template=None,\n",
       "               use_dask=False, verbosity=2, warm_start=False)"
      ]
     },
     "execution_count": 27,
     "metadata": {},
     "output_type": "execute_result"
    }
   ],
   "source": [
    "from tpot import TPOTClassifier\n",
    "#from tpot import TPOTRegressor\n",
    "\n",
    "tpot = TPOTClassifier(generations=5,verbosity=2)\n",
    "\n",
    "tpot.fit(X_train, y_train)"
   ]
  },
  {
   "cell_type": "code",
   "execution_count": 32,
   "metadata": {},
   "outputs": [
    {
     "data": {
      "text/plain": [
       "0.7634408602150538"
      ]
     },
     "execution_count": 32,
     "metadata": {},
     "output_type": "execute_result"
    }
   ],
   "source": [
    "tpot.score(X_test, y_test)"
   ]
  },
  {
   "cell_type": "markdown",
   "metadata": {},
   "source": [
    "## Feature importance"
   ]
  },
  {
   "cell_type": "code",
   "execution_count": 33,
   "metadata": {},
   "outputs": [
    {
     "data": {
      "text/plain": [
       "RandomForestClassifier(bootstrap=True, ccp_alpha=0.0, class_weight='balanced',\n",
       "                       criterion='gini', max_depth=5, max_features='auto',\n",
       "                       max_leaf_nodes=None, max_samples=None,\n",
       "                       min_impurity_decrease=0.0, min_impurity_split=None,\n",
       "                       min_samples_leaf=1, min_samples_split=2,\n",
       "                       min_weight_fraction_leaf=0.0, n_estimators=100,\n",
       "                       n_jobs=-1, oob_score=False, random_state=None, verbose=0,\n",
       "                       warm_start=False)"
      ]
     },
     "execution_count": 33,
     "metadata": {},
     "output_type": "execute_result"
    }
   ],
   "source": [
    "from sklearn.ensemble import RandomForestClassifier\n",
    "import seaborn as sns\n",
    "import matplotlib.pyplot as plt\n",
    "rf = RandomForestClassifier(n_jobs=-1, class_weight='balanced', max_depth=5)\n",
    "rf.fit(X_train, y_train)"
   ]
  },
  {
   "cell_type": "code",
   "execution_count": 34,
   "metadata": {},
   "outputs": [
    {
     "data": {
      "image/png": "[encoded data removed]",
      "text/plain": [
       "<Figure size 432x288 with 1 Axes>"
      ]
     },
     "metadata": {
      "needs_background": "light"
     },
     "output_type": "display_data"
    }
   ],
   "source": [
    "importances = rf.feature_importances_\n",
    "std = np.std([tree.feature_importances_ for tree in rf.estimators_],\n",
    "             axis=0)\n",
    "indices = np.argsort(importances)[::-1]\n",
    "\n",
    "\n",
    "plt.figure()\n",
    "plt.title(\"Feature importance\")\n",
    "plt.bar(X.columns, importances[indices],\n",
    "       color=\"r\", yerr=std[indices], align=\"center\")\n",
    "plt.xticks(rotation=45)\n",
    "plt.show()"
   ]
  },
  {
   "cell_type": "markdown",
   "metadata": {},
   "source": [
    "## Selekcja zmiennych"
   ]
  },
  {
   "cell_type": "markdown",
   "metadata": {},
   "source": [
    "### SelectKBest (na podstawie algorytmu ANOVA)"
   ]
  },
  {
   "cell_type": "code",
   "execution_count": 53,
   "metadata": {},
   "outputs": [],
   "source": [
    "from sklearn.pipeline import Pipeline\n",
    "from sklearn.feature_selection import SelectKBest\n",
    "tree_model=DecisionTreeClassifier()\n",
    "\n",
    "pipe = Pipeline([\n",
    "    ('select', SelectKBest()),\n",
    "    ('model', tree_model)])\n",
    "\n",
    "k=[5,6]\n",
    "max_depth=[3, 5, 6]\n",
    "criterion=[\"gini\",\"entrophy\"]\n",
    "\n",
    "# uwaga: gdy podajemy parametry do strojenia gdy mamy pipeline to trzeba w nazwach kluczy podać nazwę_danego_etapu__ \n",
    "# (poprzedzoną dwoma podkreślnikami)\n",
    "param_grid = {\"model__max_depth\": max_depth, \"model__criterion\": criterion, \"select__k\": k}\n",
    "\n",
    "search = GridSearchCV(pipe, param_grid, cv=5).fit(X_train, y_train)"
   ]
  },
  {
   "cell_type": "code",
   "execution_count": 54,
   "metadata": {},
   "outputs": [
    {
     "data": {
      "text/plain": [
       "0.7204301075268817"
      ]
     },
     "execution_count": 54,
     "metadata": {},
     "output_type": "execute_result"
    }
   ],
   "source": [
    "search.score(X_test, y_test)"
   ]
  },
  {
   "cell_type": "markdown",
   "metadata": {},
   "source": [
    "### Recursive Feature Elimination"
   ]
  },
  {
   "cell_type": "code",
   "execution_count": 55,
   "metadata": {},
   "outputs": [],
   "source": [
    "from sklearn.feature_selection import RFE\n",
    "estimator = tree_model\n",
    "selector = RFE(estimator, n_features_to_select=3, step=1)\n",
    "selector = selector.fit(X_train, y_train) "
   ]
  },
  {
   "cell_type": "code",
   "execution_count": 56,
   "metadata": {},
   "outputs": [
    {
     "name": "stdout",
     "output_type": "stream",
     "text": [
      "[False False  True False False False  True False  True]\n"
     ]
    },
    {
     "data": {
      "text/plain": [
       "array([6, 3, 1, 4, 7, 2, 1, 5, 1])"
      ]
     },
     "execution_count": 56,
     "metadata": {},
     "output_type": "execute_result"
    }
   ],
   "source": [
    "print(selector.support_)\n",
    "selector.ranking_"
   ]
  },
  {
   "cell_type": "markdown",
   "metadata": {},
   "source": [
    "### Boruta"
   ]
  },
  {
   "cell_type": "code",
   "execution_count": 57,
   "metadata": {},
   "outputs": [],
   "source": [
    "#!pip install boruta"
   ]
  },
  {
   "cell_type": "code",
   "execution_count": 58,
   "metadata": {},
   "outputs": [],
   "source": [
    "from boruta import BorutaPy\n",
    "# for classification only (we need to convert pd.DataFrame to np.array)"
   ]
  },
  {
   "cell_type": "code",
   "execution_count": 65,
   "metadata": {},
   "outputs": [
    {
     "name": "stdout",
     "output_type": "stream",
     "text": [
      "Iteration: \t1 / 100\n",
      "Confirmed: \t0\n",
      "Tentative: \t9\n",
      "Rejected: \t0\n",
      "Iteration: \t2 / 100\n",
      "Confirmed: \t0\n",
      "Tentative: \t9\n",
      "Rejected: \t0\n",
      "Iteration: \t3 / 100\n",
      "Confirmed: \t0\n",
      "Tentative: \t9\n",
      "Rejected: \t0\n",
      "Iteration: \t4 / 100\n",
      "Confirmed: \t0\n",
      "Tentative: \t9\n",
      "Rejected: \t0\n",
      "Iteration: \t5 / 100\n",
      "Confirmed: \t0\n",
      "Tentative: \t9\n",
      "Rejected: \t0\n",
      "Iteration: \t6 / 100\n",
      "Confirmed: \t0\n",
      "Tentative: \t9\n",
      "Rejected: \t0\n",
      "Iteration: \t7 / 100\n",
      "Confirmed: \t0\n",
      "Tentative: \t9\n",
      "Rejected: \t0\n",
      "Iteration: \t8 / 100\n",
      "Confirmed: \t4\n",
      "Tentative: \t3\n",
      "Rejected: \t2\n",
      "Iteration: \t9 / 100\n",
      "Confirmed: \t4\n",
      "Tentative: \t3\n",
      "Rejected: \t2\n",
      "Iteration: \t10 / 100\n",
      "Confirmed: \t4\n",
      "Tentative: \t3\n",
      "Rejected: \t2\n",
      "Iteration: \t11 / 100\n",
      "Confirmed: \t4\n",
      "Tentative: \t3\n",
      "Rejected: \t2\n",
      "Iteration: \t12 / 100\n",
      "Confirmed: \t4\n",
      "Tentative: \t3\n",
      "Rejected: \t2\n",
      "Iteration: \t13 / 100\n",
      "Confirmed: \t4\n",
      "Tentative: \t3\n",
      "Rejected: \t2\n",
      "Iteration: \t14 / 100\n",
      "Confirmed: \t4\n",
      "Tentative: \t3\n",
      "Rejected: \t2\n",
      "Iteration: \t15 / 100\n",
      "Confirmed: \t4\n",
      "Tentative: \t3\n",
      "Rejected: \t2\n",
      "Iteration: \t16 / 100\n",
      "Confirmed: \t4\n",
      "Tentative: \t2\n",
      "Rejected: \t3\n",
      "Iteration: \t17 / 100\n",
      "Confirmed: \t4\n",
      "Tentative: \t2\n",
      "Rejected: \t3\n",
      "Iteration: \t18 / 100\n",
      "Confirmed: \t4\n",
      "Tentative: \t2\n",
      "Rejected: \t3\n",
      "Iteration: \t19 / 100\n",
      "Confirmed: \t4\n",
      "Tentative: \t2\n",
      "Rejected: \t3\n",
      "Iteration: \t20 / 100\n",
      "Confirmed: \t4\n",
      "Tentative: \t2\n",
      "Rejected: \t3\n",
      "Iteration: \t21 / 100\n",
      "Confirmed: \t4\n",
      "Tentative: \t2\n",
      "Rejected: \t3\n",
      "Iteration: \t22 / 100\n",
      "Confirmed: \t4\n",
      "Tentative: \t2\n",
      "Rejected: \t3\n",
      "Iteration: \t23 / 100\n",
      "Confirmed: \t4\n",
      "Tentative: \t2\n",
      "Rejected: \t3\n",
      "Iteration: \t24 / 100\n",
      "Confirmed: \t4\n",
      "Tentative: \t2\n",
      "Rejected: \t3\n",
      "Iteration: \t25 / 100\n",
      "Confirmed: \t4\n",
      "Tentative: \t2\n",
      "Rejected: \t3\n",
      "Iteration: \t26 / 100\n",
      "Confirmed: \t4\n",
      "Tentative: \t2\n",
      "Rejected: \t3\n",
      "Iteration: \t27 / 100\n",
      "Confirmed: \t4\n",
      "Tentative: \t2\n",
      "Rejected: \t3\n",
      "Iteration: \t28 / 100\n",
      "Confirmed: \t4\n",
      "Tentative: \t2\n",
      "Rejected: \t3\n",
      "Iteration: \t29 / 100\n",
      "Confirmed: \t4\n",
      "Tentative: \t2\n",
      "Rejected: \t3\n",
      "Iteration: \t30 / 100\n",
      "Confirmed: \t4\n",
      "Tentative: \t2\n",
      "Rejected: \t3\n",
      "Iteration: \t31 / 100\n",
      "Confirmed: \t4\n",
      "Tentative: \t2\n",
      "Rejected: \t3\n",
      "Iteration: \t32 / 100\n",
      "Confirmed: \t4\n",
      "Tentative: \t2\n",
      "Rejected: \t3\n",
      "Iteration: \t33 / 100\n",
      "Confirmed: \t4\n",
      "Tentative: \t2\n",
      "Rejected: \t3\n",
      "Iteration: \t34 / 100\n",
      "Confirmed: \t4\n",
      "Tentative: \t2\n",
      "Rejected: \t3\n",
      "Iteration: \t35 / 100\n",
      "Confirmed: \t4\n",
      "Tentative: \t2\n",
      "Rejected: \t3\n",
      "Iteration: \t36 / 100\n",
      "Confirmed: \t4\n",
      "Tentative: \t2\n",
      "Rejected: \t3\n",
      "Iteration: \t37 / 100\n",
      "Confirmed: \t4\n",
      "Tentative: \t2\n",
      "Rejected: \t3\n",
      "Iteration: \t38 / 100\n",
      "Confirmed: \t4\n",
      "Tentative: \t2\n",
      "Rejected: \t3\n",
      "Iteration: \t39 / 100\n",
      "Confirmed: \t4\n",
      "Tentative: \t2\n",
      "Rejected: \t3\n",
      "Iteration: \t40 / 100\n",
      "Confirmed: \t4\n",
      "Tentative: \t2\n",
      "Rejected: \t3\n",
      "Iteration: \t41 / 100\n",
      "Confirmed: \t4\n",
      "Tentative: \t2\n",
      "Rejected: \t3\n",
      "Iteration: \t42 / 100\n",
      "Confirmed: \t4\n",
      "Tentative: \t2\n",
      "Rejected: \t3\n",
      "Iteration: \t43 / 100\n",
      "Confirmed: \t4\n",
      "Tentative: \t2\n",
      "Rejected: \t3\n",
      "Iteration: \t44 / 100\n",
      "Confirmed: \t4\n",
      "Tentative: \t2\n",
      "Rejected: \t3\n",
      "Iteration: \t45 / 100\n",
      "Confirmed: \t4\n",
      "Tentative: \t2\n",
      "Rejected: \t3\n",
      "Iteration: \t46 / 100\n",
      "Confirmed: \t4\n",
      "Tentative: \t2\n",
      "Rejected: \t3\n",
      "Iteration: \t47 / 100\n",
      "Confirmed: \t4\n",
      "Tentative: \t2\n",
      "Rejected: \t3\n",
      "Iteration: \t48 / 100\n",
      "Confirmed: \t4\n",
      "Tentative: \t2\n",
      "Rejected: \t3\n",
      "Iteration: \t49 / 100\n",
      "Confirmed: \t4\n",
      "Tentative: \t2\n",
      "Rejected: \t3\n",
      "Iteration: \t50 / 100\n",
      "Confirmed: \t4\n",
      "Tentative: \t2\n",
      "Rejected: \t3\n",
      "Iteration: \t51 / 100\n",
      "Confirmed: \t4\n",
      "Tentative: \t2\n",
      "Rejected: \t3\n",
      "Iteration: \t52 / 100\n",
      "Confirmed: \t4\n",
      "Tentative: \t2\n",
      "Rejected: \t3\n",
      "Iteration: \t53 / 100\n",
      "Confirmed: \t4\n",
      "Tentative: \t2\n",
      "Rejected: \t3\n",
      "Iteration: \t54 / 100\n",
      "Confirmed: \t4\n",
      "Tentative: \t2\n",
      "Rejected: \t3\n",
      "Iteration: \t55 / 100\n",
      "Confirmed: \t4\n",
      "Tentative: \t2\n",
      "Rejected: \t3\n",
      "Iteration: \t56 / 100\n",
      "Confirmed: \t4\n",
      "Tentative: \t2\n",
      "Rejected: \t3\n",
      "Iteration: \t57 / 100\n",
      "Confirmed: \t4\n",
      "Tentative: \t2\n",
      "Rejected: \t3\n",
      "Iteration: \t58 / 100\n",
      "Confirmed: \t4\n",
      "Tentative: \t2\n",
      "Rejected: \t3\n",
      "Iteration: \t59 / 100\n",
      "Confirmed: \t4\n",
      "Tentative: \t2\n",
      "Rejected: \t3\n",
      "Iteration: \t60 / 100\n",
      "Confirmed: \t4\n",
      "Tentative: \t2\n",
      "Rejected: \t3\n",
      "Iteration: \t61 / 100\n",
      "Confirmed: \t4\n",
      "Tentative: \t2\n",
      "Rejected: \t3\n",
      "Iteration: \t62 / 100\n",
      "Confirmed: \t4\n",
      "Tentative: \t2\n",
      "Rejected: \t3\n",
      "Iteration: \t63 / 100\n",
      "Confirmed: \t4\n",
      "Tentative: \t2\n",
      "Rejected: \t3\n",
      "Iteration: \t64 / 100\n",
      "Confirmed: \t4\n",
      "Tentative: \t2\n",
      "Rejected: \t3\n",
      "Iteration: \t65 / 100\n",
      "Confirmed: \t4\n",
      "Tentative: \t2\n",
      "Rejected: \t3\n",
      "Iteration: \t66 / 100\n",
      "Confirmed: \t4\n",
      "Tentative: \t2\n",
      "Rejected: \t3\n",
      "Iteration: \t67 / 100\n",
      "Confirmed: \t4\n",
      "Tentative: \t2\n",
      "Rejected: \t3\n",
      "Iteration: \t68 / 100\n",
      "Confirmed: \t4\n",
      "Tentative: \t2\n",
      "Rejected: \t3\n",
      "Iteration: \t69 / 100\n",
      "Confirmed: \t4\n",
      "Tentative: \t2\n",
      "Rejected: \t3\n",
      "Iteration: \t70 / 100\n",
      "Confirmed: \t4\n",
      "Tentative: \t2\n",
      "Rejected: \t3\n",
      "Iteration: \t71 / 100\n",
      "Confirmed: \t4\n",
      "Tentative: \t2\n",
      "Rejected: \t3\n",
      "Iteration: \t72 / 100\n",
      "Confirmed: \t4\n",
      "Tentative: \t2\n",
      "Rejected: \t3\n",
      "Iteration: \t73 / 100\n",
      "Confirmed: \t4\n",
      "Tentative: \t2\n",
      "Rejected: \t3\n",
      "Iteration: \t74 / 100\n",
      "Confirmed: \t4\n",
      "Tentative: \t2\n",
      "Rejected: \t3\n",
      "Iteration: \t75 / 100\n",
      "Confirmed: \t4\n",
      "Tentative: \t2\n",
      "Rejected: \t3\n",
      "Iteration: \t76 / 100\n",
      "Confirmed: \t4\n",
      "Tentative: \t2\n",
      "Rejected: \t3\n",
      "Iteration: \t77 / 100\n",
      "Confirmed: \t4\n",
      "Tentative: \t2\n",
      "Rejected: \t3\n",
      "Iteration: \t78 / 100\n",
      "Confirmed: \t4\n",
      "Tentative: \t2\n",
      "Rejected: \t3\n",
      "Iteration: \t79 / 100\n",
      "Confirmed: \t4\n",
      "Tentative: \t2\n",
      "Rejected: \t3\n",
      "Iteration: \t80 / 100\n",
      "Confirmed: \t4\n",
      "Tentative: \t2\n",
      "Rejected: \t3\n",
      "Iteration: \t81 / 100\n",
      "Confirmed: \t4\n",
      "Tentative: \t2\n",
      "Rejected: \t3\n",
      "Iteration: \t82 / 100\n",
      "Confirmed: \t4\n",
      "Tentative: \t2\n",
      "Rejected: \t3\n",
      "Iteration: \t83 / 100\n",
      "Confirmed: \t4\n",
      "Tentative: \t2\n",
      "Rejected: \t3\n",
      "Iteration: \t84 / 100\n",
      "Confirmed: \t4\n",
      "Tentative: \t2\n",
      "Rejected: \t3\n",
      "Iteration: \t85 / 100\n",
      "Confirmed: \t4\n",
      "Tentative: \t2\n",
      "Rejected: \t3\n",
      "Iteration: \t86 / 100\n",
      "Confirmed: \t4\n",
      "Tentative: \t2\n",
      "Rejected: \t3\n",
      "Iteration: \t87 / 100\n",
      "Confirmed: \t4\n",
      "Tentative: \t2\n",
      "Rejected: \t3\n",
      "Iteration: \t88 / 100\n",
      "Confirmed: \t4\n",
      "Tentative: \t2\n",
      "Rejected: \t3\n",
      "Iteration: \t89 / 100\n",
      "Confirmed: \t4\n",
      "Tentative: \t2\n",
      "Rejected: \t3\n",
      "Iteration: \t90 / 100\n",
      "Confirmed: \t4\n",
      "Tentative: \t2\n",
      "Rejected: \t3\n",
      "Iteration: \t91 / 100\n",
      "Confirmed: \t4\n",
      "Tentative: \t2\n",
      "Rejected: \t3\n",
      "Iteration: \t92 / 100\n",
      "Confirmed: \t4\n",
      "Tentative: \t2\n",
      "Rejected: \t3\n",
      "Iteration: \t93 / 100\n",
      "Confirmed: \t4\n",
      "Tentative: \t2\n",
      "Rejected: \t3\n",
      "Iteration: \t94 / 100\n",
      "Confirmed: \t4\n",
      "Tentative: \t2\n",
      "Rejected: \t3\n",
      "Iteration: \t95 / 100\n",
      "Confirmed: \t4\n",
      "Tentative: \t2\n",
      "Rejected: \t3\n",
      "Iteration: \t96 / 100\n",
      "Confirmed: \t4\n",
      "Tentative: \t2\n",
      "Rejected: \t3\n",
      "Iteration: \t97 / 100\n",
      "Confirmed: \t4\n",
      "Tentative: \t2\n",
      "Rejected: \t3\n",
      "Iteration: \t98 / 100\n",
      "Confirmed: \t4\n",
      "Tentative: \t2\n",
      "Rejected: \t3\n",
      "Iteration: \t99 / 100\n",
      "Confirmed: \t4\n",
      "Tentative: \t2\n",
      "Rejected: \t3\n",
      "\n",
      "\n",
      "BorutaPy finished running.\n",
      "\n",
      "Iteration: \t100 / 100\n",
      "Confirmed: \t4\n",
      "Tentative: \t2\n",
      "Rejected: \t3\n"
     ]
    }
   ],
   "source": [
    "from sklearn.ensemble import RandomForestClassifier\n",
    "rf = RandomForestClassifier(n_jobs=-1, class_weight='balanced', max_depth=5)\n",
    "\n",
    "feat_selector = BorutaPy(rf, n_estimators='auto', verbose=2, random_state=1)\n",
    "\n",
    "feat_selector.fit(X_train.values, y_train)\n",
    "feat_selector.support_\n",
    "feat_selector.ranking_\n",
    "\n",
    "# wybór odpowiednich zmiennych ze zbioru testowego\n",
    "X_filtered = feat_selector.transform(X_test.values)"
   ]
  },
  {
   "cell_type": "markdown",
   "metadata": {},
   "source": [
    "### Problem niezbalansowania klas"
   ]
  },
  {
   "cell_type": "code",
   "execution_count": 60,
   "metadata": {},
   "outputs": [],
   "source": [
    "#!pip install imbalanced-learn"
   ]
  },
  {
   "cell_type": "code",
   "execution_count": 66,
   "metadata": {},
   "outputs": [],
   "source": [
    "import imblearn\n",
    "from imblearn.over_sampling import SMOTE"
   ]
  },
  {
   "cell_type": "code",
   "execution_count": 67,
   "metadata": {},
   "outputs": [
    {
     "name": "stdout",
     "output_type": "stream",
     "text": [
      "(369, 9)\n"
     ]
    },
    {
     "data": {
      "text/plain": [
       "0    242\n",
       "1    127\n",
       "dtype: int64"
      ]
     },
     "execution_count": 67,
     "metadata": {},
     "output_type": "execute_result"
    }
   ],
   "source": [
    "print(X_train.shape)\n",
    "pd.Series(y_train).value_counts()\n",
    "# akurat tutaj ten balans jest w miarę ok, ale dla celów demonstracyjnych zrobimy na nim upsample"
   ]
  },
  {
   "cell_type": "code",
   "execution_count": 68,
   "metadata": {},
   "outputs": [],
   "source": [
    "# transform the dataset\n",
    "oversample = SMOTE()\n",
    "X, y = oversample.fit_resample(X_train, y_train)"
   ]
  },
  {
   "cell_type": "code",
   "execution_count": 69,
   "metadata": {},
   "outputs": [
    {
     "name": "stdout",
     "output_type": "stream",
     "text": [
      "(484, 9)\n"
     ]
    },
    {
     "data": {
      "text/plain": [
       "1    242\n",
       "0    242\n",
       "dtype: int64"
      ]
     },
     "execution_count": 69,
     "metadata": {},
     "output_type": "execute_result"
    }
   ],
   "source": [
    "print(X.shape)\n",
    "pd.Series(y).value_counts()"
   ]
  },
  {
   "cell_type": "code",
   "execution_count": null,
   "metadata": {},
   "outputs": [],
   "source": []
  },
  {
   "cell_type": "code",
   "execution_count": null,
   "metadata": {},
   "outputs": [],
   "source": []
  }
 ],
 "metadata": {
  "kernelspec": {
   "display_name": "Python 3",
   "language": "python",
   "name": "python3"
  },
  "language_info": {
   "codemirror_mode": {
    "name": "ipython",
    "version": 3
   },
   "file_extension": ".py",
   "mimetype": "text/x-python",
   "name": "python",
   "nbconvert_exporter": "python",
   "pygments_lexer": "ipython3",
   "version": "3.7.4"
  }
 },
 "nbformat": 4,
 "nbformat_minor": 2
}
