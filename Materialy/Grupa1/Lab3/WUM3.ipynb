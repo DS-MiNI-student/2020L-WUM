{
 "cells": [
  {
   "cell_type": "markdown",
   "metadata": {},
   "source": [
    "## Normalizacja danych\n",
    "### Czym jest norma?\n",
    "Jest to funkcja || spełniająca określone właściwości dotyczące skalowalności i addytywności oraz przypisująca ściśle dodatnią liczbę rzeczywistą każdemu wektorowi w zdefiniowanej przestrzeni wektorowej. Szczególnym przypadkiem jest wektor zerowy, któremu jest przypisana wartość $0$.\n",
    "\n",
    "W najprostszych słowach **norma** to długość wektora w danej przestrzeni.\n",
    "\n",
    "W jednowymiarowej przestrzeni $||x||_1=||x||_2=\\cdots=||x||_p=|x|$\n",
    "\n",
    "Przykłady norm dla wektora $x \\in \\mathbb{R}^3, x = (x_1,x_2,x_3)$:\n",
    "- $||x||_1 = |x_1|^1+|x_2|^1+|x_3|^1$\n",
    "- $||x||_2 = (|x_1|^2+|x_2|^2+|x_2|^2)^{\\frac{1}{2}} = \\sqrt{(x_1^2+x_2^2+x_2^2)}$\n",
    "- ...\n",
    "- $||x||_p = |x_1|^{\\frac{1}{p}}+|x_2|^{\\frac{1}{p}}+|x_2|^{\\frac{1}{p}}$\n",
    "- $||x||_\\infty = \\max(|x_1|,|x_2|,|x_3|)$"
   ]
  },
  {
   "cell_type": "markdown",
   "metadata": {},
   "source": [
    "### Przykład dla danych tabularycznych"
   ]
  },
  {
   "cell_type": "code",
   "execution_count": 15,
   "metadata": {
    "ExecuteTime": {
     "end_time": "2020-03-06T23:13:04.574497Z",
     "start_time": "2020-03-06T23:13:04.567482Z"
    }
   },
   "outputs": [
    {
     "data": {
      "text/plain": [
       "array([[  2,   2,   3, 100],\n",
       "       [  2,   2,   3, 200],\n",
       "       [  2,   2,   3, 300]])"
      ]
     },
     "execution_count": 15,
     "metadata": {},
     "output_type": "execute_result"
    }
   ],
   "source": [
    "import numpy as np\n",
    "x = np.array([[2,2,3,100],[2,2,3,200],[2,2,3,300]])\n",
    "x"
   ]
  },
  {
   "cell_type": "code",
   "execution_count": 16,
   "metadata": {
    "ExecuteTime": {
     "end_time": "2020-03-06T23:36:00.584359Z",
     "start_time": "2020-03-06T23:36:00.579339Z"
    }
   },
   "outputs": [
    {
     "data": {
      "text/plain": [
       "array([[0.01869159, 0.01869159, 0.02803738, 0.93457944],\n",
       "       [0.00966184, 0.00966184, 0.01449275, 0.96618357],\n",
       "       [0.00651466, 0.00651466, 0.00977199, 0.9771987 ]])"
      ]
     },
     "execution_count": 16,
     "metadata": {},
     "output_type": "execute_result"
    }
   ],
   "source": [
    "l1_norm = preprocessing.normalize(x, norm = 'l1')\n",
    "l1_norm"
   ]
  },
  {
   "cell_type": "code",
   "execution_count": 17,
   "metadata": {
    "ExecuteTime": {
     "end_time": "2020-03-06T23:36:01.968362Z",
     "start_time": "2020-03-06T23:36:01.963818Z"
    }
   },
   "outputs": [
    {
     "data": {
      "text/plain": [
       "array([1., 1., 1.])"
      ]
     },
     "execution_count": 17,
     "metadata": {},
     "output_type": "execute_result"
    }
   ],
   "source": [
    "l1_norm.sum(axis=1)"
   ]
  },
  {
   "cell_type": "code",
   "execution_count": 18,
   "metadata": {
    "ExecuteTime": {
     "end_time": "2020-03-06T23:36:02.879651Z",
     "start_time": "2020-03-06T23:36:02.874950Z"
    }
   },
   "outputs": [
    {
     "data": {
      "text/plain": [
       "array([[0.01998302, 0.01998302, 0.02997453, 0.99915108],\n",
       "       [0.00999788, 0.00999788, 0.01499681, 0.99978757],\n",
       "       [0.00666604, 0.00666604, 0.00999906, 0.99990557]])"
      ]
     },
     "execution_count": 18,
     "metadata": {},
     "output_type": "execute_result"
    }
   ],
   "source": [
    "l2_norm = preprocessing.normalize(x, norm = 'l2')\n",
    "l2_norm"
   ]
  },
  {
   "cell_type": "code",
   "execution_count": 19,
   "metadata": {
    "ExecuteTime": {
     "end_time": "2020-03-06T23:36:03.480730Z",
     "start_time": "2020-03-06T23:36:03.475764Z"
    }
   },
   "outputs": [
    {
     "data": {
      "text/plain": [
       "array([1.06909166, 1.03478013, 1.0232367 ])"
      ]
     },
     "execution_count": 19,
     "metadata": {},
     "output_type": "execute_result"
    }
   ],
   "source": [
    "l2_norm.sum(axis=1)"
   ]
  },
  {
   "cell_type": "code",
   "execution_count": 20,
   "metadata": {
    "ExecuteTime": {
     "end_time": "2020-03-06T23:36:05.151408Z",
     "start_time": "2020-03-06T23:36:05.145424Z"
    }
   },
   "outputs": [
    {
     "data": {
      "text/plain": [
       "array([[0.02      , 0.02      , 0.03      , 1.        ],\n",
       "       [0.01      , 0.01      , 0.015     , 1.        ],\n",
       "       [0.00666667, 0.00666667, 0.01      , 1.        ]])"
      ]
     },
     "execution_count": 20,
     "metadata": {},
     "output_type": "execute_result"
    }
   ],
   "source": [
    "max_norm = preprocessing.normalize(x, norm = 'max')\n",
    "max_norm"
   ]
  },
  {
   "cell_type": "code",
   "execution_count": 21,
   "metadata": {
    "ExecuteTime": {
     "end_time": "2020-03-06T23:36:05.706830Z",
     "start_time": "2020-03-06T23:36:05.699847Z"
    }
   },
   "outputs": [
    {
     "data": {
      "text/plain": [
       "array([1.07      , 1.035     , 1.02333333])"
      ]
     },
     "execution_count": 21,
     "metadata": {},
     "output_type": "execute_result"
    }
   ],
   "source": [
    "max_norm.sum(axis=1)"
   ]
  },
  {
   "cell_type": "code",
   "execution_count": null,
   "metadata": {},
   "outputs": [],
   "source": []
  },
  {
   "cell_type": "markdown",
   "metadata": {},
   "source": [
    "### Po co wykonujemy normalizacje? \n",
    "### Jakie zmienia się nasz wektor i jakie wartości może przyjąć?\n",
    "### Czym różni się normalizacja od standaryzacji?\n",
    "Standaryzacja zmiennej x dla przypomnienia: $z = \\frac{(x - mean(x))}{std(x)}$"
   ]
  },
  {
   "cell_type": "markdown",
   "metadata": {},
   "source": [
    "## Klasyfikacja \n",
    "Klasyfikacja to rodzaj algorytmu statystycznego, który przydziela obserwacje statystyczne do klas, bazując na atrybutach tych obserwacji.\n",
    "\n",
    "**Definicja:**\n",
    "Dla danego zbioru danych trenujących $\\{(x_1,y),\\ldots,(x_n,y)\\}$ algorytm potrafi znaleźć funkcję klasyfikującją $h: X -> Y$, która przydziela obiektowi $x\\in X$ klasę $y \\in Y$.\n",
    "\n",
    "- prawdopodobieństwo aposteriori: $P(Y=i|X)$\n",
    "- funkcja klasyfikacyjna przyjmuje postać: $h(X) = argmax_{1,\\ldots,y} P(Y=i|X)$\n",
    "\n",
    "Przykłady klasyfikacji:\n",
    "- wykrywanie czy pacjent jest chory na daną chorobę na podstawie wyników badań\n",
    "- klasyfikacja maili jako spam/nie-spam\n",
    "- czy transakcja dokonana na koncie klienta banku to oszustwo/kradzież czy też normalna transakcja\n",
    "- rozpoznawania na obrazu różnych rodzajów zwierząt\n",
    "- rozpoznawanie czy pasażer przeżyje katastrofę na titanicu\n",
    "\n",
    "Na potrzeby uproszczenia wyjaśniania w dalszej części labów, skupimy się tylko na klasyfikacji binarnej!\n",
    "\n",
    "Zajmiemy się zbiorem gdzie klasyfikujemy u pacjentów czy występuje choroba serca czy nie."
   ]
  },
  {
   "cell_type": "code",
   "execution_count": 53,
   "metadata": {
    "ExecuteTime": {
     "end_time": "2020-03-07T15:01:18.130629Z",
     "start_time": "2020-03-07T15:01:18.127672Z"
    }
   },
   "outputs": [],
   "source": [
    "import pandas as pd\n",
    "np.random.seed = 42"
   ]
  },
  {
   "cell_type": "code",
   "execution_count": 54,
   "metadata": {
    "ExecuteTime": {
     "end_time": "2020-03-07T14:45:39.531710Z",
     "start_time": "2020-03-07T14:45:39.518696Z"
    }
   },
   "outputs": [
    {
     "data": {
      "text/html": [
       "<div>\n",
       "<style scoped>\n",
       "    .dataframe tbody tr th:only-of-type {\n",
       "        vertical-align: middle;\n",
       "    }\n",
       "\n",
       "    .dataframe tbody tr th {\n",
       "        vertical-align: top;\n",
       "    }\n",
       "\n",
       "    .dataframe thead th {\n",
       "        text-align: right;\n",
       "    }\n",
       "</style>\n",
       "<table border=\"1\" class=\"dataframe\">\n",
       "  <thead>\n",
       "    <tr style=\"text-align: right;\">\n",
       "      <th></th>\n",
       "      <th>sbp</th>\n",
       "      <th>tobacco</th>\n",
       "      <th>ldl</th>\n",
       "      <th>adiposity</th>\n",
       "      <th>famhist</th>\n",
       "      <th>typea</th>\n",
       "      <th>obesity</th>\n",
       "      <th>alcohol</th>\n",
       "      <th>age</th>\n",
       "      <th>chd</th>\n",
       "    </tr>\n",
       "  </thead>\n",
       "  <tbody>\n",
       "    <tr>\n",
       "      <th>0</th>\n",
       "      <td>160</td>\n",
       "      <td>12.00</td>\n",
       "      <td>5.73</td>\n",
       "      <td>23.11</td>\n",
       "      <td>Present</td>\n",
       "      <td>49</td>\n",
       "      <td>25.30</td>\n",
       "      <td>97.20</td>\n",
       "      <td>52</td>\n",
       "      <td>1</td>\n",
       "    </tr>\n",
       "    <tr>\n",
       "      <th>1</th>\n",
       "      <td>144</td>\n",
       "      <td>0.01</td>\n",
       "      <td>4.41</td>\n",
       "      <td>28.61</td>\n",
       "      <td>Absent</td>\n",
       "      <td>55</td>\n",
       "      <td>28.87</td>\n",
       "      <td>2.06</td>\n",
       "      <td>63</td>\n",
       "      <td>1</td>\n",
       "    </tr>\n",
       "    <tr>\n",
       "      <th>2</th>\n",
       "      <td>118</td>\n",
       "      <td>0.08</td>\n",
       "      <td>3.48</td>\n",
       "      <td>32.28</td>\n",
       "      <td>Present</td>\n",
       "      <td>52</td>\n",
       "      <td>29.14</td>\n",
       "      <td>3.81</td>\n",
       "      <td>46</td>\n",
       "      <td>0</td>\n",
       "    </tr>\n",
       "    <tr>\n",
       "      <th>3</th>\n",
       "      <td>170</td>\n",
       "      <td>7.50</td>\n",
       "      <td>6.41</td>\n",
       "      <td>38.03</td>\n",
       "      <td>Present</td>\n",
       "      <td>51</td>\n",
       "      <td>31.99</td>\n",
       "      <td>24.26</td>\n",
       "      <td>58</td>\n",
       "      <td>1</td>\n",
       "    </tr>\n",
       "    <tr>\n",
       "      <th>4</th>\n",
       "      <td>134</td>\n",
       "      <td>13.60</td>\n",
       "      <td>3.50</td>\n",
       "      <td>27.78</td>\n",
       "      <td>Present</td>\n",
       "      <td>60</td>\n",
       "      <td>25.99</td>\n",
       "      <td>57.34</td>\n",
       "      <td>49</td>\n",
       "      <td>1</td>\n",
       "    </tr>\n",
       "  </tbody>\n",
       "</table>\n",
       "</div>"
      ],
      "text/plain": [
       "   sbp  tobacco   ldl  adiposity  famhist  typea  obesity  alcohol  age  chd\n",
       "0  160    12.00  5.73      23.11  Present     49    25.30    97.20   52    1\n",
       "1  144     0.01  4.41      28.61   Absent     55    28.87     2.06   63    1\n",
       "2  118     0.08  3.48      32.28  Present     52    29.14     3.81   46    0\n",
       "3  170     7.50  6.41      38.03  Present     51    31.99    24.26   58    1\n",
       "4  134    13.60  3.50      27.78  Present     60    25.99    57.34   49    1"
      ]
     },
     "execution_count": 54,
     "metadata": {},
     "output_type": "execute_result"
    }
   ],
   "source": [
    "data = pd.read_csv('heart.csv')\n",
    "data.head()"
   ]
  },
  {
   "cell_type": "code",
   "execution_count": 55,
   "metadata": {
    "ExecuteTime": {
     "end_time": "2020-03-07T14:45:53.174538Z",
     "start_time": "2020-03-07T14:45:53.166435Z"
    }
   },
   "outputs": [
    {
     "data": {
      "text/plain": [
       "sbp          0.0\n",
       "tobacco      0.0\n",
       "ldl          0.0\n",
       "adiposity    0.0\n",
       "famhist      0.0\n",
       "typea        0.0\n",
       "obesity      0.0\n",
       "alcohol      0.0\n",
       "age          0.0\n",
       "chd          0.0\n",
       "dtype: float64"
      ]
     },
     "execution_count": 55,
     "metadata": {},
     "output_type": "execute_result"
    }
   ],
   "source": [
    "# Szybko sprawdzamy podstawowe cechy danych\n",
    "na_ratio_cols = data.isna().mean(axis=0)\n",
    "na_ratio_cols"
   ]
  },
  {
   "cell_type": "code",
   "execution_count": 58,
   "metadata": {
    "ExecuteTime": {
     "end_time": "2020-03-07T14:55:57.394747Z",
     "start_time": "2020-03-07T14:55:57.386202Z"
    }
   },
   "outputs": [
    {
     "data": {
      "text/html": [
       "<div>\n",
       "<style scoped>\n",
       "    .dataframe tbody tr th:only-of-type {\n",
       "        vertical-align: middle;\n",
       "    }\n",
       "\n",
       "    .dataframe tbody tr th {\n",
       "        vertical-align: top;\n",
       "    }\n",
       "\n",
       "    .dataframe thead th {\n",
       "        text-align: right;\n",
       "    }\n",
       "</style>\n",
       "<table border=\"1\" class=\"dataframe\">\n",
       "  <thead>\n",
       "    <tr style=\"text-align: right;\">\n",
       "      <th></th>\n",
       "      <th>sbp</th>\n",
       "      <th>tobacco</th>\n",
       "      <th>ldl</th>\n",
       "      <th>adiposity</th>\n",
       "      <th>famhist</th>\n",
       "      <th>typea</th>\n",
       "      <th>obesity</th>\n",
       "      <th>alcohol</th>\n",
       "      <th>age</th>\n",
       "    </tr>\n",
       "  </thead>\n",
       "  <tbody>\n",
       "    <tr>\n",
       "      <th>0</th>\n",
       "      <td>160</td>\n",
       "      <td>12.00</td>\n",
       "      <td>5.73</td>\n",
       "      <td>23.11</td>\n",
       "      <td>Present</td>\n",
       "      <td>49</td>\n",
       "      <td>25.30</td>\n",
       "      <td>97.20</td>\n",
       "      <td>52</td>\n",
       "    </tr>\n",
       "    <tr>\n",
       "      <th>1</th>\n",
       "      <td>144</td>\n",
       "      <td>0.01</td>\n",
       "      <td>4.41</td>\n",
       "      <td>28.61</td>\n",
       "      <td>Absent</td>\n",
       "      <td>55</td>\n",
       "      <td>28.87</td>\n",
       "      <td>2.06</td>\n",
       "      <td>63</td>\n",
       "    </tr>\n",
       "    <tr>\n",
       "      <th>2</th>\n",
       "      <td>118</td>\n",
       "      <td>0.08</td>\n",
       "      <td>3.48</td>\n",
       "      <td>32.28</td>\n",
       "      <td>Present</td>\n",
       "      <td>52</td>\n",
       "      <td>29.14</td>\n",
       "      <td>3.81</td>\n",
       "      <td>46</td>\n",
       "    </tr>\n",
       "    <tr>\n",
       "      <th>3</th>\n",
       "      <td>170</td>\n",
       "      <td>7.50</td>\n",
       "      <td>6.41</td>\n",
       "      <td>38.03</td>\n",
       "      <td>Present</td>\n",
       "      <td>51</td>\n",
       "      <td>31.99</td>\n",
       "      <td>24.26</td>\n",
       "      <td>58</td>\n",
       "    </tr>\n",
       "    <tr>\n",
       "      <th>4</th>\n",
       "      <td>134</td>\n",
       "      <td>13.60</td>\n",
       "      <td>3.50</td>\n",
       "      <td>27.78</td>\n",
       "      <td>Present</td>\n",
       "      <td>60</td>\n",
       "      <td>25.99</td>\n",
       "      <td>57.34</td>\n",
       "      <td>49</td>\n",
       "    </tr>\n",
       "  </tbody>\n",
       "</table>\n",
       "</div>"
      ],
      "text/plain": [
       "   sbp  tobacco   ldl  adiposity  famhist  typea  obesity  alcohol  age\n",
       "0  160    12.00  5.73      23.11  Present     49    25.30    97.20   52\n",
       "1  144     0.01  4.41      28.61   Absent     55    28.87     2.06   63\n",
       "2  118     0.08  3.48      32.28  Present     52    29.14     3.81   46\n",
       "3  170     7.50  6.41      38.03  Present     51    31.99    24.26   58\n",
       "4  134    13.60  3.50      27.78  Present     60    25.99    57.34   49"
      ]
     },
     "execution_count": 58,
     "metadata": {},
     "output_type": "execute_result"
    }
   ],
   "source": [
    "X.head()"
   ]
  },
  {
   "cell_type": "markdown",
   "metadata": {},
   "source": [
    "#### Szybkie ćwiczenie - wykonaj dowolne kodowanie zmiennej kategorycznej"
   ]
  },
  {
   "cell_type": "code",
   "execution_count": 63,
   "metadata": {
    "ExecuteTime": {
     "end_time": "2020-03-07T14:52:23.920291Z",
     "start_time": "2020-03-07T14:52:23.911127Z"
    }
   },
   "outputs": [
    {
     "data": {
      "text/html": [
       "<div>\n",
       "<style scoped>\n",
       "    .dataframe tbody tr th:only-of-type {\n",
       "        vertical-align: middle;\n",
       "    }\n",
       "\n",
       "    .dataframe tbody tr th {\n",
       "        vertical-align: top;\n",
       "    }\n",
       "\n",
       "    .dataframe thead th {\n",
       "        text-align: right;\n",
       "    }\n",
       "</style>\n",
       "<table border=\"1\" class=\"dataframe\">\n",
       "  <thead>\n",
       "    <tr style=\"text-align: right;\">\n",
       "      <th></th>\n",
       "      <th>sbp</th>\n",
       "      <th>tobacco</th>\n",
       "      <th>ldl</th>\n",
       "      <th>adiposity</th>\n",
       "      <th>famhist</th>\n",
       "      <th>typea</th>\n",
       "      <th>obesity</th>\n",
       "      <th>alcohol</th>\n",
       "      <th>age</th>\n",
       "      <th>chd</th>\n",
       "    </tr>\n",
       "  </thead>\n",
       "  <tbody>\n",
       "    <tr>\n",
       "      <th>0</th>\n",
       "      <td>160</td>\n",
       "      <td>12.00</td>\n",
       "      <td>5.73</td>\n",
       "      <td>23.11</td>\n",
       "      <td>1</td>\n",
       "      <td>49</td>\n",
       "      <td>25.30</td>\n",
       "      <td>97.20</td>\n",
       "      <td>52</td>\n",
       "      <td>1</td>\n",
       "    </tr>\n",
       "    <tr>\n",
       "      <th>1</th>\n",
       "      <td>144</td>\n",
       "      <td>0.01</td>\n",
       "      <td>4.41</td>\n",
       "      <td>28.61</td>\n",
       "      <td>0</td>\n",
       "      <td>55</td>\n",
       "      <td>28.87</td>\n",
       "      <td>2.06</td>\n",
       "      <td>63</td>\n",
       "      <td>1</td>\n",
       "    </tr>\n",
       "    <tr>\n",
       "      <th>2</th>\n",
       "      <td>118</td>\n",
       "      <td>0.08</td>\n",
       "      <td>3.48</td>\n",
       "      <td>32.28</td>\n",
       "      <td>1</td>\n",
       "      <td>52</td>\n",
       "      <td>29.14</td>\n",
       "      <td>3.81</td>\n",
       "      <td>46</td>\n",
       "      <td>0</td>\n",
       "    </tr>\n",
       "    <tr>\n",
       "      <th>3</th>\n",
       "      <td>170</td>\n",
       "      <td>7.50</td>\n",
       "      <td>6.41</td>\n",
       "      <td>38.03</td>\n",
       "      <td>1</td>\n",
       "      <td>51</td>\n",
       "      <td>31.99</td>\n",
       "      <td>24.26</td>\n",
       "      <td>58</td>\n",
       "      <td>1</td>\n",
       "    </tr>\n",
       "    <tr>\n",
       "      <th>4</th>\n",
       "      <td>134</td>\n",
       "      <td>13.60</td>\n",
       "      <td>3.50</td>\n",
       "      <td>27.78</td>\n",
       "      <td>1</td>\n",
       "      <td>60</td>\n",
       "      <td>25.99</td>\n",
       "      <td>57.34</td>\n",
       "      <td>49</td>\n",
       "      <td>1</td>\n",
       "    </tr>\n",
       "  </tbody>\n",
       "</table>\n",
       "</div>"
      ],
      "text/plain": [
       "   sbp  tobacco   ldl  adiposity  famhist  typea  obesity  alcohol  age  chd\n",
       "0  160    12.00  5.73      23.11        1     49    25.30    97.20   52    1\n",
       "1  144     0.01  4.41      28.61        0     55    28.87     2.06   63    1\n",
       "2  118     0.08  3.48      32.28        1     52    29.14     3.81   46    0\n",
       "3  170     7.50  6.41      38.03        1     51    31.99    24.26   58    1\n",
       "4  134    13.60  3.50      27.78        1     60    25.99    57.34   49    1"
      ]
     },
     "execution_count": 63,
     "metadata": {},
     "output_type": "execute_result"
    }
   ],
   "source": [
    "\n",
    "data.head()"
   ]
  },
  {
   "cell_type": "code",
   "execution_count": 67,
   "metadata": {
    "ExecuteTime": {
     "end_time": "2020-03-07T14:55:30.935232Z",
     "start_time": "2020-03-07T14:55:30.929221Z"
    }
   },
   "outputs": [],
   "source": [
    "y = np.array(data['chd'])\n",
    "X = data.drop(['chd'],axis=1)"
   ]
  },
  {
   "cell_type": "code",
   "execution_count": 68,
   "metadata": {
    "ExecuteTime": {
     "end_time": "2020-03-07T14:55:51.522917Z",
     "start_time": "2020-03-07T14:55:51.518930Z"
    }
   },
   "outputs": [
    {
     "data": {
      "text/plain": [
       "array([1, 1, 0, 1, 1, 0, 0, 1, 0, 1, 1, 1, 0, 0, 0, 0, 0, 1, 1, 1, 1, 0,\n",
       "       0, 0, 0, 1, 0, 1, 0, 1, 1, 1, 1, 1, 0, 1, 0, 0, 0, 1, 1, 0, 0, 1,\n",
       "       0, 0, 1, 1, 0, 0, 0, 0, 1, 1, 0, 0, 0, 1, 0, 0, 0, 0, 0, 0, 0, 0,\n",
       "       0, 0, 0, 1, 0, 0, 0, 0, 0, 0, 0, 1, 1, 0, 1, 1, 1, 1, 0, 0, 1, 0,\n",
       "       0, 0, 0, 1, 0, 1, 0, 0, 0, 0, 1, 0, 0, 0, 0, 0, 0, 0, 1, 1, 0, 0,\n",
       "       0, 1, 0, 1, 1, 0, 1, 0, 1, 0, 0, 0, 0, 1, 0, 1, 0, 0, 1, 0, 0, 1,\n",
       "       1, 0, 0, 1, 0, 0, 0, 0, 1, 1, 0, 0, 0, 0, 0, 1, 1, 1, 0, 0, 0, 0,\n",
       "       1, 1, 0, 0, 0, 1, 0, 1, 0, 0, 0, 0, 1, 1, 0, 0, 0, 0, 0, 0, 0, 1,\n",
       "       0, 0, 0, 0, 0, 0, 1, 1, 1, 1, 0, 0, 0, 1, 1, 1, 1, 0, 0, 0, 0, 0,\n",
       "       1, 0, 0, 1, 0, 0, 0, 0, 0, 0, 0, 0, 0, 1, 0, 0, 0, 1, 1, 0, 0, 0,\n",
       "       0, 1, 0, 1, 0, 0, 1, 1, 1, 1, 1, 0, 1, 0, 0, 1, 0, 0, 0, 0, 1, 0,\n",
       "       0, 1, 1, 0, 1, 0, 0, 1, 0, 0, 1, 0, 0, 1, 1, 0, 1, 0, 1, 0, 0, 0,\n",
       "       1, 0, 0, 0, 0, 1, 1, 1, 0, 0, 1, 1, 1, 0, 0, 0, 1, 0, 1, 0, 1, 0,\n",
       "       0, 0, 0, 1, 0, 0, 0, 1, 0, 1, 0, 0, 1, 0, 0, 1, 0, 1, 0, 0, 0, 1,\n",
       "       0, 0, 1, 0, 1, 0, 0, 0, 0, 0, 1, 0, 0, 0, 0, 1, 0, 1, 0, 0, 0, 0,\n",
       "       0, 0, 1, 1, 1, 0, 1, 0, 0, 0, 0, 1, 1, 0, 0, 1, 1, 0, 1, 0, 0, 0,\n",
       "       1, 1, 0, 1, 0, 0, 0, 0, 1, 0, 0, 0, 1, 0, 0, 0, 0, 0, 1, 0, 0, 0,\n",
       "       0, 0, 0, 0, 0, 1, 0, 0, 1, 0, 0, 1, 0, 1, 0, 1, 1, 1, 0, 0, 0, 0,\n",
       "       0, 1, 1, 0, 0, 0, 1, 1, 0, 0, 1, 1, 0, 0, 1, 0, 1, 1, 0, 1, 0, 0,\n",
       "       0, 0, 0, 0, 1, 1, 1, 0, 0, 0, 0, 0, 0, 0, 0, 0, 0, 0, 0, 0, 0, 0,\n",
       "       0, 0, 0, 0, 0, 0, 1, 0, 0, 1, 0, 0, 0, 1, 1, 1, 0, 0, 1, 0, 0, 1],\n",
       "      dtype=int64)"
      ]
     },
     "execution_count": 68,
     "metadata": {},
     "output_type": "execute_result"
    }
   ],
   "source": [
    "y"
   ]
  },
  {
   "cell_type": "markdown",
   "metadata": {},
   "source": [
    "### Jaki znacie najprostszy klasyfikator?"
   ]
  },
  {
   "cell_type": "code",
   "execution_count": 69,
   "metadata": {},
   "outputs": [],
   "source": [
    "from sklearn.dummy import DummyClassifier"
   ]
  },
  {
   "cell_type": "code",
   "execution_count": 70,
   "metadata": {
    "ExecuteTime": {
     "end_time": "2020-03-07T16:35:17.078577Z",
     "start_time": "2020-03-07T16:35:17.072606Z"
    }
   },
   "outputs": [
    {
     "name": "stdout",
     "output_type": "stream",
     "text": [
      "proba: [0.5 0.5 0.5 0.5 0.5 0.5 0.5 0.5 0.5 0.5]\n",
      "y:     [0 1 0 0 0 1 0 0 0 1]\n",
      "y_hat: [1 1 0 1 1 0 0 1 0 1]\n"
     ]
    }
   ],
   "source": [
    "dc = DummyClassifier(strategy='uniform', random_state=42)\n",
    "dc.fit(X,y)\n",
    "y_proba = dc.predict_proba(X)\n",
    "y_hat = dc.predict(X)\n",
    "print(\"proba: \" + str(y_proba[0:10,0]) + '\\ny:     ' + str(y_hat[0:10]) + '\\ny_hat: ' + str(y[0:10]))"
   ]
  },
  {
   "cell_type": "markdown",
   "metadata": {},
   "source": [
    "- Jakieś inne proste klasyfikatory?"
   ]
  },
  {
   "cell_type": "markdown",
   "metadata": {},
   "source": [
    "## Regresja logistyczna - czemu by nie prognozować prawdopodobieństwa za pomocą regresji liniowej?\n",
    "\n",
    "**Przypomnienie:** uogólniony model liniowy: $y_{i}=\\beta _{0}1+\\beta _{1}x_{i1}+\\cdots +\\beta _{p}x_{ip} = x^T \\beta$\n",
    "\n",
    "- Jaki jest podstawowy problem z wykorzystaniem regresji do modelowania prawdopodobieństwa?\n",
    "- Jakie macie propozycje rozwiązania tego problemu?\n",
    "\n",
    "$odds = \\frac{P(Y=1|X)}{P(Y=0|X)} = \\frac{p}{1-p}$ $\\in (0,1)$\n",
    "\n",
    "$\\log({odds}) \\in (-\\infty, \\infty)$\n",
    "\n",
    "Co pozwala nam modelować powyższe równanie dzięki regresji liniowej, po przekształceniu równania, uzyskujemy prawdopodobieństwo sukcesu:\n",
    "\n",
    "$x^T \\beta = \\log({\\frac{p}{1-p}}) \\Rightarrow p = \\frac{1}{1-\\exp({x^T \\beta})}$"
   ]
  },
  {
   "cell_type": "code",
   "execution_count": 71,
   "metadata": {
    "ExecuteTime": {
     "end_time": "2020-03-07T15:17:06.286476Z",
     "start_time": "2020-03-07T15:17:06.227772Z"
    }
   },
   "outputs": [
    {
     "name": "stdout",
     "output_type": "stream",
     "text": [
      "y:     [1 0 0 1 1 1 0 1 0 1]\n",
      "y_hat: [1 1 0 1 1 0 0 1 0 1]\n"
     ]
    }
   ],
   "source": [
    "from sklearn.linear_model import LogisticRegression\n",
    "lr = LogisticRegression(max_iter=1000)\n",
    "\n",
    "lr.fit(X,y)\n",
    "y_hat = lr.predict(X)\n",
    "print('y:     ' + str(y_hat[0:10]) + '\\ny_hat: ' + str(y[0:10]))"
   ]
  },
  {
   "cell_type": "markdown",
   "metadata": {},
   "source": [
    "- Jakie są zalety regresji logistycznej?"
   ]
  },
  {
   "cell_type": "markdown",
   "metadata": {},
   "source": [
    "## Drzewo decyzyjne\n",
    "- Jak wykorzystać model drzewa do predykcji klasyfikacji/regresji?\n",
    "- jakie problemy może to generować?"
   ]
  },
  {
   "cell_type": "code",
   "execution_count": 77,
   "metadata": {
    "ExecuteTime": {
     "end_time": "2020-03-07T16:33:36.468292Z",
     "start_time": "2020-03-07T16:33:36.240821Z"
    }
   },
   "outputs": [
    {
     "name": "stdout",
     "output_type": "stream",
     "text": [
      "y:     [1 1 0 1 1 0 0 1 0 1]\n",
      "y_hat: [1 1 0 1 1 0 0 1 0 1]\n"
     ]
    },
    {
     "data": {
      "image/png": "[encoded data removed]",
      "text/plain": [
       "<Figure size 1440x1440 with 1 Axes>"
      ]
     },
     "metadata": {
      "needs_background": "light"
     },
     "output_type": "display_data"
    }
   ],
   "source": [
    "from sklearn.tree import DecisionTreeClassifier,plot_tree #export_graphviz\n",
    "import graphviz\n",
    "\n",
    "tree1 = DecisionTreeClassifier()\n",
    "\n",
    "tree1.fit(X,y)\n",
    "y_hat = tree1.predict(X)\n",
    "print('y:     ' + str(y_hat[0:10]) + '\\ny_hat: ' + str(y[0:10]))\n",
    "\n",
    "plt.figure(figsize=(20,20))\n",
    "splits=tree.plot_tree(tree1, filled=True)"
   ]
  },
  {
   "cell_type": "markdown",
   "metadata": {},
   "source": [
    "## SVM\n",
    "Znalezienie równania hiperpłaszczyzny, która najlepiej dzieli nasz zbiór danych na klasy\n",
    "- Co jeżeli nie istnieje taka płaszczyzna?\n",
    "- Co jeżeli nasze dane nie są separowalne liniowo, tylko np. radialnie?"
   ]
  },
  {
   "cell_type": "code",
   "execution_count": 102,
   "metadata": {
    "ExecuteTime": {
     "end_time": "2020-03-07T16:57:59.319024Z",
     "start_time": "2020-03-07T16:57:59.302833Z"
    }
   },
   "outputs": [
    {
     "name": "stdout",
     "output_type": "stream",
     "text": [
      "y:     [0 0 0 0 0 0 0 0 0 0]\n",
      "y_hat: [1 1 0 1 1 0 0 1 0 1]\n"
     ]
    }
   ],
   "source": [
    "from sklearn.svm import SVC\n",
    "svm = SVC()\n",
    "\n",
    "svm.fit(X,y)\n",
    "y_hat = svm.predict(X)\n",
    "print('y:     ' + str(y_hat[0:10]) + '\\ny_hat: ' + str(y[0:10]))"
   ]
  },
  {
   "cell_type": "markdown",
   "metadata": {},
   "source": [
    "- Jakie widzicie wady/zalety tego algorytmu?"
   ]
  },
  {
   "cell_type": "markdown",
   "metadata": {},
   "source": [
    "## Naiwny Klasyfikator Bayesowski\n",
    "Jest oparty na założeniu o wzajemnej niezależności zmiennych. Często nie mają one żadnego związku z rzeczywistością i właśnie z tego powodu nazywa się je naiwnymi."
   ]
  },
  {
   "cell_type": "code",
   "execution_count": 109,
   "metadata": {
    "ExecuteTime": {
     "end_time": "2020-03-07T17:27:54.549246Z",
     "start_time": "2020-03-07T17:27:54.541140Z"
    }
   },
   "outputs": [
    {
     "name": "stdout",
     "output_type": "stream",
     "text": [
      "y:     [1 0 0 1 1 1 0 0 0 1]\n",
      "y_hat: [1 1 0 1 1 0 0 1 0 1]\n"
     ]
    }
   ],
   "source": [
    "from sklearn.naive_bayes import GaussianNB\n",
    "\n",
    "nb = GaussianNB()\n",
    "\n",
    "nb.fit(X,y)\n",
    "y_hat = nb.predict(X)\n",
    "print('y:     ' + str(y_hat[0:10]) + '\\ny_hat: ' + str(y[0:10]))"
   ]
  },
  {
   "cell_type": "markdown",
   "metadata": {},
   "source": [
    "- Jakie widzicie wady/zalety tego algorytmu?"
   ]
  },
  {
   "cell_type": "markdown",
   "metadata": {},
   "source": [
    "## Sposoby podziału danych\n",
    "- Jak radzić sobie z overfitingiem?\n",
    "- Jakie znacie sposoby podziału danych na treningowe i testowe?\n",
    "\n",
    "### Zbiór treningowy i testowy\n",
    "Prosty podział danych na część, na której uczymy model i na część która służy nam do sprawdzenia jego skuteczności."
   ]
  },
  {
   "cell_type": "code",
   "execution_count": 112,
   "metadata": {
    "ExecuteTime": {
     "end_time": "2020-03-07T17:50:27.159896Z",
     "start_time": "2020-03-07T17:50:27.154910Z"
    }
   },
   "outputs": [],
   "source": [
    "from sklearn.model_selection import train_test_split\n",
    "X_train, X_test, y_train, y_test = train_test_split(X, y, test_size=0.2, random_state=42)"
   ]
  },
  {
   "cell_type": "code",
   "execution_count": 113,
   "metadata": {
    "ExecuteTime": {
     "end_time": "2020-03-07T17:50:52.333567Z",
     "start_time": "2020-03-07T17:50:52.329929Z"
    }
   },
   "outputs": [
    {
     "name": "stdout",
     "output_type": "stream",
     "text": [
      "(462, 9) (369, 9) (93, 9)\n"
     ]
    }
   ],
   "source": [
    "print(X.shape,X_train.shape,X_test.shape)"
   ]
  },
  {
   "cell_type": "markdown",
   "metadata": {},
   "source": [
    "**Szybkie zadanie:** Podzielić dane w taki sposób jak powyżej i nauczyć na zbiorze treningowym regresje logistyczną\n",
    "\n",
    "- Jakie widzicie wady podejścia train/test split?"
   ]
  },
  {
   "cell_type": "markdown",
   "metadata": {},
   "source": [
    "### Crossvalidation\n",
    "- Czy możemy stosować CV dzieląc zbiór, tak by w zbiorze walidacyjnym pozostała tylko jedna obserwacja danych?\n",
    "- Czy sprawdzając performance modelu przez CV, możemy potem nauczyć model na całym zbiorze danych?"
   ]
  },
  {
   "cell_type": "code",
   "execution_count": 116,
   "metadata": {
    "ExecuteTime": {
     "end_time": "2020-03-07T17:58:33.491733Z",
     "start_time": "2020-03-07T17:58:33.127377Z"
    }
   },
   "outputs": [
    {
     "data": {
      "text/plain": [
       "array([0.78723404, 0.68085106, 0.73913043, 0.67391304, 0.58695652,\n",
       "       0.76086957, 0.76086957, 0.65217391, 0.7826087 , 0.7826087 ])"
      ]
     },
     "execution_count": 116,
     "metadata": {},
     "output_type": "execute_result"
    }
   ],
   "source": [
    "from sklearn.model_selection import cross_val_score\n",
    "cross_val_score(lr, X, y, scoring='accuracy', cv = 10)"
   ]
  },
  {
   "cell_type": "markdown",
   "metadata": {},
   "source": [
    "## Miary ocen jakości klasyfikatorów\n",
    "- Jakie znacie miary oceny klasyfikatorów?"
   ]
  },
  {
   "cell_type": "markdown",
   "metadata": {},
   "source": [
    "### Accuracy\n",
    "$ACC = \\frac{TP+TN}{ALL}$\n",
    "\n",
    "Bardzo intuicyjna miara - ile obserwacji zakwalifikowaliśmy poprawnie.\n",
    "\n",
    "- Jaki jest problem z accuracy?"
   ]
  },
  {
   "cell_type": "markdown",
   "metadata": {},
   "source": [
    "### Precision & Recall\n",
    "$PRECISION = \\frac{TP}{TP+FP}= \\frac{TP}{\\text{TOTAL PREDICTED POSITIVE}}$\n",
    "\n",
    "$RECALL = \\frac{TP}{TP+FN}$"
   ]
  },
  {
   "cell_type": "markdown",
   "metadata": {},
   "source": [
    "### F1 Score\n",
    "$F1_SCORE =\\frac{2*PRECISION*RECALL}{PRECISION+RECALL}$"
   ]
  },
  {
   "cell_type": "markdown",
   "metadata": {},
   "source": [
    "### ROC AUC"
   ]
  },
  {
   "cell_type": "markdown",
   "metadata": {},
   "source": [
    "**Zadanie** - przetestować 3 modele przedstawione dziś na zajęciach i sprawdzić, który jest lepszy na podstawie wyżej wymienionych miar."
   ]
  },
  {
   "cell_type": "code",
   "execution_count": null,
   "metadata": {},
   "outputs": [],
   "source": []
  }
 ],
 "metadata": {
  "kernelspec": {
   "display_name": "Python 3",
   "language": "python",
   "name": "python3"
  },
  "language_info": {
   "codemirror_mode": {
    "name": "ipython",
    "version": 3
   },
   "file_extension": ".py",
   "mimetype": "text/x-python",
   "name": "python",
   "nbconvert_exporter": "python",
   "pygments_lexer": "ipython3",
   "version": "3.7.4"
  },
  "toc": {
   "base_numbering": 1,
   "nav_menu": {},
   "number_sections": true,
   "sideBar": true,
   "skip_h1_title": false,
   "title_cell": "Table of Contents",
   "title_sidebar": "Contents",
   "toc_cell": false,
   "toc_position": {},
   "toc_section_display": true,
   "toc_window_display": false
  }
 },
 "nbformat": 4,
 "nbformat_minor": 2
}
