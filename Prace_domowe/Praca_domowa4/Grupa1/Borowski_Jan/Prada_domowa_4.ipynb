{
 "cells": [
  {
   "cell_type": "code",
   "execution_count": 1,
   "metadata": {},
   "outputs": [],
   "source": [
    "import pandas as pd\n",
    "import numpy as np \n",
    "from sklearn.model_selection import train_test_split, RandomizedSearchCV\n",
    "from sklearn.svm import SVR,SVC\n",
    "from sklearn.preprocessing import StandardScaler\n",
    "from sklearn.metrics import r2_score\n",
    "from sklearn.metrics import mean_squared_error\n",
    "import category_encoders as ce\n",
    "import matplotlib as plt\n",
    "from scipy.stats import uniform"
   ]
  },
  {
   "cell_type": "markdown",
   "metadata": {},
   "source": [
    "Zbiór apartments\n",
    "===="
   ]
  },
  {
   "cell_type": "code",
   "execution_count": 33,
   "metadata": {},
   "outputs": [],
   "source": [
    "data = pd.read_csv('apartments.cvs')"
   ]
  },
  {
   "cell_type": "code",
   "execution_count": 35,
   "metadata": {},
   "outputs": [
    {
     "name": "stdout",
     "output_type": "stream",
     "text": [
      "<class 'pandas.core.frame.DataFrame'>\n",
      "RangeIndex: 1000 entries, 0 to 999\n",
      "Data columns (total 7 columns):\n",
      "Unnamed: 0           1000 non-null int64\n",
      "m2.price             1000 non-null int64\n",
      "construction.year    1000 non-null int64\n",
      "surface              1000 non-null int64\n",
      "floor                1000 non-null int64\n",
      "no.rooms             1000 non-null int64\n",
      "district             1000 non-null object\n",
      "dtypes: int64(6), object(1)\n",
      "memory usage: 54.8+ KB\n"
     ]
    }
   ],
   "source": [
    "data.info()"
   ]
  },
  {
   "cell_type": "code",
   "execution_count": 36,
   "metadata": {},
   "outputs": [],
   "source": [
    "# Jako zmienną celu potraktuję zmienną m2.price toworząc w ten sposób zadanie Regresi\n",
    "\n",
    "# kolumna pierwsza to indeksy można usunąć \n",
    "data = data.drop('Unnamed: 0',axis=1)\n"
   ]
  },
  {
   "cell_type": "code",
   "execution_count": 37,
   "metadata": {},
   "outputs": [],
   "source": [
    "# Podziła na zbiór testowy/ternignowy \n",
    "X_train, X_test, y_train, y_test = train_test_split(data.drop('m2.price', axis=1), data['m2.price'])"
   ]
  },
  {
   "cell_type": "code",
   "execution_count": 38,
   "metadata": {},
   "outputs": [
    {
     "data": {
      "text/html": [
       "<div>\n",
       "<style scoped>\n",
       "    .dataframe tbody tr th:only-of-type {\n",
       "        vertical-align: middle;\n",
       "    }\n",
       "\n",
       "    .dataframe tbody tr th {\n",
       "        vertical-align: top;\n",
       "    }\n",
       "\n",
       "    .dataframe thead th {\n",
       "        text-align: right;\n",
       "    }\n",
       "</style>\n",
       "<table border=\"1\" class=\"dataframe\">\n",
       "  <thead>\n",
       "    <tr style=\"text-align: right;\">\n",
       "      <th></th>\n",
       "      <th>m2.price</th>\n",
       "      <th>construction.year</th>\n",
       "      <th>surface</th>\n",
       "      <th>floor</th>\n",
       "      <th>no.rooms</th>\n",
       "      <th>district</th>\n",
       "    </tr>\n",
       "  </thead>\n",
       "  <tbody>\n",
       "    <tr>\n",
       "      <th>0</th>\n",
       "      <td>5897</td>\n",
       "      <td>1953</td>\n",
       "      <td>25</td>\n",
       "      <td>3</td>\n",
       "      <td>1</td>\n",
       "      <td>Srodmiescie</td>\n",
       "    </tr>\n",
       "    <tr>\n",
       "      <th>1</th>\n",
       "      <td>1818</td>\n",
       "      <td>1992</td>\n",
       "      <td>143</td>\n",
       "      <td>9</td>\n",
       "      <td>5</td>\n",
       "      <td>Bielany</td>\n",
       "    </tr>\n",
       "    <tr>\n",
       "      <th>2</th>\n",
       "      <td>3643</td>\n",
       "      <td>1937</td>\n",
       "      <td>56</td>\n",
       "      <td>1</td>\n",
       "      <td>2</td>\n",
       "      <td>Praga</td>\n",
       "    </tr>\n",
       "    <tr>\n",
       "      <th>3</th>\n",
       "      <td>3517</td>\n",
       "      <td>1995</td>\n",
       "      <td>93</td>\n",
       "      <td>7</td>\n",
       "      <td>3</td>\n",
       "      <td>Ochota</td>\n",
       "    </tr>\n",
       "    <tr>\n",
       "      <th>4</th>\n",
       "      <td>3013</td>\n",
       "      <td>1992</td>\n",
       "      <td>144</td>\n",
       "      <td>6</td>\n",
       "      <td>5</td>\n",
       "      <td>Mokotow</td>\n",
       "    </tr>\n",
       "  </tbody>\n",
       "</table>\n",
       "</div>"
      ],
      "text/plain": [
       "   m2.price  construction.year  surface  floor  no.rooms     district\n",
       "0      5897               1953       25      3         1  Srodmiescie\n",
       "1      1818               1992      143      9         5      Bielany\n",
       "2      3643               1937       56      1         2        Praga\n",
       "3      3517               1995       93      7         3       Ochota\n",
       "4      3013               1992      144      6         5      Mokotow"
      ]
     },
     "execution_count": 38,
     "metadata": {},
     "output_type": "execute_result"
    }
   ],
   "source": [
    "#Użyję One-hote encodingu ponieważ Target nie da się w prosty sposób zastosować dla regresi\n",
    "data.head()"
   ]
  },
  {
   "cell_type": "code",
   "execution_count": 39,
   "metadata": {},
   "outputs": [
    {
     "name": "stdout",
     "output_type": "stream",
     "text": [
      "RMSE : 892.2402763012336\n",
      "R2 score : -0.03131450175057626\n"
     ]
    }
   ],
   "source": [
    "\n",
    "# SVM bez skalowania \n",
    "\n",
    "\n",
    "svm_ = SVR()\n",
    "ohe = ce.OneHotEncoder()\n",
    "\n",
    "# OHE\n",
    "svm_.fit(ohe.fit_transform(X_train),y_train)\n",
    "y_pred_ohe = svm_.predict(ohe.transform(X_test))\n",
    "\n",
    "\n",
    "\n",
    "print(f'RMSE : {mean_squared_error(y_test,y_pred_ohe,squared=False)}')\n",
    "print(f'R2 score : {r2_score(y_test,y_pred_ohe)}')\n",
    "\n",
    "\n"
   ]
  },
  {
   "cell_type": "markdown",
   "metadata": {},
   "source": [
    "Bez skalowania wynik tregiczne gorsze niż podawanie stałej wartosci dla każdego przypadku."
   ]
  },
  {
   "cell_type": "code",
   "execution_count": 40,
   "metadata": {},
   "outputs": [
    {
     "name": "stdout",
     "output_type": "stream",
     "text": [
      "RMSE_scaled : 871.725689830553\n",
      "R2 score_scaled : 0.015564725670756063\n"
     ]
    }
   ],
   "source": [
    "#\n",
    "scal = StandardScaler(copy=False)\n",
    "\n",
    "svm_ = SVR()\n",
    "ohe = ce.OneHotEncoder()\n",
    "\n",
    "columns_to_sclae =X_train.columns[:-1]\n",
    "\n",
    "scaled_X_train = X_train.copy()\n",
    "scaled_X_test = X_test.copy()\n",
    "\n",
    "scaled_X_train[columns_to_sclae] = scal.fit_transform(scaled_X_train[columns_to_sclae])\n",
    "scaled_X_test[columns_to_sclae] = scal.transform(scaled_X_test[columns_to_sclae])\n",
    "\n",
    "# OHE\n",
    "svm_.fit(ohe.fit_transform(scaled_X_train),y_train)\n",
    "y_pred_ohe = svm_.predict(ohe.transform(scaled_X_test))\n",
    "\n",
    "\n",
    "\n",
    "print(f'RMSE_scaled : {mean_squared_error(y_test,y_pred_ohe,squared=False)}')\n",
    "print(f'R2 score_scaled : {r2_score(y_test,y_pred_ohe)}')"
   ]
  },
  {
   "cell_type": "markdown",
   "metadata": {},
   "source": [
    "Po przeskalowaniu wynik jest wyraznie lepszy choć nie zbyt zadowalający. Może pomoże dobranie własciwych parametrów."
   ]
  },
  {
   "cell_type": "code",
   "execution_count": 43,
   "metadata": {},
   "outputs": [],
   "source": [
    "from scipy.stats import uniform\n",
    "\n",
    "param_distribution = {\n",
    "    'gamma': uniform(),\n",
    "    'C':uniform(0,10000),\n",
    "    \n",
    "    \n",
    "}\n",
    "rps = RandomizedSearchCV(SVR(epsilon=0.1),param_distributions=param_distribution,cv=5,n_iter=1000,verbose=6,n_jobs=-1)\n",
    "# Poniważ używam one hota nie ma potrzeby użyć piplinu z kodowaniem\n"
   ]
  },
  {
   "cell_type": "code",
   "execution_count": 42,
   "metadata": {},
   "outputs": [
    {
     "data": {
      "text/html": [
       "<div>\n",
       "<style scoped>\n",
       "    .dataframe tbody tr th:only-of-type {\n",
       "        vertical-align: middle;\n",
       "    }\n",
       "\n",
       "    .dataframe tbody tr th {\n",
       "        vertical-align: top;\n",
       "    }\n",
       "\n",
       "    .dataframe thead th {\n",
       "        text-align: right;\n",
       "    }\n",
       "</style>\n",
       "<table border=\"1\" class=\"dataframe\">\n",
       "  <thead>\n",
       "    <tr style=\"text-align: right;\">\n",
       "      <th></th>\n",
       "      <th>construction.year</th>\n",
       "      <th>surface</th>\n",
       "      <th>floor</th>\n",
       "      <th>no.rooms</th>\n",
       "      <th>district</th>\n",
       "    </tr>\n",
       "  </thead>\n",
       "  <tbody>\n",
       "    <tr>\n",
       "      <th>961</th>\n",
       "      <td>0.221048</td>\n",
       "      <td>-1.613005</td>\n",
       "      <td>-0.570362</td>\n",
       "      <td>-1.709880</td>\n",
       "      <td>Srodmiescie</td>\n",
       "    </tr>\n",
       "    <tr>\n",
       "      <th>720</th>\n",
       "      <td>-0.982549</td>\n",
       "      <td>0.288003</td>\n",
       "      <td>-0.570362</td>\n",
       "      <td>-0.255900</td>\n",
       "      <td>Mokotow</td>\n",
       "    </tr>\n",
       "    <tr>\n",
       "      <th>600</th>\n",
       "      <td>1.075214</td>\n",
       "      <td>0.552032</td>\n",
       "      <td>1.481301</td>\n",
       "      <td>1.198079</td>\n",
       "      <td>Srodmiescie</td>\n",
       "    </tr>\n",
       "    <tr>\n",
       "      <th>416</th>\n",
       "      <td>0.026919</td>\n",
       "      <td>1.449730</td>\n",
       "      <td>-0.228419</td>\n",
       "      <td>1.925069</td>\n",
       "      <td>Bielany</td>\n",
       "    </tr>\n",
       "    <tr>\n",
       "      <th>469</th>\n",
       "      <td>0.492828</td>\n",
       "      <td>0.155988</td>\n",
       "      <td>1.139357</td>\n",
       "      <td>0.471089</td>\n",
       "      <td>Mokotow</td>\n",
       "    </tr>\n",
       "    <tr>\n",
       "      <th>...</th>\n",
       "      <td>...</td>\n",
       "      <td>...</td>\n",
       "      <td>...</td>\n",
       "      <td>...</td>\n",
       "      <td>...</td>\n",
       "    </tr>\n",
       "    <tr>\n",
       "      <th>383</th>\n",
       "      <td>1.385819</td>\n",
       "      <td>-1.243365</td>\n",
       "      <td>1.139357</td>\n",
       "      <td>-0.982890</td>\n",
       "      <td>Wola</td>\n",
       "    </tr>\n",
       "    <tr>\n",
       "      <th>94</th>\n",
       "      <td>0.221048</td>\n",
       "      <td>-1.111350</td>\n",
       "      <td>-1.596194</td>\n",
       "      <td>-0.982890</td>\n",
       "      <td>Bemowo</td>\n",
       "    </tr>\n",
       "    <tr>\n",
       "      <th>3</th>\n",
       "      <td>1.152865</td>\n",
       "      <td>0.208794</td>\n",
       "      <td>0.455469</td>\n",
       "      <td>-0.255900</td>\n",
       "      <td>Ochota</td>\n",
       "    </tr>\n",
       "    <tr>\n",
       "      <th>447</th>\n",
       "      <td>0.065745</td>\n",
       "      <td>-1.586602</td>\n",
       "      <td>0.455469</td>\n",
       "      <td>-1.709880</td>\n",
       "      <td>Praga</td>\n",
       "    </tr>\n",
       "    <tr>\n",
       "      <th>852</th>\n",
       "      <td>-1.176678</td>\n",
       "      <td>-1.216962</td>\n",
       "      <td>-0.570362</td>\n",
       "      <td>-0.982890</td>\n",
       "      <td>Mokotow</td>\n",
       "    </tr>\n",
       "  </tbody>\n",
       "</table>\n",
       "<p>250 rows × 5 columns</p>\n",
       "</div>"
      ],
      "text/plain": [
       "     construction.year   surface     floor  no.rooms     district\n",
       "961           0.221048 -1.613005 -0.570362 -1.709880  Srodmiescie\n",
       "720          -0.982549  0.288003 -0.570362 -0.255900      Mokotow\n",
       "600           1.075214  0.552032  1.481301  1.198079  Srodmiescie\n",
       "416           0.026919  1.449730 -0.228419  1.925069      Bielany\n",
       "469           0.492828  0.155988  1.139357  0.471089      Mokotow\n",
       "..                 ...       ...       ...       ...          ...\n",
       "383           1.385819 -1.243365  1.139357 -0.982890         Wola\n",
       "94            0.221048 -1.111350 -1.596194 -0.982890       Bemowo\n",
       "3             1.152865  0.208794  0.455469 -0.255900       Ochota\n",
       "447           0.065745 -1.586602  0.455469 -1.709880        Praga\n",
       "852          -1.176678 -1.216962 -0.570362 -0.982890      Mokotow\n",
       "\n",
       "[250 rows x 5 columns]"
      ]
     },
     "execution_count": 42,
     "metadata": {},
     "output_type": "execute_result"
    }
   ],
   "source": []
  },
  {
   "cell_type": "code",
   "execution_count": 44,
   "metadata": {
    "scrolled": true
   },
   "outputs": [
    {
     "name": "stdout",
     "output_type": "stream",
     "text": [
      "Fitting 5 folds for each of 1000 candidates, totalling 5000 fits\n"
     ]
    },
    {
     "name": "stderr",
     "output_type": "stream",
     "text": [
      "[Parallel(n_jobs=-1)]: Using backend LokyBackend with 8 concurrent workers.\n",
      "[Parallel(n_jobs=-1)]: Done  34 tasks      | elapsed:    2.9s\n",
      "[Parallel(n_jobs=-1)]: Done  97 tasks      | elapsed:    5.7s\n",
      "[Parallel(n_jobs=-1)]: Done 184 tasks      | elapsed:    9.2s\n",
      "[Parallel(n_jobs=-1)]: Done 297 tasks      | elapsed:   14.7s\n",
      "[Parallel(n_jobs=-1)]: Done 434 tasks      | elapsed:   23.3s\n",
      "[Parallel(n_jobs=-1)]: Done 597 tasks      | elapsed:   32.0s\n",
      "[Parallel(n_jobs=-1)]: Done 784 tasks      | elapsed:   42.2s\n",
      "[Parallel(n_jobs=-1)]: Done 997 tasks      | elapsed:   56.1s\n",
      "[Parallel(n_jobs=-1)]: Done 1234 tasks      | elapsed:  1.2min\n",
      "[Parallel(n_jobs=-1)]: Done 1497 tasks      | elapsed:  1.6min\n",
      "[Parallel(n_jobs=-1)]: Done 1784 tasks      | elapsed:  1.8min\n",
      "[Parallel(n_jobs=-1)]: Done 2097 tasks      | elapsed:  2.2min\n",
      "[Parallel(n_jobs=-1)]: Done 2434 tasks      | elapsed:  2.6min\n",
      "[Parallel(n_jobs=-1)]: Done 2797 tasks      | elapsed:  3.0min\n",
      "[Parallel(n_jobs=-1)]: Done 3184 tasks      | elapsed:  3.3min\n",
      "[Parallel(n_jobs=-1)]: Done 3597 tasks      | elapsed:  3.7min\n",
      "[Parallel(n_jobs=-1)]: Done 4034 tasks      | elapsed:  4.1min\n",
      "[Parallel(n_jobs=-1)]: Done 4497 tasks      | elapsed:  4.6min\n",
      "[Parallel(n_jobs=-1)]: Done 4984 tasks      | elapsed:  5.1min\n",
      "[Parallel(n_jobs=-1)]: Done 5000 out of 5000 | elapsed:  5.1min finished\n"
     ]
    },
    {
     "data": {
      "text/plain": [
       "RandomizedSearchCV(cv=5, error_score=nan,\n",
       "                   estimator=SVR(C=1.0, cache_size=200, coef0=0.0, degree=3,\n",
       "                                 epsilon=0.1, gamma='scale', kernel='rbf',\n",
       "                                 max_iter=-1, shrinking=True, tol=0.001,\n",
       "                                 verbose=False),\n",
       "                   iid='deprecated', n_iter=1000, n_jobs=-1,\n",
       "                   param_distributions={'C': <scipy.stats._distn_infrastructure.rv_frozen object at 0x7fd3cc8e0b10>,\n",
       "                                        'gamma': <scipy.stats._distn_infrastructure.rv_frozen object at 0x7fd3ad04ccd0>},\n",
       "                   pre_dispatch='2*n_jobs', random_state=None, refit=True,\n",
       "                   return_train_score=False, scoring=None, verbose=6)"
      ]
     },
     "execution_count": 44,
     "metadata": {},
     "output_type": "execute_result"
    }
   ],
   "source": [
    "rps.fit(ohe.fit_transform(scaled_X_train),y_train)\n"
   ]
  },
  {
   "cell_type": "code",
   "execution_count": 45,
   "metadata": {},
   "outputs": [
    {
     "name": "stdout",
     "output_type": "stream",
     "text": [
      "Best score: 0.9735558162852076\n"
     ]
    },
    {
     "data": {
      "text/plain": [
       "{'C': 6233.262130988943, 'gamma': 0.017704464980319745}"
      ]
     },
     "execution_count": 45,
     "metadata": {},
     "output_type": "execute_result"
    }
   ],
   "source": [
    "print(f'Best score: {rps.best_score_}')\n",
    "rps.best_params_ \n",
    "# \n",
    "\n"
   ]
  },
  {
   "cell_type": "code",
   "execution_count": 46,
   "metadata": {},
   "outputs": [
    {
     "name": "stdout",
     "output_type": "stream",
     "text": [
      "RMSE : 153.16137451872436\n",
      "R2 score : 0.9696103297560396\n"
     ]
    }
   ],
   "source": [
    "\n",
    "svm_best=rps.best_estimator_\n",
    "svm_best.fit(ohe.fit_transform(scaled_X_train),y_train)\n",
    "y_pred_ohe = svm_best.predict(ohe.transform(scaled_X_test))\n",
    "\n",
    "\n",
    "\n",
    "print(f'RMSE : {mean_squared_error(y_test,y_pred_ohe,squared=False)}')\n",
    "print(f'R2 score : {r2_score(y_test,y_pred_ohe)}')\n",
    "\n",
    "# Wynik znacznie (wielokrotnie) wyższy niż z podstawowymi parametrami \n",
    "# Strojenie parametrów bardzo pomogło "
   ]
  },
  {
   "cell_type": "markdown",
   "metadata": {},
   "source": [
    "Drugi zbiór \n",
    "====\n",
    "Z biblioteki OpenMl https://www.openml.org/d/1462. Zadanie polega na klasyfikacij binarnej. Klasyfikujemy czy dana soba ma cukrzycę czy nie."
   ]
  },
  {
   "cell_type": "code",
   "execution_count": 2,
   "metadata": {},
   "outputs": [
    {
     "name": "stdout",
     "output_type": "stream",
     "text": [
      "<class 'pandas.core.frame.DataFrame'>\n",
      "RangeIndex: 768 entries, 0 to 767\n",
      "Data columns (total 9 columns):\n",
      "preg     768 non-null int64\n",
      "plas     768 non-null int64\n",
      "pres     768 non-null int64\n",
      "skin     768 non-null int64\n",
      "insu     768 non-null int64\n",
      "mass     768 non-null float64\n",
      "pedi     768 non-null float64\n",
      "age      768 non-null int64\n",
      "class    768 non-null object\n",
      "dtypes: float64(2), int64(6), object(1)\n",
      "memory usage: 54.1+ KB\n"
     ]
    }
   ],
   "source": [
    "data2 = pd.read_csv('dataset_37_diabetes.csv')\n",
    "data2.info()"
   ]
  },
  {
   "cell_type": "code",
   "execution_count": 3,
   "metadata": {},
   "outputs": [
    {
     "name": "stdout",
     "output_type": "stream",
     "text": [
      "Counter({'tested_negative': 500, 'tested_positive': 268})\n"
     ]
    },
    {
     "data": {
      "text/plain": [
       "preg    0.901674\n",
       "plas    0.173754\n",
       "pres   -1.843608\n",
       "skin    0.109372\n",
       "insu    2.272251\n",
       "mass   -0.428982\n",
       "pedi    1.919911\n",
       "age     1.129597\n",
       "dtype: float64"
      ]
     },
     "execution_count": 3,
     "metadata": {},
     "output_type": "execute_result"
    }
   ],
   "source": [
    "\n",
    "#Żadna z danych nie jest bardzo skośna (nie potrzeba dodatkowych przekształceń)\n",
    "from collections import Counter\n",
    "\n",
    "print(Counter(data2['class']))\n",
    "# Klasy nie są idelanie zbalansowane ale miary takie jak acc powinny mieć sens \n",
    "data2.skew()"
   ]
  },
  {
   "cell_type": "code",
   "execution_count": 4,
   "metadata": {},
   "outputs": [],
   "source": [
    "# Trzeba poprawić labele \n",
    "data2['class'] = np.where(data2['class']=='tested_negative',0,1)"
   ]
  },
  {
   "cell_type": "code",
   "execution_count": 5,
   "metadata": {},
   "outputs": [],
   "source": [
    "X_train2, X_test2, y_train2, y_test2 = train_test_split(data2.drop('class', axis=1), data2['class'])"
   ]
  },
  {
   "cell_type": "code",
   "execution_count": 6,
   "metadata": {},
   "outputs": [],
   "source": [
    "# skalowanie \n",
    "scal = StandardScaler(copy=False)\n",
    "\n",
    "X_train2 = pd.DataFrame(scal.fit_transform(X_train2))\n",
    "X_test2 = pd.DataFrame(scal.transform(X_test2))"
   ]
  },
  {
   "cell_type": "code",
   "execution_count": 7,
   "metadata": {},
   "outputs": [
    {
     "name": "stdout",
     "output_type": "stream",
     "text": [
      "Accuracy : 0.7447916666666666\n",
      "F1_score : 0.588235294117647\n",
      "Reccal : 0.5147058823529411\n"
     ]
    }
   ],
   "source": [
    "# test bez CV i z podstawowymi parametrami \n",
    "svm_ = SVC(probability=True)\n",
    "# Tym razem nie ma potrzeby kodowania \n",
    "svm_.fit(X_train2,y_train2)\n",
    "\n",
    "from sklearn.metrics import accuracy_score,auc,roc_curve,f1_score,recall_score\n",
    "\n",
    "\n",
    "y_pred = svm_.predict(X_test2)\n",
    "\n",
    "\n",
    "\n",
    "\n",
    "\n",
    "print(f'Accuracy : {accuracy_score(y_test2,y_pred)}')\n",
    "print(f'F1_score : {f1_score(y_test2,y_pred)}')\n",
    "print(f'Reccal : {recall_score(y_test2,y_pred)}')"
   ]
  },
  {
   "cell_type": "markdown",
   "metadata": {},
   "source": [
    "Wyniki zwłaszcza reccal nie są zbyt dobre."
   ]
  },
  {
   "cell_type": "code",
   "execution_count": 12,
   "metadata": {},
   "outputs": [],
   "source": [
    "param_distribution = {\n",
    "    \n",
    "    'gamma': uniform(),\n",
    "    \n",
    "    'C':uniform(0,10000),\n",
    "    \n",
    "}\n",
    "rps_c = RandomizedSearchCV(SVC(),param_distributions=param_distribution,cv=5,n_jobs=-1,n_iter=1000,verbose=6)"
   ]
  },
  {
   "cell_type": "code",
   "execution_count": 13,
   "metadata": {
    "scrolled": true
   },
   "outputs": [
    {
     "name": "stdout",
     "output_type": "stream",
     "text": [
      "Fitting 5 folds for each of 1000 candidates, totalling 5000 fits\n"
     ]
    },
    {
     "name": "stderr",
     "output_type": "stream",
     "text": [
      "[Parallel(n_jobs=-1)]: Using backend LokyBackend with 8 concurrent workers.\n",
      "[Parallel(n_jobs=-1)]: Done  34 tasks      | elapsed:    1.3s\n",
      "[Parallel(n_jobs=-1)]: Done 166 tasks      | elapsed:    2.5s\n",
      "[Parallel(n_jobs=-1)]: Done 832 tasks      | elapsed:    5.7s\n",
      "[Parallel(n_jobs=-1)]: Done 1736 tasks      | elapsed:   10.2s\n",
      "[Parallel(n_jobs=-1)]: Done 2832 tasks      | elapsed:   18.5s\n",
      "[Parallel(n_jobs=-1)]: Done 3324 tasks      | elapsed:   23.8s\n",
      "[Parallel(n_jobs=-1)]: Done 4072 tasks      | elapsed:   29.1s\n",
      "[Parallel(n_jobs=-1)]: Done 4924 tasks      | elapsed:   37.8s\n",
      "[Parallel(n_jobs=-1)]: Done 5000 out of 5000 | elapsed:   39.1s finished\n"
     ]
    },
    {
     "data": {
      "text/plain": [
       "RandomizedSearchCV(cv=5, error_score=nan,\n",
       "                   estimator=SVC(C=1.0, break_ties=False, cache_size=200,\n",
       "                                 class_weight=None, coef0=0.0,\n",
       "                                 decision_function_shape='ovr', degree=3,\n",
       "                                 gamma='scale', kernel='rbf', max_iter=-1,\n",
       "                                 probability=False, random_state=None,\n",
       "                                 shrinking=True, tol=0.001, verbose=False),\n",
       "                   iid='deprecated', n_iter=1000, n_jobs=-1,\n",
       "                   param_distributions={'C': <scipy.stats._distn_infrastructure.rv_frozen object at 0x7f5502abd8d0>,\n",
       "                                        'gamma': <scipy.stats._distn_infrastructure.rv_frozen object at 0x7f55031a5810>},\n",
       "                   pre_dispatch='2*n_jobs', random_state=None, refit=True,\n",
       "                   return_train_score=False, scoring=None, verbose=6)"
      ]
     },
     "execution_count": 13,
     "metadata": {},
     "output_type": "execute_result"
    }
   ],
   "source": [
    "rps_c.fit(X_train2,y_train2)"
   ]
  },
  {
   "cell_type": "code",
   "execution_count": 14,
   "metadata": {},
   "outputs": [
    {
     "name": "stdout",
     "output_type": "stream",
     "text": [
      "0.7656071964017991\n"
     ]
    },
    {
     "data": {
      "text/plain": [
       "{'C': 2.6180354960303465, 'gamma': 0.1912181329001693}"
      ]
     },
     "execution_count": 14,
     "metadata": {},
     "output_type": "execute_result"
    }
   ],
   "source": [
    "print(rps_c.best_score_)\n",
    "# Najlepszy wynik nie różni się znacznie od parametrów domyślnych\n",
    "rps_c.best_params_\n",
    "# Może to oznaczać zły kernel albo duży błąd treningowy sprawdżmy"
   ]
  },
  {
   "cell_type": "code",
   "execution_count": 12,
   "metadata": {},
   "outputs": [
    {
     "name": "stdout",
     "output_type": "stream",
     "text": [
      "Accuracy train : 0.8038194444444444\n"
     ]
    }
   ],
   "source": [
    "svm_c_best = rps_c.best_estimator_\n",
    "\n",
    "svm_c_best.fit(X_train2,y_train2)\n",
    "\n",
    "\n",
    "\n",
    "y_pred = svm_c_best.predict(X_train2)\n",
    "\n",
    "\n",
    "\n",
    "\n",
    "\n",
    "print(f'Accuracy train : {accuracy_score(y_train2,y_pred)}')\n",
    "# Zgodnie z przewidywaniami algorytm po prostu nie dopasowuję wystarczająco się do danych sprawdzę jescze inne jądra \n"
   ]
  },
  {
   "cell_type": "code",
   "execution_count": 10,
   "metadata": {},
   "outputs": [
    {
     "name": "stdout",
     "output_type": "stream",
     "text": [
      "Accuracy linear : 0.7552083333333334\n"
     ]
    }
   ],
   "source": [
    "svm_c = SVC(kernel='linear')\n",
    "\n",
    "svm_c.fit(X_train2,y_train2)\n",
    "y_pred = svm_c.predict(X_test2)\n",
    "\n",
    "print(f'Accuracy linear : {accuracy_score(y_test2,y_pred)}')\n",
    "#Wynik podobny do jądra gausowskiego "
   ]
  },
  {
   "cell_type": "code",
   "execution_count": 11,
   "metadata": {},
   "outputs": [
    {
     "name": "stdout",
     "output_type": "stream",
     "text": [
      "Accuracy poly : 0.7239583333333334\n"
     ]
    }
   ],
   "source": [
    "svm_c = SVC(kernel='poly')\n",
    "\n",
    "svm_c.fit(X_train2,y_train2)\n",
    "y_pred = svm_c.predict(X_test2)\n",
    "\n",
    "print(f'Accuracy poly : {accuracy_score(y_test2,y_pred)}')\n",
    "# Nieco niższy niż w pozostałych przypadkach "
   ]
  },
  {
   "cell_type": "code",
   "execution_count": 15,
   "metadata": {},
   "outputs": [
    {
     "name": "stdout",
     "output_type": "stream",
     "text": [
      "Accuracy best : 0.7604166666666666\n",
      "F1_score best : 0.6101694915254238\n",
      "Reccal best : 0.5625\n"
     ]
    }
   ],
   "source": [
    "svm_c_best = rps_c.best_estimator_\n",
    "\n",
    "svm_c_best.fit(X_train2,y_train2)\n",
    "\n",
    "\n",
    "\n",
    "y_pred = svm_c_best.predict(X_test2)\n",
    "\n",
    "\n",
    "\n",
    "\n",
    "\n",
    "print(f'Accuracy best : {accuracy_score(y_test2,y_pred)}')\n",
    "print(f'F1_score best : {f1_score(y_test2,y_pred)}')\n",
    "print(f'Reccal best : {recall_score(y_test2,y_pred)}')\n",
    "# Zbiór okazał się dośc trudny dla SVM "
   ]
  }
 ],
 "metadata": {
  "kernelspec": {
   "display_name": "Python 3",
   "language": "python",
   "name": "python3"
  },
  "language_info": {
   "codemirror_mode": {
    "name": "ipython",
    "version": 3
   },
   "file_extension": ".py",
   "mimetype": "text/x-python",
   "name": "python",
   "nbconvert_exporter": "python",
   "pygments_lexer": "ipython3",
   "version": "3.7.4"
  }
 },
 "nbformat": 4,
 "nbformat_minor": 2
}
