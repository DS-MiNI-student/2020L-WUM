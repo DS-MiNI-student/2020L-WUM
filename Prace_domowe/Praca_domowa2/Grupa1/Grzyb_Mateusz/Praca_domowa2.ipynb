{
 "cells": [
  {
   "cell_type": "markdown",
   "metadata": {},
   "source": [
    "# Praca domowa 2\n",
    "#### Mateusz Grzyb"
   ]
  },
  {
   "cell_type": "markdown",
   "metadata": {},
   "source": [
    "## Wczytanie pakietów"
   ]
  },
  {
   "cell_type": "code",
   "execution_count": 66,
   "metadata": {},
   "outputs": [],
   "source": [
    "import numpy as np\n",
    "import pandas as pd\n",
    "\n",
    "import matplotlib.pyplot as plt\n",
    "import seaborn as sns\n",
    "\n",
    "from category_encoders import TargetEncoder\n",
    "from sklearn.preprocessing import OneHotEncoder \n",
    "from category_encoders import BinaryEncoder\n",
    "from category_encoders import OrdinalEncoder\n",
    "\n",
    "from sklearn.experimental import enable_iterative_imputer\n",
    "from sklearn.impute import IterativeImputer\n",
    "from sklearn.metrics import mean_squared_error\n",
    "\n",
    "# do ewnetualnego podgladu calych ramek\n",
    "#from IPython.display import display\n",
    "#pd.set_option('display.max_columns', None)"
   ]
  },
  {
   "cell_type": "markdown",
   "metadata": {},
   "source": [
    "## Wczytanie danych"
   ]
  },
  {
   "cell_type": "code",
   "execution_count": 67,
   "metadata": {},
   "outputs": [
    {
     "data": {
      "text/html": [
       "<div>\n",
       "<style scoped>\n",
       "    .dataframe tbody tr th:only-of-type {\n",
       "        vertical-align: middle;\n",
       "    }\n",
       "\n",
       "    .dataframe tbody tr th {\n",
       "        vertical-align: top;\n",
       "    }\n",
       "\n",
       "    .dataframe thead th {\n",
       "        text-align: right;\n",
       "    }\n",
       "</style>\n",
       "<table border=\"1\" class=\"dataframe\">\n",
       "  <thead>\n",
       "    <tr style=\"text-align: right;\">\n",
       "      <th></th>\n",
       "      <th>lp</th>\n",
       "      <th>date</th>\n",
       "      <th>item_id</th>\n",
       "      <th>categories</th>\n",
       "      <th>pay_option_on_delivery</th>\n",
       "      <th>pay_option_transfer</th>\n",
       "      <th>seller</th>\n",
       "      <th>price</th>\n",
       "      <th>it_is_allegro_standard</th>\n",
       "      <th>it_quantity</th>\n",
       "      <th>it_is_brand_zone</th>\n",
       "      <th>it_seller_rating</th>\n",
       "      <th>it_location</th>\n",
       "      <th>main_category</th>\n",
       "    </tr>\n",
       "  </thead>\n",
       "  <tbody>\n",
       "    <tr>\n",
       "      <td>1</td>\n",
       "      <td>1</td>\n",
       "      <td>2016-04-03 15:35:26</td>\n",
       "      <td>4773181874</td>\n",
       "      <td>['Odzież, Obuwie, Dodatki', 'Bielizna damska',...</td>\n",
       "      <td>1</td>\n",
       "      <td>1</td>\n",
       "      <td>InwestycjeNET</td>\n",
       "      <td>4.9</td>\n",
       "      <td>1</td>\n",
       "      <td>9288</td>\n",
       "      <td>0</td>\n",
       "      <td>12428</td>\n",
       "      <td>Warszawa</td>\n",
       "      <td>Odzież, Obuwie, Dodatki</td>\n",
       "    </tr>\n",
       "    <tr>\n",
       "      <td>2</td>\n",
       "      <td>2</td>\n",
       "      <td>2016-04-03 14:14:31</td>\n",
       "      <td>4781627074</td>\n",
       "      <td>['Dom i Ogród', 'Budownictwo i Akcesoria', 'Śc...</td>\n",
       "      <td>1</td>\n",
       "      <td>1</td>\n",
       "      <td>otostyl_com</td>\n",
       "      <td>109.9</td>\n",
       "      <td>1</td>\n",
       "      <td>895</td>\n",
       "      <td>0</td>\n",
       "      <td>7389</td>\n",
       "      <td>Leszno</td>\n",
       "      <td>Dom i Ogród</td>\n",
       "    </tr>\n",
       "    <tr>\n",
       "      <td>3</td>\n",
       "      <td>3</td>\n",
       "      <td>2016-04-03 19:55:44</td>\n",
       "      <td>4783971474</td>\n",
       "      <td>['Książki i Komiksy', 'Poradniki i albumy', 'Z...</td>\n",
       "      <td>1</td>\n",
       "      <td>1</td>\n",
       "      <td>Matfel1</td>\n",
       "      <td>18.5</td>\n",
       "      <td>0</td>\n",
       "      <td>971</td>\n",
       "      <td>0</td>\n",
       "      <td>15006</td>\n",
       "      <td>Wola Krzysztoporska</td>\n",
       "      <td>Książki i Komiksy</td>\n",
       "    </tr>\n",
       "  </tbody>\n",
       "</table>\n",
       "</div>"
      ],
      "text/plain": [
       "   lp                 date     item_id  \\\n",
       "1   1  2016-04-03 15:35:26  4773181874   \n",
       "2   2  2016-04-03 14:14:31  4781627074   \n",
       "3   3  2016-04-03 19:55:44  4783971474   \n",
       "\n",
       "                                          categories  pay_option_on_delivery  \\\n",
       "1  ['Odzież, Obuwie, Dodatki', 'Bielizna damska',...                       1   \n",
       "2  ['Dom i Ogród', 'Budownictwo i Akcesoria', 'Śc...                       1   \n",
       "3  ['Książki i Komiksy', 'Poradniki i albumy', 'Z...                       1   \n",
       "\n",
       "   pay_option_transfer         seller  price  it_is_allegro_standard  \\\n",
       "1                    1  InwestycjeNET    4.9                       1   \n",
       "2                    1    otostyl_com  109.9                       1   \n",
       "3                    1        Matfel1   18.5                       0   \n",
       "\n",
       "   it_quantity  it_is_brand_zone  it_seller_rating          it_location  \\\n",
       "1         9288                 0             12428             Warszawa   \n",
       "2          895                 0              7389               Leszno   \n",
       "3          971                 0             15006  Wola Krzysztoporska   \n",
       "\n",
       "             main_category  \n",
       "1  Odzież, Obuwie, Dodatki  \n",
       "2              Dom i Ogród  \n",
       "3        Książki i Komiksy  "
      ]
     },
     "execution_count": 67,
     "metadata": {},
     "output_type": "execute_result"
    }
   ],
   "source": [
    "data=pd.read_csv('allegro-api-transactions.csv')\n",
    "\n",
    "data.loc[1:3, ]"
   ]
  },
  {
   "cell_type": "markdown",
   "metadata": {},
   "source": [
    "## Typy zmiennych i braki danych"
   ]
  },
  {
   "cell_type": "code",
   "execution_count": 68,
   "metadata": {},
   "outputs": [
    {
     "name": "stdout",
     "output_type": "stream",
     "text": [
      "<class 'pandas.core.frame.DataFrame'>\n",
      "RangeIndex: 420020 entries, 0 to 420019\n",
      "Data columns (total 14 columns):\n",
      "lp                        420020 non-null int64\n",
      "date                      420020 non-null object\n",
      "item_id                   420020 non-null int64\n",
      "categories                420020 non-null object\n",
      "pay_option_on_delivery    420020 non-null int64\n",
      "pay_option_transfer       420020 non-null int64\n",
      "seller                    420020 non-null object\n",
      "price                     420020 non-null float64\n",
      "it_is_allegro_standard    420020 non-null int64\n",
      "it_quantity               420020 non-null int64\n",
      "it_is_brand_zone          420020 non-null int64\n",
      "it_seller_rating          420020 non-null int64\n",
      "it_location               420020 non-null object\n",
      "main_category             420020 non-null object\n",
      "dtypes: float64(1), int64(8), object(5)\n",
      "memory usage: 44.9+ MB\n"
     ]
    }
   ],
   "source": [
    "data.info()"
   ]
  },
  {
   "cell_type": "markdown",
   "metadata": {},
   "source": [
    "#### Komentarz\n",
    "Dane obejmują 420020 aukcji, zmienne są typów int, float i string, nie występują wartości null."
   ]
  },
  {
   "cell_type": "markdown",
   "metadata": {},
   "source": [
    "## Kodowanie zmiennych kategorycznych"
   ]
  },
  {
   "cell_type": "markdown",
   "metadata": {},
   "source": [
    "### Target Encoding zmiennej it_location"
   ]
  },
  {
   "cell_type": "code",
   "execution_count": 69,
   "metadata": {},
   "outputs": [
    {
     "data": {
      "text/html": [
       "<div>\n",
       "<style scoped>\n",
       "    .dataframe tbody tr th:only-of-type {\n",
       "        vertical-align: middle;\n",
       "    }\n",
       "\n",
       "    .dataframe tbody tr th {\n",
       "        vertical-align: top;\n",
       "    }\n",
       "\n",
       "    .dataframe thead th {\n",
       "        text-align: right;\n",
       "    }\n",
       "</style>\n",
       "<table border=\"1\" class=\"dataframe\">\n",
       "  <thead>\n",
       "    <tr style=\"text-align: right;\">\n",
       "      <th></th>\n",
       "      <th>item_id</th>\n",
       "      <th>it_location</th>\n",
       "      <th>it_location_encoded</th>\n",
       "    </tr>\n",
       "  </thead>\n",
       "  <tbody>\n",
       "    <tr>\n",
       "      <td>1</td>\n",
       "      <td>4773181874</td>\n",
       "      <td>warszawa</td>\n",
       "      <td>84.132898</td>\n",
       "    </tr>\n",
       "    <tr>\n",
       "      <td>2</td>\n",
       "      <td>4781627074</td>\n",
       "      <td>leszno</td>\n",
       "      <td>64.883187</td>\n",
       "    </tr>\n",
       "    <tr>\n",
       "      <td>3</td>\n",
       "      <td>4783971474</td>\n",
       "      <td>wola krzysztoporska</td>\n",
       "      <td>35.433365</td>\n",
       "    </tr>\n",
       "  </tbody>\n",
       "</table>\n",
       "</div>"
      ],
      "text/plain": [
       "      item_id          it_location  it_location_encoded\n",
       "1  4773181874             warszawa            84.132898\n",
       "2  4781627074               leszno            64.883187\n",
       "3  4783971474  wola krzysztoporska            35.433365"
      ]
     },
     "execution_count": 69,
     "metadata": {},
     "output_type": "execute_result"
    }
   ],
   "source": [
    "data_te=data.copy()\n",
    "\n",
    "# ujednolicenie wielkosci liter w nazwach miejscowosci\n",
    "data_te.it_location=data_te.it_location.str.lower()\n",
    "\n",
    "te=TargetEncoder()\n",
    "data_te['it_location_encoded']=te.fit_transform(data_te['it_location'], data_te['price'])\n",
    "\n",
    "data_te.loc[1:3, ['item_id', 'it_location', 'it_location_encoded']]"
   ]
  },
  {
   "cell_type": "markdown",
   "metadata": {},
   "source": [
    "#### Komentarz\n",
    "W nowo utworzonej kolumnie it_location_encoded lokalizacja produktu została pomyślnie zastąpiona \"... with a blend of the expected value of the target given particular categorical value and the expected value of the target over all the training data.\".\n",
    "\n",
    "Przewagą Target Encodingu nad One-hot Encodingiem jest niezwiększanie liczby wymiarów ramki danych, na której został użyty."
   ]
  },
  {
   "cell_type": "markdown",
   "metadata": {},
   "source": [
    "#### Uwaga\n",
    "Poniższy przykład pokazuje, że dane w ramce wciąż nie są jednolite (błędy w pisowni, nieużywanie polskich liter diakrytyzowanych). W rzeczywistym scenariuszu należałoby te dane ujednolicić, jednak ponieważ uważam to za mozolną i niezbyt rozwijającą pracę (i co ważniejsze, nie trenuję modelu), nie będę tego tutaj robił."
   ]
  },
  {
   "cell_type": "code",
   "execution_count": 70,
   "metadata": {},
   "outputs": [
    {
     "data": {
      "text/html": [
       "<div>\n",
       "<style scoped>\n",
       "    .dataframe tbody tr th:only-of-type {\n",
       "        vertical-align: middle;\n",
       "    }\n",
       "\n",
       "    .dataframe tbody tr th {\n",
       "        vertical-align: top;\n",
       "    }\n",
       "\n",
       "    .dataframe thead th {\n",
       "        text-align: right;\n",
       "    }\n",
       "</style>\n",
       "<table border=\"1\" class=\"dataframe\">\n",
       "  <thead>\n",
       "    <tr style=\"text-align: right;\">\n",
       "      <th></th>\n",
       "      <th>item_id</th>\n",
       "      <th>it_location</th>\n",
       "      <th>it_location_encoded</th>\n",
       "    </tr>\n",
       "  </thead>\n",
       "  <tbody>\n",
       "    <tr>\n",
       "      <td>4</td>\n",
       "      <td>4787908274</td>\n",
       "      <td>białystok</td>\n",
       "      <td>73.772916</td>\n",
       "    </tr>\n",
       "    <tr>\n",
       "      <td>41449</td>\n",
       "      <td>6097012880</td>\n",
       "      <td>bialystok</td>\n",
       "      <td>29.990468</td>\n",
       "    </tr>\n",
       "  </tbody>\n",
       "</table>\n",
       "</div>"
      ],
      "text/plain": [
       "          item_id it_location  it_location_encoded\n",
       "4      4787908274   białystok            73.772916\n",
       "41449  6097012880   bialystok            29.990468"
      ]
     },
     "execution_count": 70,
     "metadata": {},
     "output_type": "execute_result"
    }
   ],
   "source": [
    "data_te.loc[[4, 41449], ['item_id', 'it_location', 'it_location_encoded']]"
   ]
  },
  {
   "cell_type": "markdown",
   "metadata": {},
   "source": [
    "### Trzy metody Encodingu zmiennej main_category"
   ]
  },
  {
   "cell_type": "markdown",
   "metadata": {},
   "source": [
    "#### One-hot Encoding"
   ]
  },
  {
   "cell_type": "code",
   "execution_count": 71,
   "metadata": {},
   "outputs": [
    {
     "data": {
      "text/html": [
       "<div>\n",
       "<style scoped>\n",
       "    .dataframe tbody tr th:only-of-type {\n",
       "        vertical-align: middle;\n",
       "    }\n",
       "\n",
       "    .dataframe tbody tr th {\n",
       "        vertical-align: top;\n",
       "    }\n",
       "\n",
       "    .dataframe thead th {\n",
       "        text-align: right;\n",
       "    }\n",
       "</style>\n",
       "<table border=\"1\" class=\"dataframe\">\n",
       "  <thead>\n",
       "    <tr style=\"text-align: right;\">\n",
       "      <th></th>\n",
       "      <th>item_id</th>\n",
       "      <th>main_category</th>\n",
       "      <th>main_category_Antyki i Sztuka</th>\n",
       "      <th>main_category_Bilety</th>\n",
       "      <th>main_category_Biuro i Reklama</th>\n",
       "      <th>main_category_Biżuteria i Zegarki</th>\n",
       "      <th>main_category_Delikatesy</th>\n",
       "      <th>main_category_Dla Dzieci</th>\n",
       "      <th>main_category_Dom i Ogród</th>\n",
       "      <th>main_category_Filmy</th>\n",
       "      <th>...</th>\n",
       "      <th>main_category_Nieruchomości</th>\n",
       "      <th>main_category_Odzież, Obuwie, Dodatki</th>\n",
       "      <th>main_category_Przemysł</th>\n",
       "      <th>main_category_RTV i AGD</th>\n",
       "      <th>main_category_Rękodzieło</th>\n",
       "      <th>main_category_Sport i Turystyka</th>\n",
       "      <th>main_category_Sprzęt estradowy, studyjny i DJ-ski</th>\n",
       "      <th>main_category_Telefony i Akcesoria</th>\n",
       "      <th>main_category_Uroda</th>\n",
       "      <th>main_category_Zdrowie</th>\n",
       "    </tr>\n",
       "  </thead>\n",
       "  <tbody>\n",
       "    <tr>\n",
       "      <td>1</td>\n",
       "      <td>4773181874</td>\n",
       "      <td>Odzież, Obuwie, Dodatki</td>\n",
       "      <td>0.0</td>\n",
       "      <td>0.0</td>\n",
       "      <td>0.0</td>\n",
       "      <td>0.0</td>\n",
       "      <td>0.0</td>\n",
       "      <td>0.0</td>\n",
       "      <td>0.0</td>\n",
       "      <td>0.0</td>\n",
       "      <td>...</td>\n",
       "      <td>0.0</td>\n",
       "      <td>1.0</td>\n",
       "      <td>0.0</td>\n",
       "      <td>0.0</td>\n",
       "      <td>0.0</td>\n",
       "      <td>0.0</td>\n",
       "      <td>0.0</td>\n",
       "      <td>0.0</td>\n",
       "      <td>0.0</td>\n",
       "      <td>0.0</td>\n",
       "    </tr>\n",
       "    <tr>\n",
       "      <td>2</td>\n",
       "      <td>4781627074</td>\n",
       "      <td>Dom i Ogród</td>\n",
       "      <td>0.0</td>\n",
       "      <td>0.0</td>\n",
       "      <td>0.0</td>\n",
       "      <td>0.0</td>\n",
       "      <td>0.0</td>\n",
       "      <td>0.0</td>\n",
       "      <td>1.0</td>\n",
       "      <td>0.0</td>\n",
       "      <td>...</td>\n",
       "      <td>0.0</td>\n",
       "      <td>0.0</td>\n",
       "      <td>0.0</td>\n",
       "      <td>0.0</td>\n",
       "      <td>0.0</td>\n",
       "      <td>0.0</td>\n",
       "      <td>0.0</td>\n",
       "      <td>0.0</td>\n",
       "      <td>0.0</td>\n",
       "      <td>0.0</td>\n",
       "    </tr>\n",
       "    <tr>\n",
       "      <td>3</td>\n",
       "      <td>4783971474</td>\n",
       "      <td>Książki i Komiksy</td>\n",
       "      <td>0.0</td>\n",
       "      <td>0.0</td>\n",
       "      <td>0.0</td>\n",
       "      <td>0.0</td>\n",
       "      <td>0.0</td>\n",
       "      <td>0.0</td>\n",
       "      <td>0.0</td>\n",
       "      <td>0.0</td>\n",
       "      <td>...</td>\n",
       "      <td>0.0</td>\n",
       "      <td>0.0</td>\n",
       "      <td>0.0</td>\n",
       "      <td>0.0</td>\n",
       "      <td>0.0</td>\n",
       "      <td>0.0</td>\n",
       "      <td>0.0</td>\n",
       "      <td>0.0</td>\n",
       "      <td>0.0</td>\n",
       "      <td>0.0</td>\n",
       "    </tr>\n",
       "  </tbody>\n",
       "</table>\n",
       "<p>3 rows × 29 columns</p>\n",
       "</div>"
      ],
      "text/plain": [
       "      item_id            main_category  main_category_Antyki i Sztuka  \\\n",
       "1  4773181874  Odzież, Obuwie, Dodatki                            0.0   \n",
       "2  4781627074              Dom i Ogród                            0.0   \n",
       "3  4783971474        Książki i Komiksy                            0.0   \n",
       "\n",
       "   main_category_Bilety  main_category_Biuro i Reklama  \\\n",
       "1                   0.0                            0.0   \n",
       "2                   0.0                            0.0   \n",
       "3                   0.0                            0.0   \n",
       "\n",
       "   main_category_Biżuteria i Zegarki  main_category_Delikatesy  \\\n",
       "1                                0.0                       0.0   \n",
       "2                                0.0                       0.0   \n",
       "3                                0.0                       0.0   \n",
       "\n",
       "   main_category_Dla Dzieci  main_category_Dom i Ogród  main_category_Filmy  \\\n",
       "1                       0.0                        0.0                  0.0   \n",
       "2                       0.0                        1.0                  0.0   \n",
       "3                       0.0                        0.0                  0.0   \n",
       "\n",
       "   ...  main_category_Nieruchomości  main_category_Odzież, Obuwie, Dodatki  \\\n",
       "1  ...                          0.0                                    1.0   \n",
       "2  ...                          0.0                                    0.0   \n",
       "3  ...                          0.0                                    0.0   \n",
       "\n",
       "   main_category_Przemysł  main_category_RTV i AGD  main_category_Rękodzieło  \\\n",
       "1                     0.0                      0.0                       0.0   \n",
       "2                     0.0                      0.0                       0.0   \n",
       "3                     0.0                      0.0                       0.0   \n",
       "\n",
       "   main_category_Sport i Turystyka  \\\n",
       "1                              0.0   \n",
       "2                              0.0   \n",
       "3                              0.0   \n",
       "\n",
       "   main_category_Sprzęt estradowy, studyjny i DJ-ski  \\\n",
       "1                                                0.0   \n",
       "2                                                0.0   \n",
       "3                                                0.0   \n",
       "\n",
       "   main_category_Telefony i Akcesoria  main_category_Uroda  \\\n",
       "1                                 0.0                  0.0   \n",
       "2                                 0.0                  0.0   \n",
       "3                                 0.0                  0.0   \n",
       "\n",
       "   main_category_Zdrowie  \n",
       "1                    0.0  \n",
       "2                    0.0  \n",
       "3                    0.0  \n",
       "\n",
       "[3 rows x 29 columns]"
      ]
     },
     "execution_count": 71,
     "metadata": {},
     "output_type": "execute_result"
    }
   ],
   "source": [
    "data_ohe=data.copy()\n",
    "\n",
    "ohe=OneHotEncoder(sparse=False)\n",
    "temp=pd.DataFrame(ohe.fit_transform(data_ohe[['main_category']]))\n",
    "temp.columns=ohe.get_feature_names(['main_category'])\n",
    "data_ohe=pd.concat([data_ohe, temp], axis=1)\n",
    "\n",
    "data_ohe.loc[1:3, np.concatenate((np.array(['item_id']), np.array([c for c in data_ohe if c[0:4]=='main'])), axis=None)]"
   ]
  },
  {
   "cell_type": "markdown",
   "metadata": {},
   "source": [
    "#### Komentarz\n",
    "One-hot Encoding pomyślnie zastąpił kolumnę main_category 27 binarnymi kolumnami main_category_(nazwa kategorii), po jednej na każdą kategorię.\n",
    "\n",
    "Liczba wymiarów ramki danych znacznie wzrosła."
   ]
  },
  {
   "cell_type": "markdown",
   "metadata": {},
   "source": [
    "#### Binary Encoding"
   ]
  },
  {
   "cell_type": "code",
   "execution_count": 72,
   "metadata": {},
   "outputs": [
    {
     "data": {
      "text/html": [
       "<div>\n",
       "<style scoped>\n",
       "    .dataframe tbody tr th:only-of-type {\n",
       "        vertical-align: middle;\n",
       "    }\n",
       "\n",
       "    .dataframe tbody tr th {\n",
       "        vertical-align: top;\n",
       "    }\n",
       "\n",
       "    .dataframe thead th {\n",
       "        text-align: right;\n",
       "    }\n",
       "</style>\n",
       "<table border=\"1\" class=\"dataframe\">\n",
       "  <thead>\n",
       "    <tr style=\"text-align: right;\">\n",
       "      <th></th>\n",
       "      <th>item_id</th>\n",
       "      <th>main_category</th>\n",
       "      <th>main_category_0</th>\n",
       "      <th>main_category_1</th>\n",
       "      <th>main_category_2</th>\n",
       "      <th>main_category_3</th>\n",
       "      <th>main_category_4</th>\n",
       "      <th>main_category_5</th>\n",
       "    </tr>\n",
       "  </thead>\n",
       "  <tbody>\n",
       "    <tr>\n",
       "      <td>1</td>\n",
       "      <td>4773181874</td>\n",
       "      <td>Odzież, Obuwie, Dodatki</td>\n",
       "      <td>0</td>\n",
       "      <td>0</td>\n",
       "      <td>0</td>\n",
       "      <td>0</td>\n",
       "      <td>1</td>\n",
       "      <td>0</td>\n",
       "    </tr>\n",
       "    <tr>\n",
       "      <td>2</td>\n",
       "      <td>4781627074</td>\n",
       "      <td>Dom i Ogród</td>\n",
       "      <td>0</td>\n",
       "      <td>0</td>\n",
       "      <td>0</td>\n",
       "      <td>0</td>\n",
       "      <td>1</td>\n",
       "      <td>1</td>\n",
       "    </tr>\n",
       "    <tr>\n",
       "      <td>3</td>\n",
       "      <td>4783971474</td>\n",
       "      <td>Książki i Komiksy</td>\n",
       "      <td>0</td>\n",
       "      <td>0</td>\n",
       "      <td>0</td>\n",
       "      <td>1</td>\n",
       "      <td>0</td>\n",
       "      <td>0</td>\n",
       "    </tr>\n",
       "  </tbody>\n",
       "</table>\n",
       "</div>"
      ],
      "text/plain": [
       "      item_id            main_category  main_category_0  main_category_1  \\\n",
       "1  4773181874  Odzież, Obuwie, Dodatki                0                0   \n",
       "2  4781627074              Dom i Ogród                0                0   \n",
       "3  4783971474        Książki i Komiksy                0                0   \n",
       "\n",
       "   main_category_2  main_category_3  main_category_4  main_category_5  \n",
       "1                0                0                1                0  \n",
       "2                0                0                1                1  \n",
       "3                0                1                0                0  "
      ]
     },
     "execution_count": 72,
     "metadata": {},
     "output_type": "execute_result"
    }
   ],
   "source": [
    "data_be=data.copy()\n",
    "\n",
    "be=BinaryEncoder()\n",
    "temp=be.fit_transform(data_be['main_category'])\n",
    "data_be=pd.concat([data_be, temp], axis=1)\n",
    "\n",
    "data_be.loc[1:3, np.concatenate((np.array(['item_id']), np.array([c for c in data_be if c[0:4]=='main'])), axis=None)]"
   ]
  },
  {
   "cell_type": "markdown",
   "metadata": {},
   "source": [
    "#### Komentarz"
   ]
  },
  {
   "cell_type": "markdown",
   "metadata": {},
   "source": [
    "Binary Encoding pomyślnie zastąpił kolumnę main_category 5 binarnymi kolumnami main_category_(1-5). Tym razem, poszczególne kategorie kodowane są przez liczby w systemie dwójkowym, zapisane we wszystkich 5 nowych kolumnach.\n",
    "\n",
    "Liczba wymiarów ramki wzrosła, ale nie tak bardzo, jak w przypadku One-hot Encodingu."
   ]
  },
  {
   "cell_type": "markdown",
   "metadata": {},
   "source": [
    "#### Ordinal Encoding"
   ]
  },
  {
   "cell_type": "code",
   "execution_count": 73,
   "metadata": {},
   "outputs": [
    {
     "data": {
      "text/html": [
       "<div>\n",
       "<style scoped>\n",
       "    .dataframe tbody tr th:only-of-type {\n",
       "        vertical-align: middle;\n",
       "    }\n",
       "\n",
       "    .dataframe tbody tr th {\n",
       "        vertical-align: top;\n",
       "    }\n",
       "\n",
       "    .dataframe thead th {\n",
       "        text-align: right;\n",
       "    }\n",
       "</style>\n",
       "<table border=\"1\" class=\"dataframe\">\n",
       "  <thead>\n",
       "    <tr style=\"text-align: right;\">\n",
       "      <th></th>\n",
       "      <th>item_id</th>\n",
       "      <th>main_category</th>\n",
       "      <th>main_category_encoded</th>\n",
       "    </tr>\n",
       "  </thead>\n",
       "  <tbody>\n",
       "    <tr>\n",
       "      <td>1</td>\n",
       "      <td>4773181874</td>\n",
       "      <td>Odzież, Obuwie, Dodatki</td>\n",
       "      <td>2</td>\n",
       "    </tr>\n",
       "    <tr>\n",
       "      <td>2</td>\n",
       "      <td>4781627074</td>\n",
       "      <td>Dom i Ogród</td>\n",
       "      <td>3</td>\n",
       "    </tr>\n",
       "    <tr>\n",
       "      <td>3</td>\n",
       "      <td>4783971474</td>\n",
       "      <td>Książki i Komiksy</td>\n",
       "      <td>4</td>\n",
       "    </tr>\n",
       "  </tbody>\n",
       "</table>\n",
       "</div>"
      ],
      "text/plain": [
       "      item_id            main_category  main_category_encoded\n",
       "1  4773181874  Odzież, Obuwie, Dodatki                      2\n",
       "2  4781627074              Dom i Ogród                      3\n",
       "3  4783971474        Książki i Komiksy                      4"
      ]
     },
     "execution_count": 73,
     "metadata": {},
     "output_type": "execute_result"
    }
   ],
   "source": [
    "data_oe=data.copy()\n",
    "\n",
    "oe=OrdinalEncoder()\n",
    "data_oe['main_category_encoded']=oe.fit_transform(data_oe['main_category'])\n",
    "\n",
    "\n",
    "data_oe.loc[1:3, ['item_id', 'main_category', 'main_category_encoded']]"
   ]
  },
  {
   "cell_type": "markdown",
   "metadata": {},
   "source": [
    "#### Komentarz\n",
    "Ordinal Encoding pomyślnie zastąpił kolumnę main_category kolumną main_category_encoded, w której poszczególne kategorie kodowane są przez liczby naturalne. Nie świadczy to o występowaniu relacji większości/mniejszości pomiędzy kategoriami - \"... the classes are assumed to have no true order and integers are selected at random.\"\n",
    "\n",
    "Liczba wymiarów ramki nie wzrosła."
   ]
  },
  {
   "cell_type": "markdown",
   "metadata": {},
   "source": [
    "## Uzupełnianie braków\n",
    "Zdecydowałem się na użycie Multivariate Feature Imputation.\n",
    "### Przygotowanie danych"
   ]
  },
  {
   "cell_type": "code",
   "execution_count": 74,
   "metadata": {},
   "outputs": [
    {
     "data": {
      "text/html": [
       "<div>\n",
       "<style scoped>\n",
       "    .dataframe tbody tr th:only-of-type {\n",
       "        vertical-align: middle;\n",
       "    }\n",
       "\n",
       "    .dataframe tbody tr th {\n",
       "        vertical-align: top;\n",
       "    }\n",
       "\n",
       "    .dataframe thead th {\n",
       "        text-align: right;\n",
       "    }\n",
       "</style>\n",
       "<table border=\"1\" class=\"dataframe\">\n",
       "  <thead>\n",
       "    <tr style=\"text-align: right;\">\n",
       "      <th></th>\n",
       "      <th>price</th>\n",
       "      <th>it_seller_rating</th>\n",
       "      <th>it_quantity</th>\n",
       "    </tr>\n",
       "  </thead>\n",
       "  <tbody>\n",
       "    <tr>\n",
       "      <td>count</td>\n",
       "      <td>420020.000000</td>\n",
       "      <td>420020.000000</td>\n",
       "      <td>420020.000000</td>\n",
       "    </tr>\n",
       "    <tr>\n",
       "      <td>mean</td>\n",
       "      <td>76.811350</td>\n",
       "      <td>20402.593496</td>\n",
       "      <td>6748.274823</td>\n",
       "    </tr>\n",
       "    <tr>\n",
       "      <td>std</td>\n",
       "      <td>390.326271</td>\n",
       "      <td>36682.898636</td>\n",
       "      <td>23387.248064</td>\n",
       "    </tr>\n",
       "    <tr>\n",
       "      <td>min</td>\n",
       "      <td>0.000000</td>\n",
       "      <td>-1.000000</td>\n",
       "      <td>0.000000</td>\n",
       "    </tr>\n",
       "    <tr>\n",
       "      <td>25%</td>\n",
       "      <td>9.000000</td>\n",
       "      <td>1581.000000</td>\n",
       "      <td>6.000000</td>\n",
       "    </tr>\n",
       "    <tr>\n",
       "      <td>50%</td>\n",
       "      <td>24.990000</td>\n",
       "      <td>6711.000000</td>\n",
       "      <td>95.000000</td>\n",
       "    </tr>\n",
       "    <tr>\n",
       "      <td>75%</td>\n",
       "      <td>68.450000</td>\n",
       "      <td>21007.000000</td>\n",
       "      <td>931.000000</td>\n",
       "    </tr>\n",
       "    <tr>\n",
       "      <td>max</td>\n",
       "      <td>119000.000000</td>\n",
       "      <td>292074.000000</td>\n",
       "      <td>99999.000000</td>\n",
       "    </tr>\n",
       "  </tbody>\n",
       "</table>\n",
       "</div>"
      ],
      "text/plain": [
       "               price  it_seller_rating    it_quantity\n",
       "count  420020.000000     420020.000000  420020.000000\n",
       "mean       76.811350      20402.593496    6748.274823\n",
       "std       390.326271      36682.898636   23387.248064\n",
       "min         0.000000         -1.000000       0.000000\n",
       "25%         9.000000       1581.000000       6.000000\n",
       "50%        24.990000       6711.000000      95.000000\n",
       "75%        68.450000      21007.000000     931.000000\n",
       "max    119000.000000     292074.000000   99999.000000"
      ]
     },
     "execution_count": 74,
     "metadata": {},
     "output_type": "execute_result"
    }
   ],
   "source": [
    "data_true=data.copy()\n",
    "data_true=data_true.loc[:, ['price', 'it_seller_rating', 'it_quantity']]\n",
    "\n",
    "data_true.describe()"
   ]
  },
  {
   "cell_type": "markdown",
   "metadata": {},
   "source": [
    "### Imputacja zmiennej it_seller_rating"
   ]
  },
  {
   "cell_type": "code",
   "execution_count": 75,
   "metadata": {},
   "outputs": [
    {
     "name": "stdout",
     "output_type": "stream",
     "text": [
      "Średnie RMSE wynosi: 6707.0\n",
      "Odchylenie standardowe RMSE wynosi: 63.0\n"
     ]
    }
   ],
   "source": [
    "RMSEs1=[]\n",
    "imp=IterativeImputer(max_iter=10)\n",
    "\n",
    "for i in range(10):\n",
    "    data_null=data.copy()\n",
    "    data_null=data_null.loc[:, ['price', 'it_seller_rating', 'it_quantity']]\n",
    "    data_null.loc[data_null.sample(len(data_null)//10).index, 'it_seller_rating']=None\n",
    "\n",
    "    data_imputed=pd.DataFrame(imp.fit_transform(data_null))\n",
    "\n",
    "    RMSEs1.append(np.sqrt(mean_squared_error(data_true, data_imputed)))\n",
    "    \n",
    "print('Średnie RMSE wynosi: '+str(round(np.mean(RMSEs1))))\n",
    "print('Odchylenie standardowe RMSE wynosi: '+str(round(np.std(RMSEs1))))"
   ]
  },
  {
   "cell_type": "markdown",
   "metadata": {},
   "source": [
    "#### Komentarz\n",
    "Odchylenie standardowe RMSE jest małe, więc eksperyment uznaję za przeprowadzony poprawnie. Średnie RMSE jest dosyć duże, w odniesienu do statystyk pozycyjnych zmiennej it_seller_rating (minimalna wartość = -1, maksymalna wartość 292074, średnia ~ 20403). Sprawdźmy, czy algorytm miał szansę na trafniejsze wnioskowanie: "
   ]
  },
  {
   "cell_type": "code",
   "execution_count": 76,
   "metadata": {},
   "outputs": [
    {
     "data": {
      "image/png": "[encoded data removed]",
      "text/plain": [
       "<Figure size 576x432 with 2 Axes>"
      ]
     },
     "metadata": {
      "needs_background": "light"
     },
     "output_type": "display_data"
    }
   ],
   "source": [
    "corr=data_true.corr()\n",
    "fig, ax=plt.subplots(figsize=(8,6))  \n",
    "ax=sns.heatmap(corr, xticklabels=corr.columns, yticklabels=corr.columns, annot=True, cmap=\"PiYG\", center=0, vmin=-1, vmax=1)\n",
    "ax.set_title('Korelacje zmiennych')\n",
    "plt.show();"
   ]
  },
  {
   "cell_type": "markdown",
   "metadata": {},
   "source": [
    "Jak widać, korelacje zmiennych w ramce danych są bardzo małe. Nie jest zatem zaskoczeniem, że wyniki algorytmu nie były dobre."
   ]
  },
  {
   "cell_type": "markdown",
   "metadata": {},
   "source": [
    "### Imputacja zmiennych it_seller_rating i it_quantity"
   ]
  },
  {
   "cell_type": "code",
   "execution_count": 77,
   "metadata": {},
   "outputs": [
    {
     "name": "stdout",
     "output_type": "stream",
     "text": [
      "Średnie RMSE wynosi: 7921.619832059053\n",
      "Odchylenie standardowe RMSE wynosi: 53.71465938278901\n"
     ]
    }
   ],
   "source": [
    "RMSEs2=[]\n",
    "\n",
    "for i in range(10):\n",
    "    data_null=data.copy()\n",
    "    data_null=data_null.loc[:, ['price', 'it_seller_rating', 'it_quantity']]\n",
    "    data_null.loc[data_null.sample(len(data_null)//10).index, 'it_seller_rating']=None\n",
    "    data_null.loc[data_null.sample(len(data_null)//10).index, 'it_quantity']=None\n",
    "\n",
    "    data_imputed=pd.DataFrame(imp.fit_transform(data_null))\n",
    "\n",
    "    RMSEs2.append(np.sqrt(mean_squared_error(data_true, data_imputed)))\n",
    "    \n",
    "print('Średnie RMSE wynosi: '+str(np.mean(RMSEs2)))\n",
    "print('Odchylenie standardowe RMSE wynosi: '+str(np.std(RMSEs2)))"
   ]
  },
  {
   "cell_type": "markdown",
   "metadata": {},
   "source": [
    "#### Komentarz"
   ]
  },
  {
   "cell_type": "markdown",
   "metadata": {},
   "source": [
    "Odchylenie standardowe RMSE jest małe, więc eksperyment uznaję za przeprowadzony poprawnie. Średnie RMSE znacznie wzrosło. Zgodnie ze wcześniejszą analizą, nie jest to zaskoczeniem. Struktura danych (bardzo małe korelacje zmiennych) uniemożliwia algorytmowi trafne wnioskowanie. Nie jest zatem zaskoczeniem, że im więcej braków algorytm uzupełnia, tym większa jest rozbieżność względem prawdziwych wartości."
   ]
  },
  {
   "cell_type": "markdown",
   "metadata": {},
   "source": [
    "#### Wizualizacja wyników"
   ]
  },
  {
   "cell_type": "code",
   "execution_count": 78,
   "metadata": {},
   "outputs": [
    {
     "data": {
      "image/png": "[encoded data removed]",
      "text/plain": [
       "<Figure size 576x432 with 1 Axes>"
      ]
     },
     "metadata": {
      "needs_background": "light"
     },
     "output_type": "display_data"
    }
   ],
   "source": [
    "pd.DataFrame(['1 incomplete variable', '2 incomplete variables'])\n",
    "types=pd.DataFrame(['2 incomplete variables' if (i>=10) else '1 incomplete variable' for i in range(20)]).reset_index(drop=True)\n",
    "iters=pd.DataFrame(['iter_'+str(i%10) for i in range(20)]).reset_index(drop=True)\n",
    "RMSEs1=pd.DataFrame(RMSEs1)\n",
    "RMSEs2=pd.DataFrame(RMSEs2)\n",
    "RMSEs=pd.concat([RMSEs1, RMSEs2]).reset_index(drop=True)\n",
    "RMSEs=pd.concat([types, iters, RMSEs], axis=1)\n",
    "RMSEs.columns=['type', 'iter', 'RMSE']\n",
    "\n",
    "fig, ax=plt.subplots(figsize=(8,6))\n",
    "sns.lineplot(data=RMSEs, x='iter', y='RMSE', hue='type');"
   ]
  },
  {
   "cell_type": "markdown",
   "metadata": {},
   "source": [
    "#### Komentarz\n",
    "Wyniki omówiłem już powyżej, tutaj jest tylko ich wizualizacja."
   ]
  }
 ],
 "metadata": {
  "kernelspec": {
   "display_name": "Python 3",
   "language": "python",
   "name": "python3"
  },
  "language_info": {
   "codemirror_mode": {
    "name": "ipython",
    "version": 3
   },
   "file_extension": ".py",
   "mimetype": "text/x-python",
   "name": "python",
   "nbconvert_exporter": "python",
   "pygments_lexer": "ipython3",
   "version": "3.7.4"
  }
 },
 "nbformat": 4,
 "nbformat_minor": 4
}
