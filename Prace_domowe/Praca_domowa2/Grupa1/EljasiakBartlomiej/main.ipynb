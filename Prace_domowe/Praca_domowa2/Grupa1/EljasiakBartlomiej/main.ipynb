{
 "cells": [
  {
   "cell_type": "markdown",
   "metadata": {},
   "source": [
    "# 2020L-WUM Praca domowa 2"
   ]
  },
  {
   "cell_type": "markdown",
   "metadata": {},
   "source": [
    "Kod: **Bartłomiej Eljasiak**"
   ]
  },
  {
   "cell_type": "markdown",
   "metadata": {},
   "source": [
    "## Załadowanie bibliotek"
   ]
  },
  {
   "cell_type": "markdown",
   "metadata": {},
   "source": [
    "Z tych bibliotek będziemy korzystać w wielu miejscach, jednak w niektórych fragmentach kodu znajdą się dodatkowe importowania, lecz w takich sytuacjach użytek załadowanej biblioteki jest ograniczony do 'chunku', w którym została załadowana."
   ]
  },
  {
   "cell_type": "code",
   "execution_count": 1,
   "metadata": {},
   "outputs": [],
   "source": [
    "import pandas as pd\n",
    "import seaborn as sns\n",
    "import numpy as np\n",
    "import sklearn"
   ]
  },
  {
   "cell_type": "markdown",
   "metadata": {},
   "source": [
    "## Wczytanie danych"
   ]
  },
  {
   "cell_type": "code",
   "execution_count": 56,
   "metadata": {},
   "outputs": [],
   "source": [
    "# local version \n",
    "_data=pd.read_csv('allegro-api-transactions.csv')\n",
    "\n",
    "#online version\n",
    "#_data = pd.read_csv('https://www.dropbox.com/s/360xhh2d9lnaek3/allegro-api-transactions.csv?dl=1')\n",
    "cdata=_data.copy()"
   ]
  },
  {
   "cell_type": "markdown",
   "metadata": {},
   "source": [
    "### Przyjrzenie się danym"
   ]
  },
  {
   "cell_type": "code",
   "execution_count": 3,
   "metadata": {},
   "outputs": [
    {
     "data": {
      "text/html": [
       "<div>\n",
       "<style scoped>\n",
       "    .dataframe tbody tr th:only-of-type {\n",
       "        vertical-align: middle;\n",
       "    }\n",
       "\n",
       "    .dataframe tbody tr th {\n",
       "        vertical-align: top;\n",
       "    }\n",
       "\n",
       "    .dataframe thead th {\n",
       "        text-align: right;\n",
       "    }\n",
       "</style>\n",
       "<table border=\"1\" class=\"dataframe\">\n",
       "  <thead>\n",
       "    <tr style=\"text-align: right;\">\n",
       "      <th></th>\n",
       "      <th>lp</th>\n",
       "      <th>date</th>\n",
       "      <th>item_id</th>\n",
       "      <th>categories</th>\n",
       "      <th>pay_option_on_delivery</th>\n",
       "      <th>pay_option_transfer</th>\n",
       "      <th>seller</th>\n",
       "      <th>price</th>\n",
       "      <th>it_is_allegro_standard</th>\n",
       "      <th>it_quantity</th>\n",
       "      <th>it_is_brand_zone</th>\n",
       "      <th>it_seller_rating</th>\n",
       "      <th>it_location</th>\n",
       "      <th>main_category</th>\n",
       "    </tr>\n",
       "  </thead>\n",
       "  <tbody>\n",
       "    <tr>\n",
       "      <th>0</th>\n",
       "      <td>0</td>\n",
       "      <td>2016-04-03 21:21:08</td>\n",
       "      <td>4753602474</td>\n",
       "      <td>['Komputery', 'Dyski i napędy', 'Nośniki', 'No...</td>\n",
       "      <td>1</td>\n",
       "      <td>1</td>\n",
       "      <td>radzioch666</td>\n",
       "      <td>59.99</td>\n",
       "      <td>1</td>\n",
       "      <td>997</td>\n",
       "      <td>0</td>\n",
       "      <td>50177</td>\n",
       "      <td>Warszawa</td>\n",
       "      <td>Komputery</td>\n",
       "    </tr>\n",
       "    <tr>\n",
       "      <th>1</th>\n",
       "      <td>1</td>\n",
       "      <td>2016-04-03 15:35:26</td>\n",
       "      <td>4773181874</td>\n",
       "      <td>['Odzież, Obuwie, Dodatki', 'Bielizna damska',...</td>\n",
       "      <td>1</td>\n",
       "      <td>1</td>\n",
       "      <td>InwestycjeNET</td>\n",
       "      <td>4.90</td>\n",
       "      <td>1</td>\n",
       "      <td>9288</td>\n",
       "      <td>0</td>\n",
       "      <td>12428</td>\n",
       "      <td>Warszawa</td>\n",
       "      <td>Odzież, Obuwie, Dodatki</td>\n",
       "    </tr>\n",
       "    <tr>\n",
       "      <th>2</th>\n",
       "      <td>2</td>\n",
       "      <td>2016-04-03 14:14:31</td>\n",
       "      <td>4781627074</td>\n",
       "      <td>['Dom i Ogród', 'Budownictwo i Akcesoria', 'Śc...</td>\n",
       "      <td>1</td>\n",
       "      <td>1</td>\n",
       "      <td>otostyl_com</td>\n",
       "      <td>109.90</td>\n",
       "      <td>1</td>\n",
       "      <td>895</td>\n",
       "      <td>0</td>\n",
       "      <td>7389</td>\n",
       "      <td>Leszno</td>\n",
       "      <td>Dom i Ogród</td>\n",
       "    </tr>\n",
       "    <tr>\n",
       "      <th>3</th>\n",
       "      <td>3</td>\n",
       "      <td>2016-04-03 19:55:44</td>\n",
       "      <td>4783971474</td>\n",
       "      <td>['Książki i Komiksy', 'Poradniki i albumy', 'Z...</td>\n",
       "      <td>1</td>\n",
       "      <td>1</td>\n",
       "      <td>Matfel1</td>\n",
       "      <td>18.50</td>\n",
       "      <td>0</td>\n",
       "      <td>971</td>\n",
       "      <td>0</td>\n",
       "      <td>15006</td>\n",
       "      <td>Wola Krzysztoporska</td>\n",
       "      <td>Książki i Komiksy</td>\n",
       "    </tr>\n",
       "    <tr>\n",
       "      <th>4</th>\n",
       "      <td>4</td>\n",
       "      <td>2016-04-03 18:05:54</td>\n",
       "      <td>4787908274</td>\n",
       "      <td>['Odzież, Obuwie, Dodatki', 'Ślub i wesele', '...</td>\n",
       "      <td>1</td>\n",
       "      <td>1</td>\n",
       "      <td>PPHU_RICO</td>\n",
       "      <td>19.90</td>\n",
       "      <td>1</td>\n",
       "      <td>950</td>\n",
       "      <td>0</td>\n",
       "      <td>32975</td>\n",
       "      <td>BIAŁYSTOK</td>\n",
       "      <td>Odzież, Obuwie, Dodatki</td>\n",
       "    </tr>\n",
       "  </tbody>\n",
       "</table>\n",
       "</div>"
      ],
      "text/plain": [
       "   lp                 date     item_id  \\\n",
       "0   0  2016-04-03 21:21:08  4753602474   \n",
       "1   1  2016-04-03 15:35:26  4773181874   \n",
       "2   2  2016-04-03 14:14:31  4781627074   \n",
       "3   3  2016-04-03 19:55:44  4783971474   \n",
       "4   4  2016-04-03 18:05:54  4787908274   \n",
       "\n",
       "                                          categories  pay_option_on_delivery  \\\n",
       "0  ['Komputery', 'Dyski i napędy', 'Nośniki', 'No...                       1   \n",
       "1  ['Odzież, Obuwie, Dodatki', 'Bielizna damska',...                       1   \n",
       "2  ['Dom i Ogród', 'Budownictwo i Akcesoria', 'Śc...                       1   \n",
       "3  ['Książki i Komiksy', 'Poradniki i albumy', 'Z...                       1   \n",
       "4  ['Odzież, Obuwie, Dodatki', 'Ślub i wesele', '...                       1   \n",
       "\n",
       "   pay_option_transfer         seller   price  it_is_allegro_standard  \\\n",
       "0                    1    radzioch666   59.99                       1   \n",
       "1                    1  InwestycjeNET    4.90                       1   \n",
       "2                    1    otostyl_com  109.90                       1   \n",
       "3                    1        Matfel1   18.50                       0   \n",
       "4                    1      PPHU_RICO   19.90                       1   \n",
       "\n",
       "   it_quantity  it_is_brand_zone  it_seller_rating          it_location  \\\n",
       "0          997                 0             50177             Warszawa   \n",
       "1         9288                 0             12428             Warszawa   \n",
       "2          895                 0              7389               Leszno   \n",
       "3          971                 0             15006  Wola Krzysztoporska   \n",
       "4          950                 0             32975            BIAŁYSTOK   \n",
       "\n",
       "             main_category  \n",
       "0                Komputery  \n",
       "1  Odzież, Obuwie, Dodatki  \n",
       "2              Dom i Ogród  \n",
       "3        Książki i Komiksy  \n",
       "4  Odzież, Obuwie, Dodatki  "
      ]
     },
     "execution_count": 3,
     "metadata": {},
     "output_type": "execute_result"
    }
   ],
   "source": [
    "cdata.head()"
   ]
  },
  {
   "cell_type": "markdown",
   "metadata": {},
   "source": [
    "# Obróbka danych"
   ]
  },
  {
   "cell_type": "code",
   "execution_count": 4,
   "metadata": {},
   "outputs": [
    {
     "data": {
      "text/plain": [
       "10056"
      ]
     },
     "execution_count": 4,
     "metadata": {},
     "output_type": "execute_result"
    }
   ],
   "source": [
    "len(cdata.it_location.unique())"
   ]
  },
  {
   "cell_type": "code",
   "execution_count": 5,
   "metadata": {},
   "outputs": [
    {
     "name": "stdout",
     "output_type": "stream",
     "text": [
      "<class 'pandas.core.frame.DataFrame'>\n",
      "RangeIndex: 420020 entries, 0 to 420019\n",
      "Data columns (total 14 columns):\n",
      "lp                        420020 non-null int64\n",
      "date                      420020 non-null object\n",
      "item_id                   420020 non-null int64\n",
      "categories                420020 non-null object\n",
      "pay_option_on_delivery    420020 non-null int64\n",
      "pay_option_transfer       420020 non-null int64\n",
      "seller                    420020 non-null object\n",
      "price                     420020 non-null float64\n",
      "it_is_allegro_standard    420020 non-null int64\n",
      "it_quantity               420020 non-null int64\n",
      "it_is_brand_zone          420020 non-null int64\n",
      "it_seller_rating          420020 non-null int64\n",
      "it_location               420020 non-null object\n",
      "main_category             420020 non-null object\n",
      "dtypes: float64(1), int64(8), object(5)\n",
      "memory usage: 36.9+ MB\n"
     ]
    }
   ],
   "source": [
    "cdata.info()"
   ]
  },
  {
   "cell_type": "markdown",
   "metadata": {},
   "source": [
    "Na pierwszy rzut oka nie mamy żadnych braków w danych, co znacznie ułatwia nam prace.  "
   ]
  },
  {
   "cell_type": "markdown",
   "metadata": {},
   "source": [
    "# Kodowanie zmiennych kategorycznych"
   ]
  },
  {
   "cell_type": "markdown",
   "metadata": {},
   "source": [
    "Wiemy, że naszym targetem będzie `price`, chcemy więc w tym akapicie zamienić wszystkie zmienne kategoryczne, z których w dalszej części kodu będziemy korzystać, na zmienne liczbowe. Skuteczna zamiana przy użyciu odpowiednich metod takich jak **target encoding** oraz **on-hot encoding** pozwoli nam przekształcić obecne informacje, tak byśmy mogli je wykorzystać przy operacjach matematycznych. Pominiemy jednak w naszych przekształceniach kolumnę `categories`. "
   ]
  },
  {
   "cell_type": "markdown",
   "metadata": {},
   "source": [
    "## Target encoding dla `it_location`"
   ]
  },
  {
   "cell_type": "code",
   "execution_count": 6,
   "metadata": {},
   "outputs": [
    {
     "data": {
      "text/html": [
       "<div>\n",
       "<style scoped>\n",
       "    .dataframe tbody tr th:only-of-type {\n",
       "        vertical-align: middle;\n",
       "    }\n",
       "\n",
       "    .dataframe tbody tr th {\n",
       "        vertical-align: top;\n",
       "    }\n",
       "\n",
       "    .dataframe thead th {\n",
       "        text-align: right;\n",
       "    }\n",
       "</style>\n",
       "<table border=\"1\" class=\"dataframe\">\n",
       "  <thead>\n",
       "    <tr style=\"text-align: right;\">\n",
       "      <th></th>\n",
       "      <th>it_location</th>\n",
       "    </tr>\n",
       "  </thead>\n",
       "  <tbody>\n",
       "    <tr>\n",
       "      <th>0</th>\n",
       "      <td>85.423398</td>\n",
       "    </tr>\n",
       "    <tr>\n",
       "      <th>1</th>\n",
       "      <td>85.423398</td>\n",
       "    </tr>\n",
       "    <tr>\n",
       "      <th>2</th>\n",
       "      <td>61.991428</td>\n",
       "    </tr>\n",
       "    <tr>\n",
       "      <th>3</th>\n",
       "      <td>46.319255</td>\n",
       "    </tr>\n",
       "    <tr>\n",
       "      <th>4</th>\n",
       "      <td>117.191953</td>\n",
       "    </tr>\n",
       "    <tr>\n",
       "      <th>...</th>\n",
       "      <td>...</td>\n",
       "    </tr>\n",
       "    <tr>\n",
       "      <th>420015</th>\n",
       "      <td>28.180792</td>\n",
       "    </tr>\n",
       "    <tr>\n",
       "      <th>420016</th>\n",
       "      <td>66.785357</td>\n",
       "    </tr>\n",
       "    <tr>\n",
       "      <th>420017</th>\n",
       "      <td>44.276007</td>\n",
       "    </tr>\n",
       "    <tr>\n",
       "      <th>420018</th>\n",
       "      <td>106.203076</td>\n",
       "    </tr>\n",
       "    <tr>\n",
       "      <th>420019</th>\n",
       "      <td>78.083363</td>\n",
       "    </tr>\n",
       "  </tbody>\n",
       "</table>\n",
       "<p>420020 rows × 1 columns</p>\n",
       "</div>"
      ],
      "text/plain": [
       "        it_location\n",
       "0         85.423398\n",
       "1         85.423398\n",
       "2         61.991428\n",
       "3         46.319255\n",
       "4        117.191953\n",
       "...             ...\n",
       "420015    28.180792\n",
       "420016    66.785357\n",
       "420017    44.276007\n",
       "420018   106.203076\n",
       "420019    78.083363\n",
       "\n",
       "[420020 rows x 1 columns]"
      ]
     },
     "execution_count": 6,
     "metadata": {},
     "output_type": "execute_result"
    }
   ],
   "source": [
    "import category_encoders\n",
    "y=cdata.price\n",
    "te = category_encoders.target_encoder.TargetEncoder(cdata.it_location, smoothing=100)\n",
    "encoded = te.fit_transform(cdata.it_location,y)\n",
    "encoded"
   ]
  },
  {
   "cell_type": "markdown",
   "metadata": {},
   "source": [
    "## Różne rodzaje zakodowania kolumny `main_category`"
   ]
  },
  {
   "cell_type": "markdown",
   "metadata": {},
   "source": [
    "## One-hot Coding"
   ]
  },
  {
   "cell_type": "code",
   "execution_count": 7,
   "metadata": {},
   "outputs": [
    {
     "name": "stdout",
     "output_type": "stream",
     "text": [
      "[12 18  6 ... 18  5 15]\n",
      "[[0. 0. 0. ... 0. 0. 0.]\n",
      " [0. 0. 0. ... 0. 0. 0.]\n",
      " [0. 0. 0. ... 0. 0. 0.]\n",
      " ...\n",
      " [0. 0. 0. ... 0. 0. 0.]\n",
      " [0. 0. 0. ... 0. 0. 0.]\n",
      " [0. 0. 0. ... 0. 0. 0.]]\n"
     ]
    }
   ],
   "source": [
    "from sklearn.preprocessing import LabelEncoder\n",
    "from sklearn.preprocessing import OneHotEncoder\n",
    "\n",
    "# integer encode\n",
    "le = LabelEncoder()\n",
    "integer_encoded = le.fit_transform(cdata.main_category)\n",
    "print(integer_encoded)\n",
    "\n",
    "# binary encode\n",
    "onehot_encoder = OneHotEncoder(categories='auto',sparse=False)\n",
    "integer_encoded = integer_encoded.reshape(len(integer_encoded), 1)\n",
    "onehot_encoded = onehot_encoder.fit_transform(integer_encoded)\n",
    "print(onehot_encoded)"
   ]
  },
  {
   "cell_type": "markdown",
   "metadata": {},
   "source": [
    "Zamieniliśmy w ten sposób kolumnę kategoryczną na 26 kolumn o wartościach 0 lub 1. Nie jest to złe rozwiązanie, jednak stanowczo zwiększa rozmiar naszej ramki i wydłża czas uczenia się modelu. Prawdopodobnie może istnieć lepsze rozwiązanie."
   ]
  },
  {
   "cell_type": "markdown",
   "metadata": {},
   "source": [
    "## Helmert Coding\n",
    "Documentation: [scikit-learn](http://contrib.scikit-learn.org/categorical-encoding/helmert.html)"
   ]
  },
  {
   "cell_type": "code",
   "execution_count": 35,
   "metadata": {},
   "outputs": [
    {
     "name": "stdout",
     "output_type": "stream",
     "text": [
      "                    1    2    3    4    5\n",
      "intercept         1.0  1.0  1.0  1.0  1.0\n",
      "main_category_0   1.0  0.0  0.0  1.0  1.0\n",
      "main_category_1  -1.0  2.0  0.0 -1.0 -1.0\n",
      "main_category_2  -1.0 -1.0  3.0 -1.0 -1.0\n",
      "main_category_3  -1.0 -1.0 -1.0 -1.0 -1.0\n",
      "main_category_4  -1.0 -1.0 -1.0 -1.0 -1.0\n",
      "main_category_5  -1.0 -1.0 -1.0 -1.0 -1.0\n",
      "main_category_6  -1.0 -1.0 -1.0 -1.0 -1.0\n",
      "main_category_7  -1.0 -1.0 -1.0 -1.0 -1.0\n",
      "main_category_8  -1.0 -1.0 -1.0 -1.0 -1.0\n",
      "main_category_9  -1.0 -1.0 -1.0 -1.0 -1.0\n",
      "main_category_10 -1.0 -1.0 -1.0 -1.0 -1.0\n",
      "main_category_11 -1.0 -1.0 -1.0 -1.0 -1.0\n",
      "main_category_12 -1.0 -1.0 -1.0 -1.0 -1.0\n",
      "main_category_13 -1.0 -1.0 -1.0 -1.0 -1.0\n",
      "main_category_14 -1.0 -1.0 -1.0 -1.0 -1.0\n",
      "main_category_15 -1.0 -1.0 -1.0 -1.0 -1.0\n",
      "main_category_16 -1.0 -1.0 -1.0 -1.0 -1.0\n",
      "main_category_17 -1.0 -1.0 -1.0 -1.0 -1.0\n",
      "main_category_18 -1.0 -1.0 -1.0 -1.0 -1.0\n",
      "main_category_19 -1.0 -1.0 -1.0 -1.0 -1.0\n",
      "main_category_20 -1.0 -1.0 -1.0 -1.0 -1.0\n",
      "main_category_21 -1.0 -1.0 -1.0 -1.0 -1.0\n",
      "main_category_22 -1.0 -1.0 -1.0 -1.0 -1.0\n",
      "main_category_23 -1.0 -1.0 -1.0 -1.0 -1.0\n",
      "main_category_24 -1.0 -1.0 -1.0 -1.0 -1.0\n",
      "main_category_25 -1.0 -1.0 -1.0 -1.0 -1.0\n"
     ]
    }
   ],
   "source": [
    "# Pobieramy go z category_encoders\n",
    "\n",
    "helmert_encoder = category_encoders.HelmertEncoder()\n",
    "helmert_encoded = helmert_encoder.fit_transform(cdata.main_category)\n",
    "\n",
    "#showing only first 5 encoded rows\n",
    "print(helmert_encoded.loc[1:5,:].transpose())"
   ]
  },
  {
   "cell_type": "markdown",
   "metadata": {},
   "source": [
    "## Backward Difference Coding\n",
    "Documentation: [scikit-learn](http://contrib.scikit-learn.org/categorical-encoding/backward_difference.html#backward-difference-coding)"
   ]
  },
  {
   "cell_type": "code",
   "execution_count": 8,
   "metadata": {},
   "outputs": [
    {
     "name": "stdout",
     "output_type": "stream",
     "text": [
      "                         1         2         3         4         5\n",
      "intercept         1.000000  1.000000  1.000000  1.000000  1.000000\n",
      "main_category_0   0.037037  0.037037  0.037037  0.037037  0.037037\n",
      "main_category_1  -0.925926  0.074074  0.074074 -0.925926 -0.925926\n",
      "main_category_2  -0.888889 -0.888889  0.111111 -0.888889 -0.888889\n",
      "main_category_3  -0.851852 -0.851852 -0.851852 -0.851852 -0.851852\n",
      "main_category_4  -0.814815 -0.814815 -0.814815 -0.814815 -0.814815\n",
      "main_category_5  -0.777778 -0.777778 -0.777778 -0.777778 -0.777778\n",
      "main_category_6  -0.740741 -0.740741 -0.740741 -0.740741 -0.740741\n",
      "main_category_7  -0.703704 -0.703704 -0.703704 -0.703704 -0.703704\n",
      "main_category_8  -0.666667 -0.666667 -0.666667 -0.666667 -0.666667\n",
      "main_category_9  -0.629630 -0.629630 -0.629630 -0.629630 -0.629630\n",
      "main_category_10 -0.592593 -0.592593 -0.592593 -0.592593 -0.592593\n",
      "main_category_11 -0.555556 -0.555556 -0.555556 -0.555556 -0.555556\n",
      "main_category_12 -0.518519 -0.518519 -0.518519 -0.518519 -0.518519\n",
      "main_category_13 -0.481481 -0.481481 -0.481481 -0.481481 -0.481481\n",
      "main_category_14 -0.444444 -0.444444 -0.444444 -0.444444 -0.444444\n",
      "main_category_15 -0.407407 -0.407407 -0.407407 -0.407407 -0.407407\n",
      "main_category_16 -0.370370 -0.370370 -0.370370 -0.370370 -0.370370\n",
      "main_category_17 -0.333333 -0.333333 -0.333333 -0.333333 -0.333333\n",
      "main_category_18 -0.296296 -0.296296 -0.296296 -0.296296 -0.296296\n",
      "main_category_19 -0.259259 -0.259259 -0.259259 -0.259259 -0.259259\n",
      "main_category_20 -0.222222 -0.222222 -0.222222 -0.222222 -0.222222\n",
      "main_category_21 -0.185185 -0.185185 -0.185185 -0.185185 -0.185185\n",
      "main_category_22 -0.148148 -0.148148 -0.148148 -0.148148 -0.148148\n",
      "main_category_23 -0.111111 -0.111111 -0.111111 -0.111111 -0.111111\n",
      "main_category_24 -0.074074 -0.074074 -0.074074 -0.074074 -0.074074\n",
      "main_category_25 -0.037037 -0.037037 -0.037037 -0.037037 -0.037037\n"
     ]
    }
   ],
   "source": [
    "# Pobieramy go z category_encoders\n",
    "\n",
    "back_diff_encoder = category_encoders.BackwardDifferenceEncoder()\n",
    "back_diff_encoded = back_diff_encoder.fit_transform(cdata.main_category)\n",
    "\n",
    "#showing only first 5 encoded rows\n",
    "print(back_diff_encoded.loc[1:5,:].transpose())"
   ]
  },
  {
   "cell_type": "markdown",
   "metadata": {},
   "source": [
    "# Uzupełnianie braków"
   ]
  },
  {
   "cell_type": "markdown",
   "metadata": {},
   "source": [
    "### Wybranie danych z ramki\n",
    "Dalej będziemy pracowac tylko na 3 kolumnach danych, ograniczę więc je dla przejżystości poczynań."
   ]
  },
  {
   "cell_type": "code",
   "execution_count": 3,
   "metadata": {},
   "outputs": [
    {
     "data": {
      "text/html": [
       "<div>\n",
       "<style scoped>\n",
       "    .dataframe tbody tr th:only-of-type {\n",
       "        vertical-align: middle;\n",
       "    }\n",
       "\n",
       "    .dataframe tbody tr th {\n",
       "        vertical-align: top;\n",
       "    }\n",
       "\n",
       "    .dataframe thead th {\n",
       "        text-align: right;\n",
       "    }\n",
       "</style>\n",
       "<table border=\"1\" class=\"dataframe\">\n",
       "  <thead>\n",
       "    <tr style=\"text-align: right;\">\n",
       "      <th></th>\n",
       "      <th>price</th>\n",
       "      <th>it_seller_rating</th>\n",
       "      <th>it_quantity</th>\n",
       "    </tr>\n",
       "  </thead>\n",
       "  <tbody>\n",
       "    <tr>\n",
       "      <th>0</th>\n",
       "      <td>59.99</td>\n",
       "      <td>50177</td>\n",
       "      <td>997</td>\n",
       "    </tr>\n",
       "    <tr>\n",
       "      <th>1</th>\n",
       "      <td>4.90</td>\n",
       "      <td>12428</td>\n",
       "      <td>9288</td>\n",
       "    </tr>\n",
       "    <tr>\n",
       "      <th>2</th>\n",
       "      <td>109.90</td>\n",
       "      <td>7389</td>\n",
       "      <td>895</td>\n",
       "    </tr>\n",
       "    <tr>\n",
       "      <th>3</th>\n",
       "      <td>18.50</td>\n",
       "      <td>15006</td>\n",
       "      <td>971</td>\n",
       "    </tr>\n",
       "    <tr>\n",
       "      <th>4</th>\n",
       "      <td>19.90</td>\n",
       "      <td>32975</td>\n",
       "      <td>950</td>\n",
       "    </tr>\n",
       "  </tbody>\n",
       "</table>\n",
       "</div>"
      ],
      "text/plain": [
       "    price  it_seller_rating  it_quantity\n",
       "0   59.99             50177          997\n",
       "1    4.90             12428         9288\n",
       "2  109.90              7389          895\n",
       "3   18.50             15006          971\n",
       "4   19.90             32975          950"
      ]
     },
     "execution_count": 3,
     "metadata": {},
     "output_type": "execute_result"
    }
   ],
   "source": [
    "data_selected= cdata.loc[:,['price','it_seller_rating','it_quantity']]\n",
    "data_selected.head()"
   ]
  },
  {
   "cell_type": "markdown",
   "metadata": {},
   "source": [
    "### Usunięcie danych z kolumny"
   ]
  },
  {
   "cell_type": "markdown",
   "metadata": {},
   "source": [
    "Dane z kolumny będziemy usuwać funkcją `df.column.sample(frac)` gdzie `frac` będzie oznaczać procent danych, które chcemy zatrzymać. Gwarantuje nam to w miarę losowe usunięcie danych, które powinno być wystarczające do dalszych działań."
   ]
  },
  {
   "cell_type": "code",
   "execution_count": 27,
   "metadata": {},
   "outputs": [
    {
     "data": {
      "text/plain": [
       "175798     39.00\n",
       "48188      30.00\n",
       "287293      7.29\n",
       "306515    209.00\n",
       "132284     49.99\n",
       "           ...  \n",
       "360010     59.00\n",
       "168704     10.00\n",
       "176364     10.00\n",
       "173033      3.50\n",
       "222017    255.00\n",
       "Name: price, Length: 378018, dtype: float64"
      ]
     },
     "execution_count": 27,
     "metadata": {},
     "output_type": "execute_result"
    }
   ],
   "source": [
    "cdata.price.sample(frac=0.9)\n"
   ]
  },
  {
   "cell_type": "markdown",
   "metadata": {},
   "source": [
    "### Ocena skutecznosci imputacji\n",
    "Do oceny skuteczności podanych algorytmów imputacji danych musimy przyjąć jakis sposób liczenia ich. Zgodnie z sugestią prowadzącej skorszystam z [RMSE](https://en.wikipedia.org/wiki/Root_mean_square) czyli root mean square error. Nazwa powinna przybliżyć sposób, którm RMSE jest wyznaczane, jednak ciekawskich zachęcam do wejścia w link."
   ]
  },
  {
   "cell_type": "markdown",
   "metadata": {},
   "source": [
    "## Imputacja danych\n",
    "Napiszmy więc funkcje, która pozwoli nam stestować wybrany sposób imputacji."
   ]
  },
  {
   "cell_type": "code",
   "execution_count": 31,
   "metadata": {},
   "outputs": [],
   "source": [
    "from sklearn.experimental import enable_iterative_imputer\n",
    "from sklearn.impute import IterativeImputer\n",
    "from sklearn.metrics import mean_squared_error\n",
    "\n",
    "def test_imputation(imputer,iterations=10):\n",
    "    _resoults=[]\n",
    "    # we always use the same data, so it's taken globally \n",
    "    for i in range(iterations):\n",
    "        test_data = data_selected.copy()\n",
    "        test_data.it_seller_rating = test_data.it_seller_rating.sample(frac = 0.9)\n",
    "        data_imputed = pd.DataFrame(imputer.fit_transform(test_data))\n",
    "        _resoults.append(np.sqrt(mean_squared_error(data_selected,data_imputed)))\n",
    "    return _resoults"
   ]
  },
  {
   "cell_type": "markdown",
   "metadata": {},
   "source": [
    "I to niech będzie przykład działania takiej funkcji"
   ]
  },
  {
   "cell_type": "code",
   "execution_count": 32,
   "metadata": {},
   "outputs": [
    {
     "name": "stdout",
     "output_type": "stream",
     "text": [
      "Średnie RMSE wynosi 6659.0\n",
      "Odchylenie standardowe RMSE wynosi:  64.0\n"
     ]
    },
    {
     "data": {
      "text/plain": [
       "[6632.906128962562,\n",
       " 6616.972611367261,\n",
       " 6669.293153632687,\n",
       " 6667.57123478041,\n",
       " 6648.684670026652,\n",
       " 6803.520633176432,\n",
       " 6659.718673347867,\n",
       " 6636.639030774161,\n",
       " 6696.972210439248,\n",
       " 6612.8746185541,\n",
       " 6698.791682909619,\n",
       " 6714.591219568827,\n",
       " 6517.637274219909,\n",
       " 6619.267354280276,\n",
       " 6591.840871038003,\n",
       " 6561.064086622536,\n",
       " 6716.837848413626,\n",
       " 6750.547055769709,\n",
       " 6663.1712065724005,\n",
       " 6696.884254545501]"
      ]
     },
     "execution_count": 32,
     "metadata": {},
     "output_type": "execute_result"
    }
   ],
   "source": [
    "imputer = IterativeImputer(max_iter=10,random_state=0)\n",
    "RMSE_list = test_imputation(imputer,20)\n",
    "\n",
    "\n",
    "print(\"Średnie RMSE wynosi\", round(np.mean(RMSE_list)))\n",
    "print('Odchylenie standardowe RMSE wynosi: ', round(np.std(RMSE_list)))  \n",
    "RMSE_list"
   ]
  },
  {
   "cell_type": "markdown",
   "metadata": {},
   "source": [
    "Odchylenie standardowe jest dosyć małe, więc metodę imputacji uważam za skuteczną. Chętnym polecam przetestowanie tej funkcji dla innych typów imputacji oraz zmiennej liczbie iteracji. "
   ]
  },
  {
   "cell_type": "markdown",
   "metadata": {},
   "source": [
    "### Usuwanie danych z wielu kolumn"
   ]
  },
  {
   "cell_type": "markdown",
   "metadata": {},
   "source": [
    "Powtórzmy uprzedni przykład dodając drobną modyfikacje. Tym razem będziemy usuwali dane zarówno z `it_seller_rating` jak i `it_quantity`. Napiszmy do tego odpowiednią funkcję i zobaczmy wyniki."
   ]
  },
  {
   "cell_type": "code",
   "execution_count": 34,
   "metadata": {},
   "outputs": [],
   "source": [
    "def test_imputation2(imputer,iterations=10):\n",
    "    _resoults=[]\n",
    "    # we always use the same data, so it's taken globally \n",
    "    for i in range(iterations):\n",
    "        test_data = data_selected.copy()\n",
    "        test_data.it_seller_rating = test_data.it_seller_rating.sample(frac = 0.9)\n",
    "        test_data.it_quantity = test_data.it_quantity.sample(frac = 0.9)\n",
    "        data_imputed = pd.DataFrame(imputer.fit_transform(test_data))\n",
    "        _resoults.append(np.sqrt(mean_squared_error(data_selected,data_imputed)))\n",
    "    return _resoults "
   ]
  },
  {
   "cell_type": "code",
   "execution_count": 35,
   "metadata": {},
   "outputs": [
    {
     "name": "stdout",
     "output_type": "stream",
     "text": [
      "Średnie RMSE wynosi 7953.0\n",
      "Odchylenie standardowe RMSE wynosi:  60.0\n"
     ]
    },
    {
     "data": {
      "text/plain": [
       "[7972.091893331043,\n",
       " 7946.31432792675,\n",
       " 7926.240254756589,\n",
       " 8011.989561085879,\n",
       " 7884.314206512695,\n",
       " 7883.729585245787,\n",
       " 7846.029166436529,\n",
       " 7938.27056966838,\n",
       " 7993.377395875948,\n",
       " 8009.851510467814,\n",
       " 7939.537465840667,\n",
       " 7842.194990448241,\n",
       " 8055.04150643776,\n",
       " 7968.257900988455,\n",
       " 7988.2824617515935,\n",
       " 7987.15756366397,\n",
       " 8048.324862336169,\n",
       " 7959.979889587243,\n",
       " 7879.14000574198,\n",
       " 7976.9210476763055]"
      ]
     },
     "execution_count": 35,
     "metadata": {},
     "output_type": "execute_result"
    }
   ],
   "source": [
    "imputer = IterativeImputer(max_iter=10,random_state=0)\n",
    "RMSE_list = test_imputation2(imputer,20)\n",
    "\n",
    "    \n",
    "print(\"Średnie RMSE wynosi\", round(np.mean(RMSE_list)))\n",
    "print('Odchylenie standardowe RMSE wynosi: ', round(np.std(RMSE_list)))  \n",
    "RMSE_list"
   ]
  },
  {
   "cell_type": "markdown",
   "metadata": {},
   "source": [
    "Tak jak moglibyśmy się spodziewać, średni błąd jest większy w przypadku gdy usuneliśmy więcej danych. Ponownie zachęcam do powtórzenia obliczeń i sprawdzenia wyników. "
   ]
  },
  {
   "cell_type": "markdown",
   "metadata": {},
   "source": [
    "### Spojrzenie na imputacje typu `IterativeImputer`"
   ]
  },
  {
   "cell_type": "markdown",
   "metadata": {},
   "source": [
    "Wykorzystałem pewien szczególny sposób imputacji danych tzn `IterativeImputer`, o którym nie wspomniałem za dużo podczas korzystania z niego. Chciałbym jednka w tym miejscu go bardziej szczegółowo przedstawić oraz zobaczyć jak liczba iteracji wpływa na jakość imputacji."
   ]
  },
  {
   "cell_type": "markdown",
   "metadata": {},
   "source": [
    "Nasz imputer będę chiał przetestować dla całego spektrum wartości `max_iter` i dokładnie to zrobię w poniższej pętli."
   ]
  },
  {
   "cell_type": "markdown",
   "metadata": {},
   "source": [
    "**uwaga poniższy kod wykonuję się dosyć długo**"
   ]
  },
  {
   "cell_type": "code",
   "execution_count": 40,
   "metadata": {},
   "outputs": [
    {
     "name": "stdout",
     "output_type": "stream",
     "text": [
      "max_iter:  5 / 30\n",
      "max_iter:  7 / 30\n",
      "max_iter:  9 / 30\n",
      "max_iter:  11 / 30\n",
      "max_iter:  13 / 30\n",
      "max_iter:  15 / 30\n",
      "max_iter:  17 / 30\n",
      "max_iter:  19 / 30\n",
      "max_iter:  21 / 30\n",
      "max_iter:  23 / 30\n",
      "max_iter:  25 / 30\n",
      "max_iter:  27 / 30\n",
      "max_iter:  29 / 30\n"
     ]
    }
   ],
   "source": [
    "upper_iter_limit = 30\n",
    "lower_iter_limit = 5\n",
    "imputation_iterations = 10\n",
    "\n",
    "mean_RMSE ={\n",
    "    \"single\": [],\n",
    "    \"multi\": [],\n",
    "}\n",
    "\n",
    "for imputer_iterations in range(lower_iter_limit,upper_iter_limit,2):\n",
    "    _resoults_single = []\n",
    "    _resoults_multi = []\n",
    "    imputer = IterativeImputer(max_iter=imputer_iterations,random_state=0)\n",
    "\n",
    "    print(\"max_iter: \", imputer_iterations, \"/\",upper_iter_limit)\n",
    "    # Data missing from single columns\n",
    "    _resoults_multi.append(test_imputation(imputer,imputation_iterations))\n",
    "\n",
    "    # Data missing from multiple column\n",
    "    _resoults_single.append(test_imputation2(imputer,imputation_iterations))\n",
    "        \n",
    "    mean_RMSE['single'].append(np.mean(_resoults_single))\n",
    "    mean_RMSE['multi'].append(np.mean(_resoults_multi))\n",
    "        "
   ]
  },
  {
   "cell_type": "markdown",
   "metadata": {},
   "source": [
    "Przyjrzyjmy się wynikom."
   ]
  },
  {
   "cell_type": "code",
   "execution_count": 55,
   "metadata": {},
   "outputs": [
    {
     "data": {
      "text/plain": [
       "{'single': [7922.9610772118995,\n",
       "  7931.847812258746,\n",
       "  7939.759375764392,\n",
       "  7936.595274147573,\n",
       "  7906.379998655105,\n",
       "  7936.6230668755115,\n",
       "  7907.32939577691,\n",
       "  7923.1550466413555,\n",
       "  7936.269867054558,\n",
       "  7920.8966312114835,\n",
       "  7885.421214156695,\n",
       "  7966.2242132185365,\n",
       "  7958.103272938873],\n",
       " 'multi': [6687.573194618922,\n",
       "  6676.670097937436,\n",
       "  6675.955835324938,\n",
       "  6628.1097755950805,\n",
       "  6672.175466153951,\n",
       "  6683.623939644985,\n",
       "  6668.974658695191,\n",
       "  6732.501598660665,\n",
       "  6669.534292890236,\n",
       "  6691.153098826207,\n",
       "  6665.3763903465415,\n",
       "  6674.199929706299,\n",
       "  6697.665837522693]}"
      ]
     },
     "execution_count": 55,
     "metadata": {},
     "output_type": "execute_result"
    }
   ],
   "source": [
    "mean_RMSE\n"
   ]
  },
  {
   "cell_type": "markdown",
   "metadata": {},
   "source": [
    "### Komentarz\n",
    "Co ciekawe nie widać dużej różnicy w błędzie imputacji dla różnych współczynników imputacji. Co wiecej nie ma, żadnego typu korelacji, a więc nie opłaca się brać dużego współczynnika iteracji, ponieważ wcale nie daje on lepszych wyników. Pragnę jednak ograniczyć moje wnioski do tego zbioru, ponieważ nie dysponuję w tym momencie wystarczającą liczbą informacji by twierdzić, że jest to zjawisko globalne. Niech ten przykład posłuży jako pretekst do dalszych dyskusji na ten temat."
   ]
  }
 ],
 "metadata": {
  "kernelspec": {
   "display_name": "Python 3",
   "language": "python",
   "name": "python3"
  },
  "language_info": {
   "codemirror_mode": {
    "name": "ipython",
    "version": 3
   },
   "file_extension": ".py",
   "mimetype": "text/x-python",
   "name": "python",
   "nbconvert_exporter": "python",
   "pygments_lexer": "ipython3",
   "version": "3.7.0"
  }
 },
 "nbformat": 4,
 "nbformat_minor": 2
}
