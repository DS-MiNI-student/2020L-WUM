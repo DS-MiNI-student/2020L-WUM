{
 "cells": [
  {
   "cell_type": "markdown",
   "metadata": {},
   "source": [
    "# WUM\n",
    "## Praca domowa nr 2\n",
    "## Autor: Mariusz Słapek"
   ]
  },
  {
   "cell_type": "markdown",
   "metadata": {},
   "source": [
    "# Część 0\n",
    "# Biblioteki oraz załadowanie danych"
   ]
  },
  {
   "cell_type": "code",
   "execution_count": 1,
   "metadata": {},
   "outputs": [],
   "source": [
    "import pandas as pd\n",
    "import numpy as np\n",
    "import sklearn\n",
    "import matplotlib.pyplot as plt\n",
    "import warnings\n",
    "warnings.filterwarnings('ignore')"
   ]
  },
  {
   "cell_type": "code",
   "execution_count": 95,
   "metadata": {},
   "outputs": [],
   "source": [
    "data = pd.read_csv('https://www.dropbox.com/s/360xhh2d9lnaek3/allegro-api-transactions.csv?dl=1')"
   ]
  },
  {
   "cell_type": "code",
   "execution_count": 96,
   "metadata": {},
   "outputs": [
    {
     "data": {
      "text/html": [
       "<div>\n",
       "<style scoped>\n",
       "    .dataframe tbody tr th:only-of-type {\n",
       "        vertical-align: middle;\n",
       "    }\n",
       "\n",
       "    .dataframe tbody tr th {\n",
       "        vertical-align: top;\n",
       "    }\n",
       "\n",
       "    .dataframe thead th {\n",
       "        text-align: right;\n",
       "    }\n",
       "</style>\n",
       "<table border=\"1\" class=\"dataframe\">\n",
       "  <thead>\n",
       "    <tr style=\"text-align: right;\">\n",
       "      <th></th>\n",
       "      <th>lp</th>\n",
       "      <th>date</th>\n",
       "      <th>item_id</th>\n",
       "      <th>categories</th>\n",
       "      <th>pay_option_on_delivery</th>\n",
       "      <th>pay_option_transfer</th>\n",
       "      <th>seller</th>\n",
       "      <th>price</th>\n",
       "      <th>it_is_allegro_standard</th>\n",
       "      <th>it_quantity</th>\n",
       "      <th>it_is_brand_zone</th>\n",
       "      <th>it_seller_rating</th>\n",
       "      <th>it_location</th>\n",
       "      <th>main_category</th>\n",
       "    </tr>\n",
       "  </thead>\n",
       "  <tbody>\n",
       "    <tr>\n",
       "      <th>0</th>\n",
       "      <td>0</td>\n",
       "      <td>2016-04-03 21:21:08</td>\n",
       "      <td>4753602474</td>\n",
       "      <td>['Komputery', 'Dyski i napędy', 'Nośniki', 'No...</td>\n",
       "      <td>1</td>\n",
       "      <td>1</td>\n",
       "      <td>radzioch666</td>\n",
       "      <td>59.99</td>\n",
       "      <td>1</td>\n",
       "      <td>997</td>\n",
       "      <td>0</td>\n",
       "      <td>50177</td>\n",
       "      <td>Warszawa</td>\n",
       "      <td>Komputery</td>\n",
       "    </tr>\n",
       "    <tr>\n",
       "      <th>1</th>\n",
       "      <td>1</td>\n",
       "      <td>2016-04-03 15:35:26</td>\n",
       "      <td>4773181874</td>\n",
       "      <td>['Odzież, Obuwie, Dodatki', 'Bielizna damska',...</td>\n",
       "      <td>1</td>\n",
       "      <td>1</td>\n",
       "      <td>InwestycjeNET</td>\n",
       "      <td>4.90</td>\n",
       "      <td>1</td>\n",
       "      <td>9288</td>\n",
       "      <td>0</td>\n",
       "      <td>12428</td>\n",
       "      <td>Warszawa</td>\n",
       "      <td>Odzież, Obuwie, Dodatki</td>\n",
       "    </tr>\n",
       "    <tr>\n",
       "      <th>2</th>\n",
       "      <td>2</td>\n",
       "      <td>2016-04-03 14:14:31</td>\n",
       "      <td>4781627074</td>\n",
       "      <td>['Dom i Ogród', 'Budownictwo i Akcesoria', 'Śc...</td>\n",
       "      <td>1</td>\n",
       "      <td>1</td>\n",
       "      <td>otostyl_com</td>\n",
       "      <td>109.90</td>\n",
       "      <td>1</td>\n",
       "      <td>895</td>\n",
       "      <td>0</td>\n",
       "      <td>7389</td>\n",
       "      <td>Leszno</td>\n",
       "      <td>Dom i Ogród</td>\n",
       "    </tr>\n",
       "  </tbody>\n",
       "</table>\n",
       "</div>"
      ],
      "text/plain": [
       "   lp                 date     item_id  \\\n",
       "0   0  2016-04-03 21:21:08  4753602474   \n",
       "1   1  2016-04-03 15:35:26  4773181874   \n",
       "2   2  2016-04-03 14:14:31  4781627074   \n",
       "\n",
       "                                          categories  pay_option_on_delivery  \\\n",
       "0  ['Komputery', 'Dyski i napędy', 'Nośniki', 'No...                       1   \n",
       "1  ['Odzież, Obuwie, Dodatki', 'Bielizna damska',...                       1   \n",
       "2  ['Dom i Ogród', 'Budownictwo i Akcesoria', 'Śc...                       1   \n",
       "\n",
       "   pay_option_transfer         seller   price  it_is_allegro_standard  \\\n",
       "0                    1    radzioch666   59.99                       1   \n",
       "1                    1  InwestycjeNET    4.90                       1   \n",
       "2                    1    otostyl_com  109.90                       1   \n",
       "\n",
       "   it_quantity  it_is_brand_zone  it_seller_rating it_location  \\\n",
       "0          997                 0             50177    Warszawa   \n",
       "1         9288                 0             12428    Warszawa   \n",
       "2          895                 0              7389      Leszno   \n",
       "\n",
       "             main_category  \n",
       "0                Komputery  \n",
       "1  Odzież, Obuwie, Dodatki  \n",
       "2              Dom i Ogród  "
      ]
     },
     "execution_count": 96,
     "metadata": {},
     "output_type": "execute_result"
    }
   ],
   "source": [
    "data.head(3)"
   ]
  },
  {
   "cell_type": "code",
   "execution_count": 97,
   "metadata": {},
   "outputs": [
    {
     "name": "stdout",
     "output_type": "stream",
     "text": [
      "<class 'pandas.core.frame.DataFrame'>\n",
      "RangeIndex: 420020 entries, 0 to 420019\n",
      "Data columns (total 14 columns):\n",
      " #   Column                  Non-Null Count   Dtype  \n",
      "---  ------                  --------------   -----  \n",
      " 0   lp                      420020 non-null  int64  \n",
      " 1   date                    420020 non-null  object \n",
      " 2   item_id                 420020 non-null  int64  \n",
      " 3   categories              420020 non-null  object \n",
      " 4   pay_option_on_delivery  420020 non-null  int64  \n",
      " 5   pay_option_transfer     420020 non-null  int64  \n",
      " 6   seller                  420020 non-null  object \n",
      " 7   price                   420020 non-null  float64\n",
      " 8   it_is_allegro_standard  420020 non-null  int64  \n",
      " 9   it_quantity             420020 non-null  int64  \n",
      " 10  it_is_brand_zone        420020 non-null  int64  \n",
      " 11  it_seller_rating        420020 non-null  int64  \n",
      " 12  it_location             420020 non-null  object \n",
      " 13  main_category           420020 non-null  object \n",
      "dtypes: float64(1), int64(8), object(5)\n",
      "memory usage: 44.9+ MB\n"
     ]
    }
   ],
   "source": [
    "data.info()"
   ]
  },
  {
   "cell_type": "markdown",
   "metadata": {},
   "source": [
    "# Część 1\n",
    "\n",
    "# Kodowanie zmiennych kategorycznych"
   ]
  },
  {
   "cell_type": "markdown",
   "metadata": {},
   "source": [
    "#### Unikalne wartości"
   ]
  },
  {
   "cell_type": "code",
   "execution_count": 98,
   "metadata": {},
   "outputs": [
    {
     "data": {
      "text/plain": [
       "10056"
      ]
     },
     "execution_count": 98,
     "metadata": {},
     "output_type": "execute_result"
    }
   ],
   "source": [
    "len(data['it_location'].unique())"
   ]
  },
  {
   "cell_type": "code",
   "execution_count": 99,
   "metadata": {},
   "outputs": [
    {
     "data": {
      "text/plain": [
       "7903"
      ]
     },
     "execution_count": 99,
     "metadata": {},
     "output_type": "execute_result"
    }
   ],
   "source": [
    "len(data['it_location'].str.lower().unique())"
   ]
  },
  {
   "cell_type": "markdown",
   "metadata": {},
   "source": [
    "#### Dlaczego *target encoding* ma przewagę nad *OneHotEncoding*?"
   ]
  },
  {
   "cell_type": "markdown",
   "metadata": {},
   "source": [
    "Dla *OneHotEncodingu* zostałoby stworzone ponad dziesięć tysięcy nowy kolumn. W przypadku *Target Encodingu* jest tworzona tylko jedna dodatkowa kolumna. Na pewno jest to znaczące gdy mamy aż tak dużo unikalnych wartości"
   ]
  },
  {
   "cell_type": "markdown",
   "metadata": {},
   "source": [
    "## Biblioteki"
   ]
  },
  {
   "cell_type": "code",
   "execution_count": 100,
   "metadata": {},
   "outputs": [],
   "source": [
    "from category_encoders import TargetEncoder"
   ]
  },
  {
   "cell_type": "markdown",
   "metadata": {},
   "source": [
    "## *Target encoding* zmiennej *it_location*"
   ]
  },
  {
   "cell_type": "code",
   "execution_count": 88,
   "metadata": {},
   "outputs": [],
   "source": [
    "data['it_location'] = data['it_location'].str.lower()\n",
    "data['it_location_en'] = TargetEncoder().fit_transform(data.it_location, data.price)"
   ]
  },
  {
   "cell_type": "code",
   "execution_count": 90,
   "metadata": {},
   "outputs": [
    {
     "data": {
      "text/html": [
       "<div>\n",
       "<style scoped>\n",
       "    .dataframe tbody tr th:only-of-type {\n",
       "        vertical-align: middle;\n",
       "    }\n",
       "\n",
       "    .dataframe tbody tr th {\n",
       "        vertical-align: top;\n",
       "    }\n",
       "\n",
       "    .dataframe thead th {\n",
       "        text-align: right;\n",
       "    }\n",
       "</style>\n",
       "<table border=\"1\" class=\"dataframe\">\n",
       "  <thead>\n",
       "    <tr style=\"text-align: right;\">\n",
       "      <th></th>\n",
       "      <th>item_id</th>\n",
       "      <th>it_location</th>\n",
       "      <th>it_location_en</th>\n",
       "      <th>price</th>\n",
       "    </tr>\n",
       "  </thead>\n",
       "  <tbody>\n",
       "    <tr>\n",
       "      <th>384496</th>\n",
       "      <td>6012138524</td>\n",
       "      <td>leszno</td>\n",
       "      <td>64.883187</td>\n",
       "      <td>6.99</td>\n",
       "    </tr>\n",
       "    <tr>\n",
       "      <th>346915</th>\n",
       "      <td>6089199131</td>\n",
       "      <td>bydgoszcz</td>\n",
       "      <td>68.023919</td>\n",
       "      <td>6.89</td>\n",
       "    </tr>\n",
       "    <tr>\n",
       "      <th>218128</th>\n",
       "      <td>6059302033</td>\n",
       "      <td>białystok</td>\n",
       "      <td>73.772916</td>\n",
       "      <td>124.99</td>\n",
       "    </tr>\n",
       "    <tr>\n",
       "      <th>74196</th>\n",
       "      <td>5751070692</td>\n",
       "      <td>gliwice</td>\n",
       "      <td>126.934165</td>\n",
       "      <td>58.99</td>\n",
       "    </tr>\n",
       "  </tbody>\n",
       "</table>\n",
       "</div>"
      ],
      "text/plain": [
       "           item_id it_location  it_location_en   price\n",
       "384496  6012138524      leszno       64.883187    6.99\n",
       "346915  6089199131   bydgoszcz       68.023919    6.89\n",
       "218128  6059302033   białystok       73.772916  124.99\n",
       "74196   5751070692     gliwice      126.934165   58.99"
      ]
     },
     "execution_count": 90,
     "metadata": {},
     "output_type": "execute_result"
    }
   ],
   "source": [
    "data[['item_id', 'it_location', 'it_location_en', 'price']].sample(4)"
   ]
  },
  {
   "cell_type": "markdown",
   "metadata": {},
   "source": [
    "## Enkodowanie dla *main_category*"
   ]
  },
  {
   "cell_type": "markdown",
   "metadata": {},
   "source": [
    "### Biblioteki"
   ]
  },
  {
   "cell_type": "code",
   "execution_count": 126,
   "metadata": {},
   "outputs": [],
   "source": [
    "from category_encoders import BinaryEncoder\n",
    "from category_encoders import BaseNEncoder\n",
    "from sklearn.preprocessing import OneHotEncoder "
   ]
  },
  {
   "cell_type": "markdown",
   "metadata": {},
   "source": [
    "### Zapoznanie z *main_category*"
   ]
  },
  {
   "cell_type": "code",
   "execution_count": 103,
   "metadata": {},
   "outputs": [
    {
     "data": {
      "text/plain": [
       "array(['Komputery', 'Odzież, Obuwie, Dodatki', 'Dom i Ogród',\n",
       "       'Książki i Komiksy', 'Biżuteria i Zegarki', 'RTV i AGD',\n",
       "       'Motoryzacja', 'Dla Dzieci', 'Uroda', 'Telefony i Akcesoria',\n",
       "       'Sport i Turystyka', 'Delikatesy', 'Kolekcje', 'Gry', 'Rękodzieło',\n",
       "       'Zdrowie', 'Przemysł', 'Filmy', 'Fotografia', 'Biuro i Reklama',\n",
       "       'Instrumenty', 'Muzyka', 'Konsole i automaty',\n",
       "       'Sprzęt estradowy, studyjny i DJ-ski', 'Antyki i Sztuka', 'Bilety',\n",
       "       'Nieruchomości'], dtype=object)"
      ]
     },
     "execution_count": 103,
     "metadata": {},
     "output_type": "execute_result"
    }
   ],
   "source": [
    "data['main_category'].unique()"
   ]
  },
  {
   "cell_type": "code",
   "execution_count": 105,
   "metadata": {},
   "outputs": [
    {
     "data": {
      "text/plain": [
       "27"
      ]
     },
     "execution_count": 105,
     "metadata": {},
     "output_type": "execute_result"
    }
   ],
   "source": [
    "len(data['main_category'].unique()) # lub .nunique() -> number of unique"
   ]
  },
  {
   "cell_type": "markdown",
   "metadata": {},
   "source": [
    "### One-hot encoding"
   ]
  },
  {
   "cell_type": "markdown",
   "metadata": {},
   "source": [
    "##### 1. sposób"
   ]
  },
  {
   "cell_type": "code",
   "execution_count": 113,
   "metadata": {},
   "outputs": [
    {
     "data": {
      "text/html": [
       "<div>\n",
       "<style scoped>\n",
       "    .dataframe tbody tr th:only-of-type {\n",
       "        vertical-align: middle;\n",
       "    }\n",
       "\n",
       "    .dataframe tbody tr th {\n",
       "        vertical-align: top;\n",
       "    }\n",
       "\n",
       "    .dataframe thead th {\n",
       "        text-align: right;\n",
       "    }\n",
       "</style>\n",
       "<table border=\"1\" class=\"dataframe\">\n",
       "  <thead>\n",
       "    <tr style=\"text-align: right;\">\n",
       "      <th></th>\n",
       "      <th>lp</th>\n",
       "      <th>date</th>\n",
       "      <th>item_id</th>\n",
       "      <th>categories</th>\n",
       "      <th>pay_option_on_delivery</th>\n",
       "      <th>pay_option_transfer</th>\n",
       "      <th>seller</th>\n",
       "      <th>price</th>\n",
       "      <th>it_is_allegro_standard</th>\n",
       "      <th>it_quantity</th>\n",
       "      <th>...</th>\n",
       "      <th>main_cat_Nieruchomości</th>\n",
       "      <th>main_cat_Odzież, Obuwie, Dodatki</th>\n",
       "      <th>main_cat_Przemysł</th>\n",
       "      <th>main_cat_RTV i AGD</th>\n",
       "      <th>main_cat_Rękodzieło</th>\n",
       "      <th>main_cat_Sport i Turystyka</th>\n",
       "      <th>main_cat_Sprzęt estradowy, studyjny i DJ-ski</th>\n",
       "      <th>main_cat_Telefony i Akcesoria</th>\n",
       "      <th>main_cat_Uroda</th>\n",
       "      <th>main_cat_Zdrowie</th>\n",
       "    </tr>\n",
       "  </thead>\n",
       "  <tbody>\n",
       "    <tr>\n",
       "      <th>303865</th>\n",
       "      <td>303865</td>\n",
       "      <td>2016-04-03 17:01:54</td>\n",
       "      <td>4949144255</td>\n",
       "      <td>['Dla Dzieci', 'Odzież', 'Bielizna', 'Body', '...</td>\n",
       "      <td>1</td>\n",
       "      <td>1</td>\n",
       "      <td>sylwina5555</td>\n",
       "      <td>9.9</td>\n",
       "      <td>1</td>\n",
       "      <td>9547</td>\n",
       "      <td>...</td>\n",
       "      <td>0</td>\n",
       "      <td>0</td>\n",
       "      <td>0</td>\n",
       "      <td>0</td>\n",
       "      <td>0</td>\n",
       "      <td>0</td>\n",
       "      <td>0</td>\n",
       "      <td>0</td>\n",
       "      <td>0</td>\n",
       "      <td>0</td>\n",
       "    </tr>\n",
       "    <tr>\n",
       "      <th>397762</th>\n",
       "      <td>397762</td>\n",
       "      <td>2016-04-03 17:25:57</td>\n",
       "      <td>4867276629</td>\n",
       "      <td>['Dom i Ogród', 'Budownictwo i Akcesoria', 'Hy...</td>\n",
       "      <td>1</td>\n",
       "      <td>1</td>\n",
       "      <td>energoszczednosc</td>\n",
       "      <td>19.0</td>\n",
       "      <td>1</td>\n",
       "      <td>983</td>\n",
       "      <td>...</td>\n",
       "      <td>0</td>\n",
       "      <td>0</td>\n",
       "      <td>0</td>\n",
       "      <td>0</td>\n",
       "      <td>0</td>\n",
       "      <td>0</td>\n",
       "      <td>0</td>\n",
       "      <td>0</td>\n",
       "      <td>0</td>\n",
       "      <td>0</td>\n",
       "    </tr>\n",
       "  </tbody>\n",
       "</table>\n",
       "<p>2 rows × 40 columns</p>\n",
       "</div>"
      ],
      "text/plain": [
       "            lp                 date     item_id  \\\n",
       "303865  303865  2016-04-03 17:01:54  4949144255   \n",
       "397762  397762  2016-04-03 17:25:57  4867276629   \n",
       "\n",
       "                                               categories  \\\n",
       "303865  ['Dla Dzieci', 'Odzież', 'Bielizna', 'Body', '...   \n",
       "397762  ['Dom i Ogród', 'Budownictwo i Akcesoria', 'Hy...   \n",
       "\n",
       "        pay_option_on_delivery  pay_option_transfer            seller  price  \\\n",
       "303865                       1                    1       sylwina5555    9.9   \n",
       "397762                       1                    1  energoszczednosc   19.0   \n",
       "\n",
       "        it_is_allegro_standard  it_quantity  ...  main_cat_Nieruchomości  \\\n",
       "303865                       1         9547  ...                       0   \n",
       "397762                       1          983  ...                       0   \n",
       "\n",
       "        main_cat_Odzież, Obuwie, Dodatki main_cat_Przemysł  \\\n",
       "303865                                 0                 0   \n",
       "397762                                 0                 0   \n",
       "\n",
       "        main_cat_RTV i AGD  main_cat_Rękodzieło  main_cat_Sport i Turystyka  \\\n",
       "303865                   0                    0                           0   \n",
       "397762                   0                    0                           0   \n",
       "\n",
       "        main_cat_Sprzęt estradowy, studyjny i DJ-ski  \\\n",
       "303865                                             0   \n",
       "397762                                             0   \n",
       "\n",
       "        main_cat_Telefony i Akcesoria  main_cat_Uroda  main_cat_Zdrowie  \n",
       "303865                              0               0                 0  \n",
       "397762                              0               0                 0  \n",
       "\n",
       "[2 rows x 40 columns]"
      ]
     },
     "execution_count": 113,
     "metadata": {},
     "output_type": "execute_result"
    }
   ],
   "source": [
    "data_out = pd.get_dummies(data, prefix=['main_cat'], columns=['main_category'])\n",
    "data_out.sample(2)"
   ]
  },
  {
   "cell_type": "markdown",
   "metadata": {},
   "source": [
    "##### 2. sposób"
   ]
  },
  {
   "cell_type": "code",
   "execution_count": 123,
   "metadata": {},
   "outputs": [
    {
     "data": {
      "text/html": [
       "<div>\n",
       "<style scoped>\n",
       "    .dataframe tbody tr th:only-of-type {\n",
       "        vertical-align: middle;\n",
       "    }\n",
       "\n",
       "    .dataframe tbody tr th {\n",
       "        vertical-align: top;\n",
       "    }\n",
       "\n",
       "    .dataframe thead th {\n",
       "        text-align: right;\n",
       "    }\n",
       "</style>\n",
       "<table border=\"1\" class=\"dataframe\">\n",
       "  <thead>\n",
       "    <tr style=\"text-align: right;\">\n",
       "      <th></th>\n",
       "      <th>main_category_Antyki i Sztuka</th>\n",
       "      <th>main_category_Bilety</th>\n",
       "      <th>main_category_Biuro i Reklama</th>\n",
       "      <th>main_category_Biżuteria i Zegarki</th>\n",
       "      <th>main_category_Delikatesy</th>\n",
       "      <th>main_category_Dla Dzieci</th>\n",
       "      <th>main_category_Dom i Ogród</th>\n",
       "      <th>main_category_Filmy</th>\n",
       "      <th>main_category_Fotografia</th>\n",
       "      <th>main_category_Gry</th>\n",
       "      <th>...</th>\n",
       "      <th>pay_option_on_delivery</th>\n",
       "      <th>pay_option_transfer</th>\n",
       "      <th>seller</th>\n",
       "      <th>price</th>\n",
       "      <th>it_is_allegro_standard</th>\n",
       "      <th>it_quantity</th>\n",
       "      <th>it_is_brand_zone</th>\n",
       "      <th>it_seller_rating</th>\n",
       "      <th>it_location</th>\n",
       "      <th>main_category</th>\n",
       "    </tr>\n",
       "  </thead>\n",
       "  <tbody>\n",
       "    <tr>\n",
       "      <th>399371</th>\n",
       "      <td>0.0</td>\n",
       "      <td>0.0</td>\n",
       "      <td>1.0</td>\n",
       "      <td>0.0</td>\n",
       "      <td>0.0</td>\n",
       "      <td>0.0</td>\n",
       "      <td>0.0</td>\n",
       "      <td>0.0</td>\n",
       "      <td>0.0</td>\n",
       "      <td>0.0</td>\n",
       "      <td>...</td>\n",
       "      <td>1</td>\n",
       "      <td>0</td>\n",
       "      <td>JACEK63</td>\n",
       "      <td>7.0</td>\n",
       "      <td>0</td>\n",
       "      <td>3</td>\n",
       "      <td>0</td>\n",
       "      <td>2356</td>\n",
       "      <td>Mysłakowice</td>\n",
       "      <td>Biuro i Reklama</td>\n",
       "    </tr>\n",
       "    <tr>\n",
       "      <th>291793</th>\n",
       "      <td>0.0</td>\n",
       "      <td>0.0</td>\n",
       "      <td>0.0</td>\n",
       "      <td>0.0</td>\n",
       "      <td>0.0</td>\n",
       "      <td>0.0</td>\n",
       "      <td>0.0</td>\n",
       "      <td>0.0</td>\n",
       "      <td>0.0</td>\n",
       "      <td>0.0</td>\n",
       "      <td>...</td>\n",
       "      <td>1</td>\n",
       "      <td>0</td>\n",
       "      <td>flavour-design</td>\n",
       "      <td>39.0</td>\n",
       "      <td>1</td>\n",
       "      <td>282</td>\n",
       "      <td>0</td>\n",
       "      <td>15923</td>\n",
       "      <td>WARSZAWA</td>\n",
       "      <td>Telefony i Akcesoria</td>\n",
       "    </tr>\n",
       "  </tbody>\n",
       "</table>\n",
       "<p>2 rows × 41 columns</p>\n",
       "</div>"
      ],
      "text/plain": [
       "        main_category_Antyki i Sztuka  main_category_Bilety  \\\n",
       "399371                            0.0                   0.0   \n",
       "291793                            0.0                   0.0   \n",
       "\n",
       "        main_category_Biuro i Reklama  main_category_Biżuteria i Zegarki  \\\n",
       "399371                            1.0                                0.0   \n",
       "291793                            0.0                                0.0   \n",
       "\n",
       "        main_category_Delikatesy  main_category_Dla Dzieci  \\\n",
       "399371                       0.0                       0.0   \n",
       "291793                       0.0                       0.0   \n",
       "\n",
       "        main_category_Dom i Ogród  main_category_Filmy  \\\n",
       "399371                        0.0                  0.0   \n",
       "291793                        0.0                  0.0   \n",
       "\n",
       "        main_category_Fotografia  main_category_Gry  ...  \\\n",
       "399371                       0.0                0.0  ...   \n",
       "291793                       0.0                0.0  ...   \n",
       "\n",
       "        pay_option_on_delivery  pay_option_transfer          seller  price  \\\n",
       "399371                       1                    0         JACEK63    7.0   \n",
       "291793                       1                    0  flavour-design   39.0   \n",
       "\n",
       "        it_is_allegro_standard  it_quantity  it_is_brand_zone  \\\n",
       "399371                       0            3                 0   \n",
       "291793                       1          282                 0   \n",
       "\n",
       "        it_seller_rating  it_location         main_category  \n",
       "399371              2356  Mysłakowice       Biuro i Reklama  \n",
       "291793             15923     WARSZAWA  Telefony i Akcesoria  \n",
       "\n",
       "[2 rows x 41 columns]"
      ]
     },
     "execution_count": 123,
     "metadata": {},
     "output_type": "execute_result"
    }
   ],
   "source": [
    "data_oe = data.copy()\n",
    "oe = OneHotEncoder(sparse=False)\n",
    "\n",
    "data_out =  oe.fit_transform(data_oe[['main_category']])\n",
    "data_out = pd.DataFrame(data=data_out)\n",
    "data_out.columns = oe.get_feature_names(['main_category'])\n",
    "\n",
    "data_out=pd.concat([data_out, data_oe], axis=1)\n",
    "\n",
    "data_out.sample(2)"
   ]
  },
  {
   "cell_type": "markdown",
   "metadata": {},
   "source": [
    "### Binary encoder"
   ]
  },
  {
   "cell_type": "markdown",
   "metadata": {},
   "source": [
    "#### Wyjaśnienie \n",
    "\n",
    "Kolejne wartości binarne (0001 - 1, 0010 - 2, 0011 - 3 itd.). Do i-tej pozycji liczby binarnej jest tworzona kolumna (tyle kolumn ile potrzeba liczb do zapisu liczby kategorii). Ogranicza to liczbę kolumn (jest ich po prostu mniej). "
   ]
  },
  {
   "cell_type": "code",
   "execution_count": 131,
   "metadata": {},
   "outputs": [
    {
     "data": {
      "text/html": [
       "<div>\n",
       "<style scoped>\n",
       "    .dataframe tbody tr th:only-of-type {\n",
       "        vertical-align: middle;\n",
       "    }\n",
       "\n",
       "    .dataframe tbody tr th {\n",
       "        vertical-align: top;\n",
       "    }\n",
       "\n",
       "    .dataframe thead th {\n",
       "        text-align: right;\n",
       "    }\n",
       "</style>\n",
       "<table border=\"1\" class=\"dataframe\">\n",
       "  <thead>\n",
       "    <tr style=\"text-align: right;\">\n",
       "      <th></th>\n",
       "      <th>main_category_0</th>\n",
       "      <th>main_category_1</th>\n",
       "      <th>main_category_2</th>\n",
       "      <th>main_category_3</th>\n",
       "      <th>main_category_4</th>\n",
       "      <th>main_category_5</th>\n",
       "    </tr>\n",
       "  </thead>\n",
       "  <tbody>\n",
       "    <tr>\n",
       "      <th>0</th>\n",
       "      <td>0</td>\n",
       "      <td>0</td>\n",
       "      <td>0</td>\n",
       "      <td>0</td>\n",
       "      <td>0</td>\n",
       "      <td>1</td>\n",
       "    </tr>\n",
       "    <tr>\n",
       "      <th>1</th>\n",
       "      <td>0</td>\n",
       "      <td>0</td>\n",
       "      <td>0</td>\n",
       "      <td>0</td>\n",
       "      <td>1</td>\n",
       "      <td>0</td>\n",
       "    </tr>\n",
       "    <tr>\n",
       "      <th>2</th>\n",
       "      <td>0</td>\n",
       "      <td>0</td>\n",
       "      <td>0</td>\n",
       "      <td>0</td>\n",
       "      <td>1</td>\n",
       "      <td>1</td>\n",
       "    </tr>\n",
       "    <tr>\n",
       "      <th>3</th>\n",
       "      <td>0</td>\n",
       "      <td>0</td>\n",
       "      <td>0</td>\n",
       "      <td>1</td>\n",
       "      <td>0</td>\n",
       "      <td>0</td>\n",
       "    </tr>\n",
       "    <tr>\n",
       "      <th>4</th>\n",
       "      <td>0</td>\n",
       "      <td>0</td>\n",
       "      <td>0</td>\n",
       "      <td>0</td>\n",
       "      <td>1</td>\n",
       "      <td>0</td>\n",
       "    </tr>\n",
       "  </tbody>\n",
       "</table>\n",
       "</div>"
      ],
      "text/plain": [
       "   main_category_0  main_category_1  main_category_2  main_category_3  \\\n",
       "0                0                0                0                0   \n",
       "1                0                0                0                0   \n",
       "2                0                0                0                0   \n",
       "3                0                0                0                1   \n",
       "4                0                0                0                0   \n",
       "\n",
       "   main_category_4  main_category_5  \n",
       "0                0                1  \n",
       "1                1                0  \n",
       "2                1                1  \n",
       "3                0                0  \n",
       "4                1                0  "
      ]
     },
     "execution_count": 131,
     "metadata": {},
     "output_type": "execute_result"
    }
   ],
   "source": [
    "data_out = BinaryEncoder().fit_transform(data['main_category'], data['price'])\n",
    "data_out.head()"
   ]
  },
  {
   "cell_type": "markdown",
   "metadata": {},
   "source": [
    "#### Ważne\n",
    "\n",
    "Należy tu dodać te ramki do Dataframe - concatenate (join z indeksami) - anlogicznie jak w przypadku *OneHotEncoding*.\n",
    "\n",
    "#### Komentarz\n",
    "\n",
    "Liczba kolumn rośnie, ale nie tak wyraźnie jak w *OneHotEncoder*. Zmienne zostały poprawnie zakodowane (jak opisane w Wyjaśnieniu)."
   ]
  },
  {
   "cell_type": "markdown",
   "metadata": {},
   "source": [
    "### BaseN"
   ]
  },
  {
   "cell_type": "markdown",
   "metadata": {},
   "source": [
    "#### Wyjaśnienie \n",
    "\n",
    "Dla:\n",
    "1. n = 1 to OneHotEncoding\n",
    "2. n = 2 to BinaryEncoding\n",
    "3. n > 2 to już enkodowanie o podstawie N\n",
    "\n",
    "Po prostu zmienne z enkodowane w danym sposobie zapisu liczby (znane są systemy dziesiątkowe, ósemkowe itd.)"
   ]
  },
  {
   "cell_type": "code",
   "execution_count": 130,
   "metadata": {},
   "outputs": [
    {
     "data": {
      "text/html": [
       "<div>\n",
       "<style scoped>\n",
       "    .dataframe tbody tr th:only-of-type {\n",
       "        vertical-align: middle;\n",
       "    }\n",
       "\n",
       "    .dataframe tbody tr th {\n",
       "        vertical-align: top;\n",
       "    }\n",
       "\n",
       "    .dataframe thead th {\n",
       "        text-align: right;\n",
       "    }\n",
       "</style>\n",
       "<table border=\"1\" class=\"dataframe\">\n",
       "  <thead>\n",
       "    <tr style=\"text-align: right;\">\n",
       "      <th></th>\n",
       "      <th>main_category_0</th>\n",
       "      <th>main_category_1</th>\n",
       "      <th>main_category_2</th>\n",
       "    </tr>\n",
       "  </thead>\n",
       "  <tbody>\n",
       "    <tr>\n",
       "      <th>0</th>\n",
       "      <td>0</td>\n",
       "      <td>0</td>\n",
       "      <td>1</td>\n",
       "    </tr>\n",
       "    <tr>\n",
       "      <th>1</th>\n",
       "      <td>0</td>\n",
       "      <td>0</td>\n",
       "      <td>2</td>\n",
       "    </tr>\n",
       "    <tr>\n",
       "      <th>2</th>\n",
       "      <td>0</td>\n",
       "      <td>0</td>\n",
       "      <td>3</td>\n",
       "    </tr>\n",
       "    <tr>\n",
       "      <th>3</th>\n",
       "      <td>0</td>\n",
       "      <td>0</td>\n",
       "      <td>4</td>\n",
       "    </tr>\n",
       "    <tr>\n",
       "      <th>4</th>\n",
       "      <td>0</td>\n",
       "      <td>0</td>\n",
       "      <td>2</td>\n",
       "    </tr>\n",
       "    <tr>\n",
       "      <th>5</th>\n",
       "      <td>0</td>\n",
       "      <td>0</td>\n",
       "      <td>2</td>\n",
       "    </tr>\n",
       "    <tr>\n",
       "      <th>6</th>\n",
       "      <td>0</td>\n",
       "      <td>0</td>\n",
       "      <td>2</td>\n",
       "    </tr>\n",
       "    <tr>\n",
       "      <th>7</th>\n",
       "      <td>0</td>\n",
       "      <td>0</td>\n",
       "      <td>5</td>\n",
       "    </tr>\n",
       "    <tr>\n",
       "      <th>8</th>\n",
       "      <td>0</td>\n",
       "      <td>0</td>\n",
       "      <td>6</td>\n",
       "    </tr>\n",
       "    <tr>\n",
       "      <th>9</th>\n",
       "      <td>0</td>\n",
       "      <td>0</td>\n",
       "      <td>6</td>\n",
       "    </tr>\n",
       "  </tbody>\n",
       "</table>\n",
       "</div>"
      ],
      "text/plain": [
       "   main_category_0  main_category_1  main_category_2\n",
       "0                0                0                1\n",
       "1                0                0                2\n",
       "2                0                0                3\n",
       "3                0                0                4\n",
       "4                0                0                2\n",
       "5                0                0                2\n",
       "6                0                0                2\n",
       "7                0                0                5\n",
       "8                0                0                6\n",
       "9                0                0                6"
      ]
     },
     "execution_count": 130,
     "metadata": {},
     "output_type": "execute_result"
    }
   ],
   "source": [
    "data_baseN = data.copy()\n",
    "data_out = BaseNEncoder(base=8).fit_transform(data_baseN['main_category'])\n",
    "\n",
    "data_out.head(10)"
   ]
  },
  {
   "cell_type": "markdown",
   "metadata": {},
   "source": [
    "#### Ważne\n",
    "\n",
    "Należy tu dodać te ramki do Dataframe - concatenate (join z indeksami) - anlogicznie jak w przypadku *OneHotEncoding*.\n",
    "\n",
    "#### Komentarz\n",
    "\n",
    "Liczba kolumn rośnie, ale nie tak wyraźnie jak w *OneHotEncoder* (jest to zależne od N). Zmienne zostały poprawnie zakodowane (jak opisane w Wyjaśnieniu)."
   ]
  },
  {
   "cell_type": "markdown",
   "metadata": {},
   "source": [
    "# Cześć 2\n",
    "\n",
    "# Imputacja danych"
   ]
  },
  {
   "cell_type": "markdown",
   "metadata": {},
   "source": [
    "## Losowe usunięcie (dodanie *np.NaN*) 10% wartości ze zmiennej *it_seller_rating*"
   ]
  },
  {
   "cell_type": "code",
   "execution_count": 70,
   "metadata": {},
   "outputs": [],
   "source": [
    "from pandas import DataFrame\n",
    "from typing import List "
   ]
  },
  {
   "cell_type": "code",
   "execution_count": 5,
   "metadata": {},
   "outputs": [
    {
     "data": {
      "text/plain": [
       "it_seller_rating    0.0\n",
       "it_quantity         0.0\n",
       "price               0.0\n",
       "dtype: float64"
      ]
     },
     "execution_count": 5,
     "metadata": {},
     "output_type": "execute_result"
    }
   ],
   "source": [
    "imputed_data = data[['it_seller_rating', 'it_quantity', 'price']]\n",
    "imputed_data.head(3)\n",
    "imputed_data.isnull().mean() "
   ]
  },
  {
   "cell_type": "code",
   "execution_count": 69,
   "metadata": {},
   "outputs": [],
   "source": [
    "def make_NaN(data:DataFrame, ratio: float, cols: List) -> DataFrame:\n",
    "    imputed_data = data[['it_seller_rating', 'it_quantity', 'price']]\n",
    "    nan_idx = imputed_data.sample(frac=ratio).index\n",
    "    for i in cols:\n",
    "        imputed_data[i].iloc[nan_idx] = np.NaN\n",
    "    \n",
    "    return imputed_data"
   ]
  },
  {
   "cell_type": "code",
   "execution_count": 7,
   "metadata": {},
   "outputs": [
    {
     "data": {
      "text/plain": [
       "it_seller_rating    0.1\n",
       "it_quantity         0.0\n",
       "price               0.0\n",
       "dtype: float64"
      ]
     },
     "execution_count": 7,
     "metadata": {},
     "output_type": "execute_result"
    }
   ],
   "source": [
    "make_NaN(data=data, ratio=0.1).isnull().mean() "
   ]
  },
  {
   "cell_type": "markdown",
   "metadata": {},
   "source": [
    "## Nearest neighbors imputation"
   ]
  },
  {
   "cell_type": "code",
   "execution_count": 8,
   "metadata": {},
   "outputs": [],
   "source": [
    "from sklearn.impute import KNNImputer"
   ]
  },
  {
   "cell_type": "markdown",
   "metadata": {},
   "source": [
    "### Zbyt wolne - za dużo jest danych\n",
    "\n",
    "Z tego powodu skorzystałem z drugiego sposoby (opis niżej)"
   ]
  },
  {
   "cell_type": "markdown",
   "metadata": {},
   "source": [
    "## Multivariate feature imputation"
   ]
  },
  {
   "cell_type": "markdown",
   "metadata": {},
   "source": [
    "#### Biblioteki"
   ]
  },
  {
   "cell_type": "code",
   "execution_count": 13,
   "metadata": {},
   "outputs": [],
   "source": [
    "from sklearn.experimental import enable_iterative_imputer\n",
    "from sklearn.impute import IterativeImputer\n",
    "from sklearn.metrics import mean_squared_error\n",
    "import statistics"
   ]
  },
  {
   "cell_type": "markdown",
   "metadata": {},
   "source": [
    "### Brak danych w kolumnie *it_seller_rating*"
   ]
  },
  {
   "cell_type": "markdown",
   "metadata": {},
   "source": [
    "#### Obliczenie błędów"
   ]
  },
  {
   "cell_type": "code",
   "execution_count": 64,
   "metadata": {},
   "outputs": [
    {
     "name": "stdout",
     "output_type": "stream",
     "text": [
      "[6750.97610612867, 6701.155132692241, 6618.95197209958, 6744.574768269065, 6692.635487761598, 6672.120991662897, 6517.342007592855, 6803.382783852032, 6705.82460870055, 6598.32928932476]\n",
      "==========\n",
      "it_seller_rating    0.1\n",
      "it_quantity         0.0\n",
      "price               0.0\n",
      "dtype: float64\n",
      "it_seller_rating    0.0\n",
      "it_quantity         0.0\n",
      "price               0.0\n",
      "dtype: float64\n"
     ]
    }
   ],
   "source": [
    "rmse_error_list_1 = []\n",
    "for i in range(10):\n",
    "    # zrobienie z danych 10% NaN\n",
    "    data_in = make_NaN(data=data, ratio=0.1, cols=['it_seller_rating'])\n",
    "    # imputacja\n",
    "    imp = IterativeImputer(max_iter=20)\n",
    "    data_out = imp.fit_transform(data_in[['it_seller_rating', 'it_quantity', 'price']])\n",
    "\n",
    "    df = pd.DataFrame(data=data_out, columns=['it_seller_rating', 'it_quantity', 'price'])\n",
    "    rmse_error_list_1.append(mean_squared_error(data[['it_seller_rating', 'it_quantity', 'price']], df, squared=False))\n",
    "\n",
    "print(rmse_error_list_1)\n",
    "print('==========')\n",
    "print(data_in.isnull().mean())\n",
    "print(df.isnull().mean())"
   ]
  },
  {
   "cell_type": "markdown",
   "metadata": {},
   "source": [
    "#### Odchylenie standardowe"
   ]
  },
  {
   "cell_type": "code",
   "execution_count": 65,
   "metadata": {},
   "outputs": [
    {
     "name": "stdout",
     "output_type": "stream",
     "text": [
      "83.41249007950333\n"
     ]
    }
   ],
   "source": [
    "std_dev = statistics.stdev(rmse_error_list_1)\n",
    "print(std_dev)"
   ]
  },
  {
   "cell_type": "markdown",
   "metadata": {},
   "source": [
    "### Brak danych w kolumnach *it_seller rating* oraz *it_quantity*"
   ]
  },
  {
   "cell_type": "markdown",
   "metadata": {},
   "source": [
    "#### Obliczenie błędów"
   ]
  },
  {
   "cell_type": "code",
   "execution_count": 66,
   "metadata": {},
   "outputs": [
    {
     "name": "stdout",
     "output_type": "stream",
     "text": [
      "[8067.370311611619, 7979.33858022185, 7958.665518293836, 7967.399978201129, 7996.135275958299, 7843.203865201612, 7963.354430856491, 7967.868019209252, 7812.8074663843945, 7930.904557197998]\n",
      "==========\n",
      "it_seller_rating    0.1\n",
      "it_quantity         0.1\n",
      "price               0.0\n",
      "dtype: float64\n",
      "it_seller_rating    0.0\n",
      "it_quantity         0.0\n",
      "price               0.0\n",
      "dtype: float64\n"
     ]
    }
   ],
   "source": [
    "rmse_error_list_2 = []\n",
    "for i in range(10):\n",
    "    # zrobienie z danych 10% NaN\n",
    "    data_in = make_NaN(data=data, ratio=0.1, cols=['it_seller_rating', 'it_quantity'])\n",
    "    # imputacja\n",
    "    imp = IterativeImputer(max_iter=20)\n",
    "    data_out = imp.fit_transform(data_in[['it_seller_rating', 'it_quantity', 'price']])\n",
    "\n",
    "    df = pd.DataFrame(data=data_out, columns=['it_seller_rating', 'it_quantity', 'price'])\n",
    "    rmse_error_list_2.append(mean_squared_error(data[['it_seller_rating', 'it_quantity', 'price']], df, squared=False))\n",
    "\n",
    "print(rmse_error_list_2)\n",
    "print('==========')\n",
    "print(data_in.isnull().mean())\n",
    "print(df.isnull().mean()) "
   ]
  },
  {
   "cell_type": "markdown",
   "metadata": {},
   "source": [
    "#### Odchylenie standardowe"
   ]
  },
  {
   "cell_type": "code",
   "execution_count": 67,
   "metadata": {},
   "outputs": [
    {
     "name": "stdout",
     "output_type": "stream",
     "text": [
      "73.1934496226179\n"
     ]
    }
   ],
   "source": [
    "std_dev = statistics.stdev(rmse_error_list_2)\n",
    "print(std_dev)"
   ]
  },
  {
   "cell_type": "markdown",
   "metadata": {},
   "source": [
    "### Wykres"
   ]
  },
  {
   "cell_type": "code",
   "execution_count": 68,
   "metadata": {},
   "outputs": [
    {
     "data": {
      "text/plain": [
       "<matplotlib.axes._subplots.AxesSubplot at 0x21ab419dcc0>"
      ]
     },
     "execution_count": 68,
     "metadata": {},
     "output_type": "execute_result"
    },
    {
     "data": {
      "image/png": "[encoded data removed]",
      "text/plain": [
       "<Figure size 432x288 with 1 Axes>"
      ]
     },
     "metadata": {},
     "output_type": "display_data"
    }
   ],
   "source": [
    "data_to_plot = pd.DataFrame({\"it_seller rating\": rmse_error_list_1, \"it_seller rating oraz it_quantity\": rmse_error_list_2})\n",
    "\n",
    "data_to_plot.plot()"
   ]
  },
  {
   "cell_type": "markdown",
   "metadata": {},
   "source": [
    "#### Wnioski\n",
    "\n",
    "Błąd jest większy, gdy imputujemy do dwóch kolumn co wydaje się dość oczywiste (większe rozbieżności od normy). Odchylenie standardowe dla dwóch przypadków jest bardzo zbliżone. "
   ]
  }
 ],
 "metadata": {
  "kernelspec": {
   "display_name": "Python 3",
   "language": "python",
   "name": "python3"
  },
  "language_info": {
   "codemirror_mode": {
    "name": "ipython",
    "version": 3
   },
   "file_extension": ".py",
   "mimetype": "text/x-python",
   "name": "python",
   "nbconvert_exporter": "python",
   "pygments_lexer": "ipython3",
   "version": "3.6.5"
  }
 },
 "nbformat": 4,
 "nbformat_minor": 2
}
