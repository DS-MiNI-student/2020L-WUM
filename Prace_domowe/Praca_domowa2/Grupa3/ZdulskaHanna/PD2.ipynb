{
 "cells": [
  {
   "cell_type": "markdown",
   "metadata": {},
   "source": [
    "# Praca domowa 2"
   ]
  },
  {
   "cell_type": "markdown",
   "metadata": {},
   "source": [
    "## Wczytanie danych"
   ]
  },
  {
   "cell_type": "code",
   "execution_count": 1,
   "metadata": {},
   "outputs": [],
   "source": [
    "import numpy as np\n",
    "import pandas as pd\n",
    "import category_encoders as ce\n",
    "import random\n",
    "from sklearn.metrics import mean_squared_error\n",
    "from math import sqrt\n",
    "from sklearn.impute import KNNImputer\n",
    "import seaborn as sns\n",
    "random.seed(123)"
   ]
  },
  {
   "cell_type": "code",
   "execution_count": 2,
   "metadata": {
    "scrolled": true
   },
   "outputs": [
    {
     "data": {
      "text/html": [
       "<div>\n",
       "<style scoped>\n",
       "    .dataframe tbody tr th:only-of-type {\n",
       "        vertical-align: middle;\n",
       "    }\n",
       "\n",
       "    .dataframe tbody tr th {\n",
       "        vertical-align: top;\n",
       "    }\n",
       "\n",
       "    .dataframe thead th {\n",
       "        text-align: right;\n",
       "    }\n",
       "</style>\n",
       "<table border=\"1\" class=\"dataframe\">\n",
       "  <thead>\n",
       "    <tr style=\"text-align: right;\">\n",
       "      <th></th>\n",
       "      <th>lp</th>\n",
       "      <th>date</th>\n",
       "      <th>item_id</th>\n",
       "      <th>categories</th>\n",
       "      <th>pay_option_on_delivery</th>\n",
       "      <th>pay_option_transfer</th>\n",
       "      <th>seller</th>\n",
       "      <th>price</th>\n",
       "      <th>it_is_allegro_standard</th>\n",
       "      <th>it_quantity</th>\n",
       "      <th>it_is_brand_zone</th>\n",
       "      <th>it_seller_rating</th>\n",
       "      <th>it_location</th>\n",
       "      <th>main_category</th>\n",
       "    </tr>\n",
       "  </thead>\n",
       "  <tbody>\n",
       "    <tr>\n",
       "      <th>0</th>\n",
       "      <td>0</td>\n",
       "      <td>2016-04-03 21:21:08</td>\n",
       "      <td>4753602474</td>\n",
       "      <td>['Komputery', 'Dyski i napędy', 'Nośniki', 'No...</td>\n",
       "      <td>1</td>\n",
       "      <td>1</td>\n",
       "      <td>radzioch666</td>\n",
       "      <td>59.99</td>\n",
       "      <td>1</td>\n",
       "      <td>997</td>\n",
       "      <td>0</td>\n",
       "      <td>50177</td>\n",
       "      <td>Warszawa</td>\n",
       "      <td>Komputery</td>\n",
       "    </tr>\n",
       "    <tr>\n",
       "      <th>1</th>\n",
       "      <td>1</td>\n",
       "      <td>2016-04-03 15:35:26</td>\n",
       "      <td>4773181874</td>\n",
       "      <td>['Odzież, Obuwie, Dodatki', 'Bielizna damska',...</td>\n",
       "      <td>1</td>\n",
       "      <td>1</td>\n",
       "      <td>InwestycjeNET</td>\n",
       "      <td>4.90</td>\n",
       "      <td>1</td>\n",
       "      <td>9288</td>\n",
       "      <td>0</td>\n",
       "      <td>12428</td>\n",
       "      <td>Warszawa</td>\n",
       "      <td>Odzież, Obuwie, Dodatki</td>\n",
       "    </tr>\n",
       "    <tr>\n",
       "      <th>2</th>\n",
       "      <td>2</td>\n",
       "      <td>2016-04-03 14:14:31</td>\n",
       "      <td>4781627074</td>\n",
       "      <td>['Dom i Ogród', 'Budownictwo i Akcesoria', 'Śc...</td>\n",
       "      <td>1</td>\n",
       "      <td>1</td>\n",
       "      <td>otostyl_com</td>\n",
       "      <td>109.90</td>\n",
       "      <td>1</td>\n",
       "      <td>895</td>\n",
       "      <td>0</td>\n",
       "      <td>7389</td>\n",
       "      <td>Leszno</td>\n",
       "      <td>Dom i Ogród</td>\n",
       "    </tr>\n",
       "    <tr>\n",
       "      <th>3</th>\n",
       "      <td>3</td>\n",
       "      <td>2016-04-03 19:55:44</td>\n",
       "      <td>4783971474</td>\n",
       "      <td>['Książki i Komiksy', 'Poradniki i albumy', 'Z...</td>\n",
       "      <td>1</td>\n",
       "      <td>1</td>\n",
       "      <td>Matfel1</td>\n",
       "      <td>18.50</td>\n",
       "      <td>0</td>\n",
       "      <td>971</td>\n",
       "      <td>0</td>\n",
       "      <td>15006</td>\n",
       "      <td>Wola Krzysztoporska</td>\n",
       "      <td>Książki i Komiksy</td>\n",
       "    </tr>\n",
       "    <tr>\n",
       "      <th>4</th>\n",
       "      <td>4</td>\n",
       "      <td>2016-04-03 18:05:54</td>\n",
       "      <td>4787908274</td>\n",
       "      <td>['Odzież, Obuwie, Dodatki', 'Ślub i wesele', '...</td>\n",
       "      <td>1</td>\n",
       "      <td>1</td>\n",
       "      <td>PPHU_RICO</td>\n",
       "      <td>19.90</td>\n",
       "      <td>1</td>\n",
       "      <td>950</td>\n",
       "      <td>0</td>\n",
       "      <td>32975</td>\n",
       "      <td>BIAŁYSTOK</td>\n",
       "      <td>Odzież, Obuwie, Dodatki</td>\n",
       "    </tr>\n",
       "    <tr>\n",
       "      <th>5</th>\n",
       "      <td>5</td>\n",
       "      <td>2016-04-03 16:31:01</td>\n",
       "      <td>4790991674</td>\n",
       "      <td>['Odzież, Obuwie, Dodatki', 'Bielizna damska',...</td>\n",
       "      <td>1</td>\n",
       "      <td>1</td>\n",
       "      <td>Noemi-bielizna</td>\n",
       "      <td>10.99</td>\n",
       "      <td>1</td>\n",
       "      <td>742</td>\n",
       "      <td>0</td>\n",
       "      <td>39371</td>\n",
       "      <td>GĄBIN</td>\n",
       "      <td>Odzież, Obuwie, Dodatki</td>\n",
       "    </tr>\n",
       "  </tbody>\n",
       "</table>\n",
       "</div>"
      ],
      "text/plain": [
       "   lp                 date     item_id  \\\n",
       "0   0  2016-04-03 21:21:08  4753602474   \n",
       "1   1  2016-04-03 15:35:26  4773181874   \n",
       "2   2  2016-04-03 14:14:31  4781627074   \n",
       "3   3  2016-04-03 19:55:44  4783971474   \n",
       "4   4  2016-04-03 18:05:54  4787908274   \n",
       "5   5  2016-04-03 16:31:01  4790991674   \n",
       "\n",
       "                                          categories  pay_option_on_delivery  \\\n",
       "0  ['Komputery', 'Dyski i napędy', 'Nośniki', 'No...                       1   \n",
       "1  ['Odzież, Obuwie, Dodatki', 'Bielizna damska',...                       1   \n",
       "2  ['Dom i Ogród', 'Budownictwo i Akcesoria', 'Śc...                       1   \n",
       "3  ['Książki i Komiksy', 'Poradniki i albumy', 'Z...                       1   \n",
       "4  ['Odzież, Obuwie, Dodatki', 'Ślub i wesele', '...                       1   \n",
       "5  ['Odzież, Obuwie, Dodatki', 'Bielizna damska',...                       1   \n",
       "\n",
       "   pay_option_transfer          seller   price  it_is_allegro_standard  \\\n",
       "0                    1     radzioch666   59.99                       1   \n",
       "1                    1   InwestycjeNET    4.90                       1   \n",
       "2                    1     otostyl_com  109.90                       1   \n",
       "3                    1         Matfel1   18.50                       0   \n",
       "4                    1       PPHU_RICO   19.90                       1   \n",
       "5                    1  Noemi-bielizna   10.99                       1   \n",
       "\n",
       "   it_quantity  it_is_brand_zone  it_seller_rating          it_location  \\\n",
       "0          997                 0             50177             Warszawa   \n",
       "1         9288                 0             12428             Warszawa   \n",
       "2          895                 0              7389               Leszno   \n",
       "3          971                 0             15006  Wola Krzysztoporska   \n",
       "4          950                 0             32975            BIAŁYSTOK   \n",
       "5          742                 0             39371                GĄBIN   \n",
       "\n",
       "             main_category  \n",
       "0                Komputery  \n",
       "1  Odzież, Obuwie, Dodatki  \n",
       "2              Dom i Ogród  \n",
       "3        Książki i Komiksy  \n",
       "4  Odzież, Obuwie, Dodatki  \n",
       "5  Odzież, Obuwie, Dodatki  "
      ]
     },
     "execution_count": 2,
     "metadata": {},
     "output_type": "execute_result"
    }
   ],
   "source": [
    "df = pd.read_csv('https://www.dropbox.com/s/360xhh2d9lnaek3/allegro-api-transactions.csv?dl=1')\n",
    "# zobaczmy jak wygląda zbiorek\n",
    "df.head(6)"
   ]
  },
  {
   "cell_type": "markdown",
   "metadata": {},
   "source": [
    "I jego rozmiar"
   ]
  },
  {
   "cell_type": "code",
   "execution_count": 3,
   "metadata": {},
   "outputs": [
    {
     "data": {
      "text/plain": [
       "(420020, 14)"
      ]
     },
     "execution_count": 3,
     "metadata": {},
     "output_type": "execute_result"
    }
   ],
   "source": [
    "df.shape"
   ]
  },
  {
   "cell_type": "markdown",
   "metadata": {},
   "source": [
    "## Kodowanie zmiennych kategorycznych"
   ]
  },
  {
   "cell_type": "markdown",
   "metadata": {},
   "source": [
    "Kodować będziemy zmienną 'it_location' z ~10k unikatowymi wartościami."
   ]
  },
  {
   "cell_type": "code",
   "execution_count": 4,
   "metadata": {},
   "outputs": [
    {
     "data": {
      "text/plain": [
       "Warszawa             23244\n",
       "Kraków               15135\n",
       "Łódź                 10935\n",
       "Poznań               10610\n",
       "Wrocław               8646\n",
       "                     ...  \n",
       "Aleksandria Druga        1\n",
       "Kadłubiec                1\n",
       "czaniec                  1\n",
       "0                        1\n",
       "Kosobudy                 1\n",
       "Name: it_location, Length: 10056, dtype: int64"
      ]
     },
     "execution_count": 4,
     "metadata": {},
     "output_type": "execute_result"
    }
   ],
   "source": [
    "df[['it_location']].squeeze().value_counts()"
   ]
  },
  {
   "cell_type": "markdown",
   "metadata": {},
   "source": [
    "### One Hot Encoder"
   ]
  },
  {
   "cell_type": "code",
   "execution_count": 5,
   "metadata": {
    "scrolled": true
   },
   "outputs": [
    {
     "data": {
      "text/html": [
       "<div>\n",
       "<style scoped>\n",
       "    .dataframe tbody tr th:only-of-type {\n",
       "        vertical-align: middle;\n",
       "    }\n",
       "\n",
       "    .dataframe tbody tr th {\n",
       "        vertical-align: top;\n",
       "    }\n",
       "\n",
       "    .dataframe thead th {\n",
       "        text-align: right;\n",
       "    }\n",
       "</style>\n",
       "<table border=\"1\" class=\"dataframe\">\n",
       "  <thead>\n",
       "    <tr style=\"text-align: right;\">\n",
       "      <th></th>\n",
       "      <th>it_location_1</th>\n",
       "      <th>it_location_2</th>\n",
       "      <th>it_location_3</th>\n",
       "      <th>it_location_4</th>\n",
       "      <th>it_location_5</th>\n",
       "      <th>it_location_6</th>\n",
       "      <th>it_location_7</th>\n",
       "      <th>it_location_8</th>\n",
       "      <th>it_location_9</th>\n",
       "      <th>it_location_10</th>\n",
       "      <th>it_location_11</th>\n",
       "      <th>it_location_12</th>\n",
       "      <th>it_location_13</th>\n",
       "      <th>it_location_14</th>\n",
       "      <th>it_location_15</th>\n",
       "      <th>it_location_16</th>\n",
       "    </tr>\n",
       "  </thead>\n",
       "  <tbody>\n",
       "    <tr>\n",
       "      <th>1</th>\n",
       "      <td>1</td>\n",
       "      <td>0</td>\n",
       "      <td>0</td>\n",
       "      <td>0</td>\n",
       "      <td>0</td>\n",
       "      <td>0</td>\n",
       "      <td>0</td>\n",
       "      <td>0</td>\n",
       "      <td>0</td>\n",
       "      <td>0</td>\n",
       "      <td>0</td>\n",
       "      <td>0</td>\n",
       "      <td>0</td>\n",
       "      <td>0</td>\n",
       "      <td>0</td>\n",
       "      <td>0</td>\n",
       "    </tr>\n",
       "    <tr>\n",
       "      <th>2</th>\n",
       "      <td>0</td>\n",
       "      <td>1</td>\n",
       "      <td>0</td>\n",
       "      <td>0</td>\n",
       "      <td>0</td>\n",
       "      <td>0</td>\n",
       "      <td>0</td>\n",
       "      <td>0</td>\n",
       "      <td>0</td>\n",
       "      <td>0</td>\n",
       "      <td>0</td>\n",
       "      <td>0</td>\n",
       "      <td>0</td>\n",
       "      <td>0</td>\n",
       "      <td>0</td>\n",
       "      <td>0</td>\n",
       "    </tr>\n",
       "    <tr>\n",
       "      <th>3</th>\n",
       "      <td>0</td>\n",
       "      <td>0</td>\n",
       "      <td>1</td>\n",
       "      <td>0</td>\n",
       "      <td>0</td>\n",
       "      <td>0</td>\n",
       "      <td>0</td>\n",
       "      <td>0</td>\n",
       "      <td>0</td>\n",
       "      <td>0</td>\n",
       "      <td>0</td>\n",
       "      <td>0</td>\n",
       "      <td>0</td>\n",
       "      <td>0</td>\n",
       "      <td>0</td>\n",
       "      <td>0</td>\n",
       "    </tr>\n",
       "    <tr>\n",
       "      <th>4</th>\n",
       "      <td>0</td>\n",
       "      <td>0</td>\n",
       "      <td>0</td>\n",
       "      <td>1</td>\n",
       "      <td>0</td>\n",
       "      <td>0</td>\n",
       "      <td>0</td>\n",
       "      <td>0</td>\n",
       "      <td>0</td>\n",
       "      <td>0</td>\n",
       "      <td>0</td>\n",
       "      <td>0</td>\n",
       "      <td>0</td>\n",
       "      <td>0</td>\n",
       "      <td>0</td>\n",
       "      <td>0</td>\n",
       "    </tr>\n",
       "    <tr>\n",
       "      <th>5</th>\n",
       "      <td>0</td>\n",
       "      <td>0</td>\n",
       "      <td>0</td>\n",
       "      <td>0</td>\n",
       "      <td>1</td>\n",
       "      <td>0</td>\n",
       "      <td>0</td>\n",
       "      <td>0</td>\n",
       "      <td>0</td>\n",
       "      <td>0</td>\n",
       "      <td>0</td>\n",
       "      <td>0</td>\n",
       "      <td>0</td>\n",
       "      <td>0</td>\n",
       "      <td>0</td>\n",
       "      <td>0</td>\n",
       "    </tr>\n",
       "  </tbody>\n",
       "</table>\n",
       "</div>"
      ],
      "text/plain": [
       "   it_location_1  it_location_2  it_location_3  it_location_4  it_location_5  \\\n",
       "1              1              0              0              0              0   \n",
       "2              0              1              0              0              0   \n",
       "3              0              0              1              0              0   \n",
       "4              0              0              0              1              0   \n",
       "5              0              0              0              0              1   \n",
       "\n",
       "   it_location_6  it_location_7  it_location_8  it_location_9  it_location_10  \\\n",
       "1              0              0              0              0               0   \n",
       "2              0              0              0              0               0   \n",
       "3              0              0              0              0               0   \n",
       "4              0              0              0              0               0   \n",
       "5              0              0              0              0               0   \n",
       "\n",
       "   it_location_11  it_location_12  it_location_13  it_location_14  \\\n",
       "1               0               0               0               0   \n",
       "2               0               0               0               0   \n",
       "3               0               0               0               0   \n",
       "4               0               0               0               0   \n",
       "5               0               0               0               0   \n",
       "\n",
       "   it_location_15  it_location_16  \n",
       "1               0               0  \n",
       "2               0               0  \n",
       "3               0               0  \n",
       "4               0               0  \n",
       "5               0               0  "
      ]
     },
     "execution_count": 5,
     "metadata": {},
     "output_type": "execute_result"
    }
   ],
   "source": [
    "encoder = ce.OneHotEncoder(cols = 'it_location')\n",
    "\n",
    "#żeby nie trwało to bardzo długo i żeby starczyło pamięci będziemy testować na pierwszych 20 wierszach\n",
    "encoder.fit_transform(df.loc[1:20,'it_location']).head()"
   ]
  },
  {
   "cell_type": "code",
   "execution_count": 6,
   "metadata": {},
   "outputs": [
    {
     "data": {
      "text/plain": [
       "Warszawa                      3\n",
       "GĄBIN                         2\n",
       "WROCŁAW                       2\n",
       "Internet                      1\n",
       "Legionowo                     1\n",
       "PRZYLEP KOŁO ZIELONEJ GÓRY    1\n",
       "zachodniopomorskie            1\n",
       "PACZKA KURIER                 1\n",
       "Wola Krzysztoporska           1\n",
       "Rzeszów                       1\n",
       "Jarosław                      1\n",
       "Zabrze                        1\n",
       "BIAŁYSTOK                     1\n",
       "Tuchola                       1\n",
       "Leszno                        1\n",
       "ŚWIĘTOCHŁOWICE                1\n",
       "Name: it_location, dtype: int64"
      ]
     },
     "execution_count": 6,
     "metadata": {},
     "output_type": "execute_result"
    }
   ],
   "source": [
    "df.loc[1:20,'it_location'].value_counts()"
   ]
  },
  {
   "cell_type": "markdown",
   "metadata": {},
   "source": [
    "### Polynomial Encoder\n",
    "Działa przez dopasowanie wielomianów czwartego stopnia. Podobnie jak one hot zwraca tyle kolumn ile jest klas, co w przypadku dużego zbioru jak ten bardzo kosztowne."
   ]
  },
  {
   "cell_type": "code",
   "execution_count": 7,
   "metadata": {},
   "outputs": [
    {
     "data": {
      "text/html": [
       "<div>\n",
       "<style scoped>\n",
       "    .dataframe tbody tr th:only-of-type {\n",
       "        vertical-align: middle;\n",
       "    }\n",
       "\n",
       "    .dataframe tbody tr th {\n",
       "        vertical-align: top;\n",
       "    }\n",
       "\n",
       "    .dataframe thead th {\n",
       "        text-align: right;\n",
       "    }\n",
       "</style>\n",
       "<table border=\"1\" class=\"dataframe\">\n",
       "  <thead>\n",
       "    <tr style=\"text-align: right;\">\n",
       "      <th></th>\n",
       "      <th>intercept</th>\n",
       "      <th>it_location_0</th>\n",
       "      <th>it_location_1</th>\n",
       "      <th>it_location_2</th>\n",
       "      <th>it_location_3</th>\n",
       "      <th>it_location_4</th>\n",
       "      <th>it_location_5</th>\n",
       "      <th>it_location_6</th>\n",
       "      <th>it_location_7</th>\n",
       "      <th>it_location_8</th>\n",
       "      <th>it_location_9</th>\n",
       "      <th>it_location_10</th>\n",
       "      <th>it_location_11</th>\n",
       "      <th>it_location_12</th>\n",
       "      <th>it_location_13</th>\n",
       "      <th>it_location_14</th>\n",
       "    </tr>\n",
       "  </thead>\n",
       "  <tbody>\n",
       "    <tr>\n",
       "      <th>1</th>\n",
       "      <td>1</td>\n",
       "      <td>-0.406745</td>\n",
       "      <td>0.463099</td>\n",
       "      <td>-0.453245</td>\n",
       "      <td>0.398089</td>\n",
       "      <td>-0.318524</td>\n",
       "      <td>0.233457</td>\n",
       "      <td>-0.156869</td>\n",
       "      <td>0.096418</td>\n",
       "      <td>-0.053937</td>\n",
       "      <td>0.027240</td>\n",
       "      <td>-0.012268</td>\n",
       "      <td>0.004834</td>\n",
       "      <td>-0.001616</td>\n",
       "      <td>0.000432</td>\n",
       "      <td>-0.000080</td>\n",
       "    </tr>\n",
       "    <tr>\n",
       "      <th>2</th>\n",
       "      <td>1</td>\n",
       "      <td>-0.352512</td>\n",
       "      <td>0.277859</td>\n",
       "      <td>-0.090649</td>\n",
       "      <td>-0.132696</td>\n",
       "      <td>0.318524</td>\n",
       "      <td>-0.420222</td>\n",
       "      <td>0.428776</td>\n",
       "      <td>-0.366387</td>\n",
       "      <td>0.269685</td>\n",
       "      <td>-0.172521</td>\n",
       "      <td>0.095689</td>\n",
       "      <td>-0.045441</td>\n",
       "      <td>0.017990</td>\n",
       "      <td>-0.005621</td>\n",
       "      <td>0.001204</td>\n",
       "    </tr>\n",
       "    <tr>\n",
       "      <th>3</th>\n",
       "      <td>1</td>\n",
       "      <td>-0.298279</td>\n",
       "      <td>0.119083</td>\n",
       "      <td>0.142448</td>\n",
       "      <td>-0.322263</td>\n",
       "      <td>0.318524</td>\n",
       "      <td>-0.140074</td>\n",
       "      <td>-0.115037</td>\n",
       "      <td>0.327820</td>\n",
       "      <td>-0.423791</td>\n",
       "      <td>0.398225</td>\n",
       "      <td>-0.297582</td>\n",
       "      <td>0.180799</td>\n",
       "      <td>-0.088440</td>\n",
       "      <td>0.033293</td>\n",
       "      <td>-0.008431</td>\n",
       "    </tr>\n",
       "    <tr>\n",
       "      <th>4</th>\n",
       "      <td>1</td>\n",
       "      <td>-0.244047</td>\n",
       "      <td>-0.013231</td>\n",
       "      <td>0.265970</td>\n",
       "      <td>-0.293099</td>\n",
       "      <td>0.073506</td>\n",
       "      <td>0.211907</td>\n",
       "      <td>-0.340286</td>\n",
       "      <td>0.221019</td>\n",
       "      <td>0.056308</td>\n",
       "      <td>-0.315207</td>\n",
       "      <td>0.427270</td>\n",
       "      <td>-0.379967</td>\n",
       "      <td>0.247869</td>\n",
       "      <td>-0.118041</td>\n",
       "      <td>0.036533</td>\n",
       "    </tr>\n",
       "    <tr>\n",
       "      <th>5</th>\n",
       "      <td>1</td>\n",
       "      <td>-0.189814</td>\n",
       "      <td>-0.119083</td>\n",
       "      <td>0.299839</td>\n",
       "      <td>-0.147279</td>\n",
       "      <td>-0.171513</td>\n",
       "      <td>0.312473</td>\n",
       "      <td>-0.126300</td>\n",
       "      <td>-0.197285</td>\n",
       "      <td>0.340811</td>\n",
       "      <td>-0.172521</td>\n",
       "      <td>-0.158780</td>\n",
       "      <td>0.399304</td>\n",
       "      <td>-0.418717</td>\n",
       "      <td>0.275428</td>\n",
       "      <td>-0.109598</td>\n",
       "    </tr>\n",
       "  </tbody>\n",
       "</table>\n",
       "</div>"
      ],
      "text/plain": [
       "   intercept  it_location_0  it_location_1  it_location_2  it_location_3  \\\n",
       "1          1      -0.406745       0.463099      -0.453245       0.398089   \n",
       "2          1      -0.352512       0.277859      -0.090649      -0.132696   \n",
       "3          1      -0.298279       0.119083       0.142448      -0.322263   \n",
       "4          1      -0.244047      -0.013231       0.265970      -0.293099   \n",
       "5          1      -0.189814      -0.119083       0.299839      -0.147279   \n",
       "\n",
       "   it_location_4  it_location_5  it_location_6  it_location_7  it_location_8  \\\n",
       "1      -0.318524       0.233457      -0.156869       0.096418      -0.053937   \n",
       "2       0.318524      -0.420222       0.428776      -0.366387       0.269685   \n",
       "3       0.318524      -0.140074      -0.115037       0.327820      -0.423791   \n",
       "4       0.073506       0.211907      -0.340286       0.221019       0.056308   \n",
       "5      -0.171513       0.312473      -0.126300      -0.197285       0.340811   \n",
       "\n",
       "   it_location_9  it_location_10  it_location_11  it_location_12  \\\n",
       "1       0.027240       -0.012268        0.004834       -0.001616   \n",
       "2      -0.172521        0.095689       -0.045441        0.017990   \n",
       "3       0.398225       -0.297582        0.180799       -0.088440   \n",
       "4      -0.315207        0.427270       -0.379967        0.247869   \n",
       "5      -0.172521       -0.158780        0.399304       -0.418717   \n",
       "\n",
       "   it_location_13  it_location_14  \n",
       "1        0.000432       -0.000080  \n",
       "2       -0.005621        0.001204  \n",
       "3        0.033293       -0.008431  \n",
       "4       -0.118041        0.036533  \n",
       "5        0.275428       -0.109598  "
      ]
     },
     "execution_count": 7,
     "metadata": {},
     "output_type": "execute_result"
    }
   ],
   "source": [
    "encoder = ce.PolynomialEncoder(cols = 'it_location')\n",
    "\n",
    "encoder.fit_transform(df.loc[1:20,'it_location']).head()"
   ]
  },
  {
   "cell_type": "markdown",
   "metadata": {},
   "source": [
    "### Ordinal encoder\n",
    "Nadaje kolejnym unikatowym wartościom kolejne inty zaczynając od 1. "
   ]
  },
  {
   "cell_type": "code",
   "execution_count": 8,
   "metadata": {
    "scrolled": true
   },
   "outputs": [],
   "source": [
    "encoder = ce.OrdinalEncoder(cols = 'it_location')\n",
    "\n",
    "it_loc_ord = encoder.fit_transform(df.loc[:,'it_location'])"
   ]
  },
  {
   "cell_type": "markdown",
   "metadata": {},
   "source": [
    "Zwraca tylko jedną kolumnę, która zamiast stringów ma inty, co ma swoje plusy, jak i minusy - lepiej operować na liczbach niż stringach, ale bez przetworzenia danych wcześniej 'WARSZAWA', 'Warszawa','Warszawa Wola', 'Warszawa/ Sprzedaż tylko wysyłkowa' stają się różnymi miejscami."
   ]
  },
  {
   "cell_type": "code",
   "execution_count": 9,
   "metadata": {
    "scrolled": true
   },
   "outputs": [
    {
     "data": {
      "text/plain": [
       "Warszawa                              23244\n",
       "WARSZAWA                               2672\n",
       "warszawa                               1123\n",
       "Wadowice                                449\n",
       "Warszawa/ Sprzedaż tylko wysyłkowa      333\n",
       "Wałbrzych                               236\n",
       "Warszawa, Katowice                      146\n",
       "Wałcz                                   138\n",
       "Warszawa-Halinów                        123\n",
       "Wasilków                                104\n",
       "Name: it_location, dtype: int64"
      ]
     },
     "execution_count": 9,
     "metadata": {},
     "output_type": "execute_result"
    }
   ],
   "source": [
    "df[['it_location']].squeeze().value_counts().filter(regex='^(wa|Wa|WA)').head(10)"
   ]
  },
  {
   "cell_type": "markdown",
   "metadata": {},
   "source": [
    "Poza tym encoder nie robi nic specjalnego, po prostu numeruje po kolei lokacje"
   ]
  },
  {
   "cell_type": "code",
   "execution_count": 10,
   "metadata": {
    "scrolled": false
   },
   "outputs": [
    {
     "data": {
      "text/plain": [
       "1       23244\n",
       "61      15135\n",
       "22      10935\n",
       "36      10610\n",
       "34       8646\n",
       "        ...  \n",
       "6878        1\n",
       "8289        1\n",
       "9177        1\n",
       "7783        1\n",
       "4221        1\n",
       "Name: it_location, Length: 10056, dtype: int64"
      ]
     },
     "execution_count": 10,
     "metadata": {},
     "output_type": "execute_result"
    }
   ],
   "source": [
    "it_loc_ord.squeeze().value_counts()"
   ]
  },
  {
   "cell_type": "markdown",
   "metadata": {},
   "source": [
    "## Uzupełnianie braków"
   ]
  },
  {
   "cell_type": "code",
   "execution_count": 11,
   "metadata": {},
   "outputs": [],
   "source": [
    "df = pd.read_csv('./allegro-api-transactions.csv')\n",
    "\n",
    "df = df[['price', 'it_seller_rating', 'it_quantity']]\n",
    "\n",
    "imputer = KNNImputer(n_neighbors=20, weights=\"uniform\")\n",
    "\n",
    "# dodatkowo zmiejszymy zbiór do 10k obserwacji\n",
    "df = df.sample(10**4)\n",
    "\n",
    "df_saved = df.copy()\n",
    "\n",
    "# funkcja na zastępowanie 10% danych kolumn brakami\n",
    "def get_msre(columns, imputer = imputer):\n",
    "    df = df_saved.copy()\n",
    "\n",
    "    slice_tab = [random.sample(range(df.shape[0]), round(df.shape[0] * 0.1)) for _ in range(len(columns))]\n",
    "    \n",
    "    for i in range(len(columns)):\n",
    "        df.iloc[slice_tab[i],columns[i]] = np.nan\n",
    "    \n",
    "    x = imputer.fit_transform(df)\n",
    "    err = sqrt(mean_squared_error(df_saved, x))\n",
    "    return err"
   ]
  },
  {
   "cell_type": "markdown",
   "metadata": {},
   "source": [
    "### Usunięcie 10% kolumn it_seller_rating"
   ]
  },
  {
   "cell_type": "code",
   "execution_count": 12,
   "metadata": {},
   "outputs": [
    {
     "name": "stdout",
     "output_type": "stream",
     "text": [
      "Pojedyńczy MSRE dla KNNImputer = 8754.759158685369\n"
     ]
    }
   ],
   "source": [
    "err = get_msre([1])\n",
    "print('Pojedyńczy MSRE dla KNNImputer = {}'.format(err))"
   ]
  },
  {
   "cell_type": "code",
   "execution_count": 13,
   "metadata": {},
   "outputs": [],
   "source": [
    "err_tab_1 = [get_msre([1]) for _ in range(10)]"
   ]
  },
  {
   "cell_type": "markdown",
   "metadata": {},
   "source": [
    "Odchylenie standardowe dla 10 pomiarów dla usuniętych 10% it_seller_rating:"
   ]
  },
  {
   "cell_type": "code",
   "execution_count": 14,
   "metadata": {
    "scrolled": true
   },
   "outputs": [
    {
     "data": {
      "text/plain": [
       "389.96271744855267"
      ]
     },
     "execution_count": 14,
     "metadata": {},
     "output_type": "execute_result"
    }
   ],
   "source": [
    "np.std(err_tab_1)"
   ]
  },
  {
   "cell_type": "markdown",
   "metadata": {},
   "source": [
    "### Usunięcie 10% kolumn it_seller_rating i it_quantity"
   ]
  },
  {
   "cell_type": "code",
   "execution_count": 15,
   "metadata": {},
   "outputs": [],
   "source": [
    "err_tab_2 = [get_msre([1,2]) for _ in range(10)]"
   ]
  },
  {
   "cell_type": "markdown",
   "metadata": {},
   "source": [
    "Odchylenie standardowe dla usuniętych 10% procent z it_seller_rating it_quantity:"
   ]
  },
  {
   "cell_type": "code",
   "execution_count": 16,
   "metadata": {},
   "outputs": [
    {
     "data": {
      "text/plain": [
       "462.74937046281167"
      ]
     },
     "execution_count": 16,
     "metadata": {},
     "output_type": "execute_result"
    }
   ],
   "source": [
    "np.std(err_tab_2)"
   ]
  },
  {
   "cell_type": "markdown",
   "metadata": {},
   "source": [
    "### Podsumowanie"
   ]
  },
  {
   "cell_type": "code",
   "execution_count": 17,
   "metadata": {
    "scrolled": true
   },
   "outputs": [
    {
     "data": {
      "text/plain": [
       "<matplotlib.axes._subplots.AxesSubplot at 0x7f7fd2432b38>"
      ]
     },
     "execution_count": 17,
     "metadata": {},
     "output_type": "execute_result"
    },
    {
     "data": {
      "image/png": "[encoded data removed]",
      "text/plain": [
       "<Figure size 432x288 with 1 Axes>"
      ]
     },
     "metadata": {
      "needs_background": "light"
     },
     "output_type": "display_data"
    }
   ],
   "source": [
    "dff = pd.DataFrame({'mrse': err_tab_1 + err_tab_2 , 'cat': ['usunięcie 1 kolumny']*10 + ['usunięcie dwóch kolumn'] * 10})\n",
    "sns.stripplot(y='mrse', x='cat', data=dff)"
   ]
  },
  {
   "cell_type": "markdown",
   "metadata": {},
   "source": [
    "Odchylenia standardowe są porównywalne w obu przypadkach, jednak usunięcie z dwóch kolumn osiąga wyższe błędy niż tylko z jednej."
   ]
  },
  {
   "cell_type": "markdown",
   "metadata": {},
   "source": [
    "Zobaczmy jeszcze jak ma się parametr n_neighbors:"
   ]
  },
  {
   "cell_type": "code",
   "execution_count": 18,
   "metadata": {},
   "outputs": [],
   "source": [
    "k_n = [i for i in range(1,40)]\n",
    "k_n_err = [get_msre([1], KNNImputer(n_neighbors=i, weights=\"uniform\")) for i in range(1,40)]"
   ]
  },
  {
   "cell_type": "code",
   "execution_count": 19,
   "metadata": {},
   "outputs": [
    {
     "data": {
      "text/plain": [
       "[Text(0, 0.5, 'msre'), Text(0.5, 0, 'Ilość sąsiadów')]"
      ]
     },
     "execution_count": 19,
     "metadata": {},
     "output_type": "execute_result"
    },
    {
     "data": {
      "image/png": "[encoded data removed]",
      "text/plain": [
       "<Figure size 432x288 with 1 Axes>"
      ]
     },
     "metadata": {
      "needs_background": "light"
     },
     "output_type": "display_data"
    }
   ],
   "source": [
    "ax = sns.regplot(x=k_n, y = k_n_err, fit_reg=True) \n",
    "ax.set(xlabel='Ilość sąsiadów', ylabel='msre')"
   ]
  },
  {
   "cell_type": "markdown",
   "metadata": {},
   "source": [
    "Jak można było się spodziewać im więcej sąsiadów tym lepiej."
   ]
  }
 ],
 "metadata": {
  "kernelspec": {
   "display_name": "Python 3",
   "language": "python",
   "name": "python3"
  },
  "language_info": {
   "codemirror_mode": {
    "name": "ipython",
    "version": 3
   },
   "file_extension": ".py",
   "mimetype": "text/x-python",
   "name": "python",
   "nbconvert_exporter": "python",
   "pygments_lexer": "ipython3",
   "version": "3.7.1"
  }
 },
 "nbformat": 4,
 "nbformat_minor": 4
}
