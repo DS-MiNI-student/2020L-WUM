{
 "cells": [
  {
   "cell_type": "markdown",
   "metadata": {},
   "source": [
    "# Praca domowa 2\n",
    "## Wstęp do uczenia maszynowego\n",
    "### Paweł Morgen"
   ]
  },
  {
   "cell_type": "code",
   "execution_count": 1,
   "metadata": {},
   "outputs": [],
   "source": [
    "import pandas as pd\n",
    "import numpy as np\n",
    "import seaborn as sns\n",
    "import matplotlib.pyplot as plt\n",
    "import sklearn\n",
    "import category_encoders as cat_enc\n",
    "data = pd.read_csv(\"allegro-api-transactions.csv\")\n",
    "# data.head()"
   ]
  },
  {
   "cell_type": "markdown",
   "metadata": {},
   "source": [
    "## 1. Kodowanie zmiennych kategorycznych"
   ]
  },
  {
   "cell_type": "code",
   "execution_count": 2,
   "metadata": {},
   "outputs": [
    {
     "name": "stdout",
     "output_type": "stream",
     "text": [
      "Ilość kategorii zmiennej it_location: 10056\n"
     ]
    }
   ],
   "source": [
    "print('Ilość kategorii zmiennej it_location:', data.loc[:,'it_location'].unique().shape[0])\n",
    "te=cat_enc.target_encoder.TargetEncoder(data)\n",
    "\n",
    "encoded=te.fit_transform(data.loc[:,'it_location'],data.loc[:,'price'])\n",
    "data['it_location_target_encoded'] = encoded"
   ]
  },
  {
   "cell_type": "markdown",
   "metadata": {},
   "source": [
    "#### Zalety target encodingu w stosunku do One-hot encodingu:\n",
    " * Efektywniejsza gospodarka pamięcią (tu mamy ponad 10000 unikatowych wartości; do OHC potrzebowalibyśmy 2^10000 bitów pamięci\n",
    " * Niosą pewną informację o związku między zmienną zakodowaną a zmienną celu - zwiększona skuteczność modelu\n",
    " \n",
    "### Zakodowanie zmiennej *main_category*\n",
    "Oprócz One-Hot użyjemy metody *leave one out* (`LeaveOneOutEncoder`) oraz metody Jamesa-Steina (`JamesSteinEncoder`). \n",
    "\n",
    "Adnotacja: próbowałem użyć haszowania (`HashingEncoder`), ale bez sukcesu (wyglądało to, jakby program wpadał w nieskończoną pętlę).\n"
   ]
  },
  {
   "cell_type": "code",
   "execution_count": 3,
   "metadata": {},
   "outputs": [
    {
     "name": "stdout",
     "output_type": "stream",
     "text": [
      "Ilość kategorii zmiennej main_category: 27\n"
     ]
    },
    {
     "data": {
      "text/html": [
       "<div>\n",
       "<style scoped>\n",
       "    .dataframe tbody tr th:only-of-type {\n",
       "        vertical-align: middle;\n",
       "    }\n",
       "\n",
       "    .dataframe tbody tr th {\n",
       "        vertical-align: top;\n",
       "    }\n",
       "\n",
       "    .dataframe thead th {\n",
       "        text-align: right;\n",
       "    }\n",
       "</style>\n",
       "<table border=\"1\" class=\"dataframe\">\n",
       "  <thead>\n",
       "    <tr style=\"text-align: right;\">\n",
       "      <th></th>\n",
       "      <th>main_category</th>\n",
       "      <th>main_one_hot_encoded</th>\n",
       "      <th>main_leave_1_encoded</th>\n",
       "      <th>main_js_encoded</th>\n",
       "    </tr>\n",
       "  </thead>\n",
       "  <tbody>\n",
       "    <tr>\n",
       "      <th>0</th>\n",
       "      <td>Komputery</td>\n",
       "      <td>(0, 12)\\t1.0\\n  (1, 18)\\t1.0\\n  (2, 6)\\t1.0\\...</td>\n",
       "      <td>121.814331</td>\n",
       "      <td>101.735793</td>\n",
       "    </tr>\n",
       "    <tr>\n",
       "      <th>1</th>\n",
       "      <td>Odzież, Obuwie, Dodatki</td>\n",
       "      <td>(0, 12)\\t1.0\\n  (1, 18)\\t1.0\\n  (2, 6)\\t1.0\\...</td>\n",
       "      <td>75.859357</td>\n",
       "      <td>75.894257</td>\n",
       "    </tr>\n",
       "    <tr>\n",
       "      <th>2</th>\n",
       "      <td>Dom i Ogród</td>\n",
       "      <td>(0, 12)\\t1.0\\n  (1, 18)\\t1.0\\n  (2, 6)\\t1.0\\...</td>\n",
       "      <td>72.434342</td>\n",
       "      <td>73.179117</td>\n",
       "    </tr>\n",
       "    <tr>\n",
       "      <th>3</th>\n",
       "      <td>Książki i Komiksy</td>\n",
       "      <td>(0, 12)\\t1.0\\n  (1, 18)\\t1.0\\n  (2, 6)\\t1.0\\...</td>\n",
       "      <td>25.028061</td>\n",
       "      <td>25.346202</td>\n",
       "    </tr>\n",
       "    <tr>\n",
       "      <th>4</th>\n",
       "      <td>Odzież, Obuwie, Dodatki</td>\n",
       "      <td>(0, 12)\\t1.0\\n  (1, 18)\\t1.0\\n  (2, 6)\\t1.0\\...</td>\n",
       "      <td>75.859080</td>\n",
       "      <td>75.894257</td>\n",
       "    </tr>\n",
       "  </tbody>\n",
       "</table>\n",
       "</div>"
      ],
      "text/plain": [
       "             main_category                               main_one_hot_encoded  \\\n",
       "0                Komputery    (0, 12)\\t1.0\\n  (1, 18)\\t1.0\\n  (2, 6)\\t1.0\\...   \n",
       "1  Odzież, Obuwie, Dodatki    (0, 12)\\t1.0\\n  (1, 18)\\t1.0\\n  (2, 6)\\t1.0\\...   \n",
       "2              Dom i Ogród    (0, 12)\\t1.0\\n  (1, 18)\\t1.0\\n  (2, 6)\\t1.0\\...   \n",
       "3        Książki i Komiksy    (0, 12)\\t1.0\\n  (1, 18)\\t1.0\\n  (2, 6)\\t1.0\\...   \n",
       "4  Odzież, Obuwie, Dodatki    (0, 12)\\t1.0\\n  (1, 18)\\t1.0\\n  (2, 6)\\t1.0\\...   \n",
       "\n",
       "   main_leave_1_encoded  main_js_encoded  \n",
       "0            121.814331       101.735793  \n",
       "1             75.859357        75.894257  \n",
       "2             72.434342        73.179117  \n",
       "3             25.028061        25.346202  \n",
       "4             75.859080        75.894257  "
      ]
     },
     "execution_count": 3,
     "metadata": {},
     "output_type": "execute_result"
    }
   ],
   "source": [
    "print('Ilość kategorii zmiennej main_category:', data.loc[:,'main_category'].unique().shape[0])\n",
    "\n",
    "from category_encoders import LeaveOneOutEncoder, JamesSteinEncoder\n",
    "from sklearn.preprocessing import OneHotEncoder\n",
    "\n",
    "one_hot_encoder = OneHotEncoder()\n",
    "one_hot_encoded = one_hot_encoder.fit_transform(data.loc[:,'main_category'].to_numpy().reshape(-1,1))\n",
    "\n",
    "\n",
    "james_stein_encoder = JamesSteinEncoder()\n",
    "james_stein_encoded = james_stein_encoder.fit_transform(data.loc[:,'main_category'],\n",
    "                                                   data.loc[:,'price'])\n",
    "\n",
    "leave_1_encoder = LeaveOneOutEncoder(data)\n",
    "leave_1_encoded = leave_1_encoder.fit_transform(data.loc[:,'main_category'],\n",
    "                                               data.loc[:,'price'])\n",
    "\n",
    "data['main_one_hot_encoded'] = one_hot_encoded\n",
    "data['main_leave_1_encoded'] = leave_1_encoded\n",
    "data['main_js_encoded'] = james_stein_encoded\n",
    "\n",
    "data.loc[:,['main_category','main_one_hot_encoded','main_leave_1_encoded','main_js_encoded']].head()"
   ]
  },
  {
   "cell_type": "markdown",
   "metadata": {},
   "source": [
    "## 2. Uzupełnianie braków"
   ]
  },
  {
   "cell_type": "code",
   "execution_count": 15,
   "metadata": {},
   "outputs": [],
   "source": [
    "from sklearn.impute import KNNImputer, SimpleImputer\n",
    "from sklearn.metrics import mean_squared_error\n",
    "from sklearn import preprocessing\n",
    "from math import sqrt\n",
    "\n",
    "# Z powodów wydajności będziemy korzystać z 1/50 rekordów. \n",
    "# Testy przeprowadzimy dla zmiennych oryginalnych i ustandaryzowanych.\n",
    "# Ponadto porównamy wyniki KNNImputera z SimpleImputerem, korzystającym z mediany.\n",
    "\n",
    "original_data_num = data.loc[np.random.randint(0, data.shape[0], data.shape[0] // 50),\n",
    "                    ['price', 'it_seller_rating', 'it_quantity']].reset_index(drop = True)\n",
    "\n",
    "scaler = preprocessing.StandardScaler()\n",
    "scaled_data_num = pd.DataFrame(scaler.fit_transform(original_data_num))\n",
    "scaled_data_num.columns = original_data_num.columns\n",
    "def run_tests(original_data_num):\n",
    "    errors = [[None] * 10 for i in range(4)]\n",
    "    imp = KNNImputer(n_neighbors = 2)\n",
    "    simple_imp = SimpleImputer(strategy = 'median')\n",
    "    for i in range(10):\n",
    "        missing_data_num = original_data_num.copy()\n",
    "        NA_indexes = np.random.randint(0, original_data_num.shape[0], original_data_num.shape[0] // 10)\n",
    "        missing_data_num.loc[NA_indexes, 'it_seller_rating'] = np.nan\n",
    "        knn_data_num = missing_data_num.copy()\n",
    "        knn_data_num = pd.DataFrame(imp.fit_transform(knn_data_num))\n",
    "        knn_data_num.columns = original_data_num.columns\n",
    "        errors[0][i] = sqrt(mean_squared_error(original_data_num.loc[NA_indexes, 'it_seller_rating'], \n",
    "                       knn_data_num.loc[NA_indexes, 'it_seller_rating']))\n",
    "\n",
    "        median_data_num = missing_data_num\n",
    "        median_data_num.loc[:,'it_seller_rating'] = simple_imp.fit_transform(median_data_num.loc[:,'it_seller_rating'].to_numpy().reshape(-1,1))\n",
    "        errors[1][i] = sqrt(mean_squared_error(original_data_num.loc[NA_indexes, 'it_seller_rating'], \n",
    "                       median_data_num.loc[NA_indexes, 'it_seller_rating']))\n",
    "    for i in range(10):\n",
    "        missing_data_num = original_data_num.copy()\n",
    "        NA_indexes = [np.random.randint(0, original_data_num.shape[0], original_data_num.shape[0] // 10),\n",
    "                          np.random.randint(0, original_data_num.shape[0], original_data_num.shape[0] // 10)]\n",
    "        missing_data_num.loc[NA_indexes[0], 'it_seller_rating'] = np.nan\n",
    "        missing_data_num.loc[NA_indexes[1], 'it_quantity'] = np.nan\n",
    "        knn_data_num = missing_data_num.copy()\n",
    "        knn_data_num = pd.DataFrame(imp.fit_transform(knn_data_num))\n",
    "        knn_data_num.columns = original_data_num.columns\n",
    "        errors[2][i] = sqrt(mean_squared_error(original_data_num.loc[NA_indexes[0], 'it_seller_rating'], \n",
    "                                               knn_data_num.loc[NA_indexes[0], 'it_seller_rating'])) + sqrt(\n",
    "            mean_squared_error(original_data_num.loc[NA_indexes[1], 'it_quantity'],\n",
    "                               knn_data_num.loc[NA_indexes[1], 'it_quantity']))\n",
    "        median_data_num = missing_data_num\n",
    "        median_data_num.loc[:,'it_seller_rating'] = simple_imp.fit_transform(median_data_num.loc[:,'it_seller_rating'].to_numpy().reshape(-1,1))\n",
    "        median_data_num.loc[:,'it_quantity'] = simple_imp.fit_transform(median_data_num.loc[:,'it_quantity'].to_numpy().reshape(-1,1))\n",
    "        # print(median_data_num)\n",
    "        errors[3][i] = sqrt(mean_squared_error(original_data_num.loc[NA_indexes[0], 'it_seller_rating'], \n",
    "                                               median_data_num.loc[NA_indexes[0], 'it_seller_rating']))  + sqrt(\n",
    "            mean_squared_error(original_data_num.loc[NA_indexes[1], 'it_quantity'],\n",
    "                               median_data_num.loc[NA_indexes[1], 'it_quantity']))\n",
    "    return errors\n",
    "errors = run_tests(original_data_num)\n",
    "errors_stand = run_tests(scaled_data_num)\n"
   ]
  },
  {
   "cell_type": "code",
   "execution_count": 18,
   "metadata": {},
   "outputs": [
    {
     "data": {
      "text/html": [
       "<div>\n",
       "<style scoped>\n",
       "    .dataframe tbody tr th:only-of-type {\n",
       "        vertical-align: middle;\n",
       "    }\n",
       "\n",
       "    .dataframe tbody tr th {\n",
       "        vertical-align: top;\n",
       "    }\n",
       "\n",
       "    .dataframe thead th {\n",
       "        text-align: right;\n",
       "    }\n",
       "</style>\n",
       "<table border=\"1\" class=\"dataframe\">\n",
       "  <thead>\n",
       "    <tr style=\"text-align: right;\">\n",
       "      <th></th>\n",
       "      <th>it_quantity</th>\n",
       "      <th>it_seller_rating</th>\n",
       "    </tr>\n",
       "  </thead>\n",
       "  <tbody>\n",
       "    <tr>\n",
       "      <th>count</th>\n",
       "      <td>420020.000000</td>\n",
       "      <td>420020.000000</td>\n",
       "    </tr>\n",
       "    <tr>\n",
       "      <th>mean</th>\n",
       "      <td>6748.274823</td>\n",
       "      <td>20402.593496</td>\n",
       "    </tr>\n",
       "    <tr>\n",
       "      <th>std</th>\n",
       "      <td>23387.248064</td>\n",
       "      <td>36682.898636</td>\n",
       "    </tr>\n",
       "    <tr>\n",
       "      <th>min</th>\n",
       "      <td>0.000000</td>\n",
       "      <td>-1.000000</td>\n",
       "    </tr>\n",
       "    <tr>\n",
       "      <th>25%</th>\n",
       "      <td>6.000000</td>\n",
       "      <td>1581.000000</td>\n",
       "    </tr>\n",
       "    <tr>\n",
       "      <th>50%</th>\n",
       "      <td>95.000000</td>\n",
       "      <td>6711.000000</td>\n",
       "    </tr>\n",
       "    <tr>\n",
       "      <th>75%</th>\n",
       "      <td>931.000000</td>\n",
       "      <td>21007.000000</td>\n",
       "    </tr>\n",
       "    <tr>\n",
       "      <th>max</th>\n",
       "      <td>99999.000000</td>\n",
       "      <td>292074.000000</td>\n",
       "    </tr>\n",
       "  </tbody>\n",
       "</table>\n",
       "</div>"
      ],
      "text/plain": [
       "         it_quantity  it_seller_rating\n",
       "count  420020.000000     420020.000000\n",
       "mean     6748.274823      20402.593496\n",
       "std     23387.248064      36682.898636\n",
       "min         0.000000         -1.000000\n",
       "25%         6.000000       1581.000000\n",
       "50%        95.000000       6711.000000\n",
       "75%       931.000000      21007.000000\n",
       "max     99999.000000     292074.000000"
      ]
     },
     "execution_count": 18,
     "metadata": {},
     "output_type": "execute_result"
    }
   ],
   "source": [
    "def plot_summary(errors):\n",
    "    error_df = pd.DataFrame({'knn1_column' : errors[0],\n",
    "                             'median1_column' : errors[1],\n",
    "                            'knn2_column' : errors[2],\n",
    "                            'median2_column' : errors[3]})\n",
    "    df = pd.melt(error_df,\n",
    "           value_vars = ['knn1_column', 'median1_column', 'knn2_column', 'median2_column'],\n",
    "           value_name = 'RSME_value')\n",
    "    df = df.assign(n_with_NAs = df.loc[:, 'variable'].str.extract('([12]_column)'),\n",
    "                                            imp_type = df.loc[:,'variable'].str.replace('([12]_column)', ''))\n",
    "\n",
    "    sns.boxplot(x = df.loc[:,'n_with_NAs'],\n",
    "                y = df.loc[:,'RSME_value'],\n",
    "                hue = df.loc[:,'imp_type']).set_title('Imputation comparison')\n",
    "    \n",
    "data.loc[:,['it_quantity', 'it_seller_rating']].describe()"
   ]
  },
  {
   "cell_type": "code",
   "execution_count": 19,
   "metadata": {},
   "outputs": [
    {
     "data": {
      "image/png": "[encoded data removed]",
      "text/plain": [
       "<Figure size 432x288 with 1 Axes>"
      ]
     },
     "metadata": {
      "needs_background": "light"
     },
     "output_type": "display_data"
    }
   ],
   "source": [
    "plot_summary(errors)"
   ]
  },
  {
   "cell_type": "code",
   "execution_count": 20,
   "metadata": {},
   "outputs": [
    {
     "data": {
      "image/png": "[encoded data removed]",
      "text/plain": [
       "<Figure size 432x288 with 1 Axes>"
      ]
     },
     "metadata": {
      "needs_background": "light"
     },
     "output_type": "display_data"
    }
   ],
   "source": [
    "plot_summary(errors_stand)"
   ]
  },
  {
   "cell_type": "markdown",
   "metadata": {},
   "source": [
    "## Wnioski\n",
    "Wnioski są zaskakujące, bowiem metoda *KNN* daje dla tych danych gorsze efekty (większy błąd) niż zwykłe zastąpienie medianą. Można to wytłumaczyć sporą skośnością rozkładu danych w obu kolumnach (co widać po różnicy między średnią a medianą, zwłaszcza w kolumnie *it_quantity*. Tym niemniej obserwujemy, że dla większej ilości brakujących danych suma błędów jest również większa. Dla ustandaryzowanych zmiennych wręcz obserwujemy zależność liniową między błędem a ilością brakujących zmiennych; względny rozrzut błędów przy imputacji jest również mniejszy."
   ]
  }
 ],
 "metadata": {
  "kernelspec": {
   "display_name": "Python 3",
   "language": "python",
   "name": "python3"
  },
  "language_info": {
   "codemirror_mode": {
    "name": "ipython",
    "version": 3
   },
   "file_extension": ".py",
   "mimetype": "text/x-python",
   "name": "python",
   "nbconvert_exporter": "python",
   "pygments_lexer": "ipython3",
   "version": "3.7.3"
  }
 },
 "nbformat": 4,
 "nbformat_minor": 2
}
