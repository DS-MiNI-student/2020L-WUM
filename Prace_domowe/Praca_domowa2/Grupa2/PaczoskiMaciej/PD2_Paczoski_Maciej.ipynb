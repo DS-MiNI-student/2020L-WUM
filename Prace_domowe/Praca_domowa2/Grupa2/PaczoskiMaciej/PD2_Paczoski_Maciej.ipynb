{
 "cells": [
  {
   "cell_type": "markdown",
   "metadata": {},
   "source": [
    "# Praca domowa 2 - Maciej Paczóski"
   ]
  },
  {
   "cell_type": "code",
   "execution_count": 1,
   "metadata": {},
   "outputs": [],
   "source": [
    "import numpy as np\n",
    "import pandas as pd\n",
    "import matplotlib.pyplot as plt"
   ]
  },
  {
   "cell_type": "code",
   "execution_count": 2,
   "metadata": {},
   "outputs": [],
   "source": [
    "allegro = pd.read_csv('allegro-api-transactions.csv', sep = ',')"
   ]
  },
  {
   "cell_type": "code",
   "execution_count": 3,
   "metadata": {
    "scrolled": false
   },
   "outputs": [
    {
     "data": {
      "text/html": [
       "<div>\n",
       "<style scoped>\n",
       "    .dataframe tbody tr th:only-of-type {\n",
       "        vertical-align: middle;\n",
       "    }\n",
       "\n",
       "    .dataframe tbody tr th {\n",
       "        vertical-align: top;\n",
       "    }\n",
       "\n",
       "    .dataframe thead th {\n",
       "        text-align: right;\n",
       "    }\n",
       "</style>\n",
       "<table border=\"1\" class=\"dataframe\">\n",
       "  <thead>\n",
       "    <tr style=\"text-align: right;\">\n",
       "      <th></th>\n",
       "      <th>lp</th>\n",
       "      <th>date</th>\n",
       "      <th>item_id</th>\n",
       "      <th>categories</th>\n",
       "      <th>pay_option_on_delivery</th>\n",
       "      <th>pay_option_transfer</th>\n",
       "      <th>seller</th>\n",
       "      <th>price</th>\n",
       "      <th>it_is_allegro_standard</th>\n",
       "      <th>it_quantity</th>\n",
       "      <th>it_is_brand_zone</th>\n",
       "      <th>it_seller_rating</th>\n",
       "      <th>it_location</th>\n",
       "      <th>main_category</th>\n",
       "    </tr>\n",
       "  </thead>\n",
       "  <tbody>\n",
       "    <tr>\n",
       "      <th>0</th>\n",
       "      <td>0</td>\n",
       "      <td>2016-04-03 21:21:08</td>\n",
       "      <td>4753602474</td>\n",
       "      <td>['Komputery', 'Dyski i napędy', 'Nośniki', 'No...</td>\n",
       "      <td>1</td>\n",
       "      <td>1</td>\n",
       "      <td>radzioch666</td>\n",
       "      <td>59.99</td>\n",
       "      <td>1</td>\n",
       "      <td>997</td>\n",
       "      <td>0</td>\n",
       "      <td>50177</td>\n",
       "      <td>Warszawa</td>\n",
       "      <td>Komputery</td>\n",
       "    </tr>\n",
       "    <tr>\n",
       "      <th>1</th>\n",
       "      <td>1</td>\n",
       "      <td>2016-04-03 15:35:26</td>\n",
       "      <td>4773181874</td>\n",
       "      <td>['Odzież, Obuwie, Dodatki', 'Bielizna damska',...</td>\n",
       "      <td>1</td>\n",
       "      <td>1</td>\n",
       "      <td>InwestycjeNET</td>\n",
       "      <td>4.90</td>\n",
       "      <td>1</td>\n",
       "      <td>9288</td>\n",
       "      <td>0</td>\n",
       "      <td>12428</td>\n",
       "      <td>Warszawa</td>\n",
       "      <td>Odzież, Obuwie, Dodatki</td>\n",
       "    </tr>\n",
       "    <tr>\n",
       "      <th>2</th>\n",
       "      <td>2</td>\n",
       "      <td>2016-04-03 14:14:31</td>\n",
       "      <td>4781627074</td>\n",
       "      <td>['Dom i Ogród', 'Budownictwo i Akcesoria', 'Śc...</td>\n",
       "      <td>1</td>\n",
       "      <td>1</td>\n",
       "      <td>otostyl_com</td>\n",
       "      <td>109.90</td>\n",
       "      <td>1</td>\n",
       "      <td>895</td>\n",
       "      <td>0</td>\n",
       "      <td>7389</td>\n",
       "      <td>Leszno</td>\n",
       "      <td>Dom i Ogród</td>\n",
       "    </tr>\n",
       "    <tr>\n",
       "      <th>3</th>\n",
       "      <td>3</td>\n",
       "      <td>2016-04-03 19:55:44</td>\n",
       "      <td>4783971474</td>\n",
       "      <td>['Książki i Komiksy', 'Poradniki i albumy', 'Z...</td>\n",
       "      <td>1</td>\n",
       "      <td>1</td>\n",
       "      <td>Matfel1</td>\n",
       "      <td>18.50</td>\n",
       "      <td>0</td>\n",
       "      <td>971</td>\n",
       "      <td>0</td>\n",
       "      <td>15006</td>\n",
       "      <td>Wola Krzysztoporska</td>\n",
       "      <td>Książki i Komiksy</td>\n",
       "    </tr>\n",
       "    <tr>\n",
       "      <th>4</th>\n",
       "      <td>4</td>\n",
       "      <td>2016-04-03 18:05:54</td>\n",
       "      <td>4787908274</td>\n",
       "      <td>['Odzież, Obuwie, Dodatki', 'Ślub i wesele', '...</td>\n",
       "      <td>1</td>\n",
       "      <td>1</td>\n",
       "      <td>PPHU_RICO</td>\n",
       "      <td>19.90</td>\n",
       "      <td>1</td>\n",
       "      <td>950</td>\n",
       "      <td>0</td>\n",
       "      <td>32975</td>\n",
       "      <td>BIAŁYSTOK</td>\n",
       "      <td>Odzież, Obuwie, Dodatki</td>\n",
       "    </tr>\n",
       "  </tbody>\n",
       "</table>\n",
       "</div>"
      ],
      "text/plain": [
       "   lp                 date     item_id  \\\n",
       "0   0  2016-04-03 21:21:08  4753602474   \n",
       "1   1  2016-04-03 15:35:26  4773181874   \n",
       "2   2  2016-04-03 14:14:31  4781627074   \n",
       "3   3  2016-04-03 19:55:44  4783971474   \n",
       "4   4  2016-04-03 18:05:54  4787908274   \n",
       "\n",
       "                                          categories  pay_option_on_delivery  \\\n",
       "0  ['Komputery', 'Dyski i napędy', 'Nośniki', 'No...                       1   \n",
       "1  ['Odzież, Obuwie, Dodatki', 'Bielizna damska',...                       1   \n",
       "2  ['Dom i Ogród', 'Budownictwo i Akcesoria', 'Śc...                       1   \n",
       "3  ['Książki i Komiksy', 'Poradniki i albumy', 'Z...                       1   \n",
       "4  ['Odzież, Obuwie, Dodatki', 'Ślub i wesele', '...                       1   \n",
       "\n",
       "   pay_option_transfer         seller   price  it_is_allegro_standard  \\\n",
       "0                    1    radzioch666   59.99                       1   \n",
       "1                    1  InwestycjeNET    4.90                       1   \n",
       "2                    1    otostyl_com  109.90                       1   \n",
       "3                    1        Matfel1   18.50                       0   \n",
       "4                    1      PPHU_RICO   19.90                       1   \n",
       "\n",
       "   it_quantity  it_is_brand_zone  it_seller_rating          it_location  \\\n",
       "0          997                 0             50177             Warszawa   \n",
       "1         9288                 0             12428             Warszawa   \n",
       "2          895                 0              7389               Leszno   \n",
       "3          971                 0             15006  Wola Krzysztoporska   \n",
       "4          950                 0             32975            BIAŁYSTOK   \n",
       "\n",
       "             main_category  \n",
       "0                Komputery  \n",
       "1  Odzież, Obuwie, Dodatki  \n",
       "2              Dom i Ogród  \n",
       "3        Książki i Komiksy  \n",
       "4  Odzież, Obuwie, Dodatki  "
      ]
     },
     "execution_count": 3,
     "metadata": {},
     "output_type": "execute_result"
    }
   ],
   "source": [
    "allegro.head()"
   ]
  },
  {
   "cell_type": "markdown",
   "metadata": {},
   "source": [
    "## 1) Kodowanie zmiennych kategorycznych"
   ]
  },
  {
   "cell_type": "markdown",
   "metadata": {},
   "source": [
    "####  Target encoding"
   ]
  },
  {
   "cell_type": "code",
   "execution_count": 4,
   "metadata": {},
   "outputs": [
    {
     "data": {
      "text/plain": [
       "10056"
      ]
     },
     "execution_count": 4,
     "metadata": {},
     "output_type": "execute_result"
    }
   ],
   "source": [
    "len(allegro.it_location.unique())"
   ]
  },
  {
   "cell_type": "markdown",
   "metadata": {},
   "source": [
    "W przypadku gdy kodowana kolumna przyjmuje dużo różnych wartości one-hot encoding potrzebuje nieporównywalnie więcej pamięci niż target encoding."
   ]
  },
  {
   "cell_type": "code",
   "execution_count": 5,
   "metadata": {},
   "outputs": [],
   "source": [
    "import category_encoders as ce\n",
    "\n",
    "targetEncoder = ce.TargetEncoder()\n",
    "oneHotEncoder = ce.OneHotEncoder()\n",
    "ordinalEncoder = ce.OrdinalEncoder()\n",
    "basenEncoder = ce.BaseNEncoder(base=2)\n",
    "\n",
    "hashingEncoder = ce.HashingEncoder()"
   ]
  },
  {
   "cell_type": "code",
   "execution_count": 6,
   "metadata": {},
   "outputs": [
    {
     "data": {
      "text/html": [
       "<div>\n",
       "<style scoped>\n",
       "    .dataframe tbody tr th:only-of-type {\n",
       "        vertical-align: middle;\n",
       "    }\n",
       "\n",
       "    .dataframe tbody tr th {\n",
       "        vertical-align: top;\n",
       "    }\n",
       "\n",
       "    .dataframe thead th {\n",
       "        text-align: right;\n",
       "    }\n",
       "</style>\n",
       "<table border=\"1\" class=\"dataframe\">\n",
       "  <thead>\n",
       "    <tr style=\"text-align: right;\">\n",
       "      <th></th>\n",
       "      <th>it_location</th>\n",
       "      <th>val</th>\n",
       "    </tr>\n",
       "  </thead>\n",
       "  <tbody>\n",
       "    <tr>\n",
       "      <th>0</th>\n",
       "      <td>85.423398</td>\n",
       "      <td>Warszawa</td>\n",
       "    </tr>\n",
       "    <tr>\n",
       "      <th>1</th>\n",
       "      <td>85.423398</td>\n",
       "      <td>Warszawa</td>\n",
       "    </tr>\n",
       "    <tr>\n",
       "      <th>2</th>\n",
       "      <td>61.990914</td>\n",
       "      <td>Leszno</td>\n",
       "    </tr>\n",
       "    <tr>\n",
       "      <th>3</th>\n",
       "      <td>35.433365</td>\n",
       "      <td>Wola Krzysztoporska</td>\n",
       "    </tr>\n",
       "    <tr>\n",
       "      <th>4</th>\n",
       "      <td>117.191956</td>\n",
       "      <td>BIAŁYSTOK</td>\n",
       "    </tr>\n",
       "  </tbody>\n",
       "</table>\n",
       "</div>"
      ],
      "text/plain": [
       "   it_location                  val\n",
       "0    85.423398             Warszawa\n",
       "1    85.423398             Warszawa\n",
       "2    61.990914               Leszno\n",
       "3    35.433365  Wola Krzysztoporska\n",
       "4   117.191956            BIAŁYSTOK"
      ]
     },
     "execution_count": 6,
     "metadata": {},
     "output_type": "execute_result"
    }
   ],
   "source": [
    "targetEncoder.fit(allegro.it_location,allegro.price)\n",
    "it_location_encoded = targetEncoder.transform(allegro.it_location)\n",
    "it_location_encoded['val'] = allegro.it_location\n",
    "it_location_encoded.head()"
   ]
  },
  {
   "cell_type": "markdown",
   "metadata": {},
   "source": [
    "####  One-hot encoding"
   ]
  },
  {
   "cell_type": "code",
   "execution_count": 7,
   "metadata": {},
   "outputs": [
    {
     "data": {
      "text/html": [
       "<div>\n",
       "<style scoped>\n",
       "    .dataframe tbody tr th:only-of-type {\n",
       "        vertical-align: middle;\n",
       "    }\n",
       "\n",
       "    .dataframe tbody tr th {\n",
       "        vertical-align: top;\n",
       "    }\n",
       "\n",
       "    .dataframe thead th {\n",
       "        text-align: right;\n",
       "    }\n",
       "</style>\n",
       "<table border=\"1\" class=\"dataframe\">\n",
       "  <thead>\n",
       "    <tr style=\"text-align: right;\">\n",
       "      <th></th>\n",
       "      <th>main_category_1</th>\n",
       "      <th>main_category_2</th>\n",
       "      <th>main_category_3</th>\n",
       "      <th>main_category_4</th>\n",
       "      <th>main_category_5</th>\n",
       "      <th>main_category_6</th>\n",
       "      <th>main_category_7</th>\n",
       "      <th>main_category_8</th>\n",
       "      <th>main_category_9</th>\n",
       "      <th>main_category_10</th>\n",
       "      <th>...</th>\n",
       "      <th>main_category_19</th>\n",
       "      <th>main_category_20</th>\n",
       "      <th>main_category_21</th>\n",
       "      <th>main_category_22</th>\n",
       "      <th>main_category_23</th>\n",
       "      <th>main_category_24</th>\n",
       "      <th>main_category_25</th>\n",
       "      <th>main_category_26</th>\n",
       "      <th>main_category_27</th>\n",
       "      <th>val</th>\n",
       "    </tr>\n",
       "  </thead>\n",
       "  <tbody>\n",
       "    <tr>\n",
       "      <th>0</th>\n",
       "      <td>1</td>\n",
       "      <td>0</td>\n",
       "      <td>0</td>\n",
       "      <td>0</td>\n",
       "      <td>0</td>\n",
       "      <td>0</td>\n",
       "      <td>0</td>\n",
       "      <td>0</td>\n",
       "      <td>0</td>\n",
       "      <td>0</td>\n",
       "      <td>...</td>\n",
       "      <td>0</td>\n",
       "      <td>0</td>\n",
       "      <td>0</td>\n",
       "      <td>0</td>\n",
       "      <td>0</td>\n",
       "      <td>0</td>\n",
       "      <td>0</td>\n",
       "      <td>0</td>\n",
       "      <td>0</td>\n",
       "      <td>Komputery</td>\n",
       "    </tr>\n",
       "    <tr>\n",
       "      <th>1</th>\n",
       "      <td>0</td>\n",
       "      <td>1</td>\n",
       "      <td>0</td>\n",
       "      <td>0</td>\n",
       "      <td>0</td>\n",
       "      <td>0</td>\n",
       "      <td>0</td>\n",
       "      <td>0</td>\n",
       "      <td>0</td>\n",
       "      <td>0</td>\n",
       "      <td>...</td>\n",
       "      <td>0</td>\n",
       "      <td>0</td>\n",
       "      <td>0</td>\n",
       "      <td>0</td>\n",
       "      <td>0</td>\n",
       "      <td>0</td>\n",
       "      <td>0</td>\n",
       "      <td>0</td>\n",
       "      <td>0</td>\n",
       "      <td>Odzież, Obuwie, Dodatki</td>\n",
       "    </tr>\n",
       "    <tr>\n",
       "      <th>2</th>\n",
       "      <td>0</td>\n",
       "      <td>0</td>\n",
       "      <td>1</td>\n",
       "      <td>0</td>\n",
       "      <td>0</td>\n",
       "      <td>0</td>\n",
       "      <td>0</td>\n",
       "      <td>0</td>\n",
       "      <td>0</td>\n",
       "      <td>0</td>\n",
       "      <td>...</td>\n",
       "      <td>0</td>\n",
       "      <td>0</td>\n",
       "      <td>0</td>\n",
       "      <td>0</td>\n",
       "      <td>0</td>\n",
       "      <td>0</td>\n",
       "      <td>0</td>\n",
       "      <td>0</td>\n",
       "      <td>0</td>\n",
       "      <td>Dom i Ogród</td>\n",
       "    </tr>\n",
       "    <tr>\n",
       "      <th>3</th>\n",
       "      <td>0</td>\n",
       "      <td>0</td>\n",
       "      <td>0</td>\n",
       "      <td>1</td>\n",
       "      <td>0</td>\n",
       "      <td>0</td>\n",
       "      <td>0</td>\n",
       "      <td>0</td>\n",
       "      <td>0</td>\n",
       "      <td>0</td>\n",
       "      <td>...</td>\n",
       "      <td>0</td>\n",
       "      <td>0</td>\n",
       "      <td>0</td>\n",
       "      <td>0</td>\n",
       "      <td>0</td>\n",
       "      <td>0</td>\n",
       "      <td>0</td>\n",
       "      <td>0</td>\n",
       "      <td>0</td>\n",
       "      <td>Książki i Komiksy</td>\n",
       "    </tr>\n",
       "    <tr>\n",
       "      <th>4</th>\n",
       "      <td>0</td>\n",
       "      <td>1</td>\n",
       "      <td>0</td>\n",
       "      <td>0</td>\n",
       "      <td>0</td>\n",
       "      <td>0</td>\n",
       "      <td>0</td>\n",
       "      <td>0</td>\n",
       "      <td>0</td>\n",
       "      <td>0</td>\n",
       "      <td>...</td>\n",
       "      <td>0</td>\n",
       "      <td>0</td>\n",
       "      <td>0</td>\n",
       "      <td>0</td>\n",
       "      <td>0</td>\n",
       "      <td>0</td>\n",
       "      <td>0</td>\n",
       "      <td>0</td>\n",
       "      <td>0</td>\n",
       "      <td>Odzież, Obuwie, Dodatki</td>\n",
       "    </tr>\n",
       "  </tbody>\n",
       "</table>\n",
       "<p>5 rows × 28 columns</p>\n",
       "</div>"
      ],
      "text/plain": [
       "   main_category_1  main_category_2  main_category_3  main_category_4  \\\n",
       "0                1                0                0                0   \n",
       "1                0                1                0                0   \n",
       "2                0                0                1                0   \n",
       "3                0                0                0                1   \n",
       "4                0                1                0                0   \n",
       "\n",
       "   main_category_5  main_category_6  main_category_7  main_category_8  \\\n",
       "0                0                0                0                0   \n",
       "1                0                0                0                0   \n",
       "2                0                0                0                0   \n",
       "3                0                0                0                0   \n",
       "4                0                0                0                0   \n",
       "\n",
       "   main_category_9  main_category_10  ...  main_category_19  main_category_20  \\\n",
       "0                0                 0  ...                 0                 0   \n",
       "1                0                 0  ...                 0                 0   \n",
       "2                0                 0  ...                 0                 0   \n",
       "3                0                 0  ...                 0                 0   \n",
       "4                0                 0  ...                 0                 0   \n",
       "\n",
       "   main_category_21  main_category_22  main_category_23  main_category_24  \\\n",
       "0                 0                 0                 0                 0   \n",
       "1                 0                 0                 0                 0   \n",
       "2                 0                 0                 0                 0   \n",
       "3                 0                 0                 0                 0   \n",
       "4                 0                 0                 0                 0   \n",
       "\n",
       "   main_category_25  main_category_26  main_category_27  \\\n",
       "0                 0                 0                 0   \n",
       "1                 0                 0                 0   \n",
       "2                 0                 0                 0   \n",
       "3                 0                 0                 0   \n",
       "4                 0                 0                 0   \n",
       "\n",
       "                       val  \n",
       "0                Komputery  \n",
       "1  Odzież, Obuwie, Dodatki  \n",
       "2              Dom i Ogród  \n",
       "3        Książki i Komiksy  \n",
       "4  Odzież, Obuwie, Dodatki  \n",
       "\n",
       "[5 rows x 28 columns]"
      ]
     },
     "execution_count": 7,
     "metadata": {},
     "output_type": "execute_result"
    }
   ],
   "source": [
    "oneHotEncoder.fit(allegro.main_category,allegro.price)\n",
    "main_category_oneHot = oneHotEncoder.transform(allegro.main_category)\n",
    "main_category_oneHot['val'] = allegro.main_category\n",
    "main_category_oneHot.head()"
   ]
  },
  {
   "cell_type": "markdown",
   "metadata": {},
   "source": [
    "####  Base N encoding, base = 2 więc binary encoding"
   ]
  },
  {
   "cell_type": "code",
   "execution_count": 8,
   "metadata": {},
   "outputs": [
    {
     "data": {
      "text/html": [
       "<div>\n",
       "<style scoped>\n",
       "    .dataframe tbody tr th:only-of-type {\n",
       "        vertical-align: middle;\n",
       "    }\n",
       "\n",
       "    .dataframe tbody tr th {\n",
       "        vertical-align: top;\n",
       "    }\n",
       "\n",
       "    .dataframe thead th {\n",
       "        text-align: right;\n",
       "    }\n",
       "</style>\n",
       "<table border=\"1\" class=\"dataframe\">\n",
       "  <thead>\n",
       "    <tr style=\"text-align: right;\">\n",
       "      <th></th>\n",
       "      <th>main_category_0</th>\n",
       "      <th>main_category_1</th>\n",
       "      <th>main_category_2</th>\n",
       "      <th>main_category_3</th>\n",
       "      <th>main_category_4</th>\n",
       "      <th>main_category_5</th>\n",
       "      <th>val</th>\n",
       "    </tr>\n",
       "  </thead>\n",
       "  <tbody>\n",
       "    <tr>\n",
       "      <th>0</th>\n",
       "      <td>0</td>\n",
       "      <td>0</td>\n",
       "      <td>0</td>\n",
       "      <td>0</td>\n",
       "      <td>0</td>\n",
       "      <td>1</td>\n",
       "      <td>Komputery</td>\n",
       "    </tr>\n",
       "    <tr>\n",
       "      <th>1</th>\n",
       "      <td>0</td>\n",
       "      <td>0</td>\n",
       "      <td>0</td>\n",
       "      <td>0</td>\n",
       "      <td>1</td>\n",
       "      <td>0</td>\n",
       "      <td>Odzież, Obuwie, Dodatki</td>\n",
       "    </tr>\n",
       "    <tr>\n",
       "      <th>2</th>\n",
       "      <td>0</td>\n",
       "      <td>0</td>\n",
       "      <td>0</td>\n",
       "      <td>0</td>\n",
       "      <td>1</td>\n",
       "      <td>1</td>\n",
       "      <td>Dom i Ogród</td>\n",
       "    </tr>\n",
       "    <tr>\n",
       "      <th>3</th>\n",
       "      <td>0</td>\n",
       "      <td>0</td>\n",
       "      <td>0</td>\n",
       "      <td>1</td>\n",
       "      <td>0</td>\n",
       "      <td>0</td>\n",
       "      <td>Książki i Komiksy</td>\n",
       "    </tr>\n",
       "    <tr>\n",
       "      <th>4</th>\n",
       "      <td>0</td>\n",
       "      <td>0</td>\n",
       "      <td>0</td>\n",
       "      <td>0</td>\n",
       "      <td>1</td>\n",
       "      <td>0</td>\n",
       "      <td>Odzież, Obuwie, Dodatki</td>\n",
       "    </tr>\n",
       "  </tbody>\n",
       "</table>\n",
       "</div>"
      ],
      "text/plain": [
       "   main_category_0  main_category_1  main_category_2  main_category_3  \\\n",
       "0                0                0                0                0   \n",
       "1                0                0                0                0   \n",
       "2                0                0                0                0   \n",
       "3                0                0                0                1   \n",
       "4                0                0                0                0   \n",
       "\n",
       "   main_category_4  main_category_5                      val  \n",
       "0                0                1                Komputery  \n",
       "1                1                0  Odzież, Obuwie, Dodatki  \n",
       "2                1                1              Dom i Ogród  \n",
       "3                0                0        Książki i Komiksy  \n",
       "4                1                0  Odzież, Obuwie, Dodatki  "
      ]
     },
     "execution_count": 8,
     "metadata": {},
     "output_type": "execute_result"
    }
   ],
   "source": [
    "basenEncoder.fit(allegro.main_category,allegro.price)\n",
    "main_category_basen = basenEncoder.transform(allegro.main_category)\n",
    "main_category_basen['val'] = allegro.main_category\n",
    "main_category_basen.head()"
   ]
  },
  {
   "cell_type": "markdown",
   "metadata": {},
   "source": [
    "####  Ordinal encoding"
   ]
  },
  {
   "cell_type": "code",
   "execution_count": 9,
   "metadata": {},
   "outputs": [
    {
     "data": {
      "text/html": [
       "<div>\n",
       "<style scoped>\n",
       "    .dataframe tbody tr th:only-of-type {\n",
       "        vertical-align: middle;\n",
       "    }\n",
       "\n",
       "    .dataframe tbody tr th {\n",
       "        vertical-align: top;\n",
       "    }\n",
       "\n",
       "    .dataframe thead th {\n",
       "        text-align: right;\n",
       "    }\n",
       "</style>\n",
       "<table border=\"1\" class=\"dataframe\">\n",
       "  <thead>\n",
       "    <tr style=\"text-align: right;\">\n",
       "      <th></th>\n",
       "      <th>main_category</th>\n",
       "      <th>val</th>\n",
       "    </tr>\n",
       "  </thead>\n",
       "  <tbody>\n",
       "    <tr>\n",
       "      <th>0</th>\n",
       "      <td>1</td>\n",
       "      <td>Komputery</td>\n",
       "    </tr>\n",
       "    <tr>\n",
       "      <th>1</th>\n",
       "      <td>2</td>\n",
       "      <td>Odzież, Obuwie, Dodatki</td>\n",
       "    </tr>\n",
       "    <tr>\n",
       "      <th>2</th>\n",
       "      <td>3</td>\n",
       "      <td>Dom i Ogród</td>\n",
       "    </tr>\n",
       "    <tr>\n",
       "      <th>3</th>\n",
       "      <td>4</td>\n",
       "      <td>Książki i Komiksy</td>\n",
       "    </tr>\n",
       "    <tr>\n",
       "      <th>4</th>\n",
       "      <td>2</td>\n",
       "      <td>Odzież, Obuwie, Dodatki</td>\n",
       "    </tr>\n",
       "  </tbody>\n",
       "</table>\n",
       "</div>"
      ],
      "text/plain": [
       "   main_category                      val\n",
       "0              1                Komputery\n",
       "1              2  Odzież, Obuwie, Dodatki\n",
       "2              3              Dom i Ogród\n",
       "3              4        Książki i Komiksy\n",
       "4              2  Odzież, Obuwie, Dodatki"
      ]
     },
     "execution_count": 9,
     "metadata": {},
     "output_type": "execute_result"
    }
   ],
   "source": [
    "ordinalEncoder.fit(allegro.main_category,allegro.price)\n",
    "main_category_ordinal = ordinalEncoder.transform(allegro.main_category)\n",
    "main_category_ordinal['val'] = allegro.main_category\n",
    "main_category_ordinal.head()"
   ]
  },
  {
   "cell_type": "markdown",
   "metadata": {},
   "source": [
    "## 2) Uzupełnianie braków"
   ]
  },
  {
   "cell_type": "code",
   "execution_count": 10,
   "metadata": {},
   "outputs": [],
   "source": [
    "from sklearn.experimental import enable_iterative_imputer\n",
    "from sklearn.impute import IterativeImputer\n",
    "imp = IterativeImputer(max_iter=10, random_state=0)\n",
    "\n",
    "from sklearn.metrics import mean_squared_error"
   ]
  },
  {
   "cell_type": "code",
   "execution_count": 11,
   "metadata": {},
   "outputs": [],
   "source": [
    "short = allegro.loc[:,['price', 'it_seller_rating', 'it_quantity']]\n",
    "short_cut = short.copy()\n",
    "short_cut['it_seller_rating'] = short['it_seller_rating'].sample(frac=0.9)"
   ]
  },
  {
   "cell_type": "code",
   "execution_count": 12,
   "metadata": {},
   "outputs": [
    {
     "data": {
      "text/html": [
       "<div>\n",
       "<style scoped>\n",
       "    .dataframe tbody tr th:only-of-type {\n",
       "        vertical-align: middle;\n",
       "    }\n",
       "\n",
       "    .dataframe tbody tr th {\n",
       "        vertical-align: top;\n",
       "    }\n",
       "\n",
       "    .dataframe thead th {\n",
       "        text-align: right;\n",
       "    }\n",
       "</style>\n",
       "<table border=\"1\" class=\"dataframe\">\n",
       "  <thead>\n",
       "    <tr style=\"text-align: right;\">\n",
       "      <th></th>\n",
       "      <th>variable</th>\n",
       "      <th>non_missing_proc</th>\n",
       "    </tr>\n",
       "  </thead>\n",
       "  <tbody>\n",
       "    <tr>\n",
       "      <th>0</th>\n",
       "      <td>price</td>\n",
       "      <td>1.0</td>\n",
       "    </tr>\n",
       "    <tr>\n",
       "      <th>1</th>\n",
       "      <td>it_seller_rating</td>\n",
       "      <td>0.9</td>\n",
       "    </tr>\n",
       "    <tr>\n",
       "      <th>2</th>\n",
       "      <td>it_quantity</td>\n",
       "      <td>1.0</td>\n",
       "    </tr>\n",
       "  </tbody>\n",
       "</table>\n",
       "</div>"
      ],
      "text/plain": [
       "           variable  non_missing_proc\n",
       "0             price               1.0\n",
       "1  it_seller_rating               0.9\n",
       "2       it_quantity               1.0"
      ]
     },
     "execution_count": 12,
     "metadata": {},
     "output_type": "execute_result"
    }
   ],
   "source": [
    "data_na_perc = short_cut.count(axis = 0) / (short_cut.count(axis = 0) + short_cut.isnull().sum(axis = 0))\n",
    "all_data = pd.DataFrame(data_na_perc).reset_index()\n",
    "all_data.columns = ['variable','non_missing_proc']\n",
    "all_data"
   ]
  },
  {
   "cell_type": "markdown",
   "metadata": {},
   "source": [
    "Porównane wartości imputowane z oryginalnymi (miara RMSE), z użyciem Multivariate feature imputation."
   ]
  },
  {
   "cell_type": "code",
   "execution_count": 13,
   "metadata": {},
   "outputs": [
    {
     "data": {
      "text/plain": [
       "6757.501957527911"
      ]
     },
     "execution_count": 13,
     "metadata": {},
     "output_type": "execute_result"
    }
   ],
   "source": [
    "x = imp.fit_transform(short_cut)\n",
    "x = pd.DataFrame(x, columns= ['price', 'it_seller_rating', 'it_quantity'])\n",
    "mean_squared_error(short, x, squared = False )"
   ]
  },
  {
   "cell_type": "code",
   "execution_count": 14,
   "metadata": {},
   "outputs": [
    {
     "data": {
      "text/plain": [
       "[6662.535889061517,\n",
       " 6796.75334463567,\n",
       " 6750.897686299008,\n",
       " 6669.48423644212,\n",
       " 6725.67482177617,\n",
       " 6733.686137404595,\n",
       " 6654.317983119022,\n",
       " 6698.066270908439,\n",
       " 6764.564143094894,\n",
       " 6589.941295887478]"
      ]
     },
     "execution_count": 14,
     "metadata": {},
     "output_type": "execute_result"
    }
   ],
   "source": [
    "errors1=[]\n",
    "for z in range(10):\n",
    "    short_cut = short.copy()\n",
    "    short_cut['it_seller_rating'] = short['it_seller_rating'].sample(frac=0.9)\n",
    "    x = imp.fit_transform(short_cut)\n",
    "    x = pd.DataFrame(x, columns= ['price', 'it_seller_rating', 'it_quantity'])\n",
    "    errors1.append(mean_squared_error(short, x, squared = False ))\n",
    "errors1"
   ]
  },
  {
   "cell_type": "markdown",
   "metadata": {},
   "source": [
    "Odchylenie standardowe dla eksperymentu powtórzonego 10 razy."
   ]
  },
  {
   "cell_type": "code",
   "execution_count": 15,
   "metadata": {},
   "outputs": [
    {
     "data": {
      "text/plain": [
       "58.51637341585314"
      ]
     },
     "execution_count": 15,
     "metadata": {},
     "output_type": "execute_result"
    }
   ],
   "source": [
    "np.std(errors1)"
   ]
  },
  {
   "cell_type": "markdown",
   "metadata": {},
   "source": [
    "Analogiczna analiza gdy oprócz losowego usuwania 10% wartości z kolumny it_seller_rating usuniemy także losowo 10% ze zmiennej it_quantity."
   ]
  },
  {
   "cell_type": "code",
   "execution_count": 16,
   "metadata": {},
   "outputs": [
    {
     "data": {
      "text/plain": [
       "[7892.862543338636,\n",
       " 7862.418470252663,\n",
       " 8006.4267122870215,\n",
       " 7934.39571996186,\n",
       " 8051.407307827203,\n",
       " 8019.7512224756865,\n",
       " 7896.714747717103,\n",
       " 8046.910922068721,\n",
       " 7981.654562390871,\n",
       " 7974.56962225434]"
      ]
     },
     "execution_count": 16,
     "metadata": {},
     "output_type": "execute_result"
    }
   ],
   "source": [
    "errors2=[]\n",
    "for z in range(10):\n",
    "    short_cut = short.copy()\n",
    "    short_cut['it_seller_rating'] = short['it_seller_rating'].sample(frac=0.9)\n",
    "    short_cut['it_quantity'] = short['it_quantity'].sample(frac=0.9)\n",
    "    x = imp.fit_transform(short_cut)\n",
    "    x = pd.DataFrame(x, columns= ['price', 'it_seller_rating', 'it_quantity'])\n",
    "    errors2.append(mean_squared_error(short, x, squared = False ))\n",
    "errors2"
   ]
  },
  {
   "cell_type": "code",
   "execution_count": 17,
   "metadata": {},
   "outputs": [
    {
     "data": {
      "text/plain": [
       "63.68315478398922"
      ]
     },
     "execution_count": 17,
     "metadata": {},
     "output_type": "execute_result"
    }
   ],
   "source": [
    "np.std(errors2)"
   ]
  },
  {
   "cell_type": "code",
   "execution_count": 18,
   "metadata": {},
   "outputs": [
    {
     "data": {
      "image/png": "[encoded data removed]",
      "text/plain": [
       "<Figure size 432x288 with 1 Axes>"
      ]
     },
     "metadata": {
      "needs_background": "light"
     },
     "output_type": "display_data"
    }
   ],
   "source": [
    "plt.plot(errors1)\n",
    "plt.plot(errors2)\n",
    "plt.ylim(0, 10000)\n",
    "plt.xlabel(\"Test\")\n",
    "plt.ylabel(\"Wartość błędu\")\n",
    "plt.title(\"Porównanie wartości imputowanych metodą Multivariate feature imputation z oryginalnymi - miara RMSE\")\n",
    "plt.show()"
   ]
  },
  {
   "cell_type": "markdown",
   "metadata": {},
   "source": [
    "### Wnioski"
   ]
  },
  {
   "cell_type": "markdown",
   "metadata": {},
   "source": [
    "Jak można się było spodziewać wartości błędu są większę gdy braki są w dwóch kolumnach."
   ]
  }
 ],
 "metadata": {
  "kernelspec": {
   "display_name": "Python 3",
   "language": "python",
   "name": "python3"
  },
  "language_info": {
   "codemirror_mode": {
    "name": "ipython",
    "version": 3
   },
   "file_extension": ".py",
   "mimetype": "text/x-python",
   "name": "python",
   "nbconvert_exporter": "python",
   "pygments_lexer": "ipython3",
   "version": "3.8.1"
  }
 },
 "nbformat": 4,
 "nbformat_minor": 4
}
