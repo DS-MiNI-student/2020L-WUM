{
 "cells": [
  {
   "cell_type": "markdown",
   "metadata": {},
   "source": [
    "# Praca Domowa 3\n",
    "\n",
    "Autor: Paulina Przybyłek\n",
    "\n",
    "## Wczytanie danych i pakietów"
   ]
  },
  {
   "cell_type": "code",
   "execution_count": 33,
   "metadata": {},
   "outputs": [],
   "source": [
    "import pandas as pd\n",
    "import numpy as np\n",
    "\n",
    "import seaborn as sns\n",
    "import matplotlib.pyplot as plt\n",
    "\n",
    "import category_encoders as ce\n",
    "\n",
    "from sklearn.ensemble import RandomForestClassifier, GradientBoostingClassifier\n",
    "from sklearn.svm import LinearSVC\n",
    "from sklearn.linear_model import LinearRegression\n",
    "\n",
    "from sklearn.model_selection import GridSearchCV, train_test_split\n",
    "from sklearn import preprocessing\n",
    "\n",
    "from sklearn.metrics import recall_score, precision_score, roc_curve, roc_auc_score, plot_confusion_matrix, plot_precision_recall_curve, f1_score\n",
    "from sklearn.metrics import r2_score, mean_squared_error\n",
    "\n",
    "import warnings\n",
    "warnings.filterwarnings('ignore')"
   ]
  },
  {
   "cell_type": "markdown",
   "metadata": {},
   "source": [
    "Zaczniemy od wczytania danych i krótkiemu przyjrzenia się im. Wedle treści zadania dane powinny nie mieć braków i być gotowe do użycia."
   ]
  },
  {
   "cell_type": "code",
   "execution_count": 39,
   "metadata": {},
   "outputs": [
    {
     "data": {
      "text/html": [
       "<div>\n",
       "<style scoped>\n",
       "    .dataframe tbody tr th:only-of-type {\n",
       "        vertical-align: middle;\n",
       "    }\n",
       "\n",
       "    .dataframe tbody tr th {\n",
       "        vertical-align: top;\n",
       "    }\n",
       "\n",
       "    .dataframe thead th {\n",
       "        text-align: right;\n",
       "    }\n",
       "</style>\n",
       "<table border=\"1\" class=\"dataframe\">\n",
       "  <thead>\n",
       "    <tr style=\"text-align: right;\">\n",
       "      <th></th>\n",
       "      <th>MinTemp</th>\n",
       "      <th>MaxTemp</th>\n",
       "      <th>Rainfall</th>\n",
       "      <th>Evaporation</th>\n",
       "      <th>Sunshine</th>\n",
       "      <th>WindGustSpeed</th>\n",
       "      <th>WindSpeed9am</th>\n",
       "      <th>WindSpeed3pm</th>\n",
       "      <th>Humidity9am</th>\n",
       "      <th>Humidity3pm</th>\n",
       "      <th>Pressure9am</th>\n",
       "      <th>Pressure3pm</th>\n",
       "      <th>Cloud9am</th>\n",
       "      <th>Cloud3pm</th>\n",
       "      <th>Temp9am</th>\n",
       "      <th>Temp3pm</th>\n",
       "      <th>RainToday</th>\n",
       "      <th>RainTomorrow</th>\n",
       "    </tr>\n",
       "  </thead>\n",
       "  <tbody>\n",
       "    <tr>\n",
       "      <th>0</th>\n",
       "      <td>17.9</td>\n",
       "      <td>35.2</td>\n",
       "      <td>0.0</td>\n",
       "      <td>12.0</td>\n",
       "      <td>12.3</td>\n",
       "      <td>48.0</td>\n",
       "      <td>6.0</td>\n",
       "      <td>20.0</td>\n",
       "      <td>20.0</td>\n",
       "      <td>13.0</td>\n",
       "      <td>1006.3</td>\n",
       "      <td>1004.4</td>\n",
       "      <td>2.0</td>\n",
       "      <td>5.0</td>\n",
       "      <td>26.6</td>\n",
       "      <td>33.4</td>\n",
       "      <td>0</td>\n",
       "      <td>0</td>\n",
       "    </tr>\n",
       "    <tr>\n",
       "      <th>1</th>\n",
       "      <td>18.4</td>\n",
       "      <td>28.9</td>\n",
       "      <td>0.0</td>\n",
       "      <td>14.8</td>\n",
       "      <td>13.0</td>\n",
       "      <td>37.0</td>\n",
       "      <td>19.0</td>\n",
       "      <td>19.0</td>\n",
       "      <td>30.0</td>\n",
       "      <td>8.0</td>\n",
       "      <td>1012.9</td>\n",
       "      <td>1012.1</td>\n",
       "      <td>1.0</td>\n",
       "      <td>1.0</td>\n",
       "      <td>20.3</td>\n",
       "      <td>27.0</td>\n",
       "      <td>0</td>\n",
       "      <td>0</td>\n",
       "    </tr>\n",
       "    <tr>\n",
       "      <th>2</th>\n",
       "      <td>19.4</td>\n",
       "      <td>37.6</td>\n",
       "      <td>0.0</td>\n",
       "      <td>10.8</td>\n",
       "      <td>10.6</td>\n",
       "      <td>46.0</td>\n",
       "      <td>30.0</td>\n",
       "      <td>15.0</td>\n",
       "      <td>42.0</td>\n",
       "      <td>22.0</td>\n",
       "      <td>1012.3</td>\n",
       "      <td>1009.2</td>\n",
       "      <td>1.0</td>\n",
       "      <td>6.0</td>\n",
       "      <td>28.7</td>\n",
       "      <td>34.9</td>\n",
       "      <td>0</td>\n",
       "      <td>0</td>\n",
       "    </tr>\n",
       "    <tr>\n",
       "      <th>3</th>\n",
       "      <td>21.9</td>\n",
       "      <td>38.4</td>\n",
       "      <td>0.0</td>\n",
       "      <td>11.4</td>\n",
       "      <td>12.2</td>\n",
       "      <td>31.0</td>\n",
       "      <td>6.0</td>\n",
       "      <td>6.0</td>\n",
       "      <td>37.0</td>\n",
       "      <td>22.0</td>\n",
       "      <td>1012.7</td>\n",
       "      <td>1009.1</td>\n",
       "      <td>1.0</td>\n",
       "      <td>5.0</td>\n",
       "      <td>29.1</td>\n",
       "      <td>35.6</td>\n",
       "      <td>0</td>\n",
       "      <td>0</td>\n",
       "    </tr>\n",
       "    <tr>\n",
       "      <th>4</th>\n",
       "      <td>24.2</td>\n",
       "      <td>41.0</td>\n",
       "      <td>0.0</td>\n",
       "      <td>11.2</td>\n",
       "      <td>8.4</td>\n",
       "      <td>35.0</td>\n",
       "      <td>17.0</td>\n",
       "      <td>13.0</td>\n",
       "      <td>19.0</td>\n",
       "      <td>15.0</td>\n",
       "      <td>1010.7</td>\n",
       "      <td>1007.4</td>\n",
       "      <td>1.0</td>\n",
       "      <td>6.0</td>\n",
       "      <td>33.6</td>\n",
       "      <td>37.6</td>\n",
       "      <td>0</td>\n",
       "      <td>0</td>\n",
       "    </tr>\n",
       "  </tbody>\n",
       "</table>\n",
       "</div>"
      ],
      "text/plain": [
       "   MinTemp  MaxTemp  Rainfall  Evaporation  Sunshine  WindGustSpeed  \\\n",
       "0     17.9     35.2       0.0         12.0      12.3           48.0   \n",
       "1     18.4     28.9       0.0         14.8      13.0           37.0   \n",
       "2     19.4     37.6       0.0         10.8      10.6           46.0   \n",
       "3     21.9     38.4       0.0         11.4      12.2           31.0   \n",
       "4     24.2     41.0       0.0         11.2       8.4           35.0   \n",
       "\n",
       "   WindSpeed9am  WindSpeed3pm  Humidity9am  Humidity3pm  Pressure9am  \\\n",
       "0           6.0          20.0         20.0         13.0       1006.3   \n",
       "1          19.0          19.0         30.0          8.0       1012.9   \n",
       "2          30.0          15.0         42.0         22.0       1012.3   \n",
       "3           6.0           6.0         37.0         22.0       1012.7   \n",
       "4          17.0          13.0         19.0         15.0       1010.7   \n",
       "\n",
       "   Pressure3pm  Cloud9am  Cloud3pm  Temp9am  Temp3pm  RainToday  RainTomorrow  \n",
       "0       1004.4       2.0       5.0     26.6     33.4          0             0  \n",
       "1       1012.1       1.0       1.0     20.3     27.0          0             0  \n",
       "2       1009.2       1.0       6.0     28.7     34.9          0             0  \n",
       "3       1009.1       1.0       5.0     29.1     35.6          0             0  \n",
       "4       1007.4       1.0       6.0     33.6     37.6          0             0  "
      ]
     },
     "execution_count": 39,
     "metadata": {},
     "output_type": "execute_result"
    }
   ],
   "source": [
    "data = pd.read_csv('/home/paulinaprzybylek/Dokumenty/ml/2020L-WUM/Prace_domowe/Praca_domowa3/australia.csv')\n",
    "data.head(5)"
   ]
  },
  {
   "cell_type": "code",
   "execution_count": 6,
   "metadata": {},
   "outputs": [
    {
     "name": "stdout",
     "output_type": "stream",
     "text": [
      "<class 'pandas.core.frame.DataFrame'>\n",
      "RangeIndex: 56420 entries, 0 to 56419\n",
      "Data columns (total 18 columns):\n",
      " #   Column         Non-Null Count  Dtype  \n",
      "---  ------         --------------  -----  \n",
      " 0   MinTemp        56420 non-null  float64\n",
      " 1   MaxTemp        56420 non-null  float64\n",
      " 2   Rainfall       56420 non-null  float64\n",
      " 3   Evaporation    56420 non-null  float64\n",
      " 4   Sunshine       56420 non-null  float64\n",
      " 5   WindGustSpeed  56420 non-null  float64\n",
      " 6   WindSpeed9am   56420 non-null  float64\n",
      " 7   WindSpeed3pm   56420 non-null  float64\n",
      " 8   Humidity9am    56420 non-null  float64\n",
      " 9   Humidity3pm    56420 non-null  float64\n",
      " 10  Pressure9am    56420 non-null  float64\n",
      " 11  Pressure3pm    56420 non-null  float64\n",
      " 12  Cloud9am       56420 non-null  float64\n",
      " 13  Cloud3pm       56420 non-null  float64\n",
      " 14  Temp9am        56420 non-null  float64\n",
      " 15  Temp3pm        56420 non-null  float64\n",
      " 16  RainToday      56420 non-null  int64  \n",
      " 17  RainTomorrow   56420 non-null  int64  \n",
      "dtypes: float64(16), int64(2)\n",
      "memory usage: 7.7 MB\n"
     ]
    }
   ],
   "source": [
    "data.info()"
   ]
  },
  {
   "cell_type": "markdown",
   "metadata": {},
   "source": [
    "Mamy 18 kolumn, z czego większość o ciągłych zmiennych. Braki danych nie występują, a zmiennych nie musimy kodować. Przypomnijmy sobie o czym są kolumny w naszym zbiorze. Kolumny:\n",
    "\n",
    "+ MinTemp - Minimalna temperatura [C]\n",
    "+ MaxTemp - Maksymalna temperatura [C]\n",
    "+ Rainfall - Suma opadów [mm]\n",
    "+ Evaporation - Miara odparowywania [mm]\n",
    "+ Sunshine - Suma czasu nasłonecznienia [h]\n",
    "+ WindGustSpeed - Najwyższa prędkość wiatru [km/h]\n",
    "+ WindSpeed9am - Prędkość wiatru o 9:00 [km/h]\n",
    "+ WindSpeed3pm - Prędkość wiatru o 15:00 [km/h]\n",
    "+ Humidity9am - Wilgotność o 9:00 [%]\n",
    "+ Humidity3pm - Wilgotność o 15:00 [%]\n",
    "+ Pressure9am - Ciśnienie atmosferyczne o 9:00 [hPa]\n",
    "+ Pressure3pm - Ciśnienie atmosferyczne o 15:00 [hPa]\n",
    "+ Cloud9am - Zachmurzenie o 9:00 [skala: 0 - słońce, 8 - całkowite zachmurzenie]\n",
    "+ Cloud3pm - Zachmurzenie o 15:00 [skala: 0 - słońce, 8 - całkowite zachmurzenie]\n",
    "+ Temp9am - Temperatura o 9:00 [C]\n",
    "+ Temp3pm - Temperatura o 15:00 [C]\n",
    "+ RainToday - Czy dzisiaj padał deszcz [0 - nie, 1 - tak]\n",
    "+ RainTomorrow - Czy jutro będzie padał deszcz [0 - nie, 1 - tak]\n",
    "\n",
    "Zmienną celu jest RainTomorrow i to właśnie, czyli czy następnego dnia będzie padał deszcz czy też nie, chcemy przewidywać. \n",
    "\n",
    "Zadanie polega na wytrenowaniu trzech modeli klasyfikacyjnych i sprawdzenia ich trzeba różnymi miarami oraz wyboru najlepszego klasyfikatora. Zacznijmy od wyboru miar, jakie zamierzamy stosować. W tym celu sprawdźmy czy nasz zbiór jest zblilansowany."
   ]
  },
  {
   "cell_type": "code",
   "execution_count": 7,
   "metadata": {},
   "outputs": [
    {
     "data": {
      "text/plain": [
       "<matplotlib.axes._subplots.AxesSubplot at 0x7f95611d4dd8>"
      ]
     },
     "execution_count": 7,
     "metadata": {},
     "output_type": "execute_result"
    },
    {
     "data": {
      "image/png": "[encoded data removed]",
      "text/plain": [
       "<Figure size 432x288 with 1 Axes>"
      ]
     },
     "metadata": {
      "needs_background": "light"
     },
     "output_type": "display_data"
    }
   ],
   "source": [
    "pl = sns.countplot(x='RainTomorrow', data=data, palette='RdBu')\n",
    "pl.set_ylabel('')\n",
    "pl.set_title('Proporcje zmiennej celu')\n",
    "pl"
   ]
  },
  {
   "cell_type": "markdown",
   "metadata": {},
   "source": [
    "Jak widać zbiór danych nie jest zbilansowany, więc nie wykorzystamy miary accuracy. Najlepiej będzie sprawdzić **recall** i **precision**, do tego wykorzystamy jeszcze miarę **AUC**. Możliwe, że podczas pracy okaże się, że warto będzie sprawdzić też inne miary."
   ]
  },
  {
   "cell_type": "markdown",
   "metadata": {},
   "source": [
    "## Podział na zbiór treningowy i testowy"
   ]
  },
  {
   "cell_type": "code",
   "execution_count": 8,
   "metadata": {},
   "outputs": [],
   "source": [
    "# dzielimy zbiór na dwie części - z i bez kolumny ze zmienną celu\n",
    "y = np.array(data['RainTomorrow'])\n",
    "X = data.drop(['RainTomorrow'],axis=1)\n",
    "\n",
    "# podział na zbiór treningowy i testowy\n",
    "data_train, data_test, target_train, target_test = train_test_split(X, y, test_size=0.2, random_state=123)"
   ]
  },
  {
   "cell_type": "code",
   "execution_count": 9,
   "metadata": {},
   "outputs": [
    {
     "name": "stdout",
     "output_type": "stream",
     "text": [
      "[[    0 35207]\n",
      " [    1  9929]]\n",
      "[[   0 8786]\n",
      " [   1 2498]]\n"
     ]
    }
   ],
   "source": [
    "def np_counts(X):\n",
    "    unique, counts = np.unique(X, return_counts=True)\n",
    "    print(np.asarray((unique, counts)).T)\n",
    "\n",
    "np_counts(target_train)\n",
    "np_counts(target_test)"
   ]
  },
  {
   "cell_type": "markdown",
   "metadata": {},
   "source": [
    "Treningowy zbiór zawiera 80% danych. Oczywiście podział jest odpowiedni względem zmiennej celu. Dodatkowo warto byłoby jeszcze dla pewności przesklalować dane."
   ]
  },
  {
   "cell_type": "code",
   "execution_count": 10,
   "metadata": {},
   "outputs": [],
   "source": [
    "std_scaler = preprocessing.StandardScaler(copy=False)\n",
    "data_train = std_scaler.fit_transform(data_train) \n",
    "data_test = std_scaler.transform(data_test)"
   ]
  },
  {
   "cell_type": "markdown",
   "metadata": {},
   "source": [
    "## Uczenie maszynowe\n",
    "\n",
    "Modele, na których wytrenujemy nasz zbiór to:\n",
    "\n",
    "+ Random Forest\n",
    "+ Gradient Boosting\n",
    "+ SVM\n",
    "\n",
    "Najpierw wytrenujemy wszystkie modele a dopiero na końcu zrobimy wspólne podsumowanie wyników i zdecydujemy, który klasyfikator wypadł najlepiej.\n",
    "\n",
    "Funkcje pomocnicze:"
   ]
  },
  {
   "cell_type": "code",
   "execution_count": 11,
   "metadata": {},
   "outputs": [],
   "source": [
    "# tworzymy pomocniczą funkcję to wyboru parametrów\n",
    "def parameter_search(model, param):\n",
    "    \n",
    "    cvr = GridSearchCV(model,param_grid = param, cv = 5)\n",
    "    cvr.fit(data_train,target_train)\n",
    "    \n",
    "    # zobaczmy najlepszy wynik\n",
    "    print(f\"Score: {cvr.best_score_}\")\n",
    "    \n",
    "    # a teraz jakie to parametry są najlepsze\n",
    "    print(f\"Best parameters: {cvr.best_params_}\")"
   ]
  },
  {
   "cell_type": "code",
   "execution_count": 12,
   "metadata": {},
   "outputs": [],
   "source": [
    "# tworzenie funkcji pomocniczej do przewidywania zmiennej (uczenia maszynowanego dla wybranego modelu)\n",
    "def data_ml(model):\n",
    "    \n",
    "    #trenowanie modelu\n",
    "    model.fit(data_train, target_train)\n",
    "    # predykcja \n",
    "    predict_class = model.predict(data_test)\n",
    "    predict_proba = model.predict_proba(data_test)[:, 1]\n",
    "    \n",
    "    return predict_class, predict_proba"
   ]
  },
  {
   "cell_type": "markdown",
   "metadata": {},
   "source": [
    "### Model I - Random Forest\n",
    "\n",
    "Pierwszym modelem jakiego użyjemy jest las losowy. Hiperparametrów jest całkiem sporo, więc skupimy się na kilku wybranych:\n",
    "\n",
    "+ n_estimators - liczba drzew w lesie (domyślnie 100)\n",
    "+ criterion - typ podziału danych - Gini (jest domyślna) lub Entropia\n",
    "+ max_depth - maksymalna głębokość drzewa - ważna składowa, drzewa należy przycinać, aby nie doszło do przeuczenia\n",
    "\n",
    "Resztę parametrów pozostawiam domyślną - stosowanie bootstrap, min_samples_split=2 (minimalna ilość próbki zmiennych do podziału), min_smaples_leaf=1 (minimalna liczba próbki w liściu - chociaż nie chcemy doprowadzić do tego, aby liście miały po jednej wartości, ale to można w miarę zrobić za pomocą przycinania drzew) itd.\n"
   ]
  },
  {
   "cell_type": "code",
   "execution_count": 11,
   "metadata": {},
   "outputs": [
    {
     "name": "stdout",
     "output_type": "stream",
     "text": [
      "Score: 0.8583170883156173\n",
      "Best parameters: {'criterion': 'entropy', 'max_depth': 12, 'n_estimators': 200}\n"
     ]
    }
   ],
   "source": [
    "# wybieramy model lasu i ustawiamy ziarno losowości\n",
    "rf = RandomForestClassifier(random_state = 0)\n",
    "# będziemy stroić parametry\n",
    "param_grid_rf = { \n",
    "    'n_estimators': [50, 100, 200, 300], \n",
    "    'criterion' :['gini', 'entropy'],\n",
    "    'max_depth' : [6,8,10,12]\n",
    "}\n",
    "parameter_search(rf, param_grid_rf)"
   ]
  },
  {
   "cell_type": "markdown",
   "metadata": {},
   "source": [
    "Wybór parametrów nie był zbyt duży z powodu przeciążenia mojego komputera, jednak dla tych trzech parametrów kilka opcji zostało sprawdzonych i wybrane z nich najlepsze. "
   ]
  },
  {
   "cell_type": "code",
   "execution_count": 13,
   "metadata": {},
   "outputs": [],
   "source": [
    "# trenowanie modelu dla najlepszych parametrów\n",
    "model_rf = RandomForestClassifier(n_estimators = 200, criterion = 'entropy', max_depth = 12, random_state = 0)\n",
    "predict_class_rf, predict_proba_rf = data_ml(model_rf)"
   ]
  },
  {
   "cell_type": "markdown",
   "metadata": {},
   "source": [
    "### Model II - GradientBoosting\n",
    "\n",
    "Wykorzystamy zamiast XGBooost wbudowaną w sklearn metodę GradientBoostingClassifier. Jak poprzednio wybierzemy tylko kilka parametrów do dostrojenia, a resztę zostawimy domyślną:\n",
    "\n",
    "+ loss - funkcja straty do optymalizacji - 'deviance' (domyślne), 'exponential'\n",
    "+ learning_rate - wskaźnik uczenia się zmniejsza wkład każdego drzewa o daną wartość - domyślnie 0.1 (float)\n",
    "+ subsample - część obserwacji wykorzystywana do podpróbkowania na każdym etapie - domyślnie 1.0 (czyli używamy wszytskich obserwacji)\n",
    "+ max_features - liczba cech brana pod uwagę przy wyborze najlepszego podziału zmiennych - skupimy się na trzech: jeśli 'sqrt', to max_features=sqrt(n_features), jeśli 'log2', to max_features=log2(n_features), jeśli None to max_features=n_features\n",
    "\n",
    "Learning_rate, subsample mają wpływ na n_estimators - który oznacza liczbę etapów boostingu, domyślnie jako 100, stąd wybrałam je do strojenia, rezygnując z innych także ciekawych parametrów."
   ]
  },
  {
   "cell_type": "code",
   "execution_count": 16,
   "metadata": {},
   "outputs": [
    {
     "name": "stdout",
     "output_type": "stream",
     "text": [
      "Score: 0.8579404380272269\n",
      "Best parameters: {'learning_rate': 0.4, 'loss': 'exponential', 'max_features': None, 'subsample': 1.0}\n"
     ]
    }
   ],
   "source": [
    "# wybieramy model gradient boosting i ustawiamy ziarno losowości\n",
    "gb = GradientBoostingClassifier(random_state = 0)\n",
    "# będziemy stroić parametry jak poprzednio\n",
    "param_grid_gb = { \n",
    "    'loss': ['deviance', 'exponential'],\n",
    "    'learning_rate': [0.1, 0.4, 0.7],\n",
    "    'subsample': [0.5 , 0.8, 1.0],\n",
    "    'max_features' : [None, 'log2', 'sqrt']\n",
    "}\n",
    "parameter_search(gb, param_grid_gb)"
   ]
  },
  {
   "cell_type": "markdown",
   "metadata": {},
   "source": [
    "Max_features i subsample pozostały domyślne, dopasujmy teraz nasz model z parametrami i dokonajmy predykcji."
   ]
  },
  {
   "cell_type": "code",
   "execution_count": 14,
   "metadata": {},
   "outputs": [],
   "source": [
    "# trenowanie modelu dla najlepszych parametrów\n",
    "model_gb = GradientBoostingClassifier(learning_rate = 0.4, loss = 'exponential', max_features = None, subsample = 1.0 , random_state = 0)\n",
    "predict_class_gb, predict_proba_gb = data_ml(model_gb)"
   ]
  },
  {
   "cell_type": "markdown",
   "metadata": {},
   "source": [
    "### Model III - SVM\n",
    "\n",
    "Tutaj także skorzystamy z metody z pakietu sklearn - LinearSVC. Jest to klasyfikacja wektorowa, która ma wyznaczyć linię najlepiej oddzielającą klasy w naszym zbiorze. Zmiana niektórych parametrów może spowodować, że metoda będzie zachowywać się podobnie co SVC. Wybrane parametry:\n",
    "\n",
    "+ penalty - określa normę stosowaną w penalizacji - 'l2' (domyślnie, stosowana w SVC), 'l1' (prowadzi do rzadkich wektorów)\n",
    "+ loss - funkcja straty - 'hinge' (stosowana w SVC), 'squared_hinge' (domyślna)\n",
    "+ C - parametr regularyzacji, siła regularyzacji jest odwrotnie proporcjonalna do C - domyślnie 1.0 (float)\n",
    "+ class_weight - wagi klas - można ustawić tryb ‘balanced’\n",
    "\n",
    "Reszta parametrów zostaje domyślna."
   ]
  },
  {
   "cell_type": "code",
   "execution_count": 12,
   "metadata": {},
   "outputs": [
    {
     "name": "stdout",
     "output_type": "stream",
     "text": [
      "Score: 0.8542848513485783\n",
      "Best parameters: {'C': 1.0, 'class_weight': None, 'loss': 'squared_hinge', 'penalty': 'l2'}\n"
     ]
    }
   ],
   "source": [
    "# wybieramy model wektorowej klasyfikacji i ustawiamy ziarno losowości\n",
    "svm = LinearSVC(random_state = 0)\n",
    "# będziemy stroić parametry jak poprzednio\n",
    "param_grid_svm = { \n",
    "    'penalty': ['l1', 'l2'], \n",
    "    'loss' : ['hinge', 'squared_hinge'],\n",
    "    'C': [0.5, 1.0, 1.5],\n",
    "    'class_weight' : [None, 'balanced']\n",
    "}\n",
    "parameter_search(svm, param_grid_svm)"
   ]
  },
  {
   "cell_type": "markdown",
   "metadata": {},
   "source": [
    "Jak możemy zauważyć - wagi klas bez ustawień a C, loss i penalty takie jak domyślne ustawione okazały się najlepsze przy tym ziarnie. (komentarz, dla wcześniej ustalonego ziarna lepsze były wartości domyślne dla SVC, ale miały nadal podobny score)"
   ]
  },
  {
   "cell_type": "code",
   "execution_count": 15,
   "metadata": {},
   "outputs": [],
   "source": [
    "# trenowanie modelu dla najlepszych parametrów\n",
    "model_svm = LinearSVC(penalty = 'l2', loss = 'squared_hinge', C = 1.0, class_weight = None, random_state = 0)\n",
    "#trenowanie modelu\n",
    "model_svm.fit(data_train, target_train)\n",
    "# predykcja klasy (prawdopodobieństwa nie występuje)\n",
    "predict_class_svm = model_svm.predict(data_test)"
   ]
  },
  {
   "cell_type": "markdown",
   "metadata": {},
   "source": [
    "Biorąc pod uwagę to, że dla tego modelu nie mamy predykcji prawdopodobieństwa - nie będzie możliwe wykorzystanie miary AUC, gdzie byśmy podali dla wszystkich trzech klasyfikatorów przewidywane prawdopodobieństwo. Istnieje jakiś żmudny sposób, aby samemu takie prawdopodobieństwa obliczyć (źródło internet), jednak nie proponowane jest porównywanie go z innymi klasyfikatorami, które mogą obliczyć same prawdopodobieństwo.\n",
    "\n",
    "Nie będziemy jednak zmieniać klasyfikatora, a jedynie porównanie jego z innymi wykonamy z pominięciem AUC, natomiast zastosujemy jakąś inną miarę."
   ]
  },
  {
   "cell_type": "markdown",
   "metadata": {},
   "source": [
    "### Porównanie wykorzystanych modeli\n",
    "\n",
    "Przypominając do sprawdzenia jakości klasyfikatorów wykorzystamy trzy miary: **recall** - ile obserwacji pozytywnych został zaklasyfikowany do tej klasy, **precision** - ile z przewidzianych jest faktycznie pozytywnych, **AUC** - pole pod krzywą ROC. Do porównania z klasyfikatorem LinearSVC wykorzystamy inne miary, przedstawione poniżej.\n",
    "\n",
    "#### Precision, recall, F1"
   ]
  },
  {
   "cell_type": "code",
   "execution_count": 16,
   "metadata": {},
   "outputs": [],
   "source": [
    "# funkcja pomocnicza zwracająca precision, recall i F1 dla danej predykcji\n",
    "def metrics_prec_rec_f1(target_pred):\n",
    "    prec = precision_score(target_test, target_pred)\n",
    "    rec = recall_score(target_test, target_pred)\n",
    "    f1 = f1_score(target_test, target_pred)\n",
    "    return prec, rec, f1"
   ]
  },
  {
   "cell_type": "code",
   "execution_count": 29,
   "metadata": {},
   "outputs": [
    {
     "data": {
      "text/html": [
       "<div>\n",
       "<style scoped>\n",
       "    .dataframe tbody tr th:only-of-type {\n",
       "        vertical-align: middle;\n",
       "    }\n",
       "\n",
       "    .dataframe tbody tr th {\n",
       "        vertical-align: top;\n",
       "    }\n",
       "\n",
       "    .dataframe thead th {\n",
       "        text-align: right;\n",
       "    }\n",
       "</style>\n",
       "<table border=\"1\" class=\"dataframe\">\n",
       "  <thead>\n",
       "    <tr style=\"text-align: right;\">\n",
       "      <th></th>\n",
       "      <th>model</th>\n",
       "      <th>precision</th>\n",
       "      <th>recall</th>\n",
       "      <th>f1</th>\n",
       "    </tr>\n",
       "  </thead>\n",
       "  <tbody>\n",
       "    <tr>\n",
       "      <th>0</th>\n",
       "      <td>Random Forest</td>\n",
       "      <td>0.767544</td>\n",
       "      <td>0.490392</td>\n",
       "      <td>0.598437</td>\n",
       "    </tr>\n",
       "    <tr>\n",
       "      <th>1</th>\n",
       "      <td>Gradient Boosting</td>\n",
       "      <td>0.741585</td>\n",
       "      <td>0.546837</td>\n",
       "      <td>0.629493</td>\n",
       "    </tr>\n",
       "    <tr>\n",
       "      <th>2</th>\n",
       "      <td>LinearSVC</td>\n",
       "      <td>0.742009</td>\n",
       "      <td>0.520416</td>\n",
       "      <td>0.611765</td>\n",
       "    </tr>\n",
       "  </tbody>\n",
       "</table>\n",
       "</div>"
      ],
      "text/plain": [
       "               model  precision    recall        f1\n",
       "0      Random Forest   0.767544  0.490392  0.598437\n",
       "1  Gradient Boosting   0.741585  0.546837  0.629493\n",
       "2          LinearSVC   0.742009  0.520416  0.611765"
      ]
     },
     "execution_count": 29,
     "metadata": {},
     "output_type": "execute_result"
    }
   ],
   "source": [
    "p1, r1, f1 = metrics_prec_rec_f1(predict_class_rf)\n",
    "p2, r2, f2 = metrics_prec_rec_f1(predict_class_gb)\n",
    "p3, r3, f3 = metrics_prec_rec_f1(predict_class_svm)\n",
    "pd.DataFrame({'model':['Random Forest', 'Gradient Boosting', 'LinearSVC'],\n",
    "             'precision': [p1, p2, p3], 'recall': [r1, r2, r3], 'f1': [f1, f2, f3]})"
   ]
  },
  {
   "cell_type": "markdown",
   "metadata": {},
   "source": [
    "Wszystkie modele mają precision powyżej 70%, najlepiej sprawdził się Random forest, natomiast patrząc na recall i F1 to najlepszym modelem okazał Gradient Boosting. Można na niektórych stronach wyczytać, że XGBoost jest lepszym algorytmem od Gradient Boostingu i wiele osób jest za używaniem właśnie jego, bo jest dokładniejzsy. Sprawdźmy jak to przejawia się dla naszego modelu:"
   ]
  },
  {
   "cell_type": "code",
   "execution_count": 18,
   "metadata": {},
   "outputs": [],
   "source": [
    "from xgboost import XGBClassifier\n",
    "# w estymatorze jest wiele różnych parametrów, które różnią się od tych ustawionych w GradientBoostingu\n",
    "# dlatego zastosujemy jedynie parametry, które udało mi się znaleźć, a reszta będzie domyślna\n",
    "model_xgb = XGBClassifier(learning_rate=0.4, subsample = 1.0, random_state = 0)\n",
    "predict_class_xgb, predict_proba_xgb = data_ml(model_xgb)"
   ]
  },
  {
   "cell_type": "code",
   "execution_count": 22,
   "metadata": {},
   "outputs": [
    {
     "name": "stdout",
     "output_type": "stream",
     "text": [
      "XGBoost miary.\n",
      "Precision: 0.7329485834207765 \n",
      "Recall: 0.5592473979183347 \n",
      "F1: 0.634423251589464\n"
     ]
    }
   ],
   "source": [
    "p4, r4, f4 = metrics_prec_rec_f1(predict_class_xgb)\n",
    "print('XGBoost miary.\\nPrecision:',p4, '\\nRecall:', r4, '\\nF1:', f4)"
   ]
  },
  {
   "cell_type": "markdown",
   "metadata": {},
   "source": [
    "Sprawdzając model XGBoost i porównując go z GradienBoosting możemy zauważyć, że wyniki te są minimalnie lepsze (pomijając precision). Może jest trochę lepszy tylko, ale zawsze nawet minimalnie lepsza przewidywalność zmienia jakość algorytmu, więc uważam że warto go stosować. Nie znaczy to jednak, że model z pakietu sklearn jest gorszy i należy zrezygnować z niego - poza tym sprawdziliśmy je tylko na jednych danych. (jednak po przyjrzeniu się parametrom XGBoost wydaje mi się, że jest tam więcej możliwości i ciekawe może być ich strojenie).\n",
    "\n",
    "Wracając do naszych modeli i wyboru najlepszego, to patrząc na sprawdzone miary to właśnie Gradient Boosting byłby najlepszym wyborem. Nawiązując do przewidywania to dobrze patrzeć na wszystkie miary w zależności od danych i tego co chcemy uzyskać, jednak w przypadku przewidywania deszczu to uważam, że recall byłby najlepszy (albo F1), ponieważ bierze on pod uwagę $TP/(TP+FN)$ i jest on miarą na której bym się opierała, gdyż uwzględnia w mianowniku dni, gdzie był deszcz a algorytm tego nie przewidział."
   ]
  },
  {
   "cell_type": "code",
   "execution_count": 23,
   "metadata": {},
   "outputs": [
    {
     "data": {
      "text/plain": [
       "Text(0.5, 1.0, 'Krzywa Precision-Recall dla LinearSVC')"
      ]
     },
     "execution_count": 23,
     "metadata": {},
     "output_type": "execute_result"
    },
    {
     "data": {
      "image/png": "[encoded data removed]",
      "text/plain": [
       "<Figure size 1152x432 with 3 Axes>"
      ]
     },
     "metadata": {
      "needs_background": "light"
     },
     "output_type": "display_data"
    }
   ],
   "source": [
    "# narysujemy krzywe precision recall dla wybranych modeli\n",
    "fig, ((ax1, ax2, ax3)) = plt.subplots(nrows=1, ncols=3, figsize=(16, 6))\n",
    "plot_precision_recall_curve(model_rf, data_test, target_test, ax = ax1).ax_.set_title('Krzywa Precision-Recall dla RandomForest')\n",
    "plot_precision_recall_curve(model_gb, data_test, target_test, ax = ax2).ax_.set_title('Krzywa Precision-Recall dla GradientBoosting')\n",
    "plot_precision_recall_curve(model_svm, data_test, target_test, ax = ax3).ax_.set_title('Krzywa Precision-Recall dla LinearSVC')"
   ]
  },
  {
   "cell_type": "markdown",
   "metadata": {},
   "source": [
    "Możemy jeszcze nasze miary przedstawić w postaci wykresu, chociaż średnia prezycja (AP) jest podobna wszędzie, to Gradient Boosting przejawia się jako lepszy model."
   ]
  },
  {
   "cell_type": "markdown",
   "metadata": {},
   "source": [
    "#### Confusion matrix\n",
    "\n",
    "Teoretycznie patrząc na miary precision i recall mogliśmy zauważyć jak wyglądało klasyfikowanie do pozytywnych wartości, ale wykorzystamy jeszcze macierz błędów, aby sprawdzić kolejną z miar."
   ]
  },
  {
   "cell_type": "code",
   "execution_count": 26,
   "metadata": {},
   "outputs": [
    {
     "data": {
      "text/plain": [
       "Text(0.5, 1.0, 'Macierz błędów dla LinearSVC')"
      ]
     },
     "execution_count": 26,
     "metadata": {},
     "output_type": "execute_result"
    },
    {
     "data": {
      "image/png": "[encoded data removed]",
      "text/plain": [
       "<Figure size 1152x432 with 6 Axes>"
      ]
     },
     "metadata": {
      "needs_background": "light"
     },
     "output_type": "display_data"
    }
   ],
   "source": [
    "fig, ((ax1, ax2, ax3)) = plt.subplots(nrows=1, ncols=3, figsize=(16, 6))\n",
    "plot_confusion_matrix(model_rf, data_test, target_test, normalize = 'all', values_format=\".4g\", ax = ax1).ax_.set_title('Macierz błędów dla RandomForest')\n",
    "plot_confusion_matrix(model_gb, data_test, target_test, normalize = 'all', values_format=\".4g\", ax = ax2).ax_.set_title('Macierz błędów dla GradientBoosting')\n",
    "plot_confusion_matrix(model_svm, data_test, target_test, normalize = 'all', values_format=\".4g\", ax = ax3).ax_.set_title('Macierz błędów dla LinearSVC')"
   ]
  },
  {
   "cell_type": "markdown",
   "metadata": {},
   "source": [
    "Macierze błędów są moim zdaniem bardzo ładne i łatwo można z nich oczytywać dane. Dowiedzieliśmy się z poprzednich miar, że to Gradient Boosting jest najlepszym modelem i tutaj nic się nie zminiło (gdyż tamte miary bazują na zaklasyfikowaniu danych do zmiennych). Jednak dzięki takim macierzom możemy porównać sklasyfikowane dane i np. Random Forest rzadziej niż inne modele przyporządkował deszcz w dzień niedeszczowy, chociaż z drugiej strony przewidział też częściej brak deszu, gdy ten deszcz był."
   ]
  },
  {
   "cell_type": "markdown",
   "metadata": {},
   "source": [
    "#### ROC i AUC\n",
    "\n",
    "Nie możemy tutaj sprawdzić LinearSVC, jednak chciałabym pokazać krzywe ROC dla pozostałych model, gdy już zostały poczone predykcje prawdopodobieństwa."
   ]
  },
  {
   "cell_type": "code",
   "execution_count": 31,
   "metadata": {},
   "outputs": [
    {
     "name": "stdout",
     "output_type": "stream",
     "text": [
      "AUC dla RandomForest: 0.895923932407934\n",
      "AUC dla GradientBoosting: 0.8923150812933526\n",
      "AUC dla XGBoost: 0.890318628679406\n"
     ]
    }
   ],
   "source": [
    "print('AUC dla RandomForest:', roc_auc_score(target_test, predict_proba_rf))\n",
    "print('AUC dla GradientBoosting:', roc_auc_score(target_test, predict_proba_gb))\n",
    "print('AUC dla XGBoost:', roc_auc_score(target_test, predict_proba_xgb))"
   ]
  },
  {
   "cell_type": "markdown",
   "metadata": {},
   "source": [
    "Policzyliśmy pole pod krzywą dla trzech modeli (dodałam XGBoost, bo został policzony więc można by go porównać), wszystkie są podobne, największe pole ma jednak Random forest, a najmniejsze XGBoost."
   ]
  },
  {
   "cell_type": "code",
   "execution_count": 35,
   "metadata": {},
   "outputs": [
    {
     "data": {
      "image/png": "[encoded data removed]",
      "text/plain": [
       "<Figure size 432x288 with 1 Axes>"
      ]
     },
     "metadata": {
      "needs_background": "light"
     },
     "output_type": "display_data"
    }
   ],
   "source": [
    "# krzywa ROC dla wybranych modeli\n",
    "fpr1, tpr1, thresholds1 = roc_curve(target_test, predict_proba_rf)\n",
    "fpr2, tpr2, thresholds2 = roc_curve(target_test, predict_proba_gb)\n",
    "fpr3, tpr3, thresholds3 = roc_curve(target_test, predict_proba_xgb)\n",
    "\n",
    "plt.figure()\n",
    "plt.plot([0, 1], [0, 1], 'k--')\n",
    "plt.plot(fpr1, tpr1, label='Random Forest')\n",
    "plt.plot(fpr2, tpr2, label='Gradient Boosting')\n",
    "plt.plot(fpr3, tpr3, label='XGBoost')\n",
    "plt.xlabel('False positive rate')\n",
    "plt.ylabel('True positive rate')\n",
    "plt.title('Krzywa ROC dla wybranych modeli')\n",
    "plt.legend(loc='best')\n",
    "plt.show()"
   ]
  },
  {
   "cell_type": "markdown",
   "metadata": {},
   "source": [
    "Jak widzieliśmy wyżej wyniki AUC tak jasne było, że krzywe się na siebie nałożą. Chociaż przy wpatrywaniu się można dotrzeć, że inne kolory przebijają zielony XGBoost, tak lepiej patrzeć na wyniki AUC zamiast tracić wzrok dla tej minimalnej różnicy."
   ]
  },
  {
   "cell_type": "markdown",
   "metadata": {},
   "source": [
    "## Bonusowa część zadania\n",
    "\n",
    "W tej części zadania wykorzystamy model regresji liniowej (komentarz: wedle dokumentacji sklearn regresja liniowa jest bardziej do kategorycznych, a ze wszystkich pozostałych liniowa regresja wydała się jedną z prostrzych do zrozumienia) do przewidywania price w zbiorze Allegro z poprzedniego tygodnia. Wykorzystane zostaną trzy rodzaje kodowania zmiennych kategorycznych - te same co tydzień temu (bądźmy konsekwentni i sprawdźmy czy ich wybór był dobry), a następnie sprawdzona jakość predykcji zostanie za pomocą: $R^2$, RMSE. \n",
    "\n",
    "Najpierw wczytamy dane i przypomnimy sobie jakie są tam zmienne kategoryczne do zakodowania. Oczywiście zbiór nie ma braków danych, więc nie będziemy musieli stosować imputacji."
   ]
  },
  {
   "cell_type": "code",
   "execution_count": 43,
   "metadata": {},
   "outputs": [
    {
     "data": {
      "text/html": [
       "<div>\n",
       "<style scoped>\n",
       "    .dataframe tbody tr th:only-of-type {\n",
       "        vertical-align: middle;\n",
       "    }\n",
       "\n",
       "    .dataframe tbody tr th {\n",
       "        vertical-align: top;\n",
       "    }\n",
       "\n",
       "    .dataframe thead th {\n",
       "        text-align: right;\n",
       "    }\n",
       "</style>\n",
       "<table border=\"1\" class=\"dataframe\">\n",
       "  <thead>\n",
       "    <tr style=\"text-align: right;\">\n",
       "      <th></th>\n",
       "      <th>lp</th>\n",
       "      <th>date</th>\n",
       "      <th>item_id</th>\n",
       "      <th>categories</th>\n",
       "      <th>pay_option_on_delivery</th>\n",
       "      <th>pay_option_transfer</th>\n",
       "      <th>seller</th>\n",
       "      <th>price</th>\n",
       "      <th>it_is_allegro_standard</th>\n",
       "      <th>it_quantity</th>\n",
       "      <th>it_is_brand_zone</th>\n",
       "      <th>it_seller_rating</th>\n",
       "      <th>it_location</th>\n",
       "      <th>main_category</th>\n",
       "    </tr>\n",
       "  </thead>\n",
       "  <tbody>\n",
       "    <tr>\n",
       "      <th>0</th>\n",
       "      <td>0</td>\n",
       "      <td>2016-04-03 21:21:08</td>\n",
       "      <td>4753602474</td>\n",
       "      <td>['Komputery', 'Dyski i napędy', 'Nośniki', 'No...</td>\n",
       "      <td>1</td>\n",
       "      <td>1</td>\n",
       "      <td>radzioch666</td>\n",
       "      <td>59.99</td>\n",
       "      <td>1</td>\n",
       "      <td>997</td>\n",
       "      <td>0</td>\n",
       "      <td>50177</td>\n",
       "      <td>Warszawa</td>\n",
       "      <td>Komputery</td>\n",
       "    </tr>\n",
       "    <tr>\n",
       "      <th>1</th>\n",
       "      <td>1</td>\n",
       "      <td>2016-04-03 15:35:26</td>\n",
       "      <td>4773181874</td>\n",
       "      <td>['Odzież, Obuwie, Dodatki', 'Bielizna damska',...</td>\n",
       "      <td>1</td>\n",
       "      <td>1</td>\n",
       "      <td>InwestycjeNET</td>\n",
       "      <td>4.90</td>\n",
       "      <td>1</td>\n",
       "      <td>9288</td>\n",
       "      <td>0</td>\n",
       "      <td>12428</td>\n",
       "      <td>Warszawa</td>\n",
       "      <td>Odzież, Obuwie, Dodatki</td>\n",
       "    </tr>\n",
       "    <tr>\n",
       "      <th>2</th>\n",
       "      <td>2</td>\n",
       "      <td>2016-04-03 14:14:31</td>\n",
       "      <td>4781627074</td>\n",
       "      <td>['Dom i Ogród', 'Budownictwo i Akcesoria', 'Śc...</td>\n",
       "      <td>1</td>\n",
       "      <td>1</td>\n",
       "      <td>otostyl_com</td>\n",
       "      <td>109.90</td>\n",
       "      <td>1</td>\n",
       "      <td>895</td>\n",
       "      <td>0</td>\n",
       "      <td>7389</td>\n",
       "      <td>Leszno</td>\n",
       "      <td>Dom i Ogród</td>\n",
       "    </tr>\n",
       "    <tr>\n",
       "      <th>3</th>\n",
       "      <td>3</td>\n",
       "      <td>2016-04-03 19:55:44</td>\n",
       "      <td>4783971474</td>\n",
       "      <td>['Książki i Komiksy', 'Poradniki i albumy', 'Z...</td>\n",
       "      <td>1</td>\n",
       "      <td>1</td>\n",
       "      <td>Matfel1</td>\n",
       "      <td>18.50</td>\n",
       "      <td>0</td>\n",
       "      <td>971</td>\n",
       "      <td>0</td>\n",
       "      <td>15006</td>\n",
       "      <td>Wola Krzysztoporska</td>\n",
       "      <td>Książki i Komiksy</td>\n",
       "    </tr>\n",
       "    <tr>\n",
       "      <th>4</th>\n",
       "      <td>4</td>\n",
       "      <td>2016-04-03 18:05:54</td>\n",
       "      <td>4787908274</td>\n",
       "      <td>['Odzież, Obuwie, Dodatki', 'Ślub i wesele', '...</td>\n",
       "      <td>1</td>\n",
       "      <td>1</td>\n",
       "      <td>PPHU_RICO</td>\n",
       "      <td>19.90</td>\n",
       "      <td>1</td>\n",
       "      <td>950</td>\n",
       "      <td>0</td>\n",
       "      <td>32975</td>\n",
       "      <td>BIAŁYSTOK</td>\n",
       "      <td>Odzież, Obuwie, Dodatki</td>\n",
       "    </tr>\n",
       "  </tbody>\n",
       "</table>\n",
       "</div>"
      ],
      "text/plain": [
       "   lp                 date     item_id  \\\n",
       "0   0  2016-04-03 21:21:08  4753602474   \n",
       "1   1  2016-04-03 15:35:26  4773181874   \n",
       "2   2  2016-04-03 14:14:31  4781627074   \n",
       "3   3  2016-04-03 19:55:44  4783971474   \n",
       "4   4  2016-04-03 18:05:54  4787908274   \n",
       "\n",
       "                                          categories  pay_option_on_delivery  \\\n",
       "0  ['Komputery', 'Dyski i napędy', 'Nośniki', 'No...                       1   \n",
       "1  ['Odzież, Obuwie, Dodatki', 'Bielizna damska',...                       1   \n",
       "2  ['Dom i Ogród', 'Budownictwo i Akcesoria', 'Śc...                       1   \n",
       "3  ['Książki i Komiksy', 'Poradniki i albumy', 'Z...                       1   \n",
       "4  ['Odzież, Obuwie, Dodatki', 'Ślub i wesele', '...                       1   \n",
       "\n",
       "   pay_option_transfer         seller   price  it_is_allegro_standard  \\\n",
       "0                    1    radzioch666   59.99                       1   \n",
       "1                    1  InwestycjeNET    4.90                       1   \n",
       "2                    1    otostyl_com  109.90                       1   \n",
       "3                    1        Matfel1   18.50                       0   \n",
       "4                    1      PPHU_RICO   19.90                       1   \n",
       "\n",
       "   it_quantity  it_is_brand_zone  it_seller_rating          it_location  \\\n",
       "0          997                 0             50177             Warszawa   \n",
       "1         9288                 0             12428             Warszawa   \n",
       "2          895                 0              7389               Leszno   \n",
       "3          971                 0             15006  Wola Krzysztoporska   \n",
       "4          950                 0             32975            BIAŁYSTOK   \n",
       "\n",
       "             main_category  \n",
       "0                Komputery  \n",
       "1  Odzież, Obuwie, Dodatki  \n",
       "2              Dom i Ogród  \n",
       "3        Książki i Komiksy  \n",
       "4  Odzież, Obuwie, Dodatki  "
      ]
     },
     "execution_count": 43,
     "metadata": {},
     "output_type": "execute_result"
    }
   ],
   "source": [
    "df = pd.read_csv('https://www.dropbox.com/s/360xhh2d9lnaek3/allegro-api-transactions.csv?dl=1')\n",
    "df.head(5)"
   ]
  },
  {
   "cell_type": "code",
   "execution_count": 44,
   "metadata": {},
   "outputs": [
    {
     "name": "stdout",
     "output_type": "stream",
     "text": [
      "<class 'pandas.core.frame.DataFrame'>\n",
      "RangeIndex: 420020 entries, 0 to 420019\n",
      "Data columns (total 14 columns):\n",
      " #   Column                  Non-Null Count   Dtype  \n",
      "---  ------                  --------------   -----  \n",
      " 0   lp                      420020 non-null  int64  \n",
      " 1   date                    420020 non-null  object \n",
      " 2   item_id                 420020 non-null  int64  \n",
      " 3   categories              420020 non-null  object \n",
      " 4   pay_option_on_delivery  420020 non-null  int64  \n",
      " 5   pay_option_transfer     420020 non-null  int64  \n",
      " 6   seller                  420020 non-null  object \n",
      " 7   price                   420020 non-null  float64\n",
      " 8   it_is_allegro_standard  420020 non-null  int64  \n",
      " 9   it_quantity             420020 non-null  int64  \n",
      " 10  it_is_brand_zone        420020 non-null  int64  \n",
      " 11  it_seller_rating        420020 non-null  int64  \n",
      " 12  it_location             420020 non-null  object \n",
      " 13  main_category           420020 non-null  object \n",
      "dtypes: float64(1), int64(8), object(5)\n",
      "memory usage: 44.9+ MB\n"
     ]
    }
   ],
   "source": [
    "df.info()"
   ]
  },
  {
   "cell_type": "markdown",
   "metadata": {},
   "source": [
    "Mamy 5 kolumn kategorycznych i je trzeba by zakodować. Oczywiście najpierw wypada oczyścić zbiór - np. usunąć kolumny, które nie powinny mieć wpływu na predykcję takie jak lp. Po przejrzeniu danych nie jestem pewna co można a co nie wyrzucić bez większych konsekwencji, m.in. data może wpływać na to, że w danych okresach ludzie wydają więcej. Jednak zakodowanie date może być problematyczne, więc w tym przypadku usunę ją zamiast próbować z nią coś zrobić (chociaż przy głębszej analizie, projektcie albo w pracy raczej bym sprawdziła czy data ma wpływ i jaki najpierw zanim bym ją usunęła)."
   ]
  },
  {
   "cell_type": "code",
   "execution_count": 45,
   "metadata": {},
   "outputs": [],
   "source": [
    "df = df.drop(['lp', 'date'], axis = 1)"
   ]
  },
  {
   "cell_type": "markdown",
   "metadata": {},
   "source": [
    "Podzielmy zbiór danych na treningowy i testowy a potem przejdziemy do kodowania."
   ]
  },
  {
   "cell_type": "code",
   "execution_count": 90,
   "metadata": {},
   "outputs": [],
   "source": [
    "# dzielimy zbiór na dwie części - z i bez kolumny ze zmienną celu\n",
    "y = np.array(df['price'])\n",
    "X = df.drop(['price'],axis=1)\n",
    "\n",
    "# podział na zbiór treningowy i testowy\n",
    "df_train, df_test, y_train, y_test = train_test_split(X, y, test_size=0.2, random_state=0)"
   ]
  },
  {
   "cell_type": "markdown",
   "metadata": {},
   "source": [
    "## Kodowanie zmiennych kategorycznych\n",
    "\n",
    "Wykorzystamy:\n",
    "\n",
    "+ Target Encoder\n",
    "+ M-Estimate Encoder - w celu porównania z TE\n",
    "+ Ordinal Encoder (z ciekawości jakie poda wyniki - nie zalecają go używać jak nie mamy ustalonego porządku, więc to taki dodatek do sprawdzenia jaki jest zły albo nie jest)\n",
    "\n",
    "Chciałam sprawdzić One Hot Encoding, jednak powstałoby za dużo kolumn i nie radzi on sobie jak mamy nową wartość, która nie wystąpiła w treningowym, dlatego zrezygnowałam w trakcie z tej opcji."
   ]
  },
  {
   "cell_type": "code",
   "execution_count": 91,
   "metadata": {},
   "outputs": [],
   "source": [
    "# funkcja pomocnicza wykorzystywana do kodowania zmiennych - posiada tylko potrzebne typy kodowania\n",
    "def encoding(type_encoding : str, target_train = None, target_test = None):\n",
    "\n",
    "    data_val = ['categories', 'seller','it_location', 'main_category']\n",
    "    if(type_encoding == 'te'):\n",
    "        en = ce.TargetEncoder(cols=data_val, return_df=True)\n",
    "    if(type_encoding == 'ohe'):\n",
    "        en = ce.OneHotEncoder(cols=data_val, use_cat_names=True, return_df=True)\n",
    "    if(type_encoding == 'me'):\n",
    "        en = ce.MEstimateEncoder(cols=data_val, return_df=True)\n",
    "    if(type_encoding == 'oe'):\n",
    "        en = ce.OrdinalEncoder(cols=data_val, return_df=True)\n",
    "        \n",
    "    data_en_train = df_train.copy()\n",
    "    data_en_test = df_test.copy()\n",
    "    encoded_train = en.fit_transform(data_en_train, target_train)\n",
    "    encoded_test = en.transform(data_en_test, target_test)\n",
    "    \n",
    "    return encoded_train, encoded_test"
   ]
  },
  {
   "cell_type": "code",
   "execution_count": 92,
   "metadata": {
    "scrolled": true
   },
   "outputs": [],
   "source": [
    "# target endoding\n",
    "train_te, test_te = encoding('te', y_train, y_test)\n",
    "# m-estimate ecoding\n",
    "train_me, test_me = encoding('me', y_train, y_test)\n",
    "# ordinal encoding\n",
    "train_oe, test_oe = encoding('oe')"
   ]
  },
  {
   "cell_type": "markdown",
   "metadata": {},
   "source": [
    "### Regresja liniowa\n",
    "\n",
    "Jak już wspomniałam wykorzystamy model LinearRegression z pakietu sklearn. A jakość będzie badana na podstawie RMSE i $R^2$."
   ]
  },
  {
   "cell_type": "code",
   "execution_count": 93,
   "metadata": {},
   "outputs": [],
   "source": [
    "# tworzenie funkcji pomocniczej do przewidywania zmiennej na podstawie modelu regresji liniowej\n",
    "def data_reg(data_train, data_test):\n",
    "    \n",
    "    model = LinearRegression()\n",
    "    #trenowanie modelu\n",
    "    model.fit(data_train, y_train)\n",
    "    # predykcja \n",
    "    predict_class = model.predict(data_test)\n",
    "    \n",
    "    return predict_class"
   ]
  },
  {
   "cell_type": "code",
   "execution_count": 94,
   "metadata": {},
   "outputs": [],
   "source": [
    "# dla te\n",
    "predict_class_te = data_reg(train_te, test_te)\n",
    "# dla me\n",
    "predict_class_me = data_reg(train_me, test_me)\n",
    "# dla oe\n",
    "predict_class_oe = data_reg(train_oe, test_oe)"
   ]
  },
  {
   "cell_type": "markdown",
   "metadata": {},
   "source": [
    "### Wyniki jakości metod encodingu"
   ]
  },
  {
   "cell_type": "code",
   "execution_count": 95,
   "metadata": {},
   "outputs": [],
   "source": [
    "def metrics_rmse_r2(target_pred):\n",
    "    rmse = mean_squared_error(y_test, target_pred, squared=False)\n",
    "    r2 = r2_score(y_test, target_pred)\n",
    "    return rmse, r2"
   ]
  },
  {
   "cell_type": "code",
   "execution_count": 96,
   "metadata": {},
   "outputs": [
    {
     "data": {
      "text/html": [
       "<div>\n",
       "<style scoped>\n",
       "    .dataframe tbody tr th:only-of-type {\n",
       "        vertical-align: middle;\n",
       "    }\n",
       "\n",
       "    .dataframe tbody tr th {\n",
       "        vertical-align: top;\n",
       "    }\n",
       "\n",
       "    .dataframe thead th {\n",
       "        text-align: right;\n",
       "    }\n",
       "</style>\n",
       "<table border=\"1\" class=\"dataframe\">\n",
       "  <thead>\n",
       "    <tr style=\"text-align: right;\">\n",
       "      <th></th>\n",
       "      <th>Ecoding Method</th>\n",
       "      <th>RMSE</th>\n",
       "      <th>R2</th>\n",
       "    </tr>\n",
       "  </thead>\n",
       "  <tbody>\n",
       "    <tr>\n",
       "      <th>0</th>\n",
       "      <td>Target Encoder</td>\n",
       "      <td>261.946834</td>\n",
       "      <td>0.180977</td>\n",
       "    </tr>\n",
       "    <tr>\n",
       "      <th>1</th>\n",
       "      <td>M-Estimate Encoder</td>\n",
       "      <td>261.960620</td>\n",
       "      <td>0.180891</td>\n",
       "    </tr>\n",
       "    <tr>\n",
       "      <th>2</th>\n",
       "      <td>Ordinal Encoder</td>\n",
       "      <td>288.520946</td>\n",
       "      <td>0.006371</td>\n",
       "    </tr>\n",
       "  </tbody>\n",
       "</table>\n",
       "</div>"
      ],
      "text/plain": [
       "       Ecoding Method        RMSE        R2\n",
       "0      Target Encoder  261.946834  0.180977\n",
       "1  M-Estimate Encoder  261.960620  0.180891\n",
       "2     Ordinal Encoder  288.520946  0.006371"
      ]
     },
     "execution_count": 96,
     "metadata": {},
     "output_type": "execute_result"
    }
   ],
   "source": [
    "rmse1, r1 = metrics_rmse_r2(predict_class_te)\n",
    "rmse2, r2 = metrics_rmse_r2(predict_class_me)\n",
    "rmse3, r3 = metrics_rmse_r2(predict_class_oe)\n",
    "pd.DataFrame({'Ecoding Method':['Target Encoder', 'M-Estimate Encoder', 'Ordinal Encoder'],\n",
    "             'RMSE': [rmse1, rmse2, rmse3], 'R2': [r1, r2, r3]})"
   ]
  },
  {
   "cell_type": "markdown",
   "metadata": {},
   "source": [
    "M-Estimate i Target są podobnymi do siebie metodami, gdyż M-Estimate jest uproszczoną wersją Target. Nie braliśmy żadnych parametrów do kodowań ani też do modelu regresji (domyślne wartości). Oczywiście dany wynik ukazany w tabeli wyżej jest tylko dla danego wywołania/podziału zbioru (zmiana ziarna zmieni wyniki). Jednak w tym przypadku podobne do siebie metody ME i TE sprawdziły się prawie tak samo - różnice są w RMSE przy 2 liczbie po przecinku, a przy $R^2$ przy 4. Jednak patrząc na te małe różnice to Target Encoding wypadł najlepiej. Natomiast jeśli chodzi o Ordinal Encoder to ma większe RMSE od obu, a miara $R^2$ jest bardzo bliska zeru. Nie jest najlepszy wybór. \n",
    "\n",
    "Jeśli chodzi o miarę $R^2$ to wszystkie metody sprawdziły się słabo, wyniki są dość niskie. Miara jest do 1.0, gdzie 1.0 oznacza najlepszy możliwy wynik, a 0.0 oznacza stały model, który nie patrzy na cechy wejściowe przy dopasowywaniu i przewiduje jedną stałą wartość. Dlatego sądzę, że w tym przypadku dobrze byłoby użyć zróżnicowanego kodowania, zastosować inne metody albo pomyśleć czy warto było wyrzucać date.\n",
    "\n",
    "Jeszcze krótko podsumowując, Target Encoding okazał się tutaj najlepszą metodą, jednak jego wskaźnik $R^2$ wskazuje na to, że nie jest to najlepszy wybór i tak i dobrze byłoby spróbować zrobić coś innego z metodami czy danymi."
   ]
  }
 ],
 "metadata": {
  "kernelspec": {
   "display_name": "Python 3",
   "language": "python",
   "name": "python3"
  },
  "language_info": {
   "codemirror_mode": {
    "name": "ipython",
    "version": 3
   },
   "file_extension": ".py",
   "mimetype": "text/x-python",
   "name": "python",
   "nbconvert_exporter": "python",
   "pygments_lexer": "ipython3",
   "version": "3.6.9"
  }
 },
 "nbformat": 4,
 "nbformat_minor": 2
}
