{
 "cells": [
  {
   "cell_type": "markdown",
   "metadata": {},
   "source": [
    "# Praca domowa nr 3 bomus\n",
    "## Piotr Fic"
   ]
  },
  {
   "cell_type": "code",
   "execution_count": 1,
   "metadata": {},
   "outputs": [],
   "source": [
    "#Pakiety\n",
    "import pandas as pd\n",
    "import numpy as np\n",
    "import sklearn\n",
    "import category_encoders\n",
    "from sklearn.model_selection import train_test_split\n",
    "from sklearn.metrics import mean_squared_error, r2_score\n",
    "from sklearn.linear_model import Ridge, LinearRegression, Lasso, BayesianRidge\n",
    "from sklearn.neighbors import KNeighborsRegressor\n",
    "from sklearn.ensemble import RandomForestRegressor\n",
    "import matplotlib.pyplot as plt\n",
    "np.random.seed(123)"
   ]
  },
  {
   "cell_type": "markdown",
   "metadata": {},
   "source": [
    "# Część z PD2 + niezbędne operacje"
   ]
  },
  {
   "cell_type": "markdown",
   "metadata": {},
   "source": [
    "### Wczytanie zbioru danych"
   ]
  },
  {
   "cell_type": "code",
   "execution_count": 2,
   "metadata": {},
   "outputs": [],
   "source": [
    "df = pd.read_csv(\"allegro-api-transactions.csv\")"
   ]
  },
  {
   "cell_type": "markdown",
   "metadata": {},
   "source": [
    "### Krótkie obejrzenie zbioru"
   ]
  },
  {
   "cell_type": "code",
   "execution_count": 3,
   "metadata": {
    "scrolled": true
   },
   "outputs": [
    {
     "data": {
      "text/html": [
       "<div>\n",
       "<style scoped>\n",
       "    .dataframe tbody tr th:only-of-type {\n",
       "        vertical-align: middle;\n",
       "    }\n",
       "\n",
       "    .dataframe tbody tr th {\n",
       "        vertical-align: top;\n",
       "    }\n",
       "\n",
       "    .dataframe thead th {\n",
       "        text-align: right;\n",
       "    }\n",
       "</style>\n",
       "<table border=\"1\" class=\"dataframe\">\n",
       "  <thead>\n",
       "    <tr style=\"text-align: right;\">\n",
       "      <th></th>\n",
       "      <th>lp</th>\n",
       "      <th>date</th>\n",
       "      <th>item_id</th>\n",
       "      <th>categories</th>\n",
       "      <th>pay_option_on_delivery</th>\n",
       "      <th>pay_option_transfer</th>\n",
       "      <th>seller</th>\n",
       "      <th>price</th>\n",
       "      <th>it_is_allegro_standard</th>\n",
       "      <th>it_quantity</th>\n",
       "      <th>it_is_brand_zone</th>\n",
       "      <th>it_seller_rating</th>\n",
       "      <th>it_location</th>\n",
       "      <th>main_category</th>\n",
       "    </tr>\n",
       "  </thead>\n",
       "  <tbody>\n",
       "    <tr>\n",
       "      <th>0</th>\n",
       "      <td>0</td>\n",
       "      <td>2016-04-03 21:21:08</td>\n",
       "      <td>4753602474</td>\n",
       "      <td>['Komputery', 'Dyski i napędy', 'Nośniki', 'No...</td>\n",
       "      <td>1</td>\n",
       "      <td>1</td>\n",
       "      <td>radzioch666</td>\n",
       "      <td>59.99</td>\n",
       "      <td>1</td>\n",
       "      <td>997</td>\n",
       "      <td>0</td>\n",
       "      <td>50177</td>\n",
       "      <td>Warszawa</td>\n",
       "      <td>Komputery</td>\n",
       "    </tr>\n",
       "    <tr>\n",
       "      <th>1</th>\n",
       "      <td>1</td>\n",
       "      <td>2016-04-03 15:35:26</td>\n",
       "      <td>4773181874</td>\n",
       "      <td>['Odzież, Obuwie, Dodatki', 'Bielizna damska',...</td>\n",
       "      <td>1</td>\n",
       "      <td>1</td>\n",
       "      <td>InwestycjeNET</td>\n",
       "      <td>4.90</td>\n",
       "      <td>1</td>\n",
       "      <td>9288</td>\n",
       "      <td>0</td>\n",
       "      <td>12428</td>\n",
       "      <td>Warszawa</td>\n",
       "      <td>Odzież, Obuwie, Dodatki</td>\n",
       "    </tr>\n",
       "    <tr>\n",
       "      <th>2</th>\n",
       "      <td>2</td>\n",
       "      <td>2016-04-03 14:14:31</td>\n",
       "      <td>4781627074</td>\n",
       "      <td>['Dom i Ogród', 'Budownictwo i Akcesoria', 'Śc...</td>\n",
       "      <td>1</td>\n",
       "      <td>1</td>\n",
       "      <td>otostyl_com</td>\n",
       "      <td>109.90</td>\n",
       "      <td>1</td>\n",
       "      <td>895</td>\n",
       "      <td>0</td>\n",
       "      <td>7389</td>\n",
       "      <td>Leszno</td>\n",
       "      <td>Dom i Ogród</td>\n",
       "    </tr>\n",
       "    <tr>\n",
       "      <th>3</th>\n",
       "      <td>3</td>\n",
       "      <td>2016-04-03 19:55:44</td>\n",
       "      <td>4783971474</td>\n",
       "      <td>['Książki i Komiksy', 'Poradniki i albumy', 'Z...</td>\n",
       "      <td>1</td>\n",
       "      <td>1</td>\n",
       "      <td>Matfel1</td>\n",
       "      <td>18.50</td>\n",
       "      <td>0</td>\n",
       "      <td>971</td>\n",
       "      <td>0</td>\n",
       "      <td>15006</td>\n",
       "      <td>Wola Krzysztoporska</td>\n",
       "      <td>Książki i Komiksy</td>\n",
       "    </tr>\n",
       "    <tr>\n",
       "      <th>4</th>\n",
       "      <td>4</td>\n",
       "      <td>2016-04-03 18:05:54</td>\n",
       "      <td>4787908274</td>\n",
       "      <td>['Odzież, Obuwie, Dodatki', 'Ślub i wesele', '...</td>\n",
       "      <td>1</td>\n",
       "      <td>1</td>\n",
       "      <td>PPHU_RICO</td>\n",
       "      <td>19.90</td>\n",
       "      <td>1</td>\n",
       "      <td>950</td>\n",
       "      <td>0</td>\n",
       "      <td>32975</td>\n",
       "      <td>BIAŁYSTOK</td>\n",
       "      <td>Odzież, Obuwie, Dodatki</td>\n",
       "    </tr>\n",
       "  </tbody>\n",
       "</table>\n",
       "</div>"
      ],
      "text/plain": [
       "   lp                 date     item_id  \\\n",
       "0   0  2016-04-03 21:21:08  4753602474   \n",
       "1   1  2016-04-03 15:35:26  4773181874   \n",
       "2   2  2016-04-03 14:14:31  4781627074   \n",
       "3   3  2016-04-03 19:55:44  4783971474   \n",
       "4   4  2016-04-03 18:05:54  4787908274   \n",
       "\n",
       "                                          categories  pay_option_on_delivery  \\\n",
       "0  ['Komputery', 'Dyski i napędy', 'Nośniki', 'No...                       1   \n",
       "1  ['Odzież, Obuwie, Dodatki', 'Bielizna damska',...                       1   \n",
       "2  ['Dom i Ogród', 'Budownictwo i Akcesoria', 'Śc...                       1   \n",
       "3  ['Książki i Komiksy', 'Poradniki i albumy', 'Z...                       1   \n",
       "4  ['Odzież, Obuwie, Dodatki', 'Ślub i wesele', '...                       1   \n",
       "\n",
       "   pay_option_transfer         seller   price  it_is_allegro_standard  \\\n",
       "0                    1    radzioch666   59.99                       1   \n",
       "1                    1  InwestycjeNET    4.90                       1   \n",
       "2                    1    otostyl_com  109.90                       1   \n",
       "3                    1        Matfel1   18.50                       0   \n",
       "4                    1      PPHU_RICO   19.90                       1   \n",
       "\n",
       "   it_quantity  it_is_brand_zone  it_seller_rating          it_location  \\\n",
       "0          997                 0             50177             Warszawa   \n",
       "1         9288                 0             12428             Warszawa   \n",
       "2          895                 0              7389               Leszno   \n",
       "3          971                 0             15006  Wola Krzysztoporska   \n",
       "4          950                 0             32975            BIAŁYSTOK   \n",
       "\n",
       "             main_category  \n",
       "0                Komputery  \n",
       "1  Odzież, Obuwie, Dodatki  \n",
       "2              Dom i Ogród  \n",
       "3        Książki i Komiksy  \n",
       "4  Odzież, Obuwie, Dodatki  "
      ]
     },
     "execution_count": 3,
     "metadata": {},
     "output_type": "execute_result"
    }
   ],
   "source": [
    "df.head(5)"
   ]
  },
  {
   "cell_type": "markdown",
   "metadata": {},
   "source": [
    "## + rozbicie kolumny 'date'"
   ]
  },
  {
   "cell_type": "code",
   "execution_count": 4,
   "metadata": {},
   "outputs": [],
   "source": [
    "df['day'] = int(df.date[0][8:10])\n",
    "df['month'] = int(df.date[0][5:7])\n",
    "df['year'] = int(df.date[0][0:4])\n",
    "df['hour'] = int(df.date[0][10:13])\n",
    "df = df.drop('date', axis=1)"
   ]
  },
  {
   "cell_type": "markdown",
   "metadata": {},
   "source": [
    "## + usunięcie kolumn 'lp' i 'id'"
   ]
  },
  {
   "cell_type": "code",
   "execution_count": 5,
   "metadata": {},
   "outputs": [],
   "source": [
    "df = df.drop(['lp', 'item_id'], axis=1)"
   ]
  },
  {
   "cell_type": "code",
   "execution_count": 6,
   "metadata": {},
   "outputs": [
    {
     "name": "stdout",
     "output_type": "stream",
     "text": [
      "<class 'pandas.core.frame.DataFrame'>\n",
      "RangeIndex: 420020 entries, 0 to 420019\n",
      "Data columns (total 15 columns):\n",
      "categories                420020 non-null object\n",
      "pay_option_on_delivery    420020 non-null int64\n",
      "pay_option_transfer       420020 non-null int64\n",
      "seller                    420020 non-null object\n",
      "price                     420020 non-null float64\n",
      "it_is_allegro_standard    420020 non-null int64\n",
      "it_quantity               420020 non-null int64\n",
      "it_is_brand_zone          420020 non-null int64\n",
      "it_seller_rating          420020 non-null int64\n",
      "it_location               420020 non-null object\n",
      "main_category             420020 non-null object\n",
      "day                       420020 non-null int64\n",
      "month                     420020 non-null int64\n",
      "year                      420020 non-null int64\n",
      "hour                      420020 non-null int64\n",
      "dtypes: float64(1), int64(10), object(4)\n",
      "memory usage: 48.1+ MB\n"
     ]
    }
   ],
   "source": [
    "df.info()"
   ]
  },
  {
   "cell_type": "code",
   "execution_count": 7,
   "metadata": {},
   "outputs": [],
   "source": [
    "#Transformacja string\n",
    "df['it_location'] = df['it_location'].str.lower()\n",
    "df['seller'] = df['seller'].str.lower()"
   ]
  },
  {
   "cell_type": "markdown",
   "metadata": {},
   "source": [
    "## + podział na zbiór treningowy i testowy"
   ]
  },
  {
   "cell_type": "code",
   "execution_count": 8,
   "metadata": {},
   "outputs": [],
   "source": [
    "X = df.drop('price', axis=1)\n",
    "y = df['price']\n",
    "\n",
    "X_train, X_test, y_train, y_test = train_test_split(X, y, test_size = 0.25, random_state = 123)"
   ]
  },
  {
   "cell_type": "markdown",
   "metadata": {},
   "source": [
    "## Encoding zmiennych kategorycznych\n",
    "Muszę zmienić nieco metody na takie, które będą funkcjonować dla zmiennych o dużym zbiorze unikalnych kategorii."
   ]
  },
  {
   "cell_type": "code",
   "execution_count": 9,
   "metadata": {},
   "outputs": [
    {
     "data": {
      "text/plain": [
       "['categories', 'seller', 'it_location', 'main_category']"
      ]
     },
     "execution_count": 9,
     "metadata": {},
     "output_type": "execute_result"
    }
   ],
   "source": [
    "#Kolumny do encodingu\n",
    "cols = list(X.select_dtypes('object').columns)\n",
    "cols"
   ]
  },
  {
   "cell_type": "markdown",
   "metadata": {},
   "source": [
    "### Target encoding"
   ]
  },
  {
   "cell_type": "code",
   "execution_count": 10,
   "metadata": {},
   "outputs": [],
   "source": [
    "te = category_encoders.TargetEncoder(cols=cols)\n",
    "te_train = te.fit_transform(X_train, y_train)\n",
    "te_test = te.transform(X_test)"
   ]
  },
  {
   "cell_type": "markdown",
   "metadata": {},
   "source": [
    "### James-Stein encoder"
   ]
  },
  {
   "cell_type": "code",
   "execution_count": 11,
   "metadata": {},
   "outputs": [],
   "source": [
    "js_en = category_encoders.JamesSteinEncoder(cols = cols)\n",
    "js_train = js_en.fit_transform(X_train, y_train)\n",
    "js_test = js_en.transform(X_test)"
   ]
  },
  {
   "cell_type": "markdown",
   "metadata": {},
   "source": [
    "### Leave-one-out"
   ]
  },
  {
   "cell_type": "code",
   "execution_count": 12,
   "metadata": {},
   "outputs": [],
   "source": [
    "leo = category_encoders.leave_one_out.LeaveOneOutEncoder(cols=cols)\n",
    "leo_train = leo.fit_transform(X_train, y_train)\n",
    "leo_test = leo.transform(X_test)"
   ]
  },
  {
   "cell_type": "markdown",
   "metadata": {},
   "source": [
    "## Modelowanie"
   ]
  },
  {
   "cell_type": "markdown",
   "metadata": {},
   "source": [
    "W celu zbadania wpływu encodingu porównam miary osiągnięte przez model lasso regression."
   ]
  },
  {
   "cell_type": "code",
   "execution_count": 13,
   "metadata": {},
   "outputs": [],
   "source": [
    "def model(X_train, X_test, y_train, y_test):\n",
    "    model = Lasso()\n",
    "    \n",
    "    model.fit(X_train, y_train)\n",
    "    predict = model.predict(X_test)\n",
    "    \n",
    "    rmse = np.sqrt(mean_squared_error(y_test, predict))\n",
    "    r2 = r2_score(y_test, predict)\n",
    "    \n",
    "    return(rmse, r2)"
   ]
  },
  {
   "cell_type": "code",
   "execution_count": 14,
   "metadata": {},
   "outputs": [],
   "source": [
    "te_score = model(te_train, te_test, y_train, y_test)\n",
    "js_score = model(js_train, js_test, y_train, y_test)\n",
    "leo_score = model(leo_train, leo_test, y_train, y_test)\n",
    "result = pd.DataFrame({'target-encoding': te_score,\n",
    "                      'James-Stein': js_score,\n",
    "                      'Leave-one-out': leo_score},\n",
    "                      index=['RMSE', 'R2'])"
   ]
  },
  {
   "cell_type": "code",
   "execution_count": 15,
   "metadata": {},
   "outputs": [
    {
     "data": {
      "text/html": [
       "<div>\n",
       "<style scoped>\n",
       "    .dataframe tbody tr th:only-of-type {\n",
       "        vertical-align: middle;\n",
       "    }\n",
       "\n",
       "    .dataframe tbody tr th {\n",
       "        vertical-align: top;\n",
       "    }\n",
       "\n",
       "    .dataframe thead th {\n",
       "        text-align: right;\n",
       "    }\n",
       "</style>\n",
       "<table border=\"1\" class=\"dataframe\">\n",
       "  <thead>\n",
       "    <tr style=\"text-align: right;\">\n",
       "      <th></th>\n",
       "      <th>target-encoding</th>\n",
       "      <th>James-Stein</th>\n",
       "      <th>Leave-one-out</th>\n",
       "    </tr>\n",
       "  </thead>\n",
       "  <tbody>\n",
       "    <tr>\n",
       "      <th>RMSE</th>\n",
       "      <td>538.481645</td>\n",
       "      <td>538.92795</td>\n",
       "      <td>538.379723</td>\n",
       "    </tr>\n",
       "    <tr>\n",
       "      <th>R2</th>\n",
       "      <td>0.069394</td>\n",
       "      <td>0.06785</td>\n",
       "      <td>0.069746</td>\n",
       "    </tr>\n",
       "  </tbody>\n",
       "</table>\n",
       "</div>"
      ],
      "text/plain": [
       "      target-encoding  James-Stein  Leave-one-out\n",
       "RMSE       538.481645    538.92795     538.379723\n",
       "R2           0.069394      0.06785       0.069746"
      ]
     },
     "execution_count": 15,
     "metadata": {},
     "output_type": "execute_result"
    }
   ],
   "source": [
    "result"
   ]
  },
  {
   "cell_type": "markdown",
   "metadata": {},
   "source": [
    "Wyniki modelu są bardzo słabe. Określenie przyczyny wymagało by dłuższej analizy i może głębszemu przyjrzeniu się również zbiorowi danych. Zmiana algorytmu z regresji na żaden z innych podstawowych klasyfikatorów nie przyniosła znaczącej poprawy wyników. Ponad to w tym przykładzie każdą z metod encodingu moglibyśmy stosować zamiennie, wyniki w zasadzie nie różnią się względem użytych encodingów. Przyczyną tego może być ich podobieństwo w algorytmach imputacji. "
   ]
  }
 ],
 "metadata": {
  "kernelspec": {
   "display_name": "Python 3",
   "language": "python",
   "name": "python3"
  },
  "language_info": {
   "codemirror_mode": {
    "name": "ipython",
    "version": 3
   },
   "file_extension": ".py",
   "mimetype": "text/x-python",
   "name": "python",
   "nbconvert_exporter": "python",
   "pygments_lexer": "ipython3",
   "version": "3.7.4"
  }
 },
 "nbformat": 4,
 "nbformat_minor": 2
}
