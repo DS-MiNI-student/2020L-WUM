{
 "cells": [
  {
   "cell_type": "markdown",
   "metadata": {},
   "source": [
    "# Praca domowa nr 3 - Ada Gąssowska"
   ]
  },
  {
   "cell_type": "code",
   "execution_count": 1,
   "metadata": {},
   "outputs": [],
   "source": [
    "import pandas as pd\n",
    "import numpy as np\n",
    "import matplotlib.pyplot as plt\n",
    "from sklearn.preprocessing import StandardScaler\n",
    "from sklearn.model_selection import train_test_split\n",
    "from sklearn.linear_model import LogisticRegression\n",
    "from sklearn.ensemble import GradientBoostingClassifier\n",
    "from sklearn.tree import DecisionTreeClassifier\n",
    "import sklearn.metrics"
   ]
  },
  {
   "cell_type": "code",
   "execution_count": 4,
   "metadata": {},
   "outputs": [],
   "source": [
    "data=pd.read_csv(\"C:/Users/Ada/Desktop/australia.csv\")\n",
    "data = data[0:10000] #skrócenie ramki danych"
   ]
  },
  {
   "cell_type": "markdown",
   "metadata": {},
   "source": [
    "## Informacje o danych"
   ]
  },
  {
   "cell_type": "code",
   "execution_count": 5,
   "metadata": {},
   "outputs": [
    {
     "name": "stdout",
     "output_type": "stream",
     "text": [
      "<class 'pandas.core.frame.DataFrame'>\n",
      "RangeIndex: 10000 entries, 0 to 9999\n",
      "Data columns (total 18 columns):\n",
      "MinTemp          10000 non-null float64\n",
      "MaxTemp          10000 non-null float64\n",
      "Rainfall         10000 non-null float64\n",
      "Evaporation      10000 non-null float64\n",
      "Sunshine         10000 non-null float64\n",
      "WindGustSpeed    10000 non-null float64\n",
      "WindSpeed9am     10000 non-null float64\n",
      "WindSpeed3pm     10000 non-null float64\n",
      "Humidity9am      10000 non-null float64\n",
      "Humidity3pm      10000 non-null float64\n",
      "Pressure9am      10000 non-null float64\n",
      "Pressure3pm      10000 non-null float64\n",
      "Cloud9am         10000 non-null float64\n",
      "Cloud3pm         10000 non-null float64\n",
      "Temp9am          10000 non-null float64\n",
      "Temp3pm          10000 non-null float64\n",
      "RainToday        10000 non-null int64\n",
      "RainTomorrow     10000 non-null int64\n",
      "dtypes: float64(16), int64(2)\n",
      "memory usage: 1.4 MB\n"
     ]
    }
   ],
   "source": [
    "data.info()"
   ]
  },
  {
   "cell_type": "code",
   "execution_count": 6,
   "metadata": {},
   "outputs": [
    {
     "data": {
      "text/html": [
       "<div>\n",
       "<style scoped>\n",
       "    .dataframe tbody tr th:only-of-type {\n",
       "        vertical-align: middle;\n",
       "    }\n",
       "\n",
       "    .dataframe tbody tr th {\n",
       "        vertical-align: top;\n",
       "    }\n",
       "\n",
       "    .dataframe thead th {\n",
       "        text-align: right;\n",
       "    }\n",
       "</style>\n",
       "<table border=\"1\" class=\"dataframe\">\n",
       "  <thead>\n",
       "    <tr style=\"text-align: right;\">\n",
       "      <th></th>\n",
       "      <th>MinTemp</th>\n",
       "      <th>MaxTemp</th>\n",
       "      <th>Rainfall</th>\n",
       "      <th>Evaporation</th>\n",
       "      <th>Sunshine</th>\n",
       "      <th>WindGustSpeed</th>\n",
       "      <th>WindSpeed9am</th>\n",
       "      <th>WindSpeed3pm</th>\n",
       "      <th>Humidity9am</th>\n",
       "      <th>Humidity3pm</th>\n",
       "      <th>Pressure9am</th>\n",
       "      <th>Pressure3pm</th>\n",
       "      <th>Cloud9am</th>\n",
       "      <th>Cloud3pm</th>\n",
       "      <th>Temp9am</th>\n",
       "      <th>Temp3pm</th>\n",
       "    </tr>\n",
       "  </thead>\n",
       "  <tbody>\n",
       "    <tr>\n",
       "      <td>count</td>\n",
       "      <td>10000.000000</td>\n",
       "      <td>10000.000000</td>\n",
       "      <td>10000.000000</td>\n",
       "      <td>10000.000000</td>\n",
       "      <td>10000.000000</td>\n",
       "      <td>10000.000000</td>\n",
       "      <td>10000.000000</td>\n",
       "      <td>10000.00000</td>\n",
       "      <td>10000.000000</td>\n",
       "      <td>10000.000000</td>\n",
       "      <td>10000.000000</td>\n",
       "      <td>10000.000000</td>\n",
       "      <td>10000.000000</td>\n",
       "      <td>10000.000000</td>\n",
       "      <td>10000.000000</td>\n",
       "      <td>10000.000000</td>\n",
       "    </tr>\n",
       "    <tr>\n",
       "      <td>mean</td>\n",
       "      <td>14.859950</td>\n",
       "      <td>23.845800</td>\n",
       "      <td>2.474730</td>\n",
       "      <td>5.439730</td>\n",
       "      <td>7.657450</td>\n",
       "      <td>42.026700</td>\n",
       "      <td>17.672100</td>\n",
       "      <td>20.89970</td>\n",
       "      <td>65.526900</td>\n",
       "      <td>53.519600</td>\n",
       "      <td>1018.095680</td>\n",
       "      <td>1015.665330</td>\n",
       "      <td>4.071600</td>\n",
       "      <td>4.236100</td>\n",
       "      <td>18.991300</td>\n",
       "      <td>22.403700</td>\n",
       "    </tr>\n",
       "    <tr>\n",
       "      <td>std</td>\n",
       "      <td>5.117781</td>\n",
       "      <td>5.289492</td>\n",
       "      <td>7.346227</td>\n",
       "      <td>3.859575</td>\n",
       "      <td>3.736928</td>\n",
       "      <td>12.765911</td>\n",
       "      <td>7.859425</td>\n",
       "      <td>8.68175</td>\n",
       "      <td>15.927569</td>\n",
       "      <td>20.153963</td>\n",
       "      <td>6.218034</td>\n",
       "      <td>6.184112</td>\n",
       "      <td>2.757795</td>\n",
       "      <td>2.571307</td>\n",
       "      <td>4.635805</td>\n",
       "      <td>5.125857</td>\n",
       "    </tr>\n",
       "    <tr>\n",
       "      <td>min</td>\n",
       "      <td>-3.300000</td>\n",
       "      <td>9.400000</td>\n",
       "      <td>0.000000</td>\n",
       "      <td>0.000000</td>\n",
       "      <td>0.000000</td>\n",
       "      <td>13.000000</td>\n",
       "      <td>2.000000</td>\n",
       "      <td>2.00000</td>\n",
       "      <td>6.000000</td>\n",
       "      <td>1.000000</td>\n",
       "      <td>980.500000</td>\n",
       "      <td>979.000000</td>\n",
       "      <td>0.000000</td>\n",
       "      <td>0.000000</td>\n",
       "      <td>4.000000</td>\n",
       "      <td>8.200000</td>\n",
       "    </tr>\n",
       "    <tr>\n",
       "      <td>25%</td>\n",
       "      <td>11.600000</td>\n",
       "      <td>19.900000</td>\n",
       "      <td>0.000000</td>\n",
       "      <td>3.200000</td>\n",
       "      <td>5.200000</td>\n",
       "      <td>33.000000</td>\n",
       "      <td>13.000000</td>\n",
       "      <td>15.00000</td>\n",
       "      <td>55.000000</td>\n",
       "      <td>38.000000</td>\n",
       "      <td>1014.075000</td>\n",
       "      <td>1011.700000</td>\n",
       "      <td>1.000000</td>\n",
       "      <td>2.000000</td>\n",
       "      <td>15.900000</td>\n",
       "      <td>18.600000</td>\n",
       "    </tr>\n",
       "    <tr>\n",
       "      <td>50%</td>\n",
       "      <td>15.500000</td>\n",
       "      <td>23.300000</td>\n",
       "      <td>0.000000</td>\n",
       "      <td>4.800000</td>\n",
       "      <td>8.700000</td>\n",
       "      <td>41.000000</td>\n",
       "      <td>17.000000</td>\n",
       "      <td>20.00000</td>\n",
       "      <td>66.000000</td>\n",
       "      <td>56.000000</td>\n",
       "      <td>1018.200000</td>\n",
       "      <td>1015.800000</td>\n",
       "      <td>4.000000</td>\n",
       "      <td>4.000000</td>\n",
       "      <td>19.300000</td>\n",
       "      <td>21.700000</td>\n",
       "    </tr>\n",
       "    <tr>\n",
       "      <td>75%</td>\n",
       "      <td>18.900000</td>\n",
       "      <td>26.700000</td>\n",
       "      <td>1.000000</td>\n",
       "      <td>7.000000</td>\n",
       "      <td>10.500000</td>\n",
       "      <td>50.000000</td>\n",
       "      <td>22.000000</td>\n",
       "      <td>26.00000</td>\n",
       "      <td>77.000000</td>\n",
       "      <td>67.000000</td>\n",
       "      <td>1022.300000</td>\n",
       "      <td>1019.800000</td>\n",
       "      <td>7.000000</td>\n",
       "      <td>7.000000</td>\n",
       "      <td>22.400000</td>\n",
       "      <td>25.300000</td>\n",
       "    </tr>\n",
       "    <tr>\n",
       "      <td>max</td>\n",
       "      <td>29.100000</td>\n",
       "      <td>47.300000</td>\n",
       "      <td>128.000000</td>\n",
       "      <td>65.400000</td>\n",
       "      <td>14.000000</td>\n",
       "      <td>117.000000</td>\n",
       "      <td>67.000000</td>\n",
       "      <td>65.00000</td>\n",
       "      <td>100.000000</td>\n",
       "      <td>99.000000</td>\n",
       "      <td>1039.000000</td>\n",
       "      <td>1037.000000</td>\n",
       "      <td>8.000000</td>\n",
       "      <td>8.000000</td>\n",
       "      <td>37.300000</td>\n",
       "      <td>45.800000</td>\n",
       "    </tr>\n",
       "  </tbody>\n",
       "</table>\n",
       "</div>"
      ],
      "text/plain": [
       "            MinTemp       MaxTemp      Rainfall   Evaporation      Sunshine  \\\n",
       "count  10000.000000  10000.000000  10000.000000  10000.000000  10000.000000   \n",
       "mean      14.859950     23.845800      2.474730      5.439730      7.657450   \n",
       "std        5.117781      5.289492      7.346227      3.859575      3.736928   \n",
       "min       -3.300000      9.400000      0.000000      0.000000      0.000000   \n",
       "25%       11.600000     19.900000      0.000000      3.200000      5.200000   \n",
       "50%       15.500000     23.300000      0.000000      4.800000      8.700000   \n",
       "75%       18.900000     26.700000      1.000000      7.000000     10.500000   \n",
       "max       29.100000     47.300000    128.000000     65.400000     14.000000   \n",
       "\n",
       "       WindGustSpeed  WindSpeed9am  WindSpeed3pm   Humidity9am   Humidity3pm  \\\n",
       "count   10000.000000  10000.000000   10000.00000  10000.000000  10000.000000   \n",
       "mean       42.026700     17.672100      20.89970     65.526900     53.519600   \n",
       "std        12.765911      7.859425       8.68175     15.927569     20.153963   \n",
       "min        13.000000      2.000000       2.00000      6.000000      1.000000   \n",
       "25%        33.000000     13.000000      15.00000     55.000000     38.000000   \n",
       "50%        41.000000     17.000000      20.00000     66.000000     56.000000   \n",
       "75%        50.000000     22.000000      26.00000     77.000000     67.000000   \n",
       "max       117.000000     67.000000      65.00000    100.000000     99.000000   \n",
       "\n",
       "        Pressure9am   Pressure3pm      Cloud9am      Cloud3pm       Temp9am  \\\n",
       "count  10000.000000  10000.000000  10000.000000  10000.000000  10000.000000   \n",
       "mean    1018.095680   1015.665330      4.071600      4.236100     18.991300   \n",
       "std        6.218034      6.184112      2.757795      2.571307      4.635805   \n",
       "min      980.500000    979.000000      0.000000      0.000000      4.000000   \n",
       "25%     1014.075000   1011.700000      1.000000      2.000000     15.900000   \n",
       "50%     1018.200000   1015.800000      4.000000      4.000000     19.300000   \n",
       "75%     1022.300000   1019.800000      7.000000      7.000000     22.400000   \n",
       "max     1039.000000   1037.000000      8.000000      8.000000     37.300000   \n",
       "\n",
       "            Temp3pm  \n",
       "count  10000.000000  \n",
       "mean      22.403700  \n",
       "std        5.125857  \n",
       "min        8.200000  \n",
       "25%       18.600000  \n",
       "50%       21.700000  \n",
       "75%       25.300000  \n",
       "max       45.800000  "
      ]
     },
     "execution_count": 6,
     "metadata": {},
     "output_type": "execute_result"
    }
   ],
   "source": [
    "data.drop(['RainToday','RainTomorrow'], axis=1).describe() #bez dwóch ostatnich bo kategoryczne"
   ]
  },
  {
   "cell_type": "markdown",
   "metadata": {},
   "source": [
    "### Rozkłady zmiennych"
   ]
  },
  {
   "cell_type": "code",
   "execution_count": 7,
   "metadata": {},
   "outputs": [
    {
     "data": {
      "text/plain": [
       "array([[<matplotlib.axes._subplots.AxesSubplot object at 0x0000021A7697E808>,\n",
       "        <matplotlib.axes._subplots.AxesSubplot object at 0x0000021A6F32D688>,\n",
       "        <matplotlib.axes._subplots.AxesSubplot object at 0x0000021A76732248>,\n",
       "        <matplotlib.axes._subplots.AxesSubplot object at 0x0000021A76762C08>],\n",
       "       [<matplotlib.axes._subplots.AxesSubplot object at 0x0000021A76806988>,\n",
       "        <matplotlib.axes._subplots.AxesSubplot object at 0x0000021A7683F708>,\n",
       "        <matplotlib.axes._subplots.AxesSubplot object at 0x0000021A76874488>,\n",
       "        <matplotlib.axes._subplots.AxesSubplot object at 0x0000021A768AA208>],\n",
       "       [<matplotlib.axes._subplots.AxesSubplot object at 0x0000021A768B4088>,\n",
       "        <matplotlib.axes._subplots.AxesSubplot object at 0x0000021A768DFFC8>,\n",
       "        <matplotlib.axes._subplots.AxesSubplot object at 0x0000021A76B8AE08>,\n",
       "        <matplotlib.axes._subplots.AxesSubplot object at 0x0000021A76BC2F48>],\n",
       "       [<matplotlib.axes._subplots.AxesSubplot object at 0x0000021A76BFF088>,\n",
       "        <matplotlib.axes._subplots.AxesSubplot object at 0x0000021A76C37188>,\n",
       "        <matplotlib.axes._subplots.AxesSubplot object at 0x0000021A76C6F248>,\n",
       "        <matplotlib.axes._subplots.AxesSubplot object at 0x0000021A76CA6348>]],\n",
       "      dtype=object)"
      ]
     },
     "execution_count": 7,
     "metadata": {},
     "output_type": "execute_result"
    },
    {
     "data": {
      "image/png": "[encoded data removed]",
      "text/plain": [
       "<Figure size 1152x1296 with 16 Axes>"
      ]
     },
     "metadata": {
      "needs_background": "light"
     },
     "output_type": "display_data"
    }
   ],
   "source": [
    "data.drop([\"RainTomorrow\", \"RainToday\"], axis=1).hist(figsize=(16,18))"
   ]
  },
  {
   "cell_type": "markdown",
   "metadata": {},
   "source": [
    "## Podział na zbiór treningowy i zbiór testowy"
   ]
  },
  {
   "cell_type": "code",
   "execution_count": 8,
   "metadata": {},
   "outputs": [
    {
     "data": {
      "text/html": [
       "<div>\n",
       "<style scoped>\n",
       "    .dataframe tbody tr th:only-of-type {\n",
       "        vertical-align: middle;\n",
       "    }\n",
       "\n",
       "    .dataframe tbody tr th {\n",
       "        vertical-align: top;\n",
       "    }\n",
       "\n",
       "    .dataframe thead th {\n",
       "        text-align: right;\n",
       "    }\n",
       "</style>\n",
       "<table border=\"1\" class=\"dataframe\">\n",
       "  <thead>\n",
       "    <tr style=\"text-align: right;\">\n",
       "      <th></th>\n",
       "      <th>MinTemp</th>\n",
       "      <th>MaxTemp</th>\n",
       "      <th>Rainfall</th>\n",
       "      <th>Evaporation</th>\n",
       "      <th>Sunshine</th>\n",
       "      <th>WindGustSpeed</th>\n",
       "      <th>WindSpeed9am</th>\n",
       "      <th>WindSpeed3pm</th>\n",
       "      <th>Humidity9am</th>\n",
       "      <th>Humidity3pm</th>\n",
       "      <th>Pressure9am</th>\n",
       "      <th>Pressure3pm</th>\n",
       "      <th>Cloud9am</th>\n",
       "      <th>Cloud3pm</th>\n",
       "      <th>Temp9am</th>\n",
       "      <th>Temp3pm</th>\n",
       "      <th>RainToday</th>\n",
       "    </tr>\n",
       "  </thead>\n",
       "  <tbody>\n",
       "    <tr>\n",
       "      <td>0</td>\n",
       "      <td>17.9</td>\n",
       "      <td>35.2</td>\n",
       "      <td>0.0</td>\n",
       "      <td>12.0</td>\n",
       "      <td>12.3</td>\n",
       "      <td>48.0</td>\n",
       "      <td>6.0</td>\n",
       "      <td>20.0</td>\n",
       "      <td>20.0</td>\n",
       "      <td>13.0</td>\n",
       "      <td>1006.3</td>\n",
       "      <td>1004.4</td>\n",
       "      <td>2.0</td>\n",
       "      <td>5.0</td>\n",
       "      <td>26.6</td>\n",
       "      <td>33.4</td>\n",
       "      <td>0</td>\n",
       "    </tr>\n",
       "    <tr>\n",
       "      <td>1</td>\n",
       "      <td>18.4</td>\n",
       "      <td>28.9</td>\n",
       "      <td>0.0</td>\n",
       "      <td>14.8</td>\n",
       "      <td>13.0</td>\n",
       "      <td>37.0</td>\n",
       "      <td>19.0</td>\n",
       "      <td>19.0</td>\n",
       "      <td>30.0</td>\n",
       "      <td>8.0</td>\n",
       "      <td>1012.9</td>\n",
       "      <td>1012.1</td>\n",
       "      <td>1.0</td>\n",
       "      <td>1.0</td>\n",
       "      <td>20.3</td>\n",
       "      <td>27.0</td>\n",
       "      <td>0</td>\n",
       "    </tr>\n",
       "    <tr>\n",
       "      <td>2</td>\n",
       "      <td>19.4</td>\n",
       "      <td>37.6</td>\n",
       "      <td>0.0</td>\n",
       "      <td>10.8</td>\n",
       "      <td>10.6</td>\n",
       "      <td>46.0</td>\n",
       "      <td>30.0</td>\n",
       "      <td>15.0</td>\n",
       "      <td>42.0</td>\n",
       "      <td>22.0</td>\n",
       "      <td>1012.3</td>\n",
       "      <td>1009.2</td>\n",
       "      <td>1.0</td>\n",
       "      <td>6.0</td>\n",
       "      <td>28.7</td>\n",
       "      <td>34.9</td>\n",
       "      <td>0</td>\n",
       "    </tr>\n",
       "    <tr>\n",
       "      <td>3</td>\n",
       "      <td>21.9</td>\n",
       "      <td>38.4</td>\n",
       "      <td>0.0</td>\n",
       "      <td>11.4</td>\n",
       "      <td>12.2</td>\n",
       "      <td>31.0</td>\n",
       "      <td>6.0</td>\n",
       "      <td>6.0</td>\n",
       "      <td>37.0</td>\n",
       "      <td>22.0</td>\n",
       "      <td>1012.7</td>\n",
       "      <td>1009.1</td>\n",
       "      <td>1.0</td>\n",
       "      <td>5.0</td>\n",
       "      <td>29.1</td>\n",
       "      <td>35.6</td>\n",
       "      <td>0</td>\n",
       "    </tr>\n",
       "    <tr>\n",
       "      <td>4</td>\n",
       "      <td>24.2</td>\n",
       "      <td>41.0</td>\n",
       "      <td>0.0</td>\n",
       "      <td>11.2</td>\n",
       "      <td>8.4</td>\n",
       "      <td>35.0</td>\n",
       "      <td>17.0</td>\n",
       "      <td>13.0</td>\n",
       "      <td>19.0</td>\n",
       "      <td>15.0</td>\n",
       "      <td>1010.7</td>\n",
       "      <td>1007.4</td>\n",
       "      <td>1.0</td>\n",
       "      <td>6.0</td>\n",
       "      <td>33.6</td>\n",
       "      <td>37.6</td>\n",
       "      <td>0</td>\n",
       "    </tr>\n",
       "    <tr>\n",
       "      <td>5</td>\n",
       "      <td>27.1</td>\n",
       "      <td>36.1</td>\n",
       "      <td>0.0</td>\n",
       "      <td>13.0</td>\n",
       "      <td>0.0</td>\n",
       "      <td>43.0</td>\n",
       "      <td>7.0</td>\n",
       "      <td>20.0</td>\n",
       "      <td>26.0</td>\n",
       "      <td>19.0</td>\n",
       "      <td>1007.7</td>\n",
       "      <td>1007.4</td>\n",
       "      <td>8.0</td>\n",
       "      <td>8.0</td>\n",
       "      <td>30.7</td>\n",
       "      <td>34.3</td>\n",
       "      <td>0</td>\n",
       "    </tr>\n",
       "    <tr>\n",
       "      <td>6</td>\n",
       "      <td>23.3</td>\n",
       "      <td>34.0</td>\n",
       "      <td>0.0</td>\n",
       "      <td>9.8</td>\n",
       "      <td>12.6</td>\n",
       "      <td>41.0</td>\n",
       "      <td>17.0</td>\n",
       "      <td>19.0</td>\n",
       "      <td>33.0</td>\n",
       "      <td>15.0</td>\n",
       "      <td>1011.3</td>\n",
       "      <td>1009.9</td>\n",
       "      <td>3.0</td>\n",
       "      <td>1.0</td>\n",
       "      <td>25.0</td>\n",
       "      <td>31.5</td>\n",
       "      <td>0</td>\n",
       "    </tr>\n",
       "    <tr>\n",
       "      <td>7</td>\n",
       "      <td>16.1</td>\n",
       "      <td>34.2</td>\n",
       "      <td>0.0</td>\n",
       "      <td>14.6</td>\n",
       "      <td>13.2</td>\n",
       "      <td>37.0</td>\n",
       "      <td>15.0</td>\n",
       "      <td>6.0</td>\n",
       "      <td>25.0</td>\n",
       "      <td>9.0</td>\n",
       "      <td>1013.3</td>\n",
       "      <td>1009.2</td>\n",
       "      <td>1.0</td>\n",
       "      <td>1.0</td>\n",
       "      <td>20.7</td>\n",
       "      <td>32.8</td>\n",
       "      <td>0</td>\n",
       "    </tr>\n",
       "    <tr>\n",
       "      <td>8</td>\n",
       "      <td>19.0</td>\n",
       "      <td>35.5</td>\n",
       "      <td>0.0</td>\n",
       "      <td>12.0</td>\n",
       "      <td>12.3</td>\n",
       "      <td>48.0</td>\n",
       "      <td>30.0</td>\n",
       "      <td>9.0</td>\n",
       "      <td>46.0</td>\n",
       "      <td>28.0</td>\n",
       "      <td>1008.3</td>\n",
       "      <td>1004.0</td>\n",
       "      <td>1.0</td>\n",
       "      <td>5.0</td>\n",
       "      <td>23.4</td>\n",
       "      <td>33.3</td>\n",
       "      <td>0</td>\n",
       "    </tr>\n",
       "    <tr>\n",
       "      <td>9</td>\n",
       "      <td>19.7</td>\n",
       "      <td>35.5</td>\n",
       "      <td>0.0</td>\n",
       "      <td>11.0</td>\n",
       "      <td>12.7</td>\n",
       "      <td>41.0</td>\n",
       "      <td>15.0</td>\n",
       "      <td>17.0</td>\n",
       "      <td>61.0</td>\n",
       "      <td>14.0</td>\n",
       "      <td>1007.9</td>\n",
       "      <td>1005.8</td>\n",
       "      <td>1.0</td>\n",
       "      <td>5.0</td>\n",
       "      <td>24.0</td>\n",
       "      <td>33.6</td>\n",
       "      <td>0</td>\n",
       "    </tr>\n",
       "  </tbody>\n",
       "</table>\n",
       "</div>"
      ],
      "text/plain": [
       "   MinTemp  MaxTemp  Rainfall  Evaporation  Sunshine  WindGustSpeed  \\\n",
       "0     17.9     35.2       0.0         12.0      12.3           48.0   \n",
       "1     18.4     28.9       0.0         14.8      13.0           37.0   \n",
       "2     19.4     37.6       0.0         10.8      10.6           46.0   \n",
       "3     21.9     38.4       0.0         11.4      12.2           31.0   \n",
       "4     24.2     41.0       0.0         11.2       8.4           35.0   \n",
       "5     27.1     36.1       0.0         13.0       0.0           43.0   \n",
       "6     23.3     34.0       0.0          9.8      12.6           41.0   \n",
       "7     16.1     34.2       0.0         14.6      13.2           37.0   \n",
       "8     19.0     35.5       0.0         12.0      12.3           48.0   \n",
       "9     19.7     35.5       0.0         11.0      12.7           41.0   \n",
       "\n",
       "   WindSpeed9am  WindSpeed3pm  Humidity9am  Humidity3pm  Pressure9am  \\\n",
       "0           6.0          20.0         20.0         13.0       1006.3   \n",
       "1          19.0          19.0         30.0          8.0       1012.9   \n",
       "2          30.0          15.0         42.0         22.0       1012.3   \n",
       "3           6.0           6.0         37.0         22.0       1012.7   \n",
       "4          17.0          13.0         19.0         15.0       1010.7   \n",
       "5           7.0          20.0         26.0         19.0       1007.7   \n",
       "6          17.0          19.0         33.0         15.0       1011.3   \n",
       "7          15.0           6.0         25.0          9.0       1013.3   \n",
       "8          30.0           9.0         46.0         28.0       1008.3   \n",
       "9          15.0          17.0         61.0         14.0       1007.9   \n",
       "\n",
       "   Pressure3pm  Cloud9am  Cloud3pm  Temp9am  Temp3pm  RainToday  \n",
       "0       1004.4       2.0       5.0     26.6     33.4          0  \n",
       "1       1012.1       1.0       1.0     20.3     27.0          0  \n",
       "2       1009.2       1.0       6.0     28.7     34.9          0  \n",
       "3       1009.1       1.0       5.0     29.1     35.6          0  \n",
       "4       1007.4       1.0       6.0     33.6     37.6          0  \n",
       "5       1007.4       8.0       8.0     30.7     34.3          0  \n",
       "6       1009.9       3.0       1.0     25.0     31.5          0  \n",
       "7       1009.2       1.0       1.0     20.7     32.8          0  \n",
       "8       1004.0       1.0       5.0     23.4     33.3          0  \n",
       "9       1005.8       1.0       5.0     24.0     33.6          0  "
      ]
     },
     "execution_count": 8,
     "metadata": {},
     "output_type": "execute_result"
    }
   ],
   "source": [
    "y=data.RainTomorrow\n",
    "x=data.drop('RainTomorrow',axis=1)\n",
    "x.head(10)"
   ]
  },
  {
   "cell_type": "code",
   "execution_count": 9,
   "metadata": {},
   "outputs": [
    {
     "data": {
      "text/html": [
       "<div>\n",
       "<style scoped>\n",
       "    .dataframe tbody tr th:only-of-type {\n",
       "        vertical-align: middle;\n",
       "    }\n",
       "\n",
       "    .dataframe tbody tr th {\n",
       "        vertical-align: top;\n",
       "    }\n",
       "\n",
       "    .dataframe thead th {\n",
       "        text-align: right;\n",
       "    }\n",
       "</style>\n",
       "<table border=\"1\" class=\"dataframe\">\n",
       "  <thead>\n",
       "    <tr style=\"text-align: right;\">\n",
       "      <th></th>\n",
       "      <th>MinTemp</th>\n",
       "      <th>MaxTemp</th>\n",
       "      <th>Rainfall</th>\n",
       "      <th>Evaporation</th>\n",
       "      <th>Sunshine</th>\n",
       "      <th>WindGustSpeed</th>\n",
       "      <th>WindSpeed9am</th>\n",
       "      <th>WindSpeed3pm</th>\n",
       "      <th>Humidity9am</th>\n",
       "      <th>Humidity3pm</th>\n",
       "      <th>Pressure9am</th>\n",
       "      <th>Pressure3pm</th>\n",
       "      <th>Cloud9am</th>\n",
       "      <th>Cloud3pm</th>\n",
       "      <th>Temp9am</th>\n",
       "      <th>Temp3pm</th>\n",
       "      <th>RainToday</th>\n",
       "    </tr>\n",
       "  </thead>\n",
       "  <tbody>\n",
       "    <tr>\n",
       "      <td>5440</td>\n",
       "      <td>14.9</td>\n",
       "      <td>20.7</td>\n",
       "      <td>2.2</td>\n",
       "      <td>5.8</td>\n",
       "      <td>10.1</td>\n",
       "      <td>52.0</td>\n",
       "      <td>30.0</td>\n",
       "      <td>28.0</td>\n",
       "      <td>66.0</td>\n",
       "      <td>52.0</td>\n",
       "      <td>1014.3</td>\n",
       "      <td>1013.7</td>\n",
       "      <td>5.0</td>\n",
       "      <td>2.0</td>\n",
       "      <td>18.2</td>\n",
       "      <td>19.4</td>\n",
       "      <td>1</td>\n",
       "    </tr>\n",
       "    <tr>\n",
       "      <td>2829</td>\n",
       "      <td>15.5</td>\n",
       "      <td>26.8</td>\n",
       "      <td>0.0</td>\n",
       "      <td>10.0</td>\n",
       "      <td>6.4</td>\n",
       "      <td>31.0</td>\n",
       "      <td>20.0</td>\n",
       "      <td>9.0</td>\n",
       "      <td>59.0</td>\n",
       "      <td>37.0</td>\n",
       "      <td>1018.1</td>\n",
       "      <td>1014.2</td>\n",
       "      <td>6.0</td>\n",
       "      <td>7.0</td>\n",
       "      <td>20.9</td>\n",
       "      <td>26.0</td>\n",
       "      <td>0</td>\n",
       "    </tr>\n",
       "    <tr>\n",
       "      <td>7932</td>\n",
       "      <td>14.6</td>\n",
       "      <td>22.2</td>\n",
       "      <td>0.2</td>\n",
       "      <td>4.0</td>\n",
       "      <td>10.0</td>\n",
       "      <td>50.0</td>\n",
       "      <td>22.0</td>\n",
       "      <td>13.0</td>\n",
       "      <td>47.0</td>\n",
       "      <td>25.0</td>\n",
       "      <td>1023.6</td>\n",
       "      <td>1023.2</td>\n",
       "      <td>1.0</td>\n",
       "      <td>1.0</td>\n",
       "      <td>17.2</td>\n",
       "      <td>21.1</td>\n",
       "      <td>0</td>\n",
       "    </tr>\n",
       "    <tr>\n",
       "      <td>1761</td>\n",
       "      <td>14.7</td>\n",
       "      <td>23.5</td>\n",
       "      <td>1.6</td>\n",
       "      <td>3.8</td>\n",
       "      <td>9.4</td>\n",
       "      <td>35.0</td>\n",
       "      <td>17.0</td>\n",
       "      <td>9.0</td>\n",
       "      <td>71.0</td>\n",
       "      <td>65.0</td>\n",
       "      <td>1025.2</td>\n",
       "      <td>1022.3</td>\n",
       "      <td>6.0</td>\n",
       "      <td>7.0</td>\n",
       "      <td>20.8</td>\n",
       "      <td>22.5</td>\n",
       "      <td>1</td>\n",
       "    </tr>\n",
       "    <tr>\n",
       "      <td>8201</td>\n",
       "      <td>11.0</td>\n",
       "      <td>22.5</td>\n",
       "      <td>0.0</td>\n",
       "      <td>6.0</td>\n",
       "      <td>11.0</td>\n",
       "      <td>37.0</td>\n",
       "      <td>9.0</td>\n",
       "      <td>30.0</td>\n",
       "      <td>30.0</td>\n",
       "      <td>31.0</td>\n",
       "      <td>1017.5</td>\n",
       "      <td>1013.0</td>\n",
       "      <td>0.0</td>\n",
       "      <td>0.0</td>\n",
       "      <td>18.4</td>\n",
       "      <td>21.4</td>\n",
       "      <td>0</td>\n",
       "    </tr>\n",
       "  </tbody>\n",
       "</table>\n",
       "</div>"
      ],
      "text/plain": [
       "      MinTemp  MaxTemp  Rainfall  Evaporation  Sunshine  WindGustSpeed  \\\n",
       "5440     14.9     20.7       2.2          5.8      10.1           52.0   \n",
       "2829     15.5     26.8       0.0         10.0       6.4           31.0   \n",
       "7932     14.6     22.2       0.2          4.0      10.0           50.0   \n",
       "1761     14.7     23.5       1.6          3.8       9.4           35.0   \n",
       "8201     11.0     22.5       0.0          6.0      11.0           37.0   \n",
       "\n",
       "      WindSpeed9am  WindSpeed3pm  Humidity9am  Humidity3pm  Pressure9am  \\\n",
       "5440          30.0          28.0         66.0         52.0       1014.3   \n",
       "2829          20.0           9.0         59.0         37.0       1018.1   \n",
       "7932          22.0          13.0         47.0         25.0       1023.6   \n",
       "1761          17.0           9.0         71.0         65.0       1025.2   \n",
       "8201           9.0          30.0         30.0         31.0       1017.5   \n",
       "\n",
       "      Pressure3pm  Cloud9am  Cloud3pm  Temp9am  Temp3pm  RainToday  \n",
       "5440       1013.7       5.0       2.0     18.2     19.4          1  \n",
       "2829       1014.2       6.0       7.0     20.9     26.0          0  \n",
       "7932       1023.2       1.0       1.0     17.2     21.1          0  \n",
       "1761       1022.3       6.0       7.0     20.8     22.5          1  \n",
       "8201       1013.0       0.0       0.0     18.4     21.4          0  "
      ]
     },
     "execution_count": 9,
     "metadata": {},
     "output_type": "execute_result"
    }
   ],
   "source": [
    "x_train,x_test,y_train,y_test=train_test_split(x,y,test_size=0.2)\n",
    "x_train.head()"
   ]
  },
  {
   "cell_type": "markdown",
   "metadata": {},
   "source": [
    "### Skalowanie danych"
   ]
  },
  {
   "cell_type": "code",
   "execution_count": 10,
   "metadata": {},
   "outputs": [],
   "source": [
    "standard_scaler=StandardScaler()\n",
    "x_train = standard_scaler.fit_transform(x_train)\n",
    "x_test = standard_scaler.transform(x_test)"
   ]
  },
  {
   "cell_type": "markdown",
   "metadata": {},
   "source": [
    "### Zróżnicowanie kolumny \"Rain Tomorrow\", czyli zmiennej celu"
   ]
  },
  {
   "cell_type": "code",
   "execution_count": 11,
   "metadata": {},
   "outputs": [
    {
     "data": {
      "text/plain": [
       "([<matplotlib.axis.XTick at 0x21a76f33fc8>,\n",
       "  <matplotlib.axis.XTick at 0x21a765e9bc8>],\n",
       " <a list of 2 Text xticklabel objects>)"
      ]
     },
     "execution_count": 11,
     "metadata": {},
     "output_type": "execute_result"
    },
    {
     "data": {
      "image/png": "[encoded data removed]",
      "text/plain": [
       "<Figure size 432x288 with 1 Axes>"
      ]
     },
     "metadata": {
      "needs_background": "light"
     },
     "output_type": "display_data"
    }
   ],
   "source": [
    "height = [len(data.RainTomorrow[data.RainTomorrow==0]), len(data.RainTomorrow[data.RainTomorrow==1])]\n",
    "bars = [\"No rain\", \"Rain\"]\n",
    "plt.bar([0,1], height)\n",
    "plt.xticks([0,1], bars)"
   ]
  },
  {
   "cell_type": "markdown",
   "metadata": {},
   "source": [
    "Jak widać zmienna celu nie jest zróżnicowana - dużo więcej obserwacji jest sklasyfikowanych jako \"No rain\" , tak więc Accuracy będzie w tym przypadku złą miarą modeli. Użyjemy więc precission&recall, F1 oraz krzywej ROC"
   ]
  },
  {
   "cell_type": "markdown",
   "metadata": {},
   "source": [
    "## Regresja logistyczna\n"
   ]
  },
  {
   "cell_type": "code",
   "execution_count": 13,
   "metadata": {},
   "outputs": [],
   "source": [
    "#model\n",
    "lr = LogisticRegression(max_iter=1000, solver=\"sag\", penalty='l2')"
   ]
  },
  {
   "cell_type": "markdown",
   "metadata": {},
   "source": [
    "### Niektóre hiperparametry "
   ]
  },
  {
   "cell_type": "markdown",
   "metadata": {},
   "source": [
    "*penalty* - norma użyta w \"karaniu\" za błędy <br>\n",
    "*max_iter* - maksymalna liczba wykonywanych iteracji <br>\n",
    "*solver* - algorytm używany przy problemie optymalizacji"
   ]
  },
  {
   "cell_type": "code",
   "execution_count": 14,
   "metadata": {},
   "outputs": [
    {
     "data": {
      "text/plain": [
       "LogisticRegression(C=1.0, class_weight=None, dual=False, fit_intercept=True,\n",
       "                   intercept_scaling=1, l1_ratio=None, max_iter=1000,\n",
       "                   multi_class='auto', n_jobs=None, penalty='l2',\n",
       "                   random_state=None, solver='sag', tol=0.0001, verbose=0,\n",
       "                   warm_start=False)"
      ]
     },
     "execution_count": 14,
     "metadata": {},
     "output_type": "execute_result"
    }
   ],
   "source": [
    "lr.fit(x_train, y_train)"
   ]
  },
  {
   "cell_type": "code",
   "execution_count": 15,
   "metadata": {},
   "outputs": [],
   "source": [
    "log_class = lr.predict(x_test) #predykowane klasy"
   ]
  },
  {
   "cell_type": "code",
   "execution_count": 16,
   "metadata": {},
   "outputs": [],
   "source": [
    "log_prob = lr.predict_proba(x_test) #predykowane prawdopodobieństwa należności do klas\n",
    "log_prob = log_prob[:,1] #dla klasy 1 - prawdopodobieństwo że będzie padało"
   ]
  },
  {
   "cell_type": "markdown",
   "metadata": {},
   "source": [
    "## Gradient Boosting"
   ]
  },
  {
   "cell_type": "code",
   "execution_count": 17,
   "metadata": {},
   "outputs": [],
   "source": [
    "gb = GradientBoostingClassifier(learning_rate=0.1,n_estimators=150, loss=\"deviance\", min_samples_split=2, min_samples_leaf=1) #tworzenie modelu"
   ]
  },
  {
   "cell_type": "markdown",
   "metadata": {},
   "source": [
    "### Niektóre hiperparametry"
   ]
  },
  {
   "cell_type": "markdown",
   "metadata": {},
   "source": [
    "*loss* - funkcja do optymmalizowania - 'deviance':regresja logistyczna, 'exponential': AdaBoost <br>\n",
    "*n_estimators* - ile etapów boostingu chcemy wykonać <br>\n",
    "*min_samples_split* - minimalna liczba próbek do podzielenia węzła (default=2) <br>\n",
    "*min_samples_leaf* - minimalna liczba próbek w liściu (dafault = 1) <br>\n",
    "*learning_rate* - \"szybkość\" uczenia się"
   ]
  },
  {
   "cell_type": "code",
   "execution_count": 18,
   "metadata": {},
   "outputs": [
    {
     "data": {
      "text/plain": [
       "GradientBoostingClassifier(ccp_alpha=0.0, criterion='friedman_mse', init=None,\n",
       "                           learning_rate=0.1, loss='deviance', max_depth=3,\n",
       "                           max_features=None, max_leaf_nodes=None,\n",
       "                           min_impurity_decrease=0.0, min_impurity_split=None,\n",
       "                           min_samples_leaf=1, min_samples_split=2,\n",
       "                           min_weight_fraction_leaf=0.0, n_estimators=150,\n",
       "                           n_iter_no_change=None, presort='deprecated',\n",
       "                           random_state=None, subsample=1.0, tol=0.0001,\n",
       "                           validation_fraction=0.1, verbose=0,\n",
       "                           warm_start=False)"
      ]
     },
     "execution_count": 18,
     "metadata": {},
     "output_type": "execute_result"
    }
   ],
   "source": [
    "gb.fit(x_train, y_train)\n"
   ]
  },
  {
   "cell_type": "code",
   "execution_count": 19,
   "metadata": {},
   "outputs": [],
   "source": [
    "gb_class = gb.predict(x_test) # predykowane klasy"
   ]
  },
  {
   "cell_type": "code",
   "execution_count": 20,
   "metadata": {},
   "outputs": [],
   "source": [
    "gb_prob = gb.predict_proba(x_test) #predykowane prawdopodbieństwa należności do klas\n",
    "gb_prob = gb_prob[:,1]  #dla klasy 1 - prawdopodobieństwo że będzie padało"
   ]
  },
  {
   "cell_type": "markdown",
   "metadata": {},
   "source": [
    "## Decision Tree"
   ]
  },
  {
   "cell_type": "code",
   "execution_count": 21,
   "metadata": {},
   "outputs": [],
   "source": [
    "dt = DecisionTreeClassifier(max_depth=5, splitter=\"best\", min_samples_leaf=2, min_samples_split=3) #model\n"
   ]
  },
  {
   "cell_type": "markdown",
   "metadata": {},
   "source": [
    "### Niektóre hiperparametry"
   ]
  },
  {
   "cell_type": "markdown",
   "metadata": {},
   "source": [
    "*splitter* - strategia używana do podziału w każdym węźle - \"best\" (defalut) albo \"random <br>\n",
    "*criterion* - funkcja używana do oceny jakości podziału węzła <br>\n",
    "*max_depth* - maksymalna głębokość drzewa <br>\n",
    "*min_samples_split* - minimalna liczba próbek do podzielenia węzła (default=2) <br>\n",
    "*min_samples_leaf* - minimalna liczba próbek w liściu (dafault = 1)\n",
    "\n"
   ]
  },
  {
   "cell_type": "code",
   "execution_count": 22,
   "metadata": {},
   "outputs": [
    {
     "data": {
      "text/plain": [
       "DecisionTreeClassifier(ccp_alpha=0.0, class_weight=None, criterion='gini',\n",
       "                       max_depth=5, max_features=None, max_leaf_nodes=None,\n",
       "                       min_impurity_decrease=0.0, min_impurity_split=None,\n",
       "                       min_samples_leaf=2, min_samples_split=3,\n",
       "                       min_weight_fraction_leaf=0.0, presort='deprecated',\n",
       "                       random_state=None, splitter='best')"
      ]
     },
     "execution_count": 22,
     "metadata": {},
     "output_type": "execute_result"
    }
   ],
   "source": [
    "dt.fit(x_train, y_train)"
   ]
  },
  {
   "cell_type": "code",
   "execution_count": 23,
   "metadata": {},
   "outputs": [],
   "source": [
    "dt_class = dt.predict(x_test)\n"
   ]
  },
  {
   "cell_type": "code",
   "execution_count": 24,
   "metadata": {},
   "outputs": [],
   "source": [
    "dt_prob=dt.predict_proba(x_test)\n",
    "dt_prob=dt_prob[:,1]"
   ]
  },
  {
   "cell_type": "markdown",
   "metadata": {},
   "source": [
    "# Oceny klasyfikatorów "
   ]
  },
  {
   "cell_type": "markdown",
   "metadata": {},
   "source": [
    "## Precision i Recall"
   ]
  },
  {
   "cell_type": "markdown",
   "metadata": {},
   "source": [
    "### Precision\n"
   ]
  },
  {
   "cell_type": "code",
   "execution_count": 25,
   "metadata": {},
   "outputs": [
    {
     "data": {
      "text/html": [
       "<div>\n",
       "<style scoped>\n",
       "    .dataframe tbody tr th:only-of-type {\n",
       "        vertical-align: middle;\n",
       "    }\n",
       "\n",
       "    .dataframe tbody tr th {\n",
       "        vertical-align: top;\n",
       "    }\n",
       "\n",
       "    .dataframe thead th {\n",
       "        text-align: right;\n",
       "    }\n",
       "</style>\n",
       "<table border=\"1\" class=\"dataframe\">\n",
       "  <thead>\n",
       "    <tr style=\"text-align: right;\">\n",
       "      <th></th>\n",
       "      <th>method</th>\n",
       "      <th>precision</th>\n",
       "    </tr>\n",
       "  </thead>\n",
       "  <tbody>\n",
       "    <tr>\n",
       "      <td>0</td>\n",
       "      <td>Logistic Regression</td>\n",
       "      <td>0.711590</td>\n",
       "    </tr>\n",
       "    <tr>\n",
       "      <td>1</td>\n",
       "      <td>Gradient Booster</td>\n",
       "      <td>0.734104</td>\n",
       "    </tr>\n",
       "    <tr>\n",
       "      <td>2</td>\n",
       "      <td>Decision Tree</td>\n",
       "      <td>0.718654</td>\n",
       "    </tr>\n",
       "  </tbody>\n",
       "</table>\n",
       "</div>"
      ],
      "text/plain": [
       "                method  precision\n",
       "0  Logistic Regression   0.711590\n",
       "1     Gradient Booster   0.734104\n",
       "2        Decision Tree   0.718654"
      ]
     },
     "execution_count": 25,
     "metadata": {},
     "output_type": "execute_result"
    }
   ],
   "source": [
    "precision = [sklearn.metrics.precision_score(y_test, log_class),sklearn.metrics.precision_score(y_test, gb_class),sklearn.metrics.precision_score(y_test, dt_class)]\n",
    "bars = [\"Logistic Regression\", \"Gradient Booster\", \"Decision Tree\"]\n",
    "d={'method':bars, 'precision':precision}\n",
    "pd.DataFrame(d)"
   ]
  },
  {
   "cell_type": "code",
   "execution_count": 26,
   "metadata": {},
   "outputs": [
    {
     "data": {
      "text/plain": [
       "Text(0.5, 1.0, 'Precision values for classifiers')"
      ]
     },
     "execution_count": 26,
     "metadata": {},
     "output_type": "execute_result"
    },
    {
     "data": {
      "image/png": "[encoded data removed]",
      "text/plain": [
       "<Figure size 432x288 with 1 Axes>"
      ]
     },
     "metadata": {
      "needs_background": "light"
     },
     "output_type": "display_data"
    }
   ],
   "source": [
    "plt.bar([0,1,2], precision, color=\"orange\")\n",
    "plt.xticks([0,1,2], bars)\n",
    "plt.title(\"Precision values for classifiers\")\n",
    "\n"
   ]
  },
  {
   "cell_type": "markdown",
   "metadata": {},
   "source": [
    "### Recall"
   ]
  },
  {
   "cell_type": "code",
   "execution_count": 27,
   "metadata": {},
   "outputs": [
    {
     "data": {
      "text/html": [
       "<div>\n",
       "<style scoped>\n",
       "    .dataframe tbody tr th:only-of-type {\n",
       "        vertical-align: middle;\n",
       "    }\n",
       "\n",
       "    .dataframe tbody tr th {\n",
       "        vertical-align: top;\n",
       "    }\n",
       "\n",
       "    .dataframe thead th {\n",
       "        text-align: right;\n",
       "    }\n",
       "</style>\n",
       "<table border=\"1\" class=\"dataframe\">\n",
       "  <thead>\n",
       "    <tr style=\"text-align: right;\">\n",
       "      <th></th>\n",
       "      <th>method</th>\n",
       "      <th>recall</th>\n",
       "    </tr>\n",
       "  </thead>\n",
       "  <tbody>\n",
       "    <tr>\n",
       "      <td>0</td>\n",
       "      <td>Logistic Regression</td>\n",
       "      <td>0.548857</td>\n",
       "    </tr>\n",
       "    <tr>\n",
       "      <td>1</td>\n",
       "      <td>Gradient Booster</td>\n",
       "      <td>0.528067</td>\n",
       "    </tr>\n",
       "    <tr>\n",
       "      <td>2</td>\n",
       "      <td>Decision Tree</td>\n",
       "      <td>0.488565</td>\n",
       "    </tr>\n",
       "  </tbody>\n",
       "</table>\n",
       "</div>"
      ],
      "text/plain": [
       "                method    recall\n",
       "0  Logistic Regression  0.548857\n",
       "1     Gradient Booster  0.528067\n",
       "2        Decision Tree  0.488565"
      ]
     },
     "execution_count": 27,
     "metadata": {},
     "output_type": "execute_result"
    }
   ],
   "source": [
    "recall = [sklearn.metrics.recall_score(y_test, log_class),sklearn.metrics.recall_score(y_test, gb_class),sklearn.metrics.recall_score(y_test, dt_class)]\n",
    "bars = [\"Logistic Regression\", \"Gradient Booster\", \"Decision Tree\"]\n",
    "d={'method':bars, 'recall':recall}\n",
    "pd.DataFrame(d)"
   ]
  },
  {
   "cell_type": "code",
   "execution_count": 28,
   "metadata": {},
   "outputs": [
    {
     "data": {
      "text/plain": [
       "Text(0.5, 1.0, 'Recall values for classifiers')"
      ]
     },
     "execution_count": 28,
     "metadata": {},
     "output_type": "execute_result"
    },
    {
     "data": {
      "image/png": "[encoded data removed]",
      "text/plain": [
       "<Figure size 432x288 with 1 Axes>"
      ]
     },
     "metadata": {
      "needs_background": "light"
     },
     "output_type": "display_data"
    }
   ],
   "source": [
    "plt.bar([0,1,2], recall)\n",
    "plt.xticks([0,1,2], bars)\n",
    "plt.title(\"Recall values for classifiers\")"
   ]
  },
  {
   "cell_type": "markdown",
   "metadata": {},
   "source": [
    "### F1"
   ]
  },
  {
   "cell_type": "code",
   "execution_count": 29,
   "metadata": {},
   "outputs": [
    {
     "data": {
      "text/html": [
       "<div>\n",
       "<style scoped>\n",
       "    .dataframe tbody tr th:only-of-type {\n",
       "        vertical-align: middle;\n",
       "    }\n",
       "\n",
       "    .dataframe tbody tr th {\n",
       "        vertical-align: top;\n",
       "    }\n",
       "\n",
       "    .dataframe thead th {\n",
       "        text-align: right;\n",
       "    }\n",
       "</style>\n",
       "<table border=\"1\" class=\"dataframe\">\n",
       "  <thead>\n",
       "    <tr style=\"text-align: right;\">\n",
       "      <th></th>\n",
       "      <th>method</th>\n",
       "      <th>F1</th>\n",
       "    </tr>\n",
       "  </thead>\n",
       "  <tbody>\n",
       "    <tr>\n",
       "      <td>0</td>\n",
       "      <td>Logistic Regression</td>\n",
       "      <td>0.619718</td>\n",
       "    </tr>\n",
       "    <tr>\n",
       "      <td>1</td>\n",
       "      <td>Gradient Booster</td>\n",
       "      <td>0.614268</td>\n",
       "    </tr>\n",
       "    <tr>\n",
       "      <td>2</td>\n",
       "      <td>Decision Tree</td>\n",
       "      <td>0.581683</td>\n",
       "    </tr>\n",
       "  </tbody>\n",
       "</table>\n",
       "</div>"
      ],
      "text/plain": [
       "                method        F1\n",
       "0  Logistic Regression  0.619718\n",
       "1     Gradient Booster  0.614268\n",
       "2        Decision Tree  0.581683"
      ]
     },
     "execution_count": 29,
     "metadata": {},
     "output_type": "execute_result"
    }
   ],
   "source": [
    "f1 = [sklearn.metrics.f1_score(y_test, log_class),sklearn.metrics.f1_score(y_test, gb_class),sklearn.metrics.f1_score(y_test, dt_class)]\n",
    "bars = [\"Logistic Regression\", \"Gradient Booster\", \"Decision Tree\"]\n",
    "d={'method':bars, 'F1':f1}\n",
    "pd.DataFrame(d)"
   ]
  },
  {
   "cell_type": "code",
   "execution_count": 30,
   "metadata": {},
   "outputs": [
    {
     "data": {
      "text/plain": [
       "Text(0.5, 1.0, 'F1 values for classifiers')"
      ]
     },
     "execution_count": 30,
     "metadata": {},
     "output_type": "execute_result"
    },
    {
     "data": {
      "image/png": "[encoded data removed]",
      "text/plain": [
       "<Figure size 432x288 with 1 Axes>"
      ]
     },
     "metadata": {
      "needs_background": "light"
     },
     "output_type": "display_data"
    }
   ],
   "source": [
    "plt.bar([0,1,2], f1, color=\"lightblue\")\n",
    "plt.xticks([0,1,2], bars)\n",
    "plt.title(\"F1 values for classifiers\")"
   ]
  },
  {
   "cell_type": "markdown",
   "metadata": {},
   "source": [
    "Wartość F1 jest prawie taka sama dla wszystkich metod, natomiast różnią się one wartością precision i recall. Największe precision ma Gradient Booster, a największe recall - Decision Tree. W tym przypadku wydaje mi się, że bardziej zależy nam na wysokiej wartości recall (chcemy jak najczęściej poprawnie ocenić czy będzie padać), więc Decision Tree wydaje się być najlepszym rozwiązaniem z tych podanych przeze mnie. "
   ]
  },
  {
   "cell_type": "markdown",
   "metadata": {},
   "source": [
    "## Krzywa ROC"
   ]
  },
  {
   "cell_type": "code",
   "execution_count": 31,
   "metadata": {},
   "outputs": [],
   "source": [
    "#wyliczanie potrzebnych miar\n",
    "fpr_log, tpr_log, thresholds_log = sklearn.metrics.roc_curve(y_test, log_prob)\n",
    "fpr_gb, tpr_gb, thresholds_gb = sklearn.metrics.roc_curve(y_test, gb_prob) \n",
    "fpr_dt, tpr_dt, thresholds_dt = sklearn.metrics.roc_curve(y_test, dt_prob) "
   ]
  },
  {
   "cell_type": "code",
   "execution_count": 32,
   "metadata": {},
   "outputs": [
    {
     "data": {
      "text/plain": [
       "Text(0, 0.5, 'TP')"
      ]
     },
     "execution_count": 32,
     "metadata": {},
     "output_type": "execute_result"
    },
    {
     "data": {
      "image/png": "[encoded data removed]",
      "text/plain": [
       "<Figure size 432x288 with 1 Axes>"
      ]
     },
     "metadata": {
      "needs_background": "light"
     },
     "output_type": "display_data"
    }
   ],
   "source": [
    "plt.figure()\n",
    "plt.plot(fpr_log, tpr_log, label='Logistic Regression')\n",
    "plt.plot(fpr_gb, tpr_gb, label='Gradient Boost')\n",
    "plt.plot(fpr_dt, tpr_dt, label='Decision Tree')\n",
    "plt.plot([0,1],[0,1], '--', color=\"grey\")\n",
    "plt.title(\"ROC Curve\")\n",
    "plt.legend()\n",
    "plt.xlabel(\"FP\")\n",
    "plt.ylabel(\"TP\")"
   ]
  },
  {
   "cell_type": "markdown",
   "metadata": {},
   "source": [
    "### Pole pod krzywą ROC - AUC"
   ]
  },
  {
   "cell_type": "code",
   "execution_count": 33,
   "metadata": {},
   "outputs": [
    {
     "data": {
      "text/html": [
       "<div>\n",
       "<style scoped>\n",
       "    .dataframe tbody tr th:only-of-type {\n",
       "        vertical-align: middle;\n",
       "    }\n",
       "\n",
       "    .dataframe tbody tr th {\n",
       "        vertical-align: top;\n",
       "    }\n",
       "\n",
       "    .dataframe thead th {\n",
       "        text-align: right;\n",
       "    }\n",
       "</style>\n",
       "<table border=\"1\" class=\"dataframe\">\n",
       "  <thead>\n",
       "    <tr style=\"text-align: right;\">\n",
       "      <th></th>\n",
       "      <th>method</th>\n",
       "      <th>AUC</th>\n",
       "    </tr>\n",
       "  </thead>\n",
       "  <tbody>\n",
       "    <tr>\n",
       "      <td>0</td>\n",
       "      <td>Logistic Regression</td>\n",
       "      <td>0.875046</td>\n",
       "    </tr>\n",
       "    <tr>\n",
       "      <td>1</td>\n",
       "      <td>Gradient Booster</td>\n",
       "      <td>0.873359</td>\n",
       "    </tr>\n",
       "    <tr>\n",
       "      <td>2</td>\n",
       "      <td>Decision Tree</td>\n",
       "      <td>0.842855</td>\n",
       "    </tr>\n",
       "  </tbody>\n",
       "</table>\n",
       "</div>"
      ],
      "text/plain": [
       "                method       AUC\n",
       "0  Logistic Regression  0.875046\n",
       "1     Gradient Booster  0.873359\n",
       "2        Decision Tree  0.842855"
      ]
     },
     "execution_count": 33,
     "metadata": {},
     "output_type": "execute_result"
    }
   ],
   "source": [
    "auc = [sklearn.metrics.auc(fpr_log, tpr_log), sklearn.metrics.auc(fpr_gb, tpr_gb), sklearn.metrics.auc(fpr_dt, tpr_dt)]\n",
    "bars = [\"Logistic Regression\", \"Gradient Booster\", \"Decision Tree\"]\n",
    "d={'method':bars, 'AUC':auc}\n",
    "pd.DataFrame(d)"
   ]
  },
  {
   "cell_type": "markdown",
   "metadata": {},
   "source": [
    "Krzywe ROC dla klasyfikatorów są do siebie bardzo zbliżone. Podobnie miary AUC. Jednak Decision Tree, który wcześniej wybrałam jako najlepszy ma miarę AUC najniższą."
   ]
  },
  {
   "cell_type": "markdown",
   "metadata": {},
   "source": [
    "# Część 2 - dodatkowa praca domowa"
   ]
  },
  {
   "cell_type": "code",
   "execution_count": 34,
   "metadata": {},
   "outputs": [],
   "source": [
    "import category_encoders as ce\n",
    "from sklearn.linear_model import LinearRegression\n",
    "from sklearn.metrics import r2_score\n",
    "from sklearn.metrics import mean_squared_error"
   ]
  },
  {
   "cell_type": "code",
   "execution_count": 35,
   "metadata": {},
   "outputs": [],
   "source": [
    "df = pd.read_csv(\"https://www.dropbox.com/s/360xhh2d9lnaek3/allegro-api-transactions.csv?dl=1\")"
   ]
  },
  {
   "cell_type": "code",
   "execution_count": 36,
   "metadata": {},
   "outputs": [
    {
     "data": {
      "text/html": [
       "<div>\n",
       "<style scoped>\n",
       "    .dataframe tbody tr th:only-of-type {\n",
       "        vertical-align: middle;\n",
       "    }\n",
       "\n",
       "    .dataframe tbody tr th {\n",
       "        vertical-align: top;\n",
       "    }\n",
       "\n",
       "    .dataframe thead th {\n",
       "        text-align: right;\n",
       "    }\n",
       "</style>\n",
       "<table border=\"1\" class=\"dataframe\">\n",
       "  <thead>\n",
       "    <tr style=\"text-align: right;\">\n",
       "      <th></th>\n",
       "      <th>categories</th>\n",
       "      <th>pay_option_on_delivery</th>\n",
       "      <th>pay_option_transfer</th>\n",
       "      <th>seller</th>\n",
       "      <th>price</th>\n",
       "      <th>it_is_allegro_standard</th>\n",
       "      <th>it_quantity</th>\n",
       "      <th>it_is_brand_zone</th>\n",
       "      <th>it_seller_rating</th>\n",
       "      <th>it_location</th>\n",
       "      <th>main_category</th>\n",
       "    </tr>\n",
       "  </thead>\n",
       "  <tbody>\n",
       "    <tr>\n",
       "      <td>0</td>\n",
       "      <td>['Komputery', 'Dyski i napędy', 'Nośniki', 'No...</td>\n",
       "      <td>1</td>\n",
       "      <td>1</td>\n",
       "      <td>radzioch666</td>\n",
       "      <td>59.99</td>\n",
       "      <td>1</td>\n",
       "      <td>997</td>\n",
       "      <td>0</td>\n",
       "      <td>50177</td>\n",
       "      <td>Warszawa</td>\n",
       "      <td>Komputery</td>\n",
       "    </tr>\n",
       "    <tr>\n",
       "      <td>1</td>\n",
       "      <td>['Odzież, Obuwie, Dodatki', 'Bielizna damska',...</td>\n",
       "      <td>1</td>\n",
       "      <td>1</td>\n",
       "      <td>InwestycjeNET</td>\n",
       "      <td>4.90</td>\n",
       "      <td>1</td>\n",
       "      <td>9288</td>\n",
       "      <td>0</td>\n",
       "      <td>12428</td>\n",
       "      <td>Warszawa</td>\n",
       "      <td>Odzież, Obuwie, Dodatki</td>\n",
       "    </tr>\n",
       "    <tr>\n",
       "      <td>2</td>\n",
       "      <td>['Dom i Ogród', 'Budownictwo i Akcesoria', 'Śc...</td>\n",
       "      <td>1</td>\n",
       "      <td>1</td>\n",
       "      <td>otostyl_com</td>\n",
       "      <td>109.90</td>\n",
       "      <td>1</td>\n",
       "      <td>895</td>\n",
       "      <td>0</td>\n",
       "      <td>7389</td>\n",
       "      <td>Leszno</td>\n",
       "      <td>Dom i Ogród</td>\n",
       "    </tr>\n",
       "    <tr>\n",
       "      <td>3</td>\n",
       "      <td>['Książki i Komiksy', 'Poradniki i albumy', 'Z...</td>\n",
       "      <td>1</td>\n",
       "      <td>1</td>\n",
       "      <td>Matfel1</td>\n",
       "      <td>18.50</td>\n",
       "      <td>0</td>\n",
       "      <td>971</td>\n",
       "      <td>0</td>\n",
       "      <td>15006</td>\n",
       "      <td>Wola Krzysztoporska</td>\n",
       "      <td>Książki i Komiksy</td>\n",
       "    </tr>\n",
       "    <tr>\n",
       "      <td>4</td>\n",
       "      <td>['Odzież, Obuwie, Dodatki', 'Ślub i wesele', '...</td>\n",
       "      <td>1</td>\n",
       "      <td>1</td>\n",
       "      <td>PPHU_RICO</td>\n",
       "      <td>19.90</td>\n",
       "      <td>1</td>\n",
       "      <td>950</td>\n",
       "      <td>0</td>\n",
       "      <td>32975</td>\n",
       "      <td>BIAŁYSTOK</td>\n",
       "      <td>Odzież, Obuwie, Dodatki</td>\n",
       "    </tr>\n",
       "    <tr>\n",
       "      <td>5</td>\n",
       "      <td>['Odzież, Obuwie, Dodatki', 'Bielizna damska',...</td>\n",
       "      <td>1</td>\n",
       "      <td>1</td>\n",
       "      <td>Noemi-bielizna</td>\n",
       "      <td>10.99</td>\n",
       "      <td>1</td>\n",
       "      <td>742</td>\n",
       "      <td>0</td>\n",
       "      <td>39371</td>\n",
       "      <td>GĄBIN</td>\n",
       "      <td>Odzież, Obuwie, Dodatki</td>\n",
       "    </tr>\n",
       "    <tr>\n",
       "      <td>6</td>\n",
       "      <td>['Odzież, Obuwie, Dodatki', 'Bielizna damska',...</td>\n",
       "      <td>1</td>\n",
       "      <td>1</td>\n",
       "      <td>Noemi-bielizna</td>\n",
       "      <td>10.99</td>\n",
       "      <td>1</td>\n",
       "      <td>742</td>\n",
       "      <td>0</td>\n",
       "      <td>39371</td>\n",
       "      <td>GĄBIN</td>\n",
       "      <td>Odzież, Obuwie, Dodatki</td>\n",
       "    </tr>\n",
       "    <tr>\n",
       "      <td>7</td>\n",
       "      <td>['Biżuteria i Zegarki', 'Zegarki', 'Dziecięce']</td>\n",
       "      <td>1</td>\n",
       "      <td>1</td>\n",
       "      <td>handel_barbo</td>\n",
       "      <td>28.99</td>\n",
       "      <td>1</td>\n",
       "      <td>886</td>\n",
       "      <td>0</td>\n",
       "      <td>4287</td>\n",
       "      <td>Legionowo</td>\n",
       "      <td>Biżuteria i Zegarki</td>\n",
       "    </tr>\n",
       "    <tr>\n",
       "      <td>8</td>\n",
       "      <td>['RTV i AGD', 'AGD drobne', 'Higiena i pielęgn...</td>\n",
       "      <td>1</td>\n",
       "      <td>1</td>\n",
       "      <td>jupiter2009</td>\n",
       "      <td>12.00</td>\n",
       "      <td>0</td>\n",
       "      <td>49</td>\n",
       "      <td>0</td>\n",
       "      <td>5403</td>\n",
       "      <td>zachodniopomorskie</td>\n",
       "      <td>RTV i AGD</td>\n",
       "    </tr>\n",
       "    <tr>\n",
       "      <td>9</td>\n",
       "      <td>['RTV i AGD', 'Kamery', 'Zasilanie', 'Zasilacze']</td>\n",
       "      <td>1</td>\n",
       "      <td>1</td>\n",
       "      <td>e-trade-com-pl</td>\n",
       "      <td>45.00</td>\n",
       "      <td>1</td>\n",
       "      <td>4</td>\n",
       "      <td>0</td>\n",
       "      <td>15561</td>\n",
       "      <td>Warszawa</td>\n",
       "      <td>RTV i AGD</td>\n",
       "    </tr>\n",
       "  </tbody>\n",
       "</table>\n",
       "</div>"
      ],
      "text/plain": [
       "                                          categories  pay_option_on_delivery  \\\n",
       "0  ['Komputery', 'Dyski i napędy', 'Nośniki', 'No...                       1   \n",
       "1  ['Odzież, Obuwie, Dodatki', 'Bielizna damska',...                       1   \n",
       "2  ['Dom i Ogród', 'Budownictwo i Akcesoria', 'Śc...                       1   \n",
       "3  ['Książki i Komiksy', 'Poradniki i albumy', 'Z...                       1   \n",
       "4  ['Odzież, Obuwie, Dodatki', 'Ślub i wesele', '...                       1   \n",
       "5  ['Odzież, Obuwie, Dodatki', 'Bielizna damska',...                       1   \n",
       "6  ['Odzież, Obuwie, Dodatki', 'Bielizna damska',...                       1   \n",
       "7    ['Biżuteria i Zegarki', 'Zegarki', 'Dziecięce']                       1   \n",
       "8  ['RTV i AGD', 'AGD drobne', 'Higiena i pielęgn...                       1   \n",
       "9  ['RTV i AGD', 'Kamery', 'Zasilanie', 'Zasilacze']                       1   \n",
       "\n",
       "   pay_option_transfer          seller   price  it_is_allegro_standard  \\\n",
       "0                    1     radzioch666   59.99                       1   \n",
       "1                    1   InwestycjeNET    4.90                       1   \n",
       "2                    1     otostyl_com  109.90                       1   \n",
       "3                    1         Matfel1   18.50                       0   \n",
       "4                    1       PPHU_RICO   19.90                       1   \n",
       "5                    1  Noemi-bielizna   10.99                       1   \n",
       "6                    1  Noemi-bielizna   10.99                       1   \n",
       "7                    1    handel_barbo   28.99                       1   \n",
       "8                    1     jupiter2009   12.00                       0   \n",
       "9                    1  e-trade-com-pl   45.00                       1   \n",
       "\n",
       "   it_quantity  it_is_brand_zone  it_seller_rating          it_location  \\\n",
       "0          997                 0             50177             Warszawa   \n",
       "1         9288                 0             12428             Warszawa   \n",
       "2          895                 0              7389               Leszno   \n",
       "3          971                 0             15006  Wola Krzysztoporska   \n",
       "4          950                 0             32975            BIAŁYSTOK   \n",
       "5          742                 0             39371                GĄBIN   \n",
       "6          742                 0             39371                GĄBIN   \n",
       "7          886                 0              4287            Legionowo   \n",
       "8           49                 0              5403   zachodniopomorskie   \n",
       "9            4                 0             15561             Warszawa   \n",
       "\n",
       "             main_category  \n",
       "0                Komputery  \n",
       "1  Odzież, Obuwie, Dodatki  \n",
       "2              Dom i Ogród  \n",
       "3        Książki i Komiksy  \n",
       "4  Odzież, Obuwie, Dodatki  \n",
       "5  Odzież, Obuwie, Dodatki  \n",
       "6  Odzież, Obuwie, Dodatki  \n",
       "7      Biżuteria i Zegarki  \n",
       "8                RTV i AGD  \n",
       "9                RTV i AGD  "
      ]
     },
     "execution_count": 36,
     "metadata": {},
     "output_type": "execute_result"
    }
   ],
   "source": [
    "df=df[0:10000] #skrócenie ramki danych\n",
    "df=df.drop([\"lp\", \"date\", \"item_id\"], axis=1)\n",
    "df.head(10)"
   ]
  },
  {
   "cell_type": "markdown",
   "metadata": {},
   "source": [
    "Podział zbioru na treningowy i testowy"
   ]
  },
  {
   "cell_type": "code",
   "execution_count": 37,
   "metadata": {},
   "outputs": [],
   "source": [
    "x_train, x_test, y_train, y_test = train_test_split(df.drop('price', axis=1), df['price'])"
   ]
  },
  {
   "cell_type": "markdown",
   "metadata": {},
   "source": [
    "### Target encoding\n"
   ]
  },
  {
   "cell_type": "code",
   "execution_count": 39,
   "metadata": {},
   "outputs": [],
   "source": [
    "x_train1, x_test1, y_train1, y_test1 = x_train.copy(), x_test.copy(), y_train.copy(), y_test.copy() #kopie zbiorów"
   ]
  },
  {
   "cell_type": "code",
   "execution_count": 40,
   "metadata": {},
   "outputs": [],
   "source": [
    "te = ce.target_encoder.TargetEncoder(cols=[\"categories\", \"seller\", \"it_location\", \"main_category\"]) #encoder"
   ]
  },
  {
   "cell_type": "code",
   "execution_count": 41,
   "metadata": {},
   "outputs": [],
   "source": [
    "te_x_train = te.fit_transform(x_train1, y_train1) #kodowanie\n",
    "te_x_test = te.transform(x_test1, y_test1)"
   ]
  },
  {
   "cell_type": "code",
   "execution_count": 42,
   "metadata": {},
   "outputs": [],
   "source": [
    "lr_te = LinearRegression() #model\n",
    "lr_te.fit(te_x_train, y_train1)\n",
    "price_pred_te = lr_te.predict(te_x_test)"
   ]
  },
  {
   "cell_type": "markdown",
   "metadata": {},
   "source": [
    "### Leave One Out Encoder"
   ]
  },
  {
   "cell_type": "code",
   "execution_count": 43,
   "metadata": {},
   "outputs": [],
   "source": [
    "x_train2, x_test2, y_train2, y_test2 = x_train.copy(), x_test.copy(), y_train.copy(), y_test.copy() #kopie zbiorów"
   ]
  },
  {
   "cell_type": "code",
   "execution_count": 44,
   "metadata": {},
   "outputs": [],
   "source": [
    "loe=ce.leave_one_out.LeaveOneOutEncoder(cols=[\"categories\", \"seller\", \"it_location\", \"main_category\"]) #encoder"
   ]
  },
  {
   "cell_type": "code",
   "execution_count": 45,
   "metadata": {},
   "outputs": [],
   "source": [
    "loe_x_train=loe.fit_transform(x_train2, y_train2) #kodowanie\n",
    "loe_x_test=loe.transform(x_test2, y_test2)"
   ]
  },
  {
   "cell_type": "code",
   "execution_count": 46,
   "metadata": {},
   "outputs": [],
   "source": [
    "lr_loe = LinearRegression() #model\n",
    "lr_loe.fit(loe_x_train, y_train2)\n",
    "price_pred_loe = lr_loe.predict(loe_x_test)"
   ]
  },
  {
   "cell_type": "markdown",
   "metadata": {},
   "source": [
    "### James Stein Encoder"
   ]
  },
  {
   "cell_type": "code",
   "execution_count": 47,
   "metadata": {},
   "outputs": [],
   "source": [
    "x_train3, x_test3, y_train3, y_test3 = x_train.copy(), x_test.copy(), y_train.copy(), y_test.copy() #kopie zbiorów"
   ]
  },
  {
   "cell_type": "code",
   "execution_count": 48,
   "metadata": {},
   "outputs": [],
   "source": [
    "jse = ce.james_stein.JamesSteinEncoder(cols=[\"categories\", \"seller\", \"it_location\", \"main_category\"])"
   ]
  },
  {
   "cell_type": "code",
   "execution_count": 49,
   "metadata": {},
   "outputs": [],
   "source": [
    "jse_x_train=jse.fit_transform(x_train3, y_train3) #kodowanie\n",
    "jse_x_test=jse.transform(x_test3, y_test3)"
   ]
  },
  {
   "cell_type": "code",
   "execution_count": 51,
   "metadata": {},
   "outputs": [],
   "source": [
    "lr_jse = LinearRegression() #model\n",
    "lr_jse.fit(jse_x_train, y_train3)\n",
    "price_pred_jse = lr_jse.predict(jse_x_test)"
   ]
  },
  {
   "cell_type": "markdown",
   "metadata": {},
   "source": [
    "## Porównanie działania trzech różnych kodowań"
   ]
  },
  {
   "cell_type": "markdown",
   "metadata": {},
   "source": [
    "### R2"
   ]
  },
  {
   "cell_type": "code",
   "execution_count": 64,
   "metadata": {},
   "outputs": [
    {
     "data": {
      "text/html": [
       "<div>\n",
       "<style scoped>\n",
       "    .dataframe tbody tr th:only-of-type {\n",
       "        vertical-align: middle;\n",
       "    }\n",
       "\n",
       "    .dataframe tbody tr th {\n",
       "        vertical-align: top;\n",
       "    }\n",
       "\n",
       "    .dataframe thead th {\n",
       "        text-align: right;\n",
       "    }\n",
       "</style>\n",
       "<table border=\"1\" class=\"dataframe\">\n",
       "  <thead>\n",
       "    <tr style=\"text-align: right;\">\n",
       "      <th></th>\n",
       "      <th>Kodowanie</th>\n",
       "      <th>R2</th>\n",
       "    </tr>\n",
       "  </thead>\n",
       "  <tbody>\n",
       "    <tr>\n",
       "      <td>0</td>\n",
       "      <td>Target Encoding</td>\n",
       "      <td>0.170311</td>\n",
       "    </tr>\n",
       "    <tr>\n",
       "      <td>1</td>\n",
       "      <td>Leave One Out Encoding</td>\n",
       "      <td>0.086591</td>\n",
       "    </tr>\n",
       "    <tr>\n",
       "      <td>2</td>\n",
       "      <td>James Stein Encoding</td>\n",
       "      <td>0.146606</td>\n",
       "    </tr>\n",
       "  </tbody>\n",
       "</table>\n",
       "</div>"
      ],
      "text/plain": [
       "                Kodowanie        R2\n",
       "0         Target Encoding  0.170311\n",
       "1  Leave One Out Encoding  0.086591\n",
       "2    James Stein Encoding  0.146606"
      ]
     },
     "execution_count": 64,
     "metadata": {},
     "output_type": "execute_result"
    }
   ],
   "source": [
    "r2 = [sklearn.metrics.r2_score(y_test1, price_pred_te), sklearn.metrics.r2_score(y_test2, price_pred_loe), sklearn.metrics.r2_score(y_test3, price_pred_jse)]\n",
    "d = {\"Kodowanie\":[\"Target Encoding\", \"Leave One Out Encoding\", \"James Stein Encoding\"], 'R2':r2}\n",
    "pd.DataFrame(d)"
   ]
  },
  {
   "cell_type": "markdown",
   "metadata": {},
   "source": [
    "### RMSE\n"
   ]
  },
  {
   "cell_type": "code",
   "execution_count": 68,
   "metadata": {},
   "outputs": [
    {
     "data": {
      "text/html": [
       "<div>\n",
       "<style scoped>\n",
       "    .dataframe tbody tr th:only-of-type {\n",
       "        vertical-align: middle;\n",
       "    }\n",
       "\n",
       "    .dataframe tbody tr th {\n",
       "        vertical-align: top;\n",
       "    }\n",
       "\n",
       "    .dataframe thead th {\n",
       "        text-align: right;\n",
       "    }\n",
       "</style>\n",
       "<table border=\"1\" class=\"dataframe\">\n",
       "  <thead>\n",
       "    <tr style=\"text-align: right;\">\n",
       "      <th></th>\n",
       "      <th>Kodowanie</th>\n",
       "      <th>RMSE</th>\n",
       "    </tr>\n",
       "  </thead>\n",
       "  <tbody>\n",
       "    <tr>\n",
       "      <td>0</td>\n",
       "      <td>Target Encoding</td>\n",
       "      <td>36125.729480</td>\n",
       "    </tr>\n",
       "    <tr>\n",
       "      <td>1</td>\n",
       "      <td>Leave One Out Encoding</td>\n",
       "      <td>39771.026550</td>\n",
       "    </tr>\n",
       "    <tr>\n",
       "      <td>2</td>\n",
       "      <td>James Stein Encoding</td>\n",
       "      <td>37157.869821</td>\n",
       "    </tr>\n",
       "  </tbody>\n",
       "</table>\n",
       "</div>"
      ],
      "text/plain": [
       "                Kodowanie          RMSE\n",
       "0         Target Encoding  36125.729480\n",
       "1  Leave One Out Encoding  39771.026550\n",
       "2    James Stein Encoding  37157.869821"
      ]
     },
     "execution_count": 68,
     "metadata": {},
     "output_type": "execute_result"
    }
   ],
   "source": [
    "rmse = [sklearn.metrics.mean_squared_error(y_test1, price_pred_te), sklearn.metrics.mean_squared_error(y_test2, price_pred_loe), sklearn.metrics.mean_squared_error(y_test3, price_pred_jse)]\n",
    "d = {\"Kodowanie\":[\"Target Encoding\", \"Leave One Out Encoding\", \"James Stein Encoding\"], 'RMSE':rmse}\n",
    "pd.DataFrame(d)"
   ]
  },
  {
   "cell_type": "markdown",
   "metadata": {},
   "source": [
    " Na podstawie R2 i RMSE można stwierdzić, że wszystkie encodingi wypadły podobnie. Jednak najwyższą ( a co za tym idzie najlepszą) wartość R2 ma Target Encoding, ma on również najniższą wartość RMSE, tak więc w tym przypadku można stwierdzić, że Target Encoding sprawdził się najlepiej. "
   ]
  }
 ],
 "metadata": {
  "kernelspec": {
   "display_name": "Python 3",
   "language": "python",
   "name": "python3"
  },
  "language_info": {
   "codemirror_mode": {
    "name": "ipython",
    "version": 3
   },
   "file_extension": ".py",
   "mimetype": "text/x-python",
   "name": "python",
   "nbconvert_exporter": "python",
   "pygments_lexer": "ipython3",
   "version": "3.7.4"
  }
 },
 "nbformat": 4,
 "nbformat_minor": 2
}
