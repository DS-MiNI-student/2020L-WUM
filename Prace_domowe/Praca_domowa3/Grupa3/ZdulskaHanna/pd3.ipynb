{
 "cells": [
  {
   "cell_type": "markdown",
   "metadata": {},
   "source": [
    "# PD3\n",
    "by Hanna Zdulska"
   ]
  },
  {
   "cell_type": "code",
   "execution_count": 121,
   "metadata": {},
   "outputs": [],
   "source": [
    "import pandas as pd\n",
    "import numpy as np\n",
    "from sklearn.model_selection import train_test_split, GridSearchCV\n",
    "from sklearn.linear_model import LogisticRegression, LinearRegression\n",
    "from sklearn.neighbors import KNeighborsClassifier\n",
    "from xgboost import XGBClassifier\n",
    "from sklearn.preprocessing import scale\n",
    "from sklearn.metrics import accuracy_score, roc_auc_score, classification_report, recall_score, precision_score, plot_precision_recall_curve, mean_squared_error, r2_score\n",
    "import seaborn as sns\n",
    "import category_encoders as ce\n",
    "np.random.seed(123)"
   ]
  },
  {
   "cell_type": "code",
   "execution_count": 2,
   "metadata": {},
   "outputs": [],
   "source": [
    "df = pd.read_csv(\"../australia.csv\")"
   ]
  },
  {
   "cell_type": "code",
   "execution_count": 3,
   "metadata": {
    "scrolled": true
   },
   "outputs": [
    {
     "data": {
      "text/html": [
       "<div>\n",
       "<style scoped>\n",
       "    .dataframe tbody tr th:only-of-type {\n",
       "        vertical-align: middle;\n",
       "    }\n",
       "\n",
       "    .dataframe tbody tr th {\n",
       "        vertical-align: top;\n",
       "    }\n",
       "\n",
       "    .dataframe thead th {\n",
       "        text-align: right;\n",
       "    }\n",
       "</style>\n",
       "<table border=\"1\" class=\"dataframe\">\n",
       "  <thead>\n",
       "    <tr style=\"text-align: right;\">\n",
       "      <th></th>\n",
       "      <th>MinTemp</th>\n",
       "      <th>MaxTemp</th>\n",
       "      <th>Rainfall</th>\n",
       "      <th>Evaporation</th>\n",
       "      <th>Sunshine</th>\n",
       "      <th>WindGustSpeed</th>\n",
       "      <th>WindSpeed9am</th>\n",
       "      <th>WindSpeed3pm</th>\n",
       "      <th>Humidity9am</th>\n",
       "      <th>Humidity3pm</th>\n",
       "      <th>Pressure9am</th>\n",
       "      <th>Pressure3pm</th>\n",
       "      <th>Cloud9am</th>\n",
       "      <th>Cloud3pm</th>\n",
       "      <th>Temp9am</th>\n",
       "      <th>Temp3pm</th>\n",
       "      <th>RainToday</th>\n",
       "      <th>RainTomorrow</th>\n",
       "    </tr>\n",
       "  </thead>\n",
       "  <tbody>\n",
       "    <tr>\n",
       "      <th>count</th>\n",
       "      <td>56420.000000</td>\n",
       "      <td>56420.000000</td>\n",
       "      <td>56420.000000</td>\n",
       "      <td>56420.000000</td>\n",
       "      <td>56420.000000</td>\n",
       "      <td>56420.000000</td>\n",
       "      <td>56420.000000</td>\n",
       "      <td>56420.000000</td>\n",
       "      <td>56420.000000</td>\n",
       "      <td>56420.000000</td>\n",
       "      <td>56420.000000</td>\n",
       "      <td>56420.000000</td>\n",
       "      <td>56420.000000</td>\n",
       "      <td>56420.000000</td>\n",
       "      <td>56420.000000</td>\n",
       "      <td>56420.000000</td>\n",
       "      <td>56420.000000</td>\n",
       "      <td>56420.000000</td>\n",
       "    </tr>\n",
       "    <tr>\n",
       "      <th>mean</th>\n",
       "      <td>13.464770</td>\n",
       "      <td>24.219206</td>\n",
       "      <td>2.130397</td>\n",
       "      <td>5.503135</td>\n",
       "      <td>7.735626</td>\n",
       "      <td>40.877366</td>\n",
       "      <td>15.667228</td>\n",
       "      <td>19.786778</td>\n",
       "      <td>65.874123</td>\n",
       "      <td>49.601985</td>\n",
       "      <td>1017.239505</td>\n",
       "      <td>1014.795580</td>\n",
       "      <td>4.241705</td>\n",
       "      <td>4.326515</td>\n",
       "      <td>18.204961</td>\n",
       "      <td>22.710333</td>\n",
       "      <td>0.220879</td>\n",
       "      <td>0.220259</td>\n",
       "    </tr>\n",
       "    <tr>\n",
       "      <th>std</th>\n",
       "      <td>6.416689</td>\n",
       "      <td>6.970676</td>\n",
       "      <td>7.014822</td>\n",
       "      <td>3.696282</td>\n",
       "      <td>3.758153</td>\n",
       "      <td>13.335232</td>\n",
       "      <td>8.317005</td>\n",
       "      <td>8.510180</td>\n",
       "      <td>18.513289</td>\n",
       "      <td>20.197040</td>\n",
       "      <td>6.909357</td>\n",
       "      <td>6.870892</td>\n",
       "      <td>2.797162</td>\n",
       "      <td>2.647251</td>\n",
       "      <td>6.567991</td>\n",
       "      <td>6.836543</td>\n",
       "      <td>0.414843</td>\n",
       "      <td>0.414425</td>\n",
       "    </tr>\n",
       "    <tr>\n",
       "      <th>min</th>\n",
       "      <td>-6.700000</td>\n",
       "      <td>4.100000</td>\n",
       "      <td>0.000000</td>\n",
       "      <td>0.000000</td>\n",
       "      <td>0.000000</td>\n",
       "      <td>9.000000</td>\n",
       "      <td>2.000000</td>\n",
       "      <td>2.000000</td>\n",
       "      <td>0.000000</td>\n",
       "      <td>0.000000</td>\n",
       "      <td>980.500000</td>\n",
       "      <td>977.100000</td>\n",
       "      <td>0.000000</td>\n",
       "      <td>0.000000</td>\n",
       "      <td>-0.700000</td>\n",
       "      <td>3.700000</td>\n",
       "      <td>0.000000</td>\n",
       "      <td>0.000000</td>\n",
       "    </tr>\n",
       "    <tr>\n",
       "      <th>25%</th>\n",
       "      <td>8.600000</td>\n",
       "      <td>18.700000</td>\n",
       "      <td>0.000000</td>\n",
       "      <td>2.800000</td>\n",
       "      <td>5.000000</td>\n",
       "      <td>31.000000</td>\n",
       "      <td>9.000000</td>\n",
       "      <td>13.000000</td>\n",
       "      <td>55.000000</td>\n",
       "      <td>35.000000</td>\n",
       "      <td>1012.700000</td>\n",
       "      <td>1010.100000</td>\n",
       "      <td>1.000000</td>\n",
       "      <td>2.000000</td>\n",
       "      <td>13.100000</td>\n",
       "      <td>17.400000</td>\n",
       "      <td>0.000000</td>\n",
       "      <td>0.000000</td>\n",
       "    </tr>\n",
       "    <tr>\n",
       "      <th>50%</th>\n",
       "      <td>13.200000</td>\n",
       "      <td>23.900000</td>\n",
       "      <td>0.000000</td>\n",
       "      <td>5.000000</td>\n",
       "      <td>8.600000</td>\n",
       "      <td>39.000000</td>\n",
       "      <td>15.000000</td>\n",
       "      <td>19.000000</td>\n",
       "      <td>67.000000</td>\n",
       "      <td>50.000000</td>\n",
       "      <td>1017.200000</td>\n",
       "      <td>1014.700000</td>\n",
       "      <td>5.000000</td>\n",
       "      <td>5.000000</td>\n",
       "      <td>17.800000</td>\n",
       "      <td>22.400000</td>\n",
       "      <td>0.000000</td>\n",
       "      <td>0.000000</td>\n",
       "    </tr>\n",
       "    <tr>\n",
       "      <th>75%</th>\n",
       "      <td>18.400000</td>\n",
       "      <td>29.700000</td>\n",
       "      <td>0.600000</td>\n",
       "      <td>7.400000</td>\n",
       "      <td>10.700000</td>\n",
       "      <td>48.000000</td>\n",
       "      <td>20.000000</td>\n",
       "      <td>26.000000</td>\n",
       "      <td>79.000000</td>\n",
       "      <td>63.000000</td>\n",
       "      <td>1021.800000</td>\n",
       "      <td>1019.400000</td>\n",
       "      <td>7.000000</td>\n",
       "      <td>7.000000</td>\n",
       "      <td>23.300000</td>\n",
       "      <td>27.900000</td>\n",
       "      <td>0.000000</td>\n",
       "      <td>0.000000</td>\n",
       "    </tr>\n",
       "    <tr>\n",
       "      <th>max</th>\n",
       "      <td>31.400000</td>\n",
       "      <td>48.100000</td>\n",
       "      <td>206.200000</td>\n",
       "      <td>81.200000</td>\n",
       "      <td>14.500000</td>\n",
       "      <td>124.000000</td>\n",
       "      <td>67.000000</td>\n",
       "      <td>76.000000</td>\n",
       "      <td>100.000000</td>\n",
       "      <td>100.000000</td>\n",
       "      <td>1040.400000</td>\n",
       "      <td>1038.900000</td>\n",
       "      <td>8.000000</td>\n",
       "      <td>9.000000</td>\n",
       "      <td>39.400000</td>\n",
       "      <td>46.100000</td>\n",
       "      <td>1.000000</td>\n",
       "      <td>1.000000</td>\n",
       "    </tr>\n",
       "  </tbody>\n",
       "</table>\n",
       "</div>"
      ],
      "text/plain": [
       "            MinTemp       MaxTemp      Rainfall   Evaporation      Sunshine  \\\n",
       "count  56420.000000  56420.000000  56420.000000  56420.000000  56420.000000   \n",
       "mean      13.464770     24.219206      2.130397      5.503135      7.735626   \n",
       "std        6.416689      6.970676      7.014822      3.696282      3.758153   \n",
       "min       -6.700000      4.100000      0.000000      0.000000      0.000000   \n",
       "25%        8.600000     18.700000      0.000000      2.800000      5.000000   \n",
       "50%       13.200000     23.900000      0.000000      5.000000      8.600000   \n",
       "75%       18.400000     29.700000      0.600000      7.400000     10.700000   \n",
       "max       31.400000     48.100000    206.200000     81.200000     14.500000   \n",
       "\n",
       "       WindGustSpeed  WindSpeed9am  WindSpeed3pm   Humidity9am   Humidity3pm  \\\n",
       "count   56420.000000  56420.000000  56420.000000  56420.000000  56420.000000   \n",
       "mean       40.877366     15.667228     19.786778     65.874123     49.601985   \n",
       "std        13.335232      8.317005      8.510180     18.513289     20.197040   \n",
       "min         9.000000      2.000000      2.000000      0.000000      0.000000   \n",
       "25%        31.000000      9.000000     13.000000     55.000000     35.000000   \n",
       "50%        39.000000     15.000000     19.000000     67.000000     50.000000   \n",
       "75%        48.000000     20.000000     26.000000     79.000000     63.000000   \n",
       "max       124.000000     67.000000     76.000000    100.000000    100.000000   \n",
       "\n",
       "        Pressure9am   Pressure3pm      Cloud9am      Cloud3pm       Temp9am  \\\n",
       "count  56420.000000  56420.000000  56420.000000  56420.000000  56420.000000   \n",
       "mean    1017.239505   1014.795580      4.241705      4.326515     18.204961   \n",
       "std        6.909357      6.870892      2.797162      2.647251      6.567991   \n",
       "min      980.500000    977.100000      0.000000      0.000000     -0.700000   \n",
       "25%     1012.700000   1010.100000      1.000000      2.000000     13.100000   \n",
       "50%     1017.200000   1014.700000      5.000000      5.000000     17.800000   \n",
       "75%     1021.800000   1019.400000      7.000000      7.000000     23.300000   \n",
       "max     1040.400000   1038.900000      8.000000      9.000000     39.400000   \n",
       "\n",
       "            Temp3pm     RainToday  RainTomorrow  \n",
       "count  56420.000000  56420.000000  56420.000000  \n",
       "mean      22.710333      0.220879      0.220259  \n",
       "std        6.836543      0.414843      0.414425  \n",
       "min        3.700000      0.000000      0.000000  \n",
       "25%       17.400000      0.000000      0.000000  \n",
       "50%       22.400000      0.000000      0.000000  \n",
       "75%       27.900000      0.000000      0.000000  \n",
       "max       46.100000      1.000000      1.000000  "
      ]
     },
     "execution_count": 3,
     "metadata": {},
     "output_type": "execute_result"
    }
   ],
   "source": [
    "df.describe()"
   ]
  },
  {
   "cell_type": "markdown",
   "metadata": {},
   "source": [
    "Podzielmy i przeskalujmy dane"
   ]
  },
  {
   "cell_type": "code",
   "execution_count": null,
   "metadata": {},
   "outputs": [],
   "source": [
    "y = df['RainTomorrow']\n",
    "X = df.drop('RainTomorrow', axis = 1)\n",
    "X_scaled = scale(X)"
   ]
  },
  {
   "cell_type": "code",
   "execution_count": 49,
   "metadata": {},
   "outputs": [],
   "source": [
    "X_train, X_test, y_train, y_test = train_test_split(X_scaled,y, test_size = 0.3, random_state = 66)"
   ]
  },
  {
   "cell_type": "markdown",
   "metadata": {},
   "source": [
    "Zrobimy szukanie najlepszego parametru, bo czemu nie"
   ]
  },
  {
   "cell_type": "code",
   "execution_count": 58,
   "metadata": {},
   "outputs": [],
   "source": [
    "lr_params = {'C': [(i+1)/10 for i in range(0,10)]}\n",
    "kn_params = {'n_neighbors': [i+1 for i in range(10)]}\n",
    "xgb_params = {'max_depth': [i+1 for i in range(10)]}"
   ]
  },
  {
   "cell_type": "code",
   "execution_count": 68,
   "metadata": {},
   "outputs": [],
   "source": [
    "clffs = [GridSearchCV(LogisticRegression(), lr_params),\n",
    "         GridSearchCV(KNeighborsClassifier(), kn_params),\n",
    "         GridSearchCV(XGBClassifier(), xgb_params)]"
   ]
  },
  {
   "cell_type": "code",
   "execution_count": 69,
   "metadata": {
    "scrolled": true
   },
   "outputs": [],
   "source": [
    "proba = []\n",
    "for c in clffs:\n",
    "    c.fit(X_train, y_train)\n",
    "    proba.append(c.predict_proba(X_test)[:,1])"
   ]
  },
  {
   "cell_type": "code",
   "execution_count": 84,
   "metadata": {},
   "outputs": [],
   "source": [
    "acc = []\n",
    "auc = []\n",
    "prec = []\n",
    "rec = []\n",
    "for i in range(3):\n",
    "    y_pred = [ 0 if proba[0][i] < 0.5 else 1 for i in range(len(proba[i]))]\n",
    "    acc.append(accuracy_score(y_test, y_pred))\n",
    "    auc.append(roc_auc_score(y_test, proba[i]))\n",
    "    rec.append(recall_score(y_test, y_pred))\n",
    "    prec.append(precision_score(y_test, y_pred))"
   ]
  },
  {
   "cell_type": "markdown",
   "metadata": {},
   "source": [
    "Spójrzmy na wyniki"
   ]
  },
  {
   "cell_type": "code",
   "execution_count": 98,
   "metadata": {
    "scrolled": true
   },
   "outputs": [
    {
     "name": "stderr",
     "output_type": "stream",
     "text": [
      "/home/hania/.pyenv/versions/3.7.1/lib/python3.7/site-packages/seaborn/categorical.py:3669: UserWarning: The `factorplot` function has been renamed to `catplot`. The original name will be removed in a future release. Please update your code. Note that the default `kind` in `factorplot` (`'point'`) has changed `'strip'` in `catplot`.\n",
      "  warnings.warn(msg)\n"
     ]
    },
    {
     "data": {
      "text/plain": [
       "<seaborn.axisgrid.FacetGrid at 0x7fe408aedcf8>"
      ]
     },
     "execution_count": 98,
     "metadata": {},
     "output_type": "execute_result"
    },
    {
     "data": {
      "image/png": "[encoded data removed]",
      "text/plain": [
       "<Figure size 1440x360 with 4 Axes>"
      ]
     },
     "metadata": {
      "needs_background": "light"
     },
     "output_type": "display_data"
    }
   ],
   "source": [
    "res_df = pd.DataFrame({\"klasyfikator\": [\"LR\",\"KNN\",\"XBGS\"]*4, \"wynik\": acc + auc + rec + prec,\n",
    "                       \"type\": [\"acc\"]*3 + [\"auc\"]*3 + [\"recall\"]*3 + [\"precision\"]*3})\n",
    "sns.factorplot(\"klasyfikator\", \"wynik\", col=\"type\", data = res_df, kind=\"bar\" )"
   ]
  },
  {
   "cell_type": "markdown",
   "metadata": {},
   "source": [
    "Jak widać większość radzi sobie podobnie, jedyne widoczne różnice gołym okiem to auc, które jest niższe dla KNN."
   ]
  },
  {
   "cell_type": "code",
   "execution_count": 97,
   "metadata": {},
   "outputs": [
    {
     "name": "stdout",
     "output_type": "stream",
     "text": [
      "AUC: 0.8801109554523089 - klasyfikator - LR\n",
      "AUC: 0.8555327514793168 - klasyfikator - KNN\n",
      "AUC: 0.8878097143681737 - klasyfikator - XBGS\n"
     ]
    }
   ],
   "source": [
    "for i in range(3):\n",
    "    print(\"AUC: {} - klasyfikator - {}\".format(auc[i], [\"LR\",\"KNN\",\"XBGS\"][i]))"
   ]
  },
  {
   "cell_type": "markdown",
   "metadata": {},
   "source": [
    "Zauważmy, że acc jest jednakowe dla wszystkich klasyfkiatorów tzn. wszystkie zaklasyfikowały tą samą ilość rekordów poprawnie."
   ]
  },
  {
   "cell_type": "code",
   "execution_count": 106,
   "metadata": {},
   "outputs": [
    {
     "data": {
      "text/plain": [
       "1"
      ]
     },
     "execution_count": 106,
     "metadata": {},
     "output_type": "execute_result"
    }
   ],
   "source": [
    "len(set(rec))"
   ]
  },
  {
   "cell_type": "code",
   "execution_count": 107,
   "metadata": {},
   "outputs": [
    {
     "data": {
      "text/plain": [
       "1"
      ]
     },
     "execution_count": 107,
     "metadata": {},
     "output_type": "execute_result"
    }
   ],
   "source": [
    "len(set(prec))"
   ]
  },
  {
   "cell_type": "markdown",
   "metadata": {},
   "source": [
    "Również powyżej zauważmy, iż mają ten sam recall i precision czyli zaklasyfikowały wszystkie tak samo tj. dały identyczne przewidywania klas."
   ]
  },
  {
   "cell_type": "code",
   "execution_count": 117,
   "metadata": {},
   "outputs": [
    {
     "data": {
      "image/png": "[encoded data removed]",
      "text/plain": [
       "<Figure size 432x288 with 1 Axes>"
      ]
     },
     "metadata": {
      "needs_background": "light"
     },
     "output_type": "display_data"
    },
    {
     "data": {
      "image/png": "[encoded data removed]",
      "text/plain": [
       "<Figure size 432x288 with 1 Axes>"
      ]
     },
     "metadata": {
      "needs_background": "light"
     },
     "output_type": "display_data"
    },
    {
     "data": {
      "image/png": "[encoded data removed]",
      "text/plain": [
       "<Figure size 432x288 with 1 Axes>"
      ]
     },
     "metadata": {
      "needs_background": "light"
     },
     "output_type": "display_data"
    }
   ],
   "source": [
    "for c in clffs:\n",
    "    plot = plot_precision_recall_curve(c, X_test, y_test)\n",
    "    plot.ax_.set_title(c.estimator)"
   ]
  },
  {
   "cell_type": "markdown",
   "metadata": {},
   "source": [
    "## Bonus round"
   ]
  },
  {
   "cell_type": "markdown",
   "metadata": {},
   "source": [
    "Wczytanie danych"
   ]
  },
  {
   "cell_type": "code",
   "execution_count": 141,
   "metadata": {},
   "outputs": [],
   "source": [
    "df = pd.read_csv('https://www.dropbox.com/s/360xhh2d9lnaek3/allegro-api-transactions.csv?dl=1')\n",
    "df = df.drop(['lp', 'date'], axis = 1)\n",
    "y = df['price']\n",
    "columns = ['categories', 'seller','it_location', 'main_category']"
   ]
  },
  {
   "cell_type": "markdown",
   "metadata": {},
   "source": [
    "Customowa funkcja:"
   ]
  },
  {
   "cell_type": "code",
   "execution_count": 173,
   "metadata": {},
   "outputs": [],
   "source": [
    "def measure_encoder(encoder, *args):\n",
    "    \"\"\"\n",
    "    Funkcja działająca jako pipeline w następujących krokach:\n",
    "    * kodowanie\n",
    "    * dopasowanie\n",
    "    * liczenie rmse i r2\n",
    "    \"\"\"\n",
    "    linreg = LinearRegression(*args)\n",
    "    \n",
    "    X_train, X_test, y_train, y_test = train_test_split(df.drop(['price'], axis = 1),y, test_size = 0.3, random_state = 66)\n",
    "    \n",
    "    encoder.fit(X_train, y_train)\n",
    "    \n",
    "    X_train = encoder.transform(X_train)\n",
    "    X_test = encoder.transform(X_test)\n",
    "    \n",
    "    linreg.fit(X_train, y_train)\n",
    "    y_pred = linreg.predict(X_test)\n",
    "    \n",
    "    mse = mean_squared_error(y_test, y_pred)\n",
    "    rmse = np.sqrt(mse)\n",
    "    r2 = r2_score(y_test, y_pred)\n",
    "    \n",
    "    return rmse, r2"
   ]
  },
  {
   "cell_type": "code",
   "execution_count": 162,
   "metadata": {},
   "outputs": [],
   "source": [
    "enc = [ce.OrdinalEncoder(cols = columns),\n",
    "       ce.MEstimateEncoder(cols = columns),\n",
    "       ce.TargetEncoder(cols = columns),\n",
    "       ce.CatBoostEncoder(cols = columns), \n",
    "       ce.JamesSteinEncoder(cols = columns)]"
   ]
  },
  {
   "cell_type": "markdown",
   "metadata": {},
   "source": [
    "Liczymy wyniki dla wybranych encoderów"
   ]
  },
  {
   "cell_type": "code",
   "execution_count": 174,
   "metadata": {},
   "outputs": [],
   "source": [
    "res = pd.DataFrame(columns=[\"Name\", \"mrse\", \"R2\"])\n",
    "names = ['Ordinal', 'MEstimate', 'Target', 'CatBoost', 'JamesStein']\n",
    "for i in range(len(enc)):\n",
    "    mrse, r2 = measure_encoder(enc[i])\n",
    "    res = res.append({\"Name\": names[i], \"mrse\": mrse, \"R2\": r2}, ignore_index = True)"
   ]
  },
  {
   "cell_type": "code",
   "execution_count": 175,
   "metadata": {},
   "outputs": [
    {
     "data": {
      "text/html": [
       "<div>\n",
       "<style scoped>\n",
       "    .dataframe tbody tr th:only-of-type {\n",
       "        vertical-align: middle;\n",
       "    }\n",
       "\n",
       "    .dataframe tbody tr th {\n",
       "        vertical-align: top;\n",
       "    }\n",
       "\n",
       "    .dataframe thead th {\n",
       "        text-align: right;\n",
       "    }\n",
       "</style>\n",
       "<table border=\"1\" class=\"dataframe\">\n",
       "  <thead>\n",
       "    <tr style=\"text-align: right;\">\n",
       "      <th></th>\n",
       "      <th>Name</th>\n",
       "      <th>mrse</th>\n",
       "      <th>R2</th>\n",
       "    </tr>\n",
       "  </thead>\n",
       "  <tbody>\n",
       "    <tr>\n",
       "      <th>0</th>\n",
       "      <td>Ordinal</td>\n",
       "      <td>506.158248</td>\n",
       "      <td>0.002557</td>\n",
       "    </tr>\n",
       "    <tr>\n",
       "      <th>1</th>\n",
       "      <td>MEstimate</td>\n",
       "      <td>489.218646</td>\n",
       "      <td>0.068203</td>\n",
       "    </tr>\n",
       "    <tr>\n",
       "      <th>2</th>\n",
       "      <td>Target</td>\n",
       "      <td>490.791207</td>\n",
       "      <td>0.062203</td>\n",
       "    </tr>\n",
       "    <tr>\n",
       "      <th>3</th>\n",
       "      <td>CatBoost</td>\n",
       "      <td>490.977930</td>\n",
       "      <td>0.061489</td>\n",
       "    </tr>\n",
       "    <tr>\n",
       "      <th>4</th>\n",
       "      <td>JamesStein</td>\n",
       "      <td>494.601364</td>\n",
       "      <td>0.047586</td>\n",
       "    </tr>\n",
       "  </tbody>\n",
       "</table>\n",
       "</div>"
      ],
      "text/plain": [
       "         Name        mrse        R2\n",
       "0     Ordinal  506.158248  0.002557\n",
       "1   MEstimate  489.218646  0.068203\n",
       "2      Target  490.791207  0.062203\n",
       "3    CatBoost  490.977930  0.061489\n",
       "4  JamesStein  494.601364  0.047586"
      ]
     },
     "execution_count": 175,
     "metadata": {},
     "output_type": "execute_result"
    }
   ],
   "source": [
    "res"
   ]
  },
  {
   "cell_type": "code",
   "execution_count": 165,
   "metadata": {},
   "outputs": [
    {
     "data": {
      "text/plain": [
       "<matplotlib.axes._subplots.AxesSubplot at 0x7fe4026d7b70>"
      ]
     },
     "execution_count": 165,
     "metadata": {},
     "output_type": "execute_result"
    },
    {
     "data": {
      "image/png": "[encoded data removed]",
      "text/plain": [
       "<Figure size 432x288 with 1 Axes>"
      ]
     },
     "metadata": {
      "needs_background": "light"
     },
     "output_type": "display_data"
    }
   ],
   "source": [
    "sns.barplot(data = res, y = 'mrse', x = 'Name')"
   ]
  },
  {
   "cell_type": "code",
   "execution_count": 167,
   "metadata": {},
   "outputs": [
    {
     "data": {
      "text/plain": [
       "<matplotlib.axes._subplots.AxesSubplot at 0x7fe402d6a390>"
      ]
     },
     "execution_count": 167,
     "metadata": {},
     "output_type": "execute_result"
    },
    {
     "data": {
      "image/png": "[encoded data removed]",
      "text/plain": [
       "<Figure size 432x288 with 1 Axes>"
      ]
     },
     "metadata": {
      "needs_background": "light"
     },
     "output_type": "display_data"
    }
   ],
   "source": [
    "sns.barplot(data = res, y = 'R2', x = 'Name')"
   ]
  },
  {
   "cell_type": "markdown",
   "metadata": {},
   "source": [
    "MRSE na poziomie 500, natomniast R2 jest bardzo małe, nieprzekraczające nawet 0.1. Jak widać najgorzej wypadł OrdinalEncoder  - osiągnął bardzo niskie R2 i najwyższe MRSE. \n",
    "Najniższe MRSE przypadło MEstimate, które wypadło równocześnie najlepiej w R2.\n",
    "Poza rzucającym sie w oczy OrdinalEncoder, to większość modeli wypadło dośc podobnie."
   ]
  }
 ],
 "metadata": {
  "kernelspec": {
   "display_name": "Python 3.7.1 64-bit ('3.7.1': pyenv)",
   "language": "python",
   "name": "python37164bit371pyenv8b58cff780124c0e86c6832805abcd0c"
  },
  "language_info": {
   "codemirror_mode": {
    "name": "ipython",
    "version": 3
   },
   "file_extension": ".py",
   "mimetype": "text/x-python",
   "name": "python",
   "nbconvert_exporter": "python",
   "pygments_lexer": "ipython3",
   "version": "3.7.1"
  }
 },
 "nbformat": 4,
 "nbformat_minor": 4
}
