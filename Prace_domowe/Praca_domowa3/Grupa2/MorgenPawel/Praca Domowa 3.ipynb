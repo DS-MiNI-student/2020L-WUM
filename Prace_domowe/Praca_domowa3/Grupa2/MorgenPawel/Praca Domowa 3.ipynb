{
 "cells": [
  {
   "cell_type": "markdown",
   "metadata": {},
   "source": [
    "# Praca domowa 3\n",
    "## Wstęp do uczenia maszynowego\n",
    "### Paweł Morgen"
   ]
  },
  {
   "cell_type": "code",
   "execution_count": 107,
   "metadata": {},
   "outputs": [
    {
     "data": {
      "text/html": [
       "<div>\n",
       "<style scoped>\n",
       "    .dataframe tbody tr th:only-of-type {\n",
       "        vertical-align: middle;\n",
       "    }\n",
       "\n",
       "    .dataframe tbody tr th {\n",
       "        vertical-align: top;\n",
       "    }\n",
       "\n",
       "    .dataframe thead th {\n",
       "        text-align: right;\n",
       "    }\n",
       "</style>\n",
       "<table border=\"1\" class=\"dataframe\">\n",
       "  <thead>\n",
       "    <tr style=\"text-align: right;\">\n",
       "      <th></th>\n",
       "      <th>MinTemp</th>\n",
       "      <th>MaxTemp</th>\n",
       "      <th>Rainfall</th>\n",
       "      <th>Evaporation</th>\n",
       "      <th>Sunshine</th>\n",
       "      <th>WindGustSpeed</th>\n",
       "      <th>WindSpeed9am</th>\n",
       "      <th>WindSpeed3pm</th>\n",
       "      <th>Humidity9am</th>\n",
       "      <th>Humidity3pm</th>\n",
       "      <th>Pressure9am</th>\n",
       "      <th>Pressure3pm</th>\n",
       "      <th>Cloud9am</th>\n",
       "      <th>Cloud3pm</th>\n",
       "      <th>Temp9am</th>\n",
       "      <th>Temp3pm</th>\n",
       "      <th>RainToday</th>\n",
       "      <th>RainTomorrow</th>\n",
       "    </tr>\n",
       "  </thead>\n",
       "  <tbody>\n",
       "    <tr>\n",
       "      <th>0</th>\n",
       "      <td>17.9</td>\n",
       "      <td>35.2</td>\n",
       "      <td>0.0</td>\n",
       "      <td>12.0</td>\n",
       "      <td>12.3</td>\n",
       "      <td>48.0</td>\n",
       "      <td>6.0</td>\n",
       "      <td>20.0</td>\n",
       "      <td>20.0</td>\n",
       "      <td>13.0</td>\n",
       "      <td>1006.3</td>\n",
       "      <td>1004.4</td>\n",
       "      <td>2.0</td>\n",
       "      <td>5.0</td>\n",
       "      <td>26.6</td>\n",
       "      <td>33.4</td>\n",
       "      <td>0</td>\n",
       "      <td>0</td>\n",
       "    </tr>\n",
       "    <tr>\n",
       "      <th>1</th>\n",
       "      <td>18.4</td>\n",
       "      <td>28.9</td>\n",
       "      <td>0.0</td>\n",
       "      <td>14.8</td>\n",
       "      <td>13.0</td>\n",
       "      <td>37.0</td>\n",
       "      <td>19.0</td>\n",
       "      <td>19.0</td>\n",
       "      <td>30.0</td>\n",
       "      <td>8.0</td>\n",
       "      <td>1012.9</td>\n",
       "      <td>1012.1</td>\n",
       "      <td>1.0</td>\n",
       "      <td>1.0</td>\n",
       "      <td>20.3</td>\n",
       "      <td>27.0</td>\n",
       "      <td>0</td>\n",
       "      <td>0</td>\n",
       "    </tr>\n",
       "    <tr>\n",
       "      <th>2</th>\n",
       "      <td>19.4</td>\n",
       "      <td>37.6</td>\n",
       "      <td>0.0</td>\n",
       "      <td>10.8</td>\n",
       "      <td>10.6</td>\n",
       "      <td>46.0</td>\n",
       "      <td>30.0</td>\n",
       "      <td>15.0</td>\n",
       "      <td>42.0</td>\n",
       "      <td>22.0</td>\n",
       "      <td>1012.3</td>\n",
       "      <td>1009.2</td>\n",
       "      <td>1.0</td>\n",
       "      <td>6.0</td>\n",
       "      <td>28.7</td>\n",
       "      <td>34.9</td>\n",
       "      <td>0</td>\n",
       "      <td>0</td>\n",
       "    </tr>\n",
       "    <tr>\n",
       "      <th>3</th>\n",
       "      <td>21.9</td>\n",
       "      <td>38.4</td>\n",
       "      <td>0.0</td>\n",
       "      <td>11.4</td>\n",
       "      <td>12.2</td>\n",
       "      <td>31.0</td>\n",
       "      <td>6.0</td>\n",
       "      <td>6.0</td>\n",
       "      <td>37.0</td>\n",
       "      <td>22.0</td>\n",
       "      <td>1012.7</td>\n",
       "      <td>1009.1</td>\n",
       "      <td>1.0</td>\n",
       "      <td>5.0</td>\n",
       "      <td>29.1</td>\n",
       "      <td>35.6</td>\n",
       "      <td>0</td>\n",
       "      <td>0</td>\n",
       "    </tr>\n",
       "    <tr>\n",
       "      <th>4</th>\n",
       "      <td>24.2</td>\n",
       "      <td>41.0</td>\n",
       "      <td>0.0</td>\n",
       "      <td>11.2</td>\n",
       "      <td>8.4</td>\n",
       "      <td>35.0</td>\n",
       "      <td>17.0</td>\n",
       "      <td>13.0</td>\n",
       "      <td>19.0</td>\n",
       "      <td>15.0</td>\n",
       "      <td>1010.7</td>\n",
       "      <td>1007.4</td>\n",
       "      <td>1.0</td>\n",
       "      <td>6.0</td>\n",
       "      <td>33.6</td>\n",
       "      <td>37.6</td>\n",
       "      <td>0</td>\n",
       "      <td>0</td>\n",
       "    </tr>\n",
       "  </tbody>\n",
       "</table>\n",
       "</div>"
      ],
      "text/plain": [
       "   MinTemp  MaxTemp  Rainfall  Evaporation  Sunshine  WindGustSpeed  \\\n",
       "0     17.9     35.2       0.0         12.0      12.3           48.0   \n",
       "1     18.4     28.9       0.0         14.8      13.0           37.0   \n",
       "2     19.4     37.6       0.0         10.8      10.6           46.0   \n",
       "3     21.9     38.4       0.0         11.4      12.2           31.0   \n",
       "4     24.2     41.0       0.0         11.2       8.4           35.0   \n",
       "\n",
       "   WindSpeed9am  WindSpeed3pm  Humidity9am  Humidity3pm  Pressure9am  \\\n",
       "0           6.0          20.0         20.0         13.0       1006.3   \n",
       "1          19.0          19.0         30.0          8.0       1012.9   \n",
       "2          30.0          15.0         42.0         22.0       1012.3   \n",
       "3           6.0           6.0         37.0         22.0       1012.7   \n",
       "4          17.0          13.0         19.0         15.0       1010.7   \n",
       "\n",
       "   Pressure3pm  Cloud9am  Cloud3pm  Temp9am  Temp3pm  RainToday  RainTomorrow  \n",
       "0       1004.4       2.0       5.0     26.6     33.4          0             0  \n",
       "1       1012.1       1.0       1.0     20.3     27.0          0             0  \n",
       "2       1009.2       1.0       6.0     28.7     34.9          0             0  \n",
       "3       1009.1       1.0       5.0     29.1     35.6          0             0  \n",
       "4       1007.4       1.0       6.0     33.6     37.6          0             0  "
      ]
     },
     "execution_count": 107,
     "metadata": {},
     "output_type": "execute_result"
    }
   ],
   "source": [
    "import numpy as np\n",
    "import pandas as pd\n",
    "import seaborn as sns\n",
    "import matplotlib.pyplot as plt\n",
    "from sklearn.model_selection import train_test_split\n",
    "\n",
    "data = pd.read_csv('australia.csv')\n",
    "data.head()"
   ]
  },
  {
   "cell_type": "code",
   "execution_count": 67,
   "metadata": {},
   "outputs": [
    {
     "data": {
      "text/html": [
       "<div>\n",
       "<style scoped>\n",
       "    .dataframe tbody tr th:only-of-type {\n",
       "        vertical-align: middle;\n",
       "    }\n",
       "\n",
       "    .dataframe tbody tr th {\n",
       "        vertical-align: top;\n",
       "    }\n",
       "\n",
       "    .dataframe thead th {\n",
       "        text-align: right;\n",
       "    }\n",
       "</style>\n",
       "<table border=\"1\" class=\"dataframe\">\n",
       "  <thead>\n",
       "    <tr style=\"text-align: right;\">\n",
       "      <th></th>\n",
       "      <th>MinTemp</th>\n",
       "      <th>MaxTemp</th>\n",
       "      <th>Rainfall</th>\n",
       "      <th>Evaporation</th>\n",
       "      <th>Sunshine</th>\n",
       "      <th>WindGustSpeed</th>\n",
       "      <th>WindSpeed9am</th>\n",
       "      <th>WindSpeed3pm</th>\n",
       "      <th>Humidity9am</th>\n",
       "      <th>Humidity3pm</th>\n",
       "      <th>Pressure9am</th>\n",
       "      <th>Pressure3pm</th>\n",
       "      <th>Cloud9am</th>\n",
       "      <th>Cloud3pm</th>\n",
       "      <th>Temp9am</th>\n",
       "      <th>Temp3pm</th>\n",
       "      <th>RainToday</th>\n",
       "      <th>RainTomorrow</th>\n",
       "    </tr>\n",
       "  </thead>\n",
       "  <tbody>\n",
       "    <tr>\n",
       "      <th>count</th>\n",
       "      <td>56420.000000</td>\n",
       "      <td>56420.000000</td>\n",
       "      <td>56420.000000</td>\n",
       "      <td>56420.000000</td>\n",
       "      <td>56420.000000</td>\n",
       "      <td>56420.000000</td>\n",
       "      <td>56420.000000</td>\n",
       "      <td>56420.000000</td>\n",
       "      <td>56420.000000</td>\n",
       "      <td>56420.000000</td>\n",
       "      <td>56420.000000</td>\n",
       "      <td>56420.000000</td>\n",
       "      <td>56420.000000</td>\n",
       "      <td>56420.000000</td>\n",
       "      <td>56420.000000</td>\n",
       "      <td>56420.000000</td>\n",
       "      <td>56420.000000</td>\n",
       "      <td>56420.000000</td>\n",
       "    </tr>\n",
       "    <tr>\n",
       "      <th>mean</th>\n",
       "      <td>13.464770</td>\n",
       "      <td>24.219206</td>\n",
       "      <td>2.130397</td>\n",
       "      <td>5.503135</td>\n",
       "      <td>7.735626</td>\n",
       "      <td>40.877366</td>\n",
       "      <td>15.667228</td>\n",
       "      <td>19.786778</td>\n",
       "      <td>65.874123</td>\n",
       "      <td>49.601985</td>\n",
       "      <td>1017.239505</td>\n",
       "      <td>1014.795580</td>\n",
       "      <td>4.241705</td>\n",
       "      <td>4.326515</td>\n",
       "      <td>18.204961</td>\n",
       "      <td>22.710333</td>\n",
       "      <td>0.220879</td>\n",
       "      <td>0.220259</td>\n",
       "    </tr>\n",
       "    <tr>\n",
       "      <th>std</th>\n",
       "      <td>6.416689</td>\n",
       "      <td>6.970676</td>\n",
       "      <td>7.014822</td>\n",
       "      <td>3.696282</td>\n",
       "      <td>3.758153</td>\n",
       "      <td>13.335232</td>\n",
       "      <td>8.317005</td>\n",
       "      <td>8.510180</td>\n",
       "      <td>18.513289</td>\n",
       "      <td>20.197040</td>\n",
       "      <td>6.909357</td>\n",
       "      <td>6.870892</td>\n",
       "      <td>2.797162</td>\n",
       "      <td>2.647251</td>\n",
       "      <td>6.567991</td>\n",
       "      <td>6.836543</td>\n",
       "      <td>0.414843</td>\n",
       "      <td>0.414425</td>\n",
       "    </tr>\n",
       "    <tr>\n",
       "      <th>min</th>\n",
       "      <td>-6.700000</td>\n",
       "      <td>4.100000</td>\n",
       "      <td>0.000000</td>\n",
       "      <td>0.000000</td>\n",
       "      <td>0.000000</td>\n",
       "      <td>9.000000</td>\n",
       "      <td>2.000000</td>\n",
       "      <td>2.000000</td>\n",
       "      <td>0.000000</td>\n",
       "      <td>0.000000</td>\n",
       "      <td>980.500000</td>\n",
       "      <td>977.100000</td>\n",
       "      <td>0.000000</td>\n",
       "      <td>0.000000</td>\n",
       "      <td>-0.700000</td>\n",
       "      <td>3.700000</td>\n",
       "      <td>0.000000</td>\n",
       "      <td>0.000000</td>\n",
       "    </tr>\n",
       "    <tr>\n",
       "      <th>25%</th>\n",
       "      <td>8.600000</td>\n",
       "      <td>18.700000</td>\n",
       "      <td>0.000000</td>\n",
       "      <td>2.800000</td>\n",
       "      <td>5.000000</td>\n",
       "      <td>31.000000</td>\n",
       "      <td>9.000000</td>\n",
       "      <td>13.000000</td>\n",
       "      <td>55.000000</td>\n",
       "      <td>35.000000</td>\n",
       "      <td>1012.700000</td>\n",
       "      <td>1010.100000</td>\n",
       "      <td>1.000000</td>\n",
       "      <td>2.000000</td>\n",
       "      <td>13.100000</td>\n",
       "      <td>17.400000</td>\n",
       "      <td>0.000000</td>\n",
       "      <td>0.000000</td>\n",
       "    </tr>\n",
       "    <tr>\n",
       "      <th>50%</th>\n",
       "      <td>13.200000</td>\n",
       "      <td>23.900000</td>\n",
       "      <td>0.000000</td>\n",
       "      <td>5.000000</td>\n",
       "      <td>8.600000</td>\n",
       "      <td>39.000000</td>\n",
       "      <td>15.000000</td>\n",
       "      <td>19.000000</td>\n",
       "      <td>67.000000</td>\n",
       "      <td>50.000000</td>\n",
       "      <td>1017.200000</td>\n",
       "      <td>1014.700000</td>\n",
       "      <td>5.000000</td>\n",
       "      <td>5.000000</td>\n",
       "      <td>17.800000</td>\n",
       "      <td>22.400000</td>\n",
       "      <td>0.000000</td>\n",
       "      <td>0.000000</td>\n",
       "    </tr>\n",
       "    <tr>\n",
       "      <th>75%</th>\n",
       "      <td>18.400000</td>\n",
       "      <td>29.700000</td>\n",
       "      <td>0.600000</td>\n",
       "      <td>7.400000</td>\n",
       "      <td>10.700000</td>\n",
       "      <td>48.000000</td>\n",
       "      <td>20.000000</td>\n",
       "      <td>26.000000</td>\n",
       "      <td>79.000000</td>\n",
       "      <td>63.000000</td>\n",
       "      <td>1021.800000</td>\n",
       "      <td>1019.400000</td>\n",
       "      <td>7.000000</td>\n",
       "      <td>7.000000</td>\n",
       "      <td>23.300000</td>\n",
       "      <td>27.900000</td>\n",
       "      <td>0.000000</td>\n",
       "      <td>0.000000</td>\n",
       "    </tr>\n",
       "    <tr>\n",
       "      <th>max</th>\n",
       "      <td>31.400000</td>\n",
       "      <td>48.100000</td>\n",
       "      <td>206.200000</td>\n",
       "      <td>81.200000</td>\n",
       "      <td>14.500000</td>\n",
       "      <td>124.000000</td>\n",
       "      <td>67.000000</td>\n",
       "      <td>76.000000</td>\n",
       "      <td>100.000000</td>\n",
       "      <td>100.000000</td>\n",
       "      <td>1040.400000</td>\n",
       "      <td>1038.900000</td>\n",
       "      <td>8.000000</td>\n",
       "      <td>9.000000</td>\n",
       "      <td>39.400000</td>\n",
       "      <td>46.100000</td>\n",
       "      <td>1.000000</td>\n",
       "      <td>1.000000</td>\n",
       "    </tr>\n",
       "  </tbody>\n",
       "</table>\n",
       "</div>"
      ],
      "text/plain": [
       "            MinTemp       MaxTemp      Rainfall   Evaporation      Sunshine  \\\n",
       "count  56420.000000  56420.000000  56420.000000  56420.000000  56420.000000   \n",
       "mean      13.464770     24.219206      2.130397      5.503135      7.735626   \n",
       "std        6.416689      6.970676      7.014822      3.696282      3.758153   \n",
       "min       -6.700000      4.100000      0.000000      0.000000      0.000000   \n",
       "25%        8.600000     18.700000      0.000000      2.800000      5.000000   \n",
       "50%       13.200000     23.900000      0.000000      5.000000      8.600000   \n",
       "75%       18.400000     29.700000      0.600000      7.400000     10.700000   \n",
       "max       31.400000     48.100000    206.200000     81.200000     14.500000   \n",
       "\n",
       "       WindGustSpeed  WindSpeed9am  WindSpeed3pm   Humidity9am   Humidity3pm  \\\n",
       "count   56420.000000  56420.000000  56420.000000  56420.000000  56420.000000   \n",
       "mean       40.877366     15.667228     19.786778     65.874123     49.601985   \n",
       "std        13.335232      8.317005      8.510180     18.513289     20.197040   \n",
       "min         9.000000      2.000000      2.000000      0.000000      0.000000   \n",
       "25%        31.000000      9.000000     13.000000     55.000000     35.000000   \n",
       "50%        39.000000     15.000000     19.000000     67.000000     50.000000   \n",
       "75%        48.000000     20.000000     26.000000     79.000000     63.000000   \n",
       "max       124.000000     67.000000     76.000000    100.000000    100.000000   \n",
       "\n",
       "        Pressure9am   Pressure3pm      Cloud9am      Cloud3pm       Temp9am  \\\n",
       "count  56420.000000  56420.000000  56420.000000  56420.000000  56420.000000   \n",
       "mean    1017.239505   1014.795580      4.241705      4.326515     18.204961   \n",
       "std        6.909357      6.870892      2.797162      2.647251      6.567991   \n",
       "min      980.500000    977.100000      0.000000      0.000000     -0.700000   \n",
       "25%     1012.700000   1010.100000      1.000000      2.000000     13.100000   \n",
       "50%     1017.200000   1014.700000      5.000000      5.000000     17.800000   \n",
       "75%     1021.800000   1019.400000      7.000000      7.000000     23.300000   \n",
       "max     1040.400000   1038.900000      8.000000      9.000000     39.400000   \n",
       "\n",
       "            Temp3pm     RainToday  RainTomorrow  \n",
       "count  56420.000000  56420.000000  56420.000000  \n",
       "mean      22.710333      0.220879      0.220259  \n",
       "std        6.836543      0.414843      0.414425  \n",
       "min        3.700000      0.000000      0.000000  \n",
       "25%       17.400000      0.000000      0.000000  \n",
       "50%       22.400000      0.000000      0.000000  \n",
       "75%       27.900000      0.000000      0.000000  \n",
       "max       46.100000      1.000000      1.000000  "
      ]
     },
     "execution_count": 67,
     "metadata": {},
     "output_type": "execute_result"
    }
   ],
   "source": [
    "data.describe()"
   ]
  },
  {
   "cell_type": "code",
   "execution_count": 68,
   "metadata": {},
   "outputs": [
    {
     "name": "stdout",
     "output_type": "stream",
     "text": [
      "<class 'pandas.core.frame.DataFrame'>\n",
      "RangeIndex: 56420 entries, 0 to 56419\n",
      "Data columns (total 18 columns):\n",
      " #   Column         Non-Null Count  Dtype  \n",
      "---  ------         --------------  -----  \n",
      " 0   MinTemp        56420 non-null  float64\n",
      " 1   MaxTemp        56420 non-null  float64\n",
      " 2   Rainfall       56420 non-null  float64\n",
      " 3   Evaporation    56420 non-null  float64\n",
      " 4   Sunshine       56420 non-null  float64\n",
      " 5   WindGustSpeed  56420 non-null  float64\n",
      " 6   WindSpeed9am   56420 non-null  float64\n",
      " 7   WindSpeed3pm   56420 non-null  float64\n",
      " 8   Humidity9am    56420 non-null  float64\n",
      " 9   Humidity3pm    56420 non-null  float64\n",
      " 10  Pressure9am    56420 non-null  float64\n",
      " 11  Pressure3pm    56420 non-null  float64\n",
      " 12  Cloud9am       56420 non-null  float64\n",
      " 13  Cloud3pm       56420 non-null  float64\n",
      " 14  Temp9am        56420 non-null  float64\n",
      " 15  Temp3pm        56420 non-null  float64\n",
      " 16  RainToday      56420 non-null  int64  \n",
      " 17  RainTomorrow   56420 non-null  int64  \n",
      "dtypes: float64(16), int64(2)\n",
      "memory usage: 7.7 MB\n"
     ]
    }
   ],
   "source": [
    "data.info()"
   ]
  },
  {
   "cell_type": "markdown",
   "metadata": {},
   "source": [
    "## Podział na zbiór testowy i treningowy\n",
    "Ponadto ustandaryzujemy zmienne numeryczne."
   ]
  },
  {
   "cell_type": "code",
   "execution_count": 123,
   "metadata": {
    "scrolled": true
   },
   "outputs": [
    {
     "name": "stderr",
     "output_type": "stream",
     "text": [
      "/opt/anaconda3/lib/python3.7/site-packages/pandas/core/indexing.py:966: SettingWithCopyWarning: \n",
      "A value is trying to be set on a copy of a slice from a DataFrame.\n",
      "Try using .loc[row_indexer,col_indexer] = value instead\n",
      "\n",
      "See the caveats in the documentation: https://pandas.pydata.org/pandas-docs/stable/user_guide/indexing.html#returning-a-view-versus-a-copy\n",
      "  self.obj[item] = s\n",
      "/opt/anaconda3/lib/python3.7/site-packages/pandas/core/indexing.py:966: SettingWithCopyWarning: \n",
      "A value is trying to be set on a copy of a slice from a DataFrame.\n",
      "Try using .loc[row_indexer,col_indexer] = value instead\n",
      "\n",
      "See the caveats in the documentation: https://pandas.pydata.org/pandas-docs/stable/user_guide/indexing.html#returning-a-view-versus-a-copy\n",
      "  self.obj[item] = s\n"
     ]
    }
   ],
   "source": [
    "from sklearn.preprocessing import StandardScaler\n",
    "X = data.drop('RainTomorrow', axis = 1)\n",
    "y = data.loc[:,'RainTomorrow']\n",
    "\n",
    "X_train, X_test, y_train, y_test = train_test_split(X, y, test_size = 0.2, random_state = 2020)\n",
    "\n",
    "numeric_columns = data.columns[0:16].to_numpy()\n",
    "scaler = StandardScaler().fit(X_train.loc[:, numeric_columns])\n",
    "X_train.loc[:, numeric_columns] = scaler.transform(X_train.loc[:,numeric_columns])\n",
    "X_test.loc[:, numeric_columns] = scaler.transform(X_test.loc[:,numeric_columns])"
   ]
  },
  {
   "cell_type": "markdown",
   "metadata": {},
   "source": [
    "## Wybór klasyfikatorów\n",
    "W zbiorze danych dominują zmienne numeryczne, więc spróbujemy `KNearestNeighbours` oraz `LogisticRegression`.\n",
    "Ponadto zobaczymy, jak sobie poradzi `randomForest`.\n",
    "Zanim przystąpimy do działania, zobaczmy, czy zmienna `rainToday` nie jest związana z `rainTomorrow`. Posłużymy się metryką Jaccarda-Needhama."
   ]
  },
  {
   "cell_type": "code",
   "execution_count": 166,
   "metadata": {},
   "outputs": [
    {
     "name": "stdout",
     "output_type": "stream",
     "text": [
      "Jaccard-Needham index: 0.7000417841846861\n"
     ]
    },
    {
     "data": {
      "text/plain": [
       "<matplotlib.axes._subplots.AxesSubplot at 0x7feb11e8a978>"
      ]
     },
     "execution_count": 166,
     "metadata": {},
     "output_type": "execute_result"
    },
    {
     "data": {
      "image/png": "[encoded data removed]",
      "text/plain": [
       "<Figure size 432x288 with 1 Axes>"
      ]
     },
     "metadata": {},
     "output_type": "display_data"
    }
   ],
   "source": [
    "from scipy.spatial.distance import jaccard\n",
    "print('Jaccard-Needham index:', jaccard(data.loc[:,'RainToday'], data.loc[:,'RainTomorrow']))\n",
    "\n",
    "plt.style.use('ggplot')\n",
    "sns.countplot(x = 'RainToday', hue = 'RainTomorrow', data = data)"
   ]
  },
  {
   "cell_type": "code",
   "execution_count": 167,
   "metadata": {},
   "outputs": [
    {
     "data": {
      "text/html": [
       "<div>\n",
       "<style scoped>\n",
       "    .dataframe tbody tr th:only-of-type {\n",
       "        vertical-align: middle;\n",
       "    }\n",
       "\n",
       "    .dataframe tbody tr th {\n",
       "        vertical-align: top;\n",
       "    }\n",
       "\n",
       "    .dataframe thead th {\n",
       "        text-align: right;\n",
       "    }\n",
       "</style>\n",
       "<table border=\"1\" class=\"dataframe\">\n",
       "  <thead>\n",
       "    <tr style=\"text-align: right;\">\n",
       "      <th>RainTomorrow</th>\n",
       "      <th>0</th>\n",
       "      <th>1</th>\n",
       "    </tr>\n",
       "    <tr>\n",
       "      <th>RainToday</th>\n",
       "      <th></th>\n",
       "      <th></th>\n",
       "    </tr>\n",
       "  </thead>\n",
       "  <tbody>\n",
       "    <tr>\n",
       "      <th>0</th>\n",
       "      <td>37274</td>\n",
       "      <td>6684</td>\n",
       "    </tr>\n",
       "    <tr>\n",
       "      <th>1</th>\n",
       "      <td>6719</td>\n",
       "      <td>5743</td>\n",
       "    </tr>\n",
       "  </tbody>\n",
       "</table>\n",
       "</div>"
      ],
      "text/plain": [
       "RainTomorrow      0     1\n",
       "RainToday                \n",
       "0             37274  6684\n",
       "1              6719  5743"
      ]
     },
     "execution_count": 167,
     "metadata": {},
     "output_type": "execute_result"
    }
   ],
   "source": [
    "pd.crosstab(data.loc[:,'RainToday'], data.loc[:,'RainTomorrow'])"
   ]
  },
  {
   "cell_type": "markdown",
   "metadata": {},
   "source": [
    "Powiązanie jest bardzo wysokie. Jeśli nie padało dziś, to bardzo możliwe, że nie będzie padać jutro. Na szczęście mamy w zbiorze danych ciągłą zmienną `Rainfall` - niesie ona informację o zmiennej `RainToday`."
   ]
  },
  {
   "cell_type": "code",
   "execution_count": 162,
   "metadata": {},
   "outputs": [
    {
     "data": {
      "text/html": [
       "<div>\n",
       "<style scoped>\n",
       "    .dataframe tbody tr th:only-of-type {\n",
       "        vertical-align: middle;\n",
       "    }\n",
       "\n",
       "    .dataframe tbody tr th {\n",
       "        vertical-align: top;\n",
       "    }\n",
       "\n",
       "    .dataframe thead th {\n",
       "        text-align: right;\n",
       "    }\n",
       "</style>\n",
       "<table border=\"1\" class=\"dataframe\">\n",
       "  <thead>\n",
       "    <tr style=\"text-align: right;\">\n",
       "      <th>NoRainFall</th>\n",
       "      <th>0</th>\n",
       "      <th>1</th>\n",
       "    </tr>\n",
       "    <tr>\n",
       "      <th>RainToday</th>\n",
       "      <th></th>\n",
       "      <th></th>\n",
       "    </tr>\n",
       "  </thead>\n",
       "  <tbody>\n",
       "    <tr>\n",
       "      <th>0</th>\n",
       "      <td>43958</td>\n",
       "      <td>0</td>\n",
       "    </tr>\n",
       "    <tr>\n",
       "      <th>1</th>\n",
       "      <td>0</td>\n",
       "      <td>12462</td>\n",
       "    </tr>\n",
       "  </tbody>\n",
       "</table>\n",
       "</div>"
      ],
      "text/plain": [
       "NoRainFall      0      1\n",
       "RainToday               \n",
       "0           43958      0\n",
       "1               0  12462"
      ]
     },
     "execution_count": 162,
     "metadata": {},
     "output_type": "execute_result"
    }
   ],
   "source": [
    "df = data.loc[:,['RainToday', 'Rainfall']].assign(NoRainFall = (data.loc[:,'Rainfall'] > 1).astype('int'))\n",
    "pd.crosstab(df.loc[:,'RainToday'], df.loc[:,'NoRainFall'])"
   ]
  },
  {
   "cell_type": "markdown",
   "metadata": {},
   "source": [
    "Jak widzimy, zmienna `RainToday` przyjmuje wartość 1 wtedy i tylko wtedy, gdy zmienna `Rainfall` jest większa od 1 (gdy opad wyniósł więcej niż 1 mm). Zatem możemy trenować modele na danych bez zmiennej `RainToday` - nie stracimy informacji z niej płynących, bo będą w zmiennej `RainFall`.\n",
    "\n",
    "## Trening modeli"
   ]
  },
  {
   "cell_type": "code",
   "execution_count": 73,
   "metadata": {},
   "outputs": [],
   "source": [
    "X_test_num = X_test.drop('RainToday', axis = 1)\n",
    "X_train_num = X_train.drop('RainToday', axis = 1)\n",
    "from sklearn.neighbors import KNeighborsClassifier\n",
    "from sklearn.linear_model import LogisticRegression\n",
    "from sklearn.ensemble import RandomForestClassifier\n",
    "from sklearn.model_selection import cross_val_score"
   ]
  },
  {
   "cell_type": "markdown",
   "metadata": {},
   "source": [
    "### K-Nearest Neighbours\n",
    "Hiperparametr: `n_neighbors` - ilość najbliższych punktów brana pod uwagę przy wyznaczaniu klasy.\n",
    "Mniejszy -> mniejsza dokładność modelu; \n",
    "Większy -> większa złożoność algorytmu oraz podatność na overfitting"
   ]
  },
  {
   "cell_type": "code",
   "execution_count": 74,
   "metadata": {},
   "outputs": [
    {
     "name": "stdout",
     "output_type": "stream",
     "text": [
      "0.8406371590687496 0.002599207808854566\n"
     ]
    }
   ],
   "source": [
    "knn = KNeighborsClassifier(n_neighbors = 5)\n",
    "knn_cv_scores = cross_val_score(knn, X_train_num, y_train, cv = 5)\n",
    "print(np.mean(knn_cv_scores), np.std(knn_cv_scores))"
   ]
  },
  {
   "cell_type": "code",
   "execution_count": 75,
   "metadata": {},
   "outputs": [],
   "source": [
    "knn.fit(X_train_num, y_train)\n",
    "knn_y_pred = knn.predict(X_test_num)"
   ]
  },
  {
   "cell_type": "markdown",
   "metadata": {},
   "source": [
    "### Regresja logistyczna\n",
    "Hiperparametr: `C` - odwrotność tzw. *stałej regularyzacji*. Służy ona do *karania* modelu za tworzenie zbyt dużych stałych przy wyznaczaniu regresji. \n",
    "Mniejszy -> większa kara -> mniejsza dokładność modelu; \n",
    "Większy -> mniejsza kara -> większa złożoność algorytmu oraz podatność na overfitting"
   ]
  },
  {
   "cell_type": "code",
   "execution_count": 78,
   "metadata": {},
   "outputs": [
    {
     "name": "stdout",
     "output_type": "stream",
     "text": [
      "0.8539745652522077 0.002488505126005121\n"
     ]
    }
   ],
   "source": [
    "logreg = LogisticRegression(C = 1)\n",
    "logreg_cv_scores = cross_val_score(logreg, X_train_num, y_train, cv = 5)\n",
    "print(np.mean(logreg_cv_scores), np.std(logreg_cv_scores))"
   ]
  },
  {
   "cell_type": "code",
   "execution_count": 79,
   "metadata": {},
   "outputs": [],
   "source": [
    "logreg.fit(X_train_num, y_train)\n",
    "logreg_y_pred = logreg.predict(X_test_num)"
   ]
  },
  {
   "cell_type": "markdown",
   "metadata": {},
   "source": [
    "### Las losowy\n",
    "Hiperparametr: `n_estimators` - ilość drzew. Mniejszy -> mniejsza dokładność modelu; Większy -> większa złożoność algorytmu. Ponadto od pewnego poziomu różnice w skuteczności modelu są znikome."
   ]
  },
  {
   "cell_type": "code",
   "execution_count": 124,
   "metadata": {},
   "outputs": [
    {
     "name": "stdout",
     "output_type": "stream",
     "text": [
      "0.8503854900125105 0.0032177713850063258\n"
     ]
    }
   ],
   "source": [
    "rforest = RandomForestClassifier(n_estimators = 100, max_depth = 6)\n",
    "rforest_cv_scores = cross_val_score(rforest, X_train, y_train, cv = 5)\n",
    "print(np.mean(rforest_cv_scores), np.std(rforest_cv_scores))"
   ]
  },
  {
   "cell_type": "code",
   "execution_count": 126,
   "metadata": {},
   "outputs": [],
   "source": [
    "rforest.fit(X_train, y_train)\n",
    "rforest_y_pred = rforest.predict(X_test)"
   ]
  },
  {
   "cell_type": "markdown",
   "metadata": {},
   "source": [
    "## Ocena skuteczności klasyfikatorów\n",
    "Wykorzystamy **ROC_AUC**, **RECALL** oraz **PRECISION**."
   ]
  },
  {
   "cell_type": "code",
   "execution_count": 130,
   "metadata": {},
   "outputs": [
    {
     "data": {
      "text/plain": [
       "<seaborn.axisgrid.FacetGrid at 0x7feb12480278>"
      ]
     },
     "execution_count": 130,
     "metadata": {},
     "output_type": "execute_result"
    },
    {
     "data": {
      "image/png": "[encoded data removed]",
      "text/plain": [
       "<Figure size 1080x360 with 3 Axes>"
      ]
     },
     "metadata": {},
     "output_type": "display_data"
    }
   ],
   "source": [
    "from sklearn.metrics import roc_auc_score, recall_score, precision_score\n",
    "def calculate_scores(y_pred):\n",
    "    return np.array([roc_auc_score(y_test, y_pred),\n",
    "                     recall_score(y_test, y_pred),\n",
    "                     precision_score(y_test, y_pred)])\n",
    "df = pd.DataFrame({'rForest' : calculate_scores(rforest_y_pred),\n",
    "                    'logreg'  : calculate_scores(logreg_y_pred),\n",
    "                    'knn'     : calculate_scores(knn_y_pred)})\n",
    "df_long = pd.melt(df,\n",
    "                 value_vars = ['rForest', 'logreg', 'knn'],\n",
    "                 value_name = 'score_value',\n",
    "                 var_name = 'model')\n",
    "df_long.loc[:,'score_type'] = np.tile(np.array(['ROC_AUC', 'RECALL', 'PRECISION']), 3)\n",
    "\n",
    "plt.style.use('ggplot')\n",
    "g = sns.catplot(x = 'model', \n",
    "            y = 'score_value', \n",
    "            col = 'score_type', \n",
    "            data = df_long, \n",
    "            kind = 'bar')\n",
    "plt.subplots_adjust(top=0.8)\n",
    "g.fig.suptitle('Comparison of performance for different models',\n",
    "              fontsize = 25)\n",
    "g"
   ]
  },
  {
   "cell_type": "markdown",
   "metadata": {},
   "source": [
    "Dość ciekawe obserwacje. Przy użyciu uniwersalnej miary **ROC AUC** wszystkie 3 modele miały porównywalną skuteczność. Przy miarze **RECALL** las losowy wyraźnie odstaje od reszty grupy; z kolei przy **PRECISION** się wyróżnia.\n",
    "\n",
    "Wybór dobrego modelu zależy od celów biznesowych naszego modelu. Moim zdaniem ważniejsza jest miara **RECALL** od **PRECISION** - lepiej fałszywie klasyfikować dni słoneczne jako deszczowe (i mieć miłą niespodziankę) niż dni deszczowe jako słoneczne (i mieć niemiłą niespodziankę). Zatem odrzuciłbym model lasu losowego. Z kolei z modeli regresji liniowej oraz k najbliższych sąsiadów jednoznacznie lepsza jest regresja liniowa - przy równych **ROC AUC** i **RECALL** ma wyższe **PRECISION**.\n",
    "\n",
    "Zatem ostatecznie użyłbym **regresji logistycznej**."
   ]
  }
 ],
 "metadata": {
  "kernelspec": {
   "display_name": "Python 3",
   "language": "python",
   "name": "python3"
  },
  "language_info": {
   "codemirror_mode": {
    "name": "ipython",
    "version": 3
   },
   "file_extension": ".py",
   "mimetype": "text/x-python",
   "name": "python",
   "nbconvert_exporter": "python",
   "pygments_lexer": "ipython3",
   "version": "3.7.3"
  }
 },
 "nbformat": 4,
 "nbformat_minor": 4
}
