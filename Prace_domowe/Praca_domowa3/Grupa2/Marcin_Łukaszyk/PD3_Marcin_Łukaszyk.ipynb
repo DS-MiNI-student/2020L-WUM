{
 "cells": [
  {
   "cell_type": "markdown",
   "metadata": {},
   "source": [
    "# Praca domowa 3 - Raport"
   ]
  },
  {
   "cell_type": "markdown",
   "metadata": {},
   "source": [
    "W ramach pracy domowej muszę wytrenować trzy dowolne klasyfikatory i sprawdzić ich skuteczność na [zbiorze danych](https://www.kaggle.com/jsphyg/weather-dataset-rattle-package)\n",
    "Na początku trzeba wczytać dane oraz sprawdzić jakie wartości przyjmują kolejne parametry."
   ]
  },
  {
   "cell_type": "code",
   "execution_count": 1,
   "metadata": {},
   "outputs": [],
   "source": [
    "using IJulia \n",
    "IJulia.installkernel(\"Julia nodeps\")\n",
    "IJulia.clear_output();"
   ]
  },
  {
   "cell_type": "code",
   "execution_count": 2,
   "metadata": {
    "scrolled": false
   },
   "outputs": [],
   "source": [
    "using Pkg # Wczytanie pakietów\n",
    "Pkg.add(\"DataFrames\")\n",
    "Pkg.add(\"CSV\")\n",
    "Pkg.add(\"StatsBase\")\n",
    "Pkg.add(\"Random\")\n",
    "Pkg.add(\"MLLabelUtils\")\n",
    "Pkg.add(\"DataFramesMeta\")\n",
    "Pkg.add(\"DecisionTree\")\n",
    "Pkg.add(\"ScikitLearn\")\n",
    "Pkg.add(\"MLBase\")\n",
    "Pkg.build(\"PyCall\")\n",
    "IJulia.clear_output();"
   ]
  },
  {
   "cell_type": "markdown",
   "metadata": {},
   "source": [
    "## Wczytanie danych\n",
    "Do tego wykorzystujemy pakiet CSV i od razu konwertujemy go do formatu DataFrames.\n",
    "Poprawność wczytania widać poniżej.\n",
    "Należy również usuąć jedną kolumne ponieważ zawierała inforamcje o ilości opadów następnego dnia przez co ta kolumna zawierała informacje o tym czy jutro będzie padać.\n",
    "Taka informacja trywializuje nasze zadanie i powoduje że inne zmienne nie będą miały wpływu na model.\n",
    "Usuniemy również te kolumny które nie były podane w treści zadania"
   ]
  },
  {
   "cell_type": "code",
   "execution_count": 3,
   "metadata": {},
   "outputs": [
    {
     "data": {
      "text/html": [
       "<table class=\"data-frame\"><thead><tr><th></th><th>MinTemp</th><th>MaxTemp</th><th>Rainfall</th><th>Evaporation</th><th>Sunshine</th><th>WindGustSpeed</th><th>WindSpeed9am</th></tr><tr><th></th><th>String</th><th>String</th><th>String</th><th>String</th><th>String</th><th>String</th><th>String</th></tr></thead><tbody><p>5 rows × 18 columns (omitted printing of 11 columns)</p><tr><th>1</th><td>13.4</td><td>22.9</td><td>0.6</td><td>NA</td><td>NA</td><td>44</td><td>20</td></tr><tr><th>2</th><td>7.4</td><td>25.1</td><td>0</td><td>NA</td><td>NA</td><td>44</td><td>4</td></tr><tr><th>3</th><td>12.9</td><td>25.7</td><td>0</td><td>NA</td><td>NA</td><td>46</td><td>19</td></tr><tr><th>4</th><td>9.2</td><td>28</td><td>0</td><td>NA</td><td>NA</td><td>24</td><td>11</td></tr><tr><th>5</th><td>17.5</td><td>32.3</td><td>1</td><td>NA</td><td>NA</td><td>41</td><td>7</td></tr></tbody></table>"
      ],
      "text/latex": [
       "\\begin{tabular}{r|cccccccc}\n",
       "\t& MinTemp & MaxTemp & Rainfall & Evaporation & Sunshine & WindGustSpeed & WindSpeed9am & \\\\\n",
       "\t\\hline\n",
       "\t& String & String & String & String & String & String & String & \\\\\n",
       "\t\\hline\n",
       "\t1 & 13.4 & 22.9 & 0.6 & NA & NA & 44 & 20 & $\\dots$ \\\\\n",
       "\t2 & 7.4 & 25.1 & 0 & NA & NA & 44 & 4 & $\\dots$ \\\\\n",
       "\t3 & 12.9 & 25.7 & 0 & NA & NA & 46 & 19 & $\\dots$ \\\\\n",
       "\t4 & 9.2 & 28 & 0 & NA & NA & 24 & 11 & $\\dots$ \\\\\n",
       "\t5 & 17.5 & 32.3 & 1 & NA & NA & 41 & 7 & $\\dots$ \\\\\n",
       "\\end{tabular}\n"
      ],
      "text/plain": [
       "5×18 DataFrame. Omitted printing of 12 columns\n",
       "│ Row │ MinTemp │ MaxTemp │ Rainfall │ Evaporation │ Sunshine │ WindGustSpeed │\n",
       "│     │ \u001b[90mString\u001b[39m  │ \u001b[90mString\u001b[39m  │ \u001b[90mString\u001b[39m   │ \u001b[90mString\u001b[39m      │ \u001b[90mString\u001b[39m   │ \u001b[90mString\u001b[39m        │\n",
       "├─────┼─────────┼─────────┼──────────┼─────────────┼──────────┼───────────────┤\n",
       "│ 1   │ 13.4    │ 22.9    │ 0.6      │ NA          │ NA       │ 44            │\n",
       "│ 2   │ 7.4     │ 25.1    │ 0        │ NA          │ NA       │ 44            │\n",
       "│ 3   │ 12.9    │ 25.7    │ 0        │ NA          │ NA       │ 46            │\n",
       "│ 4   │ 9.2     │ 28      │ 0        │ NA          │ NA       │ 24            │\n",
       "│ 5   │ 17.5    │ 32.3    │ 1        │ NA          │ NA       │ 41            │"
      ]
     },
     "execution_count": 3,
     "metadata": {},
     "output_type": "execute_result"
    }
   ],
   "source": [
    "using CSV, DataFrames\n",
    "df1 = CSV.read(joinpath(Pkg.dir(\"DataFrames\"), \"C:\\\\Users\\\\lukas\\\\Desktop\\\\weatherAUS.csv\"));\n",
    "df = df1[:,:]\n",
    "df = select(df, Not([:RISK_MM,:Date,:Location,:WindGustDir,:WindDir9am,:WindDir3pm]))\n",
    "IJulia.clear_output();\n",
    "first(df,5)"
   ]
  },
  {
   "cell_type": "markdown",
   "metadata": {},
   "source": [
    "Spójrzmy teraz na to jakie typy mają wszystkie kolumnu oraz jakie wartośći przyjmuje pierwszy rząd z naszej ramki danych. "
   ]
  },
  {
   "cell_type": "code",
   "execution_count": 4,
   "metadata": {},
   "outputs": [
    {
     "name": "stdout",
     "output_type": "stream",
     "text": [
      "1×18 DataFrame\n",
      "│ Row │ MinTemp │ MaxTemp │ Rainfall │ Evaporation │ Sunshine │ WindGustSpeed │\n",
      "│     │ \u001b[90mString\u001b[39m  │ \u001b[90mString\u001b[39m  │ \u001b[90mString\u001b[39m   │ \u001b[90mString\u001b[39m      │ \u001b[90mString\u001b[39m   │ \u001b[90mString\u001b[39m        │\n",
      "├─────┼─────────┼─────────┼──────────┼─────────────┼──────────┼───────────────┤\n",
      "│ 1   │ 13.4    │ 22.9    │ 0.6      │ NA          │ NA       │ 44            │\n",
      "\n",
      "│ Row │ WindSpeed9am │ WindSpeed3pm │ Humidity9am │ Humidity3pm │ Pressure9am │\n",
      "│     │ \u001b[90mString\u001b[39m       │ \u001b[90mString\u001b[39m       │ \u001b[90mString\u001b[39m      │ \u001b[90mString\u001b[39m      │ \u001b[90mString\u001b[39m      │\n",
      "├─────┼──────────────┼──────────────┼─────────────┼─────────────┼─────────────┤\n",
      "│ 1   │ 20           │ 24           │ 71          │ 22          │ 1007.7      │\n",
      "\n",
      "│ Row │ Pressure3pm │ Cloud9am │ Cloud3pm │ Temp9am │ Temp3pm │ RainToday │\n",
      "│     │ \u001b[90mString\u001b[39m      │ \u001b[90mString\u001b[39m   │ \u001b[90mString\u001b[39m   │ \u001b[90mString\u001b[39m  │ \u001b[90mString\u001b[39m  │ \u001b[90mString\u001b[39m    │\n",
      "├─────┼─────────────┼──────────┼──────────┼─────────┼─────────┼───────────┤\n",
      "│ 1   │ 1007.1      │ 8        │ NA       │ 16.9    │ 21.8    │ No        │\n",
      "\n",
      "│ Row │ RainTomorrow │\n",
      "│     │ \u001b[90mString\u001b[39m       │\n",
      "├─────┼──────────────┤\n",
      "│ 1   │ No           │"
     ]
    }
   ],
   "source": [
    "show(first(df,1), allrows=false, allcols=true)"
   ]
  },
  {
   "cell_type": "markdown",
   "metadata": {},
   "source": [
    "Większość wartości jest typu String.\n",
    "sprawdźmy czy kolumny przyjmują dużo unikalnych wartośći.\n",
    "Jeśli tak to oznacza że mają one wartośći numeryczne.\n",
    "Natomiast jeżeli jest ich kilka to zapewne są to wartości nominalne."
   ]
  },
  {
   "cell_type": "code",
   "execution_count": 5,
   "metadata": {},
   "outputs": [
    {
     "data": {
      "text/plain": [
       "18-element Array{String,1}:\n",
       " \"390 : MinTemp\"\n",
       " \"506 : MaxTemp\"\n",
       " \"680 : Rainfall\"\n",
       " \"357 : Evaporation\"\n",
       " \"146 : Sunshine\"\n",
       " \"68 : WindGustSpeed\"\n",
       " \"44 : WindSpeed9am\"\n",
       " \"45 : WindSpeed3pm\"\n",
       " \"102 : Humidity9am\"\n",
       " \"102 : Humidity3pm\"\n",
       " \"547 : Pressure9am\"\n",
       " \"550 : Pressure3pm\"\n",
       " \"11 : Cloud9am\"\n",
       " \"11 : Cloud3pm\"\n",
       " \"441 : Temp9am\"\n",
       " \"501 : Temp3pm\"\n",
       " \"3 : RainToday\"\n",
       " \"2 : RainTomorrow\""
      ]
     },
     "execution_count": 5,
     "metadata": {},
     "output_type": "execute_result"
    }
   ],
   "source": [
    "values = [string(size(unique(c))[1])*\" : \" for c in eachcol(df)]\n",
    "n =size(values)[1]\n",
    "for i in 1:n\n",
    "    \n",
    "    values[i] = values[i]*String.(names(df))[i]\n",
    "end\n",
    "values"
   ]
  },
  {
   "cell_type": "markdown",
   "metadata": {},
   "source": [
    "Możemy zobaczyć że tylko dwie kolumny mają bardzo mało różnych wartości.\n",
    "Ostatnia z nich jest naszą kolumną celu.\n",
    "Mówi ona czy następnego dnia padało.\n",
    "To będzie celem do przewidzenia dla naszych modeli.\n",
    "Drugą kolumną jest wartość czy w danym dniu padało."
   ]
  },
  {
   "cell_type": "code",
   "execution_count": 6,
   "metadata": {},
   "outputs": [
    {
     "data": {
      "text/plain": [
       "3-element Array{String,1}:\n",
       " \"No\"\n",
       " \"Yes\"\n",
       " \"NA\""
      ]
     },
     "execution_count": 6,
     "metadata": {},
     "output_type": "execute_result"
    }
   ],
   "source": [
    "unique(df.RainToday)"
   ]
  },
  {
   "cell_type": "code",
   "execution_count": 7,
   "metadata": {},
   "outputs": [
    {
     "name": "stdout",
     "output_type": "stream",
     "text": [
      "Ilość rekordów gdzie nie padało danego dnia : 109332\n",
      "Ilość rekordów gdzie padało danego dnia : 31455\n",
      "Ilość rekordów gdzie nie ma danych czy padało danego dnia : 1406\n"
     ]
    }
   ],
   "source": [
    "a = size(df[([i in [\"No\"] for i in df.RainToday] .> 0),:])[1]\n",
    "b = size(df[([i in [\"Yes\"] for i in df.RainToday] .> 0),:])[1]\n",
    "c = size(df[([i in [\"NA\"] for i in df.RainToday] .> 0),:])[1]\n",
    "println(\"Ilość rekordów gdzie nie padało danego dnia : \",a)\n",
    "println(\"Ilość rekordów gdzie padało danego dnia : \",b)\n",
    "println(\"Ilość rekordów gdzie nie ma danych czy padało danego dnia : \",c )"
   ]
  },
  {
   "cell_type": "markdown",
   "metadata": {},
   "source": [
    "Z tego widać że większość rekordów jest dobrze przygotowana.\n",
    "Z tego powodu zdecydowałem się usunąć 1 % dziwnych wartośći."
   ]
  },
  {
   "cell_type": "code",
   "execution_count": 8,
   "metadata": {},
   "outputs": [
    {
     "data": {
      "text/plain": [
       "(140787, 18)"
      ]
     },
     "execution_count": 8,
     "metadata": {},
     "output_type": "execute_result"
    }
   ],
   "source": [
    "using DataFramesMeta\n",
    "df = @transform(df, RainToday = replace(:RainToday, \"NA\" => missing))\n",
    "df = @transform(df, RainToday = replace(:RainToday, \"Yes\" => \"1\"))\n",
    "df = @transform(df, RainToday = replace(:RainToday, \"No\" => \"0\"))\n",
    "df = dropmissing(df, :RainToday)\n",
    "c = size(df[([i in [\"NA\"] for i in df.RainToday] .> 0),:])[1]\n",
    "size(df)"
   ]
  },
  {
   "cell_type": "markdown",
   "metadata": {},
   "source": [
    "Sprawdźmy teraz ile kolumn z naszej ramki danych zawiera wartości NA."
   ]
  },
  {
   "cell_type": "code",
   "execution_count": 9,
   "metadata": {},
   "outputs": [
    {
     "data": {
      "text/plain": [
       "18-element Array{String,1}:\n",
       " \"1 : MinTemp\"\n",
       " \"1 : MaxTemp\"\n",
       " \"0 : Rainfall\"\n",
       " \"1 : Evaporation\"\n",
       " \"1 : Sunshine\"\n",
       " \"1 : WindGustSpeed\"\n",
       " \"1 : WindSpeed9am\"\n",
       " \"1 : WindSpeed3pm\"\n",
       " \"1 : Humidity9am\"\n",
       " \"1 : Humidity3pm\"\n",
       " \"1 : Pressure9am\"\n",
       " \"1 : Pressure3pm\"\n",
       " \"1 : Cloud9am\"\n",
       " \"1 : Cloud3pm\"\n",
       " \"1 : Temp9am\"\n",
       " \"1 : Temp3pm\"\n",
       " \"0 : RainToday\"\n",
       " \"0 : RainTomorrow\""
      ]
     },
     "execution_count": 9,
     "metadata": {},
     "output_type": "execute_result"
    }
   ],
   "source": [
    "vec =  [count(x->x==\"NA\",unique(c)) for c in eachcol(df)]\n",
    "vec = [string(c) for c in vec]\n",
    "n =size(vec)[1]\n",
    "for i in 1:n    \n",
    "    vec[i] = vec[i]*\" : \"*String.(names(df))[i]\n",
    "end\n",
    "vec"
   ]
  },
  {
   "cell_type": "markdown",
   "metadata": {},
   "source": [
    "Jak widać tylko 3 kolumny nie mają braków danych.\n",
    "Ilość opadów deszczu, wartość binarna czy w danym dniu padało oraz to czy w następnym dniu padało.\n",
    "(To jest nasza szukana wartość)"
   ]
  },
  {
   "cell_type": "code",
   "execution_count": 10,
   "metadata": {},
   "outputs": [],
   "source": [
    "df = @transform(df, WindGustSpeed = replace(:WindGustSpeed, \"NA\" => \"0\"))\n",
    "df = @transform(df, WindSpeed9am = replace(:WindSpeed9am, \"NA\" => \"0\"))\n",
    "df = @transform(df, WindSpeed3pm = replace(:WindSpeed3pm, \"NA\" => \"0\"))\n",
    "df = @transform(df, Evaporation = replace(:Evaporation, \"NA\" => \"0\"))\n",
    "df = @transform(df, Sunshine = replace(:Sunshine, \"NA\" => \"0\"));"
   ]
  },
  {
   "cell_type": "markdown",
   "metadata": {},
   "source": [
    "Postanowiłem zamienić zmienne \"NA\" na 0 w przypadku prędkości wiatru, miary odparowywania i czasu nasłoniecznienia.\n",
    "Wynika to z tego że brak danych jest zapewne spowodowany brakiem wiatru,odparowywania i słońca w danym dniu."
   ]
  },
  {
   "cell_type": "code",
   "execution_count": 11,
   "metadata": {
    "scrolled": true
   },
   "outputs": [],
   "source": [
    "df = @transform(df, Humidity9am = replace(:Humidity9am, \"NA\" => missing))\n",
    "df = @transform(df, Humidity3pm = replace(:Humidity3pm, \"NA\" => missing))\n",
    "df = @transform(df, Pressure9am = replace(:Pressure9am, \"NA\" => missing))\n",
    "df = @transform(df, Pressure3pm = replace(:Pressure3pm, \"NA\" => missing))\n",
    "df = @transform(df, Cloud9am = replace(:Cloud9am, \"NA\" => missing))\n",
    "df = @transform(df, Cloud3pm = replace(:Cloud3pm, \"NA\" => missing))\n",
    "df = dropmissing(df, :Humidity9am)\n",
    "df = dropmissing(df, :Humidity3pm)\n",
    "df = dropmissing(df, :Pressure9am)\n",
    "df = dropmissing(df, :Pressure3pm)\n",
    "df = dropmissing(df, :Cloud9am)\n",
    "df = dropmissing(df, :Cloud3pm)\n",
    "df = @transform(df, RainTomorrow = replace(:RainTomorrow, \"No\" => \"0\"))\n",
    "df = @transform(df, RainTomorrow = replace(:RainTomorrow, \"Yes\" => \"1\"));"
   ]
  },
  {
   "cell_type": "markdown",
   "metadata": {},
   "source": [
    "Dla zmiennych wilgotnośći, zachmurzenia i ciśnienia założyłem że brak wspisu oznacza niepełność danych oraz ich hipotetyczną niedokładność.\n",
    "Dlatego z powodu dużej ilości danych usunąłem rzędy z brakującymi informacjami.\n",
    "\n",
    "Przyporządkowałem również wartości binarne dla zmiennych celu.\n",
    "\"0\" dla braku deszczu i \"1\" dla jego występowania."
   ]
  },
  {
   "cell_type": "code",
   "execution_count": 12,
   "metadata": {},
   "outputs": [
    {
     "name": "stdout",
     "output_type": "stream",
     "text": [
      "Wielkość naszej ramki danych po usunięciu części danych \u001b[0m\u001b[1m77618\u001b[22m."
     ]
    },
    {
     "data": {
      "text/html": [
       "<table class=\"data-frame\"><thead><tr><th></th><th>MinTemp</th><th>MaxTemp</th><th>Rainfall</th><th>Evaporation</th><th>Sunshine</th><th>WindGustSpeed</th><th>WindSpeed9am</th></tr><tr><th></th><th>String</th><th>String</th><th>String</th><th>String</th><th>String</th><th>String</th><th>String</th></tr></thead><tbody><p>5 rows × 18 columns (omitted printing of 11 columns)</p><tr><th>1</th><td>17.5</td><td>32.3</td><td>1</td><td>0</td><td>0</td><td>41</td><td>7</td></tr><tr><th>2</th><td>15.9</td><td>21.7</td><td>2.2</td><td>0</td><td>0</td><td>31</td><td>15</td></tr><tr><th>3</th><td>15.9</td><td>18.6</td><td>15.6</td><td>0</td><td>0</td><td>61</td><td>28</td></tr><tr><th>4</th><td>14.1</td><td>20.9</td><td>0</td><td>0</td><td>0</td><td>22</td><td>11</td></tr><tr><th>5</th><td>13.5</td><td>22.9</td><td>16.8</td><td>0</td><td>0</td><td>63</td><td>6</td></tr></tbody></table>"
      ],
      "text/latex": [
       "\\begin{tabular}{r|cccccccc}\n",
       "\t& MinTemp & MaxTemp & Rainfall & Evaporation & Sunshine & WindGustSpeed & WindSpeed9am & \\\\\n",
       "\t\\hline\n",
       "\t& String & String & String & String & String & String & String & \\\\\n",
       "\t\\hline\n",
       "\t1 & 17.5 & 32.3 & 1 & 0 & 0 & 41 & 7 & $\\dots$ \\\\\n",
       "\t2 & 15.9 & 21.7 & 2.2 & 0 & 0 & 31 & 15 & $\\dots$ \\\\\n",
       "\t3 & 15.9 & 18.6 & 15.6 & 0 & 0 & 61 & 28 & $\\dots$ \\\\\n",
       "\t4 & 14.1 & 20.9 & 0 & 0 & 0 & 22 & 11 & $\\dots$ \\\\\n",
       "\t5 & 13.5 & 22.9 & 16.8 & 0 & 0 & 63 & 6 & $\\dots$ \\\\\n",
       "\\end{tabular}\n"
      ],
      "text/plain": [
       "5×18 DataFrame. Omitted printing of 12 columns\n",
       "│ Row │ MinTemp │ MaxTemp │ Rainfall │ Evaporation │ Sunshine │ WindGustSpeed │\n",
       "│     │ \u001b[90mString\u001b[39m  │ \u001b[90mString\u001b[39m  │ \u001b[90mString\u001b[39m   │ \u001b[90mString\u001b[39m      │ \u001b[90mString\u001b[39m   │ \u001b[90mString\u001b[39m        │\n",
       "├─────┼─────────┼─────────┼──────────┼─────────────┼──────────┼───────────────┤\n",
       "│ 1   │ 17.5    │ 32.3    │ 1        │ 0           │ 0        │ 41            │\n",
       "│ 2   │ 15.9    │ 21.7    │ 2.2      │ 0           │ 0        │ 31            │\n",
       "│ 3   │ 15.9    │ 18.6    │ 15.6     │ 0           │ 0        │ 61            │\n",
       "│ 4   │ 14.1    │ 20.9    │ 0        │ 0           │ 0        │ 22            │\n",
       "│ 5   │ 13.5    │ 22.9    │ 16.8     │ 0           │ 0        │ 63            │"
      ]
     },
     "execution_count": 12,
     "metadata": {},
     "output_type": "execute_result"
    }
   ],
   "source": [
    "print(\"Wielkość naszej ramki danych po usunięciu części danych \")\n",
    "printstyled(size(df)[1],bold = true)\n",
    "print(\".\")\n",
    "first(df,5)"
   ]
  },
  {
   "cell_type": "code",
   "execution_count": 13,
   "metadata": {},
   "outputs": [
    {
     "name": "stdout",
     "output_type": "stream",
     "text": [
      "(77618, 18)"
     ]
    }
   ],
   "source": [
    "print(size(df))"
   ]
  },
  {
   "cell_type": "markdown",
   "metadata": {},
   "source": [
    "Została nam kolumna z minimalną oraz maksymalną temperaturą.\n",
    "Policzmy ile jest rekordów z brakującymi danami."
   ]
  },
  {
   "cell_type": "code",
   "execution_count": 14,
   "metadata": {},
   "outputs": [
    {
     "name": "stdout",
     "output_type": "stream",
     "text": [
      "Ilość rekordów z nie podaną maksymalną temperaturą : 29\n",
      "Ilość rekordów z nie padaną minimalną temperaturą : 55\n"
     ]
    }
   ],
   "source": [
    "a = size(df[([i in [\"NA\"] for i in df.MinTemp] .> 0),:])[1]\n",
    "b = size(df[([i in [\"NA\"] for i in df.MaxTemp] .> 0),:])[1]\n",
    "println(\"Ilość rekordów z nie podaną maksymalną temperaturą : \",b)\n",
    "println(\"Ilość rekordów z nie padaną minimalną temperaturą : \",a)"
   ]
  },
  {
   "cell_type": "markdown",
   "metadata": {},
   "source": [
    "Widać że jest ich mało więc dla uproszczenia usuniemy te rekordy."
   ]
  },
  {
   "cell_type": "code",
   "execution_count": 15,
   "metadata": {},
   "outputs": [
    {
     "name": "stdout",
     "output_type": "stream",
     "text": [
      "Ilość rekordów przed usunięciem NA :77618\n",
      "Ilość rekordów po usunięciu NA :77534\n"
     ]
    }
   ],
   "source": [
    "println(\"Ilość rekordów przed usunięciem NA :\",size(df)[1])\n",
    "df = @transform(df, MinTemp = replace(:MinTemp, \"NA\" => missing))\n",
    "df = @transform(df, MaxTemp = replace(:MaxTemp, \"NA\" => missing))\n",
    "df = dropmissing(df, :MinTemp)\n",
    "df = dropmissing(df, :MaxTemp)\n",
    "println(\"Ilość rekordów po usunięciu NA :\",size(df)[1])"
   ]
  },
  {
   "cell_type": "code",
   "execution_count": 16,
   "metadata": {},
   "outputs": [
    {
     "name": "stdout",
     "output_type": "stream",
     "text": [
      "[\"0 : MinTemp\", \"0 : MaxTemp\", \"0 : Rainfall\", \"0 : Evaporation\", \"0 : Sunshine\", \"0 : WindGustSpeed\", \"0 : WindSpeed9am\", \"0 : WindSpeed3pm\", \"0 : Humidity9am\", \"0 : Humidity3pm\", \"0 : Pressure9am\", \"0 : Pressure3pm\", \"0 : Cloud9am\", \"0 : Cloud3pm\", \"0 : Temp9am\", \"0 : Temp3pm\", \"0 : RainToday\", \"0 : RainTomorrow\"]"
     ]
    }
   ],
   "source": [
    "vec =  [count(x->x==\"NA\",unique(c)) for c in eachcol(df)]\n",
    "vec = [string(c) for c in vec]\n",
    "n =size(vec)[1]\n",
    "for i in 1:n    \n",
    "    vec[i] = vec[i]*\" : \"*String.(names(df))[i]\n",
    "end\n",
    "print(string(vec))"
   ]
  },
  {
   "cell_type": "markdown",
   "metadata": {},
   "source": [
    "Nie mamy już żadnych braków danych.\n",
    "\n",
    "Sprawdzmy teraz jakie typ danych mają kolumny w ramce danych.\n",
    "Wszystkie dane są numeryczne więc powinny być w typie Float64."
   ]
  },
  {
   "cell_type": "code",
   "execution_count": 17,
   "metadata": {},
   "outputs": [
    {
     "data": {
      "text/plain": [
       "18-element Array{DataType,1}:\n",
       " String\n",
       " String\n",
       " String\n",
       " String\n",
       " String\n",
       " String\n",
       " String\n",
       " String\n",
       " String\n",
       " String\n",
       " String\n",
       " String\n",
       " String\n",
       " String\n",
       " String\n",
       " String\n",
       " String\n",
       " String"
      ]
     },
     "execution_count": 17,
     "metadata": {},
     "output_type": "execute_result"
    }
   ],
   "source": [
    "eltype.(eachcol(df))"
   ]
  },
  {
   "cell_type": "markdown",
   "metadata": {},
   "source": [
    "Skonwertujmy teraz te dane na numeryczne wartośći"
   ]
  },
  {
   "cell_type": "code",
   "execution_count": 18,
   "metadata": {},
   "outputs": [],
   "source": [
    "df[:MinTemp] = [parse(Float64,x) for x in df[:MinTemp]]\n",
    "df[:MaxTemp] = [parse(Float64,x) for x in df[:MaxTemp]] \n",
    "df[:Rainfall] = [parse(Float64,x) for x in df[:Rainfall]]\n",
    "df[:Sunshine] = [parse(Float64,x) for x in df[:Sunshine]] \n",
    "df[:Evaporation] = [parse(Float64,x) for x in df[:Evaporation]] \n",
    "df[:WindGustSpeed] = [parse(Float64,x) for x in df[:WindGustSpeed]] \n",
    "df[:WindSpeed9am] = [parse(Float64,x) for x in df[:WindSpeed9am]] \n",
    "df[:WindSpeed3pm] = [parse(Float64,x) for x in df[:WindSpeed3pm]] \n",
    "df[:Humidity9am] = [parse(Float64,x) for x in df[:Humidity9am]] \n",
    "df[:Humidity3pm] = [parse(Float64,x) for x in df[:Humidity3pm]] \n",
    "df[:Pressure9am] = [parse(Float64,x) for x in df[:Pressure9am]] \n",
    "df[:Pressure3pm] = [parse(Float64,x) for x in df[:Pressure3pm]] \n",
    "df[:Cloud9am] = [parse(Float64,x) for x in df[:Cloud9am]] \n",
    "df[:Cloud3pm] = [parse(Float64,x) for x in df[:Cloud3pm]] \n",
    "df[:Temp9am] = [parse(Float64,x) for x in df[:Temp9am]] \n",
    "df[:Temp3pm] = [parse(Float64,x) for x in df[:Temp3pm]] \n",
    "df[:RainToday] = [parse(Float64,x) for x in df[:RainToday]] \n",
    "df[:RainTomorrow] = [parse(Float64,x) for x in df[:RainTomorrow]] \n",
    "IJulia.clear_output();"
   ]
  },
  {
   "cell_type": "code",
   "execution_count": 19,
   "metadata": {
    "scrolled": true
   },
   "outputs": [],
   "source": [
    "using Random\n",
    "df_train = deepcopy(df)\n",
    "n = convert(Int16,floor(nrow(df)/10)) # Bierzemy 10% wartości do zbioru testowego,\n",
    "                                      # reszte jako zbiór treningowy. \n",
    "vec = sort(randperm(nrow(df))[1:n])   \n",
    "df_test = df[vec,:]\n",
    "for i in 1:n\n",
    "    deleterows!(df_train,vec[i] - i + 1)\n",
    "end"
   ]
  },
  {
   "cell_type": "markdown",
   "metadata": {},
   "source": [
    "Mamy podział na zbiór treningowy i testowy.\n",
    "Podzielmy jeszcze nasze dane na zbiory X i Y oznaczające zmienne features i labels."
   ]
  },
  {
   "cell_type": "code",
   "execution_count": 20,
   "metadata": {},
   "outputs": [],
   "source": [
    "df_train_y = df_train[:RainTomorrow]\n",
    "df_test_y = df_test[:RainTomorrow]\n",
    "df_train_x = df_train[:, filter(x -> x != :RainTomorrow, names(df_train))]\n",
    "df_test_x = df_test[:, filter(x -> x != :RainTomorrow, names(df_test))]\n",
    "IJulia.clear_output();"
   ]
  },
  {
   "cell_type": "markdown",
   "metadata": {},
   "source": [
    "# Klasyfikatory\n",
    "\n",
    "Do tego zadania użyjemu klasyfikatorów z pakietu **DecisionTree**.\n",
    "Jest to pakiet który implementuje algorytmy dzrewa decezyjnego (CART) oraz losowych lasów.\n",
    "Ten pakiet implementuje te algorytmy w języku [Julia.](https://julialang.org/)\n",
    "Sam pakiet znajduje się [tutaj](https://github.com/bensadeghi/DecisionTree.jl)\n",
    "\n",
    "Najpierw stworzymy zwykłe dzrzewo decyzyjne z maksymalną głębokością oraz parametrem pruning = 10%."
   ]
  },
  {
   "cell_type": "code",
   "execution_count": 21,
   "metadata": {
    "scrolled": true
   },
   "outputs": [
    {
     "data": {
      "text/plain": [
       "DecisionTreeClassifier\n",
       "max_depth:                30\n",
       "min_samples_leaf:         1\n",
       "min_samples_split:        2\n",
       "min_purity_increase:      0.0\n",
       "pruning_purity_threshold: 1.0\n",
       "n_subfeatures:            0\n",
       "classes:                  nothing\n",
       "root:                     nothing"
      ]
     },
     "execution_count": 21,
     "metadata": {},
     "output_type": "execute_result"
    }
   ],
   "source": [
    "using DecisionTree\n",
    "\n",
    "model_dt = DecisionTreeClassifier(max_depth=30)"
   ]
  },
  {
   "cell_type": "code",
   "execution_count": 22,
   "metadata": {},
   "outputs": [],
   "source": [
    "df_train_x=convert(Matrix,df_train_x) #Wszystkie modele na wejściu muszą mieć macierze.\n",
    "df_test_x=convert(Matrix,df_test_x);"
   ]
  },
  {
   "cell_type": "code",
   "execution_count": 23,
   "metadata": {
    "scrolled": true
   },
   "outputs": [
    {
     "data": {
      "text/plain": [
       "DecisionTreeClassifier\n",
       "max_depth:                30\n",
       "min_samples_leaf:         1\n",
       "min_samples_split:        2\n",
       "min_purity_increase:      0.0\n",
       "pruning_purity_threshold: 1.0\n",
       "n_subfeatures:            0\n",
       "classes:                  [0.0, 1.0]\n",
       "root:                     Decision Tree\n",
       "Leaves: 8147\n",
       "Depth:  30"
      ]
     },
     "execution_count": 23,
     "metadata": {},
     "output_type": "execute_result"
    }
   ],
   "source": [
    "fit!(model_dt, df_train_x, df_train_y)"
   ]
  },
  {
   "cell_type": "code",
   "execution_count": 24,
   "metadata": {},
   "outputs": [
    {
     "data": {
      "text/plain": [
       "3-element Array{Float64,1}:\n",
       " 0.765183752417795\n",
       " 0.75\n",
       " 0.7786377708978328"
      ]
     },
     "execution_count": 24,
     "metadata": {},
     "output_type": "execute_result"
    }
   ],
   "source": [
    "using ScikitLearn.CrossValidation: cross_val_score\n",
    "using MLBase\n",
    "accuracy = cross_val_score(model_dt, df_test_x, reshape(df_test_y,(7753,1)),cv = 3)"
   ]
  },
  {
   "cell_type": "markdown",
   "metadata": {},
   "source": [
    "## Random Forest\n",
    "\n",
    "Teraz stworze model metodą random forset z tego samego pakietu."
   ]
  },
  {
   "cell_type": "code",
   "execution_count": 25,
   "metadata": {},
   "outputs": [
    {
     "data": {
      "text/plain": [
       "Ensemble of Decision Trees\n",
       "Trees:      10\n",
       "Avg Leaves: 61.2\n",
       "Avg Depth:  6.0"
      ]
     },
     "execution_count": 25,
     "metadata": {},
     "output_type": "execute_result"
    }
   ],
   "source": [
    "model_f = build_forest(df_train_y, df_train_x, 2, 10, 0.5, 6)"
   ]
  },
  {
   "cell_type": "code",
   "execution_count": 26,
   "metadata": {},
   "outputs": [
    {
     "name": "stdout",
     "output_type": "stream",
     "text": [
      "\n",
      "Fold 1\n",
      "Mean Squared Error:     0.0745467854051952\n",
      "Correlation Coeff:      0.7827692798893219\n",
      "Coeff of Determination: 0.5828293002718226\n",
      "\n",
      "Fold 2\n",
      "Mean Squared Error:     0.06937034113779526\n",
      "Correlation Coeff:      0.7986359342075682\n",
      "Coeff of Determination: 0.6053419317238534\n",
      "\n",
      "Fold 3\n",
      "Mean Squared Error:     0.07254182267936414\n",
      "Correlation Coeff:      0.7937063579644398\n",
      "Coeff of Determination: 0.5977495869482081\n",
      "\n",
      "Mean Coeff of Determination: 0.5953069396479614\n"
     ]
    },
    {
     "data": {
      "text/plain": [
       "3-element Array{Float64,1}:\n",
       " 0.5828293002718226\n",
       " 0.6053419317238534\n",
       " 0.5977495869482081"
      ]
     },
     "execution_count": 26,
     "metadata": {},
     "output_type": "execute_result"
    }
   ],
   "source": [
    "n_folds=3; n_subfeatures=2\n",
    "accuracy = nfoldCV_forest(df_test_y, df_test_x, n_folds, n_subfeatures)"
   ]
  },
  {
   "cell_type": "markdown",
   "metadata": {},
   "source": [
    "## Prune Tree\n",
    "\n",
    "Trzecim algorytmem będzie prune tree.\n",
    "Jest to metoda by pozbyć się overfit'ingu.\n",
    "Polega on na \"wycinaniu\" tych części dzrzewa która zawiera już mało informacji i ma słaby wpływ na klasyfikacje naszych danych.\n",
    "Do tego używa się parametru odcięcia który podaje jako hiperparametr."
   ]
  },
  {
   "cell_type": "code",
   "execution_count": 27,
   "metadata": {},
   "outputs": [
    {
     "data": {
      "text/plain": [
       "Decision Tree\n",
       "Leaves: 3940\n",
       "Depth:  27"
      ]
     },
     "execution_count": 27,
     "metadata": {},
     "output_type": "execute_result"
    }
   ],
   "source": [
    "model_p = build_tree(df_train_y, df_train_x)\n",
    "model = prune_tree(model_p, 0.9)"
   ]
  },
  {
   "cell_type": "code",
   "execution_count": 28,
   "metadata": {},
   "outputs": [
    {
     "name": "stdout",
     "output_type": "stream",
     "text": [
      "\n",
      "Fold 1\n",
      "Mean Squared Error:     0.04711264951887188\n",
      "Correlation Coeff:      0.8568555475865995\n",
      "Coeff of Determination: 0.7341903163653196\n",
      "\n",
      "Fold 2\n",
      "Mean Squared Error:     0.048882453139637926\n",
      "Correlation Coeff:      0.8496858242357442\n",
      "Coeff of Determination: 0.7219005382953505\n",
      "\n",
      "Fold 3\n",
      "Mean Squared Error:     0.04842050014450225\n",
      "Correlation Coeff:      0.8565251404123752\n",
      "Coeff of Determination: 0.7336057995723195\n",
      "\n",
      "Mean Coeff of Determination: 0.7298988847443298\n"
     ]
    },
    {
     "data": {
      "text/plain": [
       "3-element Array{Float64,1}:\n",
       " 0.7341903163653196\n",
       " 0.7219005382953505\n",
       " 0.7336057995723195"
      ]
     },
     "execution_count": 28,
     "metadata": {},
     "output_type": "execute_result"
    }
   ],
   "source": [
    "n_folds=3\n",
    "accuracy = nfoldCV_tree(df_test_y, df_test_x, n_folds)"
   ]
  },
  {
   "cell_type": "markdown",
   "metadata": {},
   "source": [
    "# Podumowanie i ocena algorytmów\n",
    "\n",
    "Według walidacji krzyżowej najlepszy wynik ma \"najprostrzy\" algorytm.\n",
    "Zbliżony wynik ma Prune Tree natomiast Random Forest \"odstaje\" od reszty. \n"
   ]
  }
 ],
 "metadata": {
  "kernelspec": {
   "display_name": "Julia 1.4.0",
   "language": "julia",
   "name": "julia-1.4"
  },
  "language_info": {
   "file_extension": ".jl",
   "mimetype": "application/julia",
   "name": "julia",
   "version": "1.4.0"
  }
 },
 "nbformat": 4,
 "nbformat_minor": 4
}
