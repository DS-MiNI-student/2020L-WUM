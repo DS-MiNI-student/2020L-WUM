{
 "cells": [
  {
   "cell_type": "markdown",
   "metadata": {},
   "source": [
    "# Raport\n",
    "Autorzy: Staroń Kacper, Szypuła Jakub, Urbala Anna\n",
    "\n",
    "## Zbiór danych\n",
    "Wybraliśmy zbiór [cervical cancer](https://datahub.io/machine-learning/cervical-cancer) zawierający dane medyczne pacjentek, u części z nich zdiagnozowany został rak szyjki macicy. Całość składa się 835 rekordów. Kolumny:\n",
    "- Age - wiek\n",
    "- Number of sexual partners - liczba partnerów seksualnych\n",
    "- First sexual intercourse - wiek inicjacji seksualnej\n",
    "- Num of pregnancies - liczba ciąż\n",
    "- Smokes - czy pali\n",
    "- Smokes (years) - od ilu lat pali\n",
    "- Smokes (packs/year) - liczba wypalanych paczek na rok\n",
    "- Hormonal Contraceptives - czy stosuje antykoncepcję hormonalną\n",
    "- Hormonal Contraceptives (years) - od ilu lat stosuje antykoncepcję hormonalną\n",
    "- IUD - czy stosuje wkładkę domaciczną\n",
    "- IUD (years) - od ilu lat stosuje wkładkę domaciczną\n",
    "- STDs - czy ma/miała chorobę przenoszą drogą płciową\n",
    "- STDs (number) - ile ma/miała chorób przenoszonych drogą płciową (kolejne kolumny zaczynające się od STDs oznaczają konkretne choroby)\n",
    "- STDs:condylomatosis\n",
    "- STDs:cervical condylomatosis\n",
    "- STDs:vaginal condylomatosis\n",
    "- STDs:vulvo-perineal condylomatosis\n",
    "- STDs:syphilis\n",
    "- STDs:pelvic inflammatory disease\n",
    "- STDs:genital herpes\n",
    "- STDs:molluscum contagiosum\n",
    "- STDs:AIDS\n",
    "- STDs:HIV\n",
    "- STDs:Hepatitis B\n",
    "- STDs:HPV\n",
    "- STDs: Number of diagnosis\n",
    "- STDs: Time since first diagnosis\n",
    "- STDs: Time since last diagnosis\n",
    "- Dx:Cancer - czy miała zdiagnozowanego raka\n",
    "- Dx:CIN - czy miała zdiagnozowanego raka śródnabłonkowego\n",
    "- Dx:HPV - czy były zakażona HPV\n",
    "- Dx - czy była zdiagnozowane któreś z powyższych\n",
    "Kolumny zmiennych celu (metoda diagnozy raka szyjki macicy):\n",
    "- Hinselmann\n",
    "- Schiller\n",
    "- Citology\n",
    "- Biopsy\n",
    "\n",
    "Większość z tych kolumn zawiera braki danych ze względów osobistych pacjentek. \n",
    "### Zmienna celu\n",
    "Celem zadania jest prognozowanie raka szyjki macicy na podstawie posiadanych danych.\n",
    "\n",
    "W zbiorze wyjściowym są cztery kolumny celu, jednak postanowiliśmy ograniczyć się do jednej. Stworzyliśmy własną kolumnę celu, która jest sumą logiczną tamtych czterech. Nazwaliśmy ją *cancer*.\n",
    "\n",
    "## Analiza zbioru"
   ]
  },
  {
   "cell_type": "code",
   "execution_count": 11,
   "metadata": {},
   "outputs": [],
   "source": [
    "import numpy as np\n",
    "import pandas as pd\n",
    "import matplotlib.pyplot as plt\n",
    "import seaborn as sns\n",
    "from pandas_profiling import ProfileReport\n",
    "\n",
    "data = pd.read_csv('cervical-cancer_csv.csv')"
   ]
  },
  {
   "cell_type": "code",
   "execution_count": 10,
   "metadata": {},
   "outputs": [
    {
     "data": {
      "application/vnd.jupyter.widget-view+json": {
       "model_id": "959d51e9b2d74ca0ba0ab0ceec31d812",
       "version_major": 2,
       "version_minor": 0
      },
      "text/plain": [
       "HBox(children=(FloatProgress(value=0.0, description='variables', max=36.0, style=ProgressStyle(description_wid…"
      ]
     },
     "metadata": {},
     "output_type": "display_data"
    },
    {
     "name": "stdout",
     "output_type": "stream",
     "text": [
      "\n"
     ]
    },
    {
     "data": {
      "application/vnd.jupyter.widget-view+json": {
       "model_id": "c87d3797c86b4a89b462cc7d550ef487",
       "version_major": 2,
       "version_minor": 0
      },
      "text/plain": [
       "HBox(children=(FloatProgress(value=0.0, description='correlations', max=6.0, style=ProgressStyle(description_w…"
      ]
     },
     "metadata": {},
     "output_type": "display_data"
    },
    {
     "name": "stdout",
     "output_type": "stream",
     "text": [
      "\n"
     ]
    },
    {
     "data": {
      "application/vnd.jupyter.widget-view+json": {
       "model_id": "537b95f8296c40c6bfe3c952698589a3",
       "version_major": 2,
       "version_minor": 0
      },
      "text/plain": [
       "HBox(children=(FloatProgress(value=0.0, description='interactions [continuous]', max=121.0, style=ProgressStyl…"
      ]
     },
     "metadata": {},
     "output_type": "display_data"
    },
    {
     "name": "stdout",
     "output_type": "stream",
     "text": [
      "\n"
     ]
    },
    {
     "data": {
      "application/vnd.jupyter.widget-view+json": {
       "model_id": "920ae31bf7d2401ebb1c82981811081c",
       "version_major": 2,
       "version_minor": 0
      },
      "text/plain": [
       "HBox(children=(FloatProgress(value=0.0, description='table', max=1.0, style=ProgressStyle(description_width='i…"
      ]
     },
     "metadata": {},
     "output_type": "display_data"
    },
    {
     "name": "stdout",
     "output_type": "stream",
     "text": [
      "\n"
     ]
    },
    {
     "data": {
      "application/vnd.jupyter.widget-view+json": {
       "model_id": "994540692b7f459381e31dadb41d7680",
       "version_major": 2,
       "version_minor": 0
      },
      "text/plain": [
       "HBox(children=(FloatProgress(value=0.0, description='missing', max=4.0, style=ProgressStyle(description_width=…"
      ]
     },
     "metadata": {},
     "output_type": "display_data"
    },
    {
     "name": "stdout",
     "output_type": "stream",
     "text": [
      "\n"
     ]
    },
    {
     "data": {
      "application/vnd.jupyter.widget-view+json": {
       "model_id": "e4dc1913aa854e3aacb76636e64b9995",
       "version_major": 2,
       "version_minor": 0
      },
      "text/plain": [
       "HBox(children=(FloatProgress(value=0.0, description='warnings', max=3.0, style=ProgressStyle(description_width…"
      ]
     },
     "metadata": {},
     "output_type": "display_data"
    },
    {
     "name": "stdout",
     "output_type": "stream",
     "text": [
      "\n"
     ]
    },
    {
     "data": {
      "application/vnd.jupyter.widget-view+json": {
       "model_id": "27c1e5f39a93497d8dedd4305d3cf886",
       "version_major": 2,
       "version_minor": 0
      },
      "text/plain": [
       "HBox(children=(FloatProgress(value=0.0, description='package', max=1.0, style=ProgressStyle(description_width=…"
      ]
     },
     "metadata": {},
     "output_type": "display_data"
    },
    {
     "name": "stdout",
     "output_type": "stream",
     "text": [
      "\n"
     ]
    },
    {
     "data": {
      "application/vnd.jupyter.widget-view+json": {
       "model_id": "6ebfe81f579f482f8406458ac0d5134c",
       "version_major": 2,
       "version_minor": 0
      },
      "text/plain": [
       "HBox(children=(FloatProgress(value=0.0, description='build report structure', max=1.0, style=ProgressStyle(des…"
      ]
     },
     "metadata": {},
     "output_type": "display_data"
    },
    {
     "name": "stdout",
     "output_type": "stream",
     "text": [
      "\n"
     ]
    }
   ],
   "source": [
    "from pandas_profiling import ProfileReport\n",
    "profile = ProfileReport(data, title='Automatyczny Raport Pandas Profiling', html={'style':{'full_width':True}})\n",
    "profile.to_file(output_file=\"raportautomatyczny.html\")"
   ]
  },
  {
   "cell_type": "code",
   "execution_count": 5,
   "metadata": {},
   "outputs": [
    {
     "data": {
      "image/png": "[encoded data removed]",
      "text/plain": [
       "<Figure size 864x2592 with 26 Axes>"
      ]
     },
     "metadata": {
      "needs_background": "light"
     },
     "output_type": "display_data"
    }
   ],
   "source": [
    "# Rozkład zmiennych kategorycznych\n",
    "categorical = ['Smokes', 'Hormonal Contraceptives', 'IUD', 'STDs', 'STDs (number)', 'STDs:condylomatosis', \n",
    "               'STDs:cervical condylomatosis', 'STDs:vaginal condylomatosis', 'STDs:vulvo-perineal condylomatosis',\n",
    "              'STDs:syphilis', 'STDs:pelvic inflammatory disease', 'STDs:genital herpes', 'STDs:molluscum contagiosum',\n",
    "              'STDs:AIDS', 'STDs:HIV', 'STDs:Hepatitis B', 'STDs:HPV', 'STDs: Number of diagnosis',\n",
    "               'Dx:Cancer', 'Dx:CIN', 'Dx:HPV', 'Dx', 'Hinselmann', 'Schiller', 'Citology', 'Biopsy']\n",
    "\n",
    "fig, axes = plt.subplots(nrows=13, ncols=2, figsize=(12, 36))\n",
    "axes = axes.flatten()\n",
    "total = len(data)\n",
    "for idx, ax in enumerate(axes):\n",
    "    plt.sca(ax)\n",
    "    ax = sns.countplot(x = categorical[idx], data=data)\n",
    "    for p in ax.patches:\n",
    "        height = p.get_height()\n",
    "        ax.text(p.get_x()+p.get_width()/2.,\n",
    "            height + 3,\n",
    "            '{:3.0f}%'.format(100 * height/total),\n",
    "            ha=\"center\")\n",
    "sns.despine()\n",
    "plt.tight_layout()\n",
    "plt.show()"
   ]
  },
  {
   "cell_type": "markdown",
   "metadata": {},
   "source": [
    "### Problem braku danych\n",
    "Ze względu na liczne braki danych podjęliśmy następujące decyzje:\n",
    "- ze względu na (prawie) brak danych innych niż 0 usuwamy następujące kolumny:\n",
    "    * STDs:cervical condylomatosis\n",
    "    * STDs:vaginal condylomatosis\n",
    "    * STDs:pelvic inflammatory disease\n",
    "    * STDs:genital herpes\n",
    "    * STDs:molluscum contagiosum\n",
    "    * STDs:AIDS\n",
    "    * STDs:Hepatitis B\n",
    "    * STDs:HPV\n",
    "    * Dx:CIN\n",
    "- pozostałe kolumny kategoryczne: w związku z tym, że użyjemy OHE, tworzymy dodatkową kolumnę na brak danych\n",
    "- dane ciągłe: będą normalizowane, więc ustawienie braków na 0 (czyli średnia) jest bezpieczne\n",
    "\n",
    "### Wstępny szablon imputacji i obróbki danych"
   ]
  },
  {
   "cell_type": "code",
   "execution_count": 12,
   "metadata": {},
   "outputs": [],
   "source": [
    "from sklearn.preprocessing import StandardScaler\n",
    "dane = pd.read_csv('cervical-cancer_csv.csv')\n",
    "\n",
    "# usuwanie kolumn\n",
    "dane = dane.drop(['STDs:cervical condylomatosis', \n",
    "         'STDs:vaginal condylomatosis', \n",
    "         'STDs:pelvic inflammatory disease', \n",
    "         'STDs:genital herpes',\n",
    "         'STDs:molluscum contagiosum',\n",
    "         'STDs:AIDS',\n",
    "         'STDs:Hepatitis B',\n",
    "         'STDs:HPV', 'Dx:CIN'], axis=1)\n",
    "\n",
    "# uzupełnianie braków i kodowanie zmiennych kategorycznych\n",
    "def column_nodata(df, column_name):\n",
    "    df[column_name + \"_null\"] = df[column_name].apply(lambda x: 1 if pd.isnull(x) else 0)\n",
    "    df[column_name] = df[column_name].fillna(0)\n",
    "\n",
    "def replace_in_column(df, column_name, src, dst):\n",
    "    df[column_name] = df[column_name].replace(to_replace=src, value=dst)\n",
    "\n",
    "replace_in_column(dane, 'STDs (number)', [3, 4], 2)\n",
    "replace_in_column(dane, 'STDs: Number of diagnosis', [2,3], 1)\n",
    "\n",
    "nodata_categories = [\n",
    "    'Smokes',\n",
    "    'Hormonal Contraceptives',\n",
    "    'IUD',\n",
    "    'STDs',\n",
    "    'STDs (number)',\n",
    "    'STDs:condylomatosis',\n",
    "    'STDs:vulvo-perineal condylomatosis',\n",
    "    'STDs:syphilis',\n",
    "    'STDs:HIV'\n",
    "]\n",
    "\n",
    "for category in nodata_categories:\n",
    "    column_nodata(dane, category)\n",
    "    \n",
    "dane = pd.concat([dane, pd.get_dummies(dane['STDs (number)'], prefix='STDs_')],axis=1)\n",
    "dane.drop(['STDs (number)'],axis=1, inplace=True)\n",
    "\n",
    "# standaryzacja\n",
    "numerical = ['Age', 'Number of sexual partners', 'First sexual intercourse', 'Num of pregnancies', 'Smokes (years)', \n",
    "            'Smokes (packs/year)', 'Hormonal Contraceptives (years)', 'IUD (years)', 'STDs: Time since first diagnosis',\n",
    "            'STDs: Time since last diagnosis']\n",
    "\n",
    "scaler = StandardScaler() \n",
    "dane_scaled = scaler.fit_transform(dane[numerical])\n",
    "d2 = pd.DataFrame(dane_scaled, columns = numerical)\n",
    "dane[numerical] = d2[numerical]\n",
    "\n",
    "# stworzenie jednego targetu\n",
    "targets = ['Hinselmann', 'Schiller', 'Citology', 'Biopsy']\n",
    "def has_cancer(row):\n",
    "    for target in targets:\n",
    "        if row[target] == 1:\n",
    "            return 1\n",
    "    return 0\n",
    "\n",
    "dane['cancer'] = dane.apply(lambda row: has_cancer(row), axis=1)\n",
    "dane = dane.drop(targets, axis=1)"
   ]
  },
  {
   "cell_type": "markdown",
   "metadata": {},
   "source": [
    "## Podział zbioru i Miary"
   ]
  },
  {
   "cell_type": "code",
   "execution_count": 13,
   "metadata": {},
   "outputs": [],
   "source": [
    "from sklearn.model_selection import train_test_split\n",
    "from sklearn.metrics import accuracy_score\n",
    "from sklearn.metrics import precision_score\n",
    "from sklearn.metrics import recall_score\n",
    "from sklearn.metrics import f1_score\n",
    "from sklearn.metrics import roc_auc_score\n",
    "\n",
    "# podzial zbioru na treningowy i testowy\n",
    "def default_split(X, y):\n",
    "    return train_test_split(X, y, test_size=0.2, random_state=2137)\n",
    "\n",
    "# scoring\n",
    "def scoring(y_test, y_predicted):\n",
    "    print(\"ACC = \", accuracy_score(y_test, y_predicted))\n",
    "    print(\"PREC = \", precision_score(y_test, y_predicted))\n",
    "    print(\"RECALL = \", recall_score(y_test, y_predicted))\n",
    "    print(\"F1 = \", f1_score(y_test, y_predicted))\n",
    "    print(\"AUC = \", roc_auc_score(y_test, y_predicted))\n",
    "\n",
    "# wyodrebnienie y\n",
    "def extract_y(data):\n",
    "    y = data[[\"cancer\"]]\n",
    "    return data.drop([\"cancer\"], axis=1), y"
   ]
  },
  {
   "cell_type": "markdown",
   "metadata": {},
   "source": [
    "Zbiór rozdzielamy na zbiór treningowy w rozmiarze 80% oryginalnego zbioru i testowy w rozmiarze 20% oryginalnego zbioru.\n",
    "Stworzyliśmy funkcję, która zwraca wyniki pięciu różnych miar:\n",
    "* accuracy, czyli $\\frac{TP + TN}{FP + FN + TN + TP}$\n",
    "* precision, czyli $\\frac{TP}{TP+FP}$\n",
    "* recall, czyli $\\frac{TP}{TP+FN}$\n",
    "* F1, czyli $\\frac{2TP}{2TP+FP+FN}$\n",
    "* AUC, czyli Area Under Curve\n",
    "\n",
    "Gdzie:\n",
    "* $TP$ - True Positive\n",
    "* $TN$ - True Negative\n",
    "* $FP$ - False Positive\n",
    "* $FN$ - False Negative\n",
    "\n",
    "W naszej ocenie najważniejsze było recall, ponieważ w badaniach raka ważne jest wykrycie choroby. Oczywiście, sama miara recall nie jest wystarczająca, dlatego braliśmy pod uwagę również pozostałe."
   ]
  },
  {
   "cell_type": "markdown",
   "metadata": {},
   "source": [
    "## Modele\n"
   ]
  },
  {
   "cell_type": "code",
   "execution_count": 18,
   "metadata": {},
   "outputs": [],
   "source": [
    "# przygotowanie danych\n",
    "X, y = extract_y(dane)\n",
    "X = X.fillna(0)\n",
    "\n",
    "X_train, X_test, y_train, y_test = default_split(X, y)"
   ]
  },
  {
   "cell_type": "markdown",
   "metadata": {},
   "source": [
    "### Las losowy"
   ]
  },
  {
   "cell_type": "code",
   "execution_count": 19,
   "metadata": {},
   "outputs": [
    {
     "name": "stdout",
     "output_type": "stream",
     "text": [
      "ACC =  0.8622754491017964\n",
      "PREC =  0.5\n",
      "RECALL =  0.08695652173913043\n",
      "F1 =  0.14814814814814817\n",
      "AUC =  0.5365338164251208\n"
     ]
    }
   ],
   "source": [
    "from sklearn.ensemble import RandomForestClassifier\n",
    "\n",
    "model_rf = RandomForestClassifier(n_estimators=50,\n",
    "                                  max_depth=100,\n",
    "                                  min_samples_split = 2,\n",
    "                                  max_features = 7,\n",
    "                                  random_state=0,\n",
    "                                  n_jobs = -1)\n",
    "model_rf.fit(X_train, y_train)\n",
    "y_predicted_rf = model_rf.predict(X_test)\n",
    "scoring(y_test, y_predicted_rf)"
   ]
  },
  {
   "cell_type": "markdown",
   "metadata": {},
   "source": [
    "#### Strojenie"
   ]
  },
  {
   "cell_type": "code",
   "execution_count": 20,
   "metadata": {},
   "outputs": [
    {
     "name": "stdout",
     "output_type": "stream",
     "text": [
      "Fitting 5 folds for each of 300 candidates, totalling 1500 fits\n"
     ]
    },
    {
     "name": "stderr",
     "output_type": "stream",
     "text": [
      "[Parallel(n_jobs=-1)]: Using backend LokyBackend with 8 concurrent workers.\n",
      "[Parallel(n_jobs=-1)]: Done  34 tasks      | elapsed:   11.2s\n",
      "[Parallel(n_jobs=-1)]: Done 184 tasks      | elapsed:   40.6s\n",
      "[Parallel(n_jobs=-1)]: Done 434 tasks      | elapsed:  1.5min\n",
      "[Parallel(n_jobs=-1)]: Done 784 tasks      | elapsed:  2.9min\n",
      "[Parallel(n_jobs=-1)]: Done 1234 tasks      | elapsed:  4.7min\n",
      "[Parallel(n_jobs=-1)]: Done 1500 out of 1500 | elapsed:  5.7min finished\n"
     ]
    }
   ],
   "source": [
    "from sklearn.model_selection import GridSearchCV\n",
    "n_estimators = [100, 300, 500, 800]\n",
    "max_depth = [10, 25, 50, 75, 100]\n",
    "min_samples_split = [2, 3, 5, 10, 15]\n",
    "min_samples_leaf = [1, 2, 5] \n",
    "forest = RandomForestClassifier(random_state = 0)\n",
    "hyperFrf = dict(n_estimators = n_estimators, max_depth = max_depth,  \n",
    "              min_samples_split = min_samples_split, \n",
    "             min_samples_leaf = min_samples_leaf)\n",
    "\n",
    "gridRF = GridSearchCV(forest, hyperFrf, cv = 5, verbose = 1, \n",
    "                      n_jobs = -1, scoring = 'average_precision')\n",
    "bestRF = gridRF.fit(X_train, y_train)"
   ]
  },
  {
   "cell_type": "code",
   "execution_count": 24,
   "metadata": {},
   "outputs": [
    {
     "name": "stdout",
     "output_type": "stream",
     "text": [
      "ACC =  0.8562874251497006\n",
      "PREC =  0.0\n",
      "RECALL =  0.0\n",
      "F1 =  0.0\n",
      "AUC =  0.4965277777777778\n"
     ]
    }
   ],
   "source": [
    "y_predicted_new_rf = bestRF.predict(X_test)\n",
    "scoring(y_test, y_predicted_new_rf)"
   ]
  },
  {
   "cell_type": "markdown",
   "metadata": {},
   "source": [
    "Jak widać, strojenie ręcznie zwróciło lepsze wyniki od strojenia za pomocą gridsearch"
   ]
  },
  {
   "cell_type": "markdown",
   "metadata": {},
   "source": [
    "### GBM"
   ]
  },
  {
   "cell_type": "code",
   "execution_count": 22,
   "metadata": {},
   "outputs": [
    {
     "name": "stdout",
     "output_type": "stream",
     "text": [
      "ACC =  0.8502994011976048\n",
      "PREC =  0.25\n",
      "RECALL =  0.043478260869565216\n",
      "F1 =  0.07407407407407408\n",
      "AUC =  0.5113224637681159\n"
     ]
    }
   ],
   "source": [
    "from sklearn.ensemble import GradientBoostingClassifier\n",
    "\n",
    "model_gbm = GradientBoostingClassifier()\n",
    "model_gbm.fit(X_train, y_train)\n",
    "y_predicted_gbm = model_gbm.predict(X_test)\n",
    "scoring(y_test, y_predicted_gbm)"
   ]
  },
  {
   "cell_type": "markdown",
   "metadata": {},
   "source": [
    "#### Strojenie"
   ]
  },
  {
   "cell_type": "code",
   "execution_count": 23,
   "metadata": {},
   "outputs": [
    {
     "name": "stdout",
     "output_type": "stream",
     "text": [
      "Fitting 5 folds for each of 192 candidates, totalling 960 fits\n"
     ]
    },
    {
     "name": "stderr",
     "output_type": "stream",
     "text": [
      "[Parallel(n_jobs=-1)]: Using backend LokyBackend with 8 concurrent workers.\n",
      "[Parallel(n_jobs=-1)]: Done  52 tasks      | elapsed:    2.5s\n",
      "[Parallel(n_jobs=-1)]: Done 248 tasks      | elapsed:   28.7s\n",
      "[Parallel(n_jobs=-1)]: Done 498 tasks      | elapsed:  1.1min\n",
      "[Parallel(n_jobs=-1)]: Done 848 tasks      | elapsed:  2.2min\n",
      "[Parallel(n_jobs=-1)]: Done 960 out of 960 | elapsed:  2.6min finished\n"
     ]
    }
   ],
   "source": [
    "from sklearn.model_selection import GridSearchCV\n",
    "n_estimators = [100, 300, 500, 800]\n",
    "max_depth = [1, 3, 5, 10]\n",
    "min_samples_split = [2, 3, 5, 10]\n",
    "learning_rate = [0.05, 0.1, 0.2] \n",
    "gbm = GradientBoostingClassifier()\n",
    "hyperFGBM = dict(n_estimators = n_estimators, max_depth = max_depth,  \n",
    "              min_samples_split = min_samples_split, \n",
    "             learning_rate = learning_rate)\n",
    "\n",
    "gridFGBM = GridSearchCV(gbm, hyperFGBM, cv = 5, verbose = 1, \n",
    "                      n_jobs = -1, scoring = 'average_precision')\n",
    "bestFGBM = gridFGBM.fit(X_train, y_train)"
   ]
  },
  {
   "cell_type": "code",
   "execution_count": 25,
   "metadata": {},
   "outputs": [
    {
     "name": "stdout",
     "output_type": "stream",
     "text": [
      "ACC =  0.8622754491017964\n",
      "PREC =  0.5\n",
      "RECALL =  0.043478260869565216\n",
      "F1 =  0.08\n",
      "AUC =  0.5182669082125604\n"
     ]
    }
   ],
   "source": [
    "y_predicted_new_gbm = bestFGBM.predict(X_test)\n",
    "scoring(y_test, y_predicted_new_gbm)"
   ]
  },
  {
   "cell_type": "markdown",
   "metadata": {},
   "source": [
    "### BogoModel\n",
    "\n",
    "BogoModel jest autorskim modelem zaproponowanym przez nas, nazwanym po algorytmie sortowania `Bogosort`, który opiera się o losowanie. BogoModel uczy się, ile jest wystąpień 1 w zmiennej celu, następnie losuje 1, lub 0 w zmiennych testowych, z prawdopodobieństwem równym częstotliwości występowania 1 w zmiennej celu zbioru treningowego."
   ]
  },
  {
   "cell_type": "code",
   "execution_count": 27,
   "metadata": {},
   "outputs": [
    {
     "name": "stdout",
     "output_type": "stream",
     "text": [
      "ACC =  0.7724550898203593\n",
      "PREC =  0.058823529411764705\n",
      "RECALL =  0.043478260869565216\n",
      "F1 =  0.049999999999999996\n",
      "AUC =  0.466183574879227\n"
     ]
    }
   ],
   "source": [
    "import copy\n",
    "def BogoModelPredict(y_test):\n",
    "    y_random_predicted = copy.copy(y_test)\n",
    "    prob = y_train['cancer'].value_counts()[1]/y_train['cancer'].value_counts()[0]\n",
    "    y_random_predicted['cancer'] = np.random.choice([0, 1], len(y_test), p=[1-prob, prob])\n",
    "    return y_random_predicted\n",
    "\n",
    "scoring(y_test, BogoModelPredict(y_test))"
   ]
  },
  {
   "cell_type": "markdown",
   "metadata": {},
   "source": [
    "## Porównanie modeli\n",
    "Zrobię jak wszystkie modele będą wrzucone - szypół"
   ]
  },
  {
   "cell_type": "markdown",
   "metadata": {},
   "source": [
    "## Oświadczenie\n",
    "Potwierdzam samodzielność powyższej pracy oraz niekorzystanie przeze mnie z niedozwolonych źródeł"
   ]
  }
 ],
 "metadata": {
  "kernelspec": {
   "display_name": "Python 3",
   "language": "python",
   "name": "python3"
  },
  "language_info": {
   "codemirror_mode": {
    "name": "ipython",
    "version": 3
   },
   "file_extension": ".py",
   "mimetype": "text/x-python",
   "name": "python",
   "nbconvert_exporter": "python",
   "pygments_lexer": "ipython3",
   "version": "3.7.0"
  }
 },
 "nbformat": 4,
 "nbformat_minor": 2
}
