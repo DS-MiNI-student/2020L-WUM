{
 "cells": [
  {
   "cell_type": "markdown",
   "metadata": {},
   "source": [
    "# Wstępna obróbka"
   ]
  },
  {
   "cell_type": "code",
   "execution_count": 2,
   "metadata": {},
   "outputs": [],
   "source": [
    "import pandas as pd\n",
    "import numpy as np\n",
    "import math\n",
    "import warnings\n",
    "warnings.filterwarnings('ignore')\n",
    "from sklearn.preprocessing import StandardScaler\n",
    "dane = pd.read_csv('cervical-cancer_csv.csv')\n",
    "\n",
    "# usuwanie kolumn\n",
    "dane = dane.drop(['STDs:cervical condylomatosis', \n",
    "         'STDs:vaginal condylomatosis', \n",
    "         'STDs:pelvic inflammatory disease', \n",
    "         'STDs:genital herpes',\n",
    "         'STDs:molluscum contagiosum',\n",
    "         'STDs:AIDS',\n",
    "         'STDs:Hepatitis B',\n",
    "         'STDs:HPV', 'Dx:CIN'], axis=1)\n",
    "\n",
    "# uzupełnianie braków i kodowanie zmiennych kategorycznych\n",
    "def column_nodata(df, column_name):\n",
    "    df[column_name + \"_null\"] = df[column_name].apply(lambda x: 1 if pd.isnull(x) else 0)\n",
    "    df[column_name] = df[column_name].fillna(0)\n",
    "\n",
    "def replace_in_column(df, column_name, src, dst):\n",
    "    df[column_name] = df[column_name].replace(to_replace=src, value=dst)\n",
    "\n",
    "replace_in_column(dane, 'STDs (number)', [3, 4], 2)\n",
    "replace_in_column(dane, 'STDs: Number of diagnosis', [2,3], 1)\n",
    "\n",
    "nodata_categories = [\n",
    "    'Smokes',\n",
    "    'Hormonal Contraceptives',\n",
    "    'IUD',\n",
    "    'STDs',\n",
    "    'STDs (number)',\n",
    "    'STDs:condylomatosis',\n",
    "    'STDs:vulvo-perineal condylomatosis',\n",
    "    'STDs:syphilis',\n",
    "    'STDs:HIV'\n",
    "]\n",
    "\n",
    "for category in nodata_categories:\n",
    "    column_nodata(dane, category)\n",
    "    \n",
    "dane = pd.concat([dane, pd.get_dummies(dane['STDs (number)'], prefix='STDs_')],axis=1)\n",
    "dane.drop(['STDs (number)'],axis=1, inplace=True)\n",
    "\n",
    "# usunięcie na - opuszczenie obserwacji\n",
    "num2 = ['Smokes (years)', 'Smokes (packs/year)', 'First sexual intercourse', 'Number of sexual partners']\n",
    "\n",
    "narows = []\n",
    "for i in range (len(dane)):\n",
    "    for j in num2:\n",
    "        if math.isnan(dane.loc[i, j]) :\n",
    "            narows.append(i)\n",
    "            break\n",
    "            \n",
    "dane = dane.drop(narows)\n",
    "\n",
    "dane.index = range(len(dane))\n",
    "\n",
    "\n",
    "# standaryzacja\n",
    "numerical = ['Age', 'Number of sexual partners', 'First sexual intercourse', 'Num of pregnancies', 'Smokes (years)', \n",
    "            'Smokes (packs/year)', 'Hormonal Contraceptives (years)', 'IUD (years)', 'STDs: Time since first diagnosis',\n",
    "            'STDs: Time since last diagnosis']\n",
    "\n",
    "scaler = StandardScaler() \n",
    "dane_scaled = scaler.fit_transform(dane[numerical])\n",
    "d2 = pd.DataFrame(dane_scaled, columns = numerical)\n",
    "dane[numerical] = d2[numerical]\n",
    "\n",
    "\n",
    "\n",
    "# usunięcie na - imputacja\n",
    "imp = dane[[ 'Num of pregnancies', 'Hormonal Contraceptives (years)', 'IUD (years)' ]]\n",
    "dane[[ 'Num of pregnancies', 'Hormonal Contraceptives (years)', 'IUD (years)' ]] = imp.fillna(0)\n",
    "\n",
    "\n",
    "\n",
    "            \n",
    "# stworzenie jednego targetu\n",
    "targets = ['Hinselmann', 'Schiller', 'Citology', 'Biopsy']\n",
    "def has_cancer(row):\n",
    "    for target in targets:\n",
    "        if row[target] == 1:\n",
    "            return 1\n",
    "    return 0\n",
    "\n",
    "dane['cancer'] = dane.apply(lambda row: has_cancer(row), axis=1)\n",
    "dane = dane.drop(targets, axis=1)\n",
    "\n",
    "# wariant bez kolumn\n",
    "dane_without = dane.drop(columns=['STDs: Time since first diagnosis', 'STDs: Time since last diagnosis'])\n"
   ]
  },
  {
   "cell_type": "markdown",
   "metadata": {},
   "source": [
    "# Ujednolicone funkcje dla wszystkich modeli"
   ]
  },
  {
   "cell_type": "code",
   "execution_count": 3,
   "metadata": {},
   "outputs": [],
   "source": [
    "from sklearn.model_selection import train_test_split\n",
    "from sklearn.metrics import accuracy_score\n",
    "from sklearn.metrics import precision_score\n",
    "from sklearn.metrics import recall_score\n",
    "from sklearn.metrics import f1_score\n",
    "from sklearn.metrics import roc_auc_score\n",
    "\n",
    "# podzial zbioru na treningowy i testowy\n",
    "def default_split(X, y):\n",
    "    return train_test_split(X, y, test_size=0.2, random_state=2137)\n",
    "\n",
    "# scoring\n",
    "def scoring(y_test, y_predicted):\n",
    "    print(\"ACC = \", accuracy_score(y_test, y_predicted))\n",
    "    print(\"PREC = \", precision_score(y_test, y_predicted))\n",
    "    print(\"RECALL = \", recall_score(y_test, y_predicted))\n",
    "    print(\"F1 = \", f1_score(y_test, y_predicted))\n",
    "    print(\"FPR = \", roc_auc_score(y_test, y_predicted))\n",
    "\n",
    "# wyodrebnienie y\n",
    "def extract_y(data):\n",
    "    y = data[[\"cancer\"]]\n",
    "    return data.drop([\"cancer\"], axis=1), y"
   ]
  },
  {
   "cell_type": "markdown",
   "metadata": {},
   "source": [
    "# Naive_Bayes"
   ]
  },
  {
   "cell_type": "markdown",
   "metadata": {},
   "source": [
    "Dane bez kolumn diagnozy"
   ]
  },
  {
   "cell_type": "code",
   "execution_count": 4,
   "metadata": {},
   "outputs": [
    {
     "name": "stdout",
     "output_type": "stream",
     "text": [
      "(792, 32) (633, 32) (159, 32)\n"
     ]
    }
   ],
   "source": [
    "# przygotowanie danych\n",
    "X, y = extract_y(dane_without)\n",
    "\n",
    "X_train, X_test, y_train, y_test = default_split(X, y)\n",
    "print(X.shape, X_train.shape, X_test.shape)"
   ]
  },
  {
   "cell_type": "code",
   "execution_count": 5,
   "metadata": {},
   "outputs": [
    {
     "name": "stdout",
     "output_type": "stream",
     "text": [
      "ACC =  0.23270440251572327\n",
      "PREC =  0.10606060606060606\n",
      "RECALL =  0.7777777777777778\n",
      "F1 =  0.18666666666666665\n",
      "FPR =  0.47044917257683216\n"
     ]
    }
   ],
   "source": [
    "from sklearn.naive_bayes import GaussianNB\n",
    "\n",
    "model = GaussianNB()\n",
    "model.fit(X_train, y_train)\n",
    "y_predicted = model.predict(X_test)\n",
    "scoring(y_test, y_predicted)\n",
    "\n"
   ]
  },
  {
   "cell_type": "markdown",
   "metadata": {},
   "source": [
    "W kolumnie diagnozy NA -> -1 po standaryzacji"
   ]
  },
  {
   "cell_type": "code",
   "execution_count": 6,
   "metadata": {},
   "outputs": [
    {
     "name": "stdout",
     "output_type": "stream",
     "text": [
      "(792, 34) (633, 34) (159, 34)\n"
     ]
    }
   ],
   "source": [
    "# przygotowanie danych\n",
    "X, y = extract_y(dane)\n",
    "X = X.fillna(-1)\n",
    "\n",
    "X_train, X_test, y_train, y_test = default_split(X, y)\n",
    "print(X.shape, X_train.shape, X_test.shape)"
   ]
  },
  {
   "cell_type": "code",
   "execution_count": 7,
   "metadata": {},
   "outputs": [
    {
     "name": "stdout",
     "output_type": "stream",
     "text": [
      "ACC =  0.2389937106918239\n",
      "PREC =  0.10687022900763359\n",
      "RECALL =  0.7777777777777778\n",
      "F1 =  0.1879194630872483\n",
      "FPR =  0.47399527186761237\n"
     ]
    }
   ],
   "source": [
    "from sklearn.naive_bayes import GaussianNB\n",
    "\n",
    "model = GaussianNB()\n",
    "model.fit(X_train, y_train)\n",
    "y_predicted = model.predict(X_test)\n",
    "scoring(y_test, y_predicted)\n",
    "\n"
   ]
  },
  {
   "cell_type": "markdown",
   "metadata": {},
   "source": [
    "W kolumnie diagnozy NA -> -1 przed standaryzacją"
   ]
  },
  {
   "cell_type": "code",
   "execution_count": 8,
   "metadata": {},
   "outputs": [],
   "source": [
    "import pandas as pd\n",
    "import numpy as np\n",
    "import math\n",
    "import warnings\n",
    "warnings.filterwarnings('ignore')\n",
    "from sklearn.preprocessing import StandardScaler\n",
    "dane = pd.read_csv('cervical-cancer_csv.csv')\n",
    "\n",
    "# usuwanie kolumn\n",
    "dane = dane.drop(['STDs:cervical condylomatosis', \n",
    "         'STDs:vaginal condylomatosis', \n",
    "         'STDs:pelvic inflammatory disease', \n",
    "         'STDs:genital herpes',\n",
    "         'STDs:molluscum contagiosum',\n",
    "         'STDs:AIDS',\n",
    "         'STDs:Hepatitis B',\n",
    "         'STDs:HPV', 'Dx:CIN'], axis=1)\n",
    "\n",
    "# uzupełnianie braków i kodowanie zmiennych kategorycznych\n",
    "def column_nodata(df, column_name):\n",
    "    df[column_name + \"_null\"] = df[column_name].apply(lambda x: 1 if pd.isnull(x) else 0)\n",
    "    df[column_name] = df[column_name].fillna(0)\n",
    "\n",
    "def replace_in_column(df, column_name, src, dst):\n",
    "    df[column_name] = df[column_name].replace(to_replace=src, value=dst)\n",
    "\n",
    "replace_in_column(dane, 'STDs (number)', [3, 4], 2)\n",
    "replace_in_column(dane, 'STDs: Number of diagnosis', [2,3], 1)\n",
    "\n",
    "nodata_categories = [\n",
    "    'Smokes',\n",
    "    'Hormonal Contraceptives',\n",
    "    'IUD',\n",
    "    'STDs',\n",
    "    'STDs (number)',\n",
    "    'STDs:condylomatosis',\n",
    "    'STDs:vulvo-perineal condylomatosis',\n",
    "    'STDs:syphilis',\n",
    "    'STDs:HIV'\n",
    "]\n",
    "\n",
    "for category in nodata_categories:\n",
    "    column_nodata(dane, category)\n",
    "    \n",
    "dane = pd.concat([dane, pd.get_dummies(dane['STDs (number)'], prefix='STDs_')],axis=1)\n",
    "dane.drop(['STDs (number)'],axis=1, inplace=True)\n",
    "\n",
    "# usunięcie na - opuszczenie obserwacji\n",
    "num2 = ['Smokes (years)', 'Smokes (packs/year)', 'First sexual intercourse', 'Number of sexual partners']\n",
    "\n",
    "narows = []\n",
    "for i in range (len(dane)):\n",
    "    for j in num2:\n",
    "        if math.isnan(dane.loc[i, j]) :\n",
    "            narows.append(i)\n",
    "            break\n",
    "            \n",
    "dane = dane.drop(narows)\n",
    "\n",
    "dane.index = range(len(dane))\n",
    "\n",
    "imp = dane[['STDs: Time since first diagnosis', 'STDs: Time since last diagnosis']]\n",
    "dane[['STDs: Time since first diagnosis', 'STDs: Time since last diagnosis']] = imp.fillna(-1)\n",
    "\n",
    "# standaryzacja\n",
    "numerical = ['Age', 'Number of sexual partners', 'First sexual intercourse', 'Num of pregnancies', 'Smokes (years)', \n",
    "            'Smokes (packs/year)', 'Hormonal Contraceptives (years)', 'IUD (years)', 'STDs: Time since first diagnosis',\n",
    "            'STDs: Time since last diagnosis']\n",
    "\n",
    "scaler = StandardScaler() \n",
    "dane_scaled = scaler.fit_transform(dane[numerical])\n",
    "d2 = pd.DataFrame(dane_scaled, columns = numerical)\n",
    "dane[numerical] = d2[numerical]\n",
    "\n",
    "\n",
    "\n",
    "# usunięcie na - imputacja\n",
    "imp = dane[[ 'Num of pregnancies', 'Hormonal Contraceptives (years)', 'IUD (years)' ]]\n",
    "dane[[ 'Num of pregnancies', 'Hormonal Contraceptives (years)', 'IUD (years)' ]] = imp.fillna(0)\n",
    "\n",
    "\n",
    "\n",
    "            \n",
    "# stworzenie jednego targetu\n",
    "targets = ['Hinselmann', 'Schiller', 'Citology', 'Biopsy']\n",
    "def has_cancer(row):\n",
    "    for target in targets:\n",
    "        if row[target] == 1:\n",
    "            return 1\n",
    "    return 0\n",
    "\n",
    "dane['cancer'] = dane.apply(lambda row: has_cancer(row), axis=1)\n",
    "dane = dane.drop(targets, axis=1)\n"
   ]
  },
  {
   "cell_type": "code",
   "execution_count": 9,
   "metadata": {},
   "outputs": [
    {
     "name": "stdout",
     "output_type": "stream",
     "text": [
      "(792, 34) (633, 34) (159, 34)\n"
     ]
    }
   ],
   "source": [
    "# przygotowanie danych\n",
    "X, y = extract_y(dane)\n",
    "\n",
    "X_train, X_test, y_train, y_test = default_split(X, y)\n",
    "print(X.shape, X_train.shape, X_test.shape)"
   ]
  },
  {
   "cell_type": "code",
   "execution_count": 10,
   "metadata": {},
   "outputs": [
    {
     "name": "stdout",
     "output_type": "stream",
     "text": [
      "ACC =  0.2389937106918239\n",
      "PREC =  0.10687022900763359\n",
      "RECALL =  0.7777777777777778\n",
      "F1 =  0.1879194630872483\n",
      "FPR =  0.47399527186761237\n"
     ]
    }
   ],
   "source": [
    "from sklearn.naive_bayes import GaussianNB\n",
    "\n",
    "model = GaussianNB()\n",
    "model.fit(X_train, y_train)\n",
    "y_predicted = model.predict(X_test)\n",
    "scoring(y_test, y_predicted)\n",
    "\n"
   ]
  },
  {
   "cell_type": "code",
   "execution_count": null,
   "metadata": {},
   "outputs": [],
   "source": []
  }
 ],
 "metadata": {
  "kernelspec": {
   "display_name": "Python 3",
   "language": "python",
   "name": "python3"
  },
  "language_info": {
   "codemirror_mode": {
    "name": "ipython",
    "version": 3
   },
   "file_extension": ".py",
   "mimetype": "text/x-python",
   "name": "python",
   "nbconvert_exporter": "python",
   "pygments_lexer": "ipython3",
   "version": "3.8.2"
  }
 },
 "nbformat": 4,
 "nbformat_minor": 4
}
