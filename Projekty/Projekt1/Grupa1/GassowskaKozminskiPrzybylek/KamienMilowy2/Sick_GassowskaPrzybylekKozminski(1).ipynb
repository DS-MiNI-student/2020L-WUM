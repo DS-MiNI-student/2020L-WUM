{
 "cells": [
  {
   "cell_type": "markdown",
   "metadata": {
    "colab_type": "text",
    "id": "VIzowCTcZGGu"
   },
   "source": [
    "# Etap I - EDA "
   ]
  },
  {
   "cell_type": "markdown",
   "metadata": {
    "colab_type": "text",
    "id": "hf0R9KVNju4C"
   },
   "source": [
    "## Wczytanie danych"
   ]
  },
  {
   "cell_type": "code",
   "execution_count": 1,
   "metadata": {
    "colab": {},
    "colab_type": "code",
    "id": "Pch0PxcmLMfJ"
   },
   "outputs": [],
   "source": [
    "import numpy as np\n",
    "import pandas as pd\n",
    "import sklearn\n",
    "import seaborn as sns\n",
    "import matplotlib.pyplot as plt\n",
    "import math\n",
    "\n",
    "\n",
    "#PK: problem z wczytaniem danych - blad 403 forbidden przy normalnym wczytaniu\n",
    "#PK: https://datascience.stackexchange.com/questions/49751/read-csv-file-directly-from-url-how-to-fix-a-403-forbidden-error\n",
    "\n",
    "from io import StringIO\n",
    "import requests\n",
    "\n",
    "headers = {'User-Agent': 'Mozilla/5.0 (Windows NT 6.1; WOW64) AppleWebKit/537.36 (KHTML, like Gecko) Chrome/56.0.2924.76 Safari/537.36'}\n",
    "url = \"https://datahub.io/machine-learning/sick/r/sick.csv\"\n",
    "s = requests.get(url, headers = headers).text\n",
    "df = pd.read_csv(StringIO(s))\n",
    "\n",
    "# Thyroid disease records supplied by the Garavan Institute and J. Ross Quinlan, New South Wales Institute, Syndney, Australia. 1987."
   ]
  },
  {
   "cell_type": "code",
   "execution_count": 2,
   "metadata": {
    "colab": {},
    "colab_type": "code",
    "id": "z3PX0HJyrNUq"
   },
   "outputs": [],
   "source": [
    "#from google.colab import drive\n",
    "#drive.mount('/content/drive/')"
   ]
  },
  {
   "cell_type": "markdown",
   "metadata": {
    "colab_type": "text",
    "id": "8uDB9b5OysA-"
   },
   "source": [
    "## Wstępna analiza zbioru - zapoznanie się z danymi\n",
    "\n",
    "Zajmiemy się analizą zbioru sick, pochodzącego z OpenML100. Zbiór ten zawiera rekordy z badaniami pacjentów zebrane w roku 1987. Targetem w sick jest kolumna class, która określa czy dany pacjent ma chorobę tarczycy czy nie. Wszystkich kolumn jest 30 i wnoszą one informacje o danym pacjencie."
   ]
  },
  {
   "cell_type": "code",
   "execution_count": 3,
   "metadata": {
    "colab": {
     "base_uri": "https://localhost:8080/",
     "height": 226
    },
    "colab_type": "code",
    "id": "-gq0xTL6MsfH",
    "outputId": "f627f992-2534-4e9e-f7da-d8899994d2e8"
   },
   "outputs": [
    {
     "data": {
      "text/html": [
       "<div>\n",
       "<style scoped>\n",
       "    .dataframe tbody tr th:only-of-type {\n",
       "        vertical-align: middle;\n",
       "    }\n",
       "\n",
       "    .dataframe tbody tr th {\n",
       "        vertical-align: top;\n",
       "    }\n",
       "\n",
       "    .dataframe thead th {\n",
       "        text-align: right;\n",
       "    }\n",
       "</style>\n",
       "<table border=\"1\" class=\"dataframe\">\n",
       "  <thead>\n",
       "    <tr style=\"text-align: right;\">\n",
       "      <th></th>\n",
       "      <th>age</th>\n",
       "      <th>sex</th>\n",
       "      <th>on_thyroxine</th>\n",
       "      <th>query_on_thyroxine</th>\n",
       "      <th>on_antithyroid_medication</th>\n",
       "      <th>sick</th>\n",
       "      <th>pregnant</th>\n",
       "      <th>thyroid_surgery</th>\n",
       "      <th>I131_treatment</th>\n",
       "      <th>query_hypothyroid</th>\n",
       "      <th>...</th>\n",
       "      <th>TT4_measured</th>\n",
       "      <th>TT4</th>\n",
       "      <th>T4U_measured</th>\n",
       "      <th>T4U</th>\n",
       "      <th>FTI_measured</th>\n",
       "      <th>FTI</th>\n",
       "      <th>TBG_measured</th>\n",
       "      <th>TBG</th>\n",
       "      <th>referral_source</th>\n",
       "      <th>Class</th>\n",
       "    </tr>\n",
       "  </thead>\n",
       "  <tbody>\n",
       "    <tr>\n",
       "      <th>0</th>\n",
       "      <td>41.0</td>\n",
       "      <td>F</td>\n",
       "      <td>f</td>\n",
       "      <td>f</td>\n",
       "      <td>f</td>\n",
       "      <td>f</td>\n",
       "      <td>f</td>\n",
       "      <td>f</td>\n",
       "      <td>f</td>\n",
       "      <td>f</td>\n",
       "      <td>...</td>\n",
       "      <td>t</td>\n",
       "      <td>125.0</td>\n",
       "      <td>t</td>\n",
       "      <td>1.14</td>\n",
       "      <td>t</td>\n",
       "      <td>109.0</td>\n",
       "      <td>f</td>\n",
       "      <td>NaN</td>\n",
       "      <td>SVHC</td>\n",
       "      <td>negative</td>\n",
       "    </tr>\n",
       "    <tr>\n",
       "      <th>1</th>\n",
       "      <td>23.0</td>\n",
       "      <td>F</td>\n",
       "      <td>f</td>\n",
       "      <td>f</td>\n",
       "      <td>f</td>\n",
       "      <td>f</td>\n",
       "      <td>f</td>\n",
       "      <td>f</td>\n",
       "      <td>f</td>\n",
       "      <td>f</td>\n",
       "      <td>...</td>\n",
       "      <td>t</td>\n",
       "      <td>102.0</td>\n",
       "      <td>f</td>\n",
       "      <td>NaN</td>\n",
       "      <td>f</td>\n",
       "      <td>NaN</td>\n",
       "      <td>f</td>\n",
       "      <td>NaN</td>\n",
       "      <td>other</td>\n",
       "      <td>negative</td>\n",
       "    </tr>\n",
       "    <tr>\n",
       "      <th>2</th>\n",
       "      <td>46.0</td>\n",
       "      <td>M</td>\n",
       "      <td>f</td>\n",
       "      <td>f</td>\n",
       "      <td>f</td>\n",
       "      <td>f</td>\n",
       "      <td>f</td>\n",
       "      <td>f</td>\n",
       "      <td>f</td>\n",
       "      <td>f</td>\n",
       "      <td>...</td>\n",
       "      <td>t</td>\n",
       "      <td>109.0</td>\n",
       "      <td>t</td>\n",
       "      <td>0.91</td>\n",
       "      <td>t</td>\n",
       "      <td>120.0</td>\n",
       "      <td>f</td>\n",
       "      <td>NaN</td>\n",
       "      <td>other</td>\n",
       "      <td>negative</td>\n",
       "    </tr>\n",
       "    <tr>\n",
       "      <th>3</th>\n",
       "      <td>70.0</td>\n",
       "      <td>F</td>\n",
       "      <td>t</td>\n",
       "      <td>f</td>\n",
       "      <td>f</td>\n",
       "      <td>f</td>\n",
       "      <td>f</td>\n",
       "      <td>f</td>\n",
       "      <td>f</td>\n",
       "      <td>f</td>\n",
       "      <td>...</td>\n",
       "      <td>t</td>\n",
       "      <td>175.0</td>\n",
       "      <td>f</td>\n",
       "      <td>NaN</td>\n",
       "      <td>f</td>\n",
       "      <td>NaN</td>\n",
       "      <td>f</td>\n",
       "      <td>NaN</td>\n",
       "      <td>other</td>\n",
       "      <td>negative</td>\n",
       "    </tr>\n",
       "    <tr>\n",
       "      <th>4</th>\n",
       "      <td>70.0</td>\n",
       "      <td>F</td>\n",
       "      <td>f</td>\n",
       "      <td>f</td>\n",
       "      <td>f</td>\n",
       "      <td>f</td>\n",
       "      <td>f</td>\n",
       "      <td>f</td>\n",
       "      <td>f</td>\n",
       "      <td>f</td>\n",
       "      <td>...</td>\n",
       "      <td>t</td>\n",
       "      <td>61.0</td>\n",
       "      <td>t</td>\n",
       "      <td>0.87</td>\n",
       "      <td>t</td>\n",
       "      <td>70.0</td>\n",
       "      <td>f</td>\n",
       "      <td>NaN</td>\n",
       "      <td>SVI</td>\n",
       "      <td>negative</td>\n",
       "    </tr>\n",
       "  </tbody>\n",
       "</table>\n",
       "<p>5 rows × 30 columns</p>\n",
       "</div>"
      ],
      "text/plain": [
       "    age sex on_thyroxine query_on_thyroxine on_antithyroid_medication sick  \\\n",
       "0  41.0   F            f                  f                         f    f   \n",
       "1  23.0   F            f                  f                         f    f   \n",
       "2  46.0   M            f                  f                         f    f   \n",
       "3  70.0   F            t                  f                         f    f   \n",
       "4  70.0   F            f                  f                         f    f   \n",
       "\n",
       "  pregnant thyroid_surgery I131_treatment query_hypothyroid  ... TT4_measured  \\\n",
       "0        f               f              f                 f  ...            t   \n",
       "1        f               f              f                 f  ...            t   \n",
       "2        f               f              f                 f  ...            t   \n",
       "3        f               f              f                 f  ...            t   \n",
       "4        f               f              f                 f  ...            t   \n",
       "\n",
       "     TT4 T4U_measured   T4U FTI_measured    FTI TBG_measured  TBG  \\\n",
       "0  125.0            t  1.14            t  109.0            f  NaN   \n",
       "1  102.0            f   NaN            f    NaN            f  NaN   \n",
       "2  109.0            t  0.91            t  120.0            f  NaN   \n",
       "3  175.0            f   NaN            f    NaN            f  NaN   \n",
       "4   61.0            t  0.87            t   70.0            f  NaN   \n",
       "\n",
       "  referral_source     Class  \n",
       "0            SVHC  negative  \n",
       "1           other  negative  \n",
       "2           other  negative  \n",
       "3           other  negative  \n",
       "4             SVI  negative  \n",
       "\n",
       "[5 rows x 30 columns]"
      ]
     },
     "execution_count": 3,
     "metadata": {},
     "output_type": "execute_result"
    }
   ],
   "source": [
    "df.head()"
   ]
  },
  {
   "cell_type": "code",
   "execution_count": 4,
   "metadata": {
    "colab": {
     "base_uri": "https://localhost:8080/",
     "height": 625
    },
    "colab_type": "code",
    "id": "-6vcvpqyNAY6",
    "outputId": "b159d9bf-a61a-4b39-c196-fb28895569a7"
   },
   "outputs": [
    {
     "name": "stdout",
     "output_type": "stream",
     "text": [
      "<class 'pandas.core.frame.DataFrame'>\n",
      "RangeIndex: 3772 entries, 0 to 3771\n",
      "Data columns (total 30 columns):\n",
      " #   Column                     Non-Null Count  Dtype  \n",
      "---  ------                     --------------  -----  \n",
      " 0   age                        3771 non-null   float64\n",
      " 1   sex                        3622 non-null   object \n",
      " 2   on_thyroxine               3772 non-null   object \n",
      " 3   query_on_thyroxine         3772 non-null   object \n",
      " 4   on_antithyroid_medication  3772 non-null   object \n",
      " 5   sick                       3772 non-null   object \n",
      " 6   pregnant                   3772 non-null   object \n",
      " 7   thyroid_surgery            3772 non-null   object \n",
      " 8   I131_treatment             3772 non-null   object \n",
      " 9   query_hypothyroid          3772 non-null   object \n",
      " 10  query_hyperthyroid         3772 non-null   object \n",
      " 11  lithium                    3772 non-null   object \n",
      " 12  goitre                     3772 non-null   object \n",
      " 13  tumor                      3772 non-null   object \n",
      " 14  hypopituitary              3772 non-null   object \n",
      " 15  psych                      3772 non-null   object \n",
      " 16  TSH_measured               3772 non-null   object \n",
      " 17  TSH                        3403 non-null   float64\n",
      " 18  T3_measured                3772 non-null   object \n",
      " 19  T3                         3003 non-null   float64\n",
      " 20  TT4_measured               3772 non-null   object \n",
      " 21  TT4                        3541 non-null   float64\n",
      " 22  T4U_measured               3772 non-null   object \n",
      " 23  T4U                        3385 non-null   float64\n",
      " 24  FTI_measured               3772 non-null   object \n",
      " 25  FTI                        3387 non-null   float64\n",
      " 26  TBG_measured               3772 non-null   object \n",
      " 27  TBG                        0 non-null      float64\n",
      " 28  referral_source            3772 non-null   object \n",
      " 29  Class                      3772 non-null   object \n",
      "dtypes: float64(7), object(23)\n",
      "memory usage: 884.2+ KB\n"
     ]
    }
   ],
   "source": [
    "df.info()"
   ]
  },
  {
   "cell_type": "markdown",
   "metadata": {
    "colab_type": "text",
    "id": "hBH91_fMaQO2"
   },
   "source": [
    "Mamy kolumny o zmiennych kategorycznych jak i ciągłych. Kolumny ciągłe oraz kolumna określająca płeć mają brakujące dane (missing values).\n"
   ]
  },
  {
   "cell_type": "code",
   "execution_count": 5,
   "metadata": {
    "colab": {
     "base_uri": "https://localhost:8080/",
     "height": 121
    },
    "colab_type": "code",
    "id": "7ooIgzXXNBiP",
    "outputId": "6e18ccaf-322b-498f-e77f-148195f1e027"
   },
   "outputs": [
    {
     "name": "stdout",
     "output_type": "stream",
     "text": [
      "True\n",
      "True\n",
      "True\n",
      "True\n",
      "True\n",
      "True\n"
     ]
    }
   ],
   "source": [
    "print(all(np.array(df.TSH_measured==\"f\") == np.array(df.TSH.isna())))\n",
    "print(all(np.array(df.T3_measured==\"f\") == np.array(df.T3.isna())))\n",
    "print(all(np.array(df.TT4_measured==\"f\") == np.array(df.TT4.isna())))\n",
    "print(all(np.array(df.T4U_measured==\"f\") == np.array(df.T4U.isna())))\n",
    "print(all(np.array(df.FTI_measured==\"f\") == np.array(df.FTI.isna())))\n",
    "print(all(np.array(df.TBG_measured==\"f\") == np.array(df.TBG.isna())))"
   ]
  },
  {
   "cell_type": "markdown",
   "metadata": {
    "colab_type": "text",
    "id": "euvdE4O5biON"
   },
   "source": [
    "Kolumny o nawach kończących się \"_measured\" nie wnoszą dodatkowych informacji, bo \"f\" oznacza NA w odpowiadających im kolumnach."
   ]
  },
  {
   "cell_type": "code",
   "execution_count": 6,
   "metadata": {
    "colab": {
     "base_uri": "https://localhost:8080/",
     "height": 34
    },
    "colab_type": "code",
    "id": "tIr57V6TNrrd",
    "outputId": "915a5785-27db-4c83-c6c3-9c7e76f5bbbc"
   },
   "outputs": [
    {
     "data": {
      "text/plain": [
       "array(['f', 't'], dtype=object)"
      ]
     },
     "execution_count": 6,
     "metadata": {},
     "output_type": "execute_result"
    }
   ],
   "source": [
    "np.unique(np.array(df.iloc[:,2:16]))"
   ]
  },
  {
   "cell_type": "markdown",
   "metadata": {
    "colab_type": "text",
    "id": "x0UUFuI4a75I"
   },
   "source": [
    "Wniosek (całkiem oczekiwany po ujrzeniu fragmentu zbioru) -  kolumny 2:15 maja tylko informacje true/false.\n",
    "Na początek skonwertujmy je na wartości boolean. Przy tworzeniu modeli wykorzystamy zamianę na 0/1 albo wykorzystamy inne techniki encodingu.\n",
    "\n",
    "Kolumn \"_measured\" na razie usuniemy, aby analiza była czytelniejsza, jednak mogą się one przydać przy późniejszej inżynierii cech.\n"
   ]
  },
  {
   "cell_type": "code",
   "execution_count": 7,
   "metadata": {
    "colab": {
     "base_uri": "https://localhost:8080/",
     "height": 226
    },
    "colab_type": "code",
    "id": "qmpnLGa2PjsA",
    "outputId": "6072e200-8a3d-4e66-de34-0c3c17c26f9c"
   },
   "outputs": [
    {
     "data": {
      "text/html": [
       "<div>\n",
       "<style scoped>\n",
       "    .dataframe tbody tr th:only-of-type {\n",
       "        vertical-align: middle;\n",
       "    }\n",
       "\n",
       "    .dataframe tbody tr th {\n",
       "        vertical-align: top;\n",
       "    }\n",
       "\n",
       "    .dataframe thead th {\n",
       "        text-align: right;\n",
       "    }\n",
       "</style>\n",
       "<table border=\"1\" class=\"dataframe\">\n",
       "  <thead>\n",
       "    <tr style=\"text-align: right;\">\n",
       "      <th></th>\n",
       "      <th>age</th>\n",
       "      <th>sex</th>\n",
       "      <th>on_thyroxine</th>\n",
       "      <th>query_on_thyroxine</th>\n",
       "      <th>on_antithyroid_medication</th>\n",
       "      <th>sick</th>\n",
       "      <th>pregnant</th>\n",
       "      <th>thyroid_surgery</th>\n",
       "      <th>I131_treatment</th>\n",
       "      <th>query_hypothyroid</th>\n",
       "      <th>...</th>\n",
       "      <th>hypopituitary</th>\n",
       "      <th>psych</th>\n",
       "      <th>TSH</th>\n",
       "      <th>T3</th>\n",
       "      <th>TT4</th>\n",
       "      <th>T4U</th>\n",
       "      <th>FTI</th>\n",
       "      <th>TBG</th>\n",
       "      <th>referral_source</th>\n",
       "      <th>Class</th>\n",
       "    </tr>\n",
       "  </thead>\n",
       "  <tbody>\n",
       "    <tr>\n",
       "      <th>0</th>\n",
       "      <td>41.0</td>\n",
       "      <td>F</td>\n",
       "      <td>False</td>\n",
       "      <td>False</td>\n",
       "      <td>False</td>\n",
       "      <td>False</td>\n",
       "      <td>False</td>\n",
       "      <td>False</td>\n",
       "      <td>False</td>\n",
       "      <td>False</td>\n",
       "      <td>...</td>\n",
       "      <td>False</td>\n",
       "      <td>False</td>\n",
       "      <td>1.30</td>\n",
       "      <td>2.5</td>\n",
       "      <td>125.0</td>\n",
       "      <td>1.14</td>\n",
       "      <td>109.0</td>\n",
       "      <td>NaN</td>\n",
       "      <td>SVHC</td>\n",
       "      <td>negative</td>\n",
       "    </tr>\n",
       "    <tr>\n",
       "      <th>1</th>\n",
       "      <td>23.0</td>\n",
       "      <td>F</td>\n",
       "      <td>False</td>\n",
       "      <td>False</td>\n",
       "      <td>False</td>\n",
       "      <td>False</td>\n",
       "      <td>False</td>\n",
       "      <td>False</td>\n",
       "      <td>False</td>\n",
       "      <td>False</td>\n",
       "      <td>...</td>\n",
       "      <td>False</td>\n",
       "      <td>False</td>\n",
       "      <td>4.10</td>\n",
       "      <td>2.0</td>\n",
       "      <td>102.0</td>\n",
       "      <td>NaN</td>\n",
       "      <td>NaN</td>\n",
       "      <td>NaN</td>\n",
       "      <td>other</td>\n",
       "      <td>negative</td>\n",
       "    </tr>\n",
       "    <tr>\n",
       "      <th>2</th>\n",
       "      <td>46.0</td>\n",
       "      <td>M</td>\n",
       "      <td>False</td>\n",
       "      <td>False</td>\n",
       "      <td>False</td>\n",
       "      <td>False</td>\n",
       "      <td>False</td>\n",
       "      <td>False</td>\n",
       "      <td>False</td>\n",
       "      <td>False</td>\n",
       "      <td>...</td>\n",
       "      <td>False</td>\n",
       "      <td>False</td>\n",
       "      <td>0.98</td>\n",
       "      <td>NaN</td>\n",
       "      <td>109.0</td>\n",
       "      <td>0.91</td>\n",
       "      <td>120.0</td>\n",
       "      <td>NaN</td>\n",
       "      <td>other</td>\n",
       "      <td>negative</td>\n",
       "    </tr>\n",
       "    <tr>\n",
       "      <th>3</th>\n",
       "      <td>70.0</td>\n",
       "      <td>F</td>\n",
       "      <td>True</td>\n",
       "      <td>False</td>\n",
       "      <td>False</td>\n",
       "      <td>False</td>\n",
       "      <td>False</td>\n",
       "      <td>False</td>\n",
       "      <td>False</td>\n",
       "      <td>False</td>\n",
       "      <td>...</td>\n",
       "      <td>False</td>\n",
       "      <td>False</td>\n",
       "      <td>0.16</td>\n",
       "      <td>1.9</td>\n",
       "      <td>175.0</td>\n",
       "      <td>NaN</td>\n",
       "      <td>NaN</td>\n",
       "      <td>NaN</td>\n",
       "      <td>other</td>\n",
       "      <td>negative</td>\n",
       "    </tr>\n",
       "    <tr>\n",
       "      <th>4</th>\n",
       "      <td>70.0</td>\n",
       "      <td>F</td>\n",
       "      <td>False</td>\n",
       "      <td>False</td>\n",
       "      <td>False</td>\n",
       "      <td>False</td>\n",
       "      <td>False</td>\n",
       "      <td>False</td>\n",
       "      <td>False</td>\n",
       "      <td>False</td>\n",
       "      <td>...</td>\n",
       "      <td>False</td>\n",
       "      <td>False</td>\n",
       "      <td>0.72</td>\n",
       "      <td>1.2</td>\n",
       "      <td>61.0</td>\n",
       "      <td>0.87</td>\n",
       "      <td>70.0</td>\n",
       "      <td>NaN</td>\n",
       "      <td>SVI</td>\n",
       "      <td>negative</td>\n",
       "    </tr>\n",
       "  </tbody>\n",
       "</table>\n",
       "<p>5 rows × 24 columns</p>\n",
       "</div>"
      ],
      "text/plain": [
       "    age sex  on_thyroxine  query_on_thyroxine  on_antithyroid_medication  \\\n",
       "0  41.0   F         False               False                      False   \n",
       "1  23.0   F         False               False                      False   \n",
       "2  46.0   M         False               False                      False   \n",
       "3  70.0   F          True               False                      False   \n",
       "4  70.0   F         False               False                      False   \n",
       "\n",
       "    sick  pregnant  thyroid_surgery  I131_treatment  query_hypothyroid  ...  \\\n",
       "0  False     False            False           False              False  ...   \n",
       "1  False     False            False           False              False  ...   \n",
       "2  False     False            False           False              False  ...   \n",
       "3  False     False            False           False              False  ...   \n",
       "4  False     False            False           False              False  ...   \n",
       "\n",
       "   hypopituitary  psych   TSH   T3    TT4   T4U    FTI  TBG  referral_source  \\\n",
       "0          False  False  1.30  2.5  125.0  1.14  109.0  NaN             SVHC   \n",
       "1          False  False  4.10  2.0  102.0   NaN    NaN  NaN            other   \n",
       "2          False  False  0.98  NaN  109.0  0.91  120.0  NaN            other   \n",
       "3          False  False  0.16  1.9  175.0   NaN    NaN  NaN            other   \n",
       "4          False  False  0.72  1.2   61.0  0.87   70.0  NaN              SVI   \n",
       "\n",
       "      Class  \n",
       "0  negative  \n",
       "1  negative  \n",
       "2  negative  \n",
       "3  negative  \n",
       "4  negative  \n",
       "\n",
       "[5 rows x 24 columns]"
      ]
     },
     "execution_count": 7,
     "metadata": {},
     "output_type": "execute_result"
    }
   ],
   "source": [
    "data = pd.DataFrame(index = df.index, columns = df.columns[np.logical_not(df.columns.isin([\"TSH_measured\", \"T3_measured\", \"TT4_measured\", \"T4U_measured\", \"FTI_measured\", \"TBG_measured\"]))])\n",
    "data.fillna(value = 0, inplace = True)\n",
    "\n",
    "data.iloc[:,0:2] = df.iloc[:, 0:2]\n",
    "data.iloc[:,2:16] = df.iloc[:, 2:16] == \"t\"\n",
    "data.iloc[:,16:22] = df.loc[:,[\"TSH\", \"T3\", \"TT4\", \"T4U\", \"FTI\", \"TBG\"]]\n",
    "data.iloc[:, 22:24] = df.loc[:, [\"referral_source\", \"Class\"]]\n",
    "\n",
    "data.head()"
   ]
  },
  {
   "cell_type": "code",
   "execution_count": 8,
   "metadata": {
    "colab": {},
    "colab_type": "code",
    "id": "7za4f-eRSomW"
   },
   "outputs": [],
   "source": [
    "from pandas.testing import assert_frame_equal\n",
    "assert_frame_equal(data.iloc[:,[0, 1, 16, 17, 18, 19, 20, 21, 22, 23]], df.iloc[:, [0, 1, 17, 19, 21, 23, 25, 27, 28, 29]])\n",
    "#Sprawdzone: data jest naszym przygotowanym zbiorem danym do dalszej analizy i obróbki"
   ]
  },
  {
   "cell_type": "code",
   "execution_count": 9,
   "metadata": {
    "colab": {
     "base_uri": "https://localhost:8080/",
     "height": 173
    },
    "colab_type": "code",
    "id": "0Fa3UwzgawVk",
    "outputId": "f98d4fe2-53cc-4a8d-8d09-4b2f82638a95"
   },
   "outputs": [
    {
     "name": "stdout",
     "output_type": "stream",
     "text": [
      "F    2480\n",
      "M    1142\n",
      "Name: sex, dtype: int64\n"
     ]
    },
    {
     "data": {
      "text/plain": [
       "sex  Class   \n",
       "F    negative    0.945161\n",
       "     sick        0.054839\n",
       "M    negative    0.922067\n",
       "     sick        0.077933\n",
       "Name: Class, dtype: float64"
      ]
     },
     "execution_count": 9,
     "metadata": {},
     "output_type": "execute_result"
    }
   ],
   "source": [
    "print(data.sex.value_counts())\n",
    "data.groupby(\"sex\").Class.value_counts(normalize = True)"
   ]
  },
  {
   "cell_type": "markdown",
   "metadata": {
    "colab_type": "text",
    "id": "w51kHnQhbvMk"
   },
   "source": [
    "Więcej kobiet niż mężczyzn w zbiorze, może to wynikać z faktu iż w rzeczywistości to częściej kobiety chorują na tarczycę. Liczba osób chorych (stosunek wartości w targecie) jest dość niska, więc dane nie są zbalansowane. \n",
    "\n",
    "Sprawdźmy teraz klasy kolumn."
   ]
  },
  {
   "cell_type": "code",
   "execution_count": 10,
   "metadata": {
    "colab": {
     "base_uri": "https://localhost:8080/",
     "height": 451
    },
    "colab_type": "code",
    "id": "K0yEHVVZb365",
    "outputId": "67682829-984a-4769-868e-f70f2995dd84"
   },
   "outputs": [
    {
     "data": {
      "text/plain": [
       "age                          float64\n",
       "sex                           object\n",
       "on_thyroxine                    bool\n",
       "query_on_thyroxine              bool\n",
       "on_antithyroid_medication       bool\n",
       "sick                            bool\n",
       "pregnant                        bool\n",
       "thyroid_surgery                 bool\n",
       "I131_treatment                  bool\n",
       "query_hypothyroid               bool\n",
       "query_hyperthyroid              bool\n",
       "lithium                         bool\n",
       "goitre                          bool\n",
       "tumor                           bool\n",
       "hypopituitary                   bool\n",
       "psych                           bool\n",
       "TSH                          float64\n",
       "T3                           float64\n",
       "TT4                          float64\n",
       "T4U                          float64\n",
       "FTI                          float64\n",
       "TBG                          float64\n",
       "referral_source               object\n",
       "Class                         object\n",
       "dtype: object"
      ]
     },
     "execution_count": 10,
     "metadata": {},
     "output_type": "execute_result"
    }
   ],
   "source": [
    "data.dtypes"
   ]
  },
  {
   "cell_type": "markdown",
   "metadata": {
    "colab_type": "text",
    "id": "C6UxAxh3cKem"
   },
   "source": [
    "Po wprowadzeniu poprawek większość kolumn została zamieniona na wartości True/False (boolean), dodatkowo jest kilka zmiennych typu float oraz trzy zmienne kategoryczne."
   ]
  },
  {
   "cell_type": "code",
   "execution_count": 11,
   "metadata": {
    "colab": {
     "base_uri": "https://localhost:8080/",
     "height": 121
    },
    "colab_type": "code",
    "id": "EdT1yfsE4aj6",
    "outputId": "5b1c497f-4cb0-420d-ebb4-3c33497ceff3"
   },
   "outputs": [
    {
     "name": "stdout",
     "output_type": "stream",
     "text": [
      "False    3625\n",
      "True      147\n",
      "Name: sick, dtype: int64\n",
      "negative    3541\n",
      "sick         231\n",
      "Name: Class, dtype: int64\n"
     ]
    }
   ],
   "source": [
    "print(data.sick.value_counts())\n",
    "print(data.Class.value_counts())"
   ]
  },
  {
   "cell_type": "markdown",
   "metadata": {
    "colab_type": "text",
    "id": "ojN2HQB8ckiw"
   },
   "source": [
    "Kolumny sick i Class wzkazują inne dane,gdyż ich wartości się nie zgadzają. Wiemy, że target - Class - oznacza chorobę tarczycy lub jej brak, więc możemy zakładać, że sick określa jakieś możliwe przeziębienie pacjenta podczas badań."
   ]
  },
  {
   "cell_type": "code",
   "execution_count": 12,
   "metadata": {
    "colab": {},
    "colab_type": "code",
    "id": "QJg0go3b7e_g"
   },
   "outputs": [],
   "source": [
    "data[\"Class\"]=df[\"Class\"]==\"sick\"\n",
    "data=data.rename(columns={\"Class\":\"Thyroid_disease\"})"
   ]
  },
  {
   "cell_type": "markdown",
   "metadata": {
    "colab_type": "text",
    "id": "YdR-buIzc8I5"
   },
   "source": [
    "Zmieniamy nazwę kolumny Class na bardziej oczywistą."
   ]
  },
  {
   "cell_type": "code",
   "execution_count": 13,
   "metadata": {
    "colab": {
     "base_uri": "https://localhost:8080/",
     "height": 34
    },
    "colab_type": "code",
    "id": "ofiZUMpL5LIq",
    "outputId": "79312410-25cf-4e19-9d39-adca2880f8b8"
   },
   "outputs": [
    {
     "data": {
      "text/plain": [
       "array(['SVHC', 'other', 'SVI', 'STMW', 'SVHD'], dtype=object)"
      ]
     },
     "execution_count": 13,
     "metadata": {},
     "output_type": "execute_result"
    }
   ],
   "source": [
    "pd.unique(data.referral_source)\n",
    "#ewentualnie można zamienić tę kolumnę na 0,1,2,3,4"
   ]
  },
  {
   "cell_type": "code",
   "execution_count": 14,
   "metadata": {
    "colab": {
     "base_uri": "https://localhost:8080/",
     "height": 226
    },
    "colab_type": "code",
    "id": "esRJ-mZfCnSj",
    "outputId": "9ee3d2b0-033a-46e7-a691-041c6034c71f"
   },
   "outputs": [
    {
     "data": {
      "text/html": [
       "<div>\n",
       "<style scoped>\n",
       "    .dataframe tbody tr th:only-of-type {\n",
       "        vertical-align: middle;\n",
       "    }\n",
       "\n",
       "    .dataframe tbody tr th {\n",
       "        vertical-align: top;\n",
       "    }\n",
       "\n",
       "    .dataframe thead th {\n",
       "        text-align: right;\n",
       "    }\n",
       "</style>\n",
       "<table border=\"1\" class=\"dataframe\">\n",
       "  <thead>\n",
       "    <tr style=\"text-align: right;\">\n",
       "      <th></th>\n",
       "      <th>age</th>\n",
       "      <th>sex</th>\n",
       "      <th>on_thyroxine</th>\n",
       "      <th>query_on_thyroxine</th>\n",
       "      <th>on_antithyroid_medication</th>\n",
       "      <th>sick</th>\n",
       "      <th>pregnant</th>\n",
       "      <th>thyroid_surgery</th>\n",
       "      <th>I131_treatment</th>\n",
       "      <th>query_hypothyroid</th>\n",
       "      <th>...</th>\n",
       "      <th>hypopituitary</th>\n",
       "      <th>psych</th>\n",
       "      <th>TSH</th>\n",
       "      <th>T3</th>\n",
       "      <th>TT4</th>\n",
       "      <th>T4U</th>\n",
       "      <th>FTI</th>\n",
       "      <th>TBG</th>\n",
       "      <th>referral_source</th>\n",
       "      <th>Thyroid_disease</th>\n",
       "    </tr>\n",
       "  </thead>\n",
       "  <tbody>\n",
       "    <tr>\n",
       "      <th>0</th>\n",
       "      <td>41.0</td>\n",
       "      <td>F</td>\n",
       "      <td>False</td>\n",
       "      <td>False</td>\n",
       "      <td>False</td>\n",
       "      <td>False</td>\n",
       "      <td>False</td>\n",
       "      <td>False</td>\n",
       "      <td>False</td>\n",
       "      <td>False</td>\n",
       "      <td>...</td>\n",
       "      <td>False</td>\n",
       "      <td>False</td>\n",
       "      <td>1.30</td>\n",
       "      <td>2.5</td>\n",
       "      <td>125.0</td>\n",
       "      <td>1.14</td>\n",
       "      <td>109.0</td>\n",
       "      <td>NaN</td>\n",
       "      <td>SVHC</td>\n",
       "      <td>False</td>\n",
       "    </tr>\n",
       "    <tr>\n",
       "      <th>1</th>\n",
       "      <td>23.0</td>\n",
       "      <td>F</td>\n",
       "      <td>False</td>\n",
       "      <td>False</td>\n",
       "      <td>False</td>\n",
       "      <td>False</td>\n",
       "      <td>False</td>\n",
       "      <td>False</td>\n",
       "      <td>False</td>\n",
       "      <td>False</td>\n",
       "      <td>...</td>\n",
       "      <td>False</td>\n",
       "      <td>False</td>\n",
       "      <td>4.10</td>\n",
       "      <td>2.0</td>\n",
       "      <td>102.0</td>\n",
       "      <td>NaN</td>\n",
       "      <td>NaN</td>\n",
       "      <td>NaN</td>\n",
       "      <td>other</td>\n",
       "      <td>False</td>\n",
       "    </tr>\n",
       "    <tr>\n",
       "      <th>2</th>\n",
       "      <td>46.0</td>\n",
       "      <td>M</td>\n",
       "      <td>False</td>\n",
       "      <td>False</td>\n",
       "      <td>False</td>\n",
       "      <td>False</td>\n",
       "      <td>False</td>\n",
       "      <td>False</td>\n",
       "      <td>False</td>\n",
       "      <td>False</td>\n",
       "      <td>...</td>\n",
       "      <td>False</td>\n",
       "      <td>False</td>\n",
       "      <td>0.98</td>\n",
       "      <td>NaN</td>\n",
       "      <td>109.0</td>\n",
       "      <td>0.91</td>\n",
       "      <td>120.0</td>\n",
       "      <td>NaN</td>\n",
       "      <td>other</td>\n",
       "      <td>False</td>\n",
       "    </tr>\n",
       "    <tr>\n",
       "      <th>3</th>\n",
       "      <td>70.0</td>\n",
       "      <td>F</td>\n",
       "      <td>True</td>\n",
       "      <td>False</td>\n",
       "      <td>False</td>\n",
       "      <td>False</td>\n",
       "      <td>False</td>\n",
       "      <td>False</td>\n",
       "      <td>False</td>\n",
       "      <td>False</td>\n",
       "      <td>...</td>\n",
       "      <td>False</td>\n",
       "      <td>False</td>\n",
       "      <td>0.16</td>\n",
       "      <td>1.9</td>\n",
       "      <td>175.0</td>\n",
       "      <td>NaN</td>\n",
       "      <td>NaN</td>\n",
       "      <td>NaN</td>\n",
       "      <td>other</td>\n",
       "      <td>False</td>\n",
       "    </tr>\n",
       "    <tr>\n",
       "      <th>4</th>\n",
       "      <td>70.0</td>\n",
       "      <td>F</td>\n",
       "      <td>False</td>\n",
       "      <td>False</td>\n",
       "      <td>False</td>\n",
       "      <td>False</td>\n",
       "      <td>False</td>\n",
       "      <td>False</td>\n",
       "      <td>False</td>\n",
       "      <td>False</td>\n",
       "      <td>...</td>\n",
       "      <td>False</td>\n",
       "      <td>False</td>\n",
       "      <td>0.72</td>\n",
       "      <td>1.2</td>\n",
       "      <td>61.0</td>\n",
       "      <td>0.87</td>\n",
       "      <td>70.0</td>\n",
       "      <td>NaN</td>\n",
       "      <td>SVI</td>\n",
       "      <td>False</td>\n",
       "    </tr>\n",
       "  </tbody>\n",
       "</table>\n",
       "<p>5 rows × 24 columns</p>\n",
       "</div>"
      ],
      "text/plain": [
       "    age sex  on_thyroxine  query_on_thyroxine  on_antithyroid_medication  \\\n",
       "0  41.0   F         False               False                      False   \n",
       "1  23.0   F         False               False                      False   \n",
       "2  46.0   M         False               False                      False   \n",
       "3  70.0   F          True               False                      False   \n",
       "4  70.0   F         False               False                      False   \n",
       "\n",
       "    sick  pregnant  thyroid_surgery  I131_treatment  query_hypothyroid  ...  \\\n",
       "0  False     False            False           False              False  ...   \n",
       "1  False     False            False           False              False  ...   \n",
       "2  False     False            False           False              False  ...   \n",
       "3  False     False            False           False              False  ...   \n",
       "4  False     False            False           False              False  ...   \n",
       "\n",
       "   hypopituitary  psych   TSH   T3    TT4   T4U    FTI  TBG  referral_source  \\\n",
       "0          False  False  1.30  2.5  125.0  1.14  109.0  NaN             SVHC   \n",
       "1          False  False  4.10  2.0  102.0   NaN    NaN  NaN            other   \n",
       "2          False  False  0.98  NaN  109.0  0.91  120.0  NaN            other   \n",
       "3          False  False  0.16  1.9  175.0   NaN    NaN  NaN            other   \n",
       "4          False  False  0.72  1.2   61.0  0.87   70.0  NaN              SVI   \n",
       "\n",
       "   Thyroid_disease  \n",
       "0            False  \n",
       "1            False  \n",
       "2            False  \n",
       "3            False  \n",
       "4            False  \n",
       "\n",
       "[5 rows x 24 columns]"
      ]
     },
     "execution_count": 14,
     "metadata": {},
     "output_type": "execute_result"
    }
   ],
   "source": [
    "data.head()"
   ]
  },
  {
   "cell_type": "code",
   "execution_count": 15,
   "metadata": {
    "colab": {
     "base_uri": "https://localhost:8080/",
     "height": 69
    },
    "colab_type": "code",
    "id": "Td_PI-3k2u1u",
    "outputId": "a0b12c21-190f-40a7-b71f-e611974337ec"
   },
   "outputs": [
    {
     "data": {
      "text/plain": [
       "False    94\n",
       "True      2\n",
       "Name: Thyroid_disease, dtype: int64"
      ]
     },
     "execution_count": 15,
     "metadata": {},
     "output_type": "execute_result"
    }
   ],
   "source": [
    "data.Thyroid_disease[data.tumor].value_counts()"
   ]
  },
  {
   "cell_type": "markdown",
   "metadata": {
    "colab_type": "text",
    "id": "LF83Pf3vexcZ"
   },
   "source": [
    "Ciekawostka - tylko dwie osoby mające guzy mają chorą tarczycę."
   ]
  },
  {
   "cell_type": "code",
   "execution_count": 16,
   "metadata": {
    "colab": {
     "base_uri": "https://localhost:8080/",
     "height": 34
    },
    "colab_type": "code",
    "id": "9YIG8BeT7NRX",
    "outputId": "d069d9ad-bb21-447e-a6cd-db16dcf9265e"
   },
   "outputs": [
    {
     "data": {
      "text/plain": [
       "array(['F', 'M', 'Missing'], dtype=object)"
      ]
     },
     "execution_count": 16,
     "metadata": {},
     "output_type": "execute_result"
    }
   ],
   "source": [
    "data[\"sex\"]=data[\"sex\"].replace(np.nan, \"Missing\", regex=True)\n",
    "pd.unique(data.sex)"
   ]
  },
  {
   "cell_type": "markdown",
   "metadata": {
    "colab_type": "text",
    "id": "cZFqCd0-e4-U"
   },
   "source": [
    "Brakujące wartości w kolumnie sex zamieniamy na \"Missing\", jednak ważne jest aby o tym pamiętać przy imputacji.\n",
    "\n",
    "Przyjrzyjmy się teraz licznościom pacjentów (powyżej było to w liczbach, więc wiemy, że kobiet będzie więcej, sprawdźmy jak to wygląda na wykresie) i ich wiekowi - w postaci wizualizacji."
   ]
  },
  {
   "cell_type": "code",
   "execution_count": 17,
   "metadata": {
    "colab": {
     "base_uri": "https://localhost:8080/",
     "height": 313
    },
    "colab_type": "code",
    "id": "ukAT6Q-GU53-",
    "outputId": "5b01c7da-0fdd-45eb-bf6a-a6ceb881d757"
   },
   "outputs": [
    {
     "data": {
      "text/plain": [
       "<matplotlib.axes._subplots.AxesSubplot at 0x7f8639f919e8>"
      ]
     },
     "execution_count": 17,
     "metadata": {},
     "output_type": "execute_result"
    },
    {
     "data": {
      "image/png": "[encoded data removed]",
      "text/plain": [
       "<Figure size 432x288 with 1 Axes>"
      ]
     },
     "metadata": {
      "needs_background": "light"
     },
     "output_type": "display_data"
    }
   ],
   "source": [
    "plot=sns.countplot(data.sex, dodge=False)\n",
    "plot.set_title(\"Płeć badanych osób\")\n",
    "plot.set(xticklabels=[\"Kobiety\", \"Mężczyźni\", \"Brak danych\"], xlabel=\"Płeć\", ylabel=\"Liczność\")\n",
    "plot"
   ]
  },
  {
   "cell_type": "code",
   "execution_count": 18,
   "metadata": {
    "colab": {
     "base_uri": "https://localhost:8080/",
     "height": 282
    },
    "colab_type": "code",
    "id": "0QsHUgNg_qYg",
    "outputId": "8e945fd7-f38c-4036-daeb-3a5e38ebba0b"
   },
   "outputs": [
    {
     "data": {
      "text/plain": [
       "[<matplotlib.lines.Line2D at 0x7f86377d6668>]"
      ]
     },
     "execution_count": 18,
     "metadata": {},
     "output_type": "execute_result"
    },
    {
     "data": {
      "image/png": "[encoded data removed]",
      "text/plain": [
       "<Figure size 432x288 with 1 Axes>"
      ]
     },
     "metadata": {
      "needs_background": "light"
     },
     "output_type": "display_data"
    }
   ],
   "source": [
    "plt.plot(data.age, 'o')"
   ]
  },
  {
   "cell_type": "markdown",
   "metadata": {
    "colab_type": "text",
    "id": "XtCtP0CIfitI"
   },
   "source": [
    "Możemy zaobserwować dziwną wartość wieku powyżej 400. Nie jest to możliwe do osiągnięcia gdyż najdłużej żyjący człowiek miał nie całe 123 lata.\n",
    "\n",
    "Sprawdźmy statystyki danych ciągłych, możliwe jest iż niektóre wartości także mają takie dziwne wartości jak przy kolumnie z wiekiem."
   ]
  },
  {
   "cell_type": "code",
   "execution_count": 19,
   "metadata": {
    "colab": {
     "base_uri": "https://localhost:8080/",
     "height": 300
    },
    "colab_type": "code",
    "id": "Rt4I-vvWAcdW",
    "outputId": "330e3ca1-3303-494b-b195-13d11b893cc1"
   },
   "outputs": [
    {
     "data": {
      "text/html": [
       "<div>\n",
       "<style scoped>\n",
       "    .dataframe tbody tr th:only-of-type {\n",
       "        vertical-align: middle;\n",
       "    }\n",
       "\n",
       "    .dataframe tbody tr th {\n",
       "        vertical-align: top;\n",
       "    }\n",
       "\n",
       "    .dataframe thead th {\n",
       "        text-align: right;\n",
       "    }\n",
       "</style>\n",
       "<table border=\"1\" class=\"dataframe\">\n",
       "  <thead>\n",
       "    <tr style=\"text-align: right;\">\n",
       "      <th></th>\n",
       "      <th>age</th>\n",
       "      <th>TSH</th>\n",
       "      <th>T3</th>\n",
       "      <th>TT4</th>\n",
       "      <th>T4U</th>\n",
       "      <th>FTI</th>\n",
       "      <th>TBG</th>\n",
       "    </tr>\n",
       "  </thead>\n",
       "  <tbody>\n",
       "    <tr>\n",
       "      <th>count</th>\n",
       "      <td>3771.000000</td>\n",
       "      <td>3403.000000</td>\n",
       "      <td>3003.000000</td>\n",
       "      <td>3541.000000</td>\n",
       "      <td>3385.000000</td>\n",
       "      <td>3387.000000</td>\n",
       "      <td>0.0</td>\n",
       "    </tr>\n",
       "    <tr>\n",
       "      <th>mean</th>\n",
       "      <td>51.735879</td>\n",
       "      <td>5.086766</td>\n",
       "      <td>2.013500</td>\n",
       "      <td>108.319345</td>\n",
       "      <td>0.995000</td>\n",
       "      <td>110.469649</td>\n",
       "      <td>NaN</td>\n",
       "    </tr>\n",
       "    <tr>\n",
       "      <th>std</th>\n",
       "      <td>20.084958</td>\n",
       "      <td>24.521470</td>\n",
       "      <td>0.827434</td>\n",
       "      <td>35.604248</td>\n",
       "      <td>0.195457</td>\n",
       "      <td>33.089698</td>\n",
       "      <td>NaN</td>\n",
       "    </tr>\n",
       "    <tr>\n",
       "      <th>min</th>\n",
       "      <td>1.000000</td>\n",
       "      <td>0.005000</td>\n",
       "      <td>0.050000</td>\n",
       "      <td>2.000000</td>\n",
       "      <td>0.250000</td>\n",
       "      <td>2.000000</td>\n",
       "      <td>NaN</td>\n",
       "    </tr>\n",
       "    <tr>\n",
       "      <th>25%</th>\n",
       "      <td>36.000000</td>\n",
       "      <td>0.500000</td>\n",
       "      <td>1.600000</td>\n",
       "      <td>88.000000</td>\n",
       "      <td>0.880000</td>\n",
       "      <td>93.000000</td>\n",
       "      <td>NaN</td>\n",
       "    </tr>\n",
       "    <tr>\n",
       "      <th>50%</th>\n",
       "      <td>54.000000</td>\n",
       "      <td>1.400000</td>\n",
       "      <td>2.000000</td>\n",
       "      <td>103.000000</td>\n",
       "      <td>0.980000</td>\n",
       "      <td>107.000000</td>\n",
       "      <td>NaN</td>\n",
       "    </tr>\n",
       "    <tr>\n",
       "      <th>75%</th>\n",
       "      <td>67.000000</td>\n",
       "      <td>2.700000</td>\n",
       "      <td>2.400000</td>\n",
       "      <td>124.000000</td>\n",
       "      <td>1.080000</td>\n",
       "      <td>124.000000</td>\n",
       "      <td>NaN</td>\n",
       "    </tr>\n",
       "    <tr>\n",
       "      <th>max</th>\n",
       "      <td>455.000000</td>\n",
       "      <td>530.000000</td>\n",
       "      <td>10.600000</td>\n",
       "      <td>430.000000</td>\n",
       "      <td>2.320000</td>\n",
       "      <td>395.000000</td>\n",
       "      <td>NaN</td>\n",
       "    </tr>\n",
       "  </tbody>\n",
       "</table>\n",
       "</div>"
      ],
      "text/plain": [
       "               age          TSH           T3          TT4          T4U  \\\n",
       "count  3771.000000  3403.000000  3003.000000  3541.000000  3385.000000   \n",
       "mean     51.735879     5.086766     2.013500   108.319345     0.995000   \n",
       "std      20.084958    24.521470     0.827434    35.604248     0.195457   \n",
       "min       1.000000     0.005000     0.050000     2.000000     0.250000   \n",
       "25%      36.000000     0.500000     1.600000    88.000000     0.880000   \n",
       "50%      54.000000     1.400000     2.000000   103.000000     0.980000   \n",
       "75%      67.000000     2.700000     2.400000   124.000000     1.080000   \n",
       "max     455.000000   530.000000    10.600000   430.000000     2.320000   \n",
       "\n",
       "               FTI  TBG  \n",
       "count  3387.000000  0.0  \n",
       "mean    110.469649  NaN  \n",
       "std      33.089698  NaN  \n",
       "min       2.000000  NaN  \n",
       "25%      93.000000  NaN  \n",
       "50%     107.000000  NaN  \n",
       "75%     124.000000  NaN  \n",
       "max     395.000000  NaN  "
      ]
     },
     "execution_count": 19,
     "metadata": {},
     "output_type": "execute_result"
    }
   ],
   "source": [
    "data.describe()"
   ]
  },
  {
   "cell_type": "markdown",
   "metadata": {
    "colab_type": "text",
    "id": "o9z5ityhgJkg"
   },
   "source": [
    "Maksymalny wiek ma 455, przyjrzyjmy się wpisowi tego pacjenta, może inne jego dane także są nierealne."
   ]
  },
  {
   "cell_type": "code",
   "execution_count": 20,
   "metadata": {
    "colab": {
     "base_uri": "https://localhost:8080/",
     "height": 101
    },
    "colab_type": "code",
    "id": "JC4uD5sAA2Y0",
    "outputId": "e344070c-9c8e-4b72-d5db-1d94c5c28231"
   },
   "outputs": [
    {
     "data": {
      "text/html": [
       "<div>\n",
       "<style scoped>\n",
       "    .dataframe tbody tr th:only-of-type {\n",
       "        vertical-align: middle;\n",
       "    }\n",
       "\n",
       "    .dataframe tbody tr th {\n",
       "        vertical-align: top;\n",
       "    }\n",
       "\n",
       "    .dataframe thead th {\n",
       "        text-align: right;\n",
       "    }\n",
       "</style>\n",
       "<table border=\"1\" class=\"dataframe\">\n",
       "  <thead>\n",
       "    <tr style=\"text-align: right;\">\n",
       "      <th></th>\n",
       "      <th>age</th>\n",
       "      <th>sex</th>\n",
       "      <th>on_thyroxine</th>\n",
       "      <th>query_on_thyroxine</th>\n",
       "      <th>on_antithyroid_medication</th>\n",
       "      <th>sick</th>\n",
       "      <th>pregnant</th>\n",
       "      <th>thyroid_surgery</th>\n",
       "      <th>I131_treatment</th>\n",
       "      <th>query_hypothyroid</th>\n",
       "      <th>...</th>\n",
       "      <th>hypopituitary</th>\n",
       "      <th>psych</th>\n",
       "      <th>TSH</th>\n",
       "      <th>T3</th>\n",
       "      <th>TT4</th>\n",
       "      <th>T4U</th>\n",
       "      <th>FTI</th>\n",
       "      <th>TBG</th>\n",
       "      <th>referral_source</th>\n",
       "      <th>Thyroid_disease</th>\n",
       "    </tr>\n",
       "  </thead>\n",
       "  <tbody>\n",
       "    <tr>\n",
       "      <th>1364</th>\n",
       "      <td>455.0</td>\n",
       "      <td>F</td>\n",
       "      <td>False</td>\n",
       "      <td>False</td>\n",
       "      <td>False</td>\n",
       "      <td>False</td>\n",
       "      <td>False</td>\n",
       "      <td>False</td>\n",
       "      <td>False</td>\n",
       "      <td>False</td>\n",
       "      <td>...</td>\n",
       "      <td>False</td>\n",
       "      <td>False</td>\n",
       "      <td>1.1</td>\n",
       "      <td>2.0</td>\n",
       "      <td>118.0</td>\n",
       "      <td>1.13</td>\n",
       "      <td>104.0</td>\n",
       "      <td>NaN</td>\n",
       "      <td>SVI</td>\n",
       "      <td>False</td>\n",
       "    </tr>\n",
       "  </tbody>\n",
       "</table>\n",
       "<p>1 rows × 24 columns</p>\n",
       "</div>"
      ],
      "text/plain": [
       "        age sex  on_thyroxine  query_on_thyroxine  on_antithyroid_medication  \\\n",
       "1364  455.0   F         False               False                      False   \n",
       "\n",
       "       sick  pregnant  thyroid_surgery  I131_treatment  query_hypothyroid  \\\n",
       "1364  False     False            False           False              False   \n",
       "\n",
       "      ...  hypopituitary  psych  TSH   T3    TT4   T4U    FTI  TBG  \\\n",
       "1364  ...          False  False  1.1  2.0  118.0  1.13  104.0  NaN   \n",
       "\n",
       "      referral_source  Thyroid_disease  \n",
       "1364              SVI            False  \n",
       "\n",
       "[1 rows x 24 columns]"
      ]
     },
     "execution_count": 20,
     "metadata": {},
     "output_type": "execute_result"
    }
   ],
   "source": [
    "data[data.age == 455]"
   ]
  },
  {
   "cell_type": "markdown",
   "metadata": {
    "colab_type": "text",
    "id": "BCmyN8dxgVz2"
   },
   "source": [
    "Na pierwszy rzut oka powyższe dane wyglądają one całkiem noramalnie. Przyjrzyjmy się jedynemu wpisowi gdzie wiek jest wartością NA."
   ]
  },
  {
   "cell_type": "code",
   "execution_count": 21,
   "metadata": {
    "colab": {
     "base_uri": "https://localhost:8080/",
     "height": 101
    },
    "colab_type": "code",
    "id": "nMIgD2zyBTYC",
    "outputId": "ae31551c-a4f5-4813-9613-ed32771e494c"
   },
   "outputs": [
    {
     "data": {
      "text/html": [
       "<div>\n",
       "<style scoped>\n",
       "    .dataframe tbody tr th:only-of-type {\n",
       "        vertical-align: middle;\n",
       "    }\n",
       "\n",
       "    .dataframe tbody tr th {\n",
       "        vertical-align: top;\n",
       "    }\n",
       "\n",
       "    .dataframe thead th {\n",
       "        text-align: right;\n",
       "    }\n",
       "</style>\n",
       "<table border=\"1\" class=\"dataframe\">\n",
       "  <thead>\n",
       "    <tr style=\"text-align: right;\">\n",
       "      <th></th>\n",
       "      <th>age</th>\n",
       "      <th>sex</th>\n",
       "      <th>on_thyroxine</th>\n",
       "      <th>query_on_thyroxine</th>\n",
       "      <th>on_antithyroid_medication</th>\n",
       "      <th>sick</th>\n",
       "      <th>pregnant</th>\n",
       "      <th>thyroid_surgery</th>\n",
       "      <th>I131_treatment</th>\n",
       "      <th>query_hypothyroid</th>\n",
       "      <th>...</th>\n",
       "      <th>hypopituitary</th>\n",
       "      <th>psych</th>\n",
       "      <th>TSH</th>\n",
       "      <th>T3</th>\n",
       "      <th>TT4</th>\n",
       "      <th>T4U</th>\n",
       "      <th>FTI</th>\n",
       "      <th>TBG</th>\n",
       "      <th>referral_source</th>\n",
       "      <th>Thyroid_disease</th>\n",
       "    </tr>\n",
       "  </thead>\n",
       "  <tbody>\n",
       "    <tr>\n",
       "      <th>1985</th>\n",
       "      <td>NaN</td>\n",
       "      <td>F</td>\n",
       "      <td>True</td>\n",
       "      <td>False</td>\n",
       "      <td>False</td>\n",
       "      <td>False</td>\n",
       "      <td>False</td>\n",
       "      <td>False</td>\n",
       "      <td>True</td>\n",
       "      <td>False</td>\n",
       "      <td>...</td>\n",
       "      <td>False</td>\n",
       "      <td>False</td>\n",
       "      <td>0.6</td>\n",
       "      <td>1.5</td>\n",
       "      <td>120.0</td>\n",
       "      <td>0.82</td>\n",
       "      <td>146.0</td>\n",
       "      <td>NaN</td>\n",
       "      <td>other</td>\n",
       "      <td>False</td>\n",
       "    </tr>\n",
       "  </tbody>\n",
       "</table>\n",
       "<p>1 rows × 24 columns</p>\n",
       "</div>"
      ],
      "text/plain": [
       "      age sex  on_thyroxine  query_on_thyroxine  on_antithyroid_medication  \\\n",
       "1985  NaN   F          True               False                      False   \n",
       "\n",
       "       sick  pregnant  thyroid_surgery  I131_treatment  query_hypothyroid  \\\n",
       "1985  False     False            False            True              False   \n",
       "\n",
       "      ...  hypopituitary  psych  TSH   T3    TT4   T4U    FTI  TBG  \\\n",
       "1985  ...          False  False  0.6  1.5  120.0  0.82  146.0  NaN   \n",
       "\n",
       "      referral_source  Thyroid_disease  \n",
       "1985            other            False  \n",
       "\n",
       "[1 rows x 24 columns]"
      ]
     },
     "execution_count": 21,
     "metadata": {},
     "output_type": "execute_result"
    }
   ],
   "source": [
    "data[data.age.isna()]"
   ]
  },
  {
   "cell_type": "markdown",
   "metadata": {
    "colab_type": "text",
    "id": "9Ahj2NVlgvSc"
   },
   "source": [
    "Skoro są braki danych w wieku i wartości równe 455, czy to znaczy, że wiek uzupełniali sami pacjenci? Nie mamy wiedzy czy wpisany wiek jest pomyłką czy żartem. Dlatego najlepiej go będzie ustawić jako 45/46 (jeśli zakładamy to jako pomyłkę i brak przecinka) albo jako wartość NA i uzupełnić przy użyciu technik imputacji.\n"
   ]
  },
  {
   "cell_type": "code",
   "execution_count": 22,
   "metadata": {
    "colab": {
     "base_uri": "https://localhost:8080/",
     "height": 300
    },
    "colab_type": "code",
    "id": "xru9xE3WB4tX",
    "outputId": "aa881183-779d-4571-ba5d-e587af902ab4"
   },
   "outputs": [
    {
     "data": {
      "text/html": [
       "<div>\n",
       "<style scoped>\n",
       "    .dataframe tbody tr th:only-of-type {\n",
       "        vertical-align: middle;\n",
       "    }\n",
       "\n",
       "    .dataframe tbody tr th {\n",
       "        vertical-align: top;\n",
       "    }\n",
       "\n",
       "    .dataframe thead th {\n",
       "        text-align: right;\n",
       "    }\n",
       "</style>\n",
       "<table border=\"1\" class=\"dataframe\">\n",
       "  <thead>\n",
       "    <tr style=\"text-align: right;\">\n",
       "      <th></th>\n",
       "      <th>age</th>\n",
       "      <th>TSH</th>\n",
       "      <th>T3</th>\n",
       "      <th>TT4</th>\n",
       "      <th>T4U</th>\n",
       "      <th>FTI</th>\n",
       "      <th>TBG</th>\n",
       "    </tr>\n",
       "  </thead>\n",
       "  <tbody>\n",
       "    <tr>\n",
       "      <th>count</th>\n",
       "      <td>3770.000000</td>\n",
       "      <td>3401.000000</td>\n",
       "      <td>3001.000000</td>\n",
       "      <td>3539.000000</td>\n",
       "      <td>3383.000000</td>\n",
       "      <td>3385.000000</td>\n",
       "      <td>0.0</td>\n",
       "    </tr>\n",
       "    <tr>\n",
       "      <th>mean</th>\n",
       "      <td>51.628912</td>\n",
       "      <td>5.089258</td>\n",
       "      <td>2.013675</td>\n",
       "      <td>108.313309</td>\n",
       "      <td>0.995012</td>\n",
       "      <td>110.461064</td>\n",
       "      <td>NaN</td>\n",
       "    </tr>\n",
       "    <tr>\n",
       "      <th>std</th>\n",
       "      <td>18.982990</td>\n",
       "      <td>24.528465</td>\n",
       "      <td>0.827657</td>\n",
       "      <td>35.613396</td>\n",
       "      <td>0.195478</td>\n",
       "      <td>33.093651</td>\n",
       "      <td>NaN</td>\n",
       "    </tr>\n",
       "    <tr>\n",
       "      <th>min</th>\n",
       "      <td>1.000000</td>\n",
       "      <td>0.005000</td>\n",
       "      <td>0.050000</td>\n",
       "      <td>2.000000</td>\n",
       "      <td>0.250000</td>\n",
       "      <td>2.000000</td>\n",
       "      <td>NaN</td>\n",
       "    </tr>\n",
       "    <tr>\n",
       "      <th>25%</th>\n",
       "      <td>36.000000</td>\n",
       "      <td>0.500000</td>\n",
       "      <td>1.600000</td>\n",
       "      <td>87.500000</td>\n",
       "      <td>0.880000</td>\n",
       "      <td>93.000000</td>\n",
       "      <td>NaN</td>\n",
       "    </tr>\n",
       "    <tr>\n",
       "      <th>50%</th>\n",
       "      <td>54.000000</td>\n",
       "      <td>1.400000</td>\n",
       "      <td>2.000000</td>\n",
       "      <td>103.000000</td>\n",
       "      <td>0.980000</td>\n",
       "      <td>107.000000</td>\n",
       "      <td>NaN</td>\n",
       "    </tr>\n",
       "    <tr>\n",
       "      <th>75%</th>\n",
       "      <td>67.000000</td>\n",
       "      <td>2.700000</td>\n",
       "      <td>2.400000</td>\n",
       "      <td>124.000000</td>\n",
       "      <td>1.080000</td>\n",
       "      <td>124.000000</td>\n",
       "      <td>NaN</td>\n",
       "    </tr>\n",
       "    <tr>\n",
       "      <th>max</th>\n",
       "      <td>94.000000</td>\n",
       "      <td>530.000000</td>\n",
       "      <td>10.600000</td>\n",
       "      <td>430.000000</td>\n",
       "      <td>2.320000</td>\n",
       "      <td>395.000000</td>\n",
       "      <td>NaN</td>\n",
       "    </tr>\n",
       "  </tbody>\n",
       "</table>\n",
       "</div>"
      ],
      "text/plain": [
       "               age          TSH           T3          TT4          T4U  \\\n",
       "count  3770.000000  3401.000000  3001.000000  3539.000000  3383.000000   \n",
       "mean     51.628912     5.089258     2.013675   108.313309     0.995012   \n",
       "std      18.982990    24.528465     0.827657    35.613396     0.195478   \n",
       "min       1.000000     0.005000     0.050000     2.000000     0.250000   \n",
       "25%      36.000000     0.500000     1.600000    87.500000     0.880000   \n",
       "50%      54.000000     1.400000     2.000000   103.000000     0.980000   \n",
       "75%      67.000000     2.700000     2.400000   124.000000     1.080000   \n",
       "max      94.000000   530.000000    10.600000   430.000000     2.320000   \n",
       "\n",
       "               FTI  TBG  \n",
       "count  3385.000000  0.0  \n",
       "mean    110.461064  NaN  \n",
       "std      33.093651  NaN  \n",
       "min       2.000000  NaN  \n",
       "25%      93.000000  NaN  \n",
       "50%     107.000000  NaN  \n",
       "75%     124.000000  NaN  \n",
       "max     395.000000  NaN  "
      ]
     },
     "execution_count": 22,
     "metadata": {},
     "output_type": "execute_result"
    }
   ],
   "source": [
    "data2 = data[data[\"age\"]<455]\n",
    "data2.describe()"
   ]
  },
  {
   "cell_type": "markdown",
   "metadata": {
    "colab_type": "text",
    "id": "4g8r_k1mhsaC"
   },
   "source": [
    "Bez wartości 455, maksymalny wiek jest realny do osiągnięcia, zobaczmy wykres tego\n",
    "\n",
    "Uwaga: data2 nie zawiera wartości wieku powyżej 94 - używany do wykresów!\n"
   ]
  },
  {
   "cell_type": "code",
   "execution_count": 23,
   "metadata": {
    "colab": {
     "base_uri": "https://localhost:8080/",
     "height": 312
    },
    "colab_type": "code",
    "id": "yZaSSHZ1YbcM",
    "outputId": "82fbbdc4-4cd6-478a-ed1d-35ae91d23ba0"
   },
   "outputs": [
    {
     "data": {
      "text/plain": [
       "[Text(0.5, 0, 'Wiek')]"
      ]
     },
     "execution_count": 23,
     "metadata": {},
     "output_type": "execute_result"
    },
    {
     "data": {
      "image/png": "[encoded data removed]",
      "text/plain": [
       "<Figure size 432x288 with 1 Axes>"
      ]
     },
     "metadata": {
      "needs_background": "light"
     },
     "output_type": "display_data"
    }
   ],
   "source": [
    "age_dens = sns.distplot(data2.age, hist = True, color='red')\n",
    "age_dens.set_title('Rozkład wieku')\n",
    "age_dens.set(xlabel=\"Wiek\")"
   ]
  },
  {
   "cell_type": "markdown",
   "metadata": {
    "colab_type": "text",
    "id": "3JXPVr_jh-6b"
   },
   "source": [
    "Rozkład wieku sugeruje, iż przebadani zostali pacjenci prawie w każdym wieku, większa część ma około 50-70 lat, jednak niewiele mniej jest pacjentów w przedziale 25-40."
   ]
  },
  {
   "cell_type": "code",
   "execution_count": 24,
   "metadata": {
    "colab": {},
    "colab_type": "code",
    "id": "JBwuLMvSEliX"
   },
   "outputs": [],
   "source": [
    "female = data2[data2.sex==\"F\"]\n",
    "female_age=female[\"age\"]\n",
    "male = data2[data2.sex==\"M\"]\n",
    "male_age = male[\"age\"]"
   ]
  },
  {
   "cell_type": "code",
   "execution_count": 25,
   "metadata": {
    "colab": {
     "base_uri": "https://localhost:8080/",
     "height": 281
    },
    "colab_type": "code",
    "id": "yOEouQU8ZJ2D",
    "outputId": "004fb3ee-8671-42b5-dce9-959d092c07bd"
   },
   "outputs": [
    {
     "data": {
      "image/png": "[encoded data removed]",
      "text/plain": [
       "<Figure size 432x288 with 1 Axes>"
      ]
     },
     "metadata": {
      "needs_background": "light"
     },
     "output_type": "display_data"
    }
   ],
   "source": [
    "plt.hist([female.age, male.age])\n",
    "plt.title(\"Histogram wieku z podziałem na płeć\")\n",
    "plt.show()\n",
    "#PP: Jak chcemy użyć tego wykresu w raporcie to trzeba coś zrobić osią, aby była czytelniejsza"
   ]
  },
  {
   "cell_type": "markdown",
   "metadata": {
    "colab_type": "text",
    "id": "VgPknWsQiVdb"
   },
   "source": [
    "Skoro pojawiła się dziwna wartość wieku to warto spojrzeć raz jeszcze na zbiór i sprawdzić czy w innych kolumnach nie ma takich zakłamań.\n"
   ]
  },
  {
   "cell_type": "code",
   "execution_count": 26,
   "metadata": {
    "colab": {
     "base_uri": "https://localhost:8080/",
     "height": 300
    },
    "colab_type": "code",
    "id": "NzEtUVNAY5Zs",
    "outputId": "b1996df3-342c-410f-c56c-38e4405fc609"
   },
   "outputs": [
    {
     "data": {
      "text/html": [
       "<div>\n",
       "<style scoped>\n",
       "    .dataframe tbody tr th:only-of-type {\n",
       "        vertical-align: middle;\n",
       "    }\n",
       "\n",
       "    .dataframe tbody tr th {\n",
       "        vertical-align: top;\n",
       "    }\n",
       "\n",
       "    .dataframe thead th {\n",
       "        text-align: right;\n",
       "    }\n",
       "</style>\n",
       "<table border=\"1\" class=\"dataframe\">\n",
       "  <thead>\n",
       "    <tr style=\"text-align: right;\">\n",
       "      <th></th>\n",
       "      <th>age</th>\n",
       "      <th>TSH</th>\n",
       "      <th>T3</th>\n",
       "      <th>TT4</th>\n",
       "      <th>T4U</th>\n",
       "      <th>FTI</th>\n",
       "      <th>TBG</th>\n",
       "    </tr>\n",
       "  </thead>\n",
       "  <tbody>\n",
       "    <tr>\n",
       "      <th>count</th>\n",
       "      <td>3771.000000</td>\n",
       "      <td>3403.000000</td>\n",
       "      <td>3003.000000</td>\n",
       "      <td>3541.000000</td>\n",
       "      <td>3385.000000</td>\n",
       "      <td>3387.000000</td>\n",
       "      <td>0.0</td>\n",
       "    </tr>\n",
       "    <tr>\n",
       "      <th>mean</th>\n",
       "      <td>51.735879</td>\n",
       "      <td>5.086766</td>\n",
       "      <td>2.013500</td>\n",
       "      <td>108.319345</td>\n",
       "      <td>0.995000</td>\n",
       "      <td>110.469649</td>\n",
       "      <td>NaN</td>\n",
       "    </tr>\n",
       "    <tr>\n",
       "      <th>std</th>\n",
       "      <td>20.084958</td>\n",
       "      <td>24.521470</td>\n",
       "      <td>0.827434</td>\n",
       "      <td>35.604248</td>\n",
       "      <td>0.195457</td>\n",
       "      <td>33.089698</td>\n",
       "      <td>NaN</td>\n",
       "    </tr>\n",
       "    <tr>\n",
       "      <th>min</th>\n",
       "      <td>1.000000</td>\n",
       "      <td>0.005000</td>\n",
       "      <td>0.050000</td>\n",
       "      <td>2.000000</td>\n",
       "      <td>0.250000</td>\n",
       "      <td>2.000000</td>\n",
       "      <td>NaN</td>\n",
       "    </tr>\n",
       "    <tr>\n",
       "      <th>25%</th>\n",
       "      <td>36.000000</td>\n",
       "      <td>0.500000</td>\n",
       "      <td>1.600000</td>\n",
       "      <td>88.000000</td>\n",
       "      <td>0.880000</td>\n",
       "      <td>93.000000</td>\n",
       "      <td>NaN</td>\n",
       "    </tr>\n",
       "    <tr>\n",
       "      <th>50%</th>\n",
       "      <td>54.000000</td>\n",
       "      <td>1.400000</td>\n",
       "      <td>2.000000</td>\n",
       "      <td>103.000000</td>\n",
       "      <td>0.980000</td>\n",
       "      <td>107.000000</td>\n",
       "      <td>NaN</td>\n",
       "    </tr>\n",
       "    <tr>\n",
       "      <th>75%</th>\n",
       "      <td>67.000000</td>\n",
       "      <td>2.700000</td>\n",
       "      <td>2.400000</td>\n",
       "      <td>124.000000</td>\n",
       "      <td>1.080000</td>\n",
       "      <td>124.000000</td>\n",
       "      <td>NaN</td>\n",
       "    </tr>\n",
       "    <tr>\n",
       "      <th>max</th>\n",
       "      <td>455.000000</td>\n",
       "      <td>530.000000</td>\n",
       "      <td>10.600000</td>\n",
       "      <td>430.000000</td>\n",
       "      <td>2.320000</td>\n",
       "      <td>395.000000</td>\n",
       "      <td>NaN</td>\n",
       "    </tr>\n",
       "  </tbody>\n",
       "</table>\n",
       "</div>"
      ],
      "text/plain": [
       "               age          TSH           T3          TT4          T4U  \\\n",
       "count  3771.000000  3403.000000  3003.000000  3541.000000  3385.000000   \n",
       "mean     51.735879     5.086766     2.013500   108.319345     0.995000   \n",
       "std      20.084958    24.521470     0.827434    35.604248     0.195457   \n",
       "min       1.000000     0.005000     0.050000     2.000000     0.250000   \n",
       "25%      36.000000     0.500000     1.600000    88.000000     0.880000   \n",
       "50%      54.000000     1.400000     2.000000   103.000000     0.980000   \n",
       "75%      67.000000     2.700000     2.400000   124.000000     1.080000   \n",
       "max     455.000000   530.000000    10.600000   430.000000     2.320000   \n",
       "\n",
       "               FTI  TBG  \n",
       "count  3387.000000  0.0  \n",
       "mean    110.469649  NaN  \n",
       "std      33.089698  NaN  \n",
       "min       2.000000  NaN  \n",
       "25%      93.000000  NaN  \n",
       "50%     107.000000  NaN  \n",
       "75%     124.000000  NaN  \n",
       "max     395.000000  NaN  "
      ]
     },
     "execution_count": 26,
     "metadata": {},
     "output_type": "execute_result"
    }
   ],
   "source": [
    "data.describe()"
   ]
  },
  {
   "cell_type": "markdown",
   "metadata": {
    "colab_type": "text",
    "id": "qa3K-obwiph9"
   },
   "source": [
    "Sprawdzanie wartości w kolumnach continous - trochę biologii:\n",
    "\n",
    "- TSH (tyreotropiny), wedle internetu norma wynosi od 0,32 do 4 albo 5 mIU/I (nie wliczając dzieci i kobiet w ciąży, u nich są inne), jednak możliwe są niskie jak i wysokie wartości, wedle internetu był mężczyzna co miał TSH około 400, więc ten hormon jest w normie\n",
    "\n",
    "- T3 (trijodotyronina) - wyrózniamy dwie: całkowitą i wolną. T3 całkowita (TT3) ma normę 1,3–3,1 nmol/l, a T3 wolna (FT3) ma normę 4,0–7,8 pmol/l, zakładamy, że w zbiorze może chodzić o wolne T3, bo przy całkowitym T4 jest podpisane dokładnie tym skrótem co dokładnie to oznacza\n",
    "\n",
    "- TT4 (tyroksyna) czyli T4 całkowita, norma 58–154 nmol/l\n",
    "\n",
    "**!!!!!! TSH pobudza tarczycę do produkcji T4 i T3, warto sprawdzić korelacje !!!!!!!!!!**\n",
    "\n",
    "- T4U - wykorzystanie tyroksyny przez organizm (eksploatacja, pobór)\n",
    "\n",
    "- FTI - wolny testosteron, wiarygodny indeks do oceniania stanu tarczycy, FTI = Thyroxine (T4)/Thyroid Binding Capacity\n",
    "\n",
    "- TBG - stężenie globuliny wiążącej tyroksynę, nie mamy danych, więc nie doszukujemy się więcej ilości informacji"
   ]
  },
  {
   "cell_type": "markdown",
   "metadata": {
    "colab_type": "text",
    "id": "rZw909NuVBP2"
   },
   "source": [
    "## Braki danych - znalezienie ich (bez jakiegokolwiek zastąpienia ich)"
   ]
  },
  {
   "cell_type": "markdown",
   "metadata": {
    "colab_type": "text",
    "id": "K7wKzL6zkBp6"
   },
   "source": [
    "Wiemy już, że hormony mogą mieć różne wartości, nawet abstrakcyjnie duże, więc załóżmy, że jest wszystko dobrze z danymi. W takim razie pora na przyjrzenie się brakom danych.\n"
   ]
  },
  {
   "cell_type": "code",
   "execution_count": 27,
   "metadata": {
    "colab": {
     "base_uri": "https://localhost:8080/",
     "height": 451
    },
    "colab_type": "code",
    "id": "oioaXoPyIK-m",
    "outputId": "304c1b11-1867-49f9-e483-170442821428"
   },
   "outputs": [
    {
     "data": {
      "text/plain": [
       "age                            0.03\n",
       "sex                            0.00\n",
       "on_thyroxine                   0.00\n",
       "query_on_thyroxine             0.00\n",
       "on_antithyroid_medication      0.00\n",
       "sick                           0.00\n",
       "pregnant                       0.00\n",
       "thyroid_surgery                0.00\n",
       "I131_treatment                 0.00\n",
       "query_hypothyroid              0.00\n",
       "query_hyperthyroid             0.00\n",
       "lithium                        0.00\n",
       "goitre                         0.00\n",
       "tumor                          0.00\n",
       "hypopituitary                  0.00\n",
       "psych                          0.00\n",
       "TSH                            9.78\n",
       "T3                            20.39\n",
       "TT4                            6.12\n",
       "T4U                           10.26\n",
       "FTI                           10.21\n",
       "TBG                          100.00\n",
       "referral_source                0.00\n",
       "Thyroid_disease                0.00\n",
       "dtype: float64"
      ]
     },
     "execution_count": 27,
     "metadata": {},
     "output_type": "execute_result"
    }
   ],
   "source": [
    "NA_ratio_columns = data.isnull().mean()\n",
    "NA_ratio_columns.round(4) * 100"
   ]
  },
  {
   "cell_type": "markdown",
   "metadata": {
    "colab_type": "text",
    "id": "JlxgTRS6kSgh"
   },
   "source": [
    "Tak jak powyżej mamy procenty brakujących danych w kolumnach, tak poniżej przedstawienie tego samego za pomocą liczby wartości brakujących."
   ]
  },
  {
   "cell_type": "code",
   "execution_count": 28,
   "metadata": {
    "colab": {
     "base_uri": "https://localhost:8080/",
     "height": 451
    },
    "colab_type": "code",
    "id": "fSuaqW5nYZWs",
    "outputId": "a53d9b37-f4dd-4dac-8e3e-97c56249bcdb"
   },
   "outputs": [
    {
     "data": {
      "text/plain": [
       "age                             1\n",
       "sex                             0\n",
       "on_thyroxine                    0\n",
       "query_on_thyroxine              0\n",
       "on_antithyroid_medication       0\n",
       "sick                            0\n",
       "pregnant                        0\n",
       "thyroid_surgery                 0\n",
       "I131_treatment                  0\n",
       "query_hypothyroid               0\n",
       "query_hyperthyroid              0\n",
       "lithium                         0\n",
       "goitre                          0\n",
       "tumor                           0\n",
       "hypopituitary                   0\n",
       "psych                           0\n",
       "TSH                           369\n",
       "T3                            769\n",
       "TT4                           231\n",
       "T4U                           387\n",
       "FTI                           385\n",
       "TBG                          3772\n",
       "referral_source                 0\n",
       "Thyroid_disease                 0\n",
       "dtype: int64"
      ]
     },
     "execution_count": 28,
     "metadata": {},
     "output_type": "execute_result"
    }
   ],
   "source": [
    "data.isnull().sum()"
   ]
  },
  {
   "cell_type": "code",
   "execution_count": 29,
   "metadata": {
    "colab": {},
    "colab_type": "code",
    "id": "cF3O39E1RCgR"
   },
   "outputs": [],
   "source": [
    "#wersja data bez braków danych przy age i bez kolumny TBG\n",
    "data2 = data2[data2.columns[NA_ratio_columns < 100]]\n",
    "#data2.isnull().mean()"
   ]
  },
  {
   "cell_type": "code",
   "execution_count": 30,
   "metadata": {
    "colab": {
     "base_uri": "https://localhost:8080/",
     "height": 34
    },
    "colab_type": "code",
    "id": "htfsKndTUqiS",
    "outputId": "f29953fc-bb9c-4360-be7a-3b45ea6a4280"
   },
   "outputs": [
    {
     "data": {
      "text/plain": [
       "150"
      ]
     },
     "execution_count": 30,
     "metadata": {},
     "output_type": "execute_result"
    }
   ],
   "source": [
    "data[data.sex == \"Missing\"].sex.count()"
   ]
  },
  {
   "cell_type": "markdown",
   "metadata": {
    "colab_type": "text",
    "id": "PEQKIqOsklk-"
   },
   "source": [
    "Podsumowanie:\n",
    "- kolumna age ma dwie wartości dziwne - NaN i 455, co zrobić z nimi? Sugestia to zamian obu na NaN i sprawdzenie kilku metod imputacji\n",
    "- kolumna sex ma 150 wartości NaN, tylko zostały zamienione na \"Missing\", uwaga przy pracy nad nimi!\n",
    "- TBG ma same NaN, propozycja to usunąć wraz odpowiadającą kolumną \"_measured\", nic z niego nie wyciągniemy\n",
    "- reszta wartości w porządku, NaN pojawiają się w wartościach continous, można uzupełnić (imputacja braków danych)\n",
    "- dwie kolumny o typach object, reszta bool albo float\n",
    "\n",
    "Komentarz: data (tzn. nasz zbiór danych sick) z usuniętymi brakami przy age i kolumną TBG to data2!!!"
   ]
  },
  {
   "cell_type": "markdown",
   "metadata": {
    "colab_type": "text",
    "id": "peJet5O2erFS"
   },
   "source": [
    "## Korelacje zmiennych i ich rozkłady"
   ]
  },
  {
   "cell_type": "markdown",
   "metadata": {
    "colab_type": "text",
    "id": "VeDFsILclHwP"
   },
   "source": [
    "Hormony mogą mieć jakieś korelacje, więc spójrzmy na nie. Dodatkowo przyjrzymy się rozkładom, gdyż mogą okazać się cieakwe."
   ]
  },
  {
   "cell_type": "code",
   "execution_count": 31,
   "metadata": {
    "colab": {
     "base_uri": "https://localhost:8080/",
     "height": 352
    },
    "colab_type": "code",
    "id": "OJo8wJH_UCHJ",
    "outputId": "9368b4a0-7831-4af9-cab9-6284900c989b"
   },
   "outputs": [
    {
     "data": {
      "image/png": "[encoded data removed]",
      "text/plain": [
       "<Figure size 432x288 with 2 Axes>"
      ]
     },
     "metadata": {
      "needs_background": "light"
     },
     "output_type": "display_data"
    }
   ],
   "source": [
    "correlation = data.iloc[:, np.r_[0, 16:21, 23]].corr()\n",
    "#Korelacja dla tylko zmiennych ciągłych + target (za dużo wszystkich zmiennych aby można było odczytać coś)\n",
    "ax=sns.heatmap(correlation, \n",
    "            xticklabels=correlation.columns,\n",
    "            yticklabels=correlation.columns, annot=True)\n",
    "bottom, top = ax.get_ylim()\n",
    "ax.set_ylim(bottom, top)\n",
    "ax.set_title('Korelacja zmiennych')\n",
    "plt.show()"
   ]
  },
  {
   "cell_type": "markdown",
   "metadata": {
    "colab_type": "text",
    "id": "oVIjyBtwlZj1"
   },
   "source": [
    "Przykładowe wnioski z wykresu korelacji:\n",
    "- wysoka korelacja zachodzi między TT4 a FTI, ale wiemy już dlaczego - wskaźnik FTI wylicza się z TT4\n",
    "- spadek T3 wpływa na niedoczynność tarczycy, w sumie to wszystkie hormony mają ujemną korelację, a wzrost wieku sprzyja chorobom tarczyc\n",
    "- TT4 i T3 mają dodatnią korelację i to całkiem dużą (ciekawa zależność między nimi a TSH, wszystkie są w jakiejś zależności od siebie - szczegóły w internecie)\n",
    "- T4U korelacja dodatnia, dość spora z powyższymi\n",
    "- powyższe dwa punkty, to hormony wytwarzane przez tarczyce, ich zależności mogły być do przewidzenia"
   ]
  },
  {
   "cell_type": "code",
   "execution_count": 32,
   "metadata": {
    "colab": {
     "base_uri": "https://localhost:8080/",
     "height": 686
    },
    "colab_type": "code",
    "id": "ynuXTYaOen2X",
    "outputId": "059baed7-4468-437b-b45f-0ca5567c9c0a"
   },
   "outputs": [
    {
     "data": {
      "image/png": "[encoded data removed]",
      "text/plain": [
       "<Figure size 1280x800 with 3 Axes>"
      ]
     },
     "metadata": {
      "needs_background": "light"
     },
     "output_type": "display_data"
    }
   ],
   "source": [
    "fig = plt.figure(figsize=(16, 10), dpi= 80)\n",
    "grid = plt.GridSpec(4, 4, hspace=0.5, wspace=0.2)\n",
    "ax_main = fig.add_subplot(grid[:-1, :-1])\n",
    "ax_right = fig.add_subplot(grid[:-1, -1], xticklabels=[], yticklabels=[])\n",
    "ax_bottom = fig.add_subplot(grid[-1, 0:-1], xticklabels=[], yticklabels=[])\n",
    "ax_main.scatter('TT4', 'TSH', alpha=.9, data=data, cmap=\"Set1\", edgecolors='black', linewidths=.5)\n",
    "sns.boxplot(data.TSH, ax=ax_right, orient=\"v\")\n",
    "sns.boxplot(data.TT4, ax=ax_bottom, orient=\"h\")\n",
    "ax_bottom.set(xlabel='')\n",
    "ax_right.set(ylabel='')\n",
    "ax_main.set(title='Wykres punktowy i histogramy \\n dla TT4 i TSH', xlabel='TT4', ylabel='TSH')\n",
    "ax_main.title.set_fontsize(20)\n",
    "for item in ([ax_main.xaxis.label, ax_main.yaxis.label] + ax_main.get_xticklabels() + ax_main.get_yticklabels()):\n",
    "    item.set_fontsize(10)\n",
    "plt.show()"
   ]
  },
  {
   "cell_type": "code",
   "execution_count": 33,
   "metadata": {
    "colab": {
     "base_uri": "https://localhost:8080/",
     "height": 386
    },
    "colab_type": "code",
    "id": "cZDkUYEdhknS",
    "outputId": "1149238f-46e4-4e90-fb4b-b4dfe20896af"
   },
   "outputs": [
    {
     "data": {
      "text/plain": [
       "<seaborn.axisgrid.FacetGrid at 0x7f8637627c18>"
      ]
     },
     "execution_count": 33,
     "metadata": {},
     "output_type": "execute_result"
    },
    {
     "data": {
      "image/png": "[encoded data removed]",
      "text/plain": [
       "<Figure size 360x360 with 1 Axes>"
      ]
     },
     "metadata": {
      "needs_background": "light"
     },
     "output_type": "display_data"
    }
   ],
   "source": [
    "sns.lmplot(x='TT4', y='T3', data=data)"
   ]
  },
  {
   "cell_type": "markdown",
   "metadata": {
    "colab_type": "text",
    "id": "OYBKgG2wl8ZE"
   },
   "source": [
    "Powyżej widzimy przykładowe wykresy zależności zmiennych. Największa korelacja zachodzi dla T3 i TT4, ale znamy tego powody - tarczyca produkuje je w będąc w podobnym stanie.\n",
    "\n",
    "Teraz kilka wykresów dla hormonów w zależności od płci pacjenta."
   ]
  },
  {
   "cell_type": "code",
   "execution_count": 34,
   "metadata": {
    "colab": {
     "base_uri": "https://localhost:8080/",
     "height": 313
    },
    "colab_type": "code",
    "id": "eJftSbGodjPV",
    "outputId": "14f74bc2-1a34-4562-9c0a-3938feb34213"
   },
   "outputs": [
    {
     "data": {
      "text/plain": [
       "<matplotlib.axes._subplots.AxesSubplot at 0x7f863740f2b0>"
      ]
     },
     "execution_count": 34,
     "metadata": {},
     "output_type": "execute_result"
    },
    {
     "data": {
      "image/png": "[encoded data removed]",
      "text/plain": [
       "<Figure size 432x288 with 1 Axes>"
      ]
     },
     "metadata": {
      "needs_background": "light"
     },
     "output_type": "display_data"
    }
   ],
   "source": [
    "plot = sns.boxplot(data.sex, data.TSH)\n",
    "plot.set_title('Zależność pomiędzy płcią a poziomem TSH')\n",
    "plot.set(xticklabels=[\"kobiety\",\"mężczyźni\",\"brak danych o płci\"], yscale=\"log\")\n",
    "plot"
   ]
  },
  {
   "cell_type": "markdown",
   "metadata": {
    "colab_type": "text",
    "id": "UXZi0u-XhE6K"
   },
   "source": [
    "Skalowanie logarytmiczne dodane z powodu dużego zróżnicowania poziomu TSH (zazwyczaj jest on bardzo niski, ale zdarzają się wyniki ok.400).\n",
    "Rozkład dosyć podobny niezależnie od płci. Wydaje się, że kobiety mają częściej wyższy poziom ale może to wynikać z faktu że więcej kobiet było badanych. \n",
    "\n"
   ]
  },
  {
   "cell_type": "code",
   "execution_count": 35,
   "metadata": {
    "colab": {},
    "colab_type": "code",
    "id": "6neJibXDmQ_u"
   },
   "outputs": [],
   "source": [
    "def hormons_and_sex_boxplot(hormon, name):\n",
    "  # hormon oznacza kolumnę w data z hormonem, który nas interesuje, a name to jego nazwa (string)\n",
    "  plot = sns.boxplot(data.sex, hormon)\n",
    "  plot.set_title('Zależność pomiędzy płcią a poziomem ' + name)\n",
    "  plot.set(xticklabels=[\"kobiety\",\"mężczyźni\",\"brak danych o płci\"])\n",
    "  return plot"
   ]
  },
  {
   "cell_type": "code",
   "execution_count": 36,
   "metadata": {
    "colab": {
     "base_uri": "https://localhost:8080/",
     "height": 313
    },
    "colab_type": "code",
    "id": "8Ye9R17fht3M",
    "outputId": "3d60a8dc-e9d0-4b25-caf5-e2823047cf37"
   },
   "outputs": [
    {
     "data": {
      "text/plain": [
       "<matplotlib.axes._subplots.AxesSubplot at 0x7f8637333ef0>"
      ]
     },
     "execution_count": 36,
     "metadata": {},
     "output_type": "execute_result"
    },
    {
     "data": {
      "image/png": "[encoded data removed]",
      "text/plain": [
       "<Figure size 432x288 with 1 Axes>"
      ]
     },
     "metadata": {
      "needs_background": "light"
     },
     "output_type": "display_data"
    }
   ],
   "source": [
    "#Ciekawe jak to się ma wobec testosteronu:\n",
    "hormons_and_sex_boxplot(data.FTI, \"FTI\")"
   ]
  },
  {
   "cell_type": "code",
   "execution_count": 37,
   "metadata": {
    "colab": {
     "base_uri": "https://localhost:8080/",
     "height": 313
    },
    "colab_type": "code",
    "id": "KyIf7yEmrl_7",
    "outputId": "0bbec0bb-8617-4352-a133-f6985d5c911d"
   },
   "outputs": [
    {
     "data": {
      "text/plain": [
       "<matplotlib.axes._subplots.AxesSubplot at 0x7f863719a240>"
      ]
     },
     "execution_count": 37,
     "metadata": {},
     "output_type": "execute_result"
    },
    {
     "data": {
      "image/png": "[encoded data removed]",
      "text/plain": [
       "<Figure size 432x288 with 1 Axes>"
      ]
     },
     "metadata": {
      "needs_background": "light"
     },
     "output_type": "display_data"
    }
   ],
   "source": [
    "hormons_and_sex_boxplot(data.T3, \"T3\")"
   ]
  },
  {
   "cell_type": "code",
   "execution_count": 38,
   "metadata": {
    "colab": {
     "base_uri": "https://localhost:8080/",
     "height": 313
    },
    "colab_type": "code",
    "id": "D_SeWeHD7ktq",
    "outputId": "6d2def54-a140-4e18-d160-f95fa1e0a40d"
   },
   "outputs": [
    {
     "data": {
      "text/plain": [
       "<matplotlib.axes._subplots.AxesSubplot at 0x7f863738e320>"
      ]
     },
     "execution_count": 38,
     "metadata": {},
     "output_type": "execute_result"
    },
    {
     "data": {
      "image/png": "[encoded data removed]",
      "text/plain": [
       "<Figure size 432x288 with 1 Axes>"
      ]
     },
     "metadata": {
      "needs_background": "light"
     },
     "output_type": "display_data"
    }
   ],
   "source": [
    "hormons_and_sex_boxplot(data.T4U, \"T4U\")"
   ]
  },
  {
   "cell_type": "code",
   "execution_count": 39,
   "metadata": {
    "colab": {
     "base_uri": "https://localhost:8080/",
     "height": 313
    },
    "colab_type": "code",
    "id": "qT9vi1UN7yIa",
    "outputId": "7ee99b15-fb78-4b61-c762-a55b063be56f"
   },
   "outputs": [
    {
     "data": {
      "text/plain": [
       "<matplotlib.axes._subplots.AxesSubplot at 0x7f8637202080>"
      ]
     },
     "execution_count": 39,
     "metadata": {},
     "output_type": "execute_result"
    },
    {
     "data": {
      "image/png": "[encoded data removed]",
      "text/plain": [
       "<Figure size 432x288 with 1 Axes>"
      ]
     },
     "metadata": {
      "needs_background": "light"
     },
     "output_type": "display_data"
    }
   ],
   "source": [
    "hormons_and_sex_boxplot(data.TT4, \"TT4\")"
   ]
  },
  {
   "cell_type": "markdown",
   "metadata": {
    "colab_type": "text",
    "id": "x6TBwhz9oman"
   },
   "source": [
    "Wydaje się, że na poziom większości hormonów na płeć nie ma większego wpływu. A przynajmniej trudno coś z tego wywnioskować."
   ]
  },
  {
   "cell_type": "code",
   "execution_count": 40,
   "metadata": {
    "colab": {
     "base_uri": "https://localhost:8080/",
     "height": 281
    },
    "colab_type": "code",
    "id": "cUeLtBlImeMa",
    "outputId": "29e3b9a9-6345-4723-febe-5af9e830f863"
   },
   "outputs": [
    {
     "data": {
      "image/png": "[encoded data removed]",
      "text/plain": [
       "<Figure size 432x288 with 1 Axes>"
      ]
     },
     "metadata": {
      "needs_background": "light"
     },
     "output_type": "display_data"
    }
   ],
   "source": [
    "TSH_log = np.log1p(data.TSH)\n",
    "TSH_log = TSH_log[~np.isnan(TSH_log)]\n",
    "plt.hist(TSH_log, bins = 80)\n",
    "plt.title(\"Rozkład logarytmu wartości TSH\")\n",
    "plt.show()"
   ]
  },
  {
   "cell_type": "markdown",
   "metadata": {
    "colab_type": "text",
    "id": "Vm-ug_rLo4dK"
   },
   "source": [
    "Rozkład TSH ma bardzo dużo wpisów o niskich wartościach. Dodatkowo długi ogon określa jak bardzo ludzie mogą mieć podwyższone TSH."
   ]
  },
  {
   "cell_type": "markdown",
   "metadata": {
    "colab_type": "text",
    "id": "oOfF6KTHtGHH"
   },
   "source": [
    "# Etap II - inżynieria cech i modelowanie\n",
    "\n",
    "\n"
   ]
  },
  {
   "cell_type": "code",
   "execution_count": 41,
   "metadata": {
    "colab": {
     "base_uri": "https://localhost:8080/",
     "height": 278
    },
    "colab_type": "code",
    "id": "tDwB_1x8mvco",
    "outputId": "07547f64-47d8-4000-9cd2-835bfb714ea4"
   },
   "outputs": [],
   "source": [
    "#instalacja pakietu do encodingu\n",
    "#! pip install category_encoders\n",
    "import category_encoders as ce"
   ]
  },
  {
   "cell_type": "markdown",
   "metadata": {
    "colab_type": "text",
    "id": "gn3kyQ1opzwh"
   },
   "source": [
    "Jak wcześniej wspominaliśmy - zamienimy wartości True/False na 0/1. Dodatkowo skoro kolumna TBG jest całkowicie pusta to usuniemy ją."
   ]
  },
  {
   "cell_type": "code",
   "execution_count": 42,
   "metadata": {
    "colab": {
     "base_uri": "https://localhost:8080/",
     "height": 289
    },
    "colab_type": "code",
    "id": "9P3S57OSeGud",
    "outputId": "3bd25413-aa59-438f-95ea-1b1b8eaf8046"
   },
   "outputs": [
    {
     "data": {
      "text/html": [
       "<div>\n",
       "<style scoped>\n",
       "    .dataframe tbody tr th:only-of-type {\n",
       "        vertical-align: middle;\n",
       "    }\n",
       "\n",
       "    .dataframe tbody tr th {\n",
       "        vertical-align: top;\n",
       "    }\n",
       "\n",
       "    .dataframe thead th {\n",
       "        text-align: right;\n",
       "    }\n",
       "</style>\n",
       "<table border=\"1\" class=\"dataframe\">\n",
       "  <thead>\n",
       "    <tr style=\"text-align: right;\">\n",
       "      <th></th>\n",
       "      <th>age</th>\n",
       "      <th>sex</th>\n",
       "      <th>on_thyroxine</th>\n",
       "      <th>query_on_thyroxine</th>\n",
       "      <th>on_antithyroid_medication</th>\n",
       "      <th>sick</th>\n",
       "      <th>pregnant</th>\n",
       "      <th>thyroid_surgery</th>\n",
       "      <th>I131_treatment</th>\n",
       "      <th>query_hypothyroid</th>\n",
       "      <th>...</th>\n",
       "      <th>tumor</th>\n",
       "      <th>hypopituitary</th>\n",
       "      <th>psych</th>\n",
       "      <th>TSH</th>\n",
       "      <th>T3</th>\n",
       "      <th>TT4</th>\n",
       "      <th>T4U</th>\n",
       "      <th>FTI</th>\n",
       "      <th>referral_source</th>\n",
       "      <th>Thyroid_disease</th>\n",
       "    </tr>\n",
       "  </thead>\n",
       "  <tbody>\n",
       "    <tr>\n",
       "      <th>0</th>\n",
       "      <td>41.0</td>\n",
       "      <td>F</td>\n",
       "      <td>0</td>\n",
       "      <td>0</td>\n",
       "      <td>0</td>\n",
       "      <td>0</td>\n",
       "      <td>0</td>\n",
       "      <td>0</td>\n",
       "      <td>0</td>\n",
       "      <td>0</td>\n",
       "      <td>...</td>\n",
       "      <td>0</td>\n",
       "      <td>0</td>\n",
       "      <td>0</td>\n",
       "      <td>1.30</td>\n",
       "      <td>2.5</td>\n",
       "      <td>125.0</td>\n",
       "      <td>1.14</td>\n",
       "      <td>109.0</td>\n",
       "      <td>SVHC</td>\n",
       "      <td>False</td>\n",
       "    </tr>\n",
       "    <tr>\n",
       "      <th>1</th>\n",
       "      <td>23.0</td>\n",
       "      <td>F</td>\n",
       "      <td>0</td>\n",
       "      <td>0</td>\n",
       "      <td>0</td>\n",
       "      <td>0</td>\n",
       "      <td>0</td>\n",
       "      <td>0</td>\n",
       "      <td>0</td>\n",
       "      <td>0</td>\n",
       "      <td>...</td>\n",
       "      <td>0</td>\n",
       "      <td>0</td>\n",
       "      <td>0</td>\n",
       "      <td>4.10</td>\n",
       "      <td>2.0</td>\n",
       "      <td>102.0</td>\n",
       "      <td>NaN</td>\n",
       "      <td>NaN</td>\n",
       "      <td>other</td>\n",
       "      <td>False</td>\n",
       "    </tr>\n",
       "    <tr>\n",
       "      <th>2</th>\n",
       "      <td>46.0</td>\n",
       "      <td>M</td>\n",
       "      <td>0</td>\n",
       "      <td>0</td>\n",
       "      <td>0</td>\n",
       "      <td>0</td>\n",
       "      <td>0</td>\n",
       "      <td>0</td>\n",
       "      <td>0</td>\n",
       "      <td>0</td>\n",
       "      <td>...</td>\n",
       "      <td>0</td>\n",
       "      <td>0</td>\n",
       "      <td>0</td>\n",
       "      <td>0.98</td>\n",
       "      <td>NaN</td>\n",
       "      <td>109.0</td>\n",
       "      <td>0.91</td>\n",
       "      <td>120.0</td>\n",
       "      <td>other</td>\n",
       "      <td>False</td>\n",
       "    </tr>\n",
       "    <tr>\n",
       "      <th>3</th>\n",
       "      <td>70.0</td>\n",
       "      <td>F</td>\n",
       "      <td>1</td>\n",
       "      <td>0</td>\n",
       "      <td>0</td>\n",
       "      <td>0</td>\n",
       "      <td>0</td>\n",
       "      <td>0</td>\n",
       "      <td>0</td>\n",
       "      <td>0</td>\n",
       "      <td>...</td>\n",
       "      <td>0</td>\n",
       "      <td>0</td>\n",
       "      <td>0</td>\n",
       "      <td>0.16</td>\n",
       "      <td>1.9</td>\n",
       "      <td>175.0</td>\n",
       "      <td>NaN</td>\n",
       "      <td>NaN</td>\n",
       "      <td>other</td>\n",
       "      <td>False</td>\n",
       "    </tr>\n",
       "    <tr>\n",
       "      <th>4</th>\n",
       "      <td>70.0</td>\n",
       "      <td>F</td>\n",
       "      <td>0</td>\n",
       "      <td>0</td>\n",
       "      <td>0</td>\n",
       "      <td>0</td>\n",
       "      <td>0</td>\n",
       "      <td>0</td>\n",
       "      <td>0</td>\n",
       "      <td>0</td>\n",
       "      <td>...</td>\n",
       "      <td>0</td>\n",
       "      <td>0</td>\n",
       "      <td>0</td>\n",
       "      <td>0.72</td>\n",
       "      <td>1.2</td>\n",
       "      <td>61.0</td>\n",
       "      <td>0.87</td>\n",
       "      <td>70.0</td>\n",
       "      <td>SVI</td>\n",
       "      <td>False</td>\n",
       "    </tr>\n",
       "    <tr>\n",
       "      <th>5</th>\n",
       "      <td>18.0</td>\n",
       "      <td>F</td>\n",
       "      <td>1</td>\n",
       "      <td>0</td>\n",
       "      <td>0</td>\n",
       "      <td>0</td>\n",
       "      <td>0</td>\n",
       "      <td>0</td>\n",
       "      <td>0</td>\n",
       "      <td>0</td>\n",
       "      <td>...</td>\n",
       "      <td>0</td>\n",
       "      <td>0</td>\n",
       "      <td>0</td>\n",
       "      <td>0.03</td>\n",
       "      <td>NaN</td>\n",
       "      <td>183.0</td>\n",
       "      <td>1.30</td>\n",
       "      <td>141.0</td>\n",
       "      <td>other</td>\n",
       "      <td>False</td>\n",
       "    </tr>\n",
       "    <tr>\n",
       "      <th>6</th>\n",
       "      <td>59.0</td>\n",
       "      <td>F</td>\n",
       "      <td>0</td>\n",
       "      <td>0</td>\n",
       "      <td>0</td>\n",
       "      <td>0</td>\n",
       "      <td>0</td>\n",
       "      <td>0</td>\n",
       "      <td>0</td>\n",
       "      <td>0</td>\n",
       "      <td>...</td>\n",
       "      <td>0</td>\n",
       "      <td>0</td>\n",
       "      <td>0</td>\n",
       "      <td>NaN</td>\n",
       "      <td>NaN</td>\n",
       "      <td>72.0</td>\n",
       "      <td>0.92</td>\n",
       "      <td>78.0</td>\n",
       "      <td>other</td>\n",
       "      <td>False</td>\n",
       "    </tr>\n",
       "  </tbody>\n",
       "</table>\n",
       "<p>7 rows × 23 columns</p>\n",
       "</div>"
      ],
      "text/plain": [
       "    age sex  on_thyroxine  query_on_thyroxine  on_antithyroid_medication  \\\n",
       "0  41.0   F             0                   0                          0   \n",
       "1  23.0   F             0                   0                          0   \n",
       "2  46.0   M             0                   0                          0   \n",
       "3  70.0   F             1                   0                          0   \n",
       "4  70.0   F             0                   0                          0   \n",
       "5  18.0   F             1                   0                          0   \n",
       "6  59.0   F             0                   0                          0   \n",
       "\n",
       "   sick  pregnant  thyroid_surgery  I131_treatment  query_hypothyroid  ...  \\\n",
       "0     0         0                0               0                  0  ...   \n",
       "1     0         0                0               0                  0  ...   \n",
       "2     0         0                0               0                  0  ...   \n",
       "3     0         0                0               0                  0  ...   \n",
       "4     0         0                0               0                  0  ...   \n",
       "5     0         0                0               0                  0  ...   \n",
       "6     0         0                0               0                  0  ...   \n",
       "\n",
       "   tumor  hypopituitary  psych   TSH   T3    TT4   T4U    FTI  \\\n",
       "0      0              0      0  1.30  2.5  125.0  1.14  109.0   \n",
       "1      0              0      0  4.10  2.0  102.0   NaN    NaN   \n",
       "2      0              0      0  0.98  NaN  109.0  0.91  120.0   \n",
       "3      0              0      0  0.16  1.9  175.0   NaN    NaN   \n",
       "4      0              0      0  0.72  1.2   61.0  0.87   70.0   \n",
       "5      0              0      0  0.03  NaN  183.0  1.30  141.0   \n",
       "6      0              0      0   NaN  NaN   72.0  0.92   78.0   \n",
       "\n",
       "   referral_source  Thyroid_disease  \n",
       "0             SVHC            False  \n",
       "1            other            False  \n",
       "2            other            False  \n",
       "3            other            False  \n",
       "4              SVI            False  \n",
       "5            other            False  \n",
       "6            other            False  \n",
       "\n",
       "[7 rows x 23 columns]"
      ]
     },
     "execution_count": 42,
     "metadata": {},
     "output_type": "execute_result"
    }
   ],
   "source": [
    "data.iloc[:,2:16] = data.iloc[:,2:16].astype(int) #zamiana boolean na 0/1\n",
    "data.drop('TBG', axis=1, inplace=True) #usunięcie TBG\n",
    "data.head(7)"
   ]
  },
  {
   "cell_type": "markdown",
   "metadata": {
    "colab_type": "text",
    "id": "_v7QCtbebnTD"
   },
   "source": [
    "Przywróćmy kolumny \"_measured\", które mogą być jeszcze przydatne."
   ]
  },
  {
   "cell_type": "code",
   "execution_count": 43,
   "metadata": {
    "colab": {
     "base_uri": "https://localhost:8080/",
     "height": 226
    },
    "colab_type": "code",
    "id": "0fgqmh4nX87I",
    "outputId": "cc2d52bb-f4f3-4f09-e35d-aa86e619338b"
   },
   "outputs": [
    {
     "data": {
      "text/html": [
       "<div>\n",
       "<style scoped>\n",
       "    .dataframe tbody tr th:only-of-type {\n",
       "        vertical-align: middle;\n",
       "    }\n",
       "\n",
       "    .dataframe tbody tr th {\n",
       "        vertical-align: top;\n",
       "    }\n",
       "\n",
       "    .dataframe thead th {\n",
       "        text-align: right;\n",
       "    }\n",
       "</style>\n",
       "<table border=\"1\" class=\"dataframe\">\n",
       "  <thead>\n",
       "    <tr style=\"text-align: right;\">\n",
       "      <th></th>\n",
       "      <th>age</th>\n",
       "      <th>sex</th>\n",
       "      <th>on_thyroxine</th>\n",
       "      <th>query_on_thyroxine</th>\n",
       "      <th>on_antithyroid_medication</th>\n",
       "      <th>sick</th>\n",
       "      <th>pregnant</th>\n",
       "      <th>thyroid_surgery</th>\n",
       "      <th>I131_treatment</th>\n",
       "      <th>query_hypothyroid</th>\n",
       "      <th>...</th>\n",
       "      <th>T3_measured</th>\n",
       "      <th>T3</th>\n",
       "      <th>TT4_measured</th>\n",
       "      <th>TT4</th>\n",
       "      <th>T4U_measured</th>\n",
       "      <th>T4U</th>\n",
       "      <th>FTI_measured</th>\n",
       "      <th>FTI</th>\n",
       "      <th>referral_source</th>\n",
       "      <th>Thyroid_disease</th>\n",
       "    </tr>\n",
       "  </thead>\n",
       "  <tbody>\n",
       "    <tr>\n",
       "      <th>0</th>\n",
       "      <td>41.0</td>\n",
       "      <td>F</td>\n",
       "      <td>0</td>\n",
       "      <td>0</td>\n",
       "      <td>0</td>\n",
       "      <td>0</td>\n",
       "      <td>0</td>\n",
       "      <td>0</td>\n",
       "      <td>0</td>\n",
       "      <td>0</td>\n",
       "      <td>...</td>\n",
       "      <td>1</td>\n",
       "      <td>2.5</td>\n",
       "      <td>1</td>\n",
       "      <td>125.0</td>\n",
       "      <td>1</td>\n",
       "      <td>1.14</td>\n",
       "      <td>1</td>\n",
       "      <td>109.0</td>\n",
       "      <td>SVHC</td>\n",
       "      <td>False</td>\n",
       "    </tr>\n",
       "    <tr>\n",
       "      <th>1</th>\n",
       "      <td>23.0</td>\n",
       "      <td>F</td>\n",
       "      <td>0</td>\n",
       "      <td>0</td>\n",
       "      <td>0</td>\n",
       "      <td>0</td>\n",
       "      <td>0</td>\n",
       "      <td>0</td>\n",
       "      <td>0</td>\n",
       "      <td>0</td>\n",
       "      <td>...</td>\n",
       "      <td>1</td>\n",
       "      <td>2.0</td>\n",
       "      <td>1</td>\n",
       "      <td>102.0</td>\n",
       "      <td>0</td>\n",
       "      <td>NaN</td>\n",
       "      <td>0</td>\n",
       "      <td>NaN</td>\n",
       "      <td>other</td>\n",
       "      <td>False</td>\n",
       "    </tr>\n",
       "    <tr>\n",
       "      <th>2</th>\n",
       "      <td>46.0</td>\n",
       "      <td>M</td>\n",
       "      <td>0</td>\n",
       "      <td>0</td>\n",
       "      <td>0</td>\n",
       "      <td>0</td>\n",
       "      <td>0</td>\n",
       "      <td>0</td>\n",
       "      <td>0</td>\n",
       "      <td>0</td>\n",
       "      <td>...</td>\n",
       "      <td>0</td>\n",
       "      <td>NaN</td>\n",
       "      <td>1</td>\n",
       "      <td>109.0</td>\n",
       "      <td>1</td>\n",
       "      <td>0.91</td>\n",
       "      <td>1</td>\n",
       "      <td>120.0</td>\n",
       "      <td>other</td>\n",
       "      <td>False</td>\n",
       "    </tr>\n",
       "    <tr>\n",
       "      <th>3</th>\n",
       "      <td>70.0</td>\n",
       "      <td>F</td>\n",
       "      <td>1</td>\n",
       "      <td>0</td>\n",
       "      <td>0</td>\n",
       "      <td>0</td>\n",
       "      <td>0</td>\n",
       "      <td>0</td>\n",
       "      <td>0</td>\n",
       "      <td>0</td>\n",
       "      <td>...</td>\n",
       "      <td>1</td>\n",
       "      <td>1.9</td>\n",
       "      <td>1</td>\n",
       "      <td>175.0</td>\n",
       "      <td>0</td>\n",
       "      <td>NaN</td>\n",
       "      <td>0</td>\n",
       "      <td>NaN</td>\n",
       "      <td>other</td>\n",
       "      <td>False</td>\n",
       "    </tr>\n",
       "    <tr>\n",
       "      <th>4</th>\n",
       "      <td>70.0</td>\n",
       "      <td>F</td>\n",
       "      <td>0</td>\n",
       "      <td>0</td>\n",
       "      <td>0</td>\n",
       "      <td>0</td>\n",
       "      <td>0</td>\n",
       "      <td>0</td>\n",
       "      <td>0</td>\n",
       "      <td>0</td>\n",
       "      <td>...</td>\n",
       "      <td>1</td>\n",
       "      <td>1.2</td>\n",
       "      <td>1</td>\n",
       "      <td>61.0</td>\n",
       "      <td>1</td>\n",
       "      <td>0.87</td>\n",
       "      <td>1</td>\n",
       "      <td>70.0</td>\n",
       "      <td>SVI</td>\n",
       "      <td>False</td>\n",
       "    </tr>\n",
       "  </tbody>\n",
       "</table>\n",
       "<p>5 rows × 28 columns</p>\n",
       "</div>"
      ],
      "text/plain": [
       "    age sex  on_thyroxine  query_on_thyroxine  on_antithyroid_medication  \\\n",
       "0  41.0   F             0                   0                          0   \n",
       "1  23.0   F             0                   0                          0   \n",
       "2  46.0   M             0                   0                          0   \n",
       "3  70.0   F             1                   0                          0   \n",
       "4  70.0   F             0                   0                          0   \n",
       "\n",
       "   sick  pregnant  thyroid_surgery  I131_treatment  query_hypothyroid  ...  \\\n",
       "0     0         0                0               0                  0  ...   \n",
       "1     0         0                0               0                  0  ...   \n",
       "2     0         0                0               0                  0  ...   \n",
       "3     0         0                0               0                  0  ...   \n",
       "4     0         0                0               0                  0  ...   \n",
       "\n",
       "   T3_measured   T3  TT4_measured    TT4  T4U_measured   T4U  FTI_measured  \\\n",
       "0            1  2.5             1  125.0             1  1.14             1   \n",
       "1            1  2.0             1  102.0             0   NaN             0   \n",
       "2            0  NaN             1  109.0             1  0.91             1   \n",
       "3            1  1.9             1  175.0             0   NaN             0   \n",
       "4            1  1.2             1   61.0             1  0.87             1   \n",
       "\n",
       "     FTI  referral_source  Thyroid_disease  \n",
       "0  109.0             SVHC            False  \n",
       "1    NaN            other            False  \n",
       "2  120.0            other            False  \n",
       "3    NaN            other            False  \n",
       "4   70.0              SVI            False  \n",
       "\n",
       "[5 rows x 28 columns]"
      ]
     },
     "execution_count": 43,
     "metadata": {},
     "output_type": "execute_result"
    }
   ],
   "source": [
    "data.insert(16, \"TSH_measured\", df.TSH_measured == \"t\", True) \n",
    "data.insert(18, \"T3_measured\", df.T3_measured == \"t\", True) \n",
    "data.insert(20, \"TT4_measured\", df.TT4_measured == \"t\", True) \n",
    "data.insert(22, \"T4U_measured\", df.T4U_measured == \"t\", True) \n",
    "data.insert(24, \"FTI_measured\", df.FTI_measured == \"t\", True) \n",
    "data.loc[:, [\"TSH_measured\", \"T3_measured\", \"TT4_measured\", \"T4U_measured\", \"FTI_measured\"]] = data.loc[:, [\"TSH_measured\", \"T3_measured\", \"TT4_measured\", \"T4U_measured\", \"FTI_measured\"]].astype(int)\n",
    "data.head()"
   ]
  },
  {
   "cell_type": "markdown",
   "metadata": {
    "colab_type": "text",
    "id": "HTEgn_c2rMTj"
   },
   "source": [
    "## Zbiór treningowy i testowy"
   ]
  },
  {
   "cell_type": "code",
   "execution_count": 44,
   "metadata": {
    "colab": {
     "base_uri": "https://localhost:8080/",
     "height": 590
    },
    "colab_type": "code",
    "id": "NIFXZzNvs1wn",
    "outputId": "06372b36-137e-4d8d-9db7-917e815bfe7c"
   },
   "outputs": [
    {
     "name": "stdout",
     "output_type": "stream",
     "text": [
      "<class 'pandas.core.frame.DataFrame'>\n",
      "RangeIndex: 3772 entries, 0 to 3771\n",
      "Data columns (total 28 columns):\n",
      " #   Column                     Non-Null Count  Dtype  \n",
      "---  ------                     --------------  -----  \n",
      " 0   age                        3771 non-null   float64\n",
      " 1   sex                        3772 non-null   object \n",
      " 2   on_thyroxine               3772 non-null   int64  \n",
      " 3   query_on_thyroxine         3772 non-null   int64  \n",
      " 4   on_antithyroid_medication  3772 non-null   int64  \n",
      " 5   sick                       3772 non-null   int64  \n",
      " 6   pregnant                   3772 non-null   int64  \n",
      " 7   thyroid_surgery            3772 non-null   int64  \n",
      " 8   I131_treatment             3772 non-null   int64  \n",
      " 9   query_hypothyroid          3772 non-null   int64  \n",
      " 10  query_hyperthyroid         3772 non-null   int64  \n",
      " 11  lithium                    3772 non-null   int64  \n",
      " 12  goitre                     3772 non-null   int64  \n",
      " 13  tumor                      3772 non-null   int64  \n",
      " 14  hypopituitary              3772 non-null   int64  \n",
      " 15  psych                      3772 non-null   int64  \n",
      " 16  TSH_measured               3772 non-null   int64  \n",
      " 17  TSH                        3403 non-null   float64\n",
      " 18  T3_measured                3772 non-null   int64  \n",
      " 19  T3                         3003 non-null   float64\n",
      " 20  TT4_measured               3772 non-null   int64  \n",
      " 21  TT4                        3541 non-null   float64\n",
      " 22  T4U_measured               3772 non-null   int64  \n",
      " 23  T4U                        3385 non-null   float64\n",
      " 24  FTI_measured               3772 non-null   int64  \n",
      " 25  FTI                        3387 non-null   float64\n",
      " 26  referral_source            3772 non-null   object \n",
      " 27  Thyroid_disease            3772 non-null   bool   \n",
      "dtypes: bool(1), float64(6), int64(19), object(2)\n",
      "memory usage: 799.5+ KB\n"
     ]
    }
   ],
   "source": [
    "data.info()"
   ]
  },
  {
   "cell_type": "markdown",
   "metadata": {
    "colab_type": "text",
    "id": "KnPXSk2VCCzq"
   },
   "source": [
    "I jak wyglądają braki danych w naszym zbiorze:\n",
    "\n"
   ]
  },
  {
   "cell_type": "code",
   "execution_count": 45,
   "metadata": {
    "colab": {
     "base_uri": "https://localhost:8080/",
     "height": 555
    },
    "colab_type": "code",
    "id": "gUzBec_OCF6q",
    "outputId": "92c928f4-99d1-4620-dfe6-9772d23cb340"
   },
   "outputs": [
    {
     "data": {
      "text/plain": [
       "<matplotlib.axes._subplots.AxesSubplot at 0x7f8636916080>"
      ]
     },
     "execution_count": 45,
     "metadata": {},
     "output_type": "execute_result"
    },
    {
     "data": {
      "image/png": "[encoded data removed]",
      "text/plain": [
       "<Figure size 1440x432 with 2 Axes>"
      ]
     },
     "metadata": {
      "needs_background": "light"
     },
     "output_type": "display_data"
    }
   ],
   "source": [
    "#!python3 -m pip install missingno\n",
    "import missingno as mno\n",
    "mno.matrix(data, figsize = (20, 6))"
   ]
  },
  {
   "cell_type": "markdown",
   "metadata": {
    "colab_type": "text",
    "id": "UJOtKBn1s8as"
   },
   "source": [
    "Zmienne kategoryczne do możliwego kodowania to: referral_source i sex. Dodatkowo zmienna opisująca (target do uczenia maszynowego) jest typu boolean - również zrzutujemy na 0/1.\n",
    "\n",
    "Na początek zajmiemy się podziałem zmiennych na zbiór treningowy i testowy, a następnie przejdziemy do kodowania zmiennych."
   ]
  },
  {
   "cell_type": "code",
   "execution_count": 46,
   "metadata": {
    "colab": {},
    "colab_type": "code",
    "id": "nRNHvA_DUR7y"
   },
   "outputs": [],
   "source": [
    "# dzielimy zbiór na dwie części - z i bez kolumny targetu\n",
    "y = np.array(data['Thyroid_disease'])\n",
    "y = y.astype(int)\n",
    "X = data.drop(['Thyroid_disease'],axis=1)\n",
    "\n",
    "# podział na zbiór treningowy i testowy\n",
    "from sklearn.model_selection import train_test_split\n",
    "data_train, data_test, target_train, target_test = train_test_split(X, y, test_size=0.2, random_state=123)"
   ]
  },
  {
   "cell_type": "code",
   "execution_count": 47,
   "metadata": {
    "colab": {},
    "colab_type": "code",
    "id": "0h8ZndGhAfUT"
   },
   "outputs": [],
   "source": [
    "data_train = data_train.reset_index(drop = True)\n",
    "data_test = data_test.reset_index(drop = True)\n"
   ]
  },
  {
   "cell_type": "markdown",
   "metadata": {
    "colab_type": "text",
    "id": "1cX9wvi6YJfD"
   },
   "source": [
    "Przyjrzyjmy się wymiarom powstałego podziału (poniżej). Mamy 27 kolumn (jak na razie, po encodingu może się coś zmienić) i podział na 3017 i 755 wierszy.\n",
    "\n",
    "Sprawdźmy, do której z grup wpadł wpis o pacjencie z dziwnym wiekiem."
   ]
  },
  {
   "cell_type": "code",
   "execution_count": 48,
   "metadata": {
    "colab": {
     "base_uri": "https://localhost:8080/",
     "height": 34
    },
    "colab_type": "code",
    "id": "eKPHoHx9YKL3",
    "outputId": "93b17f02-940d-4e51-82e1-814addaa3093"
   },
   "outputs": [
    {
     "name": "stdout",
     "output_type": "stream",
     "text": [
      "(3772, 27) (3017, 27) (755, 27)\n"
     ]
    }
   ],
   "source": [
    "print(X.shape,data_train.shape,data_test.shape)"
   ]
  },
  {
   "cell_type": "code",
   "execution_count": 49,
   "metadata": {
    "colab": {
     "base_uri": "https://localhost:8080/",
     "height": 101
    },
    "colab_type": "code",
    "id": "EgA2mOgmY0YS",
    "outputId": "cb929b9c-533a-48a6-ddfe-d95943cf78a1"
   },
   "outputs": [
    {
     "data": {
      "text/html": [
       "<div>\n",
       "<style scoped>\n",
       "    .dataframe tbody tr th:only-of-type {\n",
       "        vertical-align: middle;\n",
       "    }\n",
       "\n",
       "    .dataframe tbody tr th {\n",
       "        vertical-align: top;\n",
       "    }\n",
       "\n",
       "    .dataframe thead th {\n",
       "        text-align: right;\n",
       "    }\n",
       "</style>\n",
       "<table border=\"1\" class=\"dataframe\">\n",
       "  <thead>\n",
       "    <tr style=\"text-align: right;\">\n",
       "      <th></th>\n",
       "      <th>age</th>\n",
       "      <th>sex</th>\n",
       "      <th>on_thyroxine</th>\n",
       "      <th>query_on_thyroxine</th>\n",
       "      <th>on_antithyroid_medication</th>\n",
       "      <th>sick</th>\n",
       "      <th>pregnant</th>\n",
       "      <th>thyroid_surgery</th>\n",
       "      <th>I131_treatment</th>\n",
       "      <th>query_hypothyroid</th>\n",
       "      <th>...</th>\n",
       "      <th>TSH</th>\n",
       "      <th>T3_measured</th>\n",
       "      <th>T3</th>\n",
       "      <th>TT4_measured</th>\n",
       "      <th>TT4</th>\n",
       "      <th>T4U_measured</th>\n",
       "      <th>T4U</th>\n",
       "      <th>FTI_measured</th>\n",
       "      <th>FTI</th>\n",
       "      <th>referral_source</th>\n",
       "    </tr>\n",
       "  </thead>\n",
       "  <tbody>\n",
       "    <tr>\n",
       "      <th>1241</th>\n",
       "      <td>455.0</td>\n",
       "      <td>F</td>\n",
       "      <td>0</td>\n",
       "      <td>0</td>\n",
       "      <td>0</td>\n",
       "      <td>0</td>\n",
       "      <td>0</td>\n",
       "      <td>0</td>\n",
       "      <td>0</td>\n",
       "      <td>0</td>\n",
       "      <td>...</td>\n",
       "      <td>1.1</td>\n",
       "      <td>1</td>\n",
       "      <td>2.0</td>\n",
       "      <td>1</td>\n",
       "      <td>118.0</td>\n",
       "      <td>1</td>\n",
       "      <td>1.13</td>\n",
       "      <td>1</td>\n",
       "      <td>104.0</td>\n",
       "      <td>SVI</td>\n",
       "    </tr>\n",
       "  </tbody>\n",
       "</table>\n",
       "<p>1 rows × 27 columns</p>\n",
       "</div>"
      ],
      "text/plain": [
       "        age sex  on_thyroxine  query_on_thyroxine  on_antithyroid_medication  \\\n",
       "1241  455.0   F             0                   0                          0   \n",
       "\n",
       "      sick  pregnant  thyroid_surgery  I131_treatment  query_hypothyroid  ...  \\\n",
       "1241     0         0                0               0                  0  ...   \n",
       "\n",
       "      TSH  T3_measured   T3  TT4_measured    TT4  T4U_measured   T4U  \\\n",
       "1241  1.1            1  2.0             1  118.0             1  1.13   \n",
       "\n",
       "      FTI_measured    FTI  referral_source  \n",
       "1241             1  104.0              SVI  \n",
       "\n",
       "[1 rows x 27 columns]"
      ]
     },
     "execution_count": 49,
     "metadata": {},
     "output_type": "execute_result"
    }
   ],
   "source": [
    "data_train[data_train.age == 455]"
   ]
  },
  {
   "cell_type": "markdown",
   "metadata": {
    "colab_type": "text",
    "id": "WMyFwt7_ZOO5"
   },
   "source": [
    "Okazuje się, że ten wpis znajduje się w zbiorze treningowym - trzeba o tym pamiętać przy zamianie wartości tego wieku.\n",
    "\n",
    "\n",
    "Sprawdźmy jeszcze jak podzieliły się dane w targecie - nie są zbalansowane."
   ]
  },
  {
   "cell_type": "code",
   "execution_count": 50,
   "metadata": {
    "colab": {
     "base_uri": "https://localhost:8080/",
     "height": 86
    },
    "colab_type": "code",
    "id": "95nqE1nlZlEQ",
    "outputId": "04b1ff01-0528-43ff-f4f1-619acf47733c"
   },
   "outputs": [
    {
     "name": "stdout",
     "output_type": "stream",
     "text": [
      "[[   0 2832]\n",
      " [   1  185]]\n",
      "[[  0 709]\n",
      " [  1  46]]\n"
     ]
    }
   ],
   "source": [
    "def np_counts(X):\n",
    "  unique, counts = np.unique(X, return_counts=True)\n",
    "  print(np.asarray((unique, counts)).T)\n",
    "\n",
    "np_counts(target_train)\n",
    "np_counts(target_test)"
   ]
  },
  {
   "cell_type": "markdown",
   "metadata": {
    "colab_type": "text",
    "id": "shq_ReWnd2n8"
   },
   "source": [
    "Podział w obu przypadkach jest dość podobny, możemy założyć, że tak jest dobrze i przejść do kolejnych kroków."
   ]
  },
  {
   "cell_type": "markdown",
   "metadata": {
    "colab_type": "text",
    "id": "NmzWQY7STsQ3"
   },
   "source": [
    "## Encoding zmiennych kategorycznych"
   ]
  },
  {
   "cell_type": "markdown",
   "metadata": {
    "colab_type": "text",
    "id": "IWK1zX6ki77C"
   },
   "source": [
    "Przypomnijmy jak wygląda nasz zbiór na przykładzie data_train."
   ]
  },
  {
   "cell_type": "code",
   "execution_count": 51,
   "metadata": {
    "colab": {
     "base_uri": "https://localhost:8080/",
     "height": 226
    },
    "colab_type": "code",
    "id": "w7356DOJiq55",
    "outputId": "949a0604-1498-466e-c641-f03aba88670a"
   },
   "outputs": [
    {
     "data": {
      "text/html": [
       "<div>\n",
       "<style scoped>\n",
       "    .dataframe tbody tr th:only-of-type {\n",
       "        vertical-align: middle;\n",
       "    }\n",
       "\n",
       "    .dataframe tbody tr th {\n",
       "        vertical-align: top;\n",
       "    }\n",
       "\n",
       "    .dataframe thead th {\n",
       "        text-align: right;\n",
       "    }\n",
       "</style>\n",
       "<table border=\"1\" class=\"dataframe\">\n",
       "  <thead>\n",
       "    <tr style=\"text-align: right;\">\n",
       "      <th></th>\n",
       "      <th>age</th>\n",
       "      <th>sex</th>\n",
       "      <th>on_thyroxine</th>\n",
       "      <th>query_on_thyroxine</th>\n",
       "      <th>on_antithyroid_medication</th>\n",
       "      <th>sick</th>\n",
       "      <th>pregnant</th>\n",
       "      <th>thyroid_surgery</th>\n",
       "      <th>I131_treatment</th>\n",
       "      <th>query_hypothyroid</th>\n",
       "      <th>...</th>\n",
       "      <th>TSH</th>\n",
       "      <th>T3_measured</th>\n",
       "      <th>T3</th>\n",
       "      <th>TT4_measured</th>\n",
       "      <th>TT4</th>\n",
       "      <th>T4U_measured</th>\n",
       "      <th>T4U</th>\n",
       "      <th>FTI_measured</th>\n",
       "      <th>FTI</th>\n",
       "      <th>referral_source</th>\n",
       "    </tr>\n",
       "  </thead>\n",
       "  <tbody>\n",
       "    <tr>\n",
       "      <th>0</th>\n",
       "      <td>20.0</td>\n",
       "      <td>F</td>\n",
       "      <td>0</td>\n",
       "      <td>0</td>\n",
       "      <td>1</td>\n",
       "      <td>0</td>\n",
       "      <td>0</td>\n",
       "      <td>0</td>\n",
       "      <td>0</td>\n",
       "      <td>0</td>\n",
       "      <td>...</td>\n",
       "      <td>0.15</td>\n",
       "      <td>1</td>\n",
       "      <td>2.5</td>\n",
       "      <td>1</td>\n",
       "      <td>93.0</td>\n",
       "      <td>1</td>\n",
       "      <td>1.00</td>\n",
       "      <td>1</td>\n",
       "      <td>93.0</td>\n",
       "      <td>other</td>\n",
       "    </tr>\n",
       "    <tr>\n",
       "      <th>1</th>\n",
       "      <td>28.0</td>\n",
       "      <td>F</td>\n",
       "      <td>0</td>\n",
       "      <td>0</td>\n",
       "      <td>0</td>\n",
       "      <td>0</td>\n",
       "      <td>0</td>\n",
       "      <td>0</td>\n",
       "      <td>0</td>\n",
       "      <td>0</td>\n",
       "      <td>...</td>\n",
       "      <td>NaN</td>\n",
       "      <td>0</td>\n",
       "      <td>NaN</td>\n",
       "      <td>0</td>\n",
       "      <td>NaN</td>\n",
       "      <td>0</td>\n",
       "      <td>NaN</td>\n",
       "      <td>0</td>\n",
       "      <td>NaN</td>\n",
       "      <td>other</td>\n",
       "    </tr>\n",
       "    <tr>\n",
       "      <th>2</th>\n",
       "      <td>66.0</td>\n",
       "      <td>F</td>\n",
       "      <td>0</td>\n",
       "      <td>0</td>\n",
       "      <td>0</td>\n",
       "      <td>0</td>\n",
       "      <td>0</td>\n",
       "      <td>0</td>\n",
       "      <td>0</td>\n",
       "      <td>0</td>\n",
       "      <td>...</td>\n",
       "      <td>0.10</td>\n",
       "      <td>1</td>\n",
       "      <td>1.8</td>\n",
       "      <td>1</td>\n",
       "      <td>108.0</td>\n",
       "      <td>1</td>\n",
       "      <td>0.71</td>\n",
       "      <td>1</td>\n",
       "      <td>151.0</td>\n",
       "      <td>SVI</td>\n",
       "    </tr>\n",
       "    <tr>\n",
       "      <th>3</th>\n",
       "      <td>77.0</td>\n",
       "      <td>F</td>\n",
       "      <td>0</td>\n",
       "      <td>0</td>\n",
       "      <td>0</td>\n",
       "      <td>0</td>\n",
       "      <td>0</td>\n",
       "      <td>0</td>\n",
       "      <td>0</td>\n",
       "      <td>0</td>\n",
       "      <td>...</td>\n",
       "      <td>2.50</td>\n",
       "      <td>1</td>\n",
       "      <td>1.7</td>\n",
       "      <td>1</td>\n",
       "      <td>101.0</td>\n",
       "      <td>1</td>\n",
       "      <td>0.85</td>\n",
       "      <td>1</td>\n",
       "      <td>119.0</td>\n",
       "      <td>SVI</td>\n",
       "    </tr>\n",
       "    <tr>\n",
       "      <th>4</th>\n",
       "      <td>34.0</td>\n",
       "      <td>F</td>\n",
       "      <td>0</td>\n",
       "      <td>0</td>\n",
       "      <td>0</td>\n",
       "      <td>0</td>\n",
       "      <td>0</td>\n",
       "      <td>0</td>\n",
       "      <td>0</td>\n",
       "      <td>0</td>\n",
       "      <td>...</td>\n",
       "      <td>NaN</td>\n",
       "      <td>1</td>\n",
       "      <td>5.3</td>\n",
       "      <td>1</td>\n",
       "      <td>181.0</td>\n",
       "      <td>1</td>\n",
       "      <td>1.04</td>\n",
       "      <td>1</td>\n",
       "      <td>174.0</td>\n",
       "      <td>other</td>\n",
       "    </tr>\n",
       "  </tbody>\n",
       "</table>\n",
       "<p>5 rows × 27 columns</p>\n",
       "</div>"
      ],
      "text/plain": [
       "    age sex  on_thyroxine  query_on_thyroxine  on_antithyroid_medication  \\\n",
       "0  20.0   F             0                   0                          1   \n",
       "1  28.0   F             0                   0                          0   \n",
       "2  66.0   F             0                   0                          0   \n",
       "3  77.0   F             0                   0                          0   \n",
       "4  34.0   F             0                   0                          0   \n",
       "\n",
       "   sick  pregnant  thyroid_surgery  I131_treatment  query_hypothyroid  ...  \\\n",
       "0     0         0                0               0                  0  ...   \n",
       "1     0         0                0               0                  0  ...   \n",
       "2     0         0                0               0                  0  ...   \n",
       "3     0         0                0               0                  0  ...   \n",
       "4     0         0                0               0                  0  ...   \n",
       "\n",
       "    TSH  T3_measured   T3  TT4_measured    TT4  T4U_measured   T4U  \\\n",
       "0  0.15            1  2.5             1   93.0             1  1.00   \n",
       "1   NaN            0  NaN             0    NaN             0   NaN   \n",
       "2  0.10            1  1.8             1  108.0             1  0.71   \n",
       "3  2.50            1  1.7             1  101.0             1  0.85   \n",
       "4   NaN            1  5.3             1  181.0             1  1.04   \n",
       "\n",
       "   FTI_measured    FTI  referral_source  \n",
       "0             1   93.0            other  \n",
       "1             0    NaN            other  \n",
       "2             1  151.0              SVI  \n",
       "3             1  119.0              SVI  \n",
       "4             1  174.0            other  \n",
       "\n",
       "[5 rows x 27 columns]"
      ]
     },
     "execution_count": 51,
     "metadata": {},
     "output_type": "execute_result"
    }
   ],
   "source": [
    "data_train.head()"
   ]
  },
  {
   "cell_type": "markdown",
   "metadata": {
    "colab_type": "text",
    "id": "qDO-BHR6jDXy"
   },
   "source": [
    "Zajmiemy się kodowaniem referral_source i sex, wykorzystując różne rodzaje encodingu, aby móc potem je porównać.\n",
    "\n",
    "Poniżej funkcja ułatwiająca późniejsze kodowanie zmiennych."
   ]
  },
  {
   "cell_type": "code",
   "execution_count": 52,
   "metadata": {
    "colab": {},
    "colab_type": "code",
    "id": "045PVF86tmg6"
   },
   "outputs": [],
   "source": [
    "#funkcja wykorzystywana do kodowania zmiennych - posiada tylko kilka typów kodowania\n",
    "def encoding(type_encoding : str, data_val : str, df_train, df_test, data_target = None):\n",
    "\n",
    "    #type_encoding - skrót określający jaki typ kodowania wyboeramy\n",
    "    #data_val - nazwa kolumny, którą zamierzamy kodować\n",
    "    #data_target - wykorzystana przy m.in. TE do kodowania z targetem\n",
    "\n",
    "    if(type_encoding == 'te'):\n",
    "        en = ce.TargetEncoder(cols=[data_val], smoothing=0, return_df=True)\n",
    "    if(type_encoding == 'ohe'):\n",
    "        en = ce.OneHotEncoder(cols=[data_val], use_cat_names=True, return_df=True)\n",
    "    if(type_encoding == 'me'):\n",
    "        en = ce.MEstimateEncoder(cols=[data_val], return_df=True)\n",
    "    if(type_encoding == 'oe'):\n",
    "        en = ce.OrdinalEncoder(cols=[data_val], return_df=True)\n",
    "        \n",
    "    data_en_train = df_train.copy()\n",
    "    data_en_test = df_test.copy()\n",
    "    train_encoded = en.fit_transform(data_en_train, data_target)\n",
    "    test_encoded = en.transform(data_en_test)\n",
    "    \n",
    "    return train_encoded, test_encoded"
   ]
  },
  {
   "cell_type": "markdown",
   "metadata": {
    "colab_type": "text",
    "id": "dekpcd0SfkhK"
   },
   "source": [
    "### Zmienna sex\n"
   ]
  },
  {
   "cell_type": "markdown",
   "metadata": {
    "colab_type": "text",
    "id": "-L4LivBTgcx1"
   },
   "source": [
    "#### Kodowanie na 0,1,NaN\n",
    "\n",
    "Zmienną sex zakodujemy na 0,1 i wartości NaN, które potem uzupełnimy różnymi metodami.\n",
    "\n"
   ]
  },
  {
   "cell_type": "code",
   "execution_count": 53,
   "metadata": {
    "colab": {},
    "colab_type": "code",
    "id": "ZurYR14uiqSE"
   },
   "outputs": [],
   "source": [
    "# funkcja do mapowania zmiennej sex\n",
    "def sex_encoding(data):\n",
    "  df = data.copy()\n",
    "  df.sex = df.sex.map({\"M\":0,\"F\":1,\"Missing\":np.nan})\n",
    "  return df"
   ]
  },
  {
   "cell_type": "code",
   "execution_count": 54,
   "metadata": {
    "colab": {
     "base_uri": "https://localhost:8080/",
     "height": 225
    },
    "colab_type": "code",
    "id": "xw9m4kgo2TPU",
    "outputId": "485cc77c-8cc8-4120-a591-819dd605accc"
   },
   "outputs": [
    {
     "data": {
      "text/plain": [
       "0       1.0\n",
       "1       1.0\n",
       "2       1.0\n",
       "3       1.0\n",
       "4       1.0\n",
       "       ... \n",
       "3012    1.0\n",
       "3013    1.0\n",
       "3014    1.0\n",
       "3015    0.0\n",
       "3016    1.0\n",
       "Name: sex, Length: 3017, dtype: float64"
      ]
     },
     "execution_count": 54,
     "metadata": {},
     "output_type": "execute_result"
    }
   ],
   "source": [
    "data_train_sex_num = sex_encoding(data_train)\n",
    "data_test_sex_num = sex_encoding(data_test)\n",
    "data_train_sex_num.sex"
   ]
  },
  {
   "cell_type": "markdown",
   "metadata": {
    "colab_type": "text",
    "id": "4BDyfQL734hj"
   },
   "source": [
    "Kolumna sex jest teraz określona jako float, przez występowanie wartości NaN nie możemy przekonwertować na int, choć da się na Int64 - na razie pozostawimy ją jako float."
   ]
  },
  {
   "cell_type": "markdown",
   "metadata": {
    "colab_type": "text",
    "id": "amECS7NtH9x0"
   },
   "source": [
    "## IMPUTACJA ZMIENNEJ SEX WARTOŚCIAMI LOSOWYMI\n",
    "\n",
    "Chociaż imputacje będą dokonywane później, tę kolumnę uzupełnimy już teraz, bo wykorzystamy tylko jeden sposób uzupełnienia (nie skorzystamy z mody, gdyż kobiet i tak jest duża przewaga i podejrzewamy, że to byłaby niepoprawna metoda) i nie chcemy bezsensownie tworzyć większej ilości kodu (po zastosowaniu różnych metod kodowania będzie więcej zbiorów do edycji).\n",
    "Jako, że w zbiorze mamy więcej kobiet, wartość brakująca z większym prawdopodobieństwem będzie kobietą - dlatego losujemy wartość 1 z większym prawdopodobieństwem."
   ]
  },
  {
   "cell_type": "code",
   "execution_count": 55,
   "metadata": {
    "colab": {},
    "colab_type": "code",
    "id": "A3o9nshsLgD7"
   },
   "outputs": [],
   "source": [
    "import random\n",
    "p_f = len(data[data.sex==\"F\"])/len(data.loc[data.sex.isin([\"M\", \"F\"])].sex)\n",
    "p_m = 1-p_f\n",
    "def sex_imputation(data):\n",
    "    data.sex.fillna(np.random.choice([0.0, 1.0], p=[p_m, p_f]), inplace=True)\n",
    "    data.sex = data.sex.astype('int64')\n",
    "    return data\n",
    "\n",
    "data_test_sex_num = sex_imputation(data_test_sex_num)\n",
    "data_train_sex_num = sex_imputation(data_train_sex_num)"
   ]
  },
  {
   "cell_type": "markdown",
   "metadata": {
    "colab_type": "text",
    "id": "F2XZ4ekYOqHD"
   },
   "source": [
    "Zastąpiliśmy w losowy sposób te wartości, sprawdźmy, czy na pewno nie mamy braków danych w tej kolumnie:"
   ]
  },
  {
   "cell_type": "code",
   "execution_count": 56,
   "metadata": {
    "colab": {
     "base_uri": "https://localhost:8080/",
     "height": 34
    },
    "colab_type": "code",
    "id": "cjR900nmLDkz",
    "outputId": "dcf36ab6-7ea7-4373-b16e-f7c24e181467"
   },
   "outputs": [
    {
     "data": {
      "text/plain": [
       "False"
      ]
     },
     "execution_count": 56,
     "metadata": {},
     "output_type": "execute_result"
    }
   ],
   "source": [
    "data_train_sex_num.sex.isnull().any()"
   ]
  },
  {
   "cell_type": "markdown",
   "metadata": {
    "colab_type": "text",
    "id": "JwP-wmiG6x2L"
   },
   "source": [
    "#### Kodowanie z wykorzystaniem funkcji do encodingu\n",
    "\n",
    "W poprzednim przypadku zostawiliśmy NaN aby uzupełnić je np. losowo. Tutaj wprowadźmy kolejną kategorię płci - missing i zostawmy ją - zakodujemy to jedynie z wykorzystaniem Target Encoding (rozważany był także Ordinal Encoding)."
   ]
  },
  {
   "cell_type": "code",
   "execution_count": 57,
   "metadata": {
    "colab": {
     "base_uri": "https://localhost:8080/",
     "height": 86
    },
    "colab_type": "code",
    "id": "UAnVdZJf8YVL",
    "outputId": "dc7f962c-f10e-4bea-e6f3-3896da4034f9"
   },
   "outputs": [
    {
     "data": {
      "text/plain": [
       "0.053080    1997\n",
       "0.083885     906\n",
       "0.026316     114\n",
       "Name: sex, dtype: int64"
      ]
     },
     "execution_count": 57,
     "metadata": {},
     "output_type": "execute_result"
    }
   ],
   "source": [
    "#data_train_2 => data_train_sex_te\n",
    "data_train_sex_te, data_test_sex_te = encoding('te', 'sex', data_train, data_test, target_train)\n",
    "data_train_sex_te.sex.value_counts()"
   ]
  },
  {
   "cell_type": "code",
   "execution_count": 58,
   "metadata": {
    "colab": {
     "base_uri": "https://localhost:8080/",
     "height": 86
    },
    "colab_type": "code",
    "id": "MdZpHqi39zmK",
    "outputId": "8b0b6be0-c839-4d0e-abd0-0e5e243aca4a"
   },
   "outputs": [
    {
     "data": {
      "text/plain": [
       "1    1997\n",
       "2     906\n",
       "3     114\n",
       "Name: sex, dtype: int64"
      ]
     },
     "execution_count": 58,
     "metadata": {},
     "output_type": "execute_result"
    }
   ],
   "source": [
    "#data_train_3 => data_train_sex_oe\n",
    "data_train_sex_oe, data_test_sex_oe = encoding('oe', 'sex', data_train, data_test)\n",
    "data_train_sex_oe.sex.value_counts()"
   ]
  },
  {
   "cell_type": "markdown",
   "metadata": {
    "colab_type": "text",
    "id": "PvWSJH9t-Cr-"
   },
   "source": [
    "Możliwe, że wybierzemy jedną z dwóch wersji, aby nie namnażać ilości testowanych zbiorów. Jednak na razie skupimy się najpierw na poprzednim kodowaniu, czyli tym z wartościami NaN."
   ]
  },
  {
   "cell_type": "markdown",
   "metadata": {
    "colab_type": "text",
    "id": "cIAkWRQufqnn"
   },
   "source": [
    "### Zmienna referral_source\n",
    "\n",
    "Zastosowano dwa rodzaje kodowania: Target Encoding i One Hot Encodinig. Mamy 5 wartości, więc ramka nie zwiększy się znacząco, dlatego pozwalamy sobie na OHE. Jest wiele podobnych encoderów do TE, dlatego nie zdecydowaliśmy się na nie - wybralismy tylko TE, a Ordinal Encoder jest dobry wtedy gdy mamy porządek i nie sprawdza się przy niektórych modelach uczenia maszynowego. Możliwe, że są inne dobre sposoby kodowania dla tego typu kolumny, jednak nie wszystkie są nam dobrze znane i przetestowane, dlatego skupimy się na tych wybranych dwóch.\n"
   ]
  },
  {
   "cell_type": "markdown",
   "metadata": {
    "colab_type": "text",
    "id": "GN74LDSBozWY"
   },
   "source": [
    "#### Target encoding zmiennej refferal_source\n",
    "\n"
   ]
  },
  {
   "cell_type": "code",
   "execution_count": 59,
   "metadata": {
    "colab": {
     "base_uri": "https://localhost:8080/",
     "height": 226
    },
    "colab_type": "code",
    "id": "-KXKdU0cm8Ba",
    "outputId": "f7361e5e-39ea-45a0-da77-c8d94879ca18"
   },
   "outputs": [
    {
     "data": {
      "text/html": [
       "<div>\n",
       "<style scoped>\n",
       "    .dataframe tbody tr th:only-of-type {\n",
       "        vertical-align: middle;\n",
       "    }\n",
       "\n",
       "    .dataframe tbody tr th {\n",
       "        vertical-align: top;\n",
       "    }\n",
       "\n",
       "    .dataframe thead th {\n",
       "        text-align: right;\n",
       "    }\n",
       "</style>\n",
       "<table border=\"1\" class=\"dataframe\">\n",
       "  <thead>\n",
       "    <tr style=\"text-align: right;\">\n",
       "      <th></th>\n",
       "      <th>age</th>\n",
       "      <th>sex</th>\n",
       "      <th>on_thyroxine</th>\n",
       "      <th>query_on_thyroxine</th>\n",
       "      <th>on_antithyroid_medication</th>\n",
       "      <th>sick</th>\n",
       "      <th>pregnant</th>\n",
       "      <th>thyroid_surgery</th>\n",
       "      <th>I131_treatment</th>\n",
       "      <th>query_hypothyroid</th>\n",
       "      <th>...</th>\n",
       "      <th>TSH</th>\n",
       "      <th>T3_measured</th>\n",
       "      <th>T3</th>\n",
       "      <th>TT4_measured</th>\n",
       "      <th>TT4</th>\n",
       "      <th>T4U_measured</th>\n",
       "      <th>T4U</th>\n",
       "      <th>FTI_measured</th>\n",
       "      <th>FTI</th>\n",
       "      <th>referral_source</th>\n",
       "    </tr>\n",
       "  </thead>\n",
       "  <tbody>\n",
       "    <tr>\n",
       "      <th>0</th>\n",
       "      <td>20.0</td>\n",
       "      <td>1</td>\n",
       "      <td>0</td>\n",
       "      <td>0</td>\n",
       "      <td>1</td>\n",
       "      <td>0</td>\n",
       "      <td>0</td>\n",
       "      <td>0</td>\n",
       "      <td>0</td>\n",
       "      <td>0</td>\n",
       "      <td>...</td>\n",
       "      <td>0.15</td>\n",
       "      <td>1</td>\n",
       "      <td>2.5</td>\n",
       "      <td>1</td>\n",
       "      <td>93.0</td>\n",
       "      <td>1</td>\n",
       "      <td>1.00</td>\n",
       "      <td>1</td>\n",
       "      <td>93.0</td>\n",
       "      <td>0.012907</td>\n",
       "    </tr>\n",
       "    <tr>\n",
       "      <th>1</th>\n",
       "      <td>28.0</td>\n",
       "      <td>1</td>\n",
       "      <td>0</td>\n",
       "      <td>0</td>\n",
       "      <td>0</td>\n",
       "      <td>0</td>\n",
       "      <td>0</td>\n",
       "      <td>0</td>\n",
       "      <td>0</td>\n",
       "      <td>0</td>\n",
       "      <td>...</td>\n",
       "      <td>NaN</td>\n",
       "      <td>0</td>\n",
       "      <td>NaN</td>\n",
       "      <td>0</td>\n",
       "      <td>NaN</td>\n",
       "      <td>0</td>\n",
       "      <td>NaN</td>\n",
       "      <td>0</td>\n",
       "      <td>NaN</td>\n",
       "      <td>0.012907</td>\n",
       "    </tr>\n",
       "    <tr>\n",
       "      <th>2</th>\n",
       "      <td>66.0</td>\n",
       "      <td>1</td>\n",
       "      <td>0</td>\n",
       "      <td>0</td>\n",
       "      <td>0</td>\n",
       "      <td>0</td>\n",
       "      <td>0</td>\n",
       "      <td>0</td>\n",
       "      <td>0</td>\n",
       "      <td>0</td>\n",
       "      <td>...</td>\n",
       "      <td>0.10</td>\n",
       "      <td>1</td>\n",
       "      <td>1.8</td>\n",
       "      <td>1</td>\n",
       "      <td>108.0</td>\n",
       "      <td>1</td>\n",
       "      <td>0.71</td>\n",
       "      <td>1</td>\n",
       "      <td>151.0</td>\n",
       "      <td>0.186893</td>\n",
       "    </tr>\n",
       "    <tr>\n",
       "      <th>3</th>\n",
       "      <td>77.0</td>\n",
       "      <td>1</td>\n",
       "      <td>0</td>\n",
       "      <td>0</td>\n",
       "      <td>0</td>\n",
       "      <td>0</td>\n",
       "      <td>0</td>\n",
       "      <td>0</td>\n",
       "      <td>0</td>\n",
       "      <td>0</td>\n",
       "      <td>...</td>\n",
       "      <td>2.50</td>\n",
       "      <td>1</td>\n",
       "      <td>1.7</td>\n",
       "      <td>1</td>\n",
       "      <td>101.0</td>\n",
       "      <td>1</td>\n",
       "      <td>0.85</td>\n",
       "      <td>1</td>\n",
       "      <td>119.0</td>\n",
       "      <td>0.186893</td>\n",
       "    </tr>\n",
       "    <tr>\n",
       "      <th>4</th>\n",
       "      <td>34.0</td>\n",
       "      <td>1</td>\n",
       "      <td>0</td>\n",
       "      <td>0</td>\n",
       "      <td>0</td>\n",
       "      <td>0</td>\n",
       "      <td>0</td>\n",
       "      <td>0</td>\n",
       "      <td>0</td>\n",
       "      <td>0</td>\n",
       "      <td>...</td>\n",
       "      <td>NaN</td>\n",
       "      <td>1</td>\n",
       "      <td>5.3</td>\n",
       "      <td>1</td>\n",
       "      <td>181.0</td>\n",
       "      <td>1</td>\n",
       "      <td>1.04</td>\n",
       "      <td>1</td>\n",
       "      <td>174.0</td>\n",
       "      <td>0.012907</td>\n",
       "    </tr>\n",
       "  </tbody>\n",
       "</table>\n",
       "<p>5 rows × 27 columns</p>\n",
       "</div>"
      ],
      "text/plain": [
       "    age  sex  on_thyroxine  query_on_thyroxine  on_antithyroid_medication  \\\n",
       "0  20.0    1             0                   0                          1   \n",
       "1  28.0    1             0                   0                          0   \n",
       "2  66.0    1             0                   0                          0   \n",
       "3  77.0    1             0                   0                          0   \n",
       "4  34.0    1             0                   0                          0   \n",
       "\n",
       "   sick  pregnant  thyroid_surgery  I131_treatment  query_hypothyroid  ...  \\\n",
       "0     0         0                0               0                  0  ...   \n",
       "1     0         0                0               0                  0  ...   \n",
       "2     0         0                0               0                  0  ...   \n",
       "3     0         0                0               0                  0  ...   \n",
       "4     0         0                0               0                  0  ...   \n",
       "\n",
       "    TSH  T3_measured   T3  TT4_measured    TT4  T4U_measured   T4U  \\\n",
       "0  0.15            1  2.5             1   93.0             1  1.00   \n",
       "1   NaN            0  NaN             0    NaN             0   NaN   \n",
       "2  0.10            1  1.8             1  108.0             1  0.71   \n",
       "3  2.50            1  1.7             1  101.0             1  0.85   \n",
       "4   NaN            1  5.3             1  181.0             1  1.04   \n",
       "\n",
       "   FTI_measured    FTI  referral_source  \n",
       "0             1   93.0         0.012907  \n",
       "1             0    NaN         0.012907  \n",
       "2             1  151.0         0.186893  \n",
       "3             1  119.0         0.186893  \n",
       "4             1  174.0         0.012907  \n",
       "\n",
       "[5 rows x 27 columns]"
      ]
     },
     "execution_count": 59,
     "metadata": {},
     "output_type": "execute_result"
    }
   ],
   "source": [
    "#data_train_te => data_train_sex_num_rs_te\n",
    "data_train_sex_num_rs_te, data_test_sex_num_rs_te = encoding('te', 'referral_source', data_train_sex_num, data_test_sex_num, target_train)\n",
    "# przyjrzyjmy sie kodowaniu na przykładzie zbioru treningowego\n",
    "data_train_sex_num_rs_te.head()"
   ]
  },
  {
   "cell_type": "code",
   "execution_count": 60,
   "metadata": {
    "colab": {
     "base_uri": "https://localhost:8080/",
     "height": 226
    },
    "colab_type": "code",
    "id": "JzWwcoPUwimo",
    "outputId": "7ea71089-4426-4364-cdc6-2bc6660efd73"
   },
   "outputs": [
    {
     "data": {
      "text/html": [
       "<div>\n",
       "<style scoped>\n",
       "    .dataframe tbody tr th:only-of-type {\n",
       "        vertical-align: middle;\n",
       "    }\n",
       "\n",
       "    .dataframe tbody tr th {\n",
       "        vertical-align: top;\n",
       "    }\n",
       "\n",
       "    .dataframe thead th {\n",
       "        text-align: right;\n",
       "    }\n",
       "</style>\n",
       "<table border=\"1\" class=\"dataframe\">\n",
       "  <thead>\n",
       "    <tr style=\"text-align: right;\">\n",
       "      <th></th>\n",
       "      <th>age</th>\n",
       "      <th>sex</th>\n",
       "      <th>on_thyroxine</th>\n",
       "      <th>query_on_thyroxine</th>\n",
       "      <th>on_antithyroid_medication</th>\n",
       "      <th>sick</th>\n",
       "      <th>pregnant</th>\n",
       "      <th>thyroid_surgery</th>\n",
       "      <th>I131_treatment</th>\n",
       "      <th>query_hypothyroid</th>\n",
       "      <th>...</th>\n",
       "      <th>TSH</th>\n",
       "      <th>T3_measured</th>\n",
       "      <th>T3</th>\n",
       "      <th>TT4_measured</th>\n",
       "      <th>TT4</th>\n",
       "      <th>T4U_measured</th>\n",
       "      <th>T4U</th>\n",
       "      <th>FTI_measured</th>\n",
       "      <th>FTI</th>\n",
       "      <th>referral_source</th>\n",
       "    </tr>\n",
       "  </thead>\n",
       "  <tbody>\n",
       "    <tr>\n",
       "      <th>0</th>\n",
       "      <td>57.0</td>\n",
       "      <td>1</td>\n",
       "      <td>0</td>\n",
       "      <td>0</td>\n",
       "      <td>0</td>\n",
       "      <td>0</td>\n",
       "      <td>0</td>\n",
       "      <td>0</td>\n",
       "      <td>0</td>\n",
       "      <td>0</td>\n",
       "      <td>...</td>\n",
       "      <td>NaN</td>\n",
       "      <td>0</td>\n",
       "      <td>NaN</td>\n",
       "      <td>0</td>\n",
       "      <td>NaN</td>\n",
       "      <td>0</td>\n",
       "      <td>NaN</td>\n",
       "      <td>0</td>\n",
       "      <td>NaN</td>\n",
       "      <td>0.012907</td>\n",
       "    </tr>\n",
       "    <tr>\n",
       "      <th>1</th>\n",
       "      <td>41.0</td>\n",
       "      <td>0</td>\n",
       "      <td>0</td>\n",
       "      <td>0</td>\n",
       "      <td>0</td>\n",
       "      <td>0</td>\n",
       "      <td>0</td>\n",
       "      <td>0</td>\n",
       "      <td>0</td>\n",
       "      <td>0</td>\n",
       "      <td>...</td>\n",
       "      <td>0.005</td>\n",
       "      <td>1</td>\n",
       "      <td>1.5</td>\n",
       "      <td>1</td>\n",
       "      <td>100.0</td>\n",
       "      <td>1</td>\n",
       "      <td>1.01</td>\n",
       "      <td>1</td>\n",
       "      <td>99.0</td>\n",
       "      <td>0.023649</td>\n",
       "    </tr>\n",
       "    <tr>\n",
       "      <th>2</th>\n",
       "      <td>66.0</td>\n",
       "      <td>1</td>\n",
       "      <td>0</td>\n",
       "      <td>0</td>\n",
       "      <td>0</td>\n",
       "      <td>0</td>\n",
       "      <td>0</td>\n",
       "      <td>1</td>\n",
       "      <td>0</td>\n",
       "      <td>0</td>\n",
       "      <td>...</td>\n",
       "      <td>1.700</td>\n",
       "      <td>1</td>\n",
       "      <td>1.4</td>\n",
       "      <td>1</td>\n",
       "      <td>89.0</td>\n",
       "      <td>1</td>\n",
       "      <td>0.87</td>\n",
       "      <td>1</td>\n",
       "      <td>103.0</td>\n",
       "      <td>0.186893</td>\n",
       "    </tr>\n",
       "    <tr>\n",
       "      <th>3</th>\n",
       "      <td>67.0</td>\n",
       "      <td>1</td>\n",
       "      <td>0</td>\n",
       "      <td>0</td>\n",
       "      <td>0</td>\n",
       "      <td>0</td>\n",
       "      <td>0</td>\n",
       "      <td>0</td>\n",
       "      <td>0</td>\n",
       "      <td>0</td>\n",
       "      <td>...</td>\n",
       "      <td>1.900</td>\n",
       "      <td>1</td>\n",
       "      <td>2.9</td>\n",
       "      <td>1</td>\n",
       "      <td>133.0</td>\n",
       "      <td>1</td>\n",
       "      <td>1.18</td>\n",
       "      <td>1</td>\n",
       "      <td>113.0</td>\n",
       "      <td>0.023649</td>\n",
       "    </tr>\n",
       "    <tr>\n",
       "      <th>4</th>\n",
       "      <td>62.0</td>\n",
       "      <td>0</td>\n",
       "      <td>0</td>\n",
       "      <td>0</td>\n",
       "      <td>0</td>\n",
       "      <td>0</td>\n",
       "      <td>0</td>\n",
       "      <td>0</td>\n",
       "      <td>0</td>\n",
       "      <td>0</td>\n",
       "      <td>...</td>\n",
       "      <td>1.100</td>\n",
       "      <td>1</td>\n",
       "      <td>2.3</td>\n",
       "      <td>1</td>\n",
       "      <td>130.0</td>\n",
       "      <td>1</td>\n",
       "      <td>1.24</td>\n",
       "      <td>1</td>\n",
       "      <td>105.0</td>\n",
       "      <td>0.012907</td>\n",
       "    </tr>\n",
       "  </tbody>\n",
       "</table>\n",
       "<p>5 rows × 27 columns</p>\n",
       "</div>"
      ],
      "text/plain": [
       "    age  sex  on_thyroxine  query_on_thyroxine  on_antithyroid_medication  \\\n",
       "0  57.0    1             0                   0                          0   \n",
       "1  41.0    0             0                   0                          0   \n",
       "2  66.0    1             0                   0                          0   \n",
       "3  67.0    1             0                   0                          0   \n",
       "4  62.0    0             0                   0                          0   \n",
       "\n",
       "   sick  pregnant  thyroid_surgery  I131_treatment  query_hypothyroid  ...  \\\n",
       "0     0         0                0               0                  0  ...   \n",
       "1     0         0                0               0                  0  ...   \n",
       "2     0         0                1               0                  0  ...   \n",
       "3     0         0                0               0                  0  ...   \n",
       "4     0         0                0               0                  0  ...   \n",
       "\n",
       "     TSH  T3_measured   T3  TT4_measured    TT4  T4U_measured   T4U  \\\n",
       "0    NaN            0  NaN             0    NaN             0   NaN   \n",
       "1  0.005            1  1.5             1  100.0             1  1.01   \n",
       "2  1.700            1  1.4             1   89.0             1  0.87   \n",
       "3  1.900            1  2.9             1  133.0             1  1.18   \n",
       "4  1.100            1  2.3             1  130.0             1  1.24   \n",
       "\n",
       "   FTI_measured    FTI  referral_source  \n",
       "0             0    NaN         0.012907  \n",
       "1             1   99.0         0.023649  \n",
       "2             1  103.0         0.186893  \n",
       "3             1  113.0         0.023649  \n",
       "4             1  105.0         0.012907  \n",
       "\n",
       "[5 rows x 27 columns]"
      ]
     },
     "execution_count": 60,
     "metadata": {},
     "output_type": "execute_result"
    }
   ],
   "source": [
    "# a teraz testowego - po przyjrzeniu się możemy uznać, że kodowanie działa\n",
    "data_test_sex_num_rs_te.head()"
   ]
  },
  {
   "cell_type": "code",
   "execution_count": 61,
   "metadata": {
    "colab": {},
    "colab_type": "code",
    "id": "v2A36oF3CSYn"
   },
   "outputs": [],
   "source": [
    "#data_train_te_2 => data_train_sex_te_rs_te\n",
    "# dla target encodingu zmiennej sex do późniejszego wykorzystania\n",
    "data_train_sex_te_rs_te, data_test_sex_te_rs_te = encoding('te', 'referral_source', data_train_sex_te, data_test_sex_te, target_train)"
   ]
  },
  {
   "cell_type": "markdown",
   "metadata": {
    "colab_type": "text",
    "id": "6QHaUh68dB9f"
   },
   "source": [
    "#### One Hot Encoding zmiennej refferal_source\n"
   ]
  },
  {
   "cell_type": "code",
   "execution_count": 62,
   "metadata": {
    "colab": {
     "base_uri": "https://localhost:8080/",
     "height": 226
    },
    "colab_type": "code",
    "id": "nmYyalfaczTG",
    "outputId": "2cd905e3-e47a-445e-a550-acfeee03b242"
   },
   "outputs": [
    {
     "data": {
      "text/html": [
       "<div>\n",
       "<style scoped>\n",
       "    .dataframe tbody tr th:only-of-type {\n",
       "        vertical-align: middle;\n",
       "    }\n",
       "\n",
       "    .dataframe tbody tr th {\n",
       "        vertical-align: top;\n",
       "    }\n",
       "\n",
       "    .dataframe thead th {\n",
       "        text-align: right;\n",
       "    }\n",
       "</style>\n",
       "<table border=\"1\" class=\"dataframe\">\n",
       "  <thead>\n",
       "    <tr style=\"text-align: right;\">\n",
       "      <th></th>\n",
       "      <th>age</th>\n",
       "      <th>sex</th>\n",
       "      <th>on_thyroxine</th>\n",
       "      <th>query_on_thyroxine</th>\n",
       "      <th>on_antithyroid_medication</th>\n",
       "      <th>sick</th>\n",
       "      <th>pregnant</th>\n",
       "      <th>thyroid_surgery</th>\n",
       "      <th>I131_treatment</th>\n",
       "      <th>query_hypothyroid</th>\n",
       "      <th>...</th>\n",
       "      <th>TT4</th>\n",
       "      <th>T4U_measured</th>\n",
       "      <th>T4U</th>\n",
       "      <th>FTI_measured</th>\n",
       "      <th>FTI</th>\n",
       "      <th>referral_source_other</th>\n",
       "      <th>referral_source_SVI</th>\n",
       "      <th>referral_source_SVHC</th>\n",
       "      <th>referral_source_STMW</th>\n",
       "      <th>referral_source_SVHD</th>\n",
       "    </tr>\n",
       "  </thead>\n",
       "  <tbody>\n",
       "    <tr>\n",
       "      <th>0</th>\n",
       "      <td>20.0</td>\n",
       "      <td>1</td>\n",
       "      <td>0</td>\n",
       "      <td>0</td>\n",
       "      <td>1</td>\n",
       "      <td>0</td>\n",
       "      <td>0</td>\n",
       "      <td>0</td>\n",
       "      <td>0</td>\n",
       "      <td>0</td>\n",
       "      <td>...</td>\n",
       "      <td>93.0</td>\n",
       "      <td>1</td>\n",
       "      <td>1.00</td>\n",
       "      <td>1</td>\n",
       "      <td>93.0</td>\n",
       "      <td>1</td>\n",
       "      <td>0</td>\n",
       "      <td>0</td>\n",
       "      <td>0</td>\n",
       "      <td>0</td>\n",
       "    </tr>\n",
       "    <tr>\n",
       "      <th>1</th>\n",
       "      <td>28.0</td>\n",
       "      <td>1</td>\n",
       "      <td>0</td>\n",
       "      <td>0</td>\n",
       "      <td>0</td>\n",
       "      <td>0</td>\n",
       "      <td>0</td>\n",
       "      <td>0</td>\n",
       "      <td>0</td>\n",
       "      <td>0</td>\n",
       "      <td>...</td>\n",
       "      <td>NaN</td>\n",
       "      <td>0</td>\n",
       "      <td>NaN</td>\n",
       "      <td>0</td>\n",
       "      <td>NaN</td>\n",
       "      <td>1</td>\n",
       "      <td>0</td>\n",
       "      <td>0</td>\n",
       "      <td>0</td>\n",
       "      <td>0</td>\n",
       "    </tr>\n",
       "    <tr>\n",
       "      <th>2</th>\n",
       "      <td>66.0</td>\n",
       "      <td>1</td>\n",
       "      <td>0</td>\n",
       "      <td>0</td>\n",
       "      <td>0</td>\n",
       "      <td>0</td>\n",
       "      <td>0</td>\n",
       "      <td>0</td>\n",
       "      <td>0</td>\n",
       "      <td>0</td>\n",
       "      <td>...</td>\n",
       "      <td>108.0</td>\n",
       "      <td>1</td>\n",
       "      <td>0.71</td>\n",
       "      <td>1</td>\n",
       "      <td>151.0</td>\n",
       "      <td>0</td>\n",
       "      <td>1</td>\n",
       "      <td>0</td>\n",
       "      <td>0</td>\n",
       "      <td>0</td>\n",
       "    </tr>\n",
       "    <tr>\n",
       "      <th>3</th>\n",
       "      <td>77.0</td>\n",
       "      <td>1</td>\n",
       "      <td>0</td>\n",
       "      <td>0</td>\n",
       "      <td>0</td>\n",
       "      <td>0</td>\n",
       "      <td>0</td>\n",
       "      <td>0</td>\n",
       "      <td>0</td>\n",
       "      <td>0</td>\n",
       "      <td>...</td>\n",
       "      <td>101.0</td>\n",
       "      <td>1</td>\n",
       "      <td>0.85</td>\n",
       "      <td>1</td>\n",
       "      <td>119.0</td>\n",
       "      <td>0</td>\n",
       "      <td>1</td>\n",
       "      <td>0</td>\n",
       "      <td>0</td>\n",
       "      <td>0</td>\n",
       "    </tr>\n",
       "    <tr>\n",
       "      <th>4</th>\n",
       "      <td>34.0</td>\n",
       "      <td>1</td>\n",
       "      <td>0</td>\n",
       "      <td>0</td>\n",
       "      <td>0</td>\n",
       "      <td>0</td>\n",
       "      <td>0</td>\n",
       "      <td>0</td>\n",
       "      <td>0</td>\n",
       "      <td>0</td>\n",
       "      <td>...</td>\n",
       "      <td>181.0</td>\n",
       "      <td>1</td>\n",
       "      <td>1.04</td>\n",
       "      <td>1</td>\n",
       "      <td>174.0</td>\n",
       "      <td>1</td>\n",
       "      <td>0</td>\n",
       "      <td>0</td>\n",
       "      <td>0</td>\n",
       "      <td>0</td>\n",
       "    </tr>\n",
       "  </tbody>\n",
       "</table>\n",
       "<p>5 rows × 31 columns</p>\n",
       "</div>"
      ],
      "text/plain": [
       "    age  sex  on_thyroxine  query_on_thyroxine  on_antithyroid_medication  \\\n",
       "0  20.0    1             0                   0                          1   \n",
       "1  28.0    1             0                   0                          0   \n",
       "2  66.0    1             0                   0                          0   \n",
       "3  77.0    1             0                   0                          0   \n",
       "4  34.0    1             0                   0                          0   \n",
       "\n",
       "   sick  pregnant  thyroid_surgery  I131_treatment  query_hypothyroid  ...  \\\n",
       "0     0         0                0               0                  0  ...   \n",
       "1     0         0                0               0                  0  ...   \n",
       "2     0         0                0               0                  0  ...   \n",
       "3     0         0                0               0                  0  ...   \n",
       "4     0         0                0               0                  0  ...   \n",
       "\n",
       "     TT4  T4U_measured   T4U  FTI_measured    FTI  referral_source_other  \\\n",
       "0   93.0             1  1.00             1   93.0                      1   \n",
       "1    NaN             0   NaN             0    NaN                      1   \n",
       "2  108.0             1  0.71             1  151.0                      0   \n",
       "3  101.0             1  0.85             1  119.0                      0   \n",
       "4  181.0             1  1.04             1  174.0                      1   \n",
       "\n",
       "   referral_source_SVI  referral_source_SVHC  referral_source_STMW  \\\n",
       "0                    0                     0                     0   \n",
       "1                    0                     0                     0   \n",
       "2                    1                     0                     0   \n",
       "3                    1                     0                     0   \n",
       "4                    0                     0                     0   \n",
       "\n",
       "   referral_source_SVHD  \n",
       "0                     0  \n",
       "1                     0  \n",
       "2                     0  \n",
       "3                     0  \n",
       "4                     0  \n",
       "\n",
       "[5 rows x 31 columns]"
      ]
     },
     "execution_count": 62,
     "metadata": {},
     "output_type": "execute_result"
    }
   ],
   "source": [
    "#data_train_ohe => data_train_sex_num_rs_ohe\n",
    "data_train_sex_num_rs_ohe, data_test_sex_num_rs_ohe = encoding('ohe', 'referral_source', data_train_sex_num, data_test_sex_num)\n",
    "# przyjrzyjmy sie kodowaniu na przykładzie zbioru treningowego\n",
    "data_train_sex_num_rs_ohe.head()"
   ]
  },
  {
   "cell_type": "code",
   "execution_count": 63,
   "metadata": {
    "colab": {},
    "colab_type": "code",
    "id": "y5jm4zf_Cs7m"
   },
   "outputs": [],
   "source": [
    "#data_train_ohe_2 => data_train_sex_te_rs_ohe\n",
    "# dla Target Encodingu encodingu zmiennej sex\n",
    "\n",
    "data_train_sex_te_rs_ohe, data_test_sex_te_rs_ohe = encoding('ohe', 'referral_source', data_train_sex_te, data_test_sex_te)"
   ]
  },
  {
   "cell_type": "code",
   "execution_count": 64,
   "metadata": {
    "colab": {
     "base_uri": "https://localhost:8080/",
     "height": 226
    },
    "colab_type": "code",
    "id": "4WlEeY_-CcL-",
    "outputId": "b44bf102-b1d4-4300-9ada-16b2acac568a"
   },
   "outputs": [
    {
     "data": {
      "text/html": [
       "<div>\n",
       "<style scoped>\n",
       "    .dataframe tbody tr th:only-of-type {\n",
       "        vertical-align: middle;\n",
       "    }\n",
       "\n",
       "    .dataframe tbody tr th {\n",
       "        vertical-align: top;\n",
       "    }\n",
       "\n",
       "    .dataframe thead th {\n",
       "        text-align: right;\n",
       "    }\n",
       "</style>\n",
       "<table border=\"1\" class=\"dataframe\">\n",
       "  <thead>\n",
       "    <tr style=\"text-align: right;\">\n",
       "      <th></th>\n",
       "      <th>age</th>\n",
       "      <th>sex</th>\n",
       "      <th>on_thyroxine</th>\n",
       "      <th>query_on_thyroxine</th>\n",
       "      <th>on_antithyroid_medication</th>\n",
       "      <th>sick</th>\n",
       "      <th>pregnant</th>\n",
       "      <th>thyroid_surgery</th>\n",
       "      <th>I131_treatment</th>\n",
       "      <th>query_hypothyroid</th>\n",
       "      <th>...</th>\n",
       "      <th>TT4</th>\n",
       "      <th>T4U_measured</th>\n",
       "      <th>T4U</th>\n",
       "      <th>FTI_measured</th>\n",
       "      <th>FTI</th>\n",
       "      <th>referral_source_other</th>\n",
       "      <th>referral_source_SVI</th>\n",
       "      <th>referral_source_SVHC</th>\n",
       "      <th>referral_source_STMW</th>\n",
       "      <th>referral_source_SVHD</th>\n",
       "    </tr>\n",
       "  </thead>\n",
       "  <tbody>\n",
       "    <tr>\n",
       "      <th>0</th>\n",
       "      <td>20.0</td>\n",
       "      <td>0.05308</td>\n",
       "      <td>0</td>\n",
       "      <td>0</td>\n",
       "      <td>1</td>\n",
       "      <td>0</td>\n",
       "      <td>0</td>\n",
       "      <td>0</td>\n",
       "      <td>0</td>\n",
       "      <td>0</td>\n",
       "      <td>...</td>\n",
       "      <td>93.0</td>\n",
       "      <td>1</td>\n",
       "      <td>1.00</td>\n",
       "      <td>1</td>\n",
       "      <td>93.0</td>\n",
       "      <td>1</td>\n",
       "      <td>0</td>\n",
       "      <td>0</td>\n",
       "      <td>0</td>\n",
       "      <td>0</td>\n",
       "    </tr>\n",
       "    <tr>\n",
       "      <th>1</th>\n",
       "      <td>28.0</td>\n",
       "      <td>0.05308</td>\n",
       "      <td>0</td>\n",
       "      <td>0</td>\n",
       "      <td>0</td>\n",
       "      <td>0</td>\n",
       "      <td>0</td>\n",
       "      <td>0</td>\n",
       "      <td>0</td>\n",
       "      <td>0</td>\n",
       "      <td>...</td>\n",
       "      <td>NaN</td>\n",
       "      <td>0</td>\n",
       "      <td>NaN</td>\n",
       "      <td>0</td>\n",
       "      <td>NaN</td>\n",
       "      <td>1</td>\n",
       "      <td>0</td>\n",
       "      <td>0</td>\n",
       "      <td>0</td>\n",
       "      <td>0</td>\n",
       "    </tr>\n",
       "    <tr>\n",
       "      <th>2</th>\n",
       "      <td>66.0</td>\n",
       "      <td>0.05308</td>\n",
       "      <td>0</td>\n",
       "      <td>0</td>\n",
       "      <td>0</td>\n",
       "      <td>0</td>\n",
       "      <td>0</td>\n",
       "      <td>0</td>\n",
       "      <td>0</td>\n",
       "      <td>0</td>\n",
       "      <td>...</td>\n",
       "      <td>108.0</td>\n",
       "      <td>1</td>\n",
       "      <td>0.71</td>\n",
       "      <td>1</td>\n",
       "      <td>151.0</td>\n",
       "      <td>0</td>\n",
       "      <td>1</td>\n",
       "      <td>0</td>\n",
       "      <td>0</td>\n",
       "      <td>0</td>\n",
       "    </tr>\n",
       "    <tr>\n",
       "      <th>3</th>\n",
       "      <td>77.0</td>\n",
       "      <td>0.05308</td>\n",
       "      <td>0</td>\n",
       "      <td>0</td>\n",
       "      <td>0</td>\n",
       "      <td>0</td>\n",
       "      <td>0</td>\n",
       "      <td>0</td>\n",
       "      <td>0</td>\n",
       "      <td>0</td>\n",
       "      <td>...</td>\n",
       "      <td>101.0</td>\n",
       "      <td>1</td>\n",
       "      <td>0.85</td>\n",
       "      <td>1</td>\n",
       "      <td>119.0</td>\n",
       "      <td>0</td>\n",
       "      <td>1</td>\n",
       "      <td>0</td>\n",
       "      <td>0</td>\n",
       "      <td>0</td>\n",
       "    </tr>\n",
       "    <tr>\n",
       "      <th>4</th>\n",
       "      <td>34.0</td>\n",
       "      <td>0.05308</td>\n",
       "      <td>0</td>\n",
       "      <td>0</td>\n",
       "      <td>0</td>\n",
       "      <td>0</td>\n",
       "      <td>0</td>\n",
       "      <td>0</td>\n",
       "      <td>0</td>\n",
       "      <td>0</td>\n",
       "      <td>...</td>\n",
       "      <td>181.0</td>\n",
       "      <td>1</td>\n",
       "      <td>1.04</td>\n",
       "      <td>1</td>\n",
       "      <td>174.0</td>\n",
       "      <td>1</td>\n",
       "      <td>0</td>\n",
       "      <td>0</td>\n",
       "      <td>0</td>\n",
       "      <td>0</td>\n",
       "    </tr>\n",
       "  </tbody>\n",
       "</table>\n",
       "<p>5 rows × 31 columns</p>\n",
       "</div>"
      ],
      "text/plain": [
       "    age      sex  on_thyroxine  query_on_thyroxine  on_antithyroid_medication  \\\n",
       "0  20.0  0.05308             0                   0                          1   \n",
       "1  28.0  0.05308             0                   0                          0   \n",
       "2  66.0  0.05308             0                   0                          0   \n",
       "3  77.0  0.05308             0                   0                          0   \n",
       "4  34.0  0.05308             0                   0                          0   \n",
       "\n",
       "   sick  pregnant  thyroid_surgery  I131_treatment  query_hypothyroid  ...  \\\n",
       "0     0         0                0               0                  0  ...   \n",
       "1     0         0                0               0                  0  ...   \n",
       "2     0         0                0               0                  0  ...   \n",
       "3     0         0                0               0                  0  ...   \n",
       "4     0         0                0               0                  0  ...   \n",
       "\n",
       "     TT4  T4U_measured   T4U  FTI_measured    FTI  referral_source_other  \\\n",
       "0   93.0             1  1.00             1   93.0                      1   \n",
       "1    NaN             0   NaN             0    NaN                      1   \n",
       "2  108.0             1  0.71             1  151.0                      0   \n",
       "3  101.0             1  0.85             1  119.0                      0   \n",
       "4  181.0             1  1.04             1  174.0                      1   \n",
       "\n",
       "   referral_source_SVI  referral_source_SVHC  referral_source_STMW  \\\n",
       "0                    0                     0                     0   \n",
       "1                    0                     0                     0   \n",
       "2                    1                     0                     0   \n",
       "3                    1                     0                     0   \n",
       "4                    0                     0                     0   \n",
       "\n",
       "   referral_source_SVHD  \n",
       "0                     0  \n",
       "1                     0  \n",
       "2                     0  \n",
       "3                     0  \n",
       "4                     0  \n",
       "\n",
       "[5 rows x 31 columns]"
      ]
     },
     "execution_count": 64,
     "metadata": {},
     "output_type": "execute_result"
    }
   ],
   "source": [
    "data_train_sex_te_rs_ohe.head()"
   ]
  },
  {
   "cell_type": "markdown",
   "metadata": {
    "colab_type": "text",
    "id": "YE1pvpqIC_WL"
   },
   "source": [
    "### Podsumowanie zmian i aktualnych nazw zbiorów\n",
    "\n",
    "Zakodowaliśmy zmienną sex na trzy sposoby i kryja się one pod nazwami data_train_sex_i/data_test_sex_i, gdzie i oznacza odpowiednio:\n",
    "+ kodowanie na 0,1,NaN - i = as_num\n",
    "+ target encoder - i = te\n",
    "+ ordinal encoder - i = oe\n",
    "\n",
    "Następnie wykorzystaliśmy pierwszy i drugi sposób i zakodowaliśmy zmienną referral_source. Konwencja nazw po kodowaniu tej zmiennej to: data_train_sex_\\{sposób kodowania sex\\}\\_rs_\\{sposób kodowania rs}"
   ]
  },
  {
   "cell_type": "markdown",
   "metadata": {
    "colab_type": "text",
    "id": "Q-oh0w8aEFEI"
   },
   "source": [
    "## Imputacja brakujących wartości"
   ]
  },
  {
   "cell_type": "code",
   "execution_count": 65,
   "metadata": {
    "colab": {
     "base_uri": "https://localhost:8080/",
     "height": 156
    },
    "colab_type": "code",
    "id": "KvJmgEczELl9",
    "outputId": "0b93bb35-f7d5-4878-a7d5-fd24d5c130c6"
   },
   "outputs": [
    {
     "data": {
      "text/plain": [
       "age                 0.03\n",
       "TSH                 9.81\n",
       "T3                 20.95\n",
       "TT4                 6.23\n",
       "T4U                10.21\n",
       "FTI                10.18\n",
       "referral_source     0.00\n",
       "dtype: float64"
      ]
     },
     "execution_count": 65,
     "metadata": {},
     "output_type": "execute_result"
    }
   ],
   "source": [
    "# przyjrzenie się jakie są braki danych\n",
    "def percent_of_NA(data):\n",
    "  # zwraca procent brakujących wartości dla kolumn typu float\n",
    "  NA_ratio_columns = data.select_dtypes('float').isnull().mean()\n",
    "  return NA_ratio_columns.round(4) * 100\n",
    "\n",
    "percent_of_NA(data_train_sex_num_rs_te)"
   ]
  },
  {
   "cell_type": "markdown",
   "metadata": {
    "colab_type": "text",
    "id": "9mVrlu8wE0Ws"
   },
   "source": [
    "Zostały nam same kolumny z wartościami liczbowymi. Brakujące wartości pojawiają się przy kolumnach typu float. Teraz skupimy się na nich.\n",
    "\n",
    "\n",
    "Na początek pamiętajmy o dziwnym wieku. Zastąpimy go na dwa sposoby:"
   ]
  },
  {
   "cell_type": "code",
   "execution_count": 66,
   "metadata": {
    "colab": {},
    "colab_type": "code",
    "id": "5bwoR5dwR6z0"
   },
   "outputs": [],
   "source": [
    "# tworzymy dwie nowe ramki danych dla każdego kodowania - w których to dziwna wartość wieku zostaje zmieniona\n",
    "def replace_age(data, value):\n",
    "  data_r = data.copy()\n",
    "  data_r.age = data.age.replace(455, value)\n",
    "  return data_r\n",
    "\n",
    "# przypisujemy wartości 455 wartość 45 - traktujemy wiek jako pomyłkę i naprawiamy ją\n",
    "data_train_sex_num_rs_ohe_r45 = replace_age(data_train_sex_num_rs_ohe, 45)\n",
    "data_test_sex_num_rs_ohe_r45 = replace_age(data_test_sex_num_rs_ohe, 45)\n",
    "data_train_sex_num_rs_te_r45 = replace_age(data_train_sex_num_rs_te, 45)\n",
    "data_test_sex_num_rs_te_r45 = replace_age(data_test_sex_num_rs_te, 45)\n",
    "# przypisujemy wartości 455 wartość NaN - traktujemy to jako błąd/żart i wyliczymy wartość przy wykorzystaniu technik imputacji\n",
    "data_train_sex_num_rs_ohe_rnan = replace_age(data_train_sex_num_rs_ohe, np.nan)\n",
    "data_test_sex_num_rs_ohe_rnan = replace_age(data_test_sex_num_rs_ohe, np.nan)\n",
    "data_train_sex_num_rs_te_rnan = replace_age(data_train_sex_num_rs_te, np.nan)\n",
    "data_test_sex_num_rs_te_rnan = replace_age(data_test_sex_num_rs_te, np.nan)"
   ]
  },
  {
   "cell_type": "markdown",
   "metadata": {
    "colab_type": "text",
    "id": "zoDScSaCGui3"
   },
   "source": [
    "Zastąpiliśmy wartością NaN albo 45 - problem pojawia się przy ilości używanych ramek danych. Ilość się podwoiła - **jednak zastąpiliśmy tylko dla kolumny sex zakodowanej na 0,1,NaN**."
   ]
  },
  {
   "cell_type": "markdown",
   "metadata": {
    "colab_type": "text",
    "id": "-ykqxZmSPVLs"
   },
   "source": [
    "### Mediana, średnia i moda"
   ]
  },
  {
   "cell_type": "markdown",
   "metadata": {
    "colab_type": "text",
    "id": "MgJYSm5zhk3g"
   },
   "source": [
    "Na początek zastosujemy prostą metodę - usupełnimy braki medianą."
   ]
  },
  {
   "cell_type": "code",
   "execution_count": 67,
   "metadata": {
    "colab": {
     "base_uri": "https://localhost:8080/",
     "height": 156
    },
    "colab_type": "code",
    "id": "VtU5tYeoRUYB",
    "outputId": "e62a6ea6-170b-4e2f-b2f3-be3ae3d38b5c"
   },
   "outputs": [
    {
     "data": {
      "text/plain": [
       "age                 54.000000\n",
       "TSH                  1.400000\n",
       "T3                   2.000000\n",
       "TT4                103.000000\n",
       "T4U                  0.980000\n",
       "FTI                107.000000\n",
       "referral_source      0.012907\n",
       "dtype: float64"
      ]
     },
     "execution_count": 67,
     "metadata": {},
     "output_type": "execute_result"
    }
   ],
   "source": [
    "data_train_sex_num_rs_te_r45.select_dtypes('float').median()"
   ]
  },
  {
   "cell_type": "code",
   "execution_count": 68,
   "metadata": {
    "colab": {},
    "colab_type": "code",
    "id": "CnAYe6PnhqrS"
   },
   "outputs": [],
   "source": [
    "from sklearn.impute import SimpleImputer\n",
    "\n",
    "# tworzymy funkcję za pomocą której możemy imputować braki medianą/średnią\n",
    "def easy_imputation(data_train, data_test, imp_type = 'median'):\n",
    "    imp = SimpleImputer(missing_values=np.nan, strategy=imp_type)\n",
    "\n",
    "    data_train_copy = data_train.copy()\n",
    "    data_train_imp = pd.DataFrame(imp.fit_transform(data_train_copy.loc[:, ['age','TSH', 'T3', 'TT4', 'T4U', 'FTI']]), columns=['age','TSH', 'T3', 'TT4', 'T4U', 'FTI'])\n",
    "    data_train_copy.age = data_train_imp.age.values\n",
    "    data_train_copy.TSH = data_train_imp.TSH.values\n",
    "    data_train_copy.T3 = data_train_imp.T3.values\n",
    "    data_train_copy.TT4 = data_train_imp.TT4.values\n",
    "    data_train_copy.T4U = data_train_imp.T4U.values\n",
    "    data_train_copy.FTI = data_train_imp.FTI.values\n",
    "\n",
    "    data_test_copy = data_test.copy()\n",
    "    data_test_imp = pd.DataFrame(imp.transform(data_test_copy.loc[:, ['age','TSH', 'T3', 'TT4', 'T4U', 'FTI']]), columns=['age','TSH', 'T3', 'TT4', 'T4U', 'FTI'])\n",
    "    data_test_copy.age = data_test_imp.age.values\n",
    "    data_test_copy.TSH = data_test_imp.TSH.values\n",
    "    data_test_copy.T3 = data_test_imp.T3.values\n",
    "    data_test_copy.TT4 = data_test_imp.TT4.values\n",
    "    data_test_copy.T4U = data_test_imp.T4U.values\n",
    "    data_test_copy.FTI = data_test_imp.FTI.values\n",
    "    \n",
    "    return data_train_copy, data_test_copy"
   ]
  },
  {
   "cell_type": "code",
   "execution_count": 69,
   "metadata": {
    "colab": {},
    "colab_type": "code",
    "id": "Wvlz4wsIkK7C"
   },
   "outputs": [],
   "source": [
    "# target encoding dla referral_source\n",
    "data_train_sex_num_rs_te_r45_med, data_test_sex_num_rs_te_r45_med = easy_imputation(data_train_sex_num_rs_te_r45, data_test_sex_num_rs_te_r45)\n",
    "data_train_sex_num_rs_te_rnan_med, data_test_sex_num_rs_te_rnan_med = easy_imputation(data_train_sex_num_rs_te_rnan, data_test_sex_num_rs_te_rnan)\n",
    "# one-hot encoding dla referral_source\n",
    "data_train_sex_num_rs_ohe_r45_med, data_test_sex_num_rs_ohe_r45_med = easy_imputation(data_train_sex_num_rs_ohe_r45, data_test_sex_num_rs_ohe_r45)\n",
    "data_train_sex_num_rs_ohe_rnan_med, data_test_sex_num_rs_ohe_rnan_med = easy_imputation(data_train_sex_num_rs_ohe_rnan, data_test_sex_num_rs_ohe_rnan)"
   ]
  },
  {
   "cell_type": "code",
   "execution_count": 70,
   "metadata": {
    "colab": {
     "base_uri": "https://localhost:8080/",
     "height": 156
    },
    "colab_type": "code",
    "id": "RyRfAoxPzsUo",
    "outputId": "fbb09d79-3211-4b1d-823f-88b6319cf264"
   },
   "outputs": [
    {
     "data": {
      "text/plain": [
       "age                0.0\n",
       "TSH                0.0\n",
       "T3                 0.0\n",
       "TT4                0.0\n",
       "T4U                0.0\n",
       "FTI                0.0\n",
       "referral_source    0.0\n",
       "dtype: float64"
      ]
     },
     "execution_count": 70,
     "metadata": {},
     "output_type": "execute_result"
    }
   ],
   "source": [
    "# sprawdźmy na przykładowej ramce danych czy na pewno usunęlismy braki danych\n",
    "percent_of_NA(data_train_sex_num_rs_te_r45_med)"
   ]
  },
  {
   "cell_type": "markdown",
   "metadata": {
    "colab_type": "text",
    "id": "dAOyZttcxgGL"
   },
   "source": [
    "Powyższe zbiory (mamy ich aż/tylko 8) zostały uzupełnione medianą. Teraz wykorzystamy średnią."
   ]
  },
  {
   "cell_type": "code",
   "execution_count": 71,
   "metadata": {
    "colab": {
     "base_uri": "https://localhost:8080/",
     "height": 156
    },
    "colab_type": "code",
    "id": "DUwFFenCxfXz",
    "outputId": "25a99530-8580-49a4-a684-a3896ce03a49"
   },
   "outputs": [
    {
     "data": {
      "text/plain": [
       "age                 51.731764\n",
       "TSH                  5.340764\n",
       "T3                   2.008486\n",
       "TT4                108.161188\n",
       "T4U                  0.995173\n",
       "FTI                110.268155\n",
       "referral_source      0.061319\n",
       "dtype: float64"
      ]
     },
     "execution_count": 71,
     "metadata": {},
     "output_type": "execute_result"
    }
   ],
   "source": [
    "data_train_sex_num_rs_te_r45.select_dtypes('float').mean()"
   ]
  },
  {
   "cell_type": "markdown",
   "metadata": {
    "colab_type": "text",
    "id": "yg3H2VV7zSj_"
   },
   "source": [
    "(Dla powyższego outputu gdzie mamy wybraną jedną ramkę) Większość hormonów się mieści w normie - poza TSH, który przekracza normę o 0.34 - 1.34 (w zależności o wybranej definicji)."
   ]
  },
  {
   "cell_type": "code",
   "execution_count": 72,
   "metadata": {
    "colab": {},
    "colab_type": "code",
    "id": "udLur0eloBEn"
   },
   "outputs": [],
   "source": [
    "# target encoding dla referral_source\n",
    "data_train_sex_num_rs_te_r45_mean, data_test_sex_num_rs_te_r45_mean = easy_imputation(data_train_sex_num_rs_te_r45, data_test_sex_num_rs_te_r45, 'mean')\n",
    "data_train_sex_num_rs_te_rnan_mean, data_test_sex_num_rs_te_rnan_mean = easy_imputation(data_train_sex_num_rs_te_rnan, data_test_sex_num_rs_te_rnan, 'mean')\n",
    "# one-hot encoding dla referral_source\n",
    "data_train_sex_num_rs_ohe_r45_mean, data_test_sex_num_rs_ohe_r45_mean = easy_imputation(data_train_sex_num_rs_ohe_r45, data_test_sex_num_rs_ohe_r45, 'mean')\n",
    "data_train_sex_num_rs_ohe_rnan_mean, data_test_sex_num_rs_ohe_rnan_mean = easy_imputation(data_train_sex_num_rs_ohe_rnan, data_test_sex_num_rs_ohe_rnan, 'mean')"
   ]
  },
  {
   "cell_type": "code",
   "execution_count": 73,
   "metadata": {
    "colab": {
     "base_uri": "https://localhost:8080/",
     "height": 156
    },
    "colab_type": "code",
    "id": "pklXmGW2s0I9",
    "outputId": "cad9c329-55df-432e-e03b-6c0189050a39"
   },
   "outputs": [
    {
     "data": {
      "text/plain": [
       "age                0.0\n",
       "TSH                0.0\n",
       "T3                 0.0\n",
       "TT4                0.0\n",
       "T4U                0.0\n",
       "FTI                0.0\n",
       "referral_source    0.0\n",
       "dtype: float64"
      ]
     },
     "execution_count": 73,
     "metadata": {},
     "output_type": "execute_result"
    }
   ],
   "source": [
    "# sprawdźmy na przykładowej ramce danych czy na pewno usunęlismy braki danych\n",
    "percent_of_NA(data_train_sex_num_rs_te_r45_mean)"
   ]
  },
  {
   "cell_type": "markdown",
   "metadata": {
    "colab_type": "text",
    "id": "ZxG3xse22Iao"
   },
   "source": [
    "Uzupełnijmy jeszcze modą nasze zbiory."
   ]
  },
  {
   "cell_type": "code",
   "execution_count": 74,
   "metadata": {
    "colab": {},
    "colab_type": "code",
    "id": "4lcXPR3W1KSv"
   },
   "outputs": [],
   "source": [
    "# target encoding dla referral_source\n",
    "data_train_sex_num_rs_te_r45_mode, data_test_sex_num_rs_te_r45_mode = easy_imputation(data_train_sex_num_rs_te_r45, data_test_sex_num_rs_te_r45, 'most_frequent')\n",
    "data_train_sex_num_rs_te_rnan_mode, data_test_sex_num_rs_te_rnan_mode = easy_imputation(data_train_sex_num_rs_te_rnan, data_test_sex_num_rs_te_rnan, 'most_frequent')\n",
    "# one-hot encoding dla referral_source\n",
    "data_train_sex_num_rs_ohe_r45_mode, data_test_sex_num_rs_ohe_r45_mode = easy_imputation(data_train_sex_num_rs_ohe_r45, data_test_sex_num_rs_ohe_r45, 'most_frequent')\n",
    "data_train_sex_num_rs_ohe_rnan_mode, data_test_sex_num_rs_ohe_rnan_mode = easy_imputation(data_train_sex_num_rs_ohe_rnan, data_test_sex_num_rs_ohe_rnan, 'most_frequent')"
   ]
  },
  {
   "cell_type": "code",
   "execution_count": 75,
   "metadata": {
    "colab": {
     "base_uri": "https://localhost:8080/",
     "height": 156
    },
    "colab_type": "code",
    "id": "V1VSlD3v3Ifl",
    "outputId": "5c067209-d4e3-4d86-b6fc-98b4618013f5"
   },
   "outputs": [
    {
     "data": {
      "text/plain": [
       "age                0.0\n",
       "TSH                0.0\n",
       "T3                 0.0\n",
       "TT4                0.0\n",
       "T4U                0.0\n",
       "FTI                0.0\n",
       "referral_source    0.0\n",
       "dtype: float64"
      ]
     },
     "execution_count": 75,
     "metadata": {},
     "output_type": "execute_result"
    }
   ],
   "source": [
    "# sprawdźmy na przykładowej ramce danych czy na pewno usunęlismy braki danych\n",
    "percent_of_NA(data_train_sex_num_rs_te_r45_mode)"
   ]
  },
  {
   "cell_type": "markdown",
   "metadata": {
    "colab_type": "text",
    "id": "Q04KK62c0IzZ"
   },
   "source": [
    "Podsumujmy ten akapit - mamy teraz zbiory, gdzie wartości ciągłe uzupełnione są medianą, średnią i modą, płeć jest uzupełniona losowo, dla źródeł o pacjentach mamy TE lub OHE, a wiek równy 455 został uzupełniony jako 45 albo imputacją. Nie uwzględnialismy metody polegającej na usuwaniu wierszy z brakami danych - stracilibyśmy zbyt dużo wierszy. "
   ]
  },
  {
   "cell_type": "markdown",
   "metadata": {
    "colab_type": "text",
    "id": "4grnMbVhP3m9"
   },
   "source": [
    "### KNN imputer\n",
    "\n",
    "\n"
   ]
  },
  {
   "cell_type": "markdown",
   "metadata": {
    "colab_type": "text",
    "id": "sZzbpCkf-Ldj"
   },
   "source": [
    "Wypełnimy braki danych przy pomocy algorytmu k najbliższych sąsiadów "
   ]
  },
  {
   "cell_type": "code",
   "execution_count": 76,
   "metadata": {
    "colab": {},
    "colab_type": "code",
    "id": "uZAgpaRS1ujO"
   },
   "outputs": [],
   "source": [
    "from sklearn.impute import KNNImputer\n",
    "def knn_imputation(data_train, data_test, k=61):\n",
    "    imp = KNNImputer(n_neighbors=k, weights=\"uniform\")  #n_neighbours ~ pierwiastek z liczby wierszy\n",
    "\n",
    "    data_train_copy = data_train.copy()\n",
    "    data_train_imp = pd.DataFrame(imp.fit_transform(data_train_copy.loc[:, ['age','TSH', 'T3', 'TT4', 'T4U', 'FTI']]), columns=['age','TSH', 'T3', 'TT4', 'T4U', 'FTI'])\n",
    "    data_train_copy.age = data_train_imp.age.values\n",
    "    data_train_copy.TSH = data_train_imp.TSH.values\n",
    "    data_train_copy.T3 = data_train_imp.T3.values\n",
    "    data_train_copy.TT4 = data_train_imp.TT4.values\n",
    "    data_train_copy.T4U = data_train_imp.T4U.values\n",
    "    data_train_copy.FTI = data_train_imp.FTI.values\n",
    "\n",
    "    data_test_copy = data_test.copy()\n",
    "    data_test_imp = pd.DataFrame(imp.transform(data_test_copy.loc[:, ['age','TSH', 'T3', 'TT4', 'T4U', 'FTI']]), columns=['age','TSH', 'T3', 'TT4', 'T4U', 'FTI'])\n",
    "    data_test_copy.age = data_test_imp.age.values\n",
    "    data_test_copy.TSH = data_test_imp.TSH.values\n",
    "    data_test_copy.T3 = data_test_imp.T3.values\n",
    "    data_test_copy.TT4 = data_test_imp.TT4.values\n",
    "    data_test_copy.T4U = data_test_imp.T4U.values\n",
    "    data_test_copy.FTI = data_test_imp.FTI.values\n",
    "    \n",
    "    return data_train_copy, data_test_copy"
   ]
  },
  {
   "cell_type": "code",
   "execution_count": 77,
   "metadata": {
    "colab": {},
    "colab_type": "code",
    "id": "xbOGnCEQ9C4D"
   },
   "outputs": [],
   "source": [
    "# target encoding dla referral_source\n",
    "data_train_sex_num_rs_te_r45_knn, data_test_sex_num_rs_te_r45_knn = knn_imputation(data_train_sex_num_rs_te_r45, data_test_sex_num_rs_te_r45)\n",
    "data_train_sex_num_rs_te_rnan_knn, data_test_sex_num_rs_te_rnan_knn = knn_imputation(data_train_sex_num_rs_te_rnan, data_test_sex_num_rs_te_rnan)\n",
    "# one-hot encoding dla referral_source\n",
    "data_train_sex_num_rs_ohe_r45_knn, data_test_sex_num_rs_ohe_r45_knn = knn_imputation(data_train_sex_num_rs_ohe_r45, data_test_sex_num_rs_ohe_r45)\n",
    "data_train_sex_num_rs_ohe_rnan_knn, data_test_sex_num_rs_ohe_rnan_knn = knn_imputation(data_train_sex_num_rs_ohe_rnan, data_test_sex_num_rs_ohe_rnan)"
   ]
  },
  {
   "cell_type": "code",
   "execution_count": 78,
   "metadata": {
    "colab": {
     "base_uri": "https://localhost:8080/",
     "height": 156
    },
    "colab_type": "code",
    "id": "UsWdl4099mkw",
    "outputId": "5ec787c1-2bd9-4e60-daac-0724b8b8abe2"
   },
   "outputs": [
    {
     "data": {
      "text/plain": [
       "age                0.0\n",
       "TSH                0.0\n",
       "T3                 0.0\n",
       "TT4                0.0\n",
       "T4U                0.0\n",
       "FTI                0.0\n",
       "referral_source    0.0\n",
       "dtype: float64"
      ]
     },
     "execution_count": 78,
     "metadata": {},
     "output_type": "execute_result"
    }
   ],
   "source": [
    "# sprawdźmy na przykładowej ramce danych czy na pewno usunęlismy braki danych\n",
    "percent_of_NA(data_train_sex_num_rs_te_r45_knn)"
   ]
  },
  {
   "cell_type": "markdown",
   "metadata": {
    "colab_type": "text",
    "id": "kECyWregCq8d"
   },
   "source": [
    "### ITERATIVE IMPUTATION"
   ]
  },
  {
   "cell_type": "markdown",
   "metadata": {
    "colab_type": "text",
    "id": "Fk_i86CUMAjP"
   },
   "source": [
    "W podstawowej wersji ten sposób imputacji zwraca ujemne wartości dla poziomu hormonów. Z tego powodu, ustawiony został parametr min_value = 0."
   ]
  },
  {
   "cell_type": "code",
   "execution_count": 79,
   "metadata": {
    "colab": {},
    "colab_type": "code",
    "id": "NxACF8w8CNhZ"
   },
   "outputs": [],
   "source": [
    "from sklearn.experimental import enable_iterative_imputer \n",
    "from sklearn.impute import IterativeImputer\n",
    "def it_imputation(data_train, data_test, max=10):\n",
    "   imp = IterativeImputer(max_iter=max, random_state = 70, min_value = 0)\n",
    "\n",
    "   data_train_copy = data_train.copy()\n",
    "   data_train_imp = pd.DataFrame(imp.fit_transform(data_train_copy.loc[:, ['age','TSH', 'T3', 'TT4', 'T4U', 'FTI']]), columns=['age','TSH', 'T3', 'TT4', 'T4U', 'FTI'])\n",
    "   data_train_copy.age = data_train_imp.age.values\n",
    "   data_train_copy.TSH = data_train_imp.TSH.values\n",
    "   data_train_copy.T3 = data_train_imp.T3.values\n",
    "   data_train_copy.TT4 = data_train_imp.TT4.values\n",
    "   data_train_copy.T4U = data_train_imp.T4U.values\n",
    "   data_train_copy.FTI = data_train_imp.FTI.values\n",
    "\n",
    "   data_test_copy = data_test.copy()\n",
    "   data_test_imp = pd.DataFrame(imp.transform(data_test_copy.loc[:, ['age','TSH', 'T3', 'TT4', 'T4U', 'FTI']]), columns=['age','TSH', 'T3', 'TT4', 'T4U', 'FTI'])\n",
    "   data_test_copy.age = data_test_imp.age.values\n",
    "   data_test_copy.TSH = data_test_imp.TSH.values\n",
    "   data_test_copy.T3 = data_test_imp.T3.values\n",
    "   data_test_copy.TT4 = data_test_imp.TT4.values\n",
    "   data_test_copy.T4U = data_test_imp.T4U.values\n",
    "   data_test_copy.FTI = data_test_imp.FTI.values\n",
    "   \n",
    "   return data_train_copy, data_test_copy"
   ]
  },
  {
   "cell_type": "code",
   "execution_count": 80,
   "metadata": {
    "colab": {
     "base_uri": "https://localhost:8080/",
     "height": 156
    },
    "colab_type": "code",
    "id": "VWl2K7KgLbgL",
    "outputId": "6a28622f-ccd4-4ca9-9034-dcc6223b95e7"
   },
   "outputs": [
    {
     "name": "stderr",
     "output_type": "stream",
     "text": [
      "/home/pawel/.local/lib/python3.6/site-packages/sklearn/impute/_iterative.py:638: ConvergenceWarning: [IterativeImputer] Early stopping criterion not reached.\n",
      "  \" reached.\", ConvergenceWarning)\n",
      "/home/pawel/.local/lib/python3.6/site-packages/sklearn/impute/_iterative.py:638: ConvergenceWarning: [IterativeImputer] Early stopping criterion not reached.\n",
      "  \" reached.\", ConvergenceWarning)\n",
      "/home/pawel/.local/lib/python3.6/site-packages/sklearn/impute/_iterative.py:638: ConvergenceWarning: [IterativeImputer] Early stopping criterion not reached.\n",
      "  \" reached.\", ConvergenceWarning)\n",
      "/home/pawel/.local/lib/python3.6/site-packages/sklearn/impute/_iterative.py:638: ConvergenceWarning: [IterativeImputer] Early stopping criterion not reached.\n",
      "  \" reached.\", ConvergenceWarning)\n"
     ]
    }
   ],
   "source": [
    "# target encoding dla referral_source\n",
    "data_train_sex_num_rs_te_r45_iterimp, data_test_sex_num_rs_te_r45_iterimp = it_imputation(data_train_sex_num_rs_te_r45, data_test_sex_num_rs_te_r45)\n",
    "data_train_sex_num_rs_te_rnan_iterimp, data_test_sex_num_rs_te_rnan_iterimp = it_imputation(data_train_sex_num_rs_te_rnan, data_test_sex_num_rs_te_rnan)\n",
    "# one-hot encoding dla referral_source\n",
    "data_train_sex_num_rs_ohe_r45_iterimp, data_test_sex_num_rs_ohe_r45_iterimp = it_imputation(data_train_sex_num_rs_ohe_r45, data_test_sex_num_rs_ohe_r45)\n",
    "data_train_sex_num_rs_ohe_rnan_iterimp, data_test_sex_num_rs_ohe_rnan_iterimp = it_imputation(data_train_sex_num_rs_ohe_rnan, data_test_sex_num_rs_ohe_rnan)"
   ]
  },
  {
   "cell_type": "code",
   "execution_count": 81,
   "metadata": {
    "colab": {
     "base_uri": "https://localhost:8080/",
     "height": 156
    },
    "colab_type": "code",
    "id": "GU45yeUpLcTw",
    "outputId": "c88841cc-305d-4eaf-ec14-75b250e524ad"
   },
   "outputs": [
    {
     "data": {
      "text/plain": [
       "age                0.0\n",
       "TSH                0.0\n",
       "T3                 0.0\n",
       "TT4                0.0\n",
       "T4U                0.0\n",
       "FTI                0.0\n",
       "referral_source    0.0\n",
       "dtype: float64"
      ]
     },
     "execution_count": 81,
     "metadata": {},
     "output_type": "execute_result"
    }
   ],
   "source": [
    "# sprawdźmy na przykładowej ramce danych czy na pewno usunęlismy braki danych\n",
    "percent_of_NA(data_train_sex_num_rs_te_r45_iterimp)"
   ]
  },
  {
   "cell_type": "markdown",
   "metadata": {
    "colab_type": "text",
    "id": "iRl8S5HlNJ1_"
   },
   "source": [
    "## XGBOOST "
   ]
  },
  {
   "cell_type": "markdown",
   "metadata": {
    "colab_type": "text",
    "id": "hvKmJOW_NmSM"
   },
   "source": [
    "One hot encoding"
   ]
  },
  {
   "cell_type": "markdown",
   "metadata": {
    "colab_type": "text",
    "id": "4YW4EbqTUk-Y"
   },
   "source": [
    "#### r45"
   ]
  },
  {
   "cell_type": "code",
   "execution_count": 82,
   "metadata": {
    "colab": {
     "base_uri": "https://localhost:8080/",
     "height": 104
    },
    "colab_type": "code",
    "id": "VCC4e2FUMTmm",
    "outputId": "a7efee71-436b-4c6e-d307-a3d29a23c4a5"
   },
   "outputs": [
    {
     "ename": "ModuleNotFoundError",
     "evalue": "No module named 'xgboost'",
     "output_type": "error",
     "traceback": [
      "\u001b[0;31m---------------------------------------------------------------------------\u001b[0m",
      "\u001b[0;31mModuleNotFoundError\u001b[0m                       Traceback (most recent call last)",
      "\u001b[0;32m<ipython-input-82-8013748fd319>\u001b[0m in \u001b[0;36m<module>\u001b[0;34m\u001b[0m\n\u001b[0;32m----> 1\u001b[0;31m \u001b[0;32mfrom\u001b[0m \u001b[0mxgboost\u001b[0m \u001b[0;32mimport\u001b[0m \u001b[0mXGBClassifier\u001b[0m\u001b[0;34m\u001b[0m\u001b[0;34m\u001b[0m\u001b[0m\n\u001b[0m\u001b[1;32m      2\u001b[0m \u001b[0;34m\u001b[0m\u001b[0m\n\u001b[1;32m      3\u001b[0m model=XGBClassifier(random_state=1,\n\u001b[1;32m      4\u001b[0m                     \u001b[0mlearning_rate\u001b[0m\u001b[0;34m=\u001b[0m\u001b[0;36m0.01\u001b[0m\u001b[0;34m,\u001b[0m \u001b[0;31m# Szybkość \"uczenia\" się\u001b[0m\u001b[0;34m\u001b[0m\u001b[0;34m\u001b[0m\u001b[0m\n\u001b[1;32m      5\u001b[0m                     \u001b[0mbooster\u001b[0m\u001b[0;34m=\u001b[0m\u001b[0;34m'gbtree'\u001b[0m\u001b[0;34m,\u001b[0m\u001b[0;34m\u001b[0m\u001b[0;34m\u001b[0m\u001b[0m\n",
      "\u001b[0;31mModuleNotFoundError\u001b[0m: No module named 'xgboost'"
     ]
    }
   ],
   "source": [
    "from xgboost import XGBClassifier\n",
    "\n",
    "model=XGBClassifier(random_state=1,\n",
    "                    learning_rate=0.01, # Szybkość \"uczenia\" się\n",
    "                    booster='gbtree',\n",
    "                    nround = 100, # Ilość itereacji boosingowych\n",
    "                    max_depth=4 # Maksymalna głębokość drzewa,\n",
    "                    )\n",
    "model.fit(data_train_sex_num_rs_ohe_r45_mean, target_train)\n",
    "ohe_r45_mean_score = model.score(data_test_sex_num_rs_ohe_r45_mean, target_test)\n",
    "model.fit(data_train_sex_num_rs_ohe_r45_med, target_train)\n",
    "ohe_r45_med_score = model.score(data_test_sex_num_rs_ohe_r45_med, target_test)\n",
    "model.fit(data_train_sex_num_rs_ohe_r45_mode, target_train)\n",
    "ohe_r45_mode_score = model.score(data_test_sex_num_rs_ohe_r45_mode, target_test)\n",
    "model.fit(data_train_sex_num_rs_ohe_r45_knn, target_train)\n",
    "ohe_r45_knn_score = model.score(data_test_sex_num_rs_ohe_r45_knn, target_test)\n",
    "model.fit(data_train_sex_num_rs_ohe_r45_iterimp, target_train)\n",
    "ohe_r45_iterimp_score = model.score(data_test_sex_num_rs_ohe_r45_iterimp, target_test)\n",
    "print(\"ohe_r45_mean_score\", ohe_r45_mean_score)\n",
    "print(\"ohe_r45_med_score\", ohe_r45_med_score)\n",
    "print(\"ohe_r45_mode_score\", ohe_r45_mode_score)\n",
    "print(\"ohe_r45_knn_score\", ohe_r45_knn_score)\n",
    "print(\"ohe_r45_iterimp_score\", ohe_r45_iterimp_score)"
   ]
  },
  {
   "cell_type": "markdown",
   "metadata": {
    "colab_type": "text",
    "id": "W3TkyLp_VLU8"
   },
   "source": [
    "#### rnan"
   ]
  },
  {
   "cell_type": "code",
   "execution_count": 83,
   "metadata": {
    "colab": {
     "base_uri": "https://localhost:8080/",
     "height": 104
    },
    "colab_type": "code",
    "id": "w8Lekj8pUtDK",
    "outputId": "45cde252-b008-437c-90fa-80c3202a3b6b"
   },
   "outputs": [
    {
     "ename": "NameError",
     "evalue": "name 'XGBClassifier' is not defined",
     "output_type": "error",
     "traceback": [
      "\u001b[0;31m---------------------------------------------------------------------------\u001b[0m",
      "\u001b[0;31mNameError\u001b[0m                                 Traceback (most recent call last)",
      "\u001b[0;32m<ipython-input-83-e2d2ec341beb>\u001b[0m in \u001b[0;36m<module>\u001b[0;34m\u001b[0m\n\u001b[0;32m----> 1\u001b[0;31m model=XGBClassifier(random_state=1,\n\u001b[0m\u001b[1;32m      2\u001b[0m                     \u001b[0mlearning_rate\u001b[0m\u001b[0;34m=\u001b[0m\u001b[0;36m0.01\u001b[0m\u001b[0;34m,\u001b[0m \u001b[0;31m# Szybkość \"uczenia\" się\u001b[0m\u001b[0;34m\u001b[0m\u001b[0;34m\u001b[0m\u001b[0m\n\u001b[1;32m      3\u001b[0m                     \u001b[0mbooster\u001b[0m\u001b[0;34m=\u001b[0m\u001b[0;34m'gbtree'\u001b[0m\u001b[0;34m,\u001b[0m\u001b[0;34m\u001b[0m\u001b[0;34m\u001b[0m\u001b[0m\n\u001b[1;32m      4\u001b[0m                     \u001b[0mnround\u001b[0m \u001b[0;34m=\u001b[0m \u001b[0;36m100\u001b[0m\u001b[0;34m,\u001b[0m \u001b[0;31m# Ilość itereacji boosingowych\u001b[0m\u001b[0;34m\u001b[0m\u001b[0;34m\u001b[0m\u001b[0m\n\u001b[1;32m      5\u001b[0m                     \u001b[0mmax_depth\u001b[0m\u001b[0;34m=\u001b[0m\u001b[0;36m4\u001b[0m \u001b[0;31m# Maksymalna głębokość drzewa,\u001b[0m\u001b[0;34m\u001b[0m\u001b[0;34m\u001b[0m\u001b[0m\n",
      "\u001b[0;31mNameError\u001b[0m: name 'XGBClassifier' is not defined"
     ]
    }
   ],
   "source": [
    "model=XGBClassifier(random_state=1,\n",
    "                    learning_rate=0.01, # Szybkość \"uczenia\" się\n",
    "                    booster='gbtree',\n",
    "                    nround = 100, # Ilość itereacji boosingowych\n",
    "                    max_depth=4 # Maksymalna głębokość drzewa,\n",
    "                    )\n",
    "model.fit(data_train_sex_num_rs_ohe_rnan_mean, target_train)\n",
    "ohe_rnan_mean_score = model.score(data_test_sex_num_rs_ohe_rnan_mean, target_test)\n",
    "model.fit(data_train_sex_num_rs_ohe_rnan_med, target_train)\n",
    "ohe_rnan_med_score = model.score(data_test_sex_num_rs_ohe_rnan_med, target_test)\n",
    "model.fit(data_train_sex_num_rs_ohe_rnan_mode, target_train)\n",
    "ohe_rnan_mode_score = model.score(data_test_sex_num_rs_ohe_rnan_mode, target_test)\n",
    "model.fit(data_train_sex_num_rs_ohe_rnan_knn, target_train)\n",
    "ohe_rnan_knn_score = model.score(data_test_sex_num_rs_ohe_rnan_knn, target_test)\n",
    "model.fit(data_train_sex_num_rs_ohe_rnan_iterimp, target_train)\n",
    "ohe_rnan_iterimp_score = model.score(data_test_sex_num_rs_ohe_rnan_iterimp, target_test)\n",
    "print(\"ohe_rnan_mean_score\", ohe_rnan_mean_score)\n",
    "print(\"ohe_rnan_med_score\", ohe_rnan_med_score)\n",
    "print(\"ohe_rnan_mode_score\", ohe_rnan_mode_score)\n",
    "print(\"ohe_rnan_knn_score\", ohe_rnan_knn_score)\n",
    "print(\"ohe_rnan_iterimp_score\", ohe_rnan_iterimp_score)"
   ]
  },
  {
   "cell_type": "markdown",
   "metadata": {
    "colab_type": "text",
    "id": "snG82mjvT1z8"
   },
   "source": [
    "Target encoding\n"
   ]
  },
  {
   "cell_type": "markdown",
   "metadata": {
    "colab_type": "text",
    "id": "7RXGnTh_VVuR"
   },
   "source": [
    "#### r45"
   ]
  },
  {
   "cell_type": "code",
   "execution_count": 84,
   "metadata": {
    "colab": {
     "base_uri": "https://localhost:8080/",
     "height": 104
    },
    "colab_type": "code",
    "id": "phJJUnTqQLgu",
    "outputId": "62761732-fbc3-4d2a-ed78-98e2a30cec0e"
   },
   "outputs": [
    {
     "ename": "NameError",
     "evalue": "name 'XGBClassifier' is not defined",
     "output_type": "error",
     "traceback": [
      "\u001b[0;31m---------------------------------------------------------------------------\u001b[0m",
      "\u001b[0;31mNameError\u001b[0m                                 Traceback (most recent call last)",
      "\u001b[0;32m<ipython-input-84-b69f0c37b989>\u001b[0m in \u001b[0;36m<module>\u001b[0;34m\u001b[0m\n\u001b[0;32m----> 1\u001b[0;31m model=XGBClassifier(random_state=1,\n\u001b[0m\u001b[1;32m      2\u001b[0m                     \u001b[0mlearning_rate\u001b[0m\u001b[0;34m=\u001b[0m\u001b[0;36m0.01\u001b[0m\u001b[0;34m,\u001b[0m \u001b[0;31m# Szybkość \"uczenia\" się\u001b[0m\u001b[0;34m\u001b[0m\u001b[0;34m\u001b[0m\u001b[0m\n\u001b[1;32m      3\u001b[0m                     \u001b[0mbooster\u001b[0m\u001b[0;34m=\u001b[0m\u001b[0;34m'gbtree'\u001b[0m\u001b[0;34m,\u001b[0m\u001b[0;34m\u001b[0m\u001b[0;34m\u001b[0m\u001b[0m\n\u001b[1;32m      4\u001b[0m                     \u001b[0mnround\u001b[0m \u001b[0;34m=\u001b[0m \u001b[0;36m100\u001b[0m\u001b[0;34m,\u001b[0m \u001b[0;31m# Ilość itereacji boosingowych\u001b[0m\u001b[0;34m\u001b[0m\u001b[0;34m\u001b[0m\u001b[0m\n\u001b[1;32m      5\u001b[0m                     \u001b[0mmax_depth\u001b[0m\u001b[0;34m=\u001b[0m\u001b[0;36m4\u001b[0m\u001b[0;34m,\u001b[0m \u001b[0;31m# Maksymalna głębokość drzewa\u001b[0m\u001b[0;34m\u001b[0m\u001b[0;34m\u001b[0m\u001b[0m\n",
      "\u001b[0;31mNameError\u001b[0m: name 'XGBClassifier' is not defined"
     ]
    }
   ],
   "source": [
    "model=XGBClassifier(random_state=1,\n",
    "                    learning_rate=0.01, # Szybkość \"uczenia\" się\n",
    "                    booster='gbtree',\n",
    "                    nround = 100, # Ilość itereacji boosingowych\n",
    "                    max_depth=4, # Maksymalna głębokość drzewa\n",
    "                    )\n",
    "model.fit(data_train_sex_num_rs_te_r45_mean, target_train)\n",
    "te_r45_mean_score = model.score(data_test_sex_num_rs_te_r45_mean, target_test)\n",
    "model.fit(data_train_sex_num_rs_te_r45_med, target_train)\n",
    "te_r45_med_score = model.score(data_test_sex_num_rs_te_r45_med, target_test)\n",
    "model.fit(data_train_sex_num_rs_te_r45_mode, target_train)\n",
    "te_r45_mode_score = model.score(data_test_sex_num_rs_te_r45_mode, target_test)\n",
    "model.fit(data_train_sex_num_rs_te_r45_knn, target_train)\n",
    "te_r45_knn_score = model.score(data_test_sex_num_rs_te_r45_knn, target_test)\n",
    "model.fit(data_train_sex_num_rs_te_r45_iterimp, target_train)\n",
    "te_r45_iterimp_score = model.score(data_test_sex_num_rs_te_r45_iterimp, target_test)\n",
    "print(\"te_r45_mean_score\", te_r45_mean_score)\n",
    "print(\"te_r45_med_score\", te_r45_med_score)\n",
    "print(\"te_r45_mode_score\", te_r45_mode_score)\n",
    "print(\"te_r45_knn_score\", te_r45_knn_score)\n",
    "print(\"te_r45_iterimp_score\", te_r45_iterimp_score)"
   ]
  },
  {
   "cell_type": "markdown",
   "metadata": {
    "colab_type": "text",
    "id": "WSuwOFsyVXhH"
   },
   "source": [
    "#### rnan"
   ]
  },
  {
   "cell_type": "code",
   "execution_count": 85,
   "metadata": {
    "colab": {
     "base_uri": "https://localhost:8080/",
     "height": 104
    },
    "colab_type": "code",
    "id": "NMDTz6ZmVmN_",
    "outputId": "d9ea03ae-e413-4251-dfb0-c3fb25a7902b"
   },
   "outputs": [
    {
     "ename": "NameError",
     "evalue": "name 'XGBClassifier' is not defined",
     "output_type": "error",
     "traceback": [
      "\u001b[0;31m---------------------------------------------------------------------------\u001b[0m",
      "\u001b[0;31mNameError\u001b[0m                                 Traceback (most recent call last)",
      "\u001b[0;32m<ipython-input-85-a0f9a74f1476>\u001b[0m in \u001b[0;36m<module>\u001b[0;34m\u001b[0m\n\u001b[0;32m----> 1\u001b[0;31m model=XGBClassifier(random_state=1,\n\u001b[0m\u001b[1;32m      2\u001b[0m                     \u001b[0mlearning_rate\u001b[0m\u001b[0;34m=\u001b[0m\u001b[0;36m0.01\u001b[0m\u001b[0;34m,\u001b[0m \u001b[0;31m# Szybkość \"uczenia\" się\u001b[0m\u001b[0;34m\u001b[0m\u001b[0;34m\u001b[0m\u001b[0m\n\u001b[1;32m      3\u001b[0m                     \u001b[0mbooster\u001b[0m\u001b[0;34m=\u001b[0m\u001b[0;34m'gbtree'\u001b[0m\u001b[0;34m,\u001b[0m\u001b[0;34m\u001b[0m\u001b[0;34m\u001b[0m\u001b[0m\n\u001b[1;32m      4\u001b[0m                     \u001b[0mnround\u001b[0m \u001b[0;34m=\u001b[0m \u001b[0;36m100\u001b[0m\u001b[0;34m,\u001b[0m \u001b[0;31m# Ilość itereacji boosingowych\u001b[0m\u001b[0;34m\u001b[0m\u001b[0;34m\u001b[0m\u001b[0m\n\u001b[1;32m      5\u001b[0m                     \u001b[0mmax_depth\u001b[0m\u001b[0;34m=\u001b[0m\u001b[0;36m4\u001b[0m\u001b[0;34m,\u001b[0m \u001b[0;31m# Maksymalna głębokość drzewa\u001b[0m\u001b[0;34m\u001b[0m\u001b[0;34m\u001b[0m\u001b[0m\n",
      "\u001b[0;31mNameError\u001b[0m: name 'XGBClassifier' is not defined"
     ]
    }
   ],
   "source": [
    "model=XGBClassifier(random_state=1,\n",
    "                    learning_rate=0.01, # Szybkość \"uczenia\" się\n",
    "                    booster='gbtree',\n",
    "                    nround = 100, # Ilość itereacji boosingowych\n",
    "                    max_depth=4, # Maksymalna głębokość drzewa\n",
    "                    )\n",
    "model.fit(data_train_sex_num_rs_te_rnan_mean, target_train)\n",
    "te_rnan_mean_score = model.score(data_test_sex_num_rs_te_rnan_mean, target_test)\n",
    "model.fit(data_train_sex_num_rs_te_rnan_med, target_train)\n",
    "te_rnan_med_score = model.score(data_test_sex_num_rs_te_rnan_med, target_test)\n",
    "model.fit(data_train_sex_num_rs_te_rnan_mode, target_train)\n",
    "te_rnan_mode_score = model.score(data_test_sex_num_rs_te_rnan_mode, target_test)\n",
    "model.fit(data_train_sex_num_rs_te_rnan_knn, target_train)\n",
    "te_rnan_knn_score = model.score(data_test_sex_num_rs_te_rnan_knn, target_test)\n",
    "model.fit(data_train_sex_num_rs_te_rnan_iterimp, target_train)\n",
    "te_r45_iterimp_score = model.score(data_test_sex_num_rs_te_rnan_iterimp, target_test)\n",
    "print(\"te_rnan_mean_score\", te_rnan_mean_score)\n",
    "print(\"te_rnan_med_score\", te_rnan_med_score)\n",
    "print(\"te_rnan_mode_score\", te_rnan_mode_score)\n",
    "print(\"te_rnan_knn_score\", te_rnan_knn_score)\n",
    "print(\"te_r45_iterimp_score\", te_r45_iterimp_score)"
   ]
  },
  {
   "cell_type": "markdown",
   "metadata": {
    "colab_type": "text",
    "id": "YiNLH5PWLoaD"
   },
   "source": [
    "Jak się okazuje, różne metody kodowania nie miały żadnego wpływu na jakość modelu XGBoost. W związku z tym, tylko dla wybranych sprawdzimy wpływ różnych parametrów na działanie funkcji."
   ]
  },
  {
   "cell_type": "code",
   "execution_count": 86,
   "metadata": {
    "colab": {},
    "colab_type": "code",
    "id": "CaIfpvOzKvzA"
   },
   "outputs": [
    {
     "ename": "NameError",
     "evalue": "name 'XGBClassifier' is not defined",
     "output_type": "error",
     "traceback": [
      "\u001b[0;31m---------------------------------------------------------------------------\u001b[0m",
      "\u001b[0;31mNameError\u001b[0m                                 Traceback (most recent call last)",
      "\u001b[0;32m<ipython-input-86-4d841a5e75ea>\u001b[0m in \u001b[0;36m<module>\u001b[0;34m\u001b[0m\n\u001b[1;32m      6\u001b[0m   \u001b[0;32mfor\u001b[0m \u001b[0mest\u001b[0m \u001b[0;32min\u001b[0m \u001b[0mn_estimators\u001b[0m\u001b[0;34m:\u001b[0m\u001b[0;34m\u001b[0m\u001b[0;34m\u001b[0m\u001b[0m\n\u001b[1;32m      7\u001b[0m     \u001b[0;32mfor\u001b[0m \u001b[0mmd\u001b[0m \u001b[0;32min\u001b[0m \u001b[0mmax_depths\u001b[0m\u001b[0;34m:\u001b[0m\u001b[0;34m\u001b[0m\u001b[0;34m\u001b[0m\u001b[0m\n\u001b[0;32m----> 8\u001b[0;31m       model = XGBClassifier(random_state = 34,\n\u001b[0m\u001b[1;32m      9\u001b[0m                               \u001b[0mlearning_rate\u001b[0m \u001b[0;34m=\u001b[0m \u001b[0mlr\u001b[0m\u001b[0;34m,\u001b[0m\u001b[0;34m\u001b[0m\u001b[0;34m\u001b[0m\u001b[0m\n\u001b[1;32m     10\u001b[0m                               \u001b[0mn_estimators\u001b[0m \u001b[0;34m=\u001b[0m \u001b[0mest\u001b[0m\u001b[0;34m,\u001b[0m\u001b[0;34m\u001b[0m\u001b[0;34m\u001b[0m\u001b[0m\n",
      "\u001b[0;31mNameError\u001b[0m: name 'XGBClassifier' is not defined"
     ]
    }
   ],
   "source": [
    "learning_rates = [0.01, 0.05, 0.1, 0.15]\n",
    "n_estimators = [50, 100, 300]\n",
    "max_depths = [2, 4, 7, 10]\n",
    "xgbScores = pd.DataFrame(columns=['learning_rate', 'n_estimators', 'max_depth', '1. Score', '2. Score'])\n",
    "for lr in learning_rates:\n",
    "  for est in n_estimators:\n",
    "    for md in max_depths:\n",
    "      model = XGBClassifier(random_state = 34,\n",
    "                              learning_rate = lr,\n",
    "                              n_estimators = est,\n",
    "                              max_depth = md)\n",
    "      model.fit(data_train_sex_num_rs_ohe_rnan_knn, target_train)\n",
    "      ohe_rnan_knn_score = model.score(data_test_sex_num_rs_ohe_rnan_knn, target_test)\n",
    "      model.fit(data_train_sex_num_rs_te_r45_iterimp, target_train)\n",
    "      te_r45_iterimp_score = model.score(data_test_sex_num_rs_te_r45_iterimp, target_test)\n",
    "      xgbScores = xgbScores.append({'learning_rate': lr, 'n_estimators': est, 'max_depth': md, '1. Score': ohe_rnan_knn_score, \"2. Score\": te_r45_iterimp_score}, ignore_index=True)"
   ]
  },
  {
   "cell_type": "code",
   "execution_count": 65,
   "metadata": {
    "colab": {
     "base_uri": "https://localhost:8080/",
     "height": 434
    },
    "colab_type": "code",
    "id": "I632hT7kQ5Ir",
    "outputId": "4174493b-b40c-4ae9-abd7-7d30064da411"
   },
   "outputs": [
    {
     "ename": "ValueError",
     "evalue": "max() arg is an empty sequence",
     "output_type": "error",
     "traceback": [
      "\u001b[0;31m---------------------------------------------------------------------------\u001b[0m",
      "\u001b[0;31mValueError\u001b[0m                                Traceback (most recent call last)",
      "\u001b[0;32m<ipython-input-65-3f5b35b64226>\u001b[0m in \u001b[0;36m<module>\u001b[0;34m\u001b[0m\n\u001b[0;32m----> 1\u001b[0;31m \u001b[0mprint\u001b[0m\u001b[0;34m(\u001b[0m\u001b[0mxgbScores\u001b[0m\u001b[0;34m[\u001b[0m\u001b[0mxgbScores\u001b[0m\u001b[0;34m[\u001b[0m\u001b[0;34m\"1. Score\"\u001b[0m\u001b[0;34m]\u001b[0m \u001b[0;34m==\u001b[0m \u001b[0mmax\u001b[0m\u001b[0;34m(\u001b[0m\u001b[0mxgbScores\u001b[0m\u001b[0;34m[\u001b[0m\u001b[0;34m\"1. Score\"\u001b[0m\u001b[0;34m]\u001b[0m\u001b[0;34m)\u001b[0m\u001b[0;34m]\u001b[0m\u001b[0;34m)\u001b[0m\u001b[0;34m\u001b[0m\u001b[0;34m\u001b[0m\u001b[0m\n\u001b[0m\u001b[1;32m      2\u001b[0m \u001b[0mprint\u001b[0m\u001b[0;34m(\u001b[0m\u001b[0mxgbScores\u001b[0m\u001b[0;34m[\u001b[0m\u001b[0mxgbScores\u001b[0m\u001b[0;34m[\u001b[0m\u001b[0;34m\"2. Score\"\u001b[0m\u001b[0;34m]\u001b[0m \u001b[0;34m==\u001b[0m \u001b[0mmax\u001b[0m\u001b[0;34m(\u001b[0m\u001b[0mxgbScores\u001b[0m\u001b[0;34m[\u001b[0m\u001b[0;34m\"2. Score\"\u001b[0m\u001b[0;34m]\u001b[0m\u001b[0;34m)\u001b[0m\u001b[0;34m]\u001b[0m\u001b[0;34m)\u001b[0m\u001b[0;34m\u001b[0m\u001b[0;34m\u001b[0m\u001b[0m\n\u001b[1;32m      3\u001b[0m \u001b[0mprint\u001b[0m\u001b[0;34m(\u001b[0m\u001b[0mxgbScores\u001b[0m\u001b[0;34m[\u001b[0m\u001b[0mxgbScores\u001b[0m\u001b[0;34m[\u001b[0m\u001b[0;34m\"1. Score\"\u001b[0m\u001b[0;34m]\u001b[0m \u001b[0;34m==\u001b[0m \u001b[0mmin\u001b[0m\u001b[0;34m(\u001b[0m\u001b[0mxgbScores\u001b[0m\u001b[0;34m[\u001b[0m\u001b[0;34m\"1. Score\"\u001b[0m\u001b[0;34m]\u001b[0m\u001b[0;34m)\u001b[0m\u001b[0;34m]\u001b[0m\u001b[0;34m)\u001b[0m\u001b[0;34m\u001b[0m\u001b[0;34m\u001b[0m\u001b[0m\n\u001b[1;32m      4\u001b[0m \u001b[0mprint\u001b[0m\u001b[0;34m(\u001b[0m\u001b[0mxgbScores\u001b[0m\u001b[0;34m[\u001b[0m\u001b[0mxgbScores\u001b[0m\u001b[0;34m[\u001b[0m\u001b[0;34m\"2. Score\"\u001b[0m\u001b[0;34m]\u001b[0m \u001b[0;34m==\u001b[0m \u001b[0mmin\u001b[0m\u001b[0;34m(\u001b[0m\u001b[0mxgbScores\u001b[0m\u001b[0;34m[\u001b[0m\u001b[0;34m\"2. Score\"\u001b[0m\u001b[0;34m]\u001b[0m\u001b[0;34m)\u001b[0m\u001b[0;34m]\u001b[0m\u001b[0;34m)\u001b[0m\u001b[0;34m\u001b[0m\u001b[0;34m\u001b[0m\u001b[0m\n",
      "\u001b[0;31mValueError\u001b[0m: max() arg is an empty sequence"
     ]
    }
   ],
   "source": [
    "print(xgbScores[xgbScores[\"1. Score\"] == max(xgbScores[\"1. Score\"])])\n",
    "print(xgbScores[xgbScores[\"2. Score\"] == max(xgbScores[\"2. Score\"])])\n",
    "print(xgbScores[xgbScores[\"1. Score\"] == min(xgbScores[\"1. Score\"])])\n",
    "print(xgbScores[xgbScores[\"2. Score\"] == min(xgbScores[\"2. Score\"])])"
   ]
  },
  {
   "cell_type": "markdown",
   "metadata": {
    "colab_type": "text",
    "id": "MIpcjNbERhnO"
   },
   "source": [
    "Jak można zauważyć, przy wykorzystaniu drzew o większej głębokości, osiągane wyniki były wyższe niż przy drzewach dwupoziomowych. Podobnych wniosków nie można wyciągnąć na temat żadnej z innych zmiennych."
   ]
  },
  {
   "cell_type": "markdown",
   "metadata": {
    "colab_type": "text",
    "id": "wOJ4_NRySJQ-"
   },
   "source": [
    "## Random Forest\n",
    "Sprawdzimy skuteczność metody przy stosowaniu różnych metod kodowania zmiennych kategorycznych - wykorzystamy jedynie ramki danych, które zamieniły wiek '455' na nieokreśloną wartość."
   ]
  },
  {
   "cell_type": "code",
   "execution_count": 66,
   "metadata": {
    "colab": {},
    "colab_type": "code",
    "id": "JIDFv9HXSHyd"
   },
   "outputs": [],
   "source": [
    "from sklearn.ensemble import RandomForestClassifier\n",
    "from sklearn import metrics\n",
    "rf = RandomForestClassifier(random_state = 354)"
   ]
  },
  {
   "cell_type": "code",
   "execution_count": 67,
   "metadata": {
    "colab": {},
    "colab_type": "code",
    "id": "tJx7bAeVRgYE"
   },
   "outputs": [
    {
     "ename": "NameError",
     "evalue": "name 'target_train' is not defined",
     "output_type": "error",
     "traceback": [
      "\u001b[0;31m---------------------------------------------------------------------------\u001b[0m",
      "\u001b[0;31mNameError\u001b[0m                                 Traceback (most recent call last)",
      "\u001b[0;32m<ipython-input-67-8d534b51fbdb>\u001b[0m in \u001b[0;36m<module>\u001b[0;34m\u001b[0m\n\u001b[0;32m----> 1\u001b[0;31m \u001b[0;32mdef\u001b[0m \u001b[0mRFtest\u001b[0m\u001b[0;34m(\u001b[0m\u001b[0mdataset\u001b[0m\u001b[0;34m,\u001b[0m \u001b[0mtrainset\u001b[0m\u001b[0;34m,\u001b[0m \u001b[0mtitle\u001b[0m\u001b[0;34m,\u001b[0m \u001b[0mrf\u001b[0m \u001b[0;34m=\u001b[0m \u001b[0mrf\u001b[0m\u001b[0;34m,\u001b[0m \u001b[0mtarget_train\u001b[0m \u001b[0;34m=\u001b[0m \u001b[0mtarget_train\u001b[0m\u001b[0;34m,\u001b[0m \u001b[0mtarget_test\u001b[0m \u001b[0;34m=\u001b[0m \u001b[0mtarget_test\u001b[0m\u001b[0;34m)\u001b[0m\u001b[0;34m:\u001b[0m\u001b[0;34m\u001b[0m\u001b[0;34m\u001b[0m\u001b[0m\n\u001b[0m\u001b[1;32m      2\u001b[0m   \u001b[0mrf\u001b[0m\u001b[0;34m.\u001b[0m\u001b[0mfit\u001b[0m\u001b[0;34m(\u001b[0m\u001b[0mdataset\u001b[0m\u001b[0;34m,\u001b[0m \u001b[0mtarget_train\u001b[0m\u001b[0;34m)\u001b[0m\u001b[0;34m\u001b[0m\u001b[0;34m\u001b[0m\u001b[0m\n\u001b[1;32m      3\u001b[0m   \u001b[0mdisp\u001b[0m \u001b[0;34m=\u001b[0m \u001b[0mmetrics\u001b[0m\u001b[0;34m.\u001b[0m\u001b[0mplot_confusion_matrix\u001b[0m\u001b[0;34m(\u001b[0m\u001b[0mrf\u001b[0m\u001b[0;34m,\u001b[0m \u001b[0mtrainset\u001b[0m\u001b[0;34m,\u001b[0m \u001b[0mtarget_test\u001b[0m\u001b[0;34m,\u001b[0m \u001b[0mnormalize\u001b[0m \u001b[0;34m=\u001b[0m \u001b[0;34m'all'\u001b[0m\u001b[0;34m,\u001b[0m \u001b[0mvalues_format\u001b[0m\u001b[0;34m=\u001b[0m\u001b[0;34m\".4g\"\u001b[0m\u001b[0;34m)\u001b[0m\u001b[0;34m\u001b[0m\u001b[0;34m\u001b[0m\u001b[0m\n\u001b[1;32m      4\u001b[0m   \u001b[0mdisp\u001b[0m\u001b[0;34m.\u001b[0m\u001b[0max_\u001b[0m\u001b[0;34m.\u001b[0m\u001b[0mset_title\u001b[0m\u001b[0;34m(\u001b[0m\u001b[0mtitle\u001b[0m\u001b[0;34m)\u001b[0m\u001b[0;34m\u001b[0m\u001b[0;34m\u001b[0m\u001b[0m\n",
      "\u001b[0;31mNameError\u001b[0m: name 'target_train' is not defined"
     ]
    }
   ],
   "source": [
    "def RFtest(dataset, trainset, title, rf = rf, target_train = target_train, target_test = target_test):\n",
    "  rf.fit(dataset, target_train)\n",
    "  disp = metrics.plot_confusion_matrix(rf, trainset, target_test, normalize = 'all', values_format=\".4g\")\n",
    "  disp.ax_.set_title(title)\n"
   ]
  },
  {
   "cell_type": "markdown",
   "metadata": {
    "colab_type": "text",
    "id": "hiCWV_4OaOCy"
   },
   "source": [
    "Będziemy tworzyć macierze konfuzji - z racji charakterystyki zbioru, na którym pracujemy, potencjalnym podejściem może być chęć zminimalizowania liczbę przypadków False Negative (lewy dolny róg)."
   ]
  },
  {
   "cell_type": "code",
   "execution_count": 68,
   "metadata": {
    "colab": {
     "base_uri": "https://localhost:8080/",
     "height": 573
    },
    "colab_type": "code",
    "id": "OE3vxmL0RgVx",
    "outputId": "880204c4-a44f-437c-a07a-ef7e50f526a6"
   },
   "outputs": [
    {
     "ename": "NameError",
     "evalue": "name 'RFtest' is not defined",
     "output_type": "error",
     "traceback": [
      "\u001b[0;31m---------------------------------------------------------------------------\u001b[0m",
      "\u001b[0;31mNameError\u001b[0m                                 Traceback (most recent call last)",
      "\u001b[0;32m<ipython-input-68-1895e3d77d9f>\u001b[0m in \u001b[0;36m<module>\u001b[0;34m\u001b[0m\n\u001b[0;32m----> 1\u001b[0;31m \u001b[0mRFtest\u001b[0m\u001b[0;34m(\u001b[0m\u001b[0mdata_train_sex_num_rs_te_rnan_med\u001b[0m\u001b[0;34m,\u001b[0m \u001b[0mdata_test_sex_num_rs_te_rnan_med\u001b[0m\u001b[0;34m,\u001b[0m \u001b[0;34m\"RS Target Encoding + Median Imputation\"\u001b[0m\u001b[0;34m)\u001b[0m\u001b[0;34m\u001b[0m\u001b[0;34m\u001b[0m\u001b[0m\n\u001b[0m\u001b[1;32m      2\u001b[0m \u001b[0mRFtest\u001b[0m\u001b[0;34m(\u001b[0m\u001b[0mdata_train_sex_num_rs_ohe_rnan_med\u001b[0m\u001b[0;34m,\u001b[0m \u001b[0mdata_test_sex_num_rs_ohe_rnan_med\u001b[0m\u001b[0;34m,\u001b[0m \u001b[0;34m\"RS One-Hot Encoding + Median Imputation\"\u001b[0m\u001b[0;34m)\u001b[0m\u001b[0;34m\u001b[0m\u001b[0;34m\u001b[0m\u001b[0m\n",
      "\u001b[0;31mNameError\u001b[0m: name 'RFtest' is not defined"
     ]
    }
   ],
   "source": [
    "RFtest(data_train_sex_num_rs_te_rnan_med, data_test_sex_num_rs_te_rnan_med, \"RS Target Encoding + Median Imputation\")\n",
    "RFtest(data_train_sex_num_rs_ohe_rnan_med, data_test_sex_num_rs_ohe_rnan_med, \"RS One-Hot Encoding + Median Imputation\")"
   ]
  },
  {
   "cell_type": "code",
   "execution_count": 69,
   "metadata": {
    "colab": {
     "base_uri": "https://localhost:8080/",
     "height": 573
    },
    "colab_type": "code",
    "id": "HJx7ec0pRgTK",
    "outputId": "3dc8cb66-7bde-4a34-fa22-fb17286b1c78"
   },
   "outputs": [
    {
     "ename": "NameError",
     "evalue": "name 'RFtest' is not defined",
     "output_type": "error",
     "traceback": [
      "\u001b[0;31m---------------------------------------------------------------------------\u001b[0m",
      "\u001b[0;31mNameError\u001b[0m                                 Traceback (most recent call last)",
      "\u001b[0;32m<ipython-input-69-10f12ca5e0c1>\u001b[0m in \u001b[0;36m<module>\u001b[0;34m\u001b[0m\n\u001b[0;32m----> 1\u001b[0;31m \u001b[0mRFtest\u001b[0m\u001b[0;34m(\u001b[0m\u001b[0mdata_train_sex_num_rs_te_rnan_mean\u001b[0m\u001b[0;34m,\u001b[0m \u001b[0mdata_test_sex_num_rs_te_rnan_mean\u001b[0m\u001b[0;34m,\u001b[0m \u001b[0;34m\"RS Target Encoding + Mean Imputation\"\u001b[0m\u001b[0;34m)\u001b[0m\u001b[0;34m\u001b[0m\u001b[0;34m\u001b[0m\u001b[0m\n\u001b[0m\u001b[1;32m      2\u001b[0m \u001b[0mRFtest\u001b[0m\u001b[0;34m(\u001b[0m\u001b[0mdata_train_sex_num_rs_ohe_rnan_mean\u001b[0m\u001b[0;34m,\u001b[0m \u001b[0mdata_test_sex_num_rs_ohe_rnan_mean\u001b[0m\u001b[0;34m,\u001b[0m \u001b[0;34m\"RS One-Hot Encoding + Mean Imputation\"\u001b[0m\u001b[0;34m)\u001b[0m\u001b[0;34m\u001b[0m\u001b[0;34m\u001b[0m\u001b[0m\n",
      "\u001b[0;31mNameError\u001b[0m: name 'RFtest' is not defined"
     ]
    }
   ],
   "source": [
    "RFtest(data_train_sex_num_rs_te_rnan_mean, data_test_sex_num_rs_te_rnan_mean, \"RS Target Encoding + Mean Imputation\")\n",
    "RFtest(data_train_sex_num_rs_ohe_rnan_mean, data_test_sex_num_rs_ohe_rnan_mean, \"RS One-Hot Encoding + Mean Imputation\")"
   ]
  },
  {
   "cell_type": "code",
   "execution_count": null,
   "metadata": {
    "colab": {
     "base_uri": "https://localhost:8080/",
     "height": 573
    },
    "colab_type": "code",
    "id": "2EcZpjt4RgQS",
    "outputId": "bcab653b-f4c2-46b7-871c-85c99bbb06f7"
   },
   "outputs": [],
   "source": [
    "RFtest(data_train_sex_num_rs_te_rnan_knn, data_test_sex_num_rs_te_rnan_knn, \"RS Target Encoding + KNN Imputer\")\n",
    "RFtest(data_train_sex_num_rs_ohe_rnan_knn, data_test_sex_num_rs_ohe_rnan_knn, \"RS One-Hot Encoding + KNN Imputer\")"
   ]
  },
  {
   "cell_type": "markdown",
   "metadata": {
    "colab_type": "text",
    "id": "EzR8r-XvaBSc"
   },
   "source": [
    "Obserwacja: w dotychczasowych przypadkach można odnieść wrażenie, że One-Hot Encoding skutkuje większym odsetkiem predykowanych 0."
   ]
  },
  {
   "cell_type": "code",
   "execution_count": 70,
   "metadata": {
    "colab": {
     "base_uri": "https://localhost:8080/",
     "height": 573
    },
    "colab_type": "code",
    "id": "S9Sqgtx6aAzs",
    "outputId": "c01ae8ad-cc96-46fe-fd9c-ce96700669bf"
   },
   "outputs": [
    {
     "ename": "NameError",
     "evalue": "name 'RFtest' is not defined",
     "output_type": "error",
     "traceback": [
      "\u001b[0;31m---------------------------------------------------------------------------\u001b[0m",
      "\u001b[0;31mNameError\u001b[0m                                 Traceback (most recent call last)",
      "\u001b[0;32m<ipython-input-70-a6e26dacc0d9>\u001b[0m in \u001b[0;36m<module>\u001b[0;34m\u001b[0m\n\u001b[0;32m----> 1\u001b[0;31m \u001b[0mRFtest\u001b[0m\u001b[0;34m(\u001b[0m\u001b[0mdata_train_sex_num_rs_te_rnan_iterimp\u001b[0m\u001b[0;34m,\u001b[0m \u001b[0mdata_test_sex_num_rs_te_rnan_iterimp\u001b[0m\u001b[0;34m,\u001b[0m \u001b[0;34m\"RS Target Encoding + Iterative Imputer\"\u001b[0m\u001b[0;34m)\u001b[0m\u001b[0;34m\u001b[0m\u001b[0;34m\u001b[0m\u001b[0m\n\u001b[0m\u001b[1;32m      2\u001b[0m \u001b[0mRFtest\u001b[0m\u001b[0;34m(\u001b[0m\u001b[0mdata_train_sex_num_rs_ohe_rnan_iterimp\u001b[0m\u001b[0;34m,\u001b[0m \u001b[0mdata_test_sex_num_rs_ohe_rnan_iterimp\u001b[0m\u001b[0;34m,\u001b[0m \u001b[0;34m\"RS One-Hot Encoding + Iterative Imputer\"\u001b[0m\u001b[0;34m)\u001b[0m\u001b[0;34m\u001b[0m\u001b[0;34m\u001b[0m\u001b[0m\n",
      "\u001b[0;31mNameError\u001b[0m: name 'RFtest' is not defined"
     ]
    }
   ],
   "source": [
    "RFtest(data_train_sex_num_rs_te_rnan_iterimp, data_test_sex_num_rs_te_rnan_iterimp, \"RS Target Encoding + Iterative Imputer\")\n",
    "RFtest(data_train_sex_num_rs_ohe_rnan_iterimp, data_test_sex_num_rs_ohe_rnan_iterimp, \"RS One-Hot Encoding + Iterative Imputer\")"
   ]
  },
  {
   "cell_type": "code",
   "execution_count": null,
   "metadata": {},
   "outputs": [],
   "source": []
  },
  {
   "cell_type": "code",
   "execution_count": null,
   "metadata": {},
   "outputs": [],
   "source": []
  }
 ],
 "metadata": {
  "colab": {
   "collapsed_sections": [],
   "name": "Sick_GassowskaPrzybylekKozminski.ipynb",
   "provenance": [],
   "toc_visible": true
  },
  "kernelspec": {
   "display_name": "Python 3",
   "language": "python",
   "name": "python3"
  },
  "language_info": {
   "codemirror_mode": {
    "name": "ipython",
    "version": 3
   },
   "file_extension": ".py",
   "mimetype": "text/x-python",
   "name": "python",
   "nbconvert_exporter": "python",
   "pygments_lexer": "ipython3",
   "version": "3.6.9"
  }
 },
 "nbformat": 4,
 "nbformat_minor": 1
}
