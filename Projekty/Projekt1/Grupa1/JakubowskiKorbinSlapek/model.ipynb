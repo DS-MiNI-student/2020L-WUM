{
 "cells": [
  {
   "cell_type": "markdown",
   "metadata": {},
   "source": [
    "# Modelling"
   ]
  },
  {
   "cell_type": "markdown",
   "metadata": {},
   "source": [
    "## Library"
   ]
  },
  {
   "cell_type": "code",
   "execution_count": 1,
   "metadata": {},
   "outputs": [],
   "source": [
    "import pandas as pd\n",
    "import numpy as np\n",
    "import sklearn \n",
    "import seaborn as sns\n",
    "import matplotlib.pyplot as plt\n",
    "import warnings\n",
    "warnings.filterwarnings('ignore')"
   ]
  },
  {
   "cell_type": "markdown",
   "metadata": {},
   "source": [
    "## Read data"
   ]
  },
  {
   "cell_type": "code",
   "execution_count": 2,
   "metadata": {},
   "outputs": [],
   "source": [
    "data = pd.read_csv(\"https://www.mldata.io/download-csv-weka/german_credit_data/\")"
   ]
  },
  {
   "cell_type": "markdown",
   "metadata": {},
   "source": [
    "## Preparing data for modeling"
   ]
  },
  {
   "cell_type": "markdown",
   "metadata": {},
   "source": [
    "### Variable types\n",
    "\n",
    "#### Continuous  \n",
    "- duration\n",
    "- credit_amount\n",
    "- age\n",
    "- installment_rate\n",
    "- present_residence\n",
    "- dependents\n",
    "- existing_credits\n",
    "\n",
    "\n",
    "#### Nominal  \n",
    "- credit_history\n",
    "- purpose\n",
    "- personal\n",
    "- other_debtors\n",
    "- property\n",
    "- other_installment_plans\n",
    "- housing\n",
    "- job\n",
    "- telephone\n",
    "- foreign_worker\n",
    "- present_employment\n",
    "\n",
    "#### Ordinal\n",
    "- checking_account_status\n",
    "- savings  \n",
    "\n",
    "in both cases amounts can be put in order, but having no account should be treated as different variable during encoding"
   ]
  },
  {
   "cell_type": "markdown",
   "metadata": {},
   "source": [
    "## Change name "
   ]
  },
  {
   "cell_type": "code",
   "execution_count": 3,
   "metadata": {},
   "outputs": [],
   "source": [
    "data.telephone = data.telephone.map({\"A191\": 0, \"A192\": 1})\n",
    "data.foreign_worker = data.foreign_worker.map({\"A201\": 1, \"A202\": 0})\n",
    "data.job = data.job.map({\"A171\" : \"unemployed/unskilled\",\"A172\": \"unskilled-resident\", \"A173\": \"skilled_employee\",\"A174\": \"management/self-employed\"})\n",
    "data.housing = data.housing.map({'A151' : 'rent', 'A152' : 'own', 'A153' : 'free'})\n",
    "data.purpose = data.purpose.map({'A40': 'new car', 'A41': 'used car', 'A42': 'furniture/equipment', 'A43': 'radio/television', 'A44': 'domestic appliances', 'A45': 'repairs', 'A46': 'education', 'A47': 'vacation', 'A48':'retraining',\n",
    "'A49': 'business', 'A410': 'others'})\n",
    "data.other_debtors = data.other_debtors.map({'A101': 'none', 'A102': 'co-applicant', 'A103': 'guarantor'})\n",
    "data.other_installment_plans = data.other_installment_plans.map({'A141': 'bank', 'A142': 'stores', 'A143': 'none'})"
   ]
  },
  {
   "cell_type": "code",
   "execution_count": 4,
   "metadata": {},
   "outputs": [
    {
     "data": {
      "text/plain": [
       "1    700\n",
       "0    300\n",
       "Name: customer_type, dtype: int64"
      ]
     },
     "execution_count": 4,
     "metadata": {},
     "output_type": "execute_result"
    }
   ],
   "source": [
    "data.customer_type.replace([1,2], [1,0], inplace=True)\n",
    "data.customer_type.value_counts()"
   ]
  },
  {
   "cell_type": "code",
   "execution_count": 5,
   "metadata": {},
   "outputs": [
    {
     "name": "stdout",
     "output_type": "stream",
     "text": [
      "<class 'pandas.core.frame.DataFrame'>\n",
      "RangeIndex: 1000 entries, 0 to 999\n",
      "Data columns (total 21 columns):\n",
      " #   Column                   Non-Null Count  Dtype  \n",
      "---  ------                   --------------  -----  \n",
      " 0   checking_account_status  1000 non-null   object \n",
      " 1   duration                 1000 non-null   int64  \n",
      " 2   credit_history           1000 non-null   object \n",
      " 3   purpose                  1000 non-null   object \n",
      " 4   credit_amount            1000 non-null   float64\n",
      " 5   savings                  1000 non-null   object \n",
      " 6   present_employment       1000 non-null   object \n",
      " 7   installment_rate         1000 non-null   float64\n",
      " 8   personal                 1000 non-null   object \n",
      " 9   other_debtors            1000 non-null   object \n",
      " 10  present_residence        1000 non-null   float64\n",
      " 11  property                 1000 non-null   object \n",
      " 12  age                      1000 non-null   float64\n",
      " 13  other_installment_plans  1000 non-null   object \n",
      " 14  housing                  1000 non-null   object \n",
      " 15  existing_credits         1000 non-null   float64\n",
      " 16  job                      1000 non-null   object \n",
      " 17  dependents               1000 non-null   int64  \n",
      " 18  telephone                1000 non-null   int64  \n",
      " 19  foreign_worker           1000 non-null   int64  \n",
      " 20  customer_type            1000 non-null   int64  \n",
      "dtypes: float64(5), int64(5), object(11)\n",
      "memory usage: 164.2+ KB\n"
     ]
    }
   ],
   "source": [
    "data.info()"
   ]
  },
  {
   "cell_type": "markdown",
   "metadata": {},
   "source": [
    "## Handling outliers\n",
    "\n",
    "As said earlier, only observable outliers can appear in credit_ammount column. Let's take a closer look.\n",
    "\n"
   ]
  },
  {
   "cell_type": "code",
   "execution_count": 6,
   "metadata": {
    "scrolled": true
   },
   "outputs": [
    {
     "data": {
      "text/plain": [
       "<matplotlib.axes._subplots.AxesSubplot at 0x1f41cec3898>"
      ]
     },
     "execution_count": 6,
     "metadata": {},
     "output_type": "execute_result"
    },
    {
     "data": {
      "image/png": "[encoded data removed]",
      "text/plain": [
       "<Figure size 432x288 with 1 Axes>"
      ]
     },
     "metadata": {},
     "output_type": "display_data"
    }
   ],
   "source": [
    "sns.boxplot(x = data['credit_amount'])"
   ]
  },
  {
   "cell_type": "code",
   "execution_count": 7,
   "metadata": {},
   "outputs": [
    {
     "data": {
      "text/plain": [
       "0.45714285714285713"
      ]
     },
     "execution_count": 7,
     "metadata": {},
     "output_type": "execute_result"
    }
   ],
   "source": [
    "data_out = data[data.credit_amount>8000]\n",
    "data_out.customer_type.mean()"
   ]
  },
  {
   "cell_type": "code",
   "execution_count": 8,
   "metadata": {
    "scrolled": true
   },
   "outputs": [
    {
     "data": {
      "text/plain": [
       "0.4"
      ]
     },
     "execution_count": 8,
     "metadata": {},
     "output_type": "execute_result"
    }
   ],
   "source": [
    "data_out = data[data.credit_amount>10000]\n",
    "data_out.customer_type.mean()"
   ]
  },
  {
   "cell_type": "code",
   "execution_count": 9,
   "metadata": {
    "scrolled": true
   },
   "outputs": [
    {
     "data": {
      "text/plain": [
       "0.3076923076923077"
      ]
     },
     "execution_count": 9,
     "metadata": {},
     "output_type": "execute_result"
    }
   ],
   "source": [
    "data_out = data[data.credit_amount>13000]\n",
    "data_out.customer_type.mean()"
   ]
  },
  {
   "cell_type": "markdown",
   "metadata": {},
   "source": [
    "so the higher as outliers go the less likely it is that credit was paid"
   ]
  },
  {
   "cell_type": "code",
   "execution_count": 10,
   "metadata": {
    "scrolled": true
   },
   "outputs": [
    {
     "data": {
      "text/plain": [
       "0.7"
      ]
     },
     "execution_count": 10,
     "metadata": {},
     "output_type": "execute_result"
    }
   ],
   "source": [
    "data.customer_type.mean()"
   ]
  },
  {
   "cell_type": "code",
   "execution_count": 11,
   "metadata": {
    "scrolled": true
   },
   "outputs": [
    {
     "data": {
      "text/plain": [
       "0.7125"
      ]
     },
     "execution_count": 11,
     "metadata": {},
     "output_type": "execute_result"
    }
   ],
   "source": [
    "data[data.credit_amount<10000].customer_type.mean()"
   ]
  },
  {
   "cell_type": "code",
   "execution_count": 12,
   "metadata": {},
   "outputs": [
    {
     "data": {
      "text/plain": [
       "960"
      ]
     },
     "execution_count": 12,
     "metadata": {},
     "output_type": "execute_result"
    }
   ],
   "source": [
    "len(data[data.credit_amount<10000])"
   ]
  },
  {
   "cell_type": "markdown",
   "metadata": {},
   "source": [
    "Still these outliers don't differentiate distribution of customer_type that much, so keeping them might provide some valuable information and deffinately won't affect modeling badly."
   ]
  },
  {
   "cell_type": "markdown",
   "metadata": {},
   "source": [
    "## Adding gender"
   ]
  },
  {
   "cell_type": "code",
   "execution_count": 13,
   "metadata": {},
   "outputs": [],
   "source": [
    "data['sex'] = data.personal.apply(lambda x: 1 if x in ['A91', 'A93', 'A94'] else 0) # male = 1, female = 0"
   ]
  },
  {
   "cell_type": "markdown",
   "metadata": {},
   "source": [
    "## Adding info abour account presence"
   ]
  },
  {
   "cell_type": "code",
   "execution_count": 14,
   "metadata": {},
   "outputs": [],
   "source": [
    "data['checking_account_exists'] = np.where(data['checking_account_status']=='A14', 0, 1)\n",
    "data['savings_account_exists'] = np.where(data['savings']=='A65', 0, 1)"
   ]
  },
  {
   "cell_type": "markdown",
   "metadata": {},
   "source": [
    "## Divide data into train and test set"
   ]
  },
  {
   "cell_type": "code",
   "execution_count": 15,
   "metadata": {},
   "outputs": [],
   "source": [
    "from sklearn.model_selection import train_test_split\n",
    "X_train, X_test, y_train, y_test = train_test_split(data.drop('customer_type', axis=1), data.customer_type, test_size=0.3)"
   ]
  },
  {
   "cell_type": "markdown",
   "metadata": {},
   "source": [
    "## Encoding function"
   ]
  },
  {
   "cell_type": "code",
   "execution_count": 16,
   "metadata": {},
   "outputs": [
    {
     "name": "stdout",
     "output_type": "stream",
     "text": [
      "<class 'pandas.core.frame.DataFrame'>\n",
      "RangeIndex: 1000 entries, 0 to 999\n",
      "Data columns (total 24 columns):\n",
      " #   Column                   Non-Null Count  Dtype  \n",
      "---  ------                   --------------  -----  \n",
      " 0   checking_account_status  1000 non-null   object \n",
      " 1   duration                 1000 non-null   int64  \n",
      " 2   credit_history           1000 non-null   object \n",
      " 3   purpose                  1000 non-null   object \n",
      " 4   credit_amount            1000 non-null   float64\n",
      " 5   savings                  1000 non-null   object \n",
      " 6   present_employment       1000 non-null   object \n",
      " 7   installment_rate         1000 non-null   float64\n",
      " 8   personal                 1000 non-null   object \n",
      " 9   other_debtors            1000 non-null   object \n",
      " 10  present_residence        1000 non-null   float64\n",
      " 11  property                 1000 non-null   object \n",
      " 12  age                      1000 non-null   float64\n",
      " 13  other_installment_plans  1000 non-null   object \n",
      " 14  housing                  1000 non-null   object \n",
      " 15  existing_credits         1000 non-null   float64\n",
      " 16  job                      1000 non-null   object \n",
      " 17  dependents               1000 non-null   int64  \n",
      " 18  telephone                1000 non-null   int64  \n",
      " 19  foreign_worker           1000 non-null   int64  \n",
      " 20  customer_type            1000 non-null   int64  \n",
      " 21  sex                      1000 non-null   int64  \n",
      " 22  checking_account_exists  1000 non-null   int32  \n",
      " 23  savings_account_exists   1000 non-null   int32  \n",
      "dtypes: float64(5), int32(2), int64(6), object(11)\n",
      "memory usage: 179.8+ KB\n"
     ]
    }
   ],
   "source": [
    "data.info()"
   ]
  },
  {
   "cell_type": "code",
   "execution_count": 17,
   "metadata": {},
   "outputs": [],
   "source": [
    "import category_encoders as ce\n",
    "class Error(Exception):\n",
    "    pass\n",
    "class NonMatchingLengthsError(Error):\n",
    "    pass"
   ]
  },
  {
   "cell_type": "code",
   "execution_count": 18,
   "metadata": {},
   "outputs": [],
   "source": [
    "def multiEnc(X_train, X_test, target_train, cols, encodings):\n",
    "    \"\"\"\n",
    "    Lista znaków do \"encodings\":\n",
    "        d - backward difference\n",
    "        n - base N\n",
    "        b - binary\n",
    "        c - cat boost\n",
    "        # - hashing\n",
    "        h - helmert\n",
    "        j - James-Stein\n",
    "        l - leave one out\n",
    "        m - m-estimate\n",
    "        1 - one-hot\n",
    "        o - ordinal\n",
    "        p - polynomial\n",
    "        s - sum coding\n",
    "        t - target encoding\n",
    "        w - weight of evidence\n",
    "    \"\"\"\n",
    "    ce_map = {\"d\": ce.backward_difference.BackwardDifferenceEncoder,\n",
    "             \"n\": ce.basen.BaseNEncoder,\n",
    "             \"b\": ce.binary.BinaryEncoder,\n",
    "             \"c\": ce.cat_boost.CatBoostEncoder,\n",
    "             \"#\": ce.hashing.HashingEncoder,\n",
    "             \"h\": ce.helmert.HelmertEncoder,\n",
    "             \"j\": ce.james_stein.JamesSteinEncoder,\n",
    "             \"l\": ce.leave_one_out.LeaveOneOutEncoder,\n",
    "             \"m\": ce.m_estimate.MEstimateEncoder,\n",
    "             \"1\": ce.one_hot.OneHotEncoder,\n",
    "             \"o\": ce.ordinal.OrdinalEncoder,\n",
    "             \"p\": ce.polynomial.PolynomialEncoder,\n",
    "             \"s\": ce.sum_coding.SumEncoder,\n",
    "             \"t\": ce.target_encoder.TargetEncoder,\n",
    "             \"w\": ce.woe.WOEEncoder}\n",
    "    try:\n",
    "        if len(cols)!=len(encodings):\n",
    "            raise(NonMatchingLengthsError)\n",
    "    except NonMatchingLengthsError:\n",
    "        print(\"Lengths do not match\")\n",
    "        return None\n",
    "    e=0\n",
    "    for c in cols:\n",
    "        if X_train[c].dtypes=='object':\n",
    "            enc=ce_map[encodings[e]](cols=c)\n",
    "            enc=enc.fit(X_train, target_train)\n",
    "            X_train=enc.transform(X_train)\n",
    "            X_test=enc.transform(X_test)\n",
    "        e=e+1\n",
    "    return (X_train, X_test)"
   ]
  },
  {
   "cell_type": "code",
   "execution_count": 19,
   "metadata": {},
   "outputs": [],
   "source": [
    "#X_train, X_test = multiEnc(X_train, X_test, y_train ,['job'], ['1'])"
   ]
  },
  {
   "cell_type": "code",
   "execution_count": 20,
   "metadata": {},
   "outputs": [
    {
     "data": {
      "text/html": [
       "<div>\n",
       "<style scoped>\n",
       "    .dataframe tbody tr th:only-of-type {\n",
       "        vertical-align: middle;\n",
       "    }\n",
       "\n",
       "    .dataframe tbody tr th {\n",
       "        vertical-align: top;\n",
       "    }\n",
       "\n",
       "    .dataframe thead th {\n",
       "        text-align: right;\n",
       "    }\n",
       "</style>\n",
       "<table border=\"1\" class=\"dataframe\">\n",
       "  <thead>\n",
       "    <tr style=\"text-align: right;\">\n",
       "      <th></th>\n",
       "      <th>checking_account_status</th>\n",
       "      <th>duration</th>\n",
       "      <th>credit_history</th>\n",
       "      <th>purpose</th>\n",
       "      <th>credit_amount</th>\n",
       "      <th>savings</th>\n",
       "      <th>present_employment</th>\n",
       "      <th>installment_rate</th>\n",
       "      <th>personal</th>\n",
       "      <th>other_debtors</th>\n",
       "      <th>...</th>\n",
       "      <th>other_installment_plans</th>\n",
       "      <th>housing</th>\n",
       "      <th>existing_credits</th>\n",
       "      <th>job</th>\n",
       "      <th>dependents</th>\n",
       "      <th>telephone</th>\n",
       "      <th>foreign_worker</th>\n",
       "      <th>sex</th>\n",
       "      <th>checking_account_exists</th>\n",
       "      <th>savings_account_exists</th>\n",
       "    </tr>\n",
       "  </thead>\n",
       "  <tbody>\n",
       "    <tr>\n",
       "      <th>36</th>\n",
       "      <td>A14</td>\n",
       "      <td>48</td>\n",
       "      <td>A34</td>\n",
       "      <td>education</td>\n",
       "      <td>6110.0</td>\n",
       "      <td>A61</td>\n",
       "      <td>A73</td>\n",
       "      <td>1.0</td>\n",
       "      <td>A93</td>\n",
       "      <td>none</td>\n",
       "      <td>...</td>\n",
       "      <td>bank</td>\n",
       "      <td>free</td>\n",
       "      <td>1.0</td>\n",
       "      <td>skilled_employee</td>\n",
       "      <td>1</td>\n",
       "      <td>1</td>\n",
       "      <td>1</td>\n",
       "      <td>1</td>\n",
       "      <td>0</td>\n",
       "      <td>1</td>\n",
       "    </tr>\n",
       "    <tr>\n",
       "      <th>381</th>\n",
       "      <td>A12</td>\n",
       "      <td>18</td>\n",
       "      <td>A32</td>\n",
       "      <td>used car</td>\n",
       "      <td>12976.0</td>\n",
       "      <td>A61</td>\n",
       "      <td>A71</td>\n",
       "      <td>3.0</td>\n",
       "      <td>A92</td>\n",
       "      <td>none</td>\n",
       "      <td>...</td>\n",
       "      <td>none</td>\n",
       "      <td>free</td>\n",
       "      <td>1.0</td>\n",
       "      <td>management/self-employed</td>\n",
       "      <td>1</td>\n",
       "      <td>1</td>\n",
       "      <td>1</td>\n",
       "      <td>0</td>\n",
       "      <td>1</td>\n",
       "      <td>1</td>\n",
       "    </tr>\n",
       "    <tr>\n",
       "      <th>0</th>\n",
       "      <td>A11</td>\n",
       "      <td>6</td>\n",
       "      <td>A34</td>\n",
       "      <td>radio/television</td>\n",
       "      <td>1169.0</td>\n",
       "      <td>A65</td>\n",
       "      <td>A75</td>\n",
       "      <td>4.0</td>\n",
       "      <td>A93</td>\n",
       "      <td>none</td>\n",
       "      <td>...</td>\n",
       "      <td>none</td>\n",
       "      <td>own</td>\n",
       "      <td>2.0</td>\n",
       "      <td>skilled_employee</td>\n",
       "      <td>1</td>\n",
       "      <td>1</td>\n",
       "      <td>1</td>\n",
       "      <td>1</td>\n",
       "      <td>1</td>\n",
       "      <td>0</td>\n",
       "    </tr>\n",
       "    <tr>\n",
       "      <th>531</th>\n",
       "      <td>A12</td>\n",
       "      <td>15</td>\n",
       "      <td>A32</td>\n",
       "      <td>new car</td>\n",
       "      <td>2631.0</td>\n",
       "      <td>A62</td>\n",
       "      <td>A73</td>\n",
       "      <td>2.0</td>\n",
       "      <td>A92</td>\n",
       "      <td>none</td>\n",
       "      <td>...</td>\n",
       "      <td>none</td>\n",
       "      <td>rent</td>\n",
       "      <td>2.0</td>\n",
       "      <td>skilled_employee</td>\n",
       "      <td>1</td>\n",
       "      <td>1</td>\n",
       "      <td>1</td>\n",
       "      <td>0</td>\n",
       "      <td>1</td>\n",
       "      <td>1</td>\n",
       "    </tr>\n",
       "  </tbody>\n",
       "</table>\n",
       "<p>4 rows × 23 columns</p>\n",
       "</div>"
      ],
      "text/plain": [
       "    checking_account_status  duration credit_history           purpose  \\\n",
       "36                      A14        48            A34         education   \n",
       "381                     A12        18            A32          used car   \n",
       "0                       A11         6            A34  radio/television   \n",
       "531                     A12        15            A32           new car   \n",
       "\n",
       "     credit_amount savings present_employment  installment_rate personal  \\\n",
       "36          6110.0     A61                A73               1.0      A93   \n",
       "381        12976.0     A61                A71               3.0      A92   \n",
       "0           1169.0     A65                A75               4.0      A93   \n",
       "531         2631.0     A62                A73               2.0      A92   \n",
       "\n",
       "    other_debtors  ...  other_installment_plans housing  existing_credits  \\\n",
       "36           none  ...                     bank    free               1.0   \n",
       "381          none  ...                     none    free               1.0   \n",
       "0            none  ...                     none     own               2.0   \n",
       "531          none  ...                     none    rent               2.0   \n",
       "\n",
       "                          job dependents  telephone foreign_worker  sex  \\\n",
       "36           skilled_employee          1          1              1    1   \n",
       "381  management/self-employed          1          1              1    0   \n",
       "0            skilled_employee          1          1              1    1   \n",
       "531          skilled_employee          1          1              1    0   \n",
       "\n",
       "     checking_account_exists  savings_account_exists  \n",
       "36                         0                       1  \n",
       "381                        1                       1  \n",
       "0                          1                       0  \n",
       "531                        1                       1  \n",
       "\n",
       "[4 rows x 23 columns]"
      ]
     },
     "execution_count": 20,
     "metadata": {},
     "output_type": "execute_result"
    }
   ],
   "source": [
    "X_train.head(4)"
   ]
  },
  {
   "cell_type": "markdown",
   "metadata": {},
   "source": [
    "## Normalizing continous variables"
   ]
  },
  {
   "cell_type": "code",
   "execution_count": 21,
   "metadata": {},
   "outputs": [],
   "source": [
    "from sklearn import preprocessing \n",
    "\n",
    "def normalize(df, columns):\n",
    "    for column in columns:\n",
    "        x = df[[column]].values.astype(float)\n",
    "        min_max_scaler = preprocessing.MinMaxScaler()\n",
    "        x_scaled = min_max_scaler.fit_transform(x)\n",
    "        df[[column]] = x_scaled\n",
    "    return df"
   ]
  },
  {
   "cell_type": "code",
   "execution_count": 22,
   "metadata": {},
   "outputs": [],
   "source": [
    "data = normalize(data, ['duration', 'credit_amount', 'age', 'installment_rate', 'present_residence', 'dependents', 'existing_credits'])"
   ]
  },
  {
   "cell_type": "markdown",
   "metadata": {},
   "source": [
    "## Create generic functions to add models and make a Cross-Validation"
   ]
  },
  {
   "cell_type": "code",
   "execution_count": 55,
   "metadata": {},
   "outputs": [],
   "source": [
    "from abc import (ABC, \n",
    "                 abstractmethod, \n",
    "                 abstractproperty)\n",
    "from typing import Any\n",
    "from sklearn.model_selection import train_test_split\n",
    "\n",
    "from sklearn.tree import DecisionTreeClassifier\n",
    "from sklearn.linear_model import LogisticRegression\n",
    "from sklearn.svm import SVC\n",
    "from sklearn.naive_bayes import GaussianNB\n",
    "from sklearn.ensemble import RandomForestClassifier\n",
    "from sklearn.ensemble import AdaBoostClassifier\n",
    "from sklearn.ensemble import GradientBoostingClassifier\n",
    "from xgboost import XGBClassifier # Inna paczka niż sklearn!\n",
    "import xgboost as xgb\n",
    "\n",
    "\n",
    "class Builder(ABC):\n",
    "\n",
    "    @abstractproperty\n",
    "    def product(self) -> None:\n",
    "        pass\n",
    "    \n",
    "    \n",
    "class Product():\n",
    "\n",
    "    def __init__(self) -> None:\n",
    "        self.parts = []\n",
    "\n",
    "    def add(self, part: Any) -> None:\n",
    "        self.parts.append(part)\n",
    "\n",
    "    def list_parts(self):\n",
    "        return self.parts\n",
    "\n",
    "\n",
    "class ConcreteBuilder(Builder):\n",
    "\n",
    "    def __init__(self) -> None:\n",
    "\n",
    "        self.reset()\n",
    "\n",
    "    def reset(self) -> None:\n",
    "        self._product = Product()\n",
    "\n",
    "    @property\n",
    "    def product(self) -> Product:\n",
    "\n",
    "        product = self._product\n",
    "        self.reset()\n",
    "        return product\n",
    "\n",
    "    def _add_model(self, model_type: str, params: dict):\n",
    "        if model_type == 'logistic regression':\n",
    "            self._logistic_regression(params)\n",
    "        if model_type == 'decision tree':\n",
    "            self._decision_tree(params)\n",
    "        if model_type == 'svm':\n",
    "            self._svm(params)\n",
    "        if model_type == 'naive bayes':\n",
    "            self._naive_bayes(params)\n",
    "        if model_type == 'random forest':\n",
    "            self._random_forest(params)\n",
    "        if model_type == 'Ada boost':\n",
    "            self._ada_boost(params)\n",
    "        if model_type == 'gradient boost':\n",
    "            self._gradient_boost(params)\n",
    "        if model_type == 'xgboost':\n",
    "            self._xgboost(params)\n",
    "        \n",
    "    def _logistic_regression(self, params: dict):\n",
    "        lr = LogisticRegression()\n",
    "        \n",
    "        return self._product.add(lr)\n",
    "    \n",
    "    def _decision_tree(self, params: dict):\n",
    "        \n",
    "        dt = DecisionTreeClassifier()\n",
    "        \n",
    "        dt_params = {'criterion': dt.criterion}\n",
    "        \n",
    "        return self._product.add(dt)\n",
    "\n",
    "    def _svm(self, params: dict):\n",
    "        svm = SVC()\n",
    "        \n",
    "        return self._product.add(svm)\n",
    "    \n",
    "    def _naive_bayes(self, params: dict):\n",
    "        nb = GaussianNB()\n",
    "\n",
    "        return self._product.add(nb)\n",
    "    \n",
    "    def _random_forest(self, params: dict):\n",
    "        \n",
    "        rf = RandomForestClassifier(n_estimators=1000, # Ilość słabych estymatorów\n",
    "                                          max_depth=2, # Maksymalna wysokość drzewa w słabym estymatorze\n",
    "                                          min_samples_split = 2, # Minimalna ilość obserwacji wymagana do podziału węzła\n",
    "                                          max_features = 3, # Maksymalna ilość zmiennych brana pod uwagę przy podziale węzła\n",
    "                                          random_state=0,\n",
    "                                          n_jobs = -1)\n",
    "        return self._product.add(rf)\n",
    "        \n",
    "    def _ada_boost(self, params: dict):\n",
    "        ada = AdaBoostClassifier(random_state=1)\n",
    "    \n",
    "        return self._product.add(ada)\n",
    "    \n",
    "    def _gradient_boost(self, params: dict):\n",
    "        gb= GradientBoostingClassifier(random_state=1,\n",
    "                                  learning_rate=0.01)\n",
    "        return self._product.add(gb)\n",
    "    \n",
    "    def _xgboost(self, params: dict):\n",
    "        \n",
    "        xg=XGBClassifier()\n",
    "        return self._product.add(xg)\n",
    "\n",
    "class Director:\n",
    "\n",
    "    def __init__(self) -> None:\n",
    "        self._builder = None\n",
    "\n",
    "    @property\n",
    "    def builder(self) -> Builder:\n",
    "        return self._builder\n",
    "\n",
    "    @builder.setter\n",
    "    def builder(self, builder: Builder) -> None:\n",
    "\n",
    "        self._builder = builder\n",
    "\n",
    "\n",
    "    def add_model(self, model_type, params):\n",
    "        return self.builder._add_model(model_type, params)\n",
    "\n",
    "    def add_all_models(self):\n",
    "        self.add_model('logistic regression', {})\n",
    "        self.add_model('decision tree', {})\n",
    "        self.add_model('svm', {})\n",
    "        self.add_model('naive bayes', {})\n",
    "        self.add_model('random forest', {})\n",
    "        self.add_model('ada boost', {})\n",
    "        self.add_model('gradient boost', {})\n",
    "        self.add_model('xgboost', {})\n",
    "        return builder.product.list_parts()\n",
    "    \n",
    "    def get_all_models(self, metric_name: str = ''):\n",
    "        parts =  builder.product.list_parts()\n",
    "        return parts"
   ]
  },
  {
   "cell_type": "code",
   "execution_count": 56,
   "metadata": {},
   "outputs": [],
   "source": [
    "director = Director()\n",
    "builder = ConcreteBuilder()\n",
    "director.builder = builder"
   ]
  },
  {
   "cell_type": "code",
   "execution_count": 57,
   "metadata": {},
   "outputs": [],
   "source": [
    "director.add_model('logistic regression', {})\n",
    "director.add_model('decision tree', {})\n",
    "director.add_model('svm', {})\n",
    "director.add_model('naive bayes', {})\n",
    "director.add_model('random forest', {})\n",
    "director.add_model('ada boost', {})\n",
    "director.add_model('gradient boost', {})\n",
    "director.add_model('xgboost', {})"
   ]
  },
  {
   "cell_type": "code",
   "execution_count": 58,
   "metadata": {},
   "outputs": [],
   "source": [
    "models = director.get_all_models()"
   ]
  },
  {
   "cell_type": "code",
   "execution_count": 59,
   "metadata": {},
   "outputs": [],
   "source": [
    "all_models = director.add_all_models()"
   ]
  },
  {
   "cell_type": "markdown",
   "metadata": {},
   "source": [
    "## Compare models"
   ]
  },
  {
   "cell_type": "code",
   "execution_count": 28,
   "metadata": {},
   "outputs": [
    {
     "data": {
      "text/html": [
       "<div>\n",
       "<style scoped>\n",
       "    .dataframe tbody tr th:only-of-type {\n",
       "        vertical-align: middle;\n",
       "    }\n",
       "\n",
       "    .dataframe tbody tr th {\n",
       "        vertical-align: top;\n",
       "    }\n",
       "\n",
       "    .dataframe thead th {\n",
       "        text-align: right;\n",
       "    }\n",
       "</style>\n",
       "<table border=\"1\" class=\"dataframe\">\n",
       "  <thead>\n",
       "    <tr style=\"text-align: right;\">\n",
       "      <th></th>\n",
       "      <th>checking_account_status</th>\n",
       "      <th>duration</th>\n",
       "      <th>credit_history</th>\n",
       "      <th>purpose</th>\n",
       "      <th>credit_amount</th>\n",
       "      <th>savings</th>\n",
       "      <th>present_employment</th>\n",
       "      <th>installment_rate</th>\n",
       "      <th>personal</th>\n",
       "      <th>other_debtors</th>\n",
       "      <th>...</th>\n",
       "      <th>other_installment_plans</th>\n",
       "      <th>housing</th>\n",
       "      <th>existing_credits</th>\n",
       "      <th>job</th>\n",
       "      <th>dependents</th>\n",
       "      <th>telephone</th>\n",
       "      <th>foreign_worker</th>\n",
       "      <th>sex</th>\n",
       "      <th>checking_account_exists</th>\n",
       "      <th>savings_account_exists</th>\n",
       "    </tr>\n",
       "  </thead>\n",
       "  <tbody>\n",
       "    <tr>\n",
       "      <th>36</th>\n",
       "      <td>A14</td>\n",
       "      <td>48</td>\n",
       "      <td>A34</td>\n",
       "      <td>education</td>\n",
       "      <td>6110.0</td>\n",
       "      <td>A61</td>\n",
       "      <td>A73</td>\n",
       "      <td>1.0</td>\n",
       "      <td>A93</td>\n",
       "      <td>none</td>\n",
       "      <td>...</td>\n",
       "      <td>bank</td>\n",
       "      <td>free</td>\n",
       "      <td>1.0</td>\n",
       "      <td>skilled_employee</td>\n",
       "      <td>1</td>\n",
       "      <td>1</td>\n",
       "      <td>1</td>\n",
       "      <td>1</td>\n",
       "      <td>0</td>\n",
       "      <td>1</td>\n",
       "    </tr>\n",
       "    <tr>\n",
       "      <th>381</th>\n",
       "      <td>A12</td>\n",
       "      <td>18</td>\n",
       "      <td>A32</td>\n",
       "      <td>used car</td>\n",
       "      <td>12976.0</td>\n",
       "      <td>A61</td>\n",
       "      <td>A71</td>\n",
       "      <td>3.0</td>\n",
       "      <td>A92</td>\n",
       "      <td>none</td>\n",
       "      <td>...</td>\n",
       "      <td>none</td>\n",
       "      <td>free</td>\n",
       "      <td>1.0</td>\n",
       "      <td>management/self-employed</td>\n",
       "      <td>1</td>\n",
       "      <td>1</td>\n",
       "      <td>1</td>\n",
       "      <td>0</td>\n",
       "      <td>1</td>\n",
       "      <td>1</td>\n",
       "    </tr>\n",
       "    <tr>\n",
       "      <th>0</th>\n",
       "      <td>A11</td>\n",
       "      <td>6</td>\n",
       "      <td>A34</td>\n",
       "      <td>radio/television</td>\n",
       "      <td>1169.0</td>\n",
       "      <td>A65</td>\n",
       "      <td>A75</td>\n",
       "      <td>4.0</td>\n",
       "      <td>A93</td>\n",
       "      <td>none</td>\n",
       "      <td>...</td>\n",
       "      <td>none</td>\n",
       "      <td>own</td>\n",
       "      <td>2.0</td>\n",
       "      <td>skilled_employee</td>\n",
       "      <td>1</td>\n",
       "      <td>1</td>\n",
       "      <td>1</td>\n",
       "      <td>1</td>\n",
       "      <td>1</td>\n",
       "      <td>0</td>\n",
       "    </tr>\n",
       "    <tr>\n",
       "      <th>531</th>\n",
       "      <td>A12</td>\n",
       "      <td>15</td>\n",
       "      <td>A32</td>\n",
       "      <td>new car</td>\n",
       "      <td>2631.0</td>\n",
       "      <td>A62</td>\n",
       "      <td>A73</td>\n",
       "      <td>2.0</td>\n",
       "      <td>A92</td>\n",
       "      <td>none</td>\n",
       "      <td>...</td>\n",
       "      <td>none</td>\n",
       "      <td>rent</td>\n",
       "      <td>2.0</td>\n",
       "      <td>skilled_employee</td>\n",
       "      <td>1</td>\n",
       "      <td>1</td>\n",
       "      <td>1</td>\n",
       "      <td>0</td>\n",
       "      <td>1</td>\n",
       "      <td>1</td>\n",
       "    </tr>\n",
       "  </tbody>\n",
       "</table>\n",
       "<p>4 rows × 23 columns</p>\n",
       "</div>"
      ],
      "text/plain": [
       "    checking_account_status  duration credit_history           purpose  \\\n",
       "36                      A14        48            A34         education   \n",
       "381                     A12        18            A32          used car   \n",
       "0                       A11         6            A34  radio/television   \n",
       "531                     A12        15            A32           new car   \n",
       "\n",
       "     credit_amount savings present_employment  installment_rate personal  \\\n",
       "36          6110.0     A61                A73               1.0      A93   \n",
       "381        12976.0     A61                A71               3.0      A92   \n",
       "0           1169.0     A65                A75               4.0      A93   \n",
       "531         2631.0     A62                A73               2.0      A92   \n",
       "\n",
       "    other_debtors  ...  other_installment_plans housing  existing_credits  \\\n",
       "36           none  ...                     bank    free               1.0   \n",
       "381          none  ...                     none    free               1.0   \n",
       "0            none  ...                     none     own               2.0   \n",
       "531          none  ...                     none    rent               2.0   \n",
       "\n",
       "                          job dependents  telephone foreign_worker  sex  \\\n",
       "36           skilled_employee          1          1              1    1   \n",
       "381  management/self-employed          1          1              1    0   \n",
       "0            skilled_employee          1          1              1    1   \n",
       "531          skilled_employee          1          1              1    0   \n",
       "\n",
       "     checking_account_exists  savings_account_exists  \n",
       "36                         0                       1  \n",
       "381                        1                       1  \n",
       "0                          1                       0  \n",
       "531                        1                       1  \n",
       "\n",
       "[4 rows x 23 columns]"
      ]
     },
     "execution_count": 28,
     "metadata": {},
     "output_type": "execute_result"
    }
   ],
   "source": [
    "X_train.head(4)"
   ]
  },
  {
   "cell_type": "code",
   "execution_count": 29,
   "metadata": {},
   "outputs": [
    {
     "data": {
      "text/plain": [
       "36     1\n",
       "381    0\n",
       "0      1\n",
       "531    0\n",
       "Name: customer_type, dtype: int64"
      ]
     },
     "execution_count": 29,
     "metadata": {},
     "output_type": "execute_result"
    }
   ],
   "source": [
    "y_train.head(4)"
   ]
  },
  {
   "cell_type": "code",
   "execution_count": 30,
   "metadata": {},
   "outputs": [],
   "source": [
    "from typing import List\n",
    "\n",
    "\n",
    "def compare_models(models_list: List, X_train, y_train, X_test, y_test, categorical_variables, method):\n",
    "    results = dict()\n",
    "    \n",
    "    df_train, df_test = multiEnc(X_train, X_test, y_train, categorical_variables, len(categorical_variables) * method)\n",
    "    \n",
    "    \n",
    "    for model in models_list:\n",
    "        \n",
    "        training = model.fit(df_train, y_train)\n",
    "        score = training.score(df_test, y_test)\n",
    "        results[model] = score\n",
    "        \n",
    "    return results, df_train, df_test"
   ]
  },
  {
   "cell_type": "code",
   "execution_count": 31,
   "metadata": {},
   "outputs": [],
   "source": [
    "categorical_variables = ['credit_history', 'purpose', 'personal', 'other_debtors', 'property', \n",
    "                        'other_installment_plans', 'housing' , 'job', 'telephone', 'foreign_worker', \n",
    "                        'present_employment', 'checking_account_status', 'savings'] "
   ]
  },
  {
   "cell_type": "code",
   "execution_count": 80,
   "metadata": {},
   "outputs": [],
   "source": [
    "def best_model(results: dict):\n",
    "    best_model_val = 0\n",
    "    suma = 0\n",
    "    it = 0\n",
    "    for key,val in results.items():\n",
    "        it = it + 1\n",
    "        suma = suma + val\n",
    "        if val > best_model_val:\n",
    "            best_model = key\n",
    "            best_model_val = val\n",
    "\n",
    "    print(\"Mean: \" + str(suma/it))\n",
    "    return best_model"
   ]
  },
  {
   "cell_type": "code",
   "execution_count": 38,
   "metadata": {},
   "outputs": [],
   "source": [
    "from plot_metric.functions import BinaryClassification\n",
    "from sklearn.metrics import roc_auc_score\n",
    "\n",
    "def plot_roc(model, df_test, y_test):\n",
    "    y_pred = model.predict_proba(df_test)[:,1]\n",
    "    \n",
    "    # Visualisation with plot_metric\n",
    "    bc = BinaryClassification(y_test, y_pred, labels=[\"Class 1\", \"Class 2\"])\n",
    "\n",
    "    # Figures\n",
    "    plt.figure(figsize=(5,5))\n",
    "    bc.plot_roc_curve()\n",
    "    plt.show()\n",
    "    \n",
    "    print(model, roc_auc_score(y_test, y_pred, multi_class=\"ovo\", average=\"weighted\"))"
   ]
  },
  {
   "cell_type": "markdown",
   "metadata": {},
   "source": [
    "### One-hot encoding"
   ]
  },
  {
   "cell_type": "markdown",
   "metadata": {},
   "source": [
    "This method produces a lot of columns that *slows down the learning* significantly if the number of the category is very high for the feature.\n",
    "\n",
    "**Scikit-learn has OneHotEncoder for this purpose, but it does not create an additional feature column (another code is needed, as shown in the below code sample).**\n",
    "\n",
    "\n",
    "We can represent all categories by **N-1 (N= No of Category)** as that is sufficient to encode the one that is not included. Usually, for Regression, we use **N-1** (drop first or last column of One Hot Coded new feature ), but for classification, the recommendation is to use all N columns without as most of the tree-based algorithm builds a tree based on all available\n",
    "\n",
    "\n",
    "\n",
    "In tree-based methods, we will never consider that additional label if we dropp. Thus, if we use the categorical variables in a tree-based learning algorithm, it is good practice to encode it into **N binary variables** and doesn’t drop."
   ]
  },
  {
   "cell_type": "code",
   "execution_count": 92,
   "metadata": {},
   "outputs": [
    {
     "data": {
      "text/plain": [
       "{LogisticRegression(C=1.0, class_weight=None, dual=False, fit_intercept=True,\n",
       "                    intercept_scaling=1, l1_ratio=None, max_iter=100,\n",
       "                    multi_class='auto', n_jobs=None, penalty='l2',\n",
       "                    random_state=None, solver='lbfgs', tol=0.0001, verbose=0,\n",
       "                    warm_start=False): 0.78,\n",
       " DecisionTreeClassifier(ccp_alpha=0.0, class_weight=None, criterion='gini',\n",
       "                        max_depth=None, max_features=None, max_leaf_nodes=None,\n",
       "                        min_impurity_decrease=0.0, min_impurity_split=None,\n",
       "                        min_samples_leaf=1, min_samples_split=2,\n",
       "                        min_weight_fraction_leaf=0.0, presort='deprecated',\n",
       "                        random_state=None, splitter='best'): 0.7,\n",
       " SVC(C=1.0, break_ties=False, cache_size=200, class_weight=None, coef0=0.0,\n",
       "     decision_function_shape='ovr', degree=3, gamma='scale', kernel='rbf',\n",
       "     max_iter=-1, probability=False, random_state=None, shrinking=True,\n",
       "     tol=0.001, verbose=False): 0.7166666666666667,\n",
       " GaussianNB(priors=None, var_smoothing=1e-09): 0.7366666666666667,\n",
       " RandomForestClassifier(bootstrap=True, ccp_alpha=0.0, class_weight=None,\n",
       "                        criterion='gini', max_depth=2, max_features=3,\n",
       "                        max_leaf_nodes=None, max_samples=None,\n",
       "                        min_impurity_decrease=0.0, min_impurity_split=None,\n",
       "                        min_samples_leaf=1, min_samples_split=2,\n",
       "                        min_weight_fraction_leaf=0.0, n_estimators=1000,\n",
       "                        n_jobs=-1, oob_score=False, random_state=0, verbose=0,\n",
       "                        warm_start=False): 0.7066666666666667,\n",
       " GradientBoostingClassifier(ccp_alpha=0.0, criterion='friedman_mse', init=None,\n",
       "                            learning_rate=0.01, loss='deviance', max_depth=3,\n",
       "                            max_features=None, max_leaf_nodes=None,\n",
       "                            min_impurity_decrease=0.0, min_impurity_split=None,\n",
       "                            min_samples_leaf=1, min_samples_split=2,\n",
       "                            min_weight_fraction_leaf=0.0, n_estimators=100,\n",
       "                            n_iter_no_change=None, presort='deprecated',\n",
       "                            random_state=1, subsample=1.0, tol=0.0001,\n",
       "                            validation_fraction=0.1, verbose=0,\n",
       "                            warm_start=False): 0.72,\n",
       " XGBClassifier(base_score=0.5, booster=None, colsample_bylevel=1,\n",
       "               colsample_bynode=1, colsample_bytree=1, gamma=0, gpu_id=-1,\n",
       "               importance_type='gain', interaction_constraints=None,\n",
       "               learning_rate=0.300000012, max_delta_step=0, max_depth=6,\n",
       "               min_child_weight=1, missing=nan, monotone_constraints=None,\n",
       "               n_estimators=100, n_jobs=0, num_parallel_tree=1,\n",
       "               objective='binary:logistic', random_state=0, reg_alpha=0,\n",
       "               reg_lambda=1, scale_pos_weight=1, subsample=1, tree_method=None,\n",
       "               validate_parameters=False, verbosity=None): 0.7366666666666667}"
      ]
     },
     "execution_count": 92,
     "metadata": {},
     "output_type": "execute_result"
    }
   ],
   "source": [
    "results, df_train, df_test = compare_models(models, X_train, y_train, X_test, y_test, categorical_variables, '1')\n",
    "results"
   ]
  },
  {
   "cell_type": "code",
   "execution_count": 93,
   "metadata": {},
   "outputs": [
    {
     "name": "stdout",
     "output_type": "stream",
     "text": [
      "Mean: 0.7280952380952381\n"
     ]
    },
    {
     "data": {
      "text/plain": [
       "LogisticRegression(C=1.0, class_weight=None, dual=False, fit_intercept=True,\n",
       "                   intercept_scaling=1, l1_ratio=None, max_iter=100,\n",
       "                   multi_class='auto', n_jobs=None, penalty='l2',\n",
       "                   random_state=None, solver='lbfgs', tol=0.0001, verbose=0,\n",
       "                   warm_start=False)"
      ]
     },
     "execution_count": 93,
     "metadata": {},
     "output_type": "execute_result"
    }
   ],
   "source": [
    "model = best_model(results)\n",
    "model"
   ]
  },
  {
   "cell_type": "code",
   "execution_count": 94,
   "metadata": {},
   "outputs": [
    {
     "data": {
      "image/png": "[encoded data removed]",
      "text/plain": [
       "<Figure size 360x360 with 1 Axes>"
      ]
     },
     "metadata": {},
     "output_type": "display_data"
    },
    {
     "name": "stdout",
     "output_type": "stream",
     "text": [
      "LogisticRegression(C=1.0, class_weight=None, dual=False, fit_intercept=True,\n",
      "                   intercept_scaling=1, l1_ratio=None, max_iter=100,\n",
      "                   multi_class='auto', n_jobs=None, penalty='l2',\n",
      "                   random_state=None, solver='lbfgs', tol=0.0001, verbose=0,\n",
      "                   warm_start=False) 0.8029052315608919\n"
     ]
    }
   ],
   "source": [
    "plot_roc(model, df_test, y_test)"
   ]
  },
  {
   "cell_type": "markdown",
   "metadata": {},
   "source": [
    "### Ordinal encoding"
   ]
  },
  {
   "cell_type": "code",
   "execution_count": 84,
   "metadata": {},
   "outputs": [
    {
     "data": {
      "text/plain": [
       "{LogisticRegression(C=1.0, class_weight=None, dual=False, fit_intercept=True,\n",
       "                    intercept_scaling=1, l1_ratio=None, max_iter=100,\n",
       "                    multi_class='auto', n_jobs=None, penalty='l2',\n",
       "                    random_state=None, solver='lbfgs', tol=0.0001, verbose=0,\n",
       "                    warm_start=False): 0.7366666666666667,\n",
       " DecisionTreeClassifier(ccp_alpha=0.0, class_weight=None, criterion='gini',\n",
       "                        max_depth=None, max_features=None, max_leaf_nodes=None,\n",
       "                        min_impurity_decrease=0.0, min_impurity_split=None,\n",
       "                        min_samples_leaf=1, min_samples_split=2,\n",
       "                        min_weight_fraction_leaf=0.0, presort='deprecated',\n",
       "                        random_state=None, splitter='best'): 0.7166666666666667,\n",
       " SVC(C=1.0, break_ties=False, cache_size=200, class_weight=None, coef0=0.0,\n",
       "     decision_function_shape='ovr', degree=3, gamma='scale', kernel='rbf',\n",
       "     max_iter=-1, probability=False, random_state=None, shrinking=True,\n",
       "     tol=0.001, verbose=False): 0.7166666666666667,\n",
       " GaussianNB(priors=None, var_smoothing=1e-09): 0.7,\n",
       " RandomForestClassifier(bootstrap=True, ccp_alpha=0.0, class_weight=None,\n",
       "                        criterion='gini', max_depth=2, max_features=3,\n",
       "                        max_leaf_nodes=None, max_samples=None,\n",
       "                        min_impurity_decrease=0.0, min_impurity_split=None,\n",
       "                        min_samples_leaf=1, min_samples_split=2,\n",
       "                        min_weight_fraction_leaf=0.0, n_estimators=1000,\n",
       "                        n_jobs=-1, oob_score=False, random_state=0, verbose=0,\n",
       "                        warm_start=False): 0.7066666666666667,\n",
       " GradientBoostingClassifier(ccp_alpha=0.0, criterion='friedman_mse', init=None,\n",
       "                            learning_rate=0.01, loss='deviance', max_depth=3,\n",
       "                            max_features=None, max_leaf_nodes=None,\n",
       "                            min_impurity_decrease=0.0, min_impurity_split=None,\n",
       "                            min_samples_leaf=1, min_samples_split=2,\n",
       "                            min_weight_fraction_leaf=0.0, n_estimators=100,\n",
       "                            n_iter_no_change=None, presort='deprecated',\n",
       "                            random_state=1, subsample=1.0, tol=0.0001,\n",
       "                            validation_fraction=0.1, verbose=0,\n",
       "                            warm_start=False): 0.72,\n",
       " XGBClassifier(base_score=0.5, booster=None, colsample_bylevel=1,\n",
       "               colsample_bynode=1, colsample_bytree=1, gamma=0, gpu_id=-1,\n",
       "               importance_type='gain', interaction_constraints=None,\n",
       "               learning_rate=0.300000012, max_delta_step=0, max_depth=6,\n",
       "               min_child_weight=1, missing=nan, monotone_constraints=None,\n",
       "               n_estimators=100, n_jobs=0, num_parallel_tree=1,\n",
       "               objective='binary:logistic', random_state=0, reg_alpha=0,\n",
       "               reg_lambda=1, scale_pos_weight=1, subsample=1, tree_method=None,\n",
       "               validate_parameters=False, verbosity=None): 0.73}"
      ]
     },
     "execution_count": 84,
     "metadata": {},
     "output_type": "execute_result"
    }
   ],
   "source": [
    "results, df_train, df_test = compare_models(models, X_train, y_train, X_test, y_test, categorical_variables, 'o')\n",
    "results"
   ]
  },
  {
   "cell_type": "code",
   "execution_count": 85,
   "metadata": {},
   "outputs": [
    {
     "name": "stdout",
     "output_type": "stream",
     "text": [
      "Mean: 0.7180952380952382\n"
     ]
    },
    {
     "data": {
      "text/plain": [
       "LogisticRegression(C=1.0, class_weight=None, dual=False, fit_intercept=True,\n",
       "                   intercept_scaling=1, l1_ratio=None, max_iter=100,\n",
       "                   multi_class='auto', n_jobs=None, penalty='l2',\n",
       "                   random_state=None, solver='lbfgs', tol=0.0001, verbose=0,\n",
       "                   warm_start=False)"
      ]
     },
     "execution_count": 85,
     "metadata": {},
     "output_type": "execute_result"
    }
   ],
   "source": [
    "model = best_model(results)\n",
    "model"
   ]
  },
  {
   "cell_type": "code",
   "execution_count": 67,
   "metadata": {},
   "outputs": [
    {
     "data": {
      "image/png": "[encoded data removed]",
      "text/plain": [
       "<Figure size 360x360 with 1 Axes>"
      ]
     },
     "metadata": {},
     "output_type": "display_data"
    },
    {
     "name": "stdout",
     "output_type": "stream",
     "text": [
      "LogisticRegression(C=1.0, class_weight=None, dual=False, fit_intercept=True,\n",
      "                   intercept_scaling=1, l1_ratio=None, max_iter=100,\n",
      "                   multi_class='auto', n_jobs=None, penalty='l2',\n",
      "                   random_state=None, solver='lbfgs', tol=0.0001, verbose=0,\n",
      "                   warm_start=False) 0.7470518867924528\n"
     ]
    }
   ],
   "source": [
    "plot_roc(model, df_test, y_test)"
   ]
  },
  {
   "cell_type": "markdown",
   "metadata": {},
   "source": [
    "### Binary encoding"
   ]
  },
  {
   "cell_type": "markdown",
   "metadata": {},
   "source": [
    "For Binary encoding, one has to follow the following steps:\n",
    "1. The categories are first converted to numeric order starting from 1 (order is created as categories appear in a dataset and do not mean any ordinal nature)\n",
    "2. Then those integers are converted into binary code, so for example 3 becomes 011, 4 becomes 100\n",
    "3. Then the digits of the binary number form separate columns."
   ]
  },
  {
   "cell_type": "code",
   "execution_count": 86,
   "metadata": {},
   "outputs": [
    {
     "data": {
      "text/plain": [
       "{LogisticRegression(C=1.0, class_weight=None, dual=False, fit_intercept=True,\n",
       "                    intercept_scaling=1, l1_ratio=None, max_iter=100,\n",
       "                    multi_class='auto', n_jobs=None, penalty='l2',\n",
       "                    random_state=None, solver='lbfgs', tol=0.0001, verbose=0,\n",
       "                    warm_start=False): 0.76,\n",
       " DecisionTreeClassifier(ccp_alpha=0.0, class_weight=None, criterion='gini',\n",
       "                        max_depth=None, max_features=None, max_leaf_nodes=None,\n",
       "                        min_impurity_decrease=0.0, min_impurity_split=None,\n",
       "                        min_samples_leaf=1, min_samples_split=2,\n",
       "                        min_weight_fraction_leaf=0.0, presort='deprecated',\n",
       "                        random_state=None, splitter='best'): 0.7133333333333334,\n",
       " SVC(C=1.0, break_ties=False, cache_size=200, class_weight=None, coef0=0.0,\n",
       "     decision_function_shape='ovr', degree=3, gamma='scale', kernel='rbf',\n",
       "     max_iter=-1, probability=False, random_state=None, shrinking=True,\n",
       "     tol=0.001, verbose=False): 0.7166666666666667,\n",
       " GaussianNB(priors=None, var_smoothing=1e-09): 0.6966666666666667,\n",
       " RandomForestClassifier(bootstrap=True, ccp_alpha=0.0, class_weight=None,\n",
       "                        criterion='gini', max_depth=2, max_features=3,\n",
       "                        max_leaf_nodes=None, max_samples=None,\n",
       "                        min_impurity_decrease=0.0, min_impurity_split=None,\n",
       "                        min_samples_leaf=1, min_samples_split=2,\n",
       "                        min_weight_fraction_leaf=0.0, n_estimators=1000,\n",
       "                        n_jobs=-1, oob_score=False, random_state=0, verbose=0,\n",
       "                        warm_start=False): 0.7066666666666667,\n",
       " GradientBoostingClassifier(ccp_alpha=0.0, criterion='friedman_mse', init=None,\n",
       "                            learning_rate=0.01, loss='deviance', max_depth=3,\n",
       "                            max_features=None, max_leaf_nodes=None,\n",
       "                            min_impurity_decrease=0.0, min_impurity_split=None,\n",
       "                            min_samples_leaf=1, min_samples_split=2,\n",
       "                            min_weight_fraction_leaf=0.0, n_estimators=100,\n",
       "                            n_iter_no_change=None, presort='deprecated',\n",
       "                            random_state=1, subsample=1.0, tol=0.0001,\n",
       "                            validation_fraction=0.1, verbose=0,\n",
       "                            warm_start=False): 0.7333333333333333,\n",
       " XGBClassifier(base_score=0.5, booster=None, colsample_bylevel=1,\n",
       "               colsample_bynode=1, colsample_bytree=1, gamma=0, gpu_id=-1,\n",
       "               importance_type='gain', interaction_constraints=None,\n",
       "               learning_rate=0.300000012, max_delta_step=0, max_depth=6,\n",
       "               min_child_weight=1, missing=nan, monotone_constraints=None,\n",
       "               n_estimators=100, n_jobs=0, num_parallel_tree=1,\n",
       "               objective='binary:logistic', random_state=0, reg_alpha=0,\n",
       "               reg_lambda=1, scale_pos_weight=1, subsample=1, tree_method=None,\n",
       "               validate_parameters=False, verbosity=None): 0.7633333333333333}"
      ]
     },
     "execution_count": 86,
     "metadata": {},
     "output_type": "execute_result"
    }
   ],
   "source": [
    "results, df_train, df_test = compare_models(models, X_train, y_train, X_test, y_test, categorical_variables, 'b')\n",
    "results"
   ]
  },
  {
   "cell_type": "code",
   "execution_count": 87,
   "metadata": {},
   "outputs": [
    {
     "name": "stdout",
     "output_type": "stream",
     "text": [
      "Mean: 0.7271428571428571\n"
     ]
    },
    {
     "data": {
      "text/plain": [
       "XGBClassifier(base_score=0.5, booster=None, colsample_bylevel=1,\n",
       "              colsample_bynode=1, colsample_bytree=1, gamma=0, gpu_id=-1,\n",
       "              importance_type='gain', interaction_constraints=None,\n",
       "              learning_rate=0.300000012, max_delta_step=0, max_depth=6,\n",
       "              min_child_weight=1, missing=nan, monotone_constraints=None,\n",
       "              n_estimators=100, n_jobs=0, num_parallel_tree=1,\n",
       "              objective='binary:logistic', random_state=0, reg_alpha=0,\n",
       "              reg_lambda=1, scale_pos_weight=1, subsample=1, tree_method=None,\n",
       "              validate_parameters=False, verbosity=None)"
      ]
     },
     "execution_count": 87,
     "metadata": {},
     "output_type": "execute_result"
    }
   ],
   "source": [
    "model = best_model(results)\n",
    "model"
   ]
  },
  {
   "cell_type": "code",
   "execution_count": 70,
   "metadata": {},
   "outputs": [
    {
     "data": {
      "image/png": "[encoded data removed]",
      "text/plain": [
       "<Figure size 360x360 with 1 Axes>"
      ]
     },
     "metadata": {},
     "output_type": "display_data"
    },
    {
     "name": "stdout",
     "output_type": "stream",
     "text": [
      "XGBClassifier(base_score=0.5, booster=None, colsample_bylevel=1,\n",
      "              colsample_bynode=1, colsample_bytree=1, gamma=0, gpu_id=-1,\n",
      "              importance_type='gain', interaction_constraints=None,\n",
      "              learning_rate=0.300000012, max_delta_step=0, max_depth=6,\n",
      "              min_child_weight=1, missing=nan, monotone_constraints=None,\n",
      "              n_estimators=100, n_jobs=0, num_parallel_tree=1,\n",
      "              objective='binary:logistic', random_state=0, reg_alpha=0,\n",
      "              reg_lambda=1, scale_pos_weight=1, subsample=1, tree_method=None,\n",
      "              validate_parameters=False, verbosity=None) 0.7698863636363638\n"
     ]
    }
   ],
   "source": [
    "plot_roc(model, df_test, y_test)"
   ]
  },
  {
   "cell_type": "markdown",
   "metadata": {},
   "source": [
    "### Weigth of Evidence encoding"
   ]
  },
  {
   "cell_type": "markdown",
   "metadata": {},
   "source": [
    "Weight of Evidence (WoE) is a measure of the “strength” of a grouping technique to separate good and bad."
   ]
  },
  {
   "cell_type": "markdown",
   "metadata": {},
   "source": [
    "WoE is well suited for **Logistic Regression** because the Logit transformation is simply the log of the odds, i.e., ln(P(Goods)/P(Bads)). Therefore, by using WoE-coded predictors in Logistic Regression, the predictors are all prepared and coded to the same scale. The parameters in the linear logistic regression equation can be directly compared."
   ]
  },
  {
   "cell_type": "markdown",
   "metadata": {},
   "source": [
    "#### Pros and cons\n",
    "\n",
    "The WoE transformation has (at least) three advantage:  \n",
    "1) It can transform an independent variable so that it establishes a monotonic relationship to the dependent variable. It does more than this — to secure monotonic relationship it would be enough to “recode” it to any ordered measure (for example 1,2,3,4…), but the WoE transformation orders the categories on a “logistic” scale which is natural for Logistic Regression  \n",
    "2) For variables with too many (sparsely populated) discrete values, these can be grouped into categories (densely populated), and the WoE can be used to express information for the whole category  \n",
    "3) The (univariate) effect of each category on the dependent variable can be compared across categories and variables because WoE is a standardized value (for example you can compare WoE of married people to WoE of manual workers)  \n",
    "It also has (at least) three drawbacks:\n",
    "1) Loss of information (variation) due to binning to a few categories  \n",
    "2) It is a “univariate” measure, so it does not take into account the correlation between independent variables  \n",
    "3) It is easy to manipulate (over-fit) the effect of variables according to how categories are created  \n"
   ]
  },
  {
   "cell_type": "code",
   "execution_count": 88,
   "metadata": {},
   "outputs": [
    {
     "data": {
      "text/plain": [
       "{LogisticRegression(C=1.0, class_weight=None, dual=False, fit_intercept=True,\n",
       "                    intercept_scaling=1, l1_ratio=None, max_iter=100,\n",
       "                    multi_class='auto', n_jobs=None, penalty='l2',\n",
       "                    random_state=None, solver='lbfgs', tol=0.0001, verbose=0,\n",
       "                    warm_start=False): 0.7866666666666666,\n",
       " DecisionTreeClassifier(ccp_alpha=0.0, class_weight=None, criterion='gini',\n",
       "                        max_depth=None, max_features=None, max_leaf_nodes=None,\n",
       "                        min_impurity_decrease=0.0, min_impurity_split=None,\n",
       "                        min_samples_leaf=1, min_samples_split=2,\n",
       "                        min_weight_fraction_leaf=0.0, presort='deprecated',\n",
       "                        random_state=None, splitter='best'): 0.67,\n",
       " SVC(C=1.0, break_ties=False, cache_size=200, class_weight=None, coef0=0.0,\n",
       "     decision_function_shape='ovr', degree=3, gamma='scale', kernel='rbf',\n",
       "     max_iter=-1, probability=False, random_state=None, shrinking=True,\n",
       "     tol=0.001, verbose=False): 0.7166666666666667,\n",
       " GaussianNB(priors=None, var_smoothing=1e-09): 0.71,\n",
       " RandomForestClassifier(bootstrap=True, ccp_alpha=0.0, class_weight=None,\n",
       "                        criterion='gini', max_depth=2, max_features=3,\n",
       "                        max_leaf_nodes=None, max_samples=None,\n",
       "                        min_impurity_decrease=0.0, min_impurity_split=None,\n",
       "                        min_samples_leaf=1, min_samples_split=2,\n",
       "                        min_weight_fraction_leaf=0.0, n_estimators=1000,\n",
       "                        n_jobs=-1, oob_score=False, random_state=0, verbose=0,\n",
       "                        warm_start=False): 0.71,\n",
       " GradientBoostingClassifier(ccp_alpha=0.0, criterion='friedman_mse', init=None,\n",
       "                            learning_rate=0.01, loss='deviance', max_depth=3,\n",
       "                            max_features=None, max_leaf_nodes=None,\n",
       "                            min_impurity_decrease=0.0, min_impurity_split=None,\n",
       "                            min_samples_leaf=1, min_samples_split=2,\n",
       "                            min_weight_fraction_leaf=0.0, n_estimators=100,\n",
       "                            n_iter_no_change=None, presort='deprecated',\n",
       "                            random_state=1, subsample=1.0, tol=0.0001,\n",
       "                            validation_fraction=0.1, verbose=0,\n",
       "                            warm_start=False): 0.7333333333333333,\n",
       " XGBClassifier(base_score=0.5, booster=None, colsample_bylevel=1,\n",
       "               colsample_bynode=1, colsample_bytree=1, gamma=0, gpu_id=-1,\n",
       "               importance_type='gain', interaction_constraints=None,\n",
       "               learning_rate=0.300000012, max_delta_step=0, max_depth=6,\n",
       "               min_child_weight=1, missing=nan, monotone_constraints=None,\n",
       "               n_estimators=100, n_jobs=0, num_parallel_tree=1,\n",
       "               objective='binary:logistic', random_state=0, reg_alpha=0,\n",
       "               reg_lambda=1, scale_pos_weight=1, subsample=1, tree_method=None,\n",
       "               validate_parameters=False, verbosity=None): 0.7466666666666667}"
      ]
     },
     "execution_count": 88,
     "metadata": {},
     "output_type": "execute_result"
    }
   ],
   "source": [
    "results, df_train, df_test = compare_models(models, X_train, y_train, X_test, y_test, categorical_variables, 'w')\n",
    "results"
   ]
  },
  {
   "cell_type": "code",
   "execution_count": 89,
   "metadata": {},
   "outputs": [
    {
     "name": "stdout",
     "output_type": "stream",
     "text": [
      "Mean: 0.7247619047619047\n"
     ]
    },
    {
     "data": {
      "text/plain": [
       "LogisticRegression(C=1.0, class_weight=None, dual=False, fit_intercept=True,\n",
       "                   intercept_scaling=1, l1_ratio=None, max_iter=100,\n",
       "                   multi_class='auto', n_jobs=None, penalty='l2',\n",
       "                   random_state=None, solver='lbfgs', tol=0.0001, verbose=0,\n",
       "                   warm_start=False)"
      ]
     },
     "execution_count": 89,
     "metadata": {},
     "output_type": "execute_result"
    }
   ],
   "source": [
    "model = best_model(results)\n",
    "model"
   ]
  },
  {
   "cell_type": "code",
   "execution_count": 73,
   "metadata": {},
   "outputs": [
    {
     "data": {
      "image/png": "[encoded data removed]",
      "text/plain": [
       "<Figure size 360x360 with 1 Axes>"
      ]
     },
     "metadata": {},
     "output_type": "display_data"
    },
    {
     "name": "stdout",
     "output_type": "stream",
     "text": [
      "LogisticRegression(C=1.0, class_weight=None, dual=False, fit_intercept=True,\n",
      "                   intercept_scaling=1, l1_ratio=None, max_iter=100,\n",
      "                   multi_class='auto', n_jobs=None, penalty='l2',\n",
      "                   random_state=None, solver='lbfgs', tol=0.0001, verbose=0,\n",
      "                   warm_start=False) 0.7950257289879931\n"
     ]
    }
   ],
   "source": [
    "plot_roc(model, df_test, y_test)"
   ]
  },
  {
   "cell_type": "markdown",
   "metadata": {},
   "source": [
    "### James-Stein encoding\n"
   ]
  },
  {
   "cell_type": "markdown",
   "metadata": {},
   "source": [
    "For feature value, James-Stein estimator returns a weighted average of:\n",
    "The mean target value for the observed feature value.\n",
    "The mean target value (regardless of the feature value)."
   ]
  },
  {
   "cell_type": "markdown",
   "metadata": {},
   "source": [
    "The James-Stein encoder shrinks the average toward the overall average. It is a target based encoder. James-Stein estimator has, however, one practical limitation — it was defined only for *normal distributions*."
   ]
  },
  {
   "cell_type": "code",
   "execution_count": 90,
   "metadata": {},
   "outputs": [
    {
     "data": {
      "text/plain": [
       "{LogisticRegression(C=1.0, class_weight=None, dual=False, fit_intercept=True,\n",
       "                    intercept_scaling=1, l1_ratio=None, max_iter=100,\n",
       "                    multi_class='auto', n_jobs=None, penalty='l2',\n",
       "                    random_state=None, solver='lbfgs', tol=0.0001, verbose=0,\n",
       "                    warm_start=False): 0.7433333333333333,\n",
       " DecisionTreeClassifier(ccp_alpha=0.0, class_weight=None, criterion='gini',\n",
       "                        max_depth=None, max_features=None, max_leaf_nodes=None,\n",
       "                        min_impurity_decrease=0.0, min_impurity_split=None,\n",
       "                        min_samples_leaf=1, min_samples_split=2,\n",
       "                        min_weight_fraction_leaf=0.0, presort='deprecated',\n",
       "                        random_state=None, splitter='best'): 0.6833333333333333,\n",
       " SVC(C=1.0, break_ties=False, cache_size=200, class_weight=None, coef0=0.0,\n",
       "     decision_function_shape='ovr', degree=3, gamma='scale', kernel='rbf',\n",
       "     max_iter=-1, probability=False, random_state=None, shrinking=True,\n",
       "     tol=0.001, verbose=False): 0.7166666666666667,\n",
       " GaussianNB(priors=None, var_smoothing=1e-09): 0.6866666666666666,\n",
       " RandomForestClassifier(bootstrap=True, ccp_alpha=0.0, class_weight=None,\n",
       "                        criterion='gini', max_depth=2, max_features=3,\n",
       "                        max_leaf_nodes=None, max_samples=None,\n",
       "                        min_impurity_decrease=0.0, min_impurity_split=None,\n",
       "                        min_samples_leaf=1, min_samples_split=2,\n",
       "                        min_weight_fraction_leaf=0.0, n_estimators=1000,\n",
       "                        n_jobs=-1, oob_score=False, random_state=0, verbose=0,\n",
       "                        warm_start=False): 0.71,\n",
       " GradientBoostingClassifier(ccp_alpha=0.0, criterion='friedman_mse', init=None,\n",
       "                            learning_rate=0.01, loss='deviance', max_depth=3,\n",
       "                            max_features=None, max_leaf_nodes=None,\n",
       "                            min_impurity_decrease=0.0, min_impurity_split=None,\n",
       "                            min_samples_leaf=1, min_samples_split=2,\n",
       "                            min_weight_fraction_leaf=0.0, n_estimators=100,\n",
       "                            n_iter_no_change=None, presort='deprecated',\n",
       "                            random_state=1, subsample=1.0, tol=0.0001,\n",
       "                            validation_fraction=0.1, verbose=0,\n",
       "                            warm_start=False): 0.7333333333333333,\n",
       " XGBClassifier(base_score=0.5, booster=None, colsample_bylevel=1,\n",
       "               colsample_bynode=1, colsample_bytree=1, gamma=0, gpu_id=-1,\n",
       "               importance_type='gain', interaction_constraints=None,\n",
       "               learning_rate=0.300000012, max_delta_step=0, max_depth=6,\n",
       "               min_child_weight=1, missing=nan, monotone_constraints=None,\n",
       "               n_estimators=100, n_jobs=0, num_parallel_tree=1,\n",
       "               objective='binary:logistic', random_state=0, reg_alpha=0,\n",
       "               reg_lambda=1, scale_pos_weight=1, subsample=1, tree_method=None,\n",
       "               validate_parameters=False, verbosity=None): 0.7633333333333333}"
      ]
     },
     "execution_count": 90,
     "metadata": {},
     "output_type": "execute_result"
    }
   ],
   "source": [
    "results, df_train, df_test = compare_models(models, X_train, y_train, X_test, y_test, categorical_variables, 'j')\n",
    "results"
   ]
  },
  {
   "cell_type": "code",
   "execution_count": 91,
   "metadata": {},
   "outputs": [
    {
     "name": "stdout",
     "output_type": "stream",
     "text": [
      "Mean: 0.7195238095238096\n"
     ]
    },
    {
     "data": {
      "text/plain": [
       "XGBClassifier(base_score=0.5, booster=None, colsample_bylevel=1,\n",
       "              colsample_bynode=1, colsample_bytree=1, gamma=0, gpu_id=-1,\n",
       "              importance_type='gain', interaction_constraints=None,\n",
       "              learning_rate=0.300000012, max_delta_step=0, max_depth=6,\n",
       "              min_child_weight=1, missing=nan, monotone_constraints=None,\n",
       "              n_estimators=100, n_jobs=0, num_parallel_tree=1,\n",
       "              objective='binary:logistic', random_state=0, reg_alpha=0,\n",
       "              reg_lambda=1, scale_pos_weight=1, subsample=1, tree_method=None,\n",
       "              validate_parameters=False, verbosity=None)"
      ]
     },
     "execution_count": 91,
     "metadata": {},
     "output_type": "execute_result"
    }
   ],
   "source": [
    "model = best_model(results)\n",
    "model"
   ]
  },
  {
   "cell_type": "code",
   "execution_count": 76,
   "metadata": {},
   "outputs": [
    {
     "data": {
      "image/png": "[encoded data removed]",
      "text/plain": [
       "<Figure size 360x360 with 1 Axes>"
      ]
     },
     "metadata": {},
     "output_type": "display_data"
    },
    {
     "name": "stdout",
     "output_type": "stream",
     "text": [
      "XGBClassifier(base_score=0.5, booster=None, colsample_bylevel=1,\n",
      "              colsample_bynode=1, colsample_bytree=1, gamma=0, gpu_id=-1,\n",
      "              importance_type='gain', interaction_constraints=None,\n",
      "              learning_rate=0.300000012, max_delta_step=0, max_depth=6,\n",
      "              min_child_weight=1, missing=nan, monotone_constraints=None,\n",
      "              n_estimators=100, n_jobs=0, num_parallel_tree=1,\n",
      "              objective='binary:logistic', random_state=0, reg_alpha=0,\n",
      "              reg_lambda=1, scale_pos_weight=1, subsample=1, tree_method=None,\n",
      "              validate_parameters=False, verbosity=None) 0.7710656089193825\n"
     ]
    }
   ],
   "source": [
    "plot_roc(model, df_test, y_test)"
   ]
  },
  {
   "cell_type": "markdown",
   "metadata": {},
   "source": [
    "## Cross validation"
   ]
  },
  {
   "cell_type": "markdown",
   "metadata": {},
   "source": [
    "https://scikit-learn.org/stable/modules/cross_validation.html?fbclid=IwAR37ckzi8ZtZ_L7RRl730BbA1i6IXs60nQVap8uW4InVppo9zlvxcPWRMFU"
   ]
  },
  {
   "cell_type": "markdown",
   "metadata": {},
   "source": [
    "![<Photo>](images/image.png)"
   ]
  },
  {
   "cell_type": "code",
   "execution_count": 178,
   "metadata": {},
   "outputs": [],
   "source": [
    "from typing import List\n",
    "from sklearn import metrics\n",
    "from sklearn.model_selection import cross_val_score\n",
    "\n",
    "\n",
    "def compare_models_CV(models_list: List, X_train, y_train, categorical_variables, method, cv: int, scoring: str):\n",
    "    results = dict()\n",
    "    \n",
    "    df_train, df_test = multiEnc(X_train, X_test, y_train, categorical_variables, len(categorical_variables) * method)\n",
    "    \n",
    "    \n",
    "    \n",
    "    for model in models_list:\n",
    "        \n",
    "        score =cross_val_score(model, df_train, y_train, cv=cv, scoring=scoring)\n",
    "        results[model] = score\n",
    "        \n",
    "    return results"
   ]
  },
  {
   "cell_type": "code",
   "execution_count": 179,
   "metadata": {},
   "outputs": [
    {
     "data": {
      "text/plain": [
       "{LogisticRegression(C=1.0, class_weight=None, dual=False, fit_intercept=True,\n",
       "                    intercept_scaling=1, l1_ratio=None, max_iter=100,\n",
       "                    multi_class='auto', n_jobs=None, penalty='l2',\n",
       "                    random_state=None, solver='lbfgs', tol=0.0001, verbose=0,\n",
       "                    warm_start=False): array([0.65720336, 0.66860725, 0.6556713 , 0.67058824, 0.74716202]),\n",
       " DecisionTreeClassifier(ccp_alpha=0.0, class_weight=None, criterion='gini',\n",
       "                        max_depth=None, max_features=None, max_leaf_nodes=None,\n",
       "                        min_impurity_decrease=0.0, min_impurity_split=None,\n",
       "                        min_samples_leaf=1, min_samples_split=2,\n",
       "                        min_weight_fraction_leaf=0.0, presort='deprecated',\n",
       "                        random_state=None, splitter='best'): array([0.66308943, 0.60335058, 0.63851628, 0.66625967, 0.60268318]),\n",
       " SVC(C=1.0, break_ties=False, cache_size=200, class_weight=None, coef0=0.0,\n",
       "     decision_function_shape='ovr', degree=3, gamma='scale', kernel='rbf',\n",
       "     max_iter=-1, probability=False, random_state=None, shrinking=True,\n",
       "     tol=0.001, verbose=False): array([0.48368794, 0.46070878, 0.5014154 , 0.47974731, 0.49712644])}"
      ]
     },
     "execution_count": 179,
     "metadata": {},
     "output_type": "execute_result"
    }
   ],
   "source": [
    "compare_models_CV(models, X_train, y_train, categorical_variables, '1', 5, 'f1_macro')"
   ]
  },
  {
   "cell_type": "code",
   "execution_count": 230,
   "metadata": {},
   "outputs": [
    {
     "data": {
      "text/plain": [
       "{LogisticRegression(C=1.0, class_weight=None, dual=False, fit_intercept=True,\n",
       "                    intercept_scaling=1, l1_ratio=None, max_iter=100,\n",
       "                    multi_class='auto', n_jobs=None, penalty='l2',\n",
       "                    random_state=None, solver='lbfgs', tol=0.0001, verbose=0,\n",
       "                    warm_start=False): array([0.55357143, 0.6478248 , 0.5146379 , 0.49712644, 0.50892857,\n",
       "        0.54741379, 0.44683908, 0.46778711, 0.5146379 , 0.40677966]),\n",
       " DecisionTreeClassifier(ccp_alpha=0.0, class_weight=None, criterion='gini',\n",
       "                        max_depth=None, max_features=None, max_leaf_nodes=None,\n",
       "                        min_impurity_decrease=0.0, min_impurity_split=None,\n",
       "                        min_samples_leaf=1, min_samples_split=2,\n",
       "                        min_weight_fraction_leaf=0.0, presort='deprecated',\n",
       "                        random_state=None, splitter='best'): array([0.61427447, 0.72163743, 0.66856061, 0.65      , 0.64756653,\n",
       "        0.61400144, 0.66856061, 0.59126682, 0.71104231, 0.53044376]),\n",
       " SVC(C=1.0, break_ties=False, cache_size=200, class_weight=None, coef0=0.0,\n",
       "     decision_function_shape='ovr', degree=3, gamma='scale', kernel='rbf',\n",
       "     max_iter=-1, probability=False, random_state=None, shrinking=True,\n",
       "     tol=0.001, verbose=False): array([0.41666667, 0.5373913 , 0.54741379, 0.46778711, 0.5146379 ,\n",
       "        0.41666667, 0.5373913 , 0.46778711, 0.5146379 , 0.41666667])}"
      ]
     },
     "execution_count": 230,
     "metadata": {},
     "output_type": "execute_result"
    }
   ],
   "source": [
    "compare_models_CV(models, X_train, y_train, categorical_variables, 'l', 10, 'f1_macro')"
   ]
  },
  {
   "cell_type": "markdown",
   "metadata": {},
   "source": [
    "## Conclusions"
   ]
  },
  {
   "cell_type": "markdown",
   "metadata": {},
   "source": [
    "For nominal columns try OneHot, Hashing, LeaveOneOut, and Target encoding. Avoid OneHot for high cardinality columns and decision tree-based algorithms.\n",
    "\n",
    "For ordinal columns try Ordinal (Integer), Binary, OneHot, LeaveOneOut, and Target. Helmert, Sum, BackwardDifference and Polynomial are less likely to be helpful, but if you have time or theoretic reason you might want to try them."
   ]
  },
  {
   "cell_type": "markdown",
   "metadata": {},
   "source": [
    "![<Photo>](images/table.png)"
   ]
  },
  {
   "cell_type": "code",
   "execution_count": 128,
   "metadata": {},
   "outputs": [],
   "source": []
  },
  {
   "cell_type": "code",
   "execution_count": null,
   "metadata": {},
   "outputs": [],
   "source": []
  }
 ],
 "metadata": {
  "kernelspec": {
   "display_name": "Python 3",
   "language": "python",
   "name": "python3"
  },
  "language_info": {
   "codemirror_mode": {
    "name": "ipython",
    "version": 3
   },
   "file_extension": ".py",
   "mimetype": "text/x-python",
   "name": "python",
   "nbconvert_exporter": "python",
   "pygments_lexer": "ipython3",
   "version": "3.6.5"
  }
 },
 "nbformat": 4,
 "nbformat_minor": 2
}
